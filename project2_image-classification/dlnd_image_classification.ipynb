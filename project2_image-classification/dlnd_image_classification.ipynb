{
 "cells": [
  {
   "cell_type": "markdown",
   "metadata": {
    "collapsed": true,
    "deletable": true,
    "editable": true
   },
   "source": [
    "# Image Classification\n",
    "In this project, you'll classify images from the [CIFAR-10 dataset](https://www.cs.toronto.edu/~kriz/cifar.html).  The dataset consists of airplanes, dogs, cats, and other objects. You'll preprocess the images, then train a convolutional neural network on all the samples. The images need to be normalized and the labels need to be one-hot encoded.  You'll get to apply what you learned and build a convolutional, max pooling, dropout, and fully connected layers.  At the end, you'll get to see your neural network's predictions on the sample images.\n",
    "## Get the Data\n",
    "Run the following cell to download the [CIFAR-10 dataset for python](https://www.cs.toronto.edu/~kriz/cifar-10-python.tar.gz)."
   ]
  },
  {
   "cell_type": "code",
   "execution_count": 84,
   "metadata": {
    "collapsed": false,
    "deletable": true,
    "editable": true
   },
   "outputs": [
    {
     "name": "stdout",
     "output_type": "stream",
     "text": [
      "All files found!\n"
     ]
    }
   ],
   "source": [
    "\"\"\"\n",
    "DON'T MODIFY ANYTHING IN THIS CELL THAT IS BELOW THIS LINE\n",
    "\"\"\"\n",
    "from urllib.request import urlretrieve\n",
    "from os.path import isfile, isdir\n",
    "from tqdm import tqdm\n",
    "import problem_unittests as tests\n",
    "import tarfile\n",
    "\n",
    "cifar10_dataset_folder_path = 'cifar-10-batches-py'\n",
    "\n",
    "# Use Floyd's cifar-10 dataset if present\n",
    "floyd_cifar10_location = '/input/cifar-10/python.tar.gz'\n",
    "if isfile(floyd_cifar10_location):\n",
    "    tar_gz_path = floyd_cifar10_location\n",
    "else:\n",
    "    tar_gz_path = 'cifar-10-python.tar.gz'\n",
    "\n",
    "class DLProgress(tqdm):\n",
    "    last_block = 0\n",
    "\n",
    "    def hook(self, block_num=1, block_size=1, total_size=None):\n",
    "        self.total = total_size\n",
    "        self.update((block_num - self.last_block) * block_size)\n",
    "        self.last_block = block_num\n",
    "\n",
    "if not isfile(tar_gz_path):\n",
    "    with DLProgress(unit='B', unit_scale=True, miniters=1, desc='CIFAR-10 Dataset') as pbar:\n",
    "        urlretrieve(\n",
    "            'https://www.cs.toronto.edu/~kriz/cifar-10-python.tar.gz',\n",
    "            tar_gz_path,\n",
    "            pbar.hook)\n",
    "\n",
    "if not isdir(cifar10_dataset_folder_path):\n",
    "    with tarfile.open(tar_gz_path) as tar:\n",
    "        tar.extractall()\n",
    "        tar.close()\n",
    "\n",
    "\n",
    "tests.test_folder_path(cifar10_dataset_folder_path)"
   ]
  },
  {
   "cell_type": "markdown",
   "metadata": {
    "deletable": true,
    "editable": true
   },
   "source": [
    "## Explore the Data\n",
    "The dataset is broken into batches to prevent your machine from running out of memory.  The CIFAR-10 dataset consists of 5 batches, named `data_batch_1`, `data_batch_2`, etc.. Each batch contains the labels and images that are one of the following:\n",
    "* airplane\n",
    "* automobile\n",
    "* bird\n",
    "* cat\n",
    "* deer\n",
    "* dog\n",
    "* frog\n",
    "* horse\n",
    "* ship\n",
    "* truck\n",
    "\n",
    "Understanding a dataset is part of making predictions on the data.  Play around with the code cell below by changing the `batch_id` and `sample_id`. The `batch_id` is the id for a batch (1-5). The `sample_id` is the id for a image and label pair in the batch.\n",
    "\n",
    "Ask yourself \"What are all possible labels?\", \"What is the range of values for the image data?\", \"Are the labels in order or random?\".  Answers to questions like these will help you preprocess the data and end up with better predictions."
   ]
  },
  {
   "cell_type": "code",
   "execution_count": 85,
   "metadata": {
    "collapsed": false,
    "deletable": true,
    "editable": true
   },
   "outputs": [
    {
     "name": "stdout",
     "output_type": "stream",
     "text": [
      "\n",
      "Stats of batch 1:\n",
      "Samples: 10000\n",
      "Label Counts: {0: 1005, 1: 974, 2: 1032, 3: 1016, 4: 999, 5: 937, 6: 1030, 7: 1001, 8: 1025, 9: 981}\n",
      "First 20 Labels: [6, 9, 9, 4, 1, 1, 2, 7, 8, 3, 4, 7, 7, 2, 9, 9, 9, 3, 2, 6]\n",
      "\n",
      "Example of Image 5:\n",
      "Image - Min Value: 0 Max Value: 252\n",
      "Image - Shape: (32, 32, 3)\n",
      "Label - Label Id: 1 Name: automobile\n"
     ]
    },
    {
     "data": {
      "image/png": "[encoded data removed]",
      "text/plain": [
       "<matplotlib.figure.Figure at 0x7f15f01916d8>"
      ]
     },
     "metadata": {
      "image/png": {
       "height": 250,
       "width": 253
      }
     },
     "output_type": "display_data"
    }
   ],
   "source": [
    "%matplotlib inline\n",
    "%config InlineBackend.figure_format = 'retina'\n",
    "\n",
    "import helper\n",
    "import numpy as np\n",
    "\n",
    "# Explore the dataset\n",
    "batch_id = 1\n",
    "sample_id = 5\n",
    "helper.display_stats(cifar10_dataset_folder_path, batch_id, sample_id)"
   ]
  },
  {
   "cell_type": "markdown",
   "metadata": {
    "deletable": true,
    "editable": true
   },
   "source": [
    "## Implement Preprocess Functions\n",
    "### Normalize\n",
    "In the cell below, implement the `normalize` function to take in image data, `x`, and return it as a normalized Numpy array. The values should be in the range of 0 to 1, inclusive.  The return object should be the same shape as `x`."
   ]
  },
  {
   "cell_type": "code",
   "execution_count": 86,
   "metadata": {
    "collapsed": false,
    "deletable": true,
    "editable": true
   },
   "outputs": [
    {
     "name": "stdout",
     "output_type": "stream",
     "text": [
      "Tests Passed\n"
     ]
    }
   ],
   "source": [
    "def normalize(x):\n",
    "    \"\"\"\n",
    "    Normalize a list of sample image data in the range of 0 to 1\n",
    "    : x: List of image data.  The image shape is (32, 32, 3)\n",
    "    : return: Numpy array of normalize data\n",
    "    \"\"\"\n",
    "    # TODO: Implement Function\n",
    "    return (x - np.min(x)) / (np.max(x) - np.min(x))\n",
    "\n",
    "\n",
    "\"\"\"\n",
    "DON'T MODIFY ANYTHING IN THIS CELL THAT IS BELOW THIS LINE\n",
    "\"\"\"\n",
    "tests.test_normalize(normalize)"
   ]
  },
  {
   "cell_type": "markdown",
   "metadata": {
    "deletable": true,
    "editable": true
   },
   "source": [
    "### One-hot encode\n",
    "Just like the previous code cell, you'll be implementing a function for preprocessing.  This time, you'll implement the `one_hot_encode` function. The input, `x`, are a list of labels.  Implement the function to return the list of labels as One-Hot encoded Numpy array.  The possible values for labels are 0 to 9. The one-hot encoding function should return the same encoding for each value between each call to `one_hot_encode`.  Make sure to save the map of encodings outside the function.\n",
    "\n",
    "Hint: Don't reinvent the wheel."
   ]
  },
  {
   "cell_type": "code",
   "execution_count": 87,
   "metadata": {
    "collapsed": false,
    "deletable": true,
    "editable": true
   },
   "outputs": [
    {
     "name": "stdout",
     "output_type": "stream",
     "text": [
      "Tests Passed\n"
     ]
    }
   ],
   "source": [
    "from sklearn import preprocessing\n",
    "def one_hot_encode(x):\n",
    "    \"\"\"\n",
    "    One hot encode a list of sample labels. Return a one-hot encoded vector for each label.\n",
    "    : x: List of sample Labels\n",
    "    : return: Numpy array of one-hot encoded labels\n",
    "    \"\"\"\n",
    "    # TODO: Implement Function\n",
    "    one_hot = np.zeros((len(x), 10))\n",
    "    one_hot[np.arange(len(x)), x] = 1\n",
    "    return one_hot\n",
    "\n",
    "\n",
    "\n",
    "\n",
    "\"\"\"\n",
    "DON'T MODIFY ANYTHING IN THIS CELL THAT IS BELOW THIS LINE\n",
    "\"\"\"\n",
    "tests.test_one_hot_encode(one_hot_encode)"
   ]
  },
  {
   "cell_type": "markdown",
   "metadata": {
    "deletable": true,
    "editable": true
   },
   "source": [
    "### Randomize Data\n",
    "As you saw from exploring the data above, the order of the samples are randomized.  It doesn't hurt to randomize it again, but you don't need to for this dataset."
   ]
  },
  {
   "cell_type": "markdown",
   "metadata": {
    "deletable": true,
    "editable": true
   },
   "source": [
    "## Preprocess all the data and save it\n",
    "Running the code cell below will preprocess all the CIFAR-10 data and save it to file. The code below also uses 10% of the training data for validation."
   ]
  },
  {
   "cell_type": "code",
   "execution_count": 88,
   "metadata": {
    "collapsed": false,
    "deletable": true,
    "editable": true
   },
   "outputs": [],
   "source": [
    "\"\"\"\n",
    "DON'T MODIFY ANYTHING IN THIS CELL\n",
    "\"\"\"\n",
    "# Preprocess Training, Validation, and Testing Data\n",
    "helper.preprocess_and_save_data(cifar10_dataset_folder_path, normalize, one_hot_encode)"
   ]
  },
  {
   "cell_type": "markdown",
   "metadata": {
    "deletable": true,
    "editable": true
   },
   "source": [
    "# Check Point\n",
    "This is your first checkpoint.  If you ever decide to come back to this notebook or have to restart the notebook, you can start from here.  The preprocessed data has been saved to disk."
   ]
  },
  {
   "cell_type": "code",
   "execution_count": 89,
   "metadata": {
    "collapsed": true,
    "deletable": true,
    "editable": true
   },
   "outputs": [],
   "source": [
    "\"\"\"\n",
    "DON'T MODIFY ANYTHING IN THIS CELL\n",
    "\"\"\"\n",
    "import pickle\n",
    "import problem_unittests as tests\n",
    "import helper\n",
    "\n",
    "# Load the Preprocessed Validation data\n",
    "valid_features, valid_labels = pickle.load(open('preprocess_validation.p', mode='rb'))"
   ]
  },
  {
   "cell_type": "markdown",
   "metadata": {
    "deletable": true,
    "editable": true
   },
   "source": [
    "## Build the network\n",
    "For the neural network, you'll build each layer into a function.  Most of the code you've seen has been outside of functions. To test your code more thoroughly, we require that you put each layer in a function.  This allows us to give you better feedback and test for simple mistakes using our unittests before you submit your project.\n",
    "\n",
    ">**Note:** If you're finding it hard to dedicate enough time for this course each week, we've provided a small shortcut to this part of the project. In the next couple of problems, you'll have the option to use classes from the [TensorFlow Layers](https://www.tensorflow.org/api_docs/python/tf/layers) or [TensorFlow Layers (contrib)](https://www.tensorflow.org/api_guides/python/contrib.layers) packages to build each layer, except the layers you build in the \"Convolutional and Max Pooling Layer\" section.  TF Layers is similar to Keras's and TFLearn's abstraction to layers, so it's easy to pickup.\n",
    "\n",
    ">However, if you would like to get the most out of this course, try to solve all the problems _without_ using anything from the TF Layers packages. You **can** still use classes from other packages that happen to have the same name as ones you find in TF Layers! For example, instead of using the TF Layers version of the `conv2d` class, [tf.layers.conv2d](https://www.tensorflow.org/api_docs/python/tf/layers/conv2d), you would want to use the TF Neural Network version of `conv2d`, [tf.nn.conv2d](https://www.tensorflow.org/api_docs/python/tf/nn/conv2d). \n",
    "\n",
    "Let's begin!\n",
    "\n",
    "### Input\n",
    "The neural network needs to read the image data, one-hot encoded labels, and dropout keep probability. Implement the following functions\n",
    "* Implement `neural_net_image_input`\n",
    " * Return a [TF Placeholder](https://www.tensorflow.org/api_docs/python/tf/placeholder)\n",
    " * Set the shape using `image_shape` with batch size set to `None`.\n",
    " * Name the TensorFlow placeholder \"x\" using the TensorFlow `name` parameter in the [TF Placeholder](https://www.tensorflow.org/api_docs/python/tf/placeholder).\n",
    "* Implement `neural_net_label_input`\n",
    " * Return a [TF Placeholder](https://www.tensorflow.org/api_docs/python/tf/placeholder)\n",
    " * Set the shape using `n_classes` with batch size set to `None`.\n",
    " * Name the TensorFlow placeholder \"y\" using the TensorFlow `name` parameter in the [TF Placeholder](https://www.tensorflow.org/api_docs/python/tf/placeholder).\n",
    "* Implement `neural_net_keep_prob_input`\n",
    " * Return a [TF Placeholder](https://www.tensorflow.org/api_docs/python/tf/placeholder) for dropout keep probability.\n",
    " * Name the TensorFlow placeholder \"keep_prob\" using the TensorFlow `name` parameter in the [TF Placeholder](https://www.tensorflow.org/api_docs/python/tf/placeholder).\n",
    "\n",
    "These names will be used at the end of the project to load your saved model.\n",
    "\n",
    "Note: `None` for shapes in TensorFlow allow for a dynamic size."
   ]
  },
  {
   "cell_type": "code",
   "execution_count": 90,
   "metadata": {
    "collapsed": false,
    "deletable": true,
    "editable": true
   },
   "outputs": [
    {
     "name": "stdout",
     "output_type": "stream",
     "text": [
      "Image Input Tests Passed.\n",
      "Label Input Tests Passed.\n",
      "Keep Prob Tests Passed.\n"
     ]
    }
   ],
   "source": [
    "import tensorflow as tf\n",
    "\n",
    "def neural_net_image_input(image_shape):\n",
    "    \"\"\"\n",
    "    Return a Tensor for a bach of image input\n",
    "    : image_shape: Shape of the images\n",
    "    : return: Tensor for image input.\n",
    "    \"\"\"\n",
    "    # TODO: Implement Function\n",
    "    #with tf.Session() as sess:\n",
    "    #    print(sess.run(y))  # ERROR: will fail because x was not fed.\n",
    "\n",
    "    #    rand_array = np.random.rand(1024, 1024)\n",
    "    #    print(sess.run(y, feed_dict={x: rand_array}))  \n",
    "\n",
    "    return tf.placeholder(tf.float32, shape = (None, *image_shape), name = \"x\")\n",
    "\n",
    "    #return None\n",
    "\n",
    "\n",
    "def neural_net_label_input(n_classes):\n",
    "    \"\"\"\n",
    "    Return a Tensor for a batch of label input\n",
    "    : n_classes: Number of classes\n",
    "    : return: Tensor for label input.\n",
    "    \"\"\"\n",
    "    # TODO: Implement Function\n",
    "    # tf.placeholder(tf.float32, shape = [None, n_classes], name='y')\n",
    "    return tf.placeholder(tf.float32, shape=(None, n_classes), name=\"y\")\n",
    "\n",
    "\n",
    "def neural_net_keep_prob_input():\n",
    "    \"\"\"\n",
    "    Return a Tensor for keep probability\n",
    "    : return: Tensor for keep probability.\n",
    "    \"\"\"\n",
    "    # TODO: Implement Function\n",
    "    return tf.placeholder(tf.float32, name=\"keep_prob\")\n",
    "\n",
    "\n",
    "\"\"\"\n",
    "DON'T MODIFY ANYTHING IN THIS CELL THAT IS BELOW THIS LINE\n",
    "\"\"\"\n",
    "tf.reset_default_graph()\n",
    "tests.test_nn_image_inputs(neural_net_image_input)\n",
    "tests.test_nn_label_inputs(neural_net_label_input)\n",
    "tests.test_nn_keep_prob_inputs(neural_net_keep_prob_input)"
   ]
  },
  {
   "cell_type": "markdown",
   "metadata": {
    "deletable": true,
    "editable": true
   },
   "source": [
    "### Convolution and Max Pooling Layer\n",
    "Convolution layers have a lot of success with images. For this code cell, you should implement the function `conv2d_maxpool` to apply convolution then max pooling:\n",
    "* Create the weight and bias using `conv_ksize`, `conv_num_outputs` and the shape of `x_tensor`.\n",
    "* Apply a convolution to `x_tensor` using weight and `conv_strides`.\n",
    " * We recommend you use same padding, but you're welcome to use any padding.\n",
    "* Add bias\n",
    "* Add a nonlinear activation to the convolution.\n",
    "* Apply Max Pooling using `pool_ksize` and `pool_strides`.\n",
    " * We recommend you use same padding, but you're welcome to use any padding.\n",
    "\n",
    "**Note:** You **can't** use [TensorFlow Layers](https://www.tensorflow.org/api_docs/python/tf/layers) or [TensorFlow Layers (contrib)](https://www.tensorflow.org/api_guides/python/contrib.layers) for **this** layer, but you can still use TensorFlow's [Neural Network](https://www.tensorflow.org/api_docs/python/tf/nn) package. You may still use the shortcut option for all the **other** layers."
   ]
  },
  {
   "cell_type": "code",
   "execution_count": 91,
   "metadata": {
    "collapsed": false,
    "deletable": true,
    "editable": true
   },
   "outputs": [
    {
     "name": "stdout",
     "output_type": "stream",
     "text": [
      "Tests Passed\n"
     ]
    }
   ],
   "source": [
    "def conv2d_maxpool(x_tensor, conv_num_outputs, conv_ksize, conv_strides, pool_ksize, pool_strides):\n",
    "    \"\"\"\n",
    "    Apply convolution then max pooling to x_tensor\n",
    "    :param x_tensor: TensorFlow Tensor\n",
    "    :param conv_num_outputs: Number of outputs for the convolutional layer\n",
    "    :param conv_ksize: kernal size 2-D Tuple for the convolutional layer\n",
    "    :param conv_strides: Stride 2-D Tuple for convolution\n",
    "    :param pool_ksize: kernal size 2-D Tuple for pool\n",
    "    :param pool_strides: Stride 2-D Tuple for pool\n",
    "    : return: A tensor that represents convolution and max pooling of x_tensor\n",
    "    \"\"\"\n",
    "    # TODO: Implement Function\n",
    "\n",
    "    color_channels = x_tensor.get_shape()[3].value\n",
    "    weights = tf.Variable(tf.truncated_normal([conv_ksize[0], conv_ksize[1], color_channels, conv_num_outputs], mean=0, stddev=0.1))\n",
    "    bias = tf.Variable(tf.zeros(conv_num_outputs))\n",
    "    \n",
    "    #apply convolution\n",
    "    layer = tf.nn.conv2d(x_tensor, weights, strides=[1, conv_strides[0], conv_strides[1], 1], padding='SAME')\n",
    "    \n",
    "    #add bias\n",
    "    layer = tf.nn.bias_add(layer, bias)\n",
    "    \n",
    "    #add nonlinear activation function\n",
    "    layer = tf.nn.relu(layer)\n",
    "                          \n",
    "    #apply Max Pooling\n",
    "    layer = tf.nn.max_pool(layer, ksize=[1, pool_ksize[0], pool_ksize[1], 1], strides=[1, pool_strides[0], pool_strides[1], 1], padding='SAME')\n",
    "\n",
    "    return layer\n",
    "\n",
    "\n",
    "\"\"\"\n",
    "DON'T MODIFY ANYTHING IN THIS CELL THAT IS BELOW THIS LINE\n",
    "\"\"\"\n",
    "tests.test_con_pool(conv2d_maxpool)"
   ]
  },
  {
   "cell_type": "markdown",
   "metadata": {
    "deletable": true,
    "editable": true
   },
   "source": [
    "### Flatten Layer\n",
    "Implement the `flatten` function to change the dimension of `x_tensor` from a 4-D tensor to a 2-D tensor.  The output should be the shape (*Batch Size*, *Flattened Image Size*). Shortcut option: you can use classes from the [TensorFlow Layers](https://www.tensorflow.org/api_docs/python/tf/layers) or [TensorFlow Layers (contrib)](https://www.tensorflow.org/api_guides/python/contrib.layers) packages for this layer. For more of a challenge, only use other TensorFlow packages."
   ]
  },
  {
   "cell_type": "code",
   "execution_count": 92,
   "metadata": {
    "collapsed": false,
    "deletable": true,
    "editable": true
   },
   "outputs": [
    {
     "name": "stdout",
     "output_type": "stream",
     "text": [
      "Tests Passed\n"
     ]
    }
   ],
   "source": [
    "def flatten(x_tensor):\n",
    "    \"\"\"\n",
    "    Flatten x_tensor to (Batch Size, Flattened Image Size)\n",
    "    : x_tensor: A tensor of size (Batch Size, ...), where ... are the image dimensions.\n",
    "    : return: A tensor of size (Batch Size, Flattened Image Size).\n",
    "    \"\"\"\n",
    "    # TODO: Implement Function\n",
    "\n",
    "    return tf.contrib.layers.flatten(x_tensor)\n",
    "\n",
    "\"\"\"\n",
    "DON'T MODIFY ANYTHING IN THIS CELL THAT IS BELOW THIS LINE\n",
    "\"\"\"\n",
    "tests.test_flatten(flatten)"
   ]
  },
  {
   "cell_type": "markdown",
   "metadata": {
    "deletable": true,
    "editable": true
   },
   "source": [
    "### Fully-Connected Layer\n",
    "Implement the `fully_conn` function to apply a fully connected layer to `x_tensor` with the shape (*Batch Size*, *num_outputs*). Shortcut option: you can use classes from the [TensorFlow Layers](https://www.tensorflow.org/api_docs/python/tf/layers) or [TensorFlow Layers (contrib)](https://www.tensorflow.org/api_guides/python/contrib.layers) packages for this layer. For more of a challenge, only use other TensorFlow packages."
   ]
  },
  {
   "cell_type": "code",
   "execution_count": 93,
   "metadata": {
    "collapsed": false,
    "deletable": true,
    "editable": true
   },
   "outputs": [
    {
     "name": "stdout",
     "output_type": "stream",
     "text": [
      "Tests Passed\n"
     ]
    }
   ],
   "source": [
    "def fully_conn(x_tensor, num_outputs):\n",
    "    \"\"\"\n",
    "    Apply a fully connected layer to x_tensor using weight and bias\n",
    "    : x_tensor: A 2-D tensor where the first dimension is batch size.\n",
    "    : num_outputs: The number of output that the new tensor should be.\n",
    "    : return: A 2-D tensor where the second dimension is num_outputs.\n",
    "    \"\"\"\n",
    "    # TODO: Implement Function\n",
    "    #create the weights and bias\n",
    "    size = x_tensor.get_shape()[1].value\n",
    "    weights = tf.Variable(tf.truncated_normal([size, num_outputs], mean=0, stddev=0.1))\n",
    "    bias = tf.Variable(tf.zeros(num_outputs))\n",
    "\n",
    "    # apply matmul\n",
    "    layer = tf.matmul(x_tensor, weights)\n",
    "\n",
    "    #add bias\n",
    "    layer = tf.nn.bias_add(layer, bias)\n",
    "\n",
    "    # apply relu\n",
    "    layer = tf.nn.relu(layer)\n",
    "    \n",
    "    return layer\n",
    "\n",
    "\n",
    "\"\"\"\n",
    "DON'T MODIFY ANYTHING IN THIS CELL THAT IS BELOW THIS LINE\n",
    "\"\"\"\n",
    "tests.test_fully_conn(fully_conn)"
   ]
  },
  {
   "cell_type": "markdown",
   "metadata": {
    "deletable": true,
    "editable": true
   },
   "source": [
    "### Output Layer\n",
    "Implement the `output` function to apply a fully connected layer to `x_tensor` with the shape (*Batch Size*, *num_outputs*). Shortcut option: you can use classes from the [TensorFlow Layers](https://www.tensorflow.org/api_docs/python/tf/layers) or [TensorFlow Layers (contrib)](https://www.tensorflow.org/api_guides/python/contrib.layers) packages for this layer. For more of a challenge, only use other TensorFlow packages.\n",
    "\n",
    "**Note:** Activation, softmax, or cross entropy should **not** be applied to this."
   ]
  },
  {
   "cell_type": "code",
   "execution_count": 94,
   "metadata": {
    "collapsed": false,
    "deletable": true,
    "editable": true
   },
   "outputs": [
    {
     "name": "stdout",
     "output_type": "stream",
     "text": [
      "Tests Passed\n"
     ]
    }
   ],
   "source": [
    "def output(x_tensor, num_outputs):\n",
    "    \"\"\"\n",
    "    Apply a output layer to x_tensor using weight and bias\n",
    "    : x_tensor: A 2-D tensor where the first dimension is batch size.\n",
    "    : num_outputs: The number of output that the new tensor should be.\n",
    "    : return: A 2-D tensor where the second dimension is num_outputs.\n",
    "    \"\"\"\n",
    "    size = x_tensor.get_shape()[1].value\n",
    "    weights = tf.Variable(tf.truncated_normal([size, num_outputs], mean=0, stddev=0.1))\n",
    "    bias = tf.Variable(tf.zeros(num_outputs))\n",
    "\n",
    "    layer = tf.matmul(x_tensor, weights)\n",
    "\n",
    "    #add bias\n",
    "    layer = tf.nn.bias_add(layer, bias)\n",
    "\n",
    "    return layer\n",
    "\n",
    "\n",
    "\"\"\"\n",
    "DON'T MODIFY ANYTHING IN THIS CELL THAT IS BELOW THIS LINE\n",
    "\"\"\"\n",
    "tests.test_output(output)"
   ]
  },
  {
   "cell_type": "markdown",
   "metadata": {
    "deletable": true,
    "editable": true
   },
   "source": [
    "### Create Convolutional Model\n",
    "Implement the function `conv_net` to create a convolutional neural network model. The function takes in a batch of images, `x`, and outputs logits.  Use the layers you created above to create this model:\n",
    "\n",
    "* Apply 1, 2, or 3 Convolution and Max Pool layers\n",
    "* Apply a Flatten Layer\n",
    "* Apply 1, 2, or 3 Fully Connected Layers\n",
    "* Apply an Output Layer\n",
    "* Return the output\n",
    "* Apply [TensorFlow's Dropout](https://www.tensorflow.org/api_docs/python/tf/nn/dropout) to one or more layers in the model using `keep_prob`. "
   ]
  },
  {
   "cell_type": "code",
   "execution_count": 95,
   "metadata": {
    "collapsed": false,
    "deletable": true,
    "editable": true
   },
   "outputs": [
    {
     "name": "stdout",
     "output_type": "stream",
     "text": [
      "Neural Network Built!\n"
     ]
    }
   ],
   "source": [
    "def conv_net(x, keep_prob):\n",
    "    \"\"\"\n",
    "    Create a convolutional neural network model\n",
    "    : x: Placeholder tensor that holds image data.\n",
    "    : keep_prob: Placeholder tensor that hold dropout keep probability.\n",
    "    : return: Tensor that represents logits\n",
    "    \"\"\"\n",
    "    # TODO: Apply 1, 2, or 3 Convolution and Max Pool layers\n",
    "    #    Play around with different number of outputs, kernel size and stride\n",
    "    # Function Definition from Above:\n",
    "    #    conv2d_maxpool(x_tensor, conv_num_outputs, conv_ksize, conv_strides, pool_ksize, pool_strides)\n",
    "    conv_ksize = (3, 3)\n",
    "    pool_ksize = (2, 2)\n",
    "    pool_strides = (2, 2)\n",
    "    \n",
    "    x = conv2d_maxpool(x, 16, conv_ksize, (1, 1), pool_ksize, pool_strides)\n",
    "    x = conv2d_maxpool(x, 32, conv_ksize, (2, 2), pool_ksize, pool_strides)\n",
    "    x = conv2d_maxpool(x, 64, conv_ksize, (1, 1), pool_ksize, pool_strides)\n",
    "    \n",
    "\n",
    "    # TODO: Apply a Flatten Layer\n",
    "    # Function Definition from Above:\n",
    "    x = flatten(x)\n",
    "    \n",
    "\n",
    "    # TODO: Apply 1, 2, or 3 Fully Connected Layers\n",
    "    #    Play around with different number of outputs\n",
    "    # Function Definition from Above:\n",
    "    #   fully_conn(x_tensor, num_outputs)\n",
    "    x = fully_conn(x, 10)\n",
    "    x = tf.nn.dropout(x, keep_prob)\n",
    "    \n",
    "    # TODO: Apply an Output Layer\n",
    "    #    Set this to the number of classes\n",
    "    # Function Definition from Above:\n",
    "    #   output(x_tensor, num_outputs)\n",
    "    out = output(x,10)\n",
    "    \n",
    "    # TODO: return output\n",
    "    return out\n",
    "\n",
    "\n",
    "\"\"\"\n",
    "DON'T MODIFY ANYTHING IN THIS CELL THAT IS BELOW THIS LINE\n",
    "\"\"\"\n",
    "\n",
    "##############################\n",
    "## Build the Neural Network ##\n",
    "##############################\n",
    "\n",
    "# Remove previous weights, bias, inputs, etc..\n",
    "tf.reset_default_graph()\n",
    "\n",
    "# Inputs\n",
    "x = neural_net_image_input((32, 32, 3))\n",
    "y = neural_net_label_input(10)\n",
    "keep_prob = neural_net_keep_prob_input()\n",
    "\n",
    "# Model\n",
    "logits = conv_net(x, keep_prob)\n",
    "\n",
    "# Name logits Tensor, so that is can be loaded from disk after training\n",
    "logits = tf.identity(logits, name='logits')\n",
    "\n",
    "# Loss and Optimizer\n",
    "cost = tf.reduce_mean(tf.nn.softmax_cross_entropy_with_logits(logits=logits, labels=y))\n",
    "optimizer = tf.train.AdamOptimizer().minimize(cost)\n",
    "\n",
    "# Accuracy\n",
    "correct_pred = tf.equal(tf.argmax(logits, 1), tf.argmax(y, 1))\n",
    "accuracy = tf.reduce_mean(tf.cast(correct_pred, tf.float32), name='accuracy')\n",
    "\n",
    "tests.test_conv_net(conv_net)"
   ]
  },
  {
   "cell_type": "markdown",
   "metadata": {
    "deletable": true,
    "editable": true
   },
   "source": [
    "## Train the Neural Network\n",
    "### Single Optimization\n",
    "Implement the function `train_neural_network` to do a single optimization.  The optimization should use `optimizer` to optimize in `session` with a `feed_dict` of the following:\n",
    "* `x` for image input\n",
    "* `y` for labels\n",
    "* `keep_prob` for keep probability for dropout\n",
    "\n",
    "This function will be called for each batch, so `tf.global_variables_initializer()` has already been called.\n",
    "\n",
    "Note: Nothing needs to be returned. This function is only optimizing the neural network."
   ]
  },
  {
   "cell_type": "code",
   "execution_count": 96,
   "metadata": {
    "collapsed": false,
    "deletable": true,
    "editable": true
   },
   "outputs": [
    {
     "name": "stdout",
     "output_type": "stream",
     "text": [
      "Tests Passed\n"
     ]
    }
   ],
   "source": [
    "def train_neural_network(session, optimizer, keep_probability, feature_batch, label_batch):\n",
    "    \"\"\"\n",
    "    Optimize the session on a batch of images and labels\n",
    "    : session: Current TensorFlow session\n",
    "    : optimizer: TensorFlow optimizer function\n",
    "    : keep_probability: keep probability\n",
    "    : feature_batch: Batch of Numpy image data\n",
    "    : label_batch: Batch of Numpy label data\n",
    "    \"\"\"\n",
    "    # TODO: Implement Function\n",
    "    session.run(optimizer, feed_dict={x: feature_batch, y: label_batch, keep_prob: keep_probability})\n",
    "\n",
    "\n",
    "\"\"\"\n",
    "DON'T MODIFY ANYTHING IN THIS CELL THAT IS BELOW THIS LINE\n",
    "\"\"\"\n",
    "tests.test_train_nn(train_neural_network)"
   ]
  },
  {
   "cell_type": "markdown",
   "metadata": {
    "deletable": true,
    "editable": true
   },
   "source": [
    "### Show Stats\n",
    "Implement the function `print_stats` to print loss and validation accuracy.  Use the global variables `valid_features` and `valid_labels` to calculate validation accuracy.  Use a keep probability of `1.0` to calculate the loss and validation accuracy."
   ]
  },
  {
   "cell_type": "code",
   "execution_count": 97,
   "metadata": {
    "collapsed": false,
    "deletable": true,
    "editable": true
   },
   "outputs": [],
   "source": [
    "def print_stats(session, feature_batch, label_batch, cost, accuracy):\n",
    "    \"\"\"\n",
    "    Print information about loss and validation accuracy\n",
    "    : session: Current TensorFlow session\n",
    "    : feature_batch: Batch of Numpy image data\n",
    "    : label_batch: Batch of Numpy label data\n",
    "    : cost: TensorFlow cost function\n",
    "    : accuracy: TensorFlow accuracy function\n",
    "    \"\"\"\n",
    "    # TODO: Implement Function\n",
    "    loss = session.run(cost, feed_dict={\n",
    "        x: feature_batch,\n",
    "        y: label_batch,\n",
    "        keep_prob: 1.0\n",
    "    })\n",
    "    validation_accuracy = session.run(accuracy, feed_dict={\n",
    "        x: valid_features,\n",
    "        y: valid_labels,\n",
    "        keep_prob: 1.\n",
    "    })\n",
    "    print (\"loss, accuracy\", loss, validation_accuracy)"
   ]
  },
  {
   "cell_type": "markdown",
   "metadata": {
    "deletable": true,
    "editable": true
   },
   "source": [
    "### Hyperparameters\n",
    "Tune the following parameters:\n",
    "* Set `epochs` to the number of iterations until the network stops learning or start overfitting\n",
    "* Set `batch_size` to the highest number that your machine has memory for.  Most people set them to common sizes of memory:\n",
    " * 64\n",
    " * 128\n",
    " * 256\n",
    " * ...\n",
    "* Set `keep_probability` to the probability of keeping a node using dropout"
   ]
  },
  {
   "cell_type": "code",
   "execution_count": 104,
   "metadata": {
    "collapsed": true,
    "deletable": true,
    "editable": true
   },
   "outputs": [],
   "source": [
    "# TODO: Tune Parameters\n",
    "epochs =40\n",
    "batch_size = 256\n",
    "keep_probability = 0.75"
   ]
  },
  {
   "cell_type": "markdown",
   "metadata": {
    "deletable": true,
    "editable": true
   },
   "source": [
    "### Train on a Single CIFAR-10 Batch\n",
    "Instead of training the neural network on all the CIFAR-10 batches of data, let's use a single batch. This should save time while you iterate on the model to get a better accuracy.  Once the final validation accuracy is 50% or greater, run the model on all the data in the next section."
   ]
  },
  {
   "cell_type": "code",
   "execution_count": 103,
   "metadata": {
    "collapsed": false,
    "deletable": true,
    "editable": true
   },
   "outputs": [
    {
     "name": "stdout",
     "output_type": "stream",
     "text": [
      "Checking the Training on a Single Batch...\n",
      "Epoch  1, CIFAR-10 Batch 1:  loss, accuracy 2.27014 0.175\n",
      "Epoch  2, CIFAR-10 Batch 1:  loss, accuracy 2.20258 0.229\n",
      "Epoch  3, CIFAR-10 Batch 1:  loss, accuracy 2.17491 0.2346\n",
      "Epoch  4, CIFAR-10 Batch 1:  loss, accuracy 2.18875 0.274\n",
      "Epoch  5, CIFAR-10 Batch 1:  loss, accuracy 2.12043 0.2636\n"
     ]
    }
   ],
   "source": [
    "\"\"\"\n",
    "DON'T MODIFY ANYTHING IN THIS CELL\n",
    "\"\"\"\n",
    "print('Checking the Training on a Single Batch...')\n",
    "with tf.Session() as sess:\n",
    "    # Initializing the variables\n",
    "    sess.run(tf.global_variables_initializer())\n",
    "    \n",
    "    # Training cycle\n",
    "    for epoch in range(epochs):\n",
    "        batch_i = 1\n",
    "        for batch_features, batch_labels in helper.load_preprocess_training_batch(batch_i, batch_size):\n",
    "            train_neural_network(sess, optimizer, keep_probability, batch_features, batch_labels)\n",
    "        print('Epoch {:>2}, CIFAR-10 Batch {}:  '.format(epoch + 1, batch_i), end='')\n",
    "        print_stats(sess, batch_features, batch_labels, cost, accuracy)"
   ]
  },
  {
   "cell_type": "markdown",
   "metadata": {
    "deletable": true,
    "editable": true
   },
   "source": [
    "### Fully Train the Model\n",
    "Now that you got a good accuracy with a single CIFAR-10 batch, try it with all five batches."
   ]
  },
  {
   "cell_type": "code",
   "execution_count": 100,
   "metadata": {
    "collapsed": false,
    "deletable": true,
    "editable": true
   },
   "outputs": [
    {
     "name": "stdout",
     "output_type": "stream",
     "text": [
      "Training...\n",
      "Epoch  1, CIFAR-10 Batch 1:  loss, accuracy 2.26531 0.183\n",
      "Epoch  1, CIFAR-10 Batch 2:  loss, accuracy 2.20518 0.1756\n",
      "Epoch  1, CIFAR-10 Batch 3:  loss, accuracy 1.93997 0.2452\n",
      "Epoch  1, CIFAR-10 Batch 4:  loss, accuracy 1.8985 0.2688\n",
      "Epoch  1, CIFAR-10 Batch 5:  loss, accuracy 1.92697 0.2886\n",
      "Epoch  2, CIFAR-10 Batch 1:  loss, accuracy 2.1044 0.2646\n",
      "Epoch  2, CIFAR-10 Batch 2:  loss, accuracy 1.88766 0.3188\n",
      "Epoch  2, CIFAR-10 Batch 3:  loss, accuracy 1.62217 0.314\n",
      "Epoch  2, CIFAR-10 Batch 4:  loss, accuracy 1.72151 0.3262\n",
      "Epoch  2, CIFAR-10 Batch 5:  loss, accuracy 1.70415 0.348\n",
      "Epoch  3, CIFAR-10 Batch 1:  loss, accuracy 1.90208 0.3544\n",
      "Epoch  3, CIFAR-10 Batch 2:  loss, accuracy 1.84237 0.3486\n",
      "Epoch  3, CIFAR-10 Batch 3:  loss, accuracy 1.47702 0.3398\n",
      "Epoch  3, CIFAR-10 Batch 4:  loss, accuracy 1.64257 0.3562\n",
      "Epoch  3, CIFAR-10 Batch 5:  loss, accuracy 1.65082 0.3618\n",
      "Epoch  4, CIFAR-10 Batch 1:  loss, accuracy 1.78499 0.3514\n",
      "Epoch  4, CIFAR-10 Batch 2:  loss, accuracy 1.81459 0.3756\n",
      "Epoch  4, CIFAR-10 Batch 3:  loss, accuracy 1.47953 0.369\n",
      "Epoch  4, CIFAR-10 Batch 4:  loss, accuracy 1.62532 0.3786\n",
      "Epoch  4, CIFAR-10 Batch 5:  loss, accuracy 1.60605 0.3756\n",
      "Epoch  5, CIFAR-10 Batch 1:  loss, accuracy 1.74565 0.3546\n",
      "Epoch  5, CIFAR-10 Batch 2:  loss, accuracy 1.7923 0.3912\n",
      "Epoch  5, CIFAR-10 Batch 3:  loss, accuracy 1.43032 0.391\n",
      "Epoch  5, CIFAR-10 Batch 4:  loss, accuracy 1.59677 0.3828\n",
      "Epoch  5, CIFAR-10 Batch 5:  loss, accuracy 1.576 0.3922\n",
      "Epoch  6, CIFAR-10 Batch 1:  loss, accuracy 1.73026 0.3824\n",
      "Epoch  6, CIFAR-10 Batch 2:  loss, accuracy 1.74178 0.396\n",
      "Epoch  6, CIFAR-10 Batch 3:  loss, accuracy 1.42364 0.4026\n",
      "Epoch  6, CIFAR-10 Batch 4:  loss, accuracy 1.57491 0.3966\n",
      "Epoch  6, CIFAR-10 Batch 5:  loss, accuracy 1.51897 0.4034\n",
      "Epoch  7, CIFAR-10 Batch 1:  loss, accuracy 1.66405 0.398\n",
      "Epoch  7, CIFAR-10 Batch 2:  loss, accuracy 1.69078 0.4194\n",
      "Epoch  7, CIFAR-10 Batch 3:  loss, accuracy 1.38904 0.4082\n",
      "Epoch  7, CIFAR-10 Batch 4:  loss, accuracy 1.56013 0.4162\n",
      "Epoch  7, CIFAR-10 Batch 5:  loss, accuracy 1.49419 0.4116\n",
      "Epoch  8, CIFAR-10 Batch 1:  loss, accuracy 1.61261 0.4098\n",
      "Epoch  8, CIFAR-10 Batch 2:  loss, accuracy 1.61895 0.4228\n",
      "Epoch  8, CIFAR-10 Batch 3:  loss, accuracy 1.32968 0.4236\n",
      "Epoch  8, CIFAR-10 Batch 4:  loss, accuracy 1.54068 0.4232\n",
      "Epoch  8, CIFAR-10 Batch 5:  loss, accuracy 1.49377 0.4294\n",
      "Epoch  9, CIFAR-10 Batch 1:  loss, accuracy 1.55506 0.4214\n",
      "Epoch  9, CIFAR-10 Batch 2:  loss, accuracy 1.60576 0.4266\n",
      "Epoch  9, CIFAR-10 Batch 3:  loss, accuracy 1.28982 0.4278\n",
      "Epoch  9, CIFAR-10 Batch 4:  loss, accuracy 1.5111 0.418\n",
      "Epoch  9, CIFAR-10 Batch 5:  loss, accuracy 1.40879 0.4344\n",
      "Epoch 10, CIFAR-10 Batch 1:  loss, accuracy 1.51342 0.4316\n",
      "Epoch 10, CIFAR-10 Batch 2:  loss, accuracy 1.50038 0.4434\n",
      "Epoch 10, CIFAR-10 Batch 3:  loss, accuracy 1.23427 0.4302\n",
      "Epoch 10, CIFAR-10 Batch 4:  loss, accuracy 1.4254 0.4324\n",
      "Epoch 10, CIFAR-10 Batch 5:  loss, accuracy 1.36722 0.4498\n",
      "Epoch 11, CIFAR-10 Batch 1:  loss, accuracy 1.4256 0.442\n",
      "Epoch 11, CIFAR-10 Batch 2:  loss, accuracy 1.46025 0.4538\n",
      "Epoch 11, CIFAR-10 Batch 3:  loss, accuracy 1.18971 0.4376\n",
      "Epoch 11, CIFAR-10 Batch 4:  loss, accuracy 1.38692 0.4428\n",
      "Epoch 11, CIFAR-10 Batch 5:  loss, accuracy 1.33525 0.451\n",
      "Epoch 12, CIFAR-10 Batch 1:  loss, accuracy 1.37755 0.4526\n",
      "Epoch 12, CIFAR-10 Batch 2:  loss, accuracy 1.40319 0.449\n",
      "Epoch 12, CIFAR-10 Batch 3:  loss, accuracy 1.19719 0.4362\n",
      "Epoch 12, CIFAR-10 Batch 4:  loss, accuracy 1.36896 0.4512\n",
      "Epoch 12, CIFAR-10 Batch 5:  loss, accuracy 1.31968 0.4512\n",
      "Epoch 13, CIFAR-10 Batch 1:  loss, accuracy 1.34003 0.4582\n",
      "Epoch 13, CIFAR-10 Batch 2:  loss, accuracy 1.37803 0.4518\n",
      "Epoch 13, CIFAR-10 Batch 3:  loss, accuracy 1.15311 0.445\n",
      "Epoch 13, CIFAR-10 Batch 4:  loss, accuracy 1.31255 0.4456\n",
      "Epoch 13, CIFAR-10 Batch 5:  loss, accuracy 1.31501 0.457\n",
      "Epoch 14, CIFAR-10 Batch 1:  loss, accuracy 1.29653 0.4716\n",
      "Epoch 14, CIFAR-10 Batch 2:  loss, accuracy 1.32857 0.4674\n",
      "Epoch 14, CIFAR-10 Batch 3:  loss, accuracy 1.13918 0.4502\n",
      "Epoch 14, CIFAR-10 Batch 4:  loss, accuracy 1.30598 0.4526\n",
      "Epoch 14, CIFAR-10 Batch 5:  loss, accuracy 1.23824 0.4654\n",
      "Epoch 15, CIFAR-10 Batch 1:  loss, accuracy 1.30002 0.472\n",
      "Epoch 15, CIFAR-10 Batch 2:  loss, accuracy 1.27848 0.4726\n",
      "Epoch 15, CIFAR-10 Batch 3:  loss, accuracy 1.09288 0.4508\n",
      "Epoch 15, CIFAR-10 Batch 4:  loss, accuracy 1.23304 0.4514\n",
      "Epoch 15, CIFAR-10 Batch 5:  loss, accuracy 1.20232 0.4698\n",
      "Epoch 16, CIFAR-10 Batch 1:  loss, accuracy 1.25174 0.468\n",
      "Epoch 16, CIFAR-10 Batch 2:  loss, accuracy 1.28322 0.4824\n",
      "Epoch 16, CIFAR-10 Batch 3:  loss, accuracy 1.0918 0.4434\n",
      "Epoch 16, CIFAR-10 Batch 4:  loss, accuracy 1.22786 0.459\n",
      "Epoch 16, CIFAR-10 Batch 5:  loss, accuracy 1.20726 0.4766\n",
      "Epoch 17, CIFAR-10 Batch 1:  loss, accuracy 1.22184 0.4912\n",
      "Epoch 17, CIFAR-10 Batch 2:  loss, accuracy 1.19376 0.4878\n",
      "Epoch 17, CIFAR-10 Batch 3:  loss, accuracy 1.01752 0.4832\n",
      "Epoch 17, CIFAR-10 Batch 4:  loss, accuracy 1.18504 0.4724\n",
      "Epoch 17, CIFAR-10 Batch 5:  loss, accuracy 1.14725 0.4866\n",
      "Epoch 18, CIFAR-10 Batch 1:  loss, accuracy 1.21245 0.4856\n",
      "Epoch 18, CIFAR-10 Batch 2:  loss, accuracy 1.15214 0.4896\n",
      "Epoch 18, CIFAR-10 Batch 3:  loss, accuracy 1.00249 0.483\n",
      "Epoch 18, CIFAR-10 Batch 4:  loss, accuracy 1.1268 0.4818\n",
      "Epoch 18, CIFAR-10 Batch 5:  loss, accuracy 1.1331 0.4898\n",
      "Epoch 19, CIFAR-10 Batch 1:  loss, accuracy 1.15672 0.481\n",
      "Epoch 19, CIFAR-10 Batch 2:  loss, accuracy 1.15004 0.4886\n",
      "Epoch 19, CIFAR-10 Batch 3:  loss, accuracy 0.982658 0.4986\n",
      "Epoch 19, CIFAR-10 Batch 4:  loss, accuracy 1.10757 0.4984\n",
      "Epoch 19, CIFAR-10 Batch 5:  loss, accuracy 1.09447 0.4966\n",
      "Epoch 20, CIFAR-10 Batch 1:  loss, accuracy 1.21329 0.494\n",
      "Epoch 20, CIFAR-10 Batch 2:  loss, accuracy 1.12716 0.5008\n",
      "Epoch 20, CIFAR-10 Batch 3:  loss, accuracy 0.971233 0.495\n",
      "Epoch 20, CIFAR-10 Batch 4:  loss, accuracy 1.06046 0.4934\n",
      "Epoch 20, CIFAR-10 Batch 5:  loss, accuracy 1.08284 0.5038\n",
      "Epoch 21, CIFAR-10 Batch 1:  loss, accuracy 1.14458 0.5034\n",
      "Epoch 21, CIFAR-10 Batch 2:  loss, accuracy 1.07084 0.5072\n",
      "Epoch 21, CIFAR-10 Batch 3:  loss, accuracy 0.968433 0.501\n",
      "Epoch 21, CIFAR-10 Batch 4:  loss, accuracy 1.08306 0.5008\n",
      "Epoch 21, CIFAR-10 Batch 5:  loss, accuracy 1.05315 0.5052\n",
      "Epoch 22, CIFAR-10 Batch 1:  loss, accuracy 1.12922 0.507\n",
      "Epoch 22, CIFAR-10 Batch 2:  loss, accuracy 1.04267 0.5062\n",
      "Epoch 22, CIFAR-10 Batch 3:  loss, accuracy 0.954329 0.516\n",
      "Epoch 22, CIFAR-10 Batch 4:  loss, accuracy 1.06093 0.517\n",
      "Epoch 22, CIFAR-10 Batch 5:  loss, accuracy 1.04315 0.5152\n",
      "Epoch 23, CIFAR-10 Batch 1:  loss, accuracy 1.12185 0.5142\n",
      "Epoch 23, CIFAR-10 Batch 2:  loss, accuracy 1.06276 0.5116\n",
      "Epoch 23, CIFAR-10 Batch 3:  loss, accuracy 0.921846 0.5108\n",
      "Epoch 23, CIFAR-10 Batch 4:  loss, accuracy 1.02153 0.5094\n",
      "Epoch 23, CIFAR-10 Batch 5:  loss, accuracy 1.0043 0.5276\n",
      "Epoch 24, CIFAR-10 Batch 1:  loss, accuracy 1.04818 0.5116\n",
      "Epoch 24, CIFAR-10 Batch 2:  loss, accuracy 1.0012 0.506\n",
      "Epoch 24, CIFAR-10 Batch 3:  loss, accuracy 0.905675 0.5194\n",
      "Epoch 24, CIFAR-10 Batch 4:  loss, accuracy 0.983539 0.513\n",
      "Epoch 24, CIFAR-10 Batch 5:  loss, accuracy 1.02153 0.5272\n",
      "Epoch 25, CIFAR-10 Batch 1:  loss, accuracy 1.02882 0.5186\n",
      "Epoch 25, CIFAR-10 Batch 2:  loss, accuracy 1.04021 0.5174\n",
      "Epoch 25, CIFAR-10 Batch 3:  loss, accuracy 0.908555 0.5176\n",
      "Epoch 25, CIFAR-10 Batch 4:  loss, accuracy 0.990111 0.5242\n",
      "Epoch 25, CIFAR-10 Batch 5:  loss, accuracy 0.990153 0.5242\n",
      "Epoch 26, CIFAR-10 Batch 1:  loss, accuracy 1.00827 0.5196\n",
      "Epoch 26, CIFAR-10 Batch 2:  loss, accuracy 0.954679 0.5202\n",
      "Epoch 26, CIFAR-10 Batch 3:  loss, accuracy 0.88318 0.5154\n",
      "Epoch 26, CIFAR-10 Batch 4:  loss, accuracy 0.936172 0.5154\n",
      "Epoch 26, CIFAR-10 Batch 5:  loss, accuracy 0.985335 0.5304\n",
      "Epoch 27, CIFAR-10 Batch 1:  loss, accuracy 0.996713 0.5206\n",
      "Epoch 27, CIFAR-10 Batch 2:  loss, accuracy 0.932435 0.5206\n",
      "Epoch 27, CIFAR-10 Batch 3:  loss, accuracy 0.889763 0.5192\n",
      "Epoch 27, CIFAR-10 Batch 4:  loss, accuracy 0.942573 0.5256\n",
      "Epoch 27, CIFAR-10 Batch 5:  loss, accuracy 0.965697 0.526\n",
      "Epoch 28, CIFAR-10 Batch 1:  loss, accuracy 0.981901 0.5374\n",
      "Epoch 28, CIFAR-10 Batch 2:  loss, accuracy 0.938679 0.5146\n",
      "Epoch 28, CIFAR-10 Batch 3:  loss, accuracy 0.86674 0.533\n",
      "Epoch 28, CIFAR-10 Batch 4:  loss, accuracy 0.904559 0.535\n",
      "Epoch 28, CIFAR-10 Batch 5:  loss, accuracy 0.928795 0.5384\n",
      "Epoch 29, CIFAR-10 Batch 1:  loss, accuracy 0.959654 0.5404\n",
      "Epoch 29, CIFAR-10 Batch 2:  loss, accuracy 0.899051 0.5342\n",
      "Epoch 29, CIFAR-10 Batch 3:  loss, accuracy 0.862396 0.538\n",
      "Epoch 29, CIFAR-10 Batch 4:  loss, accuracy 0.89563 0.5428\n",
      "Epoch 29, CIFAR-10 Batch 5:  loss, accuracy 0.910163 0.5418\n",
      "Epoch 30, CIFAR-10 Batch 1:  loss, accuracy 0.965286 0.545\n",
      "Epoch 30, CIFAR-10 Batch 2:  loss, accuracy 0.900255 0.5356\n",
      "Epoch 30, CIFAR-10 Batch 3:  loss, accuracy 0.848198 0.5432\n",
      "Epoch 30, CIFAR-10 Batch 4:  loss, accuracy 0.879179 0.5444\n",
      "Epoch 30, CIFAR-10 Batch 5:  loss, accuracy 0.924896 0.54\n",
      "Epoch 31, CIFAR-10 Batch 1:  loss, accuracy 0.983637 0.544\n",
      "Epoch 31, CIFAR-10 Batch 2:  loss, accuracy 0.875115 0.531\n",
      "Epoch 31, CIFAR-10 Batch 3:  loss, accuracy 0.819904 0.5402\n",
      "Epoch 31, CIFAR-10 Batch 4:  loss, accuracy 0.846262 0.5458\n",
      "Epoch 31, CIFAR-10 Batch 5:  loss, accuracy 0.913517 0.543\n",
      "Epoch 32, CIFAR-10 Batch 1:  loss, accuracy 0.950336 0.554\n",
      "Epoch 32, CIFAR-10 Batch 2:  loss, accuracy 0.852417 0.5394\n",
      "Epoch 32, CIFAR-10 Batch 3:  loss, accuracy 0.812138 0.541\n",
      "Epoch 32, CIFAR-10 Batch 4:  loss, accuracy 0.83352 0.5476\n",
      "Epoch 32, CIFAR-10 Batch 5:  loss, accuracy 0.906565 0.5404\n",
      "Epoch 33, CIFAR-10 Batch 1:  loss, accuracy 0.958446 0.5556\n",
      "Epoch 33, CIFAR-10 Batch 2:  loss, accuracy 0.855975 0.5386\n",
      "Epoch 33, CIFAR-10 Batch 3:  loss, accuracy 0.805693 0.5458\n",
      "Epoch 33, CIFAR-10 Batch 4:  loss, accuracy 0.872583 0.5482\n",
      "Epoch 33, CIFAR-10 Batch 5:  loss, accuracy 0.869061 0.5448\n",
      "Epoch 34, CIFAR-10 Batch 1:  loss, accuracy 0.880297 0.5538\n",
      "Epoch 34, CIFAR-10 Batch 2:  loss, accuracy 0.864779 0.5436\n",
      "Epoch 34, CIFAR-10 Batch 3:  loss, accuracy 0.786755 0.5426\n",
      "Epoch 34, CIFAR-10 Batch 4:  loss, accuracy 0.857862 0.5412\n",
      "Epoch 34, CIFAR-10 Batch 5:  loss, accuracy 0.839062 0.5524\n",
      "Epoch 35, CIFAR-10 Batch 1:  loss, accuracy 0.861596 0.5496\n",
      "Epoch 35, CIFAR-10 Batch 2:  loss, accuracy 0.827004 0.5438\n",
      "Epoch 35, CIFAR-10 Batch 3:  loss, accuracy 0.811938 0.5342\n",
      "Epoch 35, CIFAR-10 Batch 4:  loss, accuracy 0.828585 0.555\n",
      "Epoch 35, CIFAR-10 Batch 5:  loss, accuracy 0.860114 0.5528\n",
      "Epoch 36, CIFAR-10 Batch 1:  loss, accuracy 0.865955 0.5612\n",
      "Epoch 36, CIFAR-10 Batch 2:  loss, accuracy 0.789997 0.5526\n",
      "Epoch 36, CIFAR-10 Batch 3:  loss, accuracy 0.771678 0.547\n",
      "Epoch 36, CIFAR-10 Batch 4:  loss, accuracy 0.818392 0.5538\n",
      "Epoch 36, CIFAR-10 Batch 5:  loss, accuracy 0.855941 0.5474\n",
      "Epoch 37, CIFAR-10 Batch 1:  loss, accuracy 0.840474 0.5584\n",
      "Epoch 37, CIFAR-10 Batch 2:  loss, accuracy 0.805296 0.56\n",
      "Epoch 37, CIFAR-10 Batch 3:  loss, accuracy 0.775694 0.5366\n",
      "Epoch 37, CIFAR-10 Batch 4:  loss, accuracy 0.805897 0.5564\n",
      "Epoch 37, CIFAR-10 Batch 5:  loss, accuracy 0.803352 0.5592\n",
      "Epoch 38, CIFAR-10 Batch 1:  loss, accuracy 0.821339 0.5612\n",
      "Epoch 38, CIFAR-10 Batch 2:  loss, accuracy 0.773036 0.562\n",
      "Epoch 38, CIFAR-10 Batch 3:  loss, accuracy 0.759818 0.5524\n",
      "Epoch 38, CIFAR-10 Batch 4:  loss, accuracy 0.78292 0.5556\n",
      "Epoch 38, CIFAR-10 Batch 5:  loss, accuracy 0.834989 0.5534\n",
      "Epoch 39, CIFAR-10 Batch 1:  loss, accuracy 0.809263 0.561\n",
      "Epoch 39, CIFAR-10 Batch 2:  loss, accuracy 0.777732 0.5578\n",
      "Epoch 39, CIFAR-10 Batch 3:  loss, accuracy 0.735791 0.5534\n",
      "Epoch 39, CIFAR-10 Batch 4:  loss, accuracy 0.798928 0.5576\n",
      "Epoch 39, CIFAR-10 Batch 5:  loss, accuracy 0.782501 0.5644\n",
      "Epoch 40, CIFAR-10 Batch 1:  loss, accuracy 0.81562 0.5638\n",
      "Epoch 40, CIFAR-10 Batch 2:  loss, accuracy 0.750183 0.5656\n",
      "Epoch 40, CIFAR-10 Batch 3:  loss, accuracy 0.781119 0.556\n",
      "Epoch 40, CIFAR-10 Batch 4:  loss, accuracy 0.783494 0.5592\n",
      "Epoch 40, CIFAR-10 Batch 5:  loss, accuracy 0.779463 0.567\n"
     ]
    }
   ],
   "source": [
    "\"\"\"\n",
    "DON'T MODIFY ANYTHING IN THIS CELL\n",
    "\"\"\"\n",
    "save_model_path = './image_classification'\n",
    "\n",
    "print('Training...')\n",
    "with tf.Session() as sess:\n",
    "    # Initializing the variables\n",
    "    sess.run(tf.global_variables_initializer())\n",
    "    \n",
    "    # Training cycle\n",
    "    for epoch in range(epochs):\n",
    "        # Loop over all batches\n",
    "        n_batches = 5\n",
    "        for batch_i in range(1, n_batches + 1):\n",
    "            for batch_features, batch_labels in helper.load_preprocess_training_batch(batch_i, batch_size):\n",
    "                train_neural_network(sess, optimizer, keep_probability, batch_features, batch_labels)\n",
    "            print('Epoch {:>2}, CIFAR-10 Batch {}:  '.format(epoch + 1, batch_i), end='')\n",
    "            print_stats(sess, batch_features, batch_labels, cost, accuracy)\n",
    "            \n",
    "    # Save Model\n",
    "    saver = tf.train.Saver()\n",
    "    save_path = saver.save(sess, save_model_path)"
   ]
  },
  {
   "cell_type": "markdown",
   "metadata": {
    "deletable": true,
    "editable": true
   },
   "source": [
    "# Checkpoint\n",
    "The model has been saved to disk.\n",
    "## Test Model\n",
    "Test your model against the test dataset.  This will be your final accuracy. You should have an accuracy greater than 50%. If you don't, keep tweaking the model architecture and parameters."
   ]
  },
  {
   "cell_type": "code",
   "execution_count": 101,
   "metadata": {
    "collapsed": false,
    "deletable": true,
    "editable": true
   },
   "outputs": [
    {
     "name": "stdout",
     "output_type": "stream",
     "text": [
      "Testing Accuracy: 0.57607421875\n",
      "\n"
     ]
    },
    {
     "data": {
      "image/png": "[encoded data removed]",
      "text/plain": [
       "<matplotlib.figure.Figure at 0x7f15f02e8518>"
      ]
     },
     "metadata": {
      "image/png": {
       "height": 319,
       "width": 355
      }
     },
     "output_type": "display_data"
    }
   ],
   "source": [
    "\"\"\"\n",
    "DON'T MODIFY ANYTHING IN THIS CELL\n",
    "\"\"\"\n",
    "%matplotlib inline\n",
    "%config InlineBackend.figure_format = 'retina'\n",
    "\n",
    "import tensorflow as tf\n",
    "import pickle\n",
    "import helper\n",
    "import random\n",
    "\n",
    "# Set batch size if not already set\n",
    "try:\n",
    "    if batch_size:\n",
    "        pass\n",
    "except NameError:\n",
    "    batch_size = 64\n",
    "\n",
    "save_model_path = './image_classification'\n",
    "n_samples = 4\n",
    "top_n_predictions = 3\n",
    "\n",
    "def test_model():\n",
    "    \"\"\"\n",
    "    Test the saved model against the test dataset\n",
    "    \"\"\"\n",
    "\n",
    "    test_features, test_labels = pickle.load(open('preprocess_training.p', mode='rb'))\n",
    "    loaded_graph = tf.Graph()\n",
    "\n",
    "    with tf.Session(graph=loaded_graph) as sess:\n",
    "        # Load model\n",
    "        loader = tf.train.import_meta_graph(save_model_path + '.meta')\n",
    "        loader.restore(sess, save_model_path)\n",
    "\n",
    "        # Get Tensors from loaded model\n",
    "        loaded_x = loaded_graph.get_tensor_by_name('x:0')\n",
    "        loaded_y = loaded_graph.get_tensor_by_name('y:0')\n",
    "        loaded_keep_prob = loaded_graph.get_tensor_by_name('keep_prob:0')\n",
    "        loaded_logits = loaded_graph.get_tensor_by_name('logits:0')\n",
    "        loaded_acc = loaded_graph.get_tensor_by_name('accuracy:0')\n",
    "        \n",
    "        # Get accuracy in batches for memory limitations\n",
    "        test_batch_acc_total = 0\n",
    "        test_batch_count = 0\n",
    "        \n",
    "        for train_feature_batch, train_label_batch in helper.batch_features_labels(test_features, test_labels, batch_size):\n",
    "            test_batch_acc_total += sess.run(\n",
    "                loaded_acc,\n",
    "                feed_dict={loaded_x: train_feature_batch, loaded_y: train_label_batch, loaded_keep_prob: 1.0})\n",
    "            test_batch_count += 1\n",
    "\n",
    "        print('Testing Accuracy: {}\\n'.format(test_batch_acc_total/test_batch_count))\n",
    "\n",
    "        # Print Random Samples\n",
    "        random_test_features, random_test_labels = tuple(zip(*random.sample(list(zip(test_features, test_labels)), n_samples)))\n",
    "        random_test_predictions = sess.run(\n",
    "            tf.nn.top_k(tf.nn.softmax(loaded_logits), top_n_predictions),\n",
    "            feed_dict={loaded_x: random_test_features, loaded_y: random_test_labels, loaded_keep_prob: 1.0})\n",
    "        helper.display_image_predictions(random_test_features, random_test_labels, random_test_predictions)\n",
    "\n",
    "\n",
    "test_model()"
   ]
  },
  {
   "cell_type": "markdown",
   "metadata": {
    "deletable": true,
    "editable": true
   },
   "source": [
    "## Why 50-70% Accuracy?\n",
    "You might be wondering why you can't get an accuracy any higher. First things first, 50% isn't bad for a simple CNN.  Pure guessing would get you 10% accuracy. However, you might notice people are getting scores [well above 70%](http://rodrigob.github.io/are_we_there_yet/build/classification_datasets_results.html#43494641522d3130).  That's because we haven't taught you all there is to know about neural networks. We still need to cover a few more techniques.\n",
    "## Submitting This Project\n",
    "When submitting this project, make sure to run all the cells before saving the notebook.  Save the notebook file as \"dlnd_image_classification.ipynb\" and save it as a HTML file under \"File\" -> \"Download as\".  Include the \"helper.py\" and \"problem_unittests.py\" files in your submission."
   ]
  }
 ],
 "metadata": {
  "kernelspec": {
   "display_name": "Python 3",
   "language": "python",
   "name": "python3"
  },
  "language_info": {
   "codemirror_mode": {
    "name": "ipython",
    "version": 3
   },
   "file_extension": ".py",
   "mimetype": "text/x-python",
   "name": "python",
   "nbconvert_exporter": "python",
   "pygments_lexer": "ipython3",
   "version": "3.5.3"
  }
 },
 "nbformat": 4,
 "nbformat_minor": 0
}
