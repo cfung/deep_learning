{
 "cells": [
  {
   "cell_type": "markdown",
   "metadata": {
    "deletable": true,
    "editable": true
   },
   "source": [
    "# TV Script Generation\n",
    "In this project, you'll generate your own [Simpsons](https://en.wikipedia.org/wiki/The_Simpsons) TV scripts using RNNs.  You'll be using part of the [Simpsons dataset](https://www.kaggle.com/wcukierski/the-simpsons-by-the-data) of scripts from 27 seasons.  The Neural Network you'll build will generate a new TV script for a scene at [Moe's Tavern](https://simpsonswiki.com/wiki/Moe's_Tavern).\n",
    "## Get the Data\n",
    "The data is already provided for you.  You'll be using a subset of the original dataset.  It consists of only the scenes in Moe's Tavern.  This doesn't include other versions of the tavern, like \"Moe's Cavern\", \"Flaming Moe's\", \"Uncle Moe's Family Feed-Bag\", etc.."
   ]
  },
  {
   "cell_type": "code",
   "execution_count": 32,
   "metadata": {
    "collapsed": false,
    "deletable": true,
    "editable": true
   },
   "outputs": [],
   "source": [
    "\"\"\"\n",
    "DON'T MODIFY ANYTHING IN THIS CELL\n",
    "\"\"\"\n",
    "import helper\n",
    "\n",
    "data_dir = './data/simpsons/moes_tavern_lines.txt'\n",
    "text = helper.load_data(data_dir)\n",
    "# Ignore notice, since we don't use it for analysing the data\n",
    "text = text[81:]"
   ]
  },
  {
   "cell_type": "markdown",
   "metadata": {
    "deletable": true,
    "editable": true
   },
   "source": [
    "## Explore the Data\n",
    "Play around with `view_sentence_range` to view different parts of the data."
   ]
  },
  {
   "cell_type": "code",
   "execution_count": 33,
   "metadata": {
    "collapsed": false,
    "deletable": true,
    "editable": true
   },
   "outputs": [
    {
     "name": "stdout",
     "output_type": "stream",
     "text": [
      "Dataset Stats\n",
      "Roughly the number of unique words: 11492\n",
      "Number of scenes: 262\n",
      "Average number of sentences in each scene: 15.248091603053435\n",
      "Number of lines: 4257\n",
      "Average number of words in each line: 11.50434578341555\n",
      "\n",
      "The sentences 0 to 10:\n",
      "Moe_Szyslak: (INTO PHONE) Moe's Tavern. Where the elite meet to drink.\n",
      "Bart_Simpson: Eh, yeah, hello, is Mike there? Last name, Rotch.\n",
      "Moe_Szyslak: (INTO PHONE) Hold on, I'll check. (TO BARFLIES) Mike Rotch. Mike Rotch. Hey, has anybody seen Mike Rotch, lately?\n",
      "Moe_Szyslak: (INTO PHONE) Listen you little puke. One of these days I'm gonna catch you, and I'm gonna carve my name on your back with an ice pick.\n",
      "Moe_Szyslak: What's the matter Homer? You're not your normal effervescent self.\n",
      "Homer_Simpson: I got my problems, Moe. Give me another one.\n",
      "Moe_Szyslak: Homer, hey, you should not drink to forget your problems.\n",
      "Barney_Gumble: Yeah, you should only drink to enhance your social skills.\n",
      "\n",
      "\n"
     ]
    }
   ],
   "source": [
    "view_sentence_range = (0, 10)\n",
    "\n",
    "\"\"\"\n",
    "DON'T MODIFY ANYTHING IN THIS CELL\n",
    "\"\"\"\n",
    "import numpy as np\n",
    "\n",
    "print('Dataset Stats')\n",
    "print('Roughly the number of unique words: {}'.format(len({word: None for word in text.split()})))\n",
    "scenes = text.split('\\n\\n')\n",
    "print('Number of scenes: {}'.format(len(scenes)))\n",
    "sentence_count_scene = [scene.count('\\n') for scene in scenes]\n",
    "print('Average number of sentences in each scene: {}'.format(np.average(sentence_count_scene)))\n",
    "\n",
    "sentences = [sentence for scene in scenes for sentence in scene.split('\\n')]\n",
    "print('Number of lines: {}'.format(len(sentences)))\n",
    "word_count_sentence = [len(sentence.split()) for sentence in sentences]\n",
    "print('Average number of words in each line: {}'.format(np.average(word_count_sentence)))\n",
    "\n",
    "print()\n",
    "print('The sentences {} to {}:'.format(*view_sentence_range))\n",
    "print('\\n'.join(text.split('\\n')[view_sentence_range[0]:view_sentence_range[1]]))"
   ]
  },
  {
   "cell_type": "markdown",
   "metadata": {
    "deletable": true,
    "editable": true
   },
   "source": [
    "## Implement Preprocessing Functions\n",
    "The first thing to do to any dataset is preprocessing.  Implement the following preprocessing functions below:\n",
    "- Lookup Table\n",
    "- Tokenize Punctuation\n",
    "\n",
    "### Lookup Table\n",
    "To create a word embedding, you first need to transform the words to ids.  In this function, create two dictionaries:\n",
    "- Dictionary to go from the words to an id, we'll call `vocab_to_int`\n",
    "- Dictionary to go from the id to word, we'll call `int_to_vocab`\n",
    "\n",
    "Return these dictionaries in the following tuple `(vocab_to_int, int_to_vocab)`"
   ]
  },
  {
   "cell_type": "code",
   "execution_count": 34,
   "metadata": {
    "collapsed": false,
    "deletable": true,
    "editable": true
   },
   "outputs": [
    {
     "name": "stdout",
     "output_type": "stream",
     "text": [
      "******\n",
      "{'enhance': 20, 'forget': 21, 'an': 22, 'effervescent': 23, 'and': 24, 'one': 7, 'problems': 8, 'the': 9, \"i'll\": 25, 'social': 26, 'lately': 58, 'self': 27, 'there': 28, 'not': 13, 'tavern': 31, 'anybody': 32, 'my': 10, 'yeah': 11, \"you're\": 30, 'with': 33, 'hold': 34, 'is': 64, 'carve': 36, 'seen': 37, 'mike': 1, 'hello': 65, 'bart_simpson': 39, 'last': 66, 'eh': 41, 'listen': 42, 'has': 43, 'homer': 14, 'pick': 44, 'these': 45, 'little': 46, 'name': 15, \"i'm\": 16, 'your': 2, 'to': 5, 'barney_gumble': 29, 'of': 49, 'hey': 17, 'check': 50, 'ice': 51, 'me': 52, 'moe_szyslak': 0, 'only': 54, 'meet': 48, 'days': 67, 'gonna': 18, 'another': 55, 'back': 56, 'moe': 57, 'normal': 68, \"moe's\": 53, 'you': 3, 'puke': 59, 'rotch': 4, 'i': 60, 'catch': 61, 'elite': 62, 'skills': 63, 'should': 12, 'homer_simpson': 38, 'where': 40, 'whats': 35, 'give': 47, 'matter': 69, 'drink': 6, 'on': 19, 'got': 70}\n",
      "******\n",
      "{0: 'moe_szyslak', 1: 'mike', 2: 'your', 3: 'you', 4: 'rotch', 5: 'to', 6: 'drink', 7: 'one', 8: 'problems', 9: 'the', 10: 'my', 11: 'yeah', 12: 'should', 13: 'not', 14: 'homer', 15: 'name', 16: \"i'm\", 17: 'hey', 18: 'gonna', 19: 'on', 20: 'enhance', 21: 'forget', 22: 'an', 23: 'effervescent', 24: 'and', 25: \"i'll\", 26: 'social', 27: 'self', 28: 'there', 29: 'barney_gumble', 30: \"you're\", 31: 'tavern', 32: 'anybody', 33: 'with', 34: 'hold', 35: 'whats', 36: 'carve', 37: 'seen', 38: 'homer_simpson', 39: 'bart_simpson', 40: 'where', 41: 'eh', 42: 'listen', 43: 'has', 44: 'pick', 45: 'these', 46: 'little', 47: 'give', 48: 'meet', 49: 'of', 50: 'check', 51: 'ice', 52: 'me', 53: \"moe's\", 54: 'only', 55: 'another', 56: 'back', 57: 'moe', 58: 'lately', 59: 'puke', 60: 'i', 61: 'catch', 62: 'elite', 63: 'skills', 64: 'is', 65: 'hello', 66: 'last', 67: 'days', 68: 'normal', 69: 'matter', 70: 'got'}\n",
      "Tests Passed\n"
     ]
    }
   ],
   "source": [
    "import numpy as np\n",
    "import problem_unittests as tests\n",
    "from collections import Counter\n",
    "\n",
    "def create_lookup_tables(text):\n",
    "    \"\"\"\n",
    "    Create lookup tables for vocabulary\n",
    "    :param text: The text of tv scripts split into words\n",
    "    :return: A tuple of dicts (vocab_to_int, int_to_vocab)\n",
    "    \"\"\"\n",
    "    #print (\"text...\", text)\n",
    "    #print (\"******\")\n",
    "    counter = Counter(text)\n",
    "    #print (\"counter...\", counter)\n",
    "    # TODO: Implement Function\n",
    "    # print (text)\n",
    "    sorted_vocab = sorted(counter, key=counter.get, reverse=True)\n",
    "    #vocab_to_int = \n",
    "    #int_to_vocab = {}\n",
    "    #vocab = set(text)\n",
    "    vocab_to_int = {w: i for i, w in enumerate(sorted_vocab)}\n",
    "    int_to_vocab = {i: w for w, i in vocab_to_int.items()}\n",
    "    \n",
    "    #vocab_to_int = {word: i for word, i in enumerate(vocab)}\n",
    "    #int_to_vocab = {i: word for word, i in enumerate(vocab)}\n",
    "    print (\"******\")\n",
    "    print (vocab_to_int)\n",
    "    print (\"******\")\n",
    "    print (int_to_vocab)\n",
    "    return (vocab_to_int, int_to_vocab)\n",
    "    #return None, None\n",
    "\n",
    "\n",
    "\"\"\"\n",
    "DON'T MODIFY ANYTHING IN THIS CELL THAT IS BELOW THIS LINE\n",
    "\"\"\"\n",
    "tests.test_create_lookup_tables(create_lookup_tables)"
   ]
  },
  {
   "cell_type": "markdown",
   "metadata": {
    "deletable": true,
    "editable": true
   },
   "source": [
    "### Tokenize Punctuation\n",
    "We'll be splitting the script into a word array using spaces as delimiters.  However, punctuations like periods and exclamation marks make it hard for the neural network to distinguish between the word \"bye\" and \"bye!\".\n",
    "\n",
    "Implement the function `token_lookup` to return a dict that will be used to tokenize symbols like \"!\" into \"||Exclamation_Mark||\".  Create a dictionary for the following symbols where the symbol is the key and value is the token:\n",
    "- Period ( . )\n",
    "- Comma ( , )\n",
    "- Quotation Mark ( \" )\n",
    "- Semicolon ( ; )\n",
    "- Exclamation mark ( ! )\n",
    "- Question mark ( ? )\n",
    "- Left Parentheses ( ( )\n",
    "- Right Parentheses ( ) )\n",
    "- Dash ( -- )\n",
    "- Return ( \\n )\n",
    "\n",
    "This dictionary will be used to token the symbols and add the delimiter (space) around it.  This separates the symbols as it's own word, making it easier for the neural network to predict on the next word. Make sure you don't use a token that could be confused as a word. Instead of using the token \"dash\", try using something like \"||dash||\"."
   ]
  },
  {
   "cell_type": "code",
   "execution_count": 35,
   "metadata": {
    "collapsed": false,
    "deletable": true,
    "editable": true
   },
   "outputs": [
    {
     "ename": "AssertionError",
     "evalue": "Missing symbols: {':'}",
     "output_type": "error",
     "traceback": [
      "\u001b[0;31m---------------------------------------------------------------------------\u001b[0m",
      "\u001b[0;31mAssertionError\u001b[0m                            Traceback (most recent call last)",
      "\u001b[0;32m<ipython-input-35-92c9fbe56a78>\u001b[0m in \u001b[0;36m<module>\u001b[0;34m()\u001b[0m\n\u001b[1;32m     13\u001b[0m \u001b[0mDON\u001b[0m\u001b[0;31m'\u001b[0m\u001b[0mT\u001b[0m \u001b[0mMODIFY\u001b[0m \u001b[0mANYTHING\u001b[0m \u001b[0mIN\u001b[0m \u001b[0mTHIS\u001b[0m \u001b[0mCELL\u001b[0m \u001b[0mTHAT\u001b[0m \u001b[0mIS\u001b[0m \u001b[0mBELOW\u001b[0m \u001b[0mTHIS\u001b[0m \u001b[0mLINE\u001b[0m\u001b[0;34m\u001b[0m\u001b[0m\n\u001b[1;32m     14\u001b[0m \"\"\"\n\u001b[0;32m---> 15\u001b[0;31m \u001b[0mtests\u001b[0m\u001b[0;34m.\u001b[0m\u001b[0mtest_tokenize\u001b[0m\u001b[0;34m(\u001b[0m\u001b[0mtoken_lookup\u001b[0m\u001b[0;34m)\u001b[0m\u001b[0;34m\u001b[0m\u001b[0m\n\u001b[0m",
      "\u001b[0;32m/home/carnd/deep_learning/project3_tvscripts_generate/problem_unittests.py\u001b[0m in \u001b[0;36mtest_tokenize\u001b[0;34m(token_lookup)\u001b[0m\n\u001b[1;32m    118\u001b[0m \u001b[0;34m\u001b[0m\u001b[0m\n\u001b[1;32m    119\u001b[0m         \u001b[0;32massert\u001b[0m \u001b[0;32mnot\u001b[0m \u001b[0mmissing_symbols\u001b[0m\u001b[0;34m,\u001b[0m\u001b[0;31m \u001b[0m\u001b[0;31m\\\u001b[0m\u001b[0;34m\u001b[0m\u001b[0m\n\u001b[0;32m--> 120\u001b[0;31m             \u001b[0;34m'Missing symbols: {}'\u001b[0m\u001b[0;34m.\u001b[0m\u001b[0mformat\u001b[0m\u001b[0;34m(\u001b[0m\u001b[0mmissing_symbols\u001b[0m\u001b[0;34m)\u001b[0m\u001b[0;34m\u001b[0m\u001b[0m\n\u001b[0m\u001b[1;32m    121\u001b[0m         \u001b[0;32massert\u001b[0m \u001b[0;32mnot\u001b[0m \u001b[0munknown_symbols\u001b[0m\u001b[0;34m,\u001b[0m\u001b[0;31m \u001b[0m\u001b[0;31m\\\u001b[0m\u001b[0;34m\u001b[0m\u001b[0m\n\u001b[1;32m    122\u001b[0m             \u001b[0;34m'Unknown symbols: {}'\u001b[0m\u001b[0;34m.\u001b[0m\u001b[0mformat\u001b[0m\u001b[0;34m(\u001b[0m\u001b[0munknown_symbols\u001b[0m\u001b[0;34m)\u001b[0m\u001b[0;34m\u001b[0m\u001b[0m\n",
      "\u001b[0;31mAssertionError\u001b[0m: Missing symbols: {':'}"
     ]
    }
   ],
   "source": [
    "def token_lookup():\n",
    "    \"\"\"\n",
    "    Generate a dict to turn punctuation into a token.\n",
    "    :return: Tokenize dictionary where the key is the punctuation and the value is the token\n",
    "    \"\"\"\n",
    "    # TODO: Implement Function\n",
    "    symbol_dict = {\".\":\"||Period||\", \",\":\"||Comma||\", \";\":\"Semicolon\", \"!\":\"||Exclamation_Mark||\",\n",
    "                  \"?\": \"Question_Mark\", \"(\": \"||Left_Parentheses||\", \")\": \"||Right_Parentheses||\",\n",
    "                  \"--\":\"||Dash||\", \"\\n\":\"||Return||\",\"\\\"\":\"||Quotation_Mark||\"}#, \":\":\"||colon||\"}\n",
    "    return symbol_dict\n",
    "\n",
    "\"\"\"\n",
    "DON'T MODIFY ANYTHING IN THIS CELL THAT IS BELOW THIS LINE\n",
    "\"\"\"\n",
    "tests.test_tokenize(token_lookup)"
   ]
  },
  {
   "cell_type": "markdown",
   "metadata": {
    "deletable": true,
    "editable": true
   },
   "source": [
    "## Preprocess all the data and save it\n",
    "Running the code cell below will preprocess all the data and save it to file."
   ]
  },
  {
   "cell_type": "code",
   "execution_count": 12,
   "metadata": {
    "collapsed": false,
    "deletable": true,
    "editable": true
   },
   "outputs": [
    {
     "name": "stdout",
     "output_type": "stream",
     "text": [
      "******\n",
      "{'crayon': 2889, '/mr': 2890, 'polite': 1175, \"you'll\": 293, 'pitch': 1899, 'serum': 2891, 'shame': 2892, 'piano': 2893, 'drains': 2894, 'peach': 1442, 'western': 6173, 'mural': 2895, 'voice_on_transmitter': 1900, 'sanitary': 2896, 'delivery_boy': 1901, 'lottery': 1443, 'gordon': 2898, 'represents': 6597, 'two-drink': 2899, 'manchego': 2900, 'dang': 1176, 'dressed': 1444, 'barney-shaped_form': 1453, \"doin'\": 353, \"cuckold's\": 2902, 'adventure': 2903, 'town': 365, 'congoleum': 2904, 'arimasen': 2905, 'spirit': 2906, 'nelson': 2907, 'wudgy': 2908, 'at': 68, 'inherent': 2909, 'hangout': 2910, 'held': 2554, \"ragin'\": 2912, 'needs': 961, 'medical': 1903, 'many': 366, 'der': 1445, 'libido': 2914, 'pickled': 1177, 'aboard': 2915, 'trash': 2916, 'anthony_kiedis': 2917, 'young_moe': 1904, 'pusillanimous': 2918, 'glen': 668, 'beaumont': 3598, 'butt': 606, 'access': 2919, 'hydrant': 2920, 'rubbed': 2921, 'casting': 2922, 'telemarketing': 2923, 'given': 962, 'videotaped': 5433, 'sideshow': 2924, \"o'clock\": 1179, \"startin'\": 2925, 'stan': 2926, 'horror': 2927, 'guess': 242, 'criminal': 2928, 'round': 734, 'newsweek': 2929, 'illegally': 2930, 'apu': 607, 'thought': 257, 'effect': 2932, \"carl's\": 1180, 'tidy': 2933, 'rash': 2934, 'his': 88, 'twenty-two': 1477, 'type': 1907, 'cheesecake': 2935, 'sports': 1181, \"ma'am\": 1908, 'problemo': 6061, 'inspiring': 1909, 'squirrels': 2936, 'corner': 1447, 'bedbugs': 1988, 'specials': 2937, 'jesus': 1448, 'rekindle': 2938, 'directions': 1449, 'using': 735, 'tiny': 1910, 'eyesore': 2724, 'older': 2939, 'glummy': 2940, 'salvation': 2941, 'iran': 2942, 'yelling': 1911, 'scatter': 2943, 'training': 2944, 'branding': 2945, 'carolina': 2946, 'chinese': 1450, 'refresh': 1912, 'whirlybird': 2947, 'works': 553, 'crime': 1451, 'six': 516, 'oughta': 2948, 'limited': 2949, 'tank': 2950, \"maggie's\": 2858, 'lis': 5571, 'fork': 1452, \"don'tcha\": 2951, 'manage': 1913, 'wave': 1902, 'campaign': 1686, 'scanning': 3489, 'latin': 1914, 'natured': 2953, \"breakin'\": 2954, 'morning-after': 2956, 'friday': 2957, 'okay': 87, 'beard': 2958, 'snake-handler': 1918, 'open-casket': 2959, 'about': 75, 'excellent': 1919, 'feed': 1454, 'told': 446, 'mirthless': 2961, 'frosty': 2249, 'dozen': 4642, 'often': 3384, 'fat-free': 2963, 'astronauts': 2964, 'escort': 2965, 'same': 845, 'makes': 403, 'boxing_announcer': 2055, 'correcting': 1922, 'kids': 264, 'key': 2967, 'jeter': 2968, 'wise': 2969, 'beat': 268, 'entering': 2970, 'light': 608, 'strips': 2971, 'go': 78, 'chill': 2972, 'warning': 2973, 'morlocks': 1923, \"today's\": 1182, 'bellyaching': 6053, 'wolfe': 2450, \"homer's\": 336, 'aiden': 2975, 'gestated': 3918, 'occasion': 2976, 'brandy': 5444, 'blow': 1184, 'juice': 1925, \"nick's\": 2977, 'chapstick': 2978, 'aah': 2979, 'cream': 1926, 'trick': 1927, 'annual': 2980, 'quietly': 964, 'easy-going': 2981, 'neon': 2982, 'clearly': 1185, 'because': 269, 'umm': 1928, 'extract': 2983, 'sheets': 2984, 'zero': 2139, 'sixteen': 2986, 'crystal': 2987, 'tips': 1456, 'therapy': 1186, 'movies': 1187, 'jam': 2988, 'ones': 846, 'spinning': 1458, 'thorn': 2989, 'unfair': 2990, 'shark': 2991, 'homesick': 2992, 'evening': 965, 'navy': 2993, 'earlier': 2994, 'placing': 1929, 'chug-monkeys': 2995, 'discriminate': 2996, 'r': 1459, 'tear': 6487, 'musical': 6530, 'spite': 2997, 'ditched': 2998, 'awkwardly': 2999, 'reads': 1460, 'deeper': 3000, 'carney': 3001, 'unsafe': 3002, 'earpiece': 3003, \"valentine's\": 1188, 'fund': 3680, 'simpsons': 3005, 'jigger': 3006, 'ad': 966, 'superpower': 3007, 'chicks': 1930, 'kodos': 3497, \"bartender's\": 1931, 'scrape': 1932, 'crowds': 3009, 'whisper': 1189, 'incognito': 3010, 'energy': 1933, 'wedding': 1934, \"kids'\": 1461, 'rings': 3011, 'thawing': 3012, 'cost': 967, 'changes': 1935, 'scornful': 3013, 'stool': 847, 'grease': 3014, 'exited': 3015, 'must': 379, 'shout': 3017, 'plans': 1936, 'babe': 1937, 'bottles': 1938, 'minute': 270, 'droning': 3018, 'monroe': 3019, 'kramer': 1939, 'gutenberg': 6658, 'collateral': 3021, 'gang': 2081, 'vacations': 3023, 'ivy-covered': 5799, 'utensils': 3024, 'sneeze': 3025, \"'em\": 195, 'masks': 3026, 'beer-jerks': 3027, 'tradition': 1462, 'mini-beret': 3028, 'meeting': 1190, 'tax': 1940, 'them': 235, 'lookalikes': 3029, 'pigtown': 3030, 'weeks': 1463, 'doooown': 3031, \"rentin'\": 3032, 'gulliver_dark': 3033, 'cards': 1464, 'fortensky': 3034, 'paid': 1941, 'yee-ha': 3035, 'dash': 3036, 'naegle': 3037, 'weekend': 3038, 'gentle': 3039, 'hairs': 3040, \"lisa's\": 968, 'grocery': 3041, 'service': 969, 'victorious': 3042, 'weary': 1942, 'parked': 3043, 'adeleine': 1191, 'real': 337, 'phone': 176, 'pharmaceutical': 3044, 'suspenders': 3045, 'frink-y': 3046, 'glamour': 3047, 'hide': 736, 'balloon': 3048, 'putty': 3049, 'drunkenly': 3050, 'milk': 848, 'worldly': 3051, 'snapping': 3052, 'elves': 4456, 'poster': 3054, 'stirring': 1192, 'edna': 404, 'throw': 670, 'nap': 6089, 'story': 774, 'pawed': 3057, 'danish': 2212, 'octa-': 3059, 'remembered': 1943, 'rumaki': 1944, 'sly': 1193, 'getting': 367, 'clearing': 3060, 'poking': 1945, 'seething': 3061, 'moron': 682, 'breakdown': 3062, 'planet': 1946, \"knockin'\": 3063, 'literary': 3064, \"hole'\": 3065, 'sale': 1948, 'annie': 3066, 'peter': 1465, 'gunk': 3067, \"fightin'\": 4803, 'modern': 1466, 'burg': 3069, 'solo': 2297, 'congratulations': 3070, 'we': 58, 'surgeonnn': 3071, 'country-fried': 3072, 'i': 7, 'cauliflower': 3074, 'belches': 1194, 'feel': 251, 'wally': 970, 'entire': 1467, 'guzzles': 3075, 'drederick': 971, 'sniper': 3076, 'duff': 213, \"'morning\": 6293, \"haven't\": 528, 'sobs': 262, 'knuckles': 6095, 'lone': 3077, 'perón': 3078, 'championship': 1195, 'kl5-4796': 3079, 'depending': 3080, 'button': 1827, 'ze-ro': 3082, 'holiday': 1468, 'twenty-six': 3083, 'cutting': 972, 'hotline': 2258, '&': 1469, 'roof': 1952, 'donut': 3084, 'market': 1196, 'result': 6514, 'comeback': 3085, 'crank': 1470, 'alfalfa': 1953, 'stickers': 3086, 'togetherness': 3087, 'jubilation': 3088, 'to': 14, 'pulling': 1954, \"'your\": 3089, 'chic': 3090, 'sucker': 6096, 'over': 147, 'bam': 1955, 'agent_miller': 3091, 'radio': 1956, 'breaks': 3092, 'village': 1957, 'buddy': 671, 'corporation': 1958, 'diamond': 1959, 'tummies': 3093, 'keeps': 1198, 'lights': 2256, 'squishee': 3095, 'mike_mills': 3096, 'app': 3097, 'mudflap': 1471, 'david_byrne': 1199, 'puzzle': 3098, 'getcha': 3100, 'ideas': 3102, 'drug': 1200, 'sacrifice': 3103, 'liquor': 3104, \"what's\": 148, 'trail': 3105, 'waterfront': 3107, 'nuclear': 973, 'statue': 3108, 'afterglow': 3110, 'informant': 2302, 'insulin': 3112, 'before': 200, 'plucked': 3113, 'lots': 1472, 'tv-station_announcer': 3114, 'working': 1201, 'blobbo': 3115, 'west': 3116, 'derek': 3117, 'trench': 1960, 'prank': 1473, 'beneath': 1961, 'blokes': 3118, 'mole': 3119, 'preparation': 5463, 'buzz': 3120, 'boyfriend': 2042, 'perch': 3121, 'rotten': 3122, 'maher': 6259, '_zander': 974, 'screams': 1840, \"bart'd\": 6102, 'male_inspector': 1963, 'bolting': 3124, 'store': 672, 'lotta': 1202, \"games'd\": 3127, 'shrugs': 1964, 'slight': 1965, 'byrne': 3128, 'hollywood': 1966, 'mostrar': 3129, 'transmission': 3130, 'degradation': 1967, 'johnny': 6104, 'menlo': 3131, 'remorseful': 4818, 'ads': 3132, 'tears': 1475, 'was': 54, 'cowardly': 1969, 'lost': 320, 'remaining': 3133, 'mice': 3134, 'just': 39, 'hanging': 975, 'enlightened': 3135, 'gulps': 3136, 'distract': 3137, 'share': 1476, 'fondest': 4139, 'manipulation': 3139, 'faceful': 3140, 'lips': 1203, 'aggravated': 1906, 'afloat': 3141, 'rascals': 3142, 'ambrosia': 1970, 'tapered': 3143, 'shaker': 3144, 'big': 138, 'ceremony': 3145, 'baritone': 1971, \"lenny's\": 1829, 'moe_szyslak': 10, \"sat's\": 3146, 'bucket': 1972, 'return': 738, 'subject': 1478, 'knocked': 1479, \"crawlin'\": 1973, 'company': 850, \"other's\": 2355, 'i-i-i': 2794, 'libraries': 3147, 'officials': 3148, 'being': 414, 'butter': 4400, 'dough': 1974, 't-shirt': 1975, 'gabriel': 1976, \"'\": 3150, \"bart's\": 1481, 'pre-game': 3151, 'public': 1482, 'deny': 5467, 'nordiques': 3153, 'candidate': 1977, 'hate-hugs': 3154, 're-al': 3155, 'teriyaki': 3156, 'heroism': 3157, 'common': 3158, 'manjula': 1978, 'project': 1979, 'attack': 1980, 'wire': 739, 'spot': 1206, 'boxcars': 3159, 'dive': 1483, 'hammock': 6110, 'ambrose': 3161, 'reality': 3162, \"when's\": 3163, 'whoever': 3164, 'literature': 1679, \"round's\": 3166, 'ball-sized': 1981, 'f': 1543, 'incriminating': 3168, 'compromise': 6112, 'up-bup-bup': 3170, 'army': 1484, 'young_marge': 740, 'alien': 3171, 'sail': 3172, 'drown': 1982, 'exact': 3173, 'important': 1983, 'artie_ziff': 475, \"year's\": 1831, 'two-thirds-empty': 3176, 'continuum': 6671, 'crappy': 3178, 'these': 186, 'honeys': 4810, 'gags': 3179, 'deacon': 1984, 'accept': 1694, 'cuz': 3181, 'threatening': 1832, 'france': 1207, 'long': 321, 'texas': 1485, 'sangre': 3182, 'begins': 1985, 'spelling': 3183, 'clipped': 3184, 'frenchman': 4859, 'likes': 1743, 'rolling': 1987, 'trunk': 3187, 'yea': 976, 'chanting': 977, 'olive': 3188, \"doesn't\": 517, 'launch': 3189, 'girl-bart': 3190, 'fell': 3191, 'politician': 4790, 'find': 258, 'ha': 785, \"queen's\": 3192, \"changin'\": 5472, 'hockey-fight': 3194, 'jernt': 3195, 'burps': 1208, '35': 3197, 'months': 1209, 'changed': 1487, 'grammar': 3198, 'tiger': 4967, 'halfway': 3199, 'recorded': 3200, 'cotton': 1990, 'top': 741, 'plums': 3201, 'fonda': 3202, 'sobriety': 3203, 'full-blooded': 3204, 'presidents': 3205, 'ventriloquism': 3206, 'last': 204, 'brawled': 3207, \"where's\": 406, 'richard': 1991, \"world's\": 978, 'monkey': 2454, 'a': 12, 'hillary': 3210, 'spiritual': 5474, 'elaborate': 3211, 'lewis': 3212, 'himself': 742, 'self-esteem': 1992, 'walking': 791, 'low-blow': 3214, 'badges': 1993, 'plastered': 3215, 'frozen': 3216, 'spread': 1994, 'creature': 3217, 'sudoku': 3218, \"someone's\": 1995, \"larry's\": 3219, 'federal': 3220, 'meteor': 3221, 'gear-head': 3222, \"meanin'\": 1996, 'moon-bounce': 3223, 'putting': 1997, 'staying': 1489, 'dishonor': 3224, 'tastes': 1490, 'learn': 554, 'bum': 3225, 'giving': 851, 'intelligent': 3226, 'helped': 1998, 'slogan': 3227, 'pip': 3228, 'supplying': 3229, 'haw': 1999, 'mamma': 3230, 'gargoyle': 2000, 'patron_#1': 3231, 'through': 310, 'al_gore': 1491, 'competing': 3477, 'single-mindedness': 3233, 'trenchant': 3234, 'looked': 1492, 'by': 153, 'falling': 3235, 'sea': 2493, 'nigerian': 2001, 'heartily': 3236, 'ned_flanders': 342, 'lard': 5201, 'arguing': 3237, 'influence': 3238, 'homeless': 3239, \"england's\": 3240, 'u': 1210, 'injury': 4838, 'kidney': 2003, 'bastard': 2004, 'excuse': 407, \"dimwit's\": 3242, 'squeals': 3243, 'romantic': 852, 'old_jewish_man': 5833, 'snap': 2005, 'deserve': 2006, 'fill': 853, 'catty': 3244, 'shaved': 6612, 'stepped': 5277, 'available': 2007, 'says': 322, 'white': 2008, 'lift': 3246, 'kickoff': 3247, 'childless': 3248, 'insurance': 3249, 'kentucky': 3250, 'mmm': 2092, 'ribbon': 3251, 'carnival': 3252, 'pledge': 3253, 'senator': 1350, 'andrew': 3255, \"aristotle's\": 3256, 'fox': 2009, 'control': 3257, 'mad': 476, 'bones': 3258, 'safely': 3259, 'mines': 3260, 'recorder': 3261, 'beauty': 1212, 'outside': 555, 'düffenbraus': 3262, 'longer': 979, 'wraps': 3263, 'beards': 6124, 'seemed': 2010, 'calm': 980, 'souped': 3265, 'wonder': 981, 'begin': 3266, 'slip': 1494, 'husband': 1276, 'dirt': 1495, 'excited': 465, 'clincher': 3268, 'driveability': 3269, 'suspect': 2012, 'x': 1147, 'sang': 4820, 'hosting': 3270, 'say': 115, 'grrrreetings': 3271, 'wash': 2013, 'surprising': 3272, 'prettied': 3273, 'tactful': 4154, 'wagering': 3274, 'etc': 769, 'smoothly': 2015, 'hems': 3276, 'stevie': 2016, 'woman_bystander': 2017, 'smooth': 1213, 'pity': 982, '70': 3277, 'har': 1497, 'jury': 3278, 'jay_leno': 3279, 'rig': 3280, 'pit': 1214, 'sees/': 3281, 'located': 6056, 'ford': 3282, 'angrily': 3283, 'blood-thirsty': 2018, 'cockroaches': 3284, 'support': 3285, 'kool': 3286, \"bein'\": 1215, 'fishing': 3287, 'thanks': 214, 'hour': 1498, 'snitch': 3288, 'wins': 2019, 'advice': 743, 'poin-dexterous': 3290, 'sets': 3291, 'terrace': 3292, 'de-scramble': 3293, 'camp': 2020, 'julep': 3294, 'nelson_muntz': 3295, 'embarrassing': 1499, '4x4': 3297, 'pipe': 983, \"plank's\": 3299, 'ways': 2021, 'tooth': 3300, 'malabar': 5775, 'kent': 854, 'moments': 1500, 'craft': 3301, 'been': 106, 'patting': 3302, 'louisiana': 2952, 'marquee': 4848, 'twerpy': 3305, 'securities': 2604, 'quero': 3307, 'mill': 3309, 'dinner': 426, 'compete': 3310, 'twin': 2022, 'szyslak': 855, 'wells': 3311, 'rats': 1781, 'loboto-moth': 3550, 'british': 1501, 'singing/pushing': 3314, 'jack_larson': 1502, 'cajun': 5150, 'uses': 5490, 'walks': 1504, 'prayer': 2023, 'sloe': 4594, 'alone': 725, 'personal': 3315, 'researching': 3316, 'shard': 3317, 'macgregor': 3318, 'clenched': 3319, 'involved': 2024, 'clean': 477, 'index': 4200, 'pig': 674, 'pays': 1506, 'book': 338, 'proudly': 744, 'where': 139, \"readin'\": 2636, 'exasperated': 984, 'into': 123, 'cleaner': 2025, 'declan_desmond': 1216, 'eighty-seven': 2643, 'release': 2026, 'lead': 3323, 'regulations': 3324, 'drunkening': 3325, 'penmanship': 3326, '_montgomery_burns': 339, 'bumped': 3327, \"i'll\": 95, 'achem': 1920, 'shindig': 3329, 'morning': 609, 'scrutinizes': 3330, 'pantsless': 3331, \"treatin'\": 3332, 'use': 283, 'barstools': 3333, 'nooo': 3334, 'pissed': 1507, 'stirrers': 3335, 'amused': 3336, 'owe': 985, 'shakespeare': 2027, 'rub': 1803, 'deeply': 2028, 'alcoholism': 5736, 'ballclub': 3338, 'hammer': 3339, 'sniffs': 1508, 'jobless': 3976, 'bar_rag': 594, 'decide': 1836, 'bold': 2030, 'syndicate': 3341, 'oak': 3342, 'hunter': 1509, 'dignity': 3343, 'audience': 2031, 'booze-bags': 3344, 'peace': 1510, 'talk-sings': 1511, 'evergreen': 3345, 'philosophical': 3346, 'bake': 3347, 'else': 610, 'internet': 2032, 'folk': 2033, 'priority': 3348, 'third': 986, 'dull': 3349, 'fl': 3350, 'grandmother': 2410, \"clancy's\": 3351, 'boring': 987, 'marguerite': 2034, 'depressed': 3352, 'diminish': 3353, 'number': 817, 'normal': 856, 'damn': 745, 'starts': 1217, 'grimly': 2035, 'unavailable': 3354, 'asks': 3355, 'crossed': 2036, 'detecting': 2037, 'reaching': 2038, 'fun': 556, 'affectations': 3356, 'darts': 1791, 'rat': 857, 'contemplated': 3357, 'evil': 1513, 'heatherton': 6689, 'apart': 6002, 'helen': 2040, 'judges': 3359, 'act': 988, 'tells': 1514, 'impeach': 3360, 'sturdy': 4869, 'beloved': 989, 'regretful': 3777, \"who's\": 284, 'poor': 620, 'counting': 990, 'experience': 3362, 'orifice': 3363, 'american': 675, 'commission': 2043, 'scornfully': 3364, 'ails': 4872, 'pad': 2044, 'taken': 1515, \"tv's\": 3366, 'businessman_#1': 2045, 'tracks': 3367, 'needy': 2046, 'breathalyzer': 3368, 'scare': 2047, 'glasses': 991, 'theory': 3566, 'men': 612, 'melodramatic': 5499, 'lump': 3371, \"tony's\": 3372, 'bluff': 3373, 'chilly': 2048, 'quick': 929, 'flame': 3375, 'lenford': 3376, 'attraction': 3377, 'disappointing': 3378, 'nation': 1516, 'pilsner-pusher': 3379, \"she's\": 369, 'aging': 2049, 'whatchacallit': 3380, 'pouring': 2050, 'roll': 1455, 'tick': 2747, 'puts': 2052, 'school': 448, \"what'sa\": 2053, 'hose': 3383, 'ringing': 1921, 'laws': 2277, 'winded': 3385, 'players': 3386, 'showed': 3387, 'mmmmm': 3388, 'words': 825, 'pus-bucket': 3390, 'irish': 2775, 'zone': 3391, 'fine': 449, 'hardwood': 3392, 'los': 3393, 'activity': 6149, 'until': 963, 'forgive': 2765, 'starting': 1517, 'blade': 3395, 'acquitted': 3785, 'spare': 6155, 'seductive': 3396, 'dumbest': 3397, 'b': 2054, 'spooky': 2966, 'surprise': 2056, 'squeal': 3398, 'mop': 2057, 'urge': 3399, 'thinks': 614, 'vomit': 1518, 'easygoing': 6252, 'jets': 2058, 'barn': 676, 'clears': 1154, \"i'unno\": 6406, 'exhibit': 3401, 'sassy': 6523, 'chief': 408, 'peeved': 3402, \"here's\": 302, 'eats': 3403, 'jaegermeister': 3404, \"'til\": 1540, 'flash-fry': 3406, 'subscriptions': 3407, 'spews': 3408, 'liser': 3409, 'eyed': 6415, 'impending': 3410, 'taste': 3411, 'longest': 3412, 'shred': 3413, 'mm': 2059, 'spilled': 3414, 'acting': 2060, 'horses': 3415, 'talked': 2061, \"school's\": 3416, 'enjoyed': 3417, 'co-sign': 6020, 'extreme': 3418, 'hustle': 3419, 'hold': 384, 'pepsi': 3421, 'unearth': 3422, 'michael': 3423, 'hard': 946, 'misfire': 3425, 'heck': 3426, \"ball's\": 3427, 'ripper': 3428, 'outlive': 3429, 'society_matron': 3430, 'bindle': 3431, 'ugliness': 5509, 'links': 3433, 'troy': 1007, 'installed': 3434, 'father': 1220, 'forbids': 3435, 'sunk': 2974, 'alter': 3436, 'hurry': 1409, 'rough': 1720, 'carl_carlson': 46, \"'cept\": 3437, 'andalay': 2094, 'data': 3438, 'shreda': 3439, 'assert': 6156, 'y': 3441, 'glitz': 3442, 'van': 3443, 'ned': 840, 'neat': 2063, 'gimmicks': 3444, 'narrator': 746, 'guiltily': 3445, 'musses': 3446, 'goodbye': 615, 'natural': 1519, 'nasa': 2064, 'soot': 3447, 'grand': 994, \"friend's\": 3448, 'figures': 3449, 'brothers': 2844, 'dennis_conroy': 1222, 'forced': 6520, 'super-tough': 3451, 'understanding': 1520, 'women': 995, 'daaaaad': 3452, 'invisible': 3453, 'maude': 6158, 'warmth': 3455, 'barney_gumble': 42, 'unison': 1521, 'enter': 3456, 'journey': 6159, 'sweetheart': 2065, 'upbeat': 1306, 'illustrates': 3459, 'tree': 996, 'windex': 2066, 'popular': 1522, 'thirteen': 2067, 'jockey': 2068, 'out': 52, 'lady_duff': 3461, 'lover': 2069, 'muslim': 3462, 'onion': 3463, 'mulder': 3464, 'ore': 3465, 'refinanced': 3466, 'overflowing': 3467, 'y-you': 3468, 'kermit': 1523, 'thing': 134, 'ah': 117, 'rude': 3469, 'roomy': 2070, 'busted': 2071, 'bet': 858, 'dynamite': 1524, 'equivalent': 3470, 'closer': 1608, 'bump': 2883, 'soaps': 6000, 'remains': 2072, 'slop': 3472, \"wearin'\": 3473, 'dress': 2748, 'thirty-five': 3475, 'gossipy': 3476, 'scum': 1766, 'reliable': 2073, 'aerosmith': 2074, 'ancestors': 5166, 'soaking': 3478, 'cadillac': 3479, 'disappointed': 999, 'dregs': 3480, 'marjorie': 3481, 'tuborg': 3482, 'label': 1526, 'lungs': 3483, 'calling': 478, 'hotel': 3484, 'teacher': 2075, 'wipe': 1527, 'thoughts': 1528, 'mayan': 6165, 'exploiter': 4891, 'strangles': 3485, 'rainbows': 3486, 'waltz': 1915, 'inanely': 5522, 'omit': 4892, 'quite': 1280, 'tenor': 2415, 'first': 227, 'passports': 3490, 'root': 1529, 'jobs': 2077, 'alright': 747, 'menace': 3491, 'process': 3492, 'take-back': 6169, 'law': 1530, 'star': 859, 'arms': 1223, 'safe': 860, 'rupert_murdoch': 3494, 'nudge': 2078, 'domestic': 1225, 'special': 616, 'unexplained': 3495, 'presently': 3496, 'accelerating': 6086, 'lessons': 1000, 'when-i-get-a-hold-of-you': 3008, 'nervously': 3498, 'floated': 2079, \"donatin'\": 3022, 'unsanitary': 3499, 'stairs': 3500, 'thirty-three': 3501, 'moonlight': 3502, 'figure': 3503, 'p': 1001, \"soundin'\": 3504, 'gasps': 617, 'office': 3505, 'better': 188, 'rob': 1226, 'deep': 1227, '_powers': 2082, 'meanwhile': 3506, 'local': 1002, 'selection': 3507, 'cents': 1531, 'committing': 3508, 'thoughtless': 4898, 'attached': 3510, 'sing': 559, 'hank_williams_jr': 932, 'vermont': 5528, 'tuna': 3513, 'gallon': 3514, 'announcer': 1003, \"watchin'\": 1228, 'she-pu': 3515, 'sending': 3516, 'ya': 112, 'williams': 3517, 'column': 3518, 'predecessor': 3519, 'fbi_agent': 3520, 'habit': 3521, 'rich': 1285, 'cannot': 1480, 'non-american': 3522, 'toss': 1532, 'bitter': 861, 'grammy': 5531, 'stupid': 294, 'drollery': 4781, 'fault': 1534, 'second': 618, '1-800-555-hugs': 3524, 'tourist': 3525, 'lock': 2085, 'ayyy': 2086, '||exclamation_mark||': 9, 'smuggled': 3960, 'nature': 3527, 'beans': 3528, 'teenage_homer': 2087, 'buddha': 3193, 'donuts': 3530, 'disappeared': 2088, 'woozy': 2089, 'insecure': 3531, 'leg': 1775, 'sausage': 2090, 'lap': 2099, 'scores': 3533, 'badmouths': 3534, 'standards': 2091, 'sniffing': 3535, 'offense': 3536, 'peaked': 3537, 'shhh': 3538, 'loafers': 3539, 'proud': 1148, 'yourse': 3540, 'chinese_restaurateur': 3541, '||period||': 0, 'wasting': 1565, 'dutch': 6652, 'mccall': 4902, 'any': 209, 'appeals': 3544, \"couldn't\": 479, 'hiring': 3545, 'slays': 3546, 'trapping': 2985, 'adjust': 3548, 'confession': 3549, 'harrowing': 3313, '15': 3551, 'shove': 1536, 'suspiciously': 3552, 'party': 381, 'goldarnit': 3321, 'glum': 1538, 'botanical': 3555, 'tow-joes': 3556, 'sincerely': 5534, 'schemes': 3340, 'fever': 1747, 'moe-near-now': 3558, 'sentimonies': 6267, 'dentist': 6181, 'poorer': 3560, 'twelve-step': 3561, 'yogurt': 2093, 'possessions': 3563, 'whispered': 3564, 'ride': 1229, 'fellas': 748, 'little_man': 1004, \"o'problem\": 1218, 'noooooooooo': 3565, 'relax': 1539, 'geyser': 3369, 'groans': 3567, 'gotcha': 3568, 'delicately': 3569, 'martini': 4379, 'sticking-place': 3570, 'shush': 3571, 'vampire': 3394, 'president': 716, 'banquet': 3573, 'wore': 3574, 'diapers': 3575, 'pages': 3576, 'steak': 2095, 'whaaaa': 3405, 'waitress': 3577, 'revenge': 3578, 'voice': 243, 'ura': 3579, 'loud': 370, 'smoke': 2096, 'tenuous': 3581, 'verticality': 3582, 'haiti': 3583, 'barf': 2467, 'stunned': 1005, 'least': 597, 'guttural': 3584, 'music': 862, 'watered': 3585, 'moonnnnnnnn': 3547, 'extended': 3586, 'occurrence': 3587, 'spacey': 3588, 'loss': 2275, 'touchdown': 1541, 'delivery': 2097, \"hawkin'\": 3590, 'clubs': 3591, 'sponsor': 6186, 'wakede': 3511, 'sitcom': 3593, 'ironed': 2098, 'steaming': 3594, 'nash': 3532, 'aggie': 3595, 'tap': 749, 'morose': 2100, 'pickles': 3596, 'booze': 450, 'involving': 2101, 'annoying': 6188, 'sharps': 1006, 'tribute': 3599, 'gore': 3600, 'hostile': 3601, 'grinch': 3602, 'fiction': 3603, 'guts': 3604, 'boozebag': 3605, 'hangover': 5929, 'spend': 560, \"y'know\": 520, 'loser': 480, 'trusted': 2102, 'emphasis': 6193, '10': 4911, 'rag': 1232, 'disgracefully': 3608, 'cock': 3609, 'wears': 3610, 'crotch': 3611, 'rug': 3612, 'patty': 2110, 'rump': 3614, 'winning': 3615, 'barbara': 3616, \"dog's\": 3617, 'blamed': 3669, 'get': 56, 'drapes': 3619, 'partly': 2786, 'question': 1233, 'expert': 2118, \"raggin'\": 5644, 'driving': 1111, 'muffled': 3620, 'snorts': 2103, \"messin'\": 3621, 'furry': 3622, 'away': 326, 'jacks': 3624, 'brain-switching': 3625, 'plan': 863, 'magic': 1234, 'malted': 3626, 'squabbled': 3627, 'scared': 750, 'stagehand': 3738, 'tom': 1224, 'buffet': 3186, 'bartender': 521, 'hangs': 2104, 'punches': 2105, 'partners': 5546, 'fat_tony': 864, 'eye-gouger': 3629, 'intention': 3630, 'phasing': 3631, 'naively': 3632, 'trade': 3633, 'swings': 6477, 'creepy': 3634, 'move': 752, 'hounds': 3635, 'flat': 3636, 'la': 755, 'displeased': 3637, 'color': 2108, 'winner': 3638, 'endorsement': 3639, 'jerks': 1008, 'factor': 3640, 'felt': 1009, 'dreamy': 3641, 'inquiries': 3642, 'expose': 3643, 'schabadoo': 3644, 'brotherhood': 3645, 'homer_simpson': 13, 'statistician': 3646, 'tanking': 3647, 'ref': 3648, 'wearing': 1545, 'beats': 2109, \"tree's\": 3650, 'awfully': 3651, 'bleak': 3109, 'stools': 1546, 'flush': 3653, 'gimmick': 3654, 'calculate': 2111, 'swimming': 4563, 'crying': 2112, 'totally': 1010, 'tried': 1547, 'tomato': 3656, 'incredible': 3657, 'teeth': 1548, 'meatpies': 3658, 'she': 160, 'amount': 2113, 'treat': 1011, 'tabs': 3660, 'calmly': 2187, 'while': 236, 'appealing': 2188, 'milhouses': 3663, 'saying': 753, 'crowned': 3664, 'genius': 2114, 'rip-off': 3665, \"drexel's\": 3666, 'authenticity': 3667, 'pronto': 3668, 'lenny': 172, 'simpson': 317, 'overstressed': 3670, 'drives': 3671, 'lecture': 5548, 'buds': 3673, 'if': 72, 'militia': 3674, 'agent_johnson': 2115, 'convenient': 3971, 'rainforest': 5918, 'sport': 2117, \"'s\": 6627, \"summer's\": 3675, 'shaky': 6434, 'choose': 3676, 'noggin': 3677, \"havin'\": 1542, 'düff': 3678, 'unlocked': 3679, \"listenin'\": 5863, 'lovely': 2119, 'betty': 1235, 'lifts': 3681, 'ruuuule': 3682, 'jukebox': 865, 'huge': 772, 'sucking': 3683, 'declare': 3684, 's-a-u-r-c-e': 3358, \"that'd\": 4193, 'sky': 3686, 'general': 1550, 'looser': 3688, 'moesy': 3689, 'sobbing': 1236, 'driver': 1551, 'peppy': 2237, 'distributor': 2121, 'runs': 3691, 'handling': 3692, 'absolutely': 1012, 'renovations': 3693, 'part': 1013, 'reserved': 3694, 'witty': 2592, 'casual': 1552, 'celebrities': 1553, \"'bout\": 621, 'cuckoo': 3695, 'outs': 3696, 'dexterous': 3697, 'dateline': 2123, 'producers': 3698, \"stealin'\": 3699, 'mathis': 3700, 'practice': 3701, 'traitor': 3702, 'cliff': 3703, 'well-wisher': 3704, 'sack': 2124, 'affects': 5208, 'hate': 451, 'stagy': 1237, 'die-hard': 3705, 'kitchen': 3706, 'happens': 3707, 'chorus': 3708, 'cookies': 2593, 'undies': 6211, 'hell': 311, \"spyin'\": 6010, 'nfl_narrator': 3711, 'briefly': 3712, 'stick': 622, 'realized': 2272, 'place': 185, 'foam': 6528, 'ashtray': 3713, 'automobiles': 6212, 'ling': 3714, 'question_mark': 11, 'attach': 3715, 'ninety-seven': 4922, 'wiggle': 3716, 'sleigh-horses': 3717, 'donut-shaped': 3718, 'ninth': 3719, '6': 2126, 'present': 2127, 'kyoto': 2128, 'mean': 182, 'again': 222, 'steal': 561, 'dice': 3721, 'bupkus': 3613, 'greetings': 2129, 'awesome': 2285, 'awake': 3722, 'unintelligent': 3723, 'rip': 3724, 'marvin': 1525, 'hearts': 3726, \"i'm\": 25, 'box': 677, 'liable': 3728, 'nickels': 2131, 'sticker': 5998, 'door': 522, 'layer': 3729, 'dumptruck': 5806, 'seconds': 866, 'insightful': 2132, \"cheerin'\": 3730, 'korea': 3731, 'pulitzer': 3732, 'landfill': 3733, 'actors': 2305, 'joining': 2133, 'hopeful': 1014, 'urban': 3734, 'brusque': 3735, 'am': 127, 'gorgeous': 2134, 'protesting': 5960, 'mystery': 3736, 'dallas': 1015, 'teams': 2135, 'life-extension': 3737, 'pained': 1544, 'amid': 1239, 'mock': 1556, 'her': 113, 'sudden': 2323, 'routine': 2136, 'bubble': 2761, 'maman': 2137, 'bumblebee_man': 3742, 'table': 754, 'swell': 3743, 'housing': 3744, 'adult_bart': 1016, \"they'd\": 1557, 'worse': 602, \"sippin'\": 3746, 'strap': 1017, 'chuckling': 3747, 'tape': 523, 'wantcha': 3748, 'numbers': 867, 'seminar': 3749, 'what': 35, 'un-sults': 2138, 'fatso': 3751, 'colonel': 3752, 'crony': 3753, 'infestation': 3755, 'encouraging': 3756, 'guest': 1558, 'lemonade': 5497, 'spreads': 3757, 'starlets': 3758, 'grace': 3759, 'steel': 2140, 'wholeheartedly': 3760, 'memories': 2141, 'die': 452, 'fool': 1559, 'world-class': 3762, 'highest': 3763, 'frankie': 5562, 'respect': 1240, 'african': 1018, 'clone': 1560, 'follow': 1241, 'polenta': 3765, 'memory': 2142, 'ninety-nine': 5656, 'professor': 2346, 'shirt': 1055, 'wiping': 3766, 'expired': 3767, 'muscles': 3768, 'permanent': 3769, 'boned': 3770, 'jukebox_record': 3771, 'sap': 3772, 'work': 244, 'sec_agent_#1': 1561, 'zeal': 3773, 'ale': 2145, 'inspire': 2364, 'babies': 1242, 'landlord': 3775, 'gum': 2146, \"duff's\": 3776, 'lisa': 285, 'academy': 2371, 'wealthy': 5567, 'friends': 286, 'ingrates': 4652, 'diddilies': 3778, 'goods': 2376, 'half-back': 3779, 'jams': 4801, 'latour': 3328, 'rutabaga': 3782, 'railroads': 3784, 'meant': 1563, 'henry': 2147, \"'round\": 3786, 'slick': 4239, 'maitre': 3788, 'celebration': 3789, 'eleven': 1243, 'earrings': 3790, 'overturned': 3791, 'model': 3792, 'pants': 405, 'aunt': 3793, 'witches': 3794, 'searching': 1564, 'repeated': 3795, 'radishes': 1244, 'flowers': 1245, 'wordloaf': 2150, 'realizing': 562, 'bear': 1916, \"wonderin'\": 2638, 'puzzled': 1019, 'dae': 4016, 'plenty': 2151, 'sistine': 4811, 'culkin': 3799, 'wish': 340, 'heather': 3800, 'pussycat': 3801, 'paying': 1843, 'bell': 3803, 'yep': 1020, 'brain': 1282, 'temp': 3804, 'stiffening': 3805, 'goal': 3806, 'dejected_barfly': 3807, 'woo-hoo': 1696, 'ginger': 2153, 'krusty': 481, 'gasoline': 3808, 'mmm-hmm': 6226, 'venture': 3810, 'sanctuary': 3811, \"lefty's\": 4885, 'doll': 2155, 'clinton': 2107, 'used': 371, 'badly': 3812, 'kirk_voice_milhouse': 3813, 'watered-down': 2156, 'today/': 3815, 'shelf': 3816, 'bye': 1246, 'mention': 2157, \"sayin'\": 869, 'replace': 3817, 'the_rich_texan': 563, 'flea': 3818, 'santa': 2158, 'program': 1566, 'grunts': 1567, 'fleabag': 3819, 'wade_boggs': 2159, 'airport': 2160, 'glove': 756, 'typed': 3820, \"costume's\": 3821, 'eddie': 1022, 'sinister': 2161, 'scene': 1568, 'tearfully': 3822, 'caper': 4995, 'gruesome': 3824, 'abolish': 3825, 'tongue': 1023, 'arrest': 1247, 'hollowed-out': 3826, 'virility': 3827, 'quick-like': 3828, 'log': 3829, 'safety': 3830, 'ken': 1230, 'inning': 3831, 'lance': 3832, 'refreshing': 5016, 'shower': 2162, 'simultaneous': 5021, 'crow': 3835, \"elmo's\": 3836, 'terrible': 757, \"neat's-foot\": 6230, 'add': 4443, 'taylor': 3839, 'cueball': 2163, 'certificate': 3840, 'micronesian': 5071, 'funniest': 3841, 'cops': 2165, 'met': 1569, 'duffman': 272, 'bursts': 3842, 'eh': 175, \"table's\": 6232, \"makin'\": 759, 'fainted': 3844, 'fireball': 1570, 'days': 760, 'superdad': 5153, 'fish': 1064, 'familiar': 2166, 'decent': 2167, 'refill': 3846, \"battin'\": 3847, 'mustard': 3848, 'forget': 482, 'sleeps': 2168, 'old-time': 4740, 'beatings': 3849, 'ew': 3850, 'every': 237, 'loudly': 5173, 'crew': 2169, 'shareholder': 3851, 'girlfriend': 1249, 'jubilant': 2170, 'newest': 3852, 'prove': 2274, 'knuckle-dragging': 3652, 'cattle': 5204, 'oblongata': 5207, 'prices': 3857, 'pepper': 3858, 'je': 3859, 'and': 15, 'nucular': 3860, 'hail': 2289, 'talkers': 3862, 'luv': 3863, 'hated': 1170, 'saturday': 1571, 'correct': 1250, 'onions': 2171, 'progress': 3865, 'hear': 324, 'priceless': 5252, 'laugh': 303, 'pleading': 2173, 'clench': 3867, 'boxer': 1572, 'slot': 3868, 'wind': 3869, 'nevada': 3870, 'naturally': 2174, 'random': 3871, 'kirk': 3872, 'faulkner': 3873, 'slap': 870, '8': 3874, 'salt': 2175, 'cushions': 3876, 'yelp': 3877, 'continuing': 2176, 'money': 145, 'macbeth': 3878, 'burger': 3879, 'amends': 3880, 'nasty': 3881, 'truck': 1024, 'refund': 2177, 'sit': 1251, 'moolah-stealing': 3882, 'joke': 2178, 'conditioners': 3883, 'squeeze': 3884, 'pointed': 1252, 'dreamed': 2179, 'forecast': 3886, 'slobs': 3887, 'doll-baby': 3888, \"who'da\": 6239, 'spitting': 3889, 'broke': 761, 'bliss': 3890, 'image': 1573, 'listen': 223, 'skeptical': 2181, 'cushion': 3891, 'four': 341, 'option': 5176, 'novel': 3892, 'united': 3893, 'rainier_wolfcastle': 2182, 'clown-like': 3894, 'email': 3761, 'semi-imported': 3896, 'low-life': 3897, 'charlie': 1847, 'puke-holes': 5979, 'scary': 2183, 'widow': 3898, 'pretentious_rat_lover': 3899, 'gol-dangit': 3900, 'madison': 3901, 'losing': 1575, \"monroe's\": 2184, 'challenge': 1576, 'hardhat': 3902, 'across': 871, 'champignons': 3903, 'lowering': 2185, 'chauffeur': 2186, 'elect': 3662, 'source': 1577, 'neighbors': 3904, 'matter': 325, 'rafters': 3905, 'turlet': 3906, 'sarcastic': 1253, 'safer': 2334, 'whose': 1549, 'mint': 6333, 'cooking': 3907, 'kinds': 3908, 'weirded-out': 2189, 'limericks': 3909, 'floating': 3910, 'happiness': 5362, \"poisonin'\": 3912, \"robbin'\": 1578, 'survive': 1025, 'built': 2190, 'christopher': 2191, \"hangin'\": 2192, '_kissingher': 1579, 'joy': 3913, 'effigy': 2193, 'point': 623, 'following': 1580, 'cheering': 3914, 'hug': 1581, 'urine': 3915, 'dinks': 3916, 'mel': 1854, 'really': 101, 'your': 27, 'grampa_simpson': 354, 'brunch': 3917, 'warily': 2194, 'malfeasance': 3920, 'sympathetic': 2291, 'coach': 1582, 'damage': 3921, 'yawns': 2196, 'stories': 1026, 'goodnight': 679, 'heard': 453, 'shutting': 2197, 'professional': 1268, 'are': 57, 'feld': 3923, 'king': 680, 'sympathizer': 3924, \"toot's\": 3925, 'nah': 386, 'burn': 503, 'trainers': 3926, 'steinbrenner': 3927, 'dizer': 3928, 'springfield': 248, \"mother's\": 3929, 'marge_simpson': 74, 'excuses': 3930, 'winnings': 2199, \"liftin'\": 3931, 'boat': 1254, 'sniffles': 1583, 'evasive': 5664, 'anyone': 483, 'delts': 3932, 'cocks': 3934, 'takes': 872, 'reached': 2200, 'hare-brained': 3935, 'emporium': 3936, 'presents': 3053, 'edison': 1584, 'lot': 304, 'pointedly': 3937, 'dealer': 3938, 'dump': 592, 'cheerleaders': 3939, 'quality': 2202, 'dealt': 4112, 'chin': 3940, 'singing': 249, 'sponge': 2204, 'skins': 3941, 'scam': 1585, 'compressions': 3942, 'serious': 681, 'moans': 762, 'completely': 3943, 'butts': 763, 'average': 3944, 'traditions': 6250, 'thrilled': 5538, 'broken': 2660, 'owes': 6475, \"patrick's\": 2205, 'alls': 3945, 'leftover': 3946, 'business': 355, 'further': 3947, 'vacuum': 2206, \"d'ya\": 3948, 'fixed': 2207, 'spy': 2662, 'desperate': 873, \"s'cuse\": 3950, 'mommy': 3951, 'awe': 2208, 'disdainful': 3952, 'reach': 2209, 'elite': 3953, 'mozzarella': 3954, 'paint': 764, 'liability': 3955, 'twenty-nine': 3956, 'heh': 624, 'burning': 1587, 'delightfully': 3957, 'macaulay': 3958, 'crowd': 484, \"tomorrow's\": 3959, 'ladies': 454, \"tonight's\": 3961, 'caused': 2210, \"hadn't\": 2211, 'beer': 82, 'massachusetts': 3962, 'head-gunk': 3963, 'cartoons': 3964, 'sees': 1255, 'artie': 1027, 'arm-pittish': 3965, 'bender': 1032, 'kang': 1588, 'family': 348, 'rookie': 3966, 'anyhow': 3967, 'test': 1256, 'marvelous': 3968, 'shifty': 3969, 'depressant': 3970, 'mrs': 765, 'painted': 3972, 'uh': 59, 'raging': 3973, 'bowled': 3974, 'ahhhh': 3975, 'nards': 1589, 'winch': 3977, 'a-lug': 3978, 'knew': 429, 'glass': 312, 'killjoy': 3979, 'covers': 1590, 'host': 3058, 'fellow': 1028, 'al': 874, 'heals': 3981, 'stops': 3982, 'bees': 1257, 'fast-paced': 3983, 'bartholomé': 3984, 'hike': 3985, 'mona_simpson': 2213, \"wait'll\": 3986, 'b-day': 3987, 'bret': 1029, 'mags': 3988, 'beach': 1090, 'either': 625, 'understand': 1258, 'sigh': 565, 'hole': 1591, 'jumping': 3989, 'unfresh': 3990, 'film': 1592, \"man's\": 3991, 'muertos': 3992, 'conditioner': 2710, 'jägermeister': 3994, 'cries': 1259, 'full': 766, 'mis-statement': 3995, 'regret': 2214, 'chug-a-lug': 3996, 'contractors': 3997, 'margarita': 2215, 'whatsit': 3998, 'hoax': 3999, 'freak': 2216, 'commanding': 4000, 'remembering': 2217, 'planted': 4002, 'clammy': 4003, 'sue': 4004, 'tender': 4005, 'combine': 2218, 'what-for': 4006, 'powerful': 1850, 'exultant': 4008, 'detective': 4009, \"enjoyin'\": 6256, 'sweet': 250, 'went': 430, 'drawn': 4011, 'down': 122, 'playing': 626, 'coat': 1260, 'intense': 2219, 'whaaa': 4012, 'has': 177, 'shrugging': 2736, 'needed': 1261, 'carmichael': 4014, 'bull': 4015, 'cold': 767, 'leathery': 4017, 'recap': 4018, 'faded': 4019, 'disco_stu': 4020, 'liver': 1420, 'due': 2220, \"snappin'\": 5288, 'kucinich': 5513, 'homer_doubles': 4022, 'entertainer': 4264, 'beam': 2221, 'fresh': 2222, 'warren': 4023, 'perfected': 4024, 'poured': 4025, 'gee': 400, 'fires': 5759, 'could': 98, 'stupidly': 4028, 'thank': 313, 'bobo': 4029, 'back': 73, 'tomahto': 4030, 'website': 2223, 'snaps': 1594, 'dark': 4031, 'push': 1595, 'underbridge': 2224, 'mason': 4032, 'ron_howard': 4033, 'saga': 4034, 'sugar-free': 6262, 'southern': 4036, \"'evening\": 4037, 'pocket': 1596, 'savings': 4038, 'crushed': 4039, 'microwave': 4292, 'steely-eyed': 4040, 'courage': 2225, 'unhappy': 4041, 'museum': 2226, 'pro': 4042, 'writers': 2227, 'whip': 627, 'folks': 1264, 'circus': 4043, 'cocking': 4044, 'tired': 1030, 'worry': 431, 'delays': 5611, 'wreck': 6626, 'smells': 875, 'welcome': 768, 'wooden': 2228, 'caholic': 4046, 'politicians': 4047, 'bullet-proof': 4048, 'padres': 4049, 'restaurant': 1265, 'doof': 4050, 'life-partner': 5928, 'hiya': 1597, 'rented': 4051, 'pinball': 4052, 'sometimes': 2229, 'asking': 2230, 'mess': 2231, \"mtv's\": 4053, 'disgusted': 566, 'rhyme': 2802, 'hmf': 4055, 'h': 4056, 'such': 628, 'imagine': 1598, 'geez': 526, 'pulled': 1266, \"i've\": 99, 'gifts': 2232, 'cooker': 4985, 'drunk': 215, 'able': 1267, 'reason': 1600, 'hot': 567, 'commit': 4058, 'turns': 527, 'tapping': 4059, 'gregor': 4060, 'indignant': 1601, 'free': 387, 'bathed': 4987, 'theatrical': 4062, 'then': 89, 'mall': 2500, 'poker': 2233, \"should've\": 4063, 'mansions': 4064, \"somethin'\": 485, 'future': 1602, 'disguised': 4065, 'contemptuous': 6539, 'attend': 4066, \"ain't\": 169, 'jeff_gordon': 4067, 'surprised/thrilled': 4068, 'dating': 2234, 'little_hibbert_girl': 4069, 'pint': 2235, 'so-called': 2236, 'expense': 4071, 'keeping': 1603, 'see': 102, 'faint': 3690, 'tremendous': 4072, 'three-man': 4073, 'winston': 6083, 'oils': 4989, 'woo': 388, 'cleaned': 1031, 'doing': 402, 'befriend': 4075, 'sledge-hammer': 4076, 'barbed': 6374, 'terror': 4077, 'playful': 2238, \"can't-believe-how-bald-he-is\": 4078, 'presentable': 4079, 'today': 372, 'batmobile': 4080, 'seems': 737, 'technical': 4081, 'braun': 4082, 'bottle': 568, 'smart': 2239, 'alfred': 2240, 'k-zug': 4083, 'mistresses': 4084, 'poplar': 4085, 'freaky': 4086, 'plants': 4087, \"cat's\": 2122, 'damned': 4088, 'carve': 2241, 'ivana': 1269, 'besides': 6387, 'coney': 1604, \"cupid's\": 4089, 'wad': 4090, 'snake': 1378, 'denser': 2242, 'm': 569, 'ha-ha': 2243, 'platinum': 4091, 'wipes': 4092, 'sickened': 4093, 'coins': 2245, 'wishes': 2246, 'depression': 4094, 'stir': 2247, 'proper': 4095, 'pudgy': 4096, 'proves': 4097, 'minutes': 683, 'rest': 1033, 'ahead': 1270, \"homer'll\": 4998, 'tee': 4098, 'world': 271, 'man_with_crazy_beard': 4099, 'strong': 876, 'pre-recorded': 4100, 'anderson': 4101, 'kills': 4102, 'businessman_#2': 4103, 'bunion': 4104, 'strains': 4105, \"high-falutin'\": 4106, \"they've\": 1271, 'month': 4107, 'scratching': 4108, 'pure': 5002, 'desperately': 2962, 'guff': 4109, 'testing': 1034, 'genuinely': 4110, 'u2': 4111, 'christmas': 684, \"countin'\": 2250, 'hidden': 4113, 'somehow': 2251, 'lucky': 685, 'ends': 4114, 'trivia': 4115, 'psst': 4116, \"who'll\": 1272, 'stingy': 4117, 'tony': 877, 'admiring': 2252, 'pointing': 1606, \"i'd'a\": 3016, 'noise': 201, 'appropriate': 4119, 'yards': 2253, 'shill': 4120, 'warranty': 4121, 'other_player': 5628, 'swigmore': 4122, 'convinced': 4123, 'ebullient': 5629, 'a-b-': 4125, \"cashin'\": 4126, 'write': 878, 'breathless': 4127, 'boisterous': 4128, 'button-pusher': 4129, 'distance': 4130, 'composite': 4131, 'rush': 4132, 'smiles': 3094, 'trashed': 4133, 'touches': 4134, \"industry's\": 3106, 'grim': 1273, 'healthier': 4135, \"what're\": 2257, 'conspiratorial': 1951, 'africanized': 4136, 'lodge': 5632, 'increased': 4138, \"drawin'\": 2259, 'sauce': 1035, 'barflies': 314, 'resist': 5456, 'dennis': 3138, 'regulars': 2125, 'ticks': 4140, 'birthday': 879, 'bono': 2260, 'hillbillies': 4141, 'bald': 1274, 'like': 40, 'avec': 4142, 'glad': 770, 'buddies': 4143, 'quebec': 3885, 'set': 880, 'invited': 1036, 'slipped': 4145, 'break': 455, 'undated': 3209, 'complicated': 4146, 'carefully': 4147, 'tentative': 2261, 'enemy': 1780, 'children': 1037, 'stadium': 1609, 'who-o-oa': 1610, 'prefer': 2591, 'thunder': 4148, 'leprechaun': 4149, 'provide': 6283, 'daughter': 409, 'obese': 4150, 'queer': 2664, 'uninhibited': 4151, 'crimes': 6285, \"beer's\": 2262, 'score': 4153, 'passion': 2263, 'swatch': 3267, 'heads': 1611, 'wings': 2014, 'augustus': 4155, 'louse': 4156, 'harder': 2264, 'stu': 4157, 'raking': 3709, 'brag': 4159, 'hmm': 771, 'accurate': 1612, 'grumbling': 4160, 'pretends': 4161, 'versus': 6288, 'broncos': 4162, 'linda': 2266, 'with': 37, 'biggest': 1038, 'bloodball': 4163, 'cut': 529, 'advantage': 2267, 'passed': 2268, 'fills': 4164, 'thoughtful': 1277, 'vegas': 1613, 'heart-broken': 5471, \"he'd\": 1039, 'title': 2811, 'usually': 1278, 'villanova': 4167, 'ruled': 4168, 'laughter': 4169, 'stalin': 4170, 'femininity': 4171, 'military': 1614, 'panties': 4173, 'fall': 881, 'rhode': 4174, 'prison': 2269, 'female_inspector': 4175, 'kisser': 4176, 'adequate': 6315, 'mechanical': 1615, 'thanking': 4177, 'sideshow_mel': 4178, 'club': 1040, 'pursue': 4179, 'situation': 1279, 'asses': 4180, 'civil': 4181, 'played': 1616, 'cutie': 2271, 'graveyard': 4182, 'on': 29, 'acceptance': 4183, 'happen': 518, 'international': 1617, 'bubbles-in-my-nose-y': 4184, 'begging': 4185, 'treats': 4186, 'secrets': 1238, \"doctor's\": 5642, 'spits': 4187, 'assume': 4189, 'firm': 4190, 'absolut': 6648, 'killarney': 4191, 'gut': 5023, 'charge': 882, 'prep': 5008, 'enjoys': 5660, 'running': 1041, 'spied': 2080, \"calf's\": 4194, 'elocution': 4195, 'hispanic_crowd': 4196, 'rub-a-dub': 4197, 'case': 1281, 'wieners': 4198, 'bits': 5831, 'americans': 5811, 'legend': 3529, 'rumor': 6301, 'repeating': 4201, 'firing': 3562, 'turkey': 1618, 'tree_hoper': 3298, 'castle': 1284, 'another': 238, \"gettin'\": 571, 'straighten': 3589, 'composer': 4205, 'blind': 4207, 'maintenance': 4208, 'ronstadt': 4209, \"g'ahead\": 4210, 'heh-heh': 4211, 'angry': 686, 'regretted': 4212, 'enveloped': 4213, 'mortgage': 2276, 'riveting': 4214, 'an': 86, 'pregnancy': 4215, 'liven': 4216, 'chair': 4217, 'howya': 4218, 'reckless': 4219, 'mexican_duffman': 4220, 'cruel': 2278, 'somewhere': 1619, 'lear': 3160, 'wife': 247, 'winces': 4221, 'forgot': 883, 'coincidentally': 4222, 'boys': 687, 'generous': 2279, 'riding': 2120, 'winks': 4223, 'ohh': 2280, 'insults': 4224, 'wittgenstein': 4225, 'good-looking': 4226, 'laney': 4227, 'punkin': 4228, 'suspicious': 2011, \"wife's\": 1622, 'fayed': 4229, 'pre-columbian': 4230, '7g': 4231, 'however': 4232, 'falcons': 2282, 'astrid': 4233, 'stripe': 4234, 'alma': 4235, 'rector': 4236, 'bathing': 2283, 'kissing': 1623, 'lives': 884, \"that'll\": 885, 'stalking': 4238, 'super': 487, 'cozy': 2148, 'industry': 2284, 'wednesday': 4240, 'manboobs': 4241, 'abusive': 4242, 'courteous': 4243, 'throats': 5044, 'marshmallow': 4244, 'counter': 4245, 'fail': 4246, 'network': 4247, 'owns': 4248, '3rd_voice': 4249, 'tell': 142, 'grammys': 6183, 'jacksons': 4250, 'sickens': 4251, 'pine': 4252, 'tavern': 343, 'swig': 4253, 'broadway': 2286, 'enemies': 1624, 'smiled': 4255, '1895': 2287, 'hair': 886, 'proposing': 2288, 'lincoln': 3861, 'aside': 1533, 'shriners': 4257, 'massive': 4259, 'cell-ee': 4260, 'polish': 4261, \"edna's\": 4262, 'suds': 2290, 'len-ny': 4263, 'walther': 3895, 'ne': 4265, 'gees': 4266, 'lobster-based': 4267, 'icelandic': 4268, 'looooooooooooooooooong': 4269, 'blew': 2195, 'john': 4270, 'photo': 2292, 'mitts': 4271, 'kearney_zzyzwicz': 4272, 'blimp': 4273, \"nothin'\": 327, 'manager': 2293, 'they': 80, 'bleacher': 4274, 'son-of-a': 4275, 'organ': 2294, 'appreciated': 4276, 'gr-aargh': 4277, 'occurs': 4278, \"spiffin'\": 4279, 'badmouth': 4280, 'therefore': 2295, 'followed': 4281, 'j': 4282, 'eva': 4283, 'domed': 4284, 'grow': 1625, 'ground': 1626, \"time's\": 4285, 'gunter': 2296, 'haircuts': 4286, 'hungry': 1328, 'knowledge': 4288, 'speech': 1042, 'estranged': 4027, 'pennies': 4289, '/': 70, \"mecca's\": 4291, 'contest': 2084, \"yesterday's\": 4293, 'drop': 1627, 'other': 245, 'beast': 4294, 'four-star': 5360, 'protecting': 4295, \"'ceptin'\": 6465, 'extremely': 2608, 'elizabeth': 4296, 'boozy': 2457, 'much': 178, 'buttocks': 4297, 'soup': 2298, 'lease': 4298, 'uniforms': 4299, 'pleased': 1283, 'oh-so-sophisticated': 4300, 'missed': 2299, 'churchill': 2300, 'sticking': 4304, 'musketeers': 6306, 'chateau': 4306, 'dashes': 4307, 'double': 1628, 'huh': 167, 'uglier': 4308, \"something's\": 4309, 'pas': 4310, 'feat': 3111, 'checks': 1848, 'anti-intellectualism': 3526, 'i/you': 4311, 'housewife': 4312, 'behind': 530, 'loyal': 4313, 'lipo': 4314, 'seats': 2303, \"man's_voice\": 4315, 'brainheaded': 5024, \"bashir's\": 4318, 'tomorrow': 472, 'ear': 4320, 'mic': 2304, 'nobody': 373, 'reentering': 4321, 'view': 4322, 'terminated': 4323, 'hunky': 5962, 'mirror': 5025, 'issues': 4325, \"shouldn't\": 629, 'wheeeee': 4204, 'humanity': 4326, 'ape-like': 4206, 'sealed': 4328, 'ring': 1555, 'room': 488, \"spaghetti-o's\": 4329, 'curse': 4330, 'newsletter': 4331, 'window': 1043, 'pugilist': 4332, 'rods': 4333, 'sadly': 519, 'seas': 2306, 'hers': 4334, 'thirty': 887, 'xanders': 4335, 'glyco-load': 5027, 'issuing': 4337, 'pajamas': 4338, 'curiosity': 4339, 'affection': 4340, 'ireland': 4341, 'don': 2307, 'guinea': 6615, 'fortune': 4342, 'wife-swapping': 4343, 'windelle': 4344, 'sharing': 4345, 'eighty-one': 2308, \"'ere\": 3420, 'insulted': 2309, 'flourish': 4346, 'low': 531, 'dana_scully': 4667, 'endorse': 1629, 'sadistic_barfly': 1630, 'design': 4349, 'fancy': 1631, 'manfred': 4350, 'bloodiest': 4351, 'simp-sonnnn': 2312, 'citizens': 4352, \"men's\": 1457, 'show': 273, 'dumb': 918, 'anti-lock': 4354, 'pile': 6145, 'food': 773, 'selma': 1044, 'percent': 1962, \"talkin'\": 532, 'male_singers': 4356, '||colon||': 2, 'radioactive': 4357, 'murmur': 2311, 'exchange': 2310, 'bonfire': 4358, 'flying': 2313, 'sued': 4359, \"collector's\": 4360, 'stonewall': 4361, 'attempting': 2314, 'cheers': 1632, 'tie': 2332, 'pillows': 4461, 'total': 4366, 'pack': 4466, 'crisis': 4367, 'single': 1633, 'nice': 274, 'tsk': 630, 'deer': 1172, 'forty-nine': 4368, 'smelling': 4353, 'beer-dorf': 4369, 'seriously': 2315, 'dea-d-d-dead': 4370, 'youngsters': 4371, 'blackjack': 4372, 'drove': 4373, 'poetry': 3659, 'hunting': 2316, 'california': 5673, 'presided': 4375, 'broom': 2317, 'softer': 4376, 'bedridden': 4377, 'alternative': 5031, 'cletus_spuckler': 4527, 'updated': 4380, \"buffalo's\": 2318, 'worthless': 4381, 'marry': 6303, 'medieval': 4382, 'th': 4383, 'shoulders': 4384, 'sternly': 4385, 'rainier': 4386, 'presses': 5032, 'singers': 1634, 'desire': 4388, 'admitting': 2319, 'partner': 1286, 'cobbling': 4389, 'fictional': 2320, 'chapel': 4390, 'surprised': 489, 'allowance': 4391, 'own': 432, 'capuchin': 4392, 'help': 197, 'poetics': 4394, 'ah-ha': 2321, 'grandkids': 4395, 'shaggy': 2322, 'bon-bons': 4396, 'multi-purpose': 4397, 'toxins': 3740, \"smokin'_joe_frazier\": 1045, 'tickets': 6214, 'states': 4398, 'faith': 4399, 'forty-five': 6327, 'david': 2324, \"we're\": 137, 'cleaning': 4401, 'gal': 1635, \"wouldn't\": 376, 'clothes': 1302, 'aww': 1636, 'darn': 4403, 'do': 53, 'handler': 4404, \"brady's\": 4405, 'whatever': 558, 'wanted': 410, 'upn': 4406, 'labor': 4407, 'engraved': 4408, 'splattered': 4355, \"betsy'll\": 4410, 'trucks': 4411, 'hawaii': 4412, 'takeaway': 4413, 'kenny': 4347, 'lame': 4415, 'fink': 4416, 'scully': 2325, 'hootie': 4417, 'turn': 344, 'chum': 2326, 'dumpster': 4418, 'birthplace': 4419, 'spamming': 4420, 'funeral': 5678, 'leans': 1858, 'wok': 5124, 'dramatic': 1287, 'exhaust': 1638, 'nail': 4424, 'seat': 775, 'drive': 490, 'forget-me-drinks': 4425, 'dramatically': 4426, 'flatly': 1639, 'taught': 4427, 'fletcherism': 4428, 'miss': 703, 'disaster': 4430, 'raises': 1288, 'vanities': 4431, \"handwriting's\": 4432, 'intriguing': 4433, 'l': 1640, 'compliment': 1641, 'befouled': 2328, 'talkative': 4434, 'lisa_simpson': 135, 'resenting': 4436, 'anything': 305, 'lovelorn': 4437, 'term': 4855, 'dejected': 4439, 'ping-pong': 5734, 'remembers': 4440, 'lifters': 4441, 'releasing': 4442, \"grandmother's\": 4444, 'gangrene': 3167, 'pitcher': 1289, 'blissful': 4445, 'minors': 4446, 'books': 1290, 'mixed': 2329, 'yellow': 1419, 'transfer': 4448, 'reconsidering': 4449, 'starla': 2330, 'think': 96, 'sickly': 4450, 'daniel': 4451, 'rubs': 4452, 'glorious': 4453, 'salad': 1642, 'intakes': 4454, 'italian': 4455, 'band': 1291, 'gheet': 4457, 'charges': 4458, 'strawberry': 4459, 'fatty': 4363, 'maya': 673, 'handing': 2569, 'troll': 1047, 'graves': 4364, 'anybody': 691, 'gayer': 4460, \"pullin'\": 4950, 'squirrel': 4365, 'diaper': 4462, 'motor': 3382, 'material': 4464, 'blame': 581, 'few': 1048, 'beverage': 4465, 'chuckle': 288, '||left_parentheses||': 4, 'sixty-nine': 1621, 'i-i': 1049, 'aidens': 6660, 'disillusioned': 3174, 'habitrail': 6339, 'finished': 1645, 'scientific': 4470, 'misconstrue': 4471, 'dipping': 5005, 'fears': 4472, 'environment': 4473, 'louder': 2336, 'whoo': 4474, 'cab_driver': 4475, 'specific': 4476, \"moe's\": 179, 'finale': 4478, 'silence': 5039, 'register': 1646, 'undermine': 4479, 'piling': 4480, 'legs': 1050, 'practically': 5049, 'bubbles': 2338, 'customers-slash-only': 4482, 'shorter': 3911, 'hemorrhage-amundo': 5076, 'brown': 4483, 'bouquet': 4484, 'gay': 1051, 'slender': 5097, 'yo': 1647, 'suru': 5691, 'womb': 4487, 'gloop': 4488, 'tha': 4489, 'jasper_beardly': 4490, 'knife': 2340, 'hostages': 4491, 'slightly': 2341, 'thanksgiving': 2342, 'laramie': 2270, 'tonic': 4493, 'dyspeptic': 4494, 'rope': 1052, 'site': 4495, 'little': 90, 'married': 649, 'judgments': 5187, 'passenger': 5924, 'sometime': 1648, 'unlucky': 1649, 'class': 888, 'movement': 5200, 'fistiana': 5895, 'shells': 4499, 'heavens': 4500, 'radiator': 4501, 'plum': 2553, 'high-definition': 4503, 'smoker': 4504, 'complaining': 2343, 'nachos': 4506, 'knit': 4507, 'moe': 31, 'rather': 1294, 'stinks': 2344, 'load': 4509, 'banquo': 2345, 'computer': 1295, 'which': 295, 'gimme': 411, 'card': 692, \"g'night\": 4510, \"fans'll\": 4511, 'song': 572, 'disappointment': 5258, 'nonchalantly': 4513, 'cocoa': 4514, 'eighty-five': 4515, 'aghast': 4327, 'relieved': 2631, 'accent': 1054, 'killing': 5056, 'sixty': 4517, 'rockers': 4518, 'harv': 631, 'sorts': 4519, 'peppers': 4520, 'edgy': 4521, 'sacrilicious': 4522, 'chest': 1651, 'newly-published': 4523, 'cockroach': 4524, 'leak': 4525, 'usual': 4526, 'reading': 374, 'pyramid': 4528, 'thrust': 4529, 'mugs': 4531, 'social': 2431, 'mindless': 4532, \"idea's\": 4533, \"yieldin'\": 4534, 'na': 389, 'way': 155, 'knock': 1296, 'edna-lover-one-seventy-two': 4535, 'stole': 1652, 'check': 277, 'kinda': 492, 'throat': 573, 'movie': 1084, 'suburban': 4537, 'canyoner-oooo': 4538, 'raining': 4539, 'life-threatening': 5083, 'uncomfortable': 1655, 'feels': 1297, \"playin'\": 4540, 'cheerier': 4541, 'churchy': 4542, 'nemo': 4543, 'heart': 574, 'mexican': 5425, 'baloney': 5427, 'listens': 4544, 'jogging': 4545, 'half': 889, 'grudgingly': 4546, 'conversation': 2143, 'here-here-here': 4547, 'dan': 2347, 'tobacky': 4548, 'bowl': 632, 'neighbor': 2348, \"santa's\": 4549, 'foodie': 4550, \"can't\": 93, 'freaking': 4551, 'author': 4552, 'friendship': 2349, 'rims': 4553, 'officer': 4554, 'rocks': 4555, 'weirder': 2350, 'swe-ee-ee-ee-eet': 4556, 'philosophic': 4557, 'take': 121, 'creates': 4558, 'disguise': 4559, 'including': 4560, 'everything': 375, 'dime': 4561, 'pathetic': 1656, 'harvesting': 4562, 'junebug': 6346, 'halvsies': 4564, 'statesmanlike': 4565, \"aren'tcha\": 4566, 'tune': 890, 'keep': 275, 'ratio': 4567, 'aerospace': 4568, 'swear': 1056, 'yee-haw': 1657, 'johnny_carson': 5699, 'thoughtfully': 2352, 'fridge': 1299, 'edge': 4745, 'blooded': 5700, 'deals': 4571, 'safecracker': 4572, 'valley': 4573, 'appearance-altering': 4574, \"fishin'\": 4575, 'rancid': 4576, \"shootin'\": 4577, 'fwooof': 3275, 'espn': 4578, 'powered': 4579, 'uh-oh': 575, 'germans': 4581, 'pats': 1658, 'destroyed': 4582, 'finance': 4583, 'handsome': 1057, 'polygon': 4584, 'amiable': 4585, 'sitar': 2353, 'verdict': 4586, 'thinking': 390, 'disappear': 4587, 'center': 1058, 'guard': 4588, 'sidekick': 4589, 'cuff': 4590, 'products': 2354, 'herself': 4591, 'all-american': 4592, 'greystash': 1446, 'replaced': 5130, 'pictured': 4256, 'doctor': 4798, \"cont'd\": 4596, 'paris': 1660, 'mariah': 4597, 'brace': 4598, 'yet': 694, \"hobo's\": 4599, 'canyonero': 412, \"barney's\": 1661, 'beligerent': 4600, 'typing': 4601, 'ruin': 1662, 'high': 533, 'ho-ly': 4070, 'anguished': 1663, \"workin'\": 1116, '2nd_voice_on_transmitter': 4602, 'enthusiasm': 6351, 'win': 456, 'health_inspector': 891, 'interrupting': 4604, 'lied': 4605, 'higher': 1664, 'canoodling': 4606, 'binoculars': 4607, 'unhook': 4608, 'drinker': 4609, 'measurements': 2358, 'wheel': 1059, 'yell': 2359, 'miss_lois_pennycandy': 5069, 'should': 189, 'festival': 2361, 'baby': 413, 'snatch': 5070, 'steampunk': 4610, 'bills': 5135, 'listening': 2363, 'c': 296, 'wowww': 6354, 'committee': 3149, 'nose': 1205, 'midge': 1300, 'feeling': 457, 'won': 892, 'studio': 2365, 'someplace': 5708, 'bill_james': 4611, 'guns': 1301, 'blows': 5906, 'concentrate': 4612, 'heave-ho': 4613, 'upon': 1666, '7-year-old_brockman': 2367, 'pronounce': 4614, 'lessee': 4615, \"mcstagger's\": 4616, 'simple': 4617, 'consider': 1667, 'donation': 4618, 'afford': 1769, 'intoxicated': 4620, 'picked': 4621, 'pee': 5709, 'collette': 777, 'hundreds': 4623, 'dreamily': 4624, 'separator': 4625, 'propose': 4626, 'wasted': 4912, 'eyes': 458, 'hears': 4628, 'peanuts': 778, 'sumatran': 4629, 'clandestine': 4630, 'feast': 2368, 'lady-free': 4631, 'credit': 4632, 'large': 2680, 'fringe': 5073, 'uneasy': 1668, 'portfolium': 4634, 'visas': 4635, 'weak': 1669, 'oww': 4636, 'later': 695, 'spouses': 4637, 'stage': 4638, 'meyerhof': 4639, 'transylvania': 4640, 'spellbinding': 4641, 'logos': 4644, 'arm': 696, 'comedy': 2369, 'swan': 4645, 'grandiose': 2370, 'fired': 4402, 'devils': 4646, 'apology': 5676, 'indifferent': 4648, 'goes': 690, 'releases': 4649, 'necklace': 4938, 'reminded': 4650, 'but': 41, 'upgrade': 4651, 'fraud': 1607, 'stand': 576, 'grub': 4653, 'wacky': 4654, 'julienne': 4655, 'nerve': 2372, 'cheated': 4656, 'eating': 893, 'isle': 2373, \"c'mere\": 1670, 'avalanche': 6360, \"foolin'\": 4658, 'prohibit': 2375, 'nitwit': 4659, 'pub': 1303, 'edner': 4660, 'suspended': 4661, 'lonely': 1671, 'cable': 1304, 'wide': 1672, 'terrifying': 4662, \"c'mom\": 4664, 'nonchalant': 4665, 'unbelievably': 4666, 'represent': 1088, 'boo': 1562, 'covering': 1673, '_hooper': 1144, 'cure': 4668, 'photographer': 4669, 'venom': 4670, 'encore': 6601, 'arrange': 4671, 'whole': 579, 'species': 4672, 'bulked': 3781, 'lenny_leonard': 34, 'knives': 4674, 'published': 4675, \"somethin's\": 4676, 'forty-seven': 4677, 'twice': 2377, 'taunting': 4678, 'football_announcer': 894, 'diets': 4679, 'nbc': 4680, 'dingy': 4254, 'unkempt': 4681, 'dee-fense': 2378, 'wizard': 4682, 'nightmare': 4683, 'choice': 1060, 'power': 895, 'ummmmmmmmm': 4409, 'punching': 4684, 'intruding': 4685, 'authorized': 2379, 'fresco': 3780, 'sector': 2380, 'appalled': 4686, 'aggravazes': 4688, 'dumbbell': 4689, 'uh-huh': 697, 'fans': 1676, 'carlson': 2381, 'dna': 4690, 'pepto-bismol': 4691, \"game's\": 2382, 'cool': 698, 'solves': 4692, 'hey': 30, 'stored': 4693, 'salary': 4694, 'troy_mcclure': 2383, 'william': 4695, 'shall': 896, 'lord': 1062, 'poisoning': 4696, 'especially': 1305, 'tow-talitarian': 4697, 'he': 76, 'guilt': 5088, 'alcohol': 494, 'reaction': 4699, 'maxed': 4870, 'cross-country': 4701, 'tester': 2827, '$42': 4703, 'corkscrews': 4704, 'roller': 3798, 'frogs': 4705, 'nursemaid': 4706, 'jewelry': 4707, 'fry': 4708, 'art': 4709, 'synthesize': 4710, 'volunteer': 4711, 'whenever': 2384, 'gary_chalmers': 1677, 'religion': 1678, 'in-ground': 4712, 'chapter': 4414, 'refreshingness': 4714, 'dean': 5723, 'breaking': 1864, 'white_rabbit': 5917, 'taxi': 5090, 'faiths': 4716, 'incapable': 4717, 'cars': 2818, 'groan': 3165, 'obsessive-compulsive': 4718, 'oof': 2640, 'horrors': 4719, \"'pu\": 6372, 'lime': 4720, 'profiling': 4721, 'package': 4722, 'coin': 4723, 'ghouls': 5395, 'black': 758, 'catch-phrase': 4724, 'waters': 4725, 'bridges': 4726, 'clothespins': 2388, 'hygienically': 4727, 'chub': 4728, 'monday': 5616, 'snotty': 4729, 'plus': 779, 'honest': 897, 'janette': 4730, 'expensive': 4731, \"s'pose\": 4732, 'lemme': 699, 'examines': 4733, \"thinkin'\": 4734, 'saved': 1065, 'de': 4736, 'unforgettable': 6375, \"people's\": 4737, 'pick': 433, 'some': 92, \"comin'\": 377, 'fica': 4739, 'envy-tations': 4741, 'modest': 4742, 'grabbing': 1681, \"she'd\": 4743, 'eight-year-old': 4744, 'theatah': 3875, 'zoomed': 4746, 'comic': 2149, 'territorial': 6357, 'unless': 1163, 'flack': 4747, 'fiiiiile': 4748, 'tries': 2389, 'death': 1683, 'knees': 2390, 'be-stainèd': 4749, 'nothing': 700, 'tsking': 4750, 'flower': 1422, 'wrestle': 4751, 'extra': 1684, 'car': 218, 'mid-seventies': 4752, 'already': 534, 'planned': 4753, 'microbrew': 4754, 'luckiest': 4755, 'ripping': 4756, 'laughs': 315, 'xx': 4757, 'ever': 154, 'eighty-six': 4758, 'games': 1067, 'wobble': 4759, 'jamaican': 1685, 'unattended': 4760, 'caricature': 4761, 'spine': 4762, 'notch': 4764, 'ratted': 4765, 'george': 4766, 'computer_voice_2': 4767, 'swamp': 4768, 'made': 210, 'kick-ass': 4769, 'my-y-y-y-y-y': 4770, 'mull': 4771, 'sponsoring': 4772, 'city': 781, 'dum-dum': 5101, 'grope': 4773, \"hasn't\": 2391, 'ho': 1687, 'amanda': 1308, 'so': 43, 'angel': 2392, 'rivalry': 4774, 'employees': 4775, 'finish': 6509, 'vodka': 2393, 'bagged': 4776, 'agency': 4777, 'bedtime': 4778, 'sloppy': 4779, 'swill': 2394, 'crummy': 1688, 'parenting': 4780, 'explaining': 1309, 'gosh': 2395, 'allow': 4782, 'bob': 1689, 'omigod': 898, 'juan': 4783, 'assistant': 2396, \"tinklin'\": 4784, 'billiard': 5947, 'skin': 2397, 'wage': 4785, 'dearest': 2474, 'padre': 1924, 'pews': 4788, 'asked': 1068, 'house': 328, 'wondered': 4789, 'macho': 4492, 'moving': 4791, 'group': 899, 'coyly': 4792, 'p-k': 5742, 'colossal': 4793, 'series': 4794, 'took': 392, 'duh': 1069, 'face': 211, 'bottom': 1310, 'forehead': 2644, '||right_parentheses||': 5, '-ry': 4796, \"life's\": 4797, 'paper': 4800, '||return||': 1, 'underwear': 4802, 'disgraceful': 3068, 'county': 4804, 'intrigued': 782, 'bright': 1691, 'alec_baldwin': 4805, 'woulda': 4806, 'toilet': 1692, 'wrong': 356, 'irrelevant': 4807, 'attractive_woman_#1': 4808, \"this'll\": 6120, 'yes': 231, 'toms': 4812, 'save': 434, 'palm': 2398, 'emotion': 4813, 'hanh': 4814, 'century': 2399, 'got': 55, 'press': 4815, 'sound': 393, 'spoken': 1693, 'oh-ho': 5745, 'ignorant': 4817, 'message': 1968, 'defiantly': 5110, 'bread': 2400, 'marge': 118, 'cleveland': 4821, 'frescas': 4822, 'hottest': 4823, 'disco': 2401, 'kind': 329, 'traitors': 4824, 'appendectomy': 4825, 'deadly': 2402, 'bed': 1157, 'iddilies': 4826, 'alpha-crow': 4827, 'cavern': 4828, 'close': 577, 'cummerbund': 4830, 'dads': 5832, 'dennis_kucinich': 2403, 'hammy': 4831, 'tab': 701, 'wheels': 4832, 'shaken': 2404, 'answering': 2405, 'relaxed': 4833, 'acquaintance': 2406, 'everybody': 259, 'blessing': 4834, \"plaster's\": 4835, 'live': 578, 'albert': 4836, 'adjourned': 4837, 'judge': 2407, 'thought_bubble_lenny': 3241, 'would': 136, 'unusual': 3245, 'erasers': 4840, 'teenage': 1695, 'anger': 6087, 'contemplates': 4841, 'fledgling': 4842, 'teach': 1385, 'insured': 4844, 'bounced': 4845, 'mcstagger': 2408, 'yesterday': 1312, 'bathroom': 2409, 'tablecloth': 4846, 'jig': 4847, 'resigned': 3304, 'napkins': 3306, \"starla's\": 4850, 'youuu': 4851, 'enforced': 4852, 'honey': 901, \"coaster's\": 4853, 'ungrateful': 4854, 'phrase': 4438, 'whim': 4857, 'ingested': 4858, 'hoped': 3796, \"america's\": 3185, 'capitalists': 4860, 'flophouse': 4861, 'windowshade': 4862, 'wigs': 4863, 'wrecking': 4864, 'boozer': 4865, 'barter': 4866, 'roz': 1512, 'maiden': 4867, 'onto': 4868, 'ech': 2411, \"payin'\": 2041, 'chairman': 4871, 'life': 174, 'grateful': 3365, 'considers': 4873, \"leavin'\": 4874, 'enough': 378, 'half-day': 4875, 'said': 232, 'seven': 496, 'disapproving': 2412, 'anarchy': 2413, 'truth': 902, 'tornado': 4876, \"bar's\": 2414, 'indeed': 4877, 'bars': 1313, 'country': 4878, 'forgotten': 4879, 'amnesia': 4880, 'stars': 4881, 'english': 783, 'figured': 1314, 'dumbass': 4882, 'forty': 1315, 'courts': 4883, 'filthy': 1070, 'jane': 4884, 'positive': 2154, 'jack': 1071, 'brother-in-law': 4886, 'supervising': 4887, 'frat': 4888, 'amber': 4889, 'aisle': 4890, 'smug': 2076, 'irishman': 3727, 'buyer': 3488, 'unlike': 1895, 'prompting': 4893, 'fluoroscope': 4894, 'ahh': 784, 'blurbs': 4895, 'hooters': 4896, 'hotenhoffer': 4897, 'prayers': 3509, 'bowling': 1698, 'celeste': 3460, 'started': 1316, 'sixty-five': 4899, 'ocean': 2416, 'sheepish': 1317, 'monkeyshines': 5684, 'entirely': 2417, 'waylon_smithers': 345, 'sneering': 4900, 'pernt': 4901, 'connor-politan': 3542, 'bachelorette': 4903, 'bite': 1699, 'worth': 2418, 'wangs': 2419, 'short': 1072, 'privacy': 6649, 'reunion': 4904, 'coming': 535, 'kadlubowski': 4905, 'beginning': 1700, 'jokes': 5482, 'proposition': 4906, 'cameras': 1826, 'terrorizing': 4907, 'mate': 2420, 'and-and': 4908, \"getting'\": 4909, 'doy': 4910, \"moe's_thoughts\": 1231, 'nigeria': 2421, 'turned': 633, 'upsetting': 4913, 'evils': 4914, 'alibi': 5123, 'mistake': 1701, 'pancakes': 4916, 'lying': 903, \"where'd\": 1486, 'gals': 2422, 'ago': 1073, 'ready': 786, 'favor': 1074, 'chuck': 4917, 'pull': 634, 'mimes': 4918, 'this': 24, 'belly-aching': 4919, 'restaurants': 2423, \"depressin'\": 4920, 'greatest': 635, 'whistles': 2424, 'waylon': 2425, 'advance': 2426, 'hooray': 4921, 'clock': 2427, 'lindsay_naegle': 1702, 'opening': 1554, 'sign': 460, 'strokkur': 4924, 'mafia': 1703, 'dials': 2428, 'hampstead-on-cecil-cecil': 4925, 'buzziness': 6403, 'society': 4926, 'four-drink': 4927, 'day': 157, 'talking': 580, 'enabling': 4928, 'wolverines': 4929, 'inspection': 1705, 'abcs': 4930, 'lay': 3745, 'swimmers': 4932, 'ye': 2429, 'director': 1706, 'innocuous': 4933, 'realize': 2430, 'derisive': 4934, 'flag': 2331, 'pleasant': 2152, 'shopping': 4936, 'kneeling': 4937, 'garbage': 1318, 'colorado': 5095, 'moustache': 4939, 'secret': 415, 'mac-who': 4941, 'joint': 1075, 'leonard': 4942, \"fun's\": 4943, 'corpses': 1707, 'plywood': 2432, 'blues': 2433, 'goodwill': 4944, 'behavior': 4945, 'clips': 4946, 'go-near-': 4947, 'anymore': 636, 'clapping': 4948, 'drinking': 435, 'administration': 4949, 'sodas': 2434, \"they'll\": 1708, 'bartenders': 2333, 'between': 2435, \"bladder's\": 4951, 'wallet': 1076, 'skinner': 461, 'floor': 1709, 'bites': 4952, \"tv'll\": 4953, 'e': 5129, 'punk': 2436, 'crapmore': 4956, 'snout': 4957, 'magnanimous': 4958, 'consoling': 4959, 'violations': 2437, \"there's\": 133, 'rotch': 1319, 'scoffs': 4960, 'exclusive': 4961, 'horns': 4962, 'pen': 6229, 'election': 1644, 'luck': 1077, 'disposal': 4963, 'brow': 2438, 'level': 2439, 'wuss': 4964, 'grandé': 4965, 'ballot': 4966, 'duel': 1989, 'jer': 4968, 'next': 316, 'bookie': 4969, 'mob': 2440, 'mouse': 1078, 'backwards': 1710, 'gluten': 4970, 'sings': 287, 'worried': 582, 'sweetie': 4971, 'without': 462, 'railroad': 2441, 'presidential': 4972, 'brewed': 2442, 'occurred': 4973, 'moved': 1711, 'yew': 6154, 'bachelor': 4974, 'fury': 4975, 'artist': 4977, 'actually': 357, 'cyrano': 4978, 'parking': 1712, 'sampler': 4979, 'pour': 787, 'lorre': 4980, 'sotto': 788, 'swishkabobs': 4981, 'toward': 1713, 'occupied': 4982, 'bus': 1868, 'past': 1714, 'sooner': 2443, 'more': 125, 'betrayed': 4983, 'pageant': 1715, 'firmly': 2444, 'spender': 4984, 'true': 394, 'shape': 1716, 'w': 2445, 'checking': 1599, 'norway': 4986, 'pretzels': 3980, 'heavyweight': 1320, 'duffed': 4988, 'bigger': 2459, 'savvy': 4074, 'lowest': 4990, 'reporter': 1717, \"family's\": 4991, 'inside': 789, 'showered': 4992, 'waist': 4993, 'methinks': 4994, 'blinded': 3823, 'rent': 4996, 'emotional': 2446, 'brightening': 2447, 'jolly': 1605, \"disrobin'\": 4999, 'hoagie': 5000, 'listened': 5001, 'ahhh': 2448, 'abandon': 2248, 'milhouse': 1718, 'fifteen': 1321, 'bird': 2449, 'join': 688, \"rasputin's\": 5003, 'motorcycle': 2039, 'cover': 1323, 'twelve': 1324, 'fonzie': 5136, 'student': 5004, 'smiling': 1325, 'syrup': 2451, 'favorite': 790, 'thomas': 5826, 'designated': 1079, 'ehhhhhhhhh': 5006, 'meet': 536, 'fence': 4165, 'fdic': 4829, 'early': 904, 'fevered': 2452, 'brick': 5009, '50-60': 3056, 'jebediah': 2453, 'teenage_barney': 1326, 'dreary': 3208, 'european': 2455, 'eco-fraud': 5010, 'sight': 5011, 'troubles': 5012, 'ooh': 239, 'named': 1080, 'freshened': 5013, 'ees': 5014, 'nagurski': 5015, 'buffalo': 1327, 'baseball': 868, 'brine': 3833, 'schizophrenia': 5017, 'blown': 2456, 'connor': 4287, 'viva': 5018, 'book_club_member': 1593, 'famous': 2458, 'madonna': 5019, 'sketch': 6419, 'mumble': 5022, 'scrubbing': 4317, 'bushes': 4324, 'formico': 1329, 'east': 5026, 'aid': 4336, 'slaves': 6276, 'change': 583, 'switch': 1722, 'yellow-belly': 5029, 'having': 1081, 'victim': 5030, 'name': 198, 'compare': 4378, 'foibles': 1219, 'frightened': 4387, 'feedbag': 5033, 'pop': 1082, 'complaint': 2460, 'tabooger': 2461, 'rosey': 5034, 'mouth': 436, \"jackpot's\": 5035, 'mither': 5036, 'recently': 2462, 'hellhole': 5037, 'peabody': 5038, 'cronies': 4429, 'justice': 2337, 'shortcomings': 3213, 'tied': 5040, 'moxie': 5041, 'metal': 5042, 'fire': 497, \"'tis\": 2385, 'odor': 5043, 'march': 5045, 'soul': 1083, 'clientele': 1723, \"y'money's\": 5046, 'noosey': 4477, 'celebrity': 2463, 'kidneys': 5048, 'sucks': 4481, 'stopped': 1724, 'pushes': 5050, 'gamble': 5051, 'hoo': 463, 'unfortunately': 2464, 'roy': 5052, 'swallowed': 5053, 'grieving': 5054, 'virile': 5055, 'storms': 4516, 'shoulder': 2465, 'confident': 2466, 'shuts': 4530, 'mexicans': 5057, 'outstanding': 5058, 'tonight': 252, 'filth': 5059, 'losers': 836, 'rounds': 2468, \"dad's\": 1330, 'phony': 5060, 'together': 792, 'taking': 704, 'woooooo': 5061, 'guide': 2469, \"springfield's\": 2470, 'teacup': 5062, 'legoland': 5063, 'hollye': 5064, \"o'reilly\": 5065, 'pool': 1063, 'restless': 5066, 'highball': 5068, 'belong': 2360, 'corkscrew': 2362, 'frink': 1665, 'reward': 5452, 'traffic': 1726, 'deliberate': 2471, 'machine': 584, 'ineffective': 5072, 'night-crawlers': 4633, 'eurotrash': 5074, 'north': 4643, 'slapped': 5075, 'municipal': 5077, 'patty_bouvier': 705, 'headhunters': 5784, 'occasional': 5079, 'shoe': 5151, 'loneliness': 5081, 'position': 5082, \"seein'\": 1828, 'stillwater': 1331, 'oddest': 5084, 'accepting': 5785, 'beef': 5085, 'heartless': 5086, 'dory': 5087, 'pian-ee': 2472, 'playhouse': 4698, 'november': 5089, 'panicky': 1728, 'mellow': 3361, 'whispers': 5091, 'wh': 5092, 'cheery': 2473, 'various': 5093, 'eve': 5094, 'majority': 5096, 'einstein': 4485, 'marriage': 637, 'wham': 5098, 'diablo': 5099, 'beefs': 5100, 'punch': 1085, 'camera': 459, 'fools': 5102, 'perverted': 5103, 'astonishment': 6337, 'pushing': 4786, 'guessing': 5104, 'duff_announcer': 5105, 'dollars': 395, 'mild': 5106, 'wait': 159, \"coffee'll\": 5892, 'windshield': 5108, 'beaumarchais': 5109, 'flexible': 4819, 'concerned': 1729, 'bears': 2633, 'cecil_terwilliger': 5111, 'after': 260, 'wazoo': 6245, 'boyhood': 5112, 'snotball': 5113, 'soul-crushing': 5114, 'eighty-three': 4856, \"it'll\": 585, 'mabel': 5115, 'utility': 2508, 'chick': 1332, 'workers': 1730, 'tasty': 5117, \"shan't\": 2486, 'competitive': 5119, 'espousing': 5120, 'limits': 5121, 'fumes': 1870, 'points': 437, 'great': 173, 'time': 116, '21': 4915, 'neither': 2475, \"that's\": 60, 'inflated': 2476, 'foil': 2477, 'ordered': 1731, 'hemoglobin': 5125, 'employment': 6634, 'bit': 638, 'chance': 537, 'idioms': 5126, 'compels': 5127, 'moe_recording': 5128, 'buried': 2478, 'thrown': 4954, \"askin'\": 6432, 'stay': 586, 'ice': 905, 'sidelines': 6177, 'watashi': 5131, 'fudd': 2479, 'settled': 5132, 'grade': 2203, 'giggles': 2480, 'pickle': 1333, 'distaste': 5134, 'closing': 1322, 'jail': 1719, 'kwik-e-mart': 1732, 'democracy': 5137, 'around': 190, 'knocks': 5138, 'horribilis': 5140, 'doubt': 1086, 'sunglasses': 5141, 'handed': 5142, 'writer': 5143, 'whiny': 1334, 'jackass': 5144, \"let's\": 229, 'e-z': 5145, 'sexy': 1335, 'oughtta': 5146, 'wars': 5147, 'tow': 5148, \"man'd\": 5149, 'elephants': 2481, 'finger': 1336, 'fifty': 706, 'sisters': 1725, 'ointment': 4787, 'stinky': 5080, 'department': 2482, 'coy': 5152, 'awkward': 1248, 'years': 253, 'tanked-up': 2144, 'managing': 2483, 'roach': 5154, 'strategy': 2484, 'dropping': 5155, 'wobbly': 5156, 'impress': 5157, 'satisfied': 2485, 'gasp': 499, 'vigilante': 5118, 'dumb-asses': 5158, 'straining': 2487, 'selling': 1337, 'aquafresh': 5159, 'doom': 5160, 'lloyd': 793, 'kansas': 5161, 'itchy': 5162, 'annus': 4799, 'attractive_woman_#2': 5164, 'oblivious': 5165, 'summer': 1733, \"smokin'\": 6103, 'absorbent': 5167, 'television': 5168, 'startled': 5169, 'crab': 6255, 'exciting': 5170, 'susie-q': 5171, 'picky': 5172, 'trying': 564, 'squadron': 5174, 'patented': 5175, 'curds': 2488, 'farthest': 3232, 'ecru': 5177, 'helllp': 2489, 'haikus': 5178, 'lifestyle': 5179, 'beady': 5180, 'indeedy': 5181, 'jump': 1734, 'tying': 5182, 'improv': 5183, 'stein-stengel-': 5184, 'nuked': 5185, 'krusty_the_clown': 298, 'protestantism': 5186, 'chained': 4496, 'intimacy': 5188, 'coal': 5189, 'decency': 2490, 'refreshment': 5190, 'touched': 849, 'shoo': 2491, 'fat': 346, 'confidentially': 5191, 'neil_gaiman': 2492, 'when': 109, 'lily-pond': 5261, 'sass': 5193, 'farewell': 5194, 'foot': 1735, 'done': 358, 'middle': 1493, 'ultimate': 5195, 'dr': 261, 'system': 1736, 'count': 5196, 'we-we-we': 5197, 'screws': 5198, 'worst': 906, 'sight-unseen': 5199, 'gift': 1338, 'stagey': 4498, 'shooting': 2002, 'wear': 1339, 'barkeep': 2494, 'lie': 1340, 'gin': 1341, 'whatcha': 1737, 'lately': 1738, 'cappuccino': 5202, 'dropped': 2495, 'alley': 1739, '||comma||': 3, 'rebuttal': 5203, 'rolls': 3856, 'sedaris': 5205, 'calvin': 5206, 'agnes_skinner': 707, 'instead': 678, 'disgrace': 2496, 'bumbling': 5209, 'yap': 1342, 'precious': 1367, 'fights': 5211, 'experienced': 5047, 'remodel': 4502, 'handwriting': 5212, 'till': 464, 'alcoholic': 2497, 'gentles': 5213, 'haws': 5214, 'clown': 1123, 'grants': 5215, \"you're\": 62, 'code': 2499, 'cologne': 5216, 'sent': 907, 'thirsty': 5217, 'curious': 2164, 'brockman': 1101, 'badge': 5219, 'trust': 1740, 'fustigation': 5220, 'schedule': 5221, 'wienerschnitzel': 5222, 'triumphantly': 5223, 'moe-lennium': 5224, 'shipment': 5225, 'raccoons': 2501, 'imaginary': 2955, 'nerd': 5227, 'shotgun': 708, 'successful': 2502, 'blinds': 5228, 'souvenir': 5229, 'weep': 5230, 'chief_wiggum': 161, 'flanders': 794, 'conspiracy': 5231, 'muhammad': 5232, 'permitting': 5233, 'now': 63, 'limber': 5234, 'superior': 2503, 'assent': 5235, 'different': 1343, 'chunk': 5236, 'dangerous': 908, 'hope': 330, 'crestfallen': 5237, 'might': 265, 'owned': 5238, 'dies': 5239, 'paparazzo': 6290, 'protesters': 5240, 'whee': 1344, 'stamps': 5242, 'arise': 5243, 'theme': 5244, 'raise': 2504, 'sincere': 1345, 'acronyms': 5245, 'uncreeped-out': 5246, 'mushy': 5247, 'shtick': 5248, 'recent': 5249, 'sieben-gruben': 5250, 'shot': 709, 'naked': 2505, 'dreams': 2506, 'hospital': 1087, 'rafter': 5251, 'joking': 2172, 'valuable': 5253, 'wants': 359, 'ancient': 1741, \"show's\": 4512, 'in-in-in': 5254, 'spoon': 5255, 'astronaut': 2509, 'line': 1346, 'payback': 5256, 'furniture': 5257, 'expect': 1650, \"dolph's_dad\": 5259, 'language': 5260, \"wasn't\": 538, \"bo's\": 5192, 'shag': 5262, 'it': 18, 'scent': 5263, 'agree': 2511, 'developed': 5264, \"singin'\": 5265, 'cannoli': 5266, 'ruby-studded': 5267, 'shock': 2512, 'bash': 2513, 'drank': 2514, 'dawning': 5268, 'coast': 5269, 'teenage_bart': 1347, 'panicked': 5270, 'collapse': 5271, 'repay': 5272, 'robin': 5273, \"stallin'\": 5274, 'learned': 650, 'ninety-eight': 5275, 'instrument': 5276, \"writin'\": 5278, 'gin-slingers': 5279, 'something': 146, 'bush': 2515, 'lucius': 639, 'squeezed': 5280, 'none': 1089, 'mug': 1348, 'bible': 2516, 'priest': 2695, 'lend': 5819, 'accounta': 5282, 'online': 5283, 'five': 323, '_timothy_lovejoy': 1742, 'f-l-a-n-r-d-s': 5284, 'adult': 5285, 'koji': 5286, 'rewound': 5287, 'risqué': 5820, \"beggin'\": 5289, 'apartment': 2517, 'incarcerated': 5290, 'bidet': 5291, 'appointment': 2518, '91': 5292, 'giant': 5293, 'kemi': 391, 'selfish': 5295, 'yoink': 5296, 'scout': 5297, 'pep': 5298, 'brave': 2519, 'eat': 500, 'awful': 1744, 'discuss': 2273, \"o'\": 5299, \"speakin'\": 5300, 'recreate': 5301, 'bust': 6507, 'try': 396, \"number's\": 5302, \"i'd\": 165, 'sat-is-fac-tion': 5304, 'anyway': 539, 'scientists': 5305, 'guys': 107, 'taps': 2520, 'whistling': 5306, 'therapist': 2521, 'conclusions': 5307, 'well': 51, \"ridin'\": 1745, 'loathe': 5308, 'severe': 1746, 'kindly': 2522, 'glitterati': 5310, 'ignorance': 5311, 'whup': 3101, 'admirer': 5312, 'fondly': 2523, 'executive': 5313, 'fighter': 5314, 'brings': 5315, \"livin'\": 1349, 'eager': 5316, 'cranberry': 5317, 'bumpy-like': 5318, \"others'\": 2524, 'demand': 5319, 'retired': 2525, 'plant': 795, 'attractive': 5320, 'road': 1402, 'caught': 1092, 'idealistic': 5322, 'choked': 5323, 'brooklyn': 5324, 'candles': 5325, 'comfortable': 1748, 'seem': 1351, 'carey': 5326, 'sweater': 5821, 'order': 1749, 'tatum': 1263, 'pretzel': 5327, 'bucks': 397, 'barber': 5328, 'consulting': 5329, '_babcock': 1750, 'squad': 5330, 'drinks': 640, 'haplessly': 6560, 'noticing': 1751, 'chain': 5331, 'shyly': 5332, 'hat': 5333, 'though': 710, 'yup': 2527, 'booger': 5334, 'gargoyles': 5335, 'ugliest': 2528, 'flynt': 5336, 'reviews': 2529, 'hops': 5753, 'still': 191, 'predictable': 5338, 'body': 1352, 'cupid': 5339, 'look': 103, 'mayor': 1093, 'sales': 5340, 'mountain': 6464, 'ollie': 2530, 'lennyy': 5343, \"city's\": 5344, 'defected': 5345, 'court': 5346, 'hero': 1353, 'bronco': 5347, 'although': 2531, 'shaking': 1094, 'bike': 1753, 'correction': 5348, 'yak': 5349, 'slim': 5350, \"'cause\": 217, 'than': 183, 'fontaine': 5351, 'cruise': 5352, 'falsetto': 6234, 'christian': 5353, 'face-macer': 5354, 'snort': 1754, 'cheered': 5356, \"you'd\": 438, \"lovers'\": 5357, 'shesh': 5358, 'chew': 4955, 'mcbain': 2532, 'crazy': 587, 'promotion': 5359, 'nectar': 5361, 'us': 149, 'infor': 5363, 'week': 909, 'weapon': 5364, 'island': 1354, 'train': 1355, 'jerk': 1356, 'pin': 2533, 'ram': 5365, 'match': 1357, 'knock-up': 5366, 'photos': 5367, 'sleeping': 5368, 'chosen': 5369, 'gotta': 119, 'tempting': 5371, 'sam': 5372, 'along': 910, 'perverse': 5373, 'las': 5374, 'doppler': 5375, 'greedy': 2534, 'flaming': 501, 'family-owned': 5376, 'crunch': 5067, 'flayvin': 4536, 'finest': 1756, 'hearse': 5377, 'hunger': 5378, 'hideous': 5379, 'catch': 1095, \"wino's\": 5380, 'original': 1358, 'notorious': 5381, 'reflected': 5382, 'lookalike': 2671, 'woe': 5384, 'parrot': 5385, 'hmmm': 1757, \"didn't\": 170, 'soft': 5386, 'names': 1096, 'answers': 2535, 'pride': 2536, 'rickles': 5387, 'halloween': 5388, 'come': 97, 'skydiving': 5389, 'ivanna': 5390, \"tester's\": 2537, 'gruff': 5391, 'picnic': 5830, 'goo': 5392, 'ali': 5393, 'tipsy': 439, 'rid': 1758, 'honored': 2539, 'cat': 2540, 'busy': 1359, 'tones': 3554, 'sat': 2541, 'meaningless': 3254, 'pope': 2542, 'nos': 6438, 'bought': 1496, 'aged_moe': 2543, 'gums': 2544, 'toe': 5396, 'splendid': 5397, 'donate': 5398, 'innocent': 1759, 'measure': 5399, 'stink': 5400, \"chewin'\": 2545, 'emergency': 5401, 'ourselves': 1360, 'cases': 5402, 'stationery': 2546, 'row': 2552, 'vulgar': 4657, 'tease': 4976, 'albeit': 5342, 'swine': 5406, 'our': 126, 'young_homer': 911, 'offensive': 5407, 'lenses': 5408, 'paste': 5409, 'spit': 1761, 'somebody': 796, 'decision': 5410, 'fast': 797, 'snake_jailbird': 588, 'attitude': 2548, 'musta': 5411, 'wolfcastle': 5412, 'muscle': 5413, 'loaded': 1361, 'vengeful': 5414, 'and/or': 4467, 'sell': 416, 'mouths': 5415, 'hours': 589, 'thru': 2549, 'encores': 6479, 'não': 5416, 'wine': 1097, 'sensitivity': 5417, 'santeria': 5418, 'vincent': 5419, 'soap': 2550, 'homeland': 4702, 'urinal': 5421, 'meditative': 5422, 'gentleman': 2551, 'friction': 5423, \"pickin'\": 5424, 'ingredient': 1298, 'blur': 5426, 'knows': 711, 'horrified': 1098, 'attention': 1763, 'youse': 693, 'sanitation': 5428, 'ding-a-ding-ding-a-ding-ding': 2911, 'lindsay': 5429, \"liberty's\": 5430, 'watched': 5431, 'initially': 5432, 'dan_gillick': 1178, 'kay': 5434, 'rice': 5435, 'mid-conversation': 5436, 'chug': 1099, 'conference': 2555, \"fine-lookin'\": 5437, 'purveyor': 5438, 'moe-ron': 5439, 'donated': 3004, 'myself': 361, 'sister': 1362, 'meals': 5440, 'mayor_joe_quimby': 712, \"dyin'\": 2556, 'oooo': 5441, 'fingers': 1100, 'delighted': 1764, 'outrageous': 5443, 'dry': 798, 'frog': 2558, 'amazing': 1183, 'career': 1363, 'anxious': 5445, \"won't\": 254, 'exits': 5446, 'alky': 5447, 'depressing': 5448, 'dictating': 5449, 'feminine': 5218, 'spit-backs': 5450, 'license': 1765, 'perfume': 5451, 'louie': 2559, 'effervescent': 2560, 'grey': 5453, 'jerry': 2561, 'clap': 3020, 'lumpa': 5454, 'warn': 2562, 'hurting': 5455, 'beating': 2563, 'reaches': 4057, \"c'mon\": 347, 'paramedic': 5457, 'noose': 4469, 'eightball': 5458, 'operation': 1767, 'wrote': 1046, \"'roids\": 5460, 'post-suicide': 5461, 'flips': 1364, 'pardon': 1768, 'friendly': 800, 'frankenstein': 5462, 'promised': 2564, 'old': 196, 'blowfish': 5464, 'trip': 1365, 'self-centered': 5465, 'did': 114, 'massage': 5466, 'waste': 3152, 'the_edge': 5468, 'oh': 32, 'self-satisfied': 5469, 'suing': 2565, \"'kay-zugg'\": 5470, 'screw': 801, 'terrific': 2566, 'fighting': 1905, 'supposed': 912, 'heaven': 913, 'dig': 5226, 'nearly': 2567, 'date': 502, \"isn't\": 299, 'expecting': 5473, 'getup': 3628, 'fumigated': 5475, 'bart_simpson': 150, 'game': 360, 'tv_announcer': 2568, 'danny': 5476, 'created': 5477, 'sunny': 5478, '_burns_heads': 5479, 'creme': 5480, \"ol'\": 802, 'be': 44, 'increasingly': 2351, 'exquisite': 5481, 'lifetime': 3264, 'fragile': 2570, 'frazier': 5483, 'queen': 2571, 'wonderful': 1102, 'gonna': 79, 'locklear': 5484, 'themselves': 2572, 'fixes': 5485, 'meal': 2573, 'relative': 5486, 'unjustly': 5487, 'opens': 5488, 'hugh': 1103, 'dog': 466, 'dazed': 5489, 'gator': 1503, 'karaoke': 2574, 'cent': 2575, 'smithers': 440, 'hooch': 5491, 'cerebral': 6490, 'stab': 5493, 'bad': 224, \"marge's\": 2576, 'sideshow_bob': 5494, \"d'\": 5495, 'repressed': 5496, 'huhza': 3543, 'specialists': 5498, 'adrift': 3370, 'interesting': 5500, 'fuss': 2577, \"duelin'\": 5501, 'advertise': 5502, 'reminds': 1770, 'packets': 5849, 'truck_driver': 5503, 'monorails': 5504, 'caveman': 6491, 'rat-like': 5505, 'nameless': 5506, 'tons': 5507, 'lager': 5508, 'upset': 524, 'voodoo': 3432, 'odd': 1772, 'their': 225, 'touch': 5510, 'throwing': 2578, 'bad-mouth': 5511, 'chocolate': 1366, 'charming': 5512, 'kiss': 821, 'tight': 3450, 'vacation': 2579, 'example': 3458, 'ruined': 1368, 'lists': 5515, 'nickel': 5516, 'nigel_bakerbutcher': 914, 'brakes': 5514, 'wild': 5517, 'rem': 5518, 'butterball': 5519, 'love-matic': 2580, 'vote': 2581, 'spanish': 1773, 'charter': 5520, 'cutest': 5521, 'sweat': 3487, 'night': 202, 'brief': 5523, 'joe': 641, 'pizza': 5524, 'tasimeter': 5525, 'tang': 2582, 'wolveriskey': 5526, 'rugged': 6493, 'cheese': 2083, 'sketching': 4423, 'statues': 5530, 'application': 3523, 'goblins': 5532, 'please': 203, 'bless': 1774, 'invite': 1535, 'pipes': 1369, 'sugar': 2583, 'delicious': 1776, 'cats': 5533, 'faces': 3553, 'soon': 619, 'murdered': 5535, 'extinguishers': 5536, 'selma_bouvier': 803, 'reopen': 5537, 'thought_bubble_homer': 2855, 'rebuilt': 4316, '_julius_hibbert': 915, 'patterns': 2584, 'bury': 5712, 'mahatma': 5540, 'balls': 2585, 'dint': 5541, 'betcha': 5542, 'self-made': 2586, 'good': 83, 'eliminate': 5543, 'smurfs': 2587, 'pal': 441, 'stripes': 5544, 'filled': 2588, 'direction': 5545, 'man': 84, 'outlook': 2589, 'cola': 2590, 'action': 2106, 'paintings': 3922, 'hooked': 5547, 'jimmy': 3672, 'pall': 5549, 'buttons': 1370, 'theater': 1777, 'cap': 5550, 'robbers': 5551, 'sunday': 1104, 'cursed': 5552, 'times': 642, 'stretches': 3374, 'alva': 5553, 'tail': 1371, 'vengeance': 5554, 'agh': 5555, 'cooler': 1949, 'eww': 5556, 'walk': 713, 'sen': 5557, 'mother': 643, 'far': 644, 'my': 17, 'never': 94, 'someday': 2594, 'hushed': 5558, 'watt': 5559, 'contented': 5560, 'read': 467, 'show-off': 5561, 'god': 166, 'grab': 2595, 'nineteen': 1171, 'effervescence': 3764, 'kegs': 5563, 'twelveball': 5564, 'ducked': 5565, 'news': 804, 'groin': 5566, 'fireworks': 4570, 'amber_dempsey': 5568, 'coward': 2596, 'allegiance': 5569, 'investment': 5570, 'runners': 6131, 'capitol': 4497, 'el': 3797, 'germs': 2597, 'left': 442, 'voters': 3814, 'opportunity': 1372, \"washin'\": 5575, 'pasta': 5576, 'humiliation': 5578, 'person': 645, 'beautiful': 417, 'yard': 1373, 'bragging': 5579, 'watching': 591, 'pond': 2598, 'holy': 5580, 'renew': 5581, 'eyeballs': 5582, 'easily': 3855, 'except': 916, \"rustlin'\": 5584, 'temporarily': 5585, 'eggs': 805, 'rain': 5586, 'miles': 2599, 'value': 2600, 'fist': 5587, 'symphonies': 3557, 'hitler': 2601, 'not': 64, 'combines': 5590, 'failure': 5713, \"jimbo's_dad\": 5591, 'customers': 1105, 'barney-type': 5592, 'everyday': 5872, 'à': 1374, 'mm-hmm': 5593, 'cans': 5594, 'homie': 806, 'jerk-ass': 5595, 'chipper': 3303, 'hats': 2198, 'frustrated': 1375, 'mccarthy': 5596, 'designer': 5597, 'stands': 2201, 'string': 4188, 'fantastic': 5599, 'vin': 5600, 'con': 5601, 'pantry': 5602, 'gus': 5603, 'ease': 5604, 'jackson': 6502, 'cow': 1106, 'send': 807, 'sink': 5606, 'speed': 5607, 'annoyed': 646, 'settles': 5608, 'wha': 1107, 'sneaky': 2603, \"'n'\": 5609, 'also': 1108, 'afternoon': 1779, 'character': 1376, 'flustered': 5610, 'barkeeps': 4045, 'choices': 2605, 'problems': 540, 'tofu': 2606, 'exchanged': 5612, 'schorr': 5613, 'apu_nahasapeemapetilon': 246, 'violin': 2607, 'quadruple-sec': 5614, 'dealie': 5615, 'need': 141, 'champion': 5880, 'against': 1109, 'sissy': 2609, 'give': 162, '3': 5617, 'nominated': 6506, 'cobra': 5619, 'bail': 5621, 'item': 5622, \"pressure's\": 5623, 'five-fifteen': 5624, 'manjula_nahasapeemapetilon': 917, 'schnapps': 2610, 'forbidden': 2611, \"tootin'\": 6508, \"father's\": 2612, 'intervention': 5625, 'crayola': 5626, 'luxury': 5627, 'pointless': 2254, 'wildfever': 4124, 'almond': 5630, 'weird': 808, 'procedure': 1388, 'device': 5631, 'closes': 2613, \"it'd\": 2614, 'wrapped': 4137, 'produce': 5633, 'human': 809, 'since': 278, 'wiggum': 570, 'ashamed': 1110, 'thirty-thousand': 3312, 'bottoms': 5634, 'experiments': 5635, 'scream': 1379, 'stomach': 5636, \"s'okay\": 5637, 'hubub': 5638, 'plane': 5639, 'script': 5640, 'hurts': 1782, 'nods': 714, 'minister': 2615, 'may': 647, 'things': 266, 'passes': 5641, 'burglary': 4435, 'billingsley': 5643, 'have': 48, 'disturbing': 4192, 'swooning': 5645, 'payments': 2616, 'fausto': 2617, 'boozehound': 5646, 'sperm': 5647, 'prepared': 2618, 'abercrombie': 5648, \"floatin'\": 5649, \"lady's\": 5650, 'sun': 5651, 'remote': 5652, 'modestly': 5653, 'ziff': 2619, 'streetlights': 5654, 'dessert': 2507, 'underpants': 2281, 'filed': 5657, \"burnin'\": 5658, 'grind': 5659, 'scruffy_blogger': 4593, 'pulls': 1380, 'larry': 541, 'kissingher': 5133, 'decided': 5337, 'warm_female_voice': 810, 'all-all-all': 5661, \"neighbor's\": 5662, 'devastated': 2620, 'per': 1680, 'coupon': 5665, 'starters': 5666, 'strain': 5667, 'everyone': 418, 'put': 216, 'junior': 1783, 'space-time': 5668, 'hawking': 2621, 'toys': 1659, 'strategizing': 5669, 'recommend': 1784, 'aged': 5670, 'murmurs': 2622, 'lovers': 4595, 'supermodel': 5671, 'principal': 919, \"everyone's\": 1381, 'error': 5672, 'toasting': 1785, 'hero-phobia': 3739, 'payday': 4374, 'beings': 5674, 'eventually': 2624, 'washed': 5675, 'harvey': 4647, 'benjamin': 2625, 'thankful': 1786, 'joey_kramer': 2717, 'choking': 2626, 'anniversary': 1788, 'errrrrrr': 5677, 'meaning': 4421, 'closed': 1112, 'belly': 1789, 'absentminded': 5679, 'cowboys': 2627, 'ran': 1620, 'ahem': 5680, 'focus': 1790, 'accidents': 5681, 'religious': 5682, 'captain': 2628, 'glee': 4468, 'schmoe': 5683, 'word': 776, 'hired': 2629, 'freely': 5685, 'street': 811, 'sure': 130, 'investor': 2630, \"blowin'\": 4486, 'crinkly': 5687, 'papa': 5688, 'bar-boy': 1643, 'population': 5893, 'worked': 1792, 'tv_wife': 1053, 'as': 91, \"scammin'\": 5689, 'homunculus': 5690, 'rage': 2632, \"wallet's\": 3320, 'glowers': 5693, 'full-bodied': 5694, 'dame': 1113, 'stuck': 1986, 'painless': 5696, \"tellin'\": 1114, 'trustworthy': 4172, 'sharity': 5697, 'refiero': 5698, 'suicide': 1115, 'sec_agent_#2': 2634, 'inserted': 4569, 'lurleen': 2744, 'dungeon': 2705, 'voyager': 5702, 'cares': 1382, 'called': 542, \"'now\": 5703, 'file': 5704, 'eight': 715, 'rummy': 812, \"g'on\": 5705, 'terrified': 1793, 'shoulda': 5706, 'imitating': 5707, 'inspired': 2356, 'allowed': 2366, 'rife': 4622, 'contract': 5710, 'costume': 2357, 'awww': 2635, 'milks': 5711, 'pfft': 1842, 'cheat': 2602, \"professor's\": 5714, 'washer': 5715, 'ten': 648, \"'er\": 5716, 'straight': 593, 'hardy': 5717, 'arrived': 5573, 'defensive': 1794, 'sexual': 1795, \"she'll\": 5718, 'huddle': 5719, 'uhhhh': 5900, 'new': 164, 'owner': 2639, 'growing': 5720, 'holidays': 5721, 'taxes': 5722, 'associate': 4715, 'voicemail': 6248, 'why': 110, 'egg': 1307, 'wounds': 5724, 'perplexed': 5725, 'land': 5726, 'hands': 495, 'comforting': 4735, 'jackpot-thief': 5729, 'sounded': 5730, 'suddenly': 1117, 'dance': 780, 'fly': 1721, 'lose': 1118, 'plug': 5731, 'based': 2641, 'fake': 5732, 'treehouse': 5902, 'hexa-': 3687, 'fulla': 5735, 'cheryl': 3783, 'ripped': 5737, 'enjoy': 1383, 'ought': 5738, \"swishifyin'\": 5739, 'test-lady': 5740, 'brunswick': 5741, 'difficult': 2642, 'ziffcorp': 1690, 'six-barrel': 3322, 'michael_stipe': 4795, 'rueful': 5743, 'born': 1796, 'madman': 6474, \"buyin'\": 1384, 'bid': 5744, 'cop': 1119, 'dilemma': 4816, 'dismissive': 2645, 'murdoch': 5746, 'manuel': 5747, 'supply': 5748, 'mary': 5749, 'anonymous': 5750, \"aren't\": 504, 'languages': 4843, 'man_with_tree_hat': 5751, 'voted': 5752, 'funds': 2557, 'all': 36, 'er': 5754, 'blubberino': 5755, 'dear': 543, 'anywhere': 2646, 'during': 1120, 'best': 230, 'grabs': 1797, 'deli': 5756, 'shoots': 2647, 'runt': 5757, 'wenceslas': 6127, 'infiltrate': 5758, 'shutup': 4362, 'delightful': 5760, 'grubby': 5761, 'breath': 1386, 'presumir': 5762, 'hello': 219, 'vulnerable': 2773, 'sob': 1121, 'hilarious': 1798, 'plastic': 920, 'porn': 2650, 'awareness': 5763, 'ripcord': 2651, 'closet': 6683, 'hourly': 5764, 'distraught': 1387, 'cake': 2652, 'willing': 5765, 'flaking': 5766, 'perfect': 651, 'size': 1799, 'whining': 5767, 'relationship': 2653, 'hobo': 2654, 'couple': 717, 'willy': 2655, 'reasonable': 2656, 'invulnerable': 5769, 'saint': 2657, 'liar': 2658, 'confidential': 5770, 'its': 1800, 'calendars': 5771, '14': 5772, 'phase': 5773, 'lush': 2659, 'fourth': 1801, 'girl': 279, 'babar': 5774, 'chip': 5107, 'harmony': 5776, 'quarter': 5777, 'hub': 5778, 'oooh': 5780, 'customer': 1586, \"lookin'\": 544, 'optimistic': 5781, 'washouts': 5782, 'occupation': 5783, 'trouble': 545, \"how're\": 5078, 'bartending': 2661, 'seamstress': 3919, 'sugar-me-do': 5904, 'lushmore': 5786, 'wisconsin': 5787, 'smelly': 5788, 'menacing': 5789, 'notices': 5790, 'fastest': 5791, \"department's\": 5792, 'atari': 5793, 'sprawl': 5794, 'pinchpenny': 5795, 'prettiest': 5796, 'grenky': 5797, 'puff': 1802, 'believe': 331, 'booking': 5798, 'aims': 5139, 'brilliant': 1122, 'totalitarians': 5800, 'difference': 5801, 'conversations': 5802, 'mistakes': 5803, 'lobster': 3337, 'stretch': 5804, 'james': 1804, 'crawl': 1805, 'kick': 718, 'assassination': 5805, 'donor': 5583, 'lighten': 5210, 'force': 2498, 'bulldozing': 5807, 'inserts': 6265, \"renee's\": 5808, \"renovatin'\": 3949, 'swelling': 5809, 'w-a-3-q-i-zed': 5810, 'each': 546, 'sports_announcer': 2663, 'speaking': 1124, 'will': 158, 'stats': 5241, 'boxcar': 5812, 'enthused': 6538, \"nothin's\": 5814, 'text': 1752, 'breakfast': 5816, 'malibu': 5817, 'giggle': 5818, 'reader': 3126, 'connection': 5281, 'skirt': 2665, 'portuguese': 3809, 'sad': 427, 'barney': 131, 'feelings': 1806, 'coaster': 1125, 'sitting': 813, 'saw': 468, 'late': 652, 'k': 1488, 'unable': 5822, 'krabappel': 2666, '250': 2667, 'care': 419, 'browns': 5823, 'quiet': 595, 'avenue': 5824, 'prize': 2668, 'wussy': 6190, 'pontiff': 5825, 'semicolon': 814, 'rock': 2669, \"sittin'\": 1126, 'field': 1393, 'moe-heads': 5827, 'continued': 5828, 'pleasure': 2670, 'lovejoy': 5383, 'shelbyville': 5829, 'planning': 2538, 'confidence': 2672, 'exit': 1807, 'tommy': 2673, 'idiot': 1808, \"team's\": 2244, 'd': 2674, 'slice': 2675, 'manatee': 4290, 'writing': 1127, 'booth': 6546, 'parasol': 4001, 'problem': 380, 'keys': 590, 'boston': 5834, 'tragedy': 5835, 'stalwart': 5836, 'or': 120, 'indigenous': 5837, 'japanese': 815, 'sour': 6136, 'specified': 5838, 'tar-paper': 5839, 'tense': 5840, 'distinct': 5852, 'channel': 751, 'teen': 5841, 'sweetly': 1809, \"stayin'\": 5919, 'cheaper': 5843, 'saving': 6090, 'trapped': 2678, 'jailbird': 2679, 'courthouse': 5844, 'hearing': 5845, 'immiggants': 5846, 'stooges': 5847, 'one': 61, 'mater': 5850, 'whaddya': 5851, 'spectacular': 4237, 'eaten': 5853, 'dude': 1128, \"drinkin'\": 547, 'basement': 5854, 'notably': 5855, 'yeah': 38, 'event': 5856, 'geysir': 5857, 'prince': 5858, 'obama': 6548, 'spotting': 5859, 'kissed': 5860, 'charged': 5861, 'frankly': 1810, 'celebrate': 5862, 'lee': 4627, 'managed': 5864, 'gary': 1637, 'miracle': 5865, 'oopsie': 5866, 'gel': 5574, \"homer's_brain\": 2676, 'neanderthal': 5868, 'gig': 5869, 'lowers': 921, 'newspaper': 5870, 'over-pronouncing': 5871, 'contact': 5294, 'slobbo': 5873, 'appreciate': 5926, 'woman': 289, 'pretending': 2852, 'onassis': 5875, 'steamed': 5876, 'principles': 5877, 'unsourced': 5878, 'cecil': 5879, 'right': 69, 'telling': 816, 'towed': 2681, \"tab's\": 5881, 'flew': 5882, \"he'll\": 799, 'kent_brockman': 240, 'peter_buck': 5883, 'peeping': 5884, 'klingon': 2682, 'off': 128, \"thing's\": 5885, 'cowboy': 5886, 'ears': 6550, 'drop-off': 5888, 'all-star': 2683, 'failed': 2684, 'lizard': 5889, 'picture': 719, 'edelbrock': 5890, 'meaningfully': 3661, 'cigars': 5686, 'agreement': 2374, 'pumping': 5894, 'combination': 4849, 'eu': 5896, 'highway': 2685, 'fifth': 5898, \"showin'\": 2637, 'tolerable': 5901, 'relaxing': 5733, 'tale': 2686, 'michelin': 5931, \"ladies'\": 2687, 'wang': 2688, 'kept': 1811, 'hits': 1389, 'fox_mulder': 2526, 'nantucket': 5905, 'college': 1091, 'dancing': 1812, 'thnord': 5907, 'nascar': 5908, 'saget': 5909, 'cosmetics': 5910, \"weren't\": 2689, 'fruit': 5911, 'cheapskates': 5912, 'sagacity': 5913, 'prizefighters': 5914, 'um': 398, 'carb': 5915, 'busiest': 5916, 'fad': 4923, 'politics': 2677, 'motel': 1813, 'achebe': 5842, 'sweeter': 2690, 'potatoes': 5920, 'lofty': 5921, 'bathtub': 5922, 'easy': 498, 'wound': 5620, 'talk': 306, 'hippies': 5925, 'ugh': 5874, 'job': 318, 'aw': 206, 'jeff': 2691, 'parents': 5927, \"phone's\": 3580, 'startup': 5897, 'gently': 1653, 'facebook': 5930, 'jerking': 5903, 'private': 653, 'linda_ronstadt': 5932, 'dignified': 5933, 'zack': 5934, 'throws': 5935, \"it's\": 49, 'abe': 5936, 'tokens': 5937, 'singer': 5938, 'alive': 611, 'finishing': 2692, 'results': 2693, 'weather': 5939, 'snackie': 5940, 'vance': 1390, 'solely': 5941, 'neck': 1391, 'patriotic': 5942, 'gone': 505, '530': 5943, 'yours': 2694, \"fryer's\": 5944, 'helping': 5945, 'absentmindedly': 6669, 'jovial': 5946, 'rev': 720, 'handle': 2696, 'here': 45, 'hyper-credits': 5572, 'believer': 5949, 'football': 5950, 'kisses': 5951, 'sister-in-law': 5952, 'sooo': 5953, 'dunno': 922, 'ralph_wiggum': 5954, 'cell': 5727, 'laney_fontaine': 2697, 'backgammon': 5955, 'trees': 5956, 'list': 1814, 'broad': 1140, 'simon': 5957, 'died': 1392, 'sequel': 5958, 'brought': 923, 'characteristic': 5959, 'wistful': 4763, 'unrelated': 5961, 'uncle': 924, 'completing': 2732, 'lugs': 5963, 'play/': 5964, 'partially': 4580, 'enterprising': 5966, 'actor': 5967, 'shocked': 654, 'daddy': 1150, '1979': 5969, 'mcclure': 5970, 'under': 420, 'pockets': 1837, 'comes': 349, 'one-hour': 5971, 'repairman': 5972, 'speak': 1129, 'me': 22, 'cocktail': 1815, 'wanna': 192, 'conditioning': 5973, 'pain': 1394, 'video': 1395, 'orgasmville': 5974, 'bonding': 5975, 'billion': 2116, 'spending': 1816, 'german': 1817, \"b-52's\": 5977, 'justify': 5978, 'ugly': 557, 'duke': 5980, 'tall': 5981, \"bringin'\": 5982, 'poke': 5983, 'vicious': 5984, 'call': 220, 'op': 5986, 'crumble': 2700, 'lurleen_lumpkin': 2701, 'park': 1130, 'cakes': 5987, 'embarrassed': 1396, 'man_at_bar': 6561, 'drink': 151, 'catholic': 5988, 'indifference': 5989, 'edna_krabappel-flanders': 1131, 'dirty': 5990, 'ding-a-ding-ding-ding-ding-ding-ding': 5991, 'inspector': 1841, 'stupidest': 5992, '||dash||': 67, 'government': 1132, 'chipped': 5993, 'deal': 818, 'ladder': 5994, 's': 819, '||quotation_mark||': 21, 'tin': 5995, 'too': 105, 'struggling': 1818, 'plain': 5996, 'maggie': 399, 'mediterranean': 5997, 'offer': 1416, 'shakes': 5529, 'royal': 5999, \"how's\": 1133, 'bully': 2702, 'burt': 1397, 'moan': 601, \"'im\": 2703, 'incredulous': 1819, 'gotten': 1398, 'age': 1820, 'son': 820, 'crowbar': 6003, 'tigers': 6004, 'leave': 421, 'socialize': 6005, 'war': 596, 'cigarette': 1821, 'squashing': 5779, 'stores': 6006, 'whoa': 207, 'germany': 5655, 'anti-crime': 6007, 'thousand-year': 6008, 'lise': 2704, 'sucked': 1822, 'coms': 6009, 'burp': 1399, 'jerky': 2803, 'greatly': 5948, 'dad': 255, 'mailbox': 6012, 'shares': 1823, 'clear': 1134, 'hi': 469, 'dispenser': 6013, 'bourbon': 2706, 'jeez': 1135, 'zinged': 6014, 'plaintive': 6015, 'bedroom': 2707, 'possibly': 2708, 'debonair': 6016, 'smile': 655, 'africa': 2709, 'front': 656, 'cheer': 1136, 'flash': 6018, \"kid's\": 3993, 'groveling': 6017, 'blend': 2711, 'effects': 2712, 'normals': 3787, 'runaway': 6021, 'dictator': 3725, 'fantasy': 6022, 'wildest': 6023, 'wow': 233, 'settlement': 6024, 'montrer': 6025, 'law-abiding': 6026, \"children's\": 2713, 'mostly': 6027, \"what'd\": 6028, 'skinny': 4713, 'sits': 1400, 'health': 925, 'fan': 1401, 'letters': 1824, 'sober': 1137, 'legally': 6030, 'koholic': 2301, 'lib': 2714, 'flown': 6032, 'arrested': 6033, 'sesame': 6034, 'girls': 657, '2': 6035, 'saucy': 5321, 'brockelstein': 5899, 'racially-diverse': 6037, 'creeps': 2715, 'investigating': 6038, 'foundation': 6039, 'media': 2716, 'two': 132, 'poison': 6040, 'otherwise': 6041, 'universe': 6042, 'ron': 3838, 'generosity': 6044, 'scrutinizing': 6045, 'powers': 6046, 'freeze': 2718, \"i'm-so-stupid\": 1138, \"son's\": 6047, 'burt_reynolds': 6048, 'homers': 2719, 'champ': 2720, 'crippling': 6049, 'million': 506, 'stuff': 422, 'portentous': 6050, 'suit': 1139, 'peanut': 2698, 'playoff': 6051, 'suave': 6052, 'eyeball': 2721, 'ferry': 4738, 'surgery': 1141, 'penny': 2722, 'grunt': 1778, 'ignoring': 6054, 'trolls': 2723, \"now's\": 2913, 'were': 180, 'stamp': 6057, 'rome': 6058, 'billy_the_kid': 1142, \"we've\": 382, 'attracted': 6059, 'fella': 6060, 'feet': 721, 'ohmygod': 1825, 'open': 669, 'worldview': 6062, 'bart': 290, 'princess': 900, 'yourself': 423, 'stays': 6063, 'skoal': 6064, 'rom': 6065, 'neighboreeno': 6066, 'radical': 6067, 'shut': 276, 'inches': 6068, 'mission': 6069, 'freedom': 2725, 'changing': 1143, 'contemporary': 6070, 'fire_inspector': 6071, 'tire': 6072, \"tap-pullin'\": 6073, 'belch': 926, 'forward': 2726, 'notice': 6076, 'streetcorner': 6077, 'sagely': 6078, 'happy': 280, 'cracked': 6080, 'sighs': 291, 'forget-me-shot': 1403, 'roses': 2727, 'matter-of-fact': 2728, 'ask': 362, \"tatum'll\": 6081, 'tropical': 6082, 'noble': 4303, 'patrons': 2729, 'delivery_man': 6084, \"somebody's\": 6085, 'heavyset': 2730, 'robot': 6079, 'step': 1674, 'ohhhh': 3854, 'novelty': 6088, 'othello': 3055, 'vampires': 2510, 'beers': 722, 'insist': 6091, 'shores': 6092, 'lobster-politans': 3073, 'fortress': 6093, 'forty-two': 6094, 'spent': 2731, 'honor': 1950, 'placed': 3081, 'illegal': 1197, 'pay': 424, 'shack': 6097, \"cleanin'\": 6098, 'nonsense': 6099, 'quimbys': 6100, 'certified': 6101, 'turning': 723, 'the': 6, 'sheriff': 3123, 'lighter': 3125, 'in': 20, 'considering': 1474, 'getaway': 6105, 'calls': 1404, 'handoff': 6106, 'negative': 6107, 'plow': 1204, 'atlanta': 2733, 'perhaps': 1654, 'sir': 491, 'junkyard': 6109, 'smell': 724, 'options': 6001, 'neighborhood': 6111, 'gesture': 3169, 'rabbits': 6113, 'stengel': 6114, 'serve': 1830, 'renders': 3175, 'fabulous': 2734, 'how': 71, 'cricket': 6115, \"goin'\": 363, 'crooks': 6116, 'ralphie': 6117, 'record': 2735, 'tinkle': 927, 'nahasapeemapetilon': 6118, 'that': 19, 'pair': 4013, 'kirk_van_houten': 507, 'couch': 1405, 'st': 3180, 'nailed': 6119, 'gives': 928, 'moon': 4940, 'furious': 1406, 'feisty': 4348, 'probably': 613, 'supreme': 6623, 'afraid': 822, 'nervous': 350, 'cheaped': 6121, 'miserable': 1833, 'ga': 6122, 'flashbacks': 6123, 'homer_': 5968, 'sec': 1834, \"you've\": 187, 'written': 2737, 'hit': 930, 'flashing': 6126, 'according': 3834, 'legal': 6128, 'warned': 6129, 'flailing': 6130, 'admit': 931, 'seeing': 1835, 'gumbo': 3866, 'quotes': 2739, 'bowie': 6132, 'patient': 2740, 'lingus': 5692, 'coffee': 1505, 'is': 23, 'premise': 6133, 'wiggle-frowns': 6134, 'blocked': 6135, 'gave': 447, 'stealings': 2029, 'tapestry': 6137, 'wikipedia': 6138, 'comment': 6139, 'chase': 1947, 'ho-la': 6140, 'lainie': 6141, \"narratin'\": 6142, 'switched': 6143, 'superhero': 2742, 'gag': 1838, 'pets': 6144, 'chips': 6075, 'juke': 6146, 'electronic': 2743, 'yells': 6147, 'sells': 6148, 'full-time': 3655, 'bee': 992, 'exception': 6150, 'you': 8, 'happily': 1407, 'agent': 1408, 'gardens': 6151, 'hand': 493, 'hoping': 1292, 'carl': 281, 'admiration': 1917, 'burnside': 5891, 'endorsed': 6152, 'samples': 3837, 'people': 171, \"squeezin'\": 6584, 'victory': 2062, 'sounds': 385, 'poem': 2745, 'furiously': 3440, 'leno': 4026, 'eyeing': 6157, 'magazine': 2746, 'stained-glass': 3454, 'divine': 3457, 'ihop': 3381, 'cherry': 6160, 'hah': 6161, 'mt': 3572, 'sheet': 6162, 'heliotrope': 3474, \"guy's\": 1145, 'half-beer': 6163, 'ehhh': 6164, \"fallin'\": 2749, \"could've\": 1675, \"i-i'm\": 1839, 'civilization': 2750, 'fast-food': 6166, 'mckinley': 6167, 'imported-sounding': 6168, 'luckily': 3493, 'idea': 364, 'animals': 2751, 'silent': 6170, 'supports': 3512, 'carny': 6171, \"fendin'\": 6172, 'play': 256, 'stock': 1410, 'means': 841, 'cab': 6174, 'tolerance': 6175, 'larson': 6176, 'asleep': 3754, 'average-looking': 6178, 'mumbling': 2752, 'finally': 823, 'solid': 2753, 'alarm': 6179, 'indicates': 5976, 'draw': 2754, 'sustain': 6180, 'pretend': 3559, 'stewart': 6182, 'thousand': 666, 'part-time': 4258, 'stern': 2755, 'idiots': 6184, 'patron_#2': 6185, 'alphabet': 2756, 'those': 168, 'kicks': 6187, 'advertising': 3597, 'sweetest': 6189, 'watch': 383, 'wood': 6191, 'scarf': 6192, 'helps': 3607, 'ehhhhhh': 6194, 'drawing': 2335, 'kazoo': 6195, 'tv': 205, 'eternity': 6197, 'moment': 1411, 'torn': 2757, 'wishing': 6198, 'woodchucks': 6199, 'other_book_club_member': 6200, 'self': 598, 'rap': 2758, 'less': 658, 'drawer': 6201, 'blossoming': 6202, 'him': 100, 'had': 140, 'jelly': 6203, 'o': 824, 'encouraged': 5985, 'starving': 6204, 'gas': 1412, 'felony': 3389, 'cloudy': 6205, 'apulina': 6206, 'kings': 6207, 'stones': 6208, 'funny': 470, 'chicken': 6209, 'loves': 508, 'answered': 6210, 'bashir': 2759, 'mini-dumpsters': 3710, 'fix': 1426, \"callin'\": 1061, 'introduce': 6213, 'water': 933, 'found': 689, 'sandwich': 2130, 'dames': 2760, 'solved': 6215, 'please/': 6216, 'salvador': 6217, \"linin'\": 6218, 'side': 934, \"eatin'\": 3741, 'grumpy': 2762, 'helpful': 6219, 'warmly': 826, 'sensible': 3750, 'whether': 2763, 'lady': 599, 'stinger': 5163, \"we'd\": 935, \"how'd\": 726, 'offended': 1146, 'chubby': 6220, 'classy': 3774, 'necessary': 6221, 'additional-seating-capacity': 6222, 'end': 600, 'known': 2764, 'station': 6223, 'moonshine': 6224, 'accident': 827, 'community': 3802, 'a-a-b-b-a': 6225, 'loan': 1844, 'tv_husband': 1021, 'ralph': 6227, 'prejudice': 6228, 'grampa': 828, 'bride': 2648, 'knowing': 1845, 'church': 1846, 'iranian': 5442, 'mister': 936, 'no': 33, 'drift': 6231, 'adopted': 3843, 'dank': 993, 'karaoke_machine': 6233, 'looting': 3853, 'came': 471, 'hot-rod': 6235, 'tubman': 6236, 'yuh-huh': 6237, 'reluctantly': 6238, 'wa': 2180, 'slaps': 6240, 'lighting': 2766, 'piece': 1149, \"gentleman's\": 1574, 'poet': 2767, 'actress': 6241, 'ooo': 1413, 'champs': 6242, 'inexorable': 6243, 'naval': 6244, 'charm': 2768, 'delete': 659, 'background': 6125, 'stocking': 6246, 'presto': 6247, 'small_boy': 3933, 'jeers': 6609, 'nobel': 1882, 'gumbel': 937, 'began': 2770, 'lawyer': 4463, 'interested': 2771, '_eugene_blatz': 6249, 'ridiculous': 1697, 'above': 1849, \"choosin'\": 6251, 'hilton': 6529, 'belt': 2772, 'sacajawea': 5867, 'hmmmm': 6253, 'faced': 6254, 'once': 351, 'holding': 938, 'red': 997, 'invented': 939, 'space': 2774, 'cozies': 4007, 'microphone': 4010, 'elmer': 6257, 'chinua': 5309, 'declan': 6258, 'south': 1262, 'strongly': 6638, 'stacey': 6260, 'counterfeit': 6261, 'mind-numbing': 4035, 'happened': 332, 'flames': 6263, 'shoes': 6264, 'corn': 5768, 'hafta': 6266, 'jar': 1151, 'hm': 1414, 'burns': 368, 'locked': 6268, 'slab': 6108, 'bank': 1152, 'agents': 6269, 'entrance': 6270, 'rapidly': 6271, 'brassiest': 2776, 'dimly': 6272, 'gentlemen': 548, 'temple': 6273, 'england': 6274, 'milhouse_van_houten': 1415, 'nor': 6275, 'sips': 940, 'rasputin': 2960, 'confused': 1153, 'shrieks': 6277, 'arabs': 3400, 'slyly': 2051, 'punishment': 4202, 'know': 65, 'arab_man': 2777, 'toledo': 6278, 'certain': 2778, 'joined': 2779, 'dishrag': 6153, \"boy's\": 6279, 'deliberately': 6280, 'itself': 6281, 'scratcher': 6282, 'wrestling': 2780, 'dollar': 1275, 'detail': 6284, 'signal': 4152, 'nick': 6286, 'sub-monkeys': 6287, 'yourselves': 2265, 'express': 2623, 'understood': 2781, 'triangle': 6289, 'yello': 4166, 'pirate': 2782, 'intoxicants': 6291, 'laughing': 941, 'wake': 2783, 'seen': 307, 'charity': 2784, 'sold': 1417, 'cage': 6292, 'disturbance': 4663, 'mr': 193, \"nixon's\": 6294, 'tip': 942, 'mind': 727, 'stranger': 2785, 'physical': 6295, 'dammit': 6296, 'jumps': 2787, 'studied': 6297, 'arse': 6298, 'police': 660, 'palmerston': 1851, 'fact': 1852, 'generally': 6299, 'quimby_#2': 6300, 'kicked': 2327, 'sex': 943, 'judge_snyder': 2788, 'fair': 1853, 'reserve': 2789, 'very': 228, 'veux': 6302, 'even': 163, 'countryman': 5028, 'wiener': 1855, 'purse': 2790, 'cup': 6304, 'slugger': 6305, 'civic': 2791, 'standing': 2792, 'suffering': 4305, \"usin'\": 6307, 'coherent': 6308, 'monster': 1418, 'arts': 6309, 'jewish': 4319, 'information': 6310, 'run': 830, 'prints': 6311, 'skinheads': 6312, 'rules': 2793, 'store-bought': 6313, 'publishers': 6314, 'coma': 5848, 'oil': 1856, 'applesauce': 3720, 'snail': 6317, 'excavating': 6570, 'bring': 509, 'resolution': 6318, 'hundred': 308, \"drivin'\": 1155, 'comedies': 6196, \"ma's\": 6319, 'beanbag': 4700, \"we'll\": 549, 'hates': 1857, 'yammering': 6320, 'poulet': 6321, 'homer': 28, 'hooky': 6322, 'popping': 6323, 'examples': 6324, 'snide': 6325, 'lou': 831, 'majesty': 4422, 'short_man': 6326, 'whoopi': 5355, 'happier': 832, 'forgiven': 6328, 'earth': 6329, 'timbuk-tee': 6011, 'signed': 6330, 'pointy': 4447, 'offshoot': 6331, 'bulletin': 6332, 'up': 50, 'appear': 2795, 'most': 401, 'wrap': 5577, 'selective': 6334, 'puke': 1859, 'bon': 6335, 'horrible': 833, 'lazy': 2796, \"must've\": 6336, 'ma': 662, 'someone': 300, 're': 1293, 'awwww': 2797, 'slurps': 6338, 'exhale': 4508, 'stolen': 4393, 'barney-guarding': 6340, 'quickly': 444, 'joey': 944, 'harvard': 6341, 'splash': 4301, 'golf': 2798, 'tyson/secretariat': 6342, 'boneheaded': 2799, 'au': 6343, 'coined': 6344, 'team': 1860, 'nibble': 6345, 'killed': 1861, \"ya'\": 5589, 'chuckles': 319, 'mount': 2800, 'hitchhike': 6347, 'beep': 2801, 'multi-national': 6348, 'does': 234, 'whoops': 6349, 'laid': 6350, 'maybe': 181, 'bleeding': 4603, 'innocence': 6352, 'equal': 6353, 'sobo': 2901, \"wouldn't-a\": 6355, 'murderously': 4619, 'supermarket': 5539, 'triple-sec': 5598, 'certainly': 6358, 'causes': 4054, 'simplest': 6359, '_marvin_monroe': 5663, 'belts': 6361, 'life-sized': 6362, 'savagely': 6363, 'aziz': 6364, 'slurred': 6365, 'frontrunner': 6366, 'conversion': 6367, 'wall': 1156, 'banks': 1862, 'ball': 834, 'knowingly': 6369, 'mock-up': 6370, 'walther_hotenhoffer': 945, 'conclude': 3864, 'wing': 2386, 'crowded': 6373, 'kako': 5588, 'cruiser': 3308, 'choke': 6376, 'drivers': 1421, 'soir': 6377, 'lotsa': 6378, 'french': 1066, 'discussing': 2804, 'bitterly': 1863, 'bide': 6379, 'enthusiastically': 6380, 'veteran': 6381, 'tomatoes': 6382, 'kill': 425, 'determined': 5303, 'bill': 1423, 'apron': 6383, 'sneak': 6384, \"mopin'\": 6385, 'cheap': 1865, 'unfamiliar': 3424, 'argue': 6386, \"can'tcha\": 4809, 'history': 1866, 'blood': 728, 'cute': 1867, 'twins': 1311, 'nurse': 6533, 'generously': 6388, 'forever': 835, 'huggenkiss': 1433, 'stop': 352, 'fanciest': 2805, 'approval': 6389, 'can': 66, \"hell's\": 6390, 'slow': 947, 'smugglers': 2806, 'dislike': 6391, 'super-nice': 6392, 'gibson': 6393, 'eminence': 6394, 'blaze': 6395, 'kinderhook': 6396, 'sense': 1424, 'lucinda': 6397, 'vestigial': 5965, 'mobile': 6398, 'birth': 6399, 'bums': 2807, 'enhance': 6400, 'gets': 473, 'ab': 6401, 'bags': 2808, 'labels': 2809, 'snow': 2810, 'phlegm': 6402, 'thumb': 1158, 'hang': 837, 'andy': 1704, 'sizes': 4931, \"i-i'll\": 6404, 'quit': 474, 'eighteen': 6405, 'product': 2812, 'mail': 2339, 'proof': 6407, 'rolled': 2813, \"soakin's\": 6408, 'unattractive': 6409, 'cousin': 6410, 'stumble': 6411, 'sweaty': 6412, 'bets': 2814, 'nicer': 6413, 'both': 702, 'season': 1869, 'threw': 1425, 'lurks': 6414, 'feminist': 3606, 'boxers': 6371, 'apply': 6416, \"stabbin'\": 6417, 'sick': 948, 'everywhere': 5007, 'carpet': 6418, 'smallest': 2699, 'cigarettes': 2815, \"money's\": 2816, 'fight': 510, 'cesss': 5020, 'fit': 6420, 'reluctant': 6421, \"tramp's\": 6422, 'slit': 6423, 'banned': 6424, 'seymour': 550, 'treasure': 949, 'copy': 2817, 'skills': 6425, \"football's\": 6426, 'polishing': 6427, \"bettin'\": 3618, 'brother': 1727, 'sympathy': 6428, 'multiple': 2387, 'race': 6429, 'promise': 6430, 'stares': 6431, 'quarry': 5116, \"kiddin'\": 838, 'pridesters': 5122, 'wayne': 1159, 'righ': 6433, \"car's\": 2897, 'recipe': 4061, 'reptile': 6435, 'rule': 2819, 'improved': 6436, 'science': 6437, 'price': 2820, 'sinkhole': 6439, \"pope's\": 2821, \"town's\": 2822, 'premiering': 4021, 'kahlua': 6440, 'telegraph': 6441, 'occupancy': 6442, 'philip': 6443, 'kid': 301, 'travel': 6444, 'muttering': 2823, \"waitin'\": 2824, 'only': 156, 'easier': 2825, 'restroom': 2826, 'perfunctory': 6445, 'texan': 5701, 'jay': 2828, 'focused': 6446, 'thirty-nine': 6447, 'living': 6448, 'fuhgetaboutit': 6449, 'always': 292, 'nine': 839, 'grienke': 2829, 'persia': 5695, 'served': 2830, 'scooter': 2831, 'going': 184, 'strolled': 6450, 'led': 6451, 'democrats': 6452, \"takin'\": 2832, 'fourteen': 6453, \"don't\": 47, 'puke-pail': 6454, 'referee': 6455, 'raggie': 6456, 'mocking': 6457, 'let': 143, 'forgets': 6458, 'there': 81, 'become': 1871, 'divorced': 6459, 'choked-up': 6460, 'indecipherable': 6461, 'quimby': 6462, 'from': 77, 'isotopes': 1160, 'sweden': 6463, 'chumbawamba': 5341, 'jazz': 6055, 'non-losers': 6466, 'blank': 6467, 'pink': 6019, 'backbone': 6468, 'fuzzlepitch': 6469, 'love': 124, 'depository': 6470, 'anyhoo': 6471, 'minus': 6472, 'loved': 950, 'build': 6473, 'reynolds': 2833, 'remember': 309, 'inclination': 5394, 'radiation': 6650, 'square': 2834, 'heaving': 3099, 'lousy': 663, 'empty': 1161, 'darjeeling': 6478, 'tv_father': 1762, 'stood': 6480, 'page': 2835, 'rationalizing': 6481, 'lanes': 4199, 'official': 6482, 'strictly': 6484, 'looks': 241, 'new_health_inspector': 1427, 'pills': 6485, 'dollface': 6486, 'applicant': 6653, \"president's\": 4673, 'scum-sucking': 6488, \"what'll\": 1221, 'barely': 2836, 'bugs': 6489, 'state': 952, 'irs': 5492, 'borrow': 2837, 'ominous': 1428, 'pause': 1771, 'coughs': 6492, 'catching': 2838, 'marmaduke': 2839, 'year': 661, 'fustigate': 5527, 'small': 511, '50%': 6494, 'boggs': 6592, \"daughter's\": 6495, 'wish-meat': 6496, 'jacques': 333, 'bunch': 1872, \"stinkin'\": 1873, 'grin': 6497, 'flush-town': 6498, 'gun': 2841, 'dizzy': 6499, 'cash': 486, 'suck': 1755, 'scotch': 1874, 'kidding': 1429, 'denver': 953, 'hateful': 6500, 'amazed': 842, 'kim_basinger': 6501, 'seymour_skinner': 208, 'starve': 5605, 'compadre': 6503, 'buying': 1875, 'accusing': 6504, 'corporate': 2842, 'three': 221, 'darkness': 6505, 'demo': 5618, 'stayed': 1876, 'almost': 1377, 'orphan': 6483, 'want': 104, 'temples': 5815, 'fountain': 6029, 'minimum': 1211, 'whale': 6510, 'test-': 6511, 'mortal': 6512, 'helicopter': 1877, 'showing': 1878, 'kidnaps': 6513, 'brains': 1787, 'exactly': 729, 'decadent': 6515, \"secret's\": 6516, 'buy': 267, 'darkest': 2843, 'break-up': 6517, 'gold': 954, 'maximum': 6518, 'eye': 603, 'steam': 6519, 'backing': 6521, 'fritz': 1162, 'diving': 6522, 'boy': 212, 'super-genius': 5728, 'ironic': 6524, 'chunky': 6525, 'reactions': 6526, 'friend': 194, 'blue': 664, 'pizzicato': 6527, 'bugging': 2845, 'smitty': 4687, 'hop': 2846, 'became': 955, 'awed': 2649, 'klown': 5923, 'recall': 2847, 'temper': 6031, \"smackin'\": 6531, 'shows': 1430, 'drunks': 1682, 'thesaurus': 2848, 'archaeologist': 6532, \"one's\": 1164, 'dracula': 2931, 'expression': 2849, 'twentieth': 6534, 'telephone': 6535, 'beached': 6536, 'looking': 226, 'easter': 6356, 'chastity': 6537, 'nope': 2850, 'hook': 5813, 'home': 199, 'near': 2863, 'digging': 6540, 'quitcher': 6541, 'beyond': 3592, 'britannia': 4144, 'harm': 6543, 'golden': 6544, 'billboard': 1431, 'instantly': 6545, 'heading': 2851, 'aer': 5459, 'making': 843, 'mine': 1165, \"tryin'\": 1166, 'period': 6547, 'icy': 6316, 'declared': 6549, 'scram': 3296, 'dogs': 5887, 'impressed': 956, 'obvious': 2853, 'so-ng': 6551, 'sadder': 1879, 'remain': 6552, 'wooooo': 1880, 'specializes': 6553, 'mix': 6554, 'eaters': 6555, 'twenty-five': 1881, 'hibbert': 2854, 'plotz': 6556, 'start': 604, 'reciting': 5403, 'for': 26, 'craphole': 2856, 'duty': 2857, 'dirge-like': 5404, 'noises': 512, 'prolonged': 6557, \"puttin'\": 6558, 'make': 108, 'nuts': 513, 'weekly': 1432, 'bauer': 6559, 'richer': 5405, 'whatchamacallit': 4203, 'suppose': 1760, 'detective_homer_simpson': 1167, 'skunk': 6562, 'addiction': 6563, 'pressure': 2547, 'compliments': 2859, 'sorry': 152, 'drummer': 6564, 'young_barfly': 6565, 'careful': 1883, 'offa': 6566, 'dying': 1168, 'recruiter': 6567, 'letter': 730, 'nein': 1169, \"feelin's\": 6568, 'holds': 957, 'midnight': 1884, 'freed': 6569, 'walked': 6036, 'chili': 6571, 'nauseous': 6572, 'comic_book_guy': 829, 'dressing': 6573, 'ton': 6574, 'assumed': 6575, 'motto': 4158, 'complete': 1885, 'fierce': 6576, 'bridge': 2860, \"challengin'\": 6577, 'blob': 6578, 'gil_gunderson': 6579, 'ticket': 731, 'crack': 958, 'potato': 2861, 'para': 6580, 'waking-up': 6581, 'founded': 6582, 'ideal': 6583, 'ow': 297, 'rusty': 6585, 'child': 1886, 'candy': 2862, 'marched': 6586, 'bag': 959, \"he's\": 144, 'popped': 6587, 'young': 665, 'koi': 2741, 'whaddaya': 1434, 'delicate': 4839, 'infatuation': 6588, 'youth': 6589, '1973': 6590, 'carlotta': 6591, 'smokes': 3649, 'thousands': 6593, \"murphy's\": 6594, 'clams': 6595, 'vehicle': 6596, 'th-th-th-the': 3623, 'ruint': 6598, 'diet': 1887, 'soaked': 6599, 'numeral': 6600, 'dead': 443, 'doors': 1888, 'reed': 3289, 'ons': 6043, 'nightmares': 6602, 'thorough': 6603, 'polls': 6604, 'insensitive': 6605, 'cause': 6606, 'mike': 1173, 'head': 282, 'mom': 514, 'meaningful': 1435, 'hibachi': 6607, 'ehhhhhhhh': 6608, 'benefits': 2864, 'twenty': 515, 'dryer': 2769, 'whoa-ho': 6610, 'hiding': 6611, 'bow': 951, 'du': 6613, 'ragtime': 2865, 'engine': 6614, 'bachelorhood': 3685, 'impatient': 2866, 'hurt': 445, 'explain': 2867, 'seek': 2868, 'sexton': 6616, 'gambler': 6617, \"heat's\": 6618, \"y'see\": 6619, 'virtual': 2869, 'air': 667, 'hans': 1436, 'toy': 6620, 'stay-puft': 6621, 'america': 998, 'handshake': 6622, 'excitement': 2840, 'kennedy': 6624, 'pass': 960, 'doreen': 1437, 'doug': 2870, 'hyahh': 6625, 'grave': 2871, 'mickey': 4997, 'reasons': 2872, 'despite': 1537, 'defeated': 2873, 'helpless': 6628, 'mmmm': 605, 'aristotle': 6629, 'granted': 2874, 'tv_daughter': 6630, \"they're\": 263, 'shoot': 1889, 'newsies': 6631, 'puffy': 6632, 'sleep': 1890, 'unbelievable': 6633, 'hall': 1891, 'crap': 844, 'retain': 4505, 'compared': 2875, 'backward': 6635, 'bras': 6636, 'twenty-four': 6637, 'who': 85, 'teddy': 2876, 'shades': 3177, 'senators': 1174, 'quarterback': 6639, 'fold': 2877, 'drag': 6640, \"mo'\": 6641, 'killer': 6642, 'soothing': 6643, 'elder': 1892, 'beeps': 6644, 'sing-song': 6645, 'professor_jonathan_frink': 552, 'guy': 129, 'missing': 6542, 'cough': 1893, 'ninety-six': 6646, 'finding': 1438, 'bottomless': 6647, 'romance': 6682, 'griffith': 4302, 'brainiac': 3845, 'painting': 2878, 'outta': 334, 'cuddling': 6476, 'shop': 6651, 'publish': 6074, 'renee': 551, 'form': 1894, 'ass': 732, 'thighs': 2879, 'grain': 6368, 'sabermetrics': 2880, 'yoo': 2881, 'merchants': 6684, 'housework': 6654, 'paints': 6655, 'lachrymose': 6656, 'bothered': 3471, 'hunka': 6657, 'moe-clone': 1896, 'pretty': 335, 'eggshell': 4118, 'wondering': 2884, 'ivory': 6659, 'pigs': 2738, 'bannister': 6661, 'unusually': 6662, 'consciousness': 6663, 'leaving': 6664, \"kearney's_dad\": 6665, \"brockman's\": 6666, 'carll': 2885, 'raising': 1897, 'explanation': 6667, 'ate': 6668, \"poundin'\": 4935, 'right-handed': 5420, 'course': 525, 'you-need-man': 6670, 'weight': 3196, 'x-men': 6672, 'socratic': 6673, 'boxing': 733, 'items': 6674, '100': 2886, 'fat_in_the_hat': 6675, 'fbi': 1439, 'of': 16, 'orders': 6676, 'chow': 6677, 'overhearing': 6678, 'answer': 1440, 'perking': 6679, 'breathtaking': 6680, 'ing': 6681, 'medicine': 2887, 'tough': 428, 'suits': 5370, 'princesses': 2882, 'si-lent': 6685, 'wishful': 6686, \"'topes\": 2888, 'grains': 6687, 'bar': 111, 'praise': 6688, 'satisfaction': 2255, 'address': 1441, 'prime': 1898}\n",
      "******\n",
      "{0: '||period||', 1: '||return||', 2: '||colon||', 3: '||comma||', 4: '||left_parentheses||', 5: '||right_parentheses||', 6: 'the', 7: 'i', 8: 'you', 9: '||exclamation_mark||', 10: 'moe_szyslak', 11: 'question_mark', 12: 'a', 13: 'homer_simpson', 14: 'to', 15: 'and', 16: 'of', 17: 'my', 18: 'it', 19: 'that', 20: 'in', 21: '||quotation_mark||', 22: 'me', 23: 'is', 24: 'this', 25: \"i'm\", 26: 'for', 27: 'your', 28: 'homer', 29: 'on', 30: 'hey', 31: 'moe', 32: 'oh', 33: 'no', 34: 'lenny_leonard', 35: 'what', 36: 'all', 37: 'with', 38: 'yeah', 39: 'just', 40: 'like', 41: 'but', 42: 'barney_gumble', 43: 'so', 44: 'be', 45: 'here', 46: 'carl_carlson', 47: \"don't\", 48: 'have', 49: \"it's\", 50: 'up', 51: 'well', 52: 'out', 53: 'do', 54: 'was', 55: 'got', 56: 'get', 57: 'are', 58: 'we', 59: 'uh', 60: \"that's\", 61: 'one', 62: \"you're\", 63: 'now', 64: 'not', 65: 'know', 66: 'can', 67: '||dash||', 68: 'at', 69: 'right', 70: '/', 71: 'how', 72: 'if', 73: 'back', 74: 'marge_simpson', 75: 'about', 76: 'he', 77: 'from', 78: 'go', 79: 'gonna', 80: 'they', 81: 'there', 82: 'beer', 83: 'good', 84: 'man', 85: 'who', 86: 'an', 87: 'okay', 88: 'his', 89: 'then', 90: 'little', 91: 'as', 92: 'some', 93: \"can't\", 94: 'never', 95: \"i'll\", 96: 'think', 97: 'come', 98: 'could', 99: \"i've\", 100: 'him', 101: 'really', 102: 'see', 103: 'look', 104: 'want', 105: 'too', 106: 'been', 107: 'guys', 108: 'make', 109: 'when', 110: 'why', 111: 'bar', 112: 'ya', 113: 'her', 114: 'did', 115: 'say', 116: 'time', 117: 'ah', 118: 'marge', 119: 'gotta', 120: 'or', 121: 'take', 122: 'down', 123: 'into', 124: 'love', 125: 'more', 126: 'our', 127: 'am', 128: 'off', 129: 'guy', 130: 'sure', 131: 'barney', 132: 'two', 133: \"there's\", 134: 'thing', 135: 'lisa_simpson', 136: 'would', 137: \"we're\", 138: 'big', 139: 'where', 140: 'had', 141: 'need', 142: 'tell', 143: 'let', 144: \"he's\", 145: 'money', 146: 'something', 147: 'over', 148: \"what's\", 149: 'us', 150: 'bart_simpson', 151: 'drink', 152: 'sorry', 153: 'by', 154: 'ever', 155: 'way', 156: 'only', 157: 'day', 158: 'will', 159: 'wait', 160: 'she', 161: 'chief_wiggum', 162: 'give', 163: 'even', 164: 'new', 165: \"i'd\", 166: 'god', 167: 'huh', 168: 'those', 169: \"ain't\", 170: \"didn't\", 171: 'people', 172: 'lenny', 173: 'great', 174: 'life', 175: 'eh', 176: 'phone', 177: 'has', 178: 'much', 179: \"moe's\", 180: 'were', 181: 'maybe', 182: 'mean', 183: 'than', 184: 'going', 185: 'place', 186: 'these', 187: \"you've\", 188: 'better', 189: 'should', 190: 'around', 191: 'still', 192: 'wanna', 193: 'mr', 194: 'friend', 195: \"'em\", 196: 'old', 197: 'help', 198: 'name', 199: 'home', 200: 'before', 201: 'noise', 202: 'night', 203: 'please', 204: 'last', 205: 'tv', 206: 'aw', 207: 'whoa', 208: 'seymour_skinner', 209: 'any', 210: 'made', 211: 'face', 212: 'boy', 213: 'duff', 214: 'thanks', 215: 'drunk', 216: 'put', 217: \"'cause\", 218: 'car', 219: 'hello', 220: 'call', 221: 'three', 222: 'again', 223: 'listen', 224: 'bad', 225: 'their', 226: 'looking', 227: 'first', 228: 'very', 229: \"let's\", 230: 'best', 231: 'yes', 232: 'said', 233: 'wow', 234: 'does', 235: 'them', 236: 'while', 237: 'every', 238: 'another', 239: 'ooh', 240: 'kent_brockman', 241: 'looks', 242: 'guess', 243: 'voice', 244: 'work', 245: 'other', 246: 'apu_nahasapeemapetilon', 247: 'wife', 248: 'springfield', 249: 'singing', 250: 'sweet', 251: 'feel', 252: 'tonight', 253: 'years', 254: \"won't\", 255: 'dad', 256: 'play', 257: 'thought', 258: 'find', 259: 'everybody', 260: 'after', 261: 'dr', 262: 'sobs', 263: \"they're\", 264: 'kids', 265: 'might', 266: 'things', 267: 'buy', 268: 'beat', 269: 'because', 270: 'minute', 271: 'world', 272: 'duffman', 273: 'show', 274: 'nice', 275: 'keep', 276: 'shut', 277: 'check', 278: 'since', 279: 'girl', 280: 'happy', 281: 'carl', 282: 'head', 283: 'use', 284: \"who's\", 285: 'lisa', 286: 'friends', 287: 'sings', 288: 'chuckle', 289: 'woman', 290: 'bart', 291: 'sighs', 292: 'always', 293: \"you'll\", 294: 'stupid', 295: 'which', 296: 'c', 297: 'ow', 298: 'krusty_the_clown', 299: \"isn't\", 300: 'someone', 301: 'kid', 302: \"here's\", 303: 'laugh', 304: 'lot', 305: 'anything', 306: 'talk', 307: 'seen', 308: 'hundred', 309: 'remember', 310: 'through', 311: 'hell', 312: 'glass', 313: 'thank', 314: 'barflies', 315: 'laughs', 316: 'next', 317: 'simpson', 318: 'job', 319: 'chuckles', 320: 'lost', 321: 'long', 322: 'says', 323: 'five', 324: 'hear', 325: 'matter', 326: 'away', 327: \"nothin'\", 328: 'house', 329: 'kind', 330: 'hope', 331: 'believe', 332: 'happened', 333: 'jacques', 334: 'outta', 335: 'pretty', 336: \"homer's\", 337: 'real', 338: 'book', 339: '_montgomery_burns', 340: 'wish', 341: 'four', 342: 'ned_flanders', 343: 'tavern', 344: 'turn', 345: 'waylon_smithers', 346: 'fat', 347: \"c'mon\", 348: 'family', 349: 'comes', 350: 'nervous', 351: 'once', 352: 'stop', 353: \"doin'\", 354: 'grampa_simpson', 355: 'business', 356: 'wrong', 357: 'actually', 358: 'done', 359: 'wants', 360: 'game', 361: 'myself', 362: 'ask', 363: \"goin'\", 364: 'idea', 365: 'town', 366: 'many', 367: 'getting', 368: 'burns', 369: \"she's\", 370: 'loud', 371: 'used', 372: 'today', 373: 'nobody', 374: 'reading', 375: 'everything', 376: \"wouldn't\", 377: \"comin'\", 378: 'enough', 379: 'must', 380: 'problem', 381: 'party', 382: \"we've\", 383: 'watch', 384: 'hold', 385: 'sounds', 386: 'nah', 387: 'free', 388: 'woo', 389: 'na', 390: 'thinking', 391: 'kemi', 392: 'took', 393: 'sound', 394: 'true', 395: 'dollars', 396: 'try', 397: 'bucks', 398: 'um', 399: 'maggie', 400: 'gee', 401: 'most', 402: 'doing', 403: 'makes', 404: 'edna', 405: 'pants', 406: \"where's\", 407: 'excuse', 408: 'chief', 409: 'daughter', 410: 'wanted', 411: 'gimme', 412: 'canyonero', 413: 'baby', 414: 'being', 415: 'secret', 416: 'sell', 417: 'beautiful', 418: 'everyone', 419: 'care', 420: 'under', 421: 'leave', 422: 'stuff', 423: 'yourself', 424: 'pay', 425: 'kill', 426: 'dinner', 427: 'sad', 428: 'tough', 429: 'knew', 430: 'went', 431: 'worry', 432: 'own', 433: 'pick', 434: 'save', 435: 'drinking', 436: 'mouth', 437: 'points', 438: \"you'd\", 439: 'tipsy', 440: 'smithers', 441: 'pal', 442: 'left', 443: 'dead', 444: 'quickly', 445: 'hurt', 446: 'told', 447: 'gave', 448: 'school', 449: 'fine', 450: 'booze', 451: 'hate', 452: 'die', 453: 'heard', 454: 'ladies', 455: 'break', 456: 'win', 457: 'feeling', 458: 'eyes', 459: 'camera', 460: 'sign', 461: 'skinner', 462: 'without', 463: 'hoo', 464: 'till', 465: 'excited', 466: 'dog', 467: 'read', 468: 'saw', 469: 'hi', 470: 'funny', 471: 'came', 472: 'tomorrow', 473: 'gets', 474: 'quit', 475: 'artie_ziff', 476: 'mad', 477: 'clean', 478: 'calling', 479: \"couldn't\", 480: 'loser', 481: 'krusty', 482: 'forget', 483: 'anyone', 484: 'crowd', 485: \"somethin'\", 486: 'cash', 487: 'super', 488: 'room', 489: 'surprised', 490: 'drive', 491: 'sir', 492: 'kinda', 493: 'hand', 494: 'alcohol', 495: 'hands', 496: 'seven', 497: 'fire', 498: 'easy', 499: 'gasp', 500: 'eat', 501: 'flaming', 502: 'date', 503: 'burn', 504: \"aren't\", 505: 'gone', 506: 'million', 507: 'kirk_van_houten', 508: 'loves', 509: 'bring', 510: 'fight', 511: 'small', 512: 'noises', 513: 'nuts', 514: 'mom', 515: 'twenty', 516: 'six', 517: \"doesn't\", 518: 'happen', 519: 'sadly', 520: \"y'know\", 521: 'bartender', 522: 'door', 523: 'tape', 524: 'upset', 525: 'course', 526: 'geez', 527: 'turns', 528: \"haven't\", 529: 'cut', 530: 'behind', 531: 'low', 532: \"talkin'\", 533: 'high', 534: 'already', 535: 'coming', 536: 'meet', 537: 'chance', 538: \"wasn't\", 539: 'anyway', 540: 'problems', 541: 'larry', 542: 'called', 543: 'dear', 544: \"lookin'\", 545: 'trouble', 546: 'each', 547: \"drinkin'\", 548: 'gentlemen', 549: \"we'll\", 550: 'seymour', 551: 'renee', 552: 'professor_jonathan_frink', 553: 'works', 554: 'learn', 555: 'outside', 556: 'fun', 557: 'ugly', 558: 'whatever', 559: 'sing', 560: 'spend', 561: 'steal', 562: 'realizing', 563: 'the_rich_texan', 564: 'trying', 565: 'sigh', 566: 'disgusted', 567: 'hot', 568: 'bottle', 569: 'm', 570: 'wiggum', 571: \"gettin'\", 572: 'song', 573: 'throat', 574: 'heart', 575: 'uh-oh', 576: 'stand', 577: 'close', 578: 'live', 579: 'whole', 580: 'talking', 581: 'blame', 582: 'worried', 583: 'change', 584: 'machine', 585: \"it'll\", 586: 'stay', 587: 'crazy', 588: 'snake_jailbird', 589: 'hours', 590: 'keys', 591: 'watching', 592: 'dump', 593: 'straight', 594: 'bar_rag', 595: 'quiet', 596: 'war', 597: 'least', 598: 'self', 599: 'lady', 600: 'end', 601: 'moan', 602: 'worse', 603: 'eye', 604: 'start', 605: 'mmmm', 606: 'butt', 607: 'apu', 608: 'light', 609: 'morning', 610: 'else', 611: 'alive', 612: 'men', 613: 'probably', 614: 'thinks', 615: 'goodbye', 616: 'special', 617: 'gasps', 618: 'second', 619: 'soon', 620: 'poor', 621: \"'bout\", 622: 'stick', 623: 'point', 624: 'heh', 625: 'either', 626: 'playing', 627: 'whip', 628: 'such', 629: \"shouldn't\", 630: 'tsk', 631: 'harv', 632: 'bowl', 633: 'turned', 634: 'pull', 635: 'greatest', 636: 'anymore', 637: 'marriage', 638: 'bit', 639: 'lucius', 640: 'drinks', 641: 'joe', 642: 'times', 643: 'mother', 644: 'far', 645: 'person', 646: 'annoyed', 647: 'may', 648: 'ten', 649: 'married', 650: 'learned', 651: 'perfect', 652: 'late', 653: 'private', 654: 'shocked', 655: 'smile', 656: 'front', 657: 'girls', 658: 'less', 659: 'delete', 660: 'police', 661: 'year', 662: 'ma', 663: 'lousy', 664: 'blue', 665: 'young', 666: 'thousand', 667: 'air', 668: 'glen', 669: 'open', 670: 'throw', 671: 'buddy', 672: 'store', 673: 'maya', 674: 'pig', 675: 'american', 676: 'barn', 677: 'box', 678: 'instead', 679: 'goodnight', 680: 'king', 681: 'serious', 682: 'moron', 683: 'minutes', 684: 'christmas', 685: 'lucky', 686: 'angry', 687: 'boys', 688: 'join', 689: 'found', 690: 'goes', 691: 'anybody', 692: 'card', 693: 'youse', 694: 'yet', 695: 'later', 696: 'arm', 697: 'uh-huh', 698: 'cool', 699: 'lemme', 700: 'nothing', 701: 'tab', 702: 'both', 703: 'miss', 704: 'taking', 705: 'patty_bouvier', 706: 'fifty', 707: 'agnes_skinner', 708: 'shotgun', 709: 'shot', 710: 'though', 711: 'knows', 712: 'mayor_joe_quimby', 713: 'walk', 714: 'nods', 715: 'eight', 716: 'president', 717: 'couple', 718: 'kick', 719: 'picture', 720: 'rev', 721: 'feet', 722: 'beers', 723: 'turning', 724: 'smell', 725: 'alone', 726: \"how'd\", 727: 'mind', 728: 'blood', 729: 'exactly', 730: 'letter', 731: 'ticket', 732: 'ass', 733: 'boxing', 734: 'round', 735: 'using', 736: 'hide', 737: 'seems', 738: 'return', 739: 'wire', 740: 'young_marge', 741: 'top', 742: 'himself', 743: 'advice', 744: 'proudly', 745: 'damn', 746: 'narrator', 747: 'alright', 748: 'fellas', 749: 'tap', 750: 'scared', 751: 'channel', 752: 'move', 753: 'saying', 754: 'table', 755: 'la', 756: 'glove', 757: 'terrible', 758: 'black', 759: \"makin'\", 760: 'days', 761: 'broke', 762: 'moans', 763: 'butts', 764: 'paint', 765: 'mrs', 766: 'full', 767: 'cold', 768: 'welcome', 769: 'etc', 770: 'glad', 771: 'hmm', 772: 'huge', 773: 'food', 774: 'story', 775: 'seat', 776: 'word', 777: 'collette', 778: 'peanuts', 779: 'plus', 780: 'dance', 781: 'city', 782: 'intrigued', 783: 'english', 784: 'ahh', 785: 'ha', 786: 'ready', 787: 'pour', 788: 'sotto', 789: 'inside', 790: 'favorite', 791: 'walking', 792: 'together', 793: 'lloyd', 794: 'flanders', 795: 'plant', 796: 'somebody', 797: 'fast', 798: 'dry', 799: \"he'll\", 800: 'friendly', 801: 'screw', 802: \"ol'\", 803: 'selma_bouvier', 804: 'news', 805: 'eggs', 806: 'homie', 807: 'send', 808: 'weird', 809: 'human', 810: 'warm_female_voice', 811: 'street', 812: 'rummy', 813: 'sitting', 814: 'semicolon', 815: 'japanese', 816: 'telling', 817: 'number', 818: 'deal', 819: 's', 820: 'son', 821: 'kiss', 822: 'afraid', 823: 'finally', 824: 'o', 825: 'words', 826: 'warmly', 827: 'accident', 828: 'grampa', 829: 'comic_book_guy', 830: 'run', 831: 'lou', 832: 'happier', 833: 'horrible', 834: 'ball', 835: 'forever', 836: 'losers', 837: 'hang', 838: \"kiddin'\", 839: 'nine', 840: 'ned', 841: 'means', 842: 'amazed', 843: 'making', 844: 'crap', 845: 'same', 846: 'ones', 847: 'stool', 848: 'milk', 849: 'touched', 850: 'company', 851: 'giving', 852: 'romantic', 853: 'fill', 854: 'kent', 855: 'szyslak', 856: 'normal', 857: 'rat', 858: 'bet', 859: 'star', 860: 'safe', 861: 'bitter', 862: 'music', 863: 'plan', 864: 'fat_tony', 865: 'jukebox', 866: 'seconds', 867: 'numbers', 868: 'baseball', 869: \"sayin'\", 870: 'slap', 871: 'across', 872: 'takes', 873: 'desperate', 874: 'al', 875: 'smells', 876: 'strong', 877: 'tony', 878: 'write', 879: 'birthday', 880: 'set', 881: 'fall', 882: 'charge', 883: 'forgot', 884: 'lives', 885: \"that'll\", 886: 'hair', 887: 'thirty', 888: 'class', 889: 'half', 890: 'tune', 891: 'health_inspector', 892: 'won', 893: 'eating', 894: 'football_announcer', 895: 'power', 896: 'shall', 897: 'honest', 898: 'omigod', 899: 'group', 900: 'princess', 901: 'honey', 902: 'truth', 903: 'lying', 904: 'early', 905: 'ice', 906: 'worst', 907: 'sent', 908: 'dangerous', 909: 'week', 910: 'along', 911: 'young_homer', 912: 'supposed', 913: 'heaven', 914: 'nigel_bakerbutcher', 915: '_julius_hibbert', 916: 'except', 917: 'manjula_nahasapeemapetilon', 918: 'dumb', 919: 'principal', 920: 'plastic', 921: 'lowers', 922: 'dunno', 923: 'brought', 924: 'uncle', 925: 'health', 926: 'belch', 927: 'tinkle', 928: 'gives', 929: 'quick', 930: 'hit', 931: 'admit', 932: 'hank_williams_jr', 933: 'water', 934: 'side', 935: \"we'd\", 936: 'mister', 937: 'gumbel', 938: 'holding', 939: 'invented', 940: 'sips', 941: 'laughing', 942: 'tip', 943: 'sex', 944: 'joey', 945: 'walther_hotenhoffer', 946: 'hard', 947: 'slow', 948: 'sick', 949: 'treasure', 950: 'loved', 951: 'bow', 952: 'state', 953: 'denver', 954: 'gold', 955: 'became', 956: 'impressed', 957: 'holds', 958: 'crack', 959: 'bag', 960: 'pass', 961: 'needs', 962: 'given', 963: 'until', 964: 'quietly', 965: 'evening', 966: 'ad', 967: 'cost', 968: \"lisa's\", 969: 'service', 970: 'wally', 971: 'drederick', 972: 'cutting', 973: 'nuclear', 974: '_zander', 975: 'hanging', 976: 'yea', 977: 'chanting', 978: \"world's\", 979: 'longer', 980: 'calm', 981: 'wonder', 982: 'pity', 983: 'pipe', 984: 'exasperated', 985: 'owe', 986: 'third', 987: 'boring', 988: 'act', 989: 'beloved', 990: 'counting', 991: 'glasses', 992: 'bee', 993: 'dank', 994: 'grand', 995: 'women', 996: 'tree', 997: 'red', 998: 'america', 999: 'disappointed', 1000: 'lessons', 1001: 'p', 1002: 'local', 1003: 'announcer', 1004: 'little_man', 1005: 'stunned', 1006: 'sharps', 1007: 'troy', 1008: 'jerks', 1009: 'felt', 1010: 'totally', 1011: 'treat', 1012: 'absolutely', 1013: 'part', 1014: 'hopeful', 1015: 'dallas', 1016: 'adult_bart', 1017: 'strap', 1018: 'african', 1019: 'puzzled', 1020: 'yep', 1021: 'tv_husband', 1022: 'eddie', 1023: 'tongue', 1024: 'truck', 1025: 'survive', 1026: 'stories', 1027: 'artie', 1028: 'fellow', 1029: 'bret', 1030: 'tired', 1031: 'cleaned', 1032: 'bender', 1033: 'rest', 1034: 'testing', 1035: 'sauce', 1036: 'invited', 1037: 'children', 1038: 'biggest', 1039: \"he'd\", 1040: 'club', 1041: 'running', 1042: 'speech', 1043: 'window', 1044: 'selma', 1045: \"smokin'_joe_frazier\", 1046: 'wrote', 1047: 'troll', 1048: 'few', 1049: 'i-i', 1050: 'legs', 1051: 'gay', 1052: 'rope', 1053: 'tv_wife', 1054: 'accent', 1055: 'shirt', 1056: 'swear', 1057: 'handsome', 1058: 'center', 1059: 'wheel', 1060: 'choice', 1061: \"callin'\", 1062: 'lord', 1063: 'pool', 1064: 'fish', 1065: 'saved', 1066: 'french', 1067: 'games', 1068: 'asked', 1069: 'duh', 1070: 'filthy', 1071: 'jack', 1072: 'short', 1073: 'ago', 1074: 'favor', 1075: 'joint', 1076: 'wallet', 1077: 'luck', 1078: 'mouse', 1079: 'designated', 1080: 'named', 1081: 'having', 1082: 'pop', 1083: 'soul', 1084: 'movie', 1085: 'punch', 1086: 'doubt', 1087: 'hospital', 1088: 'represent', 1089: 'none', 1090: 'beach', 1091: 'college', 1092: 'caught', 1093: 'mayor', 1094: 'shaking', 1095: 'catch', 1096: 'names', 1097: 'wine', 1098: 'horrified', 1099: 'chug', 1100: 'fingers', 1101: 'brockman', 1102: 'wonderful', 1103: 'hugh', 1104: 'sunday', 1105: 'customers', 1106: 'cow', 1107: 'wha', 1108: 'also', 1109: 'against', 1110: 'ashamed', 1111: 'driving', 1112: 'closed', 1113: 'dame', 1114: \"tellin'\", 1115: 'suicide', 1116: \"workin'\", 1117: 'suddenly', 1118: 'lose', 1119: 'cop', 1120: 'during', 1121: 'sob', 1122: 'brilliant', 1123: 'clown', 1124: 'speaking', 1125: 'coaster', 1126: \"sittin'\", 1127: 'writing', 1128: 'dude', 1129: 'speak', 1130: 'park', 1131: 'edna_krabappel-flanders', 1132: 'government', 1133: \"how's\", 1134: 'clear', 1135: 'jeez', 1136: 'cheer', 1137: 'sober', 1138: \"i'm-so-stupid\", 1139: 'suit', 1140: 'broad', 1141: 'surgery', 1142: 'billy_the_kid', 1143: 'changing', 1144: '_hooper', 1145: \"guy's\", 1146: 'offended', 1147: 'x', 1148: 'proud', 1149: 'piece', 1150: 'daddy', 1151: 'jar', 1152: 'bank', 1153: 'confused', 1154: 'clears', 1155: \"drivin'\", 1156: 'wall', 1157: 'bed', 1158: 'thumb', 1159: 'wayne', 1160: 'isotopes', 1161: 'empty', 1162: 'fritz', 1163: 'unless', 1164: \"one's\", 1165: 'mine', 1166: \"tryin'\", 1167: 'detective_homer_simpson', 1168: 'dying', 1169: 'nein', 1170: 'hated', 1171: 'nineteen', 1172: 'deer', 1173: 'mike', 1174: 'senators', 1175: 'polite', 1176: 'dang', 1177: 'pickled', 1178: 'dan_gillick', 1179: \"o'clock\", 1180: \"carl's\", 1181: 'sports', 1182: \"today's\", 1183: 'amazing', 1184: 'blow', 1185: 'clearly', 1186: 'therapy', 1187: 'movies', 1188: \"valentine's\", 1189: 'whisper', 1190: 'meeting', 1191: 'adeleine', 1192: 'stirring', 1193: 'sly', 1194: 'belches', 1195: 'championship', 1196: 'market', 1197: 'illegal', 1198: 'keeps', 1199: 'david_byrne', 1200: 'drug', 1201: 'working', 1202: 'lotta', 1203: 'lips', 1204: 'plow', 1205: 'nose', 1206: 'spot', 1207: 'france', 1208: 'burps', 1209: 'months', 1210: 'u', 1211: 'minimum', 1212: 'beauty', 1213: 'smooth', 1214: 'pit', 1215: \"bein'\", 1216: 'declan_desmond', 1217: 'starts', 1218: \"o'problem\", 1219: 'foibles', 1220: 'father', 1221: \"what'll\", 1222: 'dennis_conroy', 1223: 'arms', 1224: 'tom', 1225: 'domestic', 1226: 'rob', 1227: 'deep', 1228: \"watchin'\", 1229: 'ride', 1230: 'ken', 1231: \"moe's_thoughts\", 1232: 'rag', 1233: 'question', 1234: 'magic', 1235: 'betty', 1236: 'sobbing', 1237: 'stagy', 1238: 'secrets', 1239: 'amid', 1240: 'respect', 1241: 'follow', 1242: 'babies', 1243: 'eleven', 1244: 'radishes', 1245: 'flowers', 1246: 'bye', 1247: 'arrest', 1248: 'awkward', 1249: 'girlfriend', 1250: 'correct', 1251: 'sit', 1252: 'pointed', 1253: 'sarcastic', 1254: 'boat', 1255: 'sees', 1256: 'test', 1257: 'bees', 1258: 'understand', 1259: 'cries', 1260: 'coat', 1261: 'needed', 1262: 'south', 1263: 'tatum', 1264: 'folks', 1265: 'restaurant', 1266: 'pulled', 1267: 'able', 1268: 'professional', 1269: 'ivana', 1270: 'ahead', 1271: \"they've\", 1272: \"who'll\", 1273: 'grim', 1274: 'bald', 1275: 'dollar', 1276: 'husband', 1277: 'thoughtful', 1278: 'usually', 1279: 'situation', 1280: 'quite', 1281: 'case', 1282: 'brain', 1283: 'pleased', 1284: 'castle', 1285: 'rich', 1286: 'partner', 1287: 'dramatic', 1288: 'raises', 1289: 'pitcher', 1290: 'books', 1291: 'band', 1292: 'hoping', 1293: 're', 1294: 'rather', 1295: 'computer', 1296: 'knock', 1297: 'feels', 1298: 'ingredient', 1299: 'fridge', 1300: 'midge', 1301: 'guns', 1302: 'clothes', 1303: 'pub', 1304: 'cable', 1305: 'especially', 1306: 'upbeat', 1307: 'egg', 1308: 'amanda', 1309: 'explaining', 1310: 'bottom', 1311: 'twins', 1312: 'yesterday', 1313: 'bars', 1314: 'figured', 1315: 'forty', 1316: 'started', 1317: 'sheepish', 1318: 'garbage', 1319: 'rotch', 1320: 'heavyweight', 1321: 'fifteen', 1322: 'closing', 1323: 'cover', 1324: 'twelve', 1325: 'smiling', 1326: 'teenage_barney', 1327: 'buffalo', 1328: 'hungry', 1329: 'formico', 1330: \"dad's\", 1331: 'stillwater', 1332: 'chick', 1333: 'pickle', 1334: 'whiny', 1335: 'sexy', 1336: 'finger', 1337: 'selling', 1338: 'gift', 1339: 'wear', 1340: 'lie', 1341: 'gin', 1342: 'yap', 1343: 'different', 1344: 'whee', 1345: 'sincere', 1346: 'line', 1347: 'teenage_bart', 1348: 'mug', 1349: \"livin'\", 1350: 'senator', 1351: 'seem', 1352: 'body', 1353: 'hero', 1354: 'island', 1355: 'train', 1356: 'jerk', 1357: 'match', 1358: 'original', 1359: 'busy', 1360: 'ourselves', 1361: 'loaded', 1362: 'sister', 1363: 'career', 1364: 'flips', 1365: 'trip', 1366: 'chocolate', 1367: 'precious', 1368: 'ruined', 1369: 'pipes', 1370: 'buttons', 1371: 'tail', 1372: 'opportunity', 1373: 'yard', 1374: 'à', 1375: 'frustrated', 1376: 'character', 1377: 'almost', 1378: 'snake', 1379: 'scream', 1380: 'pulls', 1381: \"everyone's\", 1382: 'cares', 1383: 'enjoy', 1384: \"buyin'\", 1385: 'teach', 1386: 'breath', 1387: 'distraught', 1388: 'procedure', 1389: 'hits', 1390: 'vance', 1391: 'neck', 1392: 'died', 1393: 'field', 1394: 'pain', 1395: 'video', 1396: 'embarrassed', 1397: 'burt', 1398: 'gotten', 1399: 'burp', 1400: 'sits', 1401: 'fan', 1402: 'road', 1403: 'forget-me-shot', 1404: 'calls', 1405: 'couch', 1406: 'furious', 1407: 'happily', 1408: 'agent', 1409: 'hurry', 1410: 'stock', 1411: 'moment', 1412: 'gas', 1413: 'ooo', 1414: 'hm', 1415: 'milhouse_van_houten', 1416: 'offer', 1417: 'sold', 1418: 'monster', 1419: 'yellow', 1420: 'liver', 1421: 'drivers', 1422: 'flower', 1423: 'bill', 1424: 'sense', 1425: 'threw', 1426: 'fix', 1427: 'new_health_inspector', 1428: 'ominous', 1429: 'kidding', 1430: 'shows', 1431: 'billboard', 1432: 'weekly', 1433: 'huggenkiss', 1434: 'whaddaya', 1435: 'meaningful', 1436: 'hans', 1437: 'doreen', 1438: 'finding', 1439: 'fbi', 1440: 'answer', 1441: 'address', 1442: 'peach', 1443: 'lottery', 1444: 'dressed', 1445: 'der', 1446: 'greystash', 1447: 'corner', 1448: 'jesus', 1449: 'directions', 1450: 'chinese', 1451: 'crime', 1452: 'fork', 1453: 'barney-shaped_form', 1454: 'feed', 1455: 'roll', 1456: 'tips', 1457: \"men's\", 1458: 'spinning', 1459: 'r', 1460: 'reads', 1461: \"kids'\", 1462: 'tradition', 1463: 'weeks', 1464: 'cards', 1465: 'peter', 1466: 'modern', 1467: 'entire', 1468: 'holiday', 1469: '&', 1470: 'crank', 1471: 'mudflap', 1472: 'lots', 1473: 'prank', 1474: 'considering', 1475: 'tears', 1476: 'share', 1477: 'twenty-two', 1478: 'subject', 1479: 'knocked', 1480: 'cannot', 1481: \"bart's\", 1482: 'public', 1483: 'dive', 1484: 'army', 1485: 'texas', 1486: \"where'd\", 1487: 'changed', 1488: 'k', 1489: 'staying', 1490: 'tastes', 1491: 'al_gore', 1492: 'looked', 1493: 'middle', 1494: 'slip', 1495: 'dirt', 1496: 'bought', 1497: 'har', 1498: 'hour', 1499: 'embarrassing', 1500: 'moments', 1501: 'british', 1502: 'jack_larson', 1503: 'gator', 1504: 'walks', 1505: 'coffee', 1506: 'pays', 1507: 'pissed', 1508: 'sniffs', 1509: 'hunter', 1510: 'peace', 1511: 'talk-sings', 1512: 'roz', 1513: 'evil', 1514: 'tells', 1515: 'taken', 1516: 'nation', 1517: 'starting', 1518: 'vomit', 1519: 'natural', 1520: 'understanding', 1521: 'unison', 1522: 'popular', 1523: 'kermit', 1524: 'dynamite', 1525: 'marvin', 1526: 'label', 1527: 'wipe', 1528: 'thoughts', 1529: 'root', 1530: 'law', 1531: 'cents', 1532: 'toss', 1533: 'aside', 1534: 'fault', 1535: 'invite', 1536: 'shove', 1537: 'despite', 1538: 'glum', 1539: 'relax', 1540: \"'til\", 1541: 'touchdown', 1542: \"havin'\", 1543: 'f', 1544: 'pained', 1545: 'wearing', 1546: 'stools', 1547: 'tried', 1548: 'teeth', 1549: 'whose', 1550: 'general', 1551: 'driver', 1552: 'casual', 1553: 'celebrities', 1554: 'opening', 1555: 'ring', 1556: 'mock', 1557: \"they'd\", 1558: 'guest', 1559: 'fool', 1560: 'clone', 1561: 'sec_agent_#1', 1562: 'boo', 1563: 'meant', 1564: 'searching', 1565: 'wasting', 1566: 'program', 1567: 'grunts', 1568: 'scene', 1569: 'met', 1570: 'fireball', 1571: 'saturday', 1572: 'boxer', 1573: 'image', 1574: \"gentleman's\", 1575: 'losing', 1576: 'challenge', 1577: 'source', 1578: \"robbin'\", 1579: '_kissingher', 1580: 'following', 1581: 'hug', 1582: 'coach', 1583: 'sniffles', 1584: 'edison', 1585: 'scam', 1586: 'customer', 1587: 'burning', 1588: 'kang', 1589: 'nards', 1590: 'covers', 1591: 'hole', 1592: 'film', 1593: 'book_club_member', 1594: 'snaps', 1595: 'push', 1596: 'pocket', 1597: 'hiya', 1598: 'imagine', 1599: 'checking', 1600: 'reason', 1601: 'indignant', 1602: 'future', 1603: 'keeping', 1604: 'coney', 1605: 'jolly', 1606: 'pointing', 1607: 'fraud', 1608: 'closer', 1609: 'stadium', 1610: 'who-o-oa', 1611: 'heads', 1612: 'accurate', 1613: 'vegas', 1614: 'military', 1615: 'mechanical', 1616: 'played', 1617: 'international', 1618: 'turkey', 1619: 'somewhere', 1620: 'ran', 1621: 'sixty-nine', 1622: \"wife's\", 1623: 'kissing', 1624: 'enemies', 1625: 'grow', 1626: 'ground', 1627: 'drop', 1628: 'double', 1629: 'endorse', 1630: 'sadistic_barfly', 1631: 'fancy', 1632: 'cheers', 1633: 'single', 1634: 'singers', 1635: 'gal', 1636: 'aww', 1637: 'gary', 1638: 'exhaust', 1639: 'flatly', 1640: 'l', 1641: 'compliment', 1642: 'salad', 1643: 'bar-boy', 1644: 'election', 1645: 'finished', 1646: 'register', 1647: 'yo', 1648: 'sometime', 1649: 'unlucky', 1650: 'expect', 1651: 'chest', 1652: 'stole', 1653: 'gently', 1654: 'perhaps', 1655: 'uncomfortable', 1656: 'pathetic', 1657: 'yee-haw', 1658: 'pats', 1659: 'toys', 1660: 'paris', 1661: \"barney's\", 1662: 'ruin', 1663: 'anguished', 1664: 'higher', 1665: 'frink', 1666: 'upon', 1667: 'consider', 1668: 'uneasy', 1669: 'weak', 1670: \"c'mere\", 1671: 'lonely', 1672: 'wide', 1673: 'covering', 1674: 'step', 1675: \"could've\", 1676: 'fans', 1677: 'gary_chalmers', 1678: 'religion', 1679: 'literature', 1680: 'per', 1681: 'grabbing', 1682: 'drunks', 1683: 'death', 1684: 'extra', 1685: 'jamaican', 1686: 'campaign', 1687: 'ho', 1688: 'crummy', 1689: 'bob', 1690: 'ziffcorp', 1691: 'bright', 1692: 'toilet', 1693: 'spoken', 1694: 'accept', 1695: 'teenage', 1696: 'woo-hoo', 1697: 'ridiculous', 1698: 'bowling', 1699: 'bite', 1700: 'beginning', 1701: 'mistake', 1702: 'lindsay_naegle', 1703: 'mafia', 1704: 'andy', 1705: 'inspection', 1706: 'director', 1707: 'corpses', 1708: \"they'll\", 1709: 'floor', 1710: 'backwards', 1711: 'moved', 1712: 'parking', 1713: 'toward', 1714: 'past', 1715: 'pageant', 1716: 'shape', 1717: 'reporter', 1718: 'milhouse', 1719: 'jail', 1720: 'rough', 1721: 'fly', 1722: 'switch', 1723: 'clientele', 1724: 'stopped', 1725: 'sisters', 1726: 'traffic', 1727: 'brother', 1728: 'panicky', 1729: 'concerned', 1730: 'workers', 1731: 'ordered', 1732: 'kwik-e-mart', 1733: 'summer', 1734: 'jump', 1735: 'foot', 1736: 'system', 1737: 'whatcha', 1738: 'lately', 1739: 'alley', 1740: 'trust', 1741: 'ancient', 1742: '_timothy_lovejoy', 1743: 'likes', 1744: 'awful', 1745: \"ridin'\", 1746: 'severe', 1747: 'fever', 1748: 'comfortable', 1749: 'order', 1750: '_babcock', 1751: 'noticing', 1752: 'text', 1753: 'bike', 1754: 'snort', 1755: 'suck', 1756: 'finest', 1757: 'hmmm', 1758: 'rid', 1759: 'innocent', 1760: 'suppose', 1761: 'spit', 1762: 'tv_father', 1763: 'attention', 1764: 'delighted', 1765: 'license', 1766: 'scum', 1767: 'operation', 1768: 'pardon', 1769: 'afford', 1770: 'reminds', 1771: 'pause', 1772: 'odd', 1773: 'spanish', 1774: 'bless', 1775: 'leg', 1776: 'delicious', 1777: 'theater', 1778: 'grunt', 1779: 'afternoon', 1780: 'enemy', 1781: 'rats', 1782: 'hurts', 1783: 'junior', 1784: 'recommend', 1785: 'toasting', 1786: 'thankful', 1787: 'brains', 1788: 'anniversary', 1789: 'belly', 1790: 'focus', 1791: 'darts', 1792: 'worked', 1793: 'terrified', 1794: 'defensive', 1795: 'sexual', 1796: 'born', 1797: 'grabs', 1798: 'hilarious', 1799: 'size', 1800: 'its', 1801: 'fourth', 1802: 'puff', 1803: 'rub', 1804: 'james', 1805: 'crawl', 1806: 'feelings', 1807: 'exit', 1808: 'idiot', 1809: 'sweetly', 1810: 'frankly', 1811: 'kept', 1812: 'dancing', 1813: 'motel', 1814: 'list', 1815: 'cocktail', 1816: 'spending', 1817: 'german', 1818: 'struggling', 1819: 'incredulous', 1820: 'age', 1821: 'cigarette', 1822: 'sucked', 1823: 'shares', 1824: 'letters', 1825: 'ohmygod', 1826: 'cameras', 1827: 'button', 1828: \"seein'\", 1829: \"lenny's\", 1830: 'serve', 1831: \"year's\", 1832: 'threatening', 1833: 'miserable', 1834: 'sec', 1835: 'seeing', 1836: 'decide', 1837: 'pockets', 1838: 'gag', 1839: \"i-i'm\", 1840: 'screams', 1841: 'inspector', 1842: 'pfft', 1843: 'paying', 1844: 'loan', 1845: 'knowing', 1846: 'church', 1847: 'charlie', 1848: 'checks', 1849: 'above', 1850: 'powerful', 1851: 'palmerston', 1852: 'fact', 1853: 'fair', 1854: 'mel', 1855: 'wiener', 1856: 'oil', 1857: 'hates', 1858: 'leans', 1859: 'puke', 1860: 'team', 1861: 'killed', 1862: 'banks', 1863: 'bitterly', 1864: 'breaking', 1865: 'cheap', 1866: 'history', 1867: 'cute', 1868: 'bus', 1869: 'season', 1870: 'fumes', 1871: 'become', 1872: 'bunch', 1873: \"stinkin'\", 1874: 'scotch', 1875: 'buying', 1876: 'stayed', 1877: 'helicopter', 1878: 'showing', 1879: 'sadder', 1880: 'wooooo', 1881: 'twenty-five', 1882: 'nobel', 1883: 'careful', 1884: 'midnight', 1885: 'complete', 1886: 'child', 1887: 'diet', 1888: 'doors', 1889: 'shoot', 1890: 'sleep', 1891: 'hall', 1892: 'elder', 1893: 'cough', 1894: 'form', 1895: 'unlike', 1896: 'moe-clone', 1897: 'raising', 1898: 'prime', 1899: 'pitch', 1900: 'voice_on_transmitter', 1901: 'delivery_boy', 1902: 'wave', 1903: 'medical', 1904: 'young_moe', 1905: 'fighting', 1906: 'aggravated', 1907: 'type', 1908: \"ma'am\", 1909: 'inspiring', 1910: 'tiny', 1911: 'yelling', 1912: 'refresh', 1913: 'manage', 1914: 'latin', 1915: 'waltz', 1916: 'bear', 1917: 'admiration', 1918: 'snake-handler', 1919: 'excellent', 1920: 'achem', 1921: 'ringing', 1922: 'correcting', 1923: 'morlocks', 1924: 'padre', 1925: 'juice', 1926: 'cream', 1927: 'trick', 1928: 'umm', 1929: 'placing', 1930: 'chicks', 1931: \"bartender's\", 1932: 'scrape', 1933: 'energy', 1934: 'wedding', 1935: 'changes', 1936: 'plans', 1937: 'babe', 1938: 'bottles', 1939: 'kramer', 1940: 'tax', 1941: 'paid', 1942: 'weary', 1943: 'remembered', 1944: 'rumaki', 1945: 'poking', 1946: 'planet', 1947: 'chase', 1948: 'sale', 1949: 'cooler', 1950: 'honor', 1951: 'conspiratorial', 1952: 'roof', 1953: 'alfalfa', 1954: 'pulling', 1955: 'bam', 1956: 'radio', 1957: 'village', 1958: 'corporation', 1959: 'diamond', 1960: 'trench', 1961: 'beneath', 1962: 'percent', 1963: 'male_inspector', 1964: 'shrugs', 1965: 'slight', 1966: 'hollywood', 1967: 'degradation', 1968: 'message', 1969: 'cowardly', 1970: 'ambrosia', 1971: 'baritone', 1972: 'bucket', 1973: \"crawlin'\", 1974: 'dough', 1975: 't-shirt', 1976: 'gabriel', 1977: 'candidate', 1978: 'manjula', 1979: 'project', 1980: 'attack', 1981: 'ball-sized', 1982: 'drown', 1983: 'important', 1984: 'deacon', 1985: 'begins', 1986: 'stuck', 1987: 'rolling', 1988: 'bedbugs', 1989: 'duel', 1990: 'cotton', 1991: 'richard', 1992: 'self-esteem', 1993: 'badges', 1994: 'spread', 1995: \"someone's\", 1996: \"meanin'\", 1997: 'putting', 1998: 'helped', 1999: 'haw', 2000: 'gargoyle', 2001: 'nigerian', 2002: 'shooting', 2003: 'kidney', 2004: 'bastard', 2005: 'snap', 2006: 'deserve', 2007: 'available', 2008: 'white', 2009: 'fox', 2010: 'seemed', 2011: 'suspicious', 2012: 'suspect', 2013: 'wash', 2014: 'wings', 2015: 'smoothly', 2016: 'stevie', 2017: 'woman_bystander', 2018: 'blood-thirsty', 2019: 'wins', 2020: 'camp', 2021: 'ways', 2022: 'twin', 2023: 'prayer', 2024: 'involved', 2025: 'cleaner', 2026: 'release', 2027: 'shakespeare', 2028: 'deeply', 2029: 'stealings', 2030: 'bold', 2031: 'audience', 2032: 'internet', 2033: 'folk', 2034: 'marguerite', 2035: 'grimly', 2036: 'crossed', 2037: 'detecting', 2038: 'reaching', 2039: 'motorcycle', 2040: 'helen', 2041: \"payin'\", 2042: 'boyfriend', 2043: 'commission', 2044: 'pad', 2045: 'businessman_#1', 2046: 'needy', 2047: 'scare', 2048: 'chilly', 2049: 'aging', 2050: 'pouring', 2051: 'slyly', 2052: 'puts', 2053: \"what'sa\", 2054: 'b', 2055: 'boxing_announcer', 2056: 'surprise', 2057: 'mop', 2058: 'jets', 2059: 'mm', 2060: 'acting', 2061: 'talked', 2062: 'victory', 2063: 'neat', 2064: 'nasa', 2065: 'sweetheart', 2066: 'windex', 2067: 'thirteen', 2068: 'jockey', 2069: 'lover', 2070: 'roomy', 2071: 'busted', 2072: 'remains', 2073: 'reliable', 2074: 'aerosmith', 2075: 'teacher', 2076: 'smug', 2077: 'jobs', 2078: 'nudge', 2079: 'floated', 2080: 'spied', 2081: 'gang', 2082: '_powers', 2083: 'cheese', 2084: 'contest', 2085: 'lock', 2086: 'ayyy', 2087: 'teenage_homer', 2088: 'disappeared', 2089: 'woozy', 2090: 'sausage', 2091: 'standards', 2092: 'mmm', 2093: 'yogurt', 2094: 'andalay', 2095: 'steak', 2096: 'smoke', 2097: 'delivery', 2098: 'ironed', 2099: 'lap', 2100: 'morose', 2101: 'involving', 2102: 'trusted', 2103: 'snorts', 2104: 'hangs', 2105: 'punches', 2106: 'action', 2107: 'clinton', 2108: 'color', 2109: 'beats', 2110: 'patty', 2111: 'calculate', 2112: 'crying', 2113: 'amount', 2114: 'genius', 2115: 'agent_johnson', 2116: 'billion', 2117: 'sport', 2118: 'expert', 2119: 'lovely', 2120: 'riding', 2121: 'distributor', 2122: \"cat's\", 2123: 'dateline', 2124: 'sack', 2125: 'regulars', 2126: '6', 2127: 'present', 2128: 'kyoto', 2129: 'greetings', 2130: 'sandwich', 2131: 'nickels', 2132: 'insightful', 2133: 'joining', 2134: 'gorgeous', 2135: 'teams', 2136: 'routine', 2137: 'maman', 2138: 'un-sults', 2139: 'zero', 2140: 'steel', 2141: 'memories', 2142: 'memory', 2143: 'conversation', 2144: 'tanked-up', 2145: 'ale', 2146: 'gum', 2147: 'henry', 2148: 'cozy', 2149: 'comic', 2150: 'wordloaf', 2151: 'plenty', 2152: 'pleasant', 2153: 'ginger', 2154: 'positive', 2155: 'doll', 2156: 'watered-down', 2157: 'mention', 2158: 'santa', 2159: 'wade_boggs', 2160: 'airport', 2161: 'sinister', 2162: 'shower', 2163: 'cueball', 2164: 'curious', 2165: 'cops', 2166: 'familiar', 2167: 'decent', 2168: 'sleeps', 2169: 'crew', 2170: 'jubilant', 2171: 'onions', 2172: 'joking', 2173: 'pleading', 2174: 'naturally', 2175: 'salt', 2176: 'continuing', 2177: 'refund', 2178: 'joke', 2179: 'dreamed', 2180: 'wa', 2181: 'skeptical', 2182: 'rainier_wolfcastle', 2183: 'scary', 2184: \"monroe's\", 2185: 'lowering', 2186: 'chauffeur', 2187: 'calmly', 2188: 'appealing', 2189: 'weirded-out', 2190: 'built', 2191: 'christopher', 2192: \"hangin'\", 2193: 'effigy', 2194: 'warily', 2195: 'blew', 2196: 'yawns', 2197: 'shutting', 2198: 'hats', 2199: 'winnings', 2200: 'reached', 2201: 'stands', 2202: 'quality', 2203: 'grade', 2204: 'sponge', 2205: \"patrick's\", 2206: 'vacuum', 2207: 'fixed', 2208: 'awe', 2209: 'reach', 2210: 'caused', 2211: \"hadn't\", 2212: 'danish', 2213: 'mona_simpson', 2214: 'regret', 2215: 'margarita', 2216: 'freak', 2217: 'remembering', 2218: 'combine', 2219: 'intense', 2220: 'due', 2221: 'beam', 2222: 'fresh', 2223: 'website', 2224: 'underbridge', 2225: 'courage', 2226: 'museum', 2227: 'writers', 2228: 'wooden', 2229: 'sometimes', 2230: 'asking', 2231: 'mess', 2232: 'gifts', 2233: 'poker', 2234: 'dating', 2235: 'pint', 2236: 'so-called', 2237: 'peppy', 2238: 'playful', 2239: 'smart', 2240: 'alfred', 2241: 'carve', 2242: 'denser', 2243: 'ha-ha', 2244: \"team's\", 2245: 'coins', 2246: 'wishes', 2247: 'stir', 2248: 'abandon', 2249: 'frosty', 2250: \"countin'\", 2251: 'somehow', 2252: 'admiring', 2253: 'yards', 2254: 'pointless', 2255: 'satisfaction', 2256: 'lights', 2257: \"what're\", 2258: 'hotline', 2259: \"drawin'\", 2260: 'bono', 2261: 'tentative', 2262: \"beer's\", 2263: 'passion', 2264: 'harder', 2265: 'yourselves', 2266: 'linda', 2267: 'advantage', 2268: 'passed', 2269: 'prison', 2270: 'laramie', 2271: 'cutie', 2272: 'realized', 2273: 'discuss', 2274: 'prove', 2275: 'loss', 2276: 'mortgage', 2277: 'laws', 2278: 'cruel', 2279: 'generous', 2280: 'ohh', 2281: 'underpants', 2282: 'falcons', 2283: 'bathing', 2284: 'industry', 2285: 'awesome', 2286: 'broadway', 2287: '1895', 2288: 'proposing', 2289: 'hail', 2290: 'suds', 2291: 'sympathetic', 2292: 'photo', 2293: 'manager', 2294: 'organ', 2295: 'therefore', 2296: 'gunter', 2297: 'solo', 2298: 'soup', 2299: 'missed', 2300: 'churchill', 2301: 'koholic', 2302: 'informant', 2303: 'seats', 2304: 'mic', 2305: 'actors', 2306: 'seas', 2307: 'don', 2308: 'eighty-one', 2309: 'insulted', 2310: 'exchange', 2311: 'murmur', 2312: 'simp-sonnnn', 2313: 'flying', 2314: 'attempting', 2315: 'seriously', 2316: 'hunting', 2317: 'broom', 2318: \"buffalo's\", 2319: 'admitting', 2320: 'fictional', 2321: 'ah-ha', 2322: 'shaggy', 2323: 'sudden', 2324: 'david', 2325: 'scully', 2326: 'chum', 2327: 'kicked', 2328: 'befouled', 2329: 'mixed', 2330: 'starla', 2331: 'flag', 2332: 'tie', 2333: 'bartenders', 2334: 'safer', 2335: 'drawing', 2336: 'louder', 2337: 'justice', 2338: 'bubbles', 2339: 'mail', 2340: 'knife', 2341: 'slightly', 2342: 'thanksgiving', 2343: 'complaining', 2344: 'stinks', 2345: 'banquo', 2346: 'professor', 2347: 'dan', 2348: 'neighbor', 2349: 'friendship', 2350: 'weirder', 2351: 'increasingly', 2352: 'thoughtfully', 2353: 'sitar', 2354: 'products', 2355: \"other's\", 2356: 'inspired', 2357: 'costume', 2358: 'measurements', 2359: 'yell', 2360: 'belong', 2361: 'festival', 2362: 'corkscrew', 2363: 'listening', 2364: 'inspire', 2365: 'studio', 2366: 'allowed', 2367: '7-year-old_brockman', 2368: 'feast', 2369: 'comedy', 2370: 'grandiose', 2371: 'academy', 2372: 'nerve', 2373: 'isle', 2374: 'agreement', 2375: 'prohibit', 2376: 'goods', 2377: 'twice', 2378: 'dee-fense', 2379: 'authorized', 2380: 'sector', 2381: 'carlson', 2382: \"game's\", 2383: 'troy_mcclure', 2384: 'whenever', 2385: \"'tis\", 2386: 'wing', 2387: 'multiple', 2388: 'clothespins', 2389: 'tries', 2390: 'knees', 2391: \"hasn't\", 2392: 'angel', 2393: 'vodka', 2394: 'swill', 2395: 'gosh', 2396: 'assistant', 2397: 'skin', 2398: 'palm', 2399: 'century', 2400: 'bread', 2401: 'disco', 2402: 'deadly', 2403: 'dennis_kucinich', 2404: 'shaken', 2405: 'answering', 2406: 'acquaintance', 2407: 'judge', 2408: 'mcstagger', 2409: 'bathroom', 2410: 'grandmother', 2411: 'ech', 2412: 'disapproving', 2413: 'anarchy', 2414: \"bar's\", 2415: 'tenor', 2416: 'ocean', 2417: 'entirely', 2418: 'worth', 2419: 'wangs', 2420: 'mate', 2421: 'nigeria', 2422: 'gals', 2423: 'restaurants', 2424: 'whistles', 2425: 'waylon', 2426: 'advance', 2427: 'clock', 2428: 'dials', 2429: 'ye', 2430: 'realize', 2431: 'social', 2432: 'plywood', 2433: 'blues', 2434: 'sodas', 2435: 'between', 2436: 'punk', 2437: 'violations', 2438: 'brow', 2439: 'level', 2440: 'mob', 2441: 'railroad', 2442: 'brewed', 2443: 'sooner', 2444: 'firmly', 2445: 'w', 2446: 'emotional', 2447: 'brightening', 2448: 'ahhh', 2449: 'bird', 2450: 'wolfe', 2451: 'syrup', 2452: 'fevered', 2453: 'jebediah', 2454: 'monkey', 2455: 'european', 2456: 'blown', 2457: 'boozy', 2458: 'famous', 2459: 'bigger', 2460: 'complaint', 2461: 'tabooger', 2462: 'recently', 2463: 'celebrity', 2464: 'unfortunately', 2465: 'shoulder', 2466: 'confident', 2467: 'barf', 2468: 'rounds', 2469: 'guide', 2470: \"springfield's\", 2471: 'deliberate', 2472: 'pian-ee', 2473: 'cheery', 2474: 'dearest', 2475: 'neither', 2476: 'inflated', 2477: 'foil', 2478: 'buried', 2479: 'fudd', 2480: 'giggles', 2481: 'elephants', 2482: 'department', 2483: 'managing', 2484: 'strategy', 2485: 'satisfied', 2486: \"shan't\", 2487: 'straining', 2488: 'curds', 2489: 'helllp', 2490: 'decency', 2491: 'shoo', 2492: 'neil_gaiman', 2493: 'sea', 2494: 'barkeep', 2495: 'dropped', 2496: 'disgrace', 2497: 'alcoholic', 2498: 'force', 2499: 'code', 2500: 'mall', 2501: 'raccoons', 2502: 'successful', 2503: 'superior', 2504: 'raise', 2505: 'naked', 2506: 'dreams', 2507: 'dessert', 2508: 'utility', 2509: 'astronaut', 2510: 'vampires', 2511: 'agree', 2512: 'shock', 2513: 'bash', 2514: 'drank', 2515: 'bush', 2516: 'bible', 2517: 'apartment', 2518: 'appointment', 2519: 'brave', 2520: 'taps', 2521: 'therapist', 2522: 'kindly', 2523: 'fondly', 2524: \"others'\", 2525: 'retired', 2526: 'fox_mulder', 2527: 'yup', 2528: 'ugliest', 2529: 'reviews', 2530: 'ollie', 2531: 'although', 2532: 'mcbain', 2533: 'pin', 2534: 'greedy', 2535: 'answers', 2536: 'pride', 2537: \"tester's\", 2538: 'planning', 2539: 'honored', 2540: 'cat', 2541: 'sat', 2542: 'pope', 2543: 'aged_moe', 2544: 'gums', 2545: \"chewin'\", 2546: 'stationery', 2547: 'pressure', 2548: 'attitude', 2549: 'thru', 2550: 'soap', 2551: 'gentleman', 2552: 'row', 2553: 'plum', 2554: 'held', 2555: 'conference', 2556: \"dyin'\", 2557: 'funds', 2558: 'frog', 2559: 'louie', 2560: 'effervescent', 2561: 'jerry', 2562: 'warn', 2563: 'beating', 2564: 'promised', 2565: 'suing', 2566: 'terrific', 2567: 'nearly', 2568: 'tv_announcer', 2569: 'handing', 2570: 'fragile', 2571: 'queen', 2572: 'themselves', 2573: 'meal', 2574: 'karaoke', 2575: 'cent', 2576: \"marge's\", 2577: 'fuss', 2578: 'throwing', 2579: 'vacation', 2580: 'love-matic', 2581: 'vote', 2582: 'tang', 2583: 'sugar', 2584: 'patterns', 2585: 'balls', 2586: 'self-made', 2587: 'smurfs', 2588: 'filled', 2589: 'outlook', 2590: 'cola', 2591: 'prefer', 2592: 'witty', 2593: 'cookies', 2594: 'someday', 2595: 'grab', 2596: 'coward', 2597: 'germs', 2598: 'pond', 2599: 'miles', 2600: 'value', 2601: 'hitler', 2602: 'cheat', 2603: 'sneaky', 2604: 'securities', 2605: 'choices', 2606: 'tofu', 2607: 'violin', 2608: 'extremely', 2609: 'sissy', 2610: 'schnapps', 2611: 'forbidden', 2612: \"father's\", 2613: 'closes', 2614: \"it'd\", 2615: 'minister', 2616: 'payments', 2617: 'fausto', 2618: 'prepared', 2619: 'ziff', 2620: 'devastated', 2621: 'hawking', 2622: 'murmurs', 2623: 'express', 2624: 'eventually', 2625: 'benjamin', 2626: 'choking', 2627: 'cowboys', 2628: 'captain', 2629: 'hired', 2630: 'investor', 2631: 'relieved', 2632: 'rage', 2633: 'bears', 2634: 'sec_agent_#2', 2635: 'awww', 2636: \"readin'\", 2637: \"showin'\", 2638: \"wonderin'\", 2639: 'owner', 2640: 'oof', 2641: 'based', 2642: 'difficult', 2643: 'eighty-seven', 2644: 'forehead', 2645: 'dismissive', 2646: 'anywhere', 2647: 'shoots', 2648: 'bride', 2649: 'awed', 2650: 'porn', 2651: 'ripcord', 2652: 'cake', 2653: 'relationship', 2654: 'hobo', 2655: 'willy', 2656: 'reasonable', 2657: 'saint', 2658: 'liar', 2659: 'lush', 2660: 'broken', 2661: 'bartending', 2662: 'spy', 2663: 'sports_announcer', 2664: 'queer', 2665: 'skirt', 2666: 'krabappel', 2667: '250', 2668: 'prize', 2669: 'rock', 2670: 'pleasure', 2671: 'lookalike', 2672: 'confidence', 2673: 'tommy', 2674: 'd', 2675: 'slice', 2676: \"homer's_brain\", 2677: 'politics', 2678: 'trapped', 2679: 'jailbird', 2680: 'large', 2681: 'towed', 2682: 'klingon', 2683: 'all-star', 2684: 'failed', 2685: 'highway', 2686: 'tale', 2687: \"ladies'\", 2688: 'wang', 2689: \"weren't\", 2690: 'sweeter', 2691: 'jeff', 2692: 'finishing', 2693: 'results', 2694: 'yours', 2695: 'priest', 2696: 'handle', 2697: 'laney_fontaine', 2698: 'peanut', 2699: 'smallest', 2700: 'crumble', 2701: 'lurleen_lumpkin', 2702: 'bully', 2703: \"'im\", 2704: 'lise', 2705: 'dungeon', 2706: 'bourbon', 2707: 'bedroom', 2708: 'possibly', 2709: 'africa', 2710: 'conditioner', 2711: 'blend', 2712: 'effects', 2713: \"children's\", 2714: 'lib', 2715: 'creeps', 2716: 'media', 2717: 'joey_kramer', 2718: 'freeze', 2719: 'homers', 2720: 'champ', 2721: 'eyeball', 2722: 'penny', 2723: 'trolls', 2724: 'eyesore', 2725: 'freedom', 2726: 'forward', 2727: 'roses', 2728: 'matter-of-fact', 2729: 'patrons', 2730: 'heavyset', 2731: 'spent', 2732: 'completing', 2733: 'atlanta', 2734: 'fabulous', 2735: 'record', 2736: 'shrugging', 2737: 'written', 2738: 'pigs', 2739: 'quotes', 2740: 'patient', 2741: 'koi', 2742: 'superhero', 2743: 'electronic', 2744: 'lurleen', 2745: 'poem', 2746: 'magazine', 2747: 'tick', 2748: 'dress', 2749: \"fallin'\", 2750: 'civilization', 2751: 'animals', 2752: 'mumbling', 2753: 'solid', 2754: 'draw', 2755: 'stern', 2756: 'alphabet', 2757: 'torn', 2758: 'rap', 2759: 'bashir', 2760: 'dames', 2761: 'bubble', 2762: 'grumpy', 2763: 'whether', 2764: 'known', 2765: 'forgive', 2766: 'lighting', 2767: 'poet', 2768: 'charm', 2769: 'dryer', 2770: 'began', 2771: 'interested', 2772: 'belt', 2773: 'vulnerable', 2774: 'space', 2775: 'irish', 2776: 'brassiest', 2777: 'arab_man', 2778: 'certain', 2779: 'joined', 2780: 'wrestling', 2781: 'understood', 2782: 'pirate', 2783: 'wake', 2784: 'charity', 2785: 'stranger', 2786: 'partly', 2787: 'jumps', 2788: 'judge_snyder', 2789: 'reserve', 2790: 'purse', 2791: 'civic', 2792: 'standing', 2793: 'rules', 2794: 'i-i-i', 2795: 'appear', 2796: 'lazy', 2797: 'awwww', 2798: 'golf', 2799: 'boneheaded', 2800: 'mount', 2801: 'beep', 2802: 'rhyme', 2803: 'jerky', 2804: 'discussing', 2805: 'fanciest', 2806: 'smugglers', 2807: 'bums', 2808: 'bags', 2809: 'labels', 2810: 'snow', 2811: 'title', 2812: 'product', 2813: 'rolled', 2814: 'bets', 2815: 'cigarettes', 2816: \"money's\", 2817: 'copy', 2818: 'cars', 2819: 'rule', 2820: 'price', 2821: \"pope's\", 2822: \"town's\", 2823: 'muttering', 2824: \"waitin'\", 2825: 'easier', 2826: 'restroom', 2827: 'tester', 2828: 'jay', 2829: 'grienke', 2830: 'served', 2831: 'scooter', 2832: \"takin'\", 2833: 'reynolds', 2834: 'square', 2835: 'page', 2836: 'barely', 2837: 'borrow', 2838: 'catching', 2839: 'marmaduke', 2840: 'excitement', 2841: 'gun', 2842: 'corporate', 2843: 'darkest', 2844: 'brothers', 2845: 'bugging', 2846: 'hop', 2847: 'recall', 2848: 'thesaurus', 2849: 'expression', 2850: 'nope', 2851: 'heading', 2852: 'pretending', 2853: 'obvious', 2854: 'hibbert', 2855: 'thought_bubble_homer', 2856: 'craphole', 2857: 'duty', 2858: \"maggie's\", 2859: 'compliments', 2860: 'bridge', 2861: 'potato', 2862: 'candy', 2863: 'near', 2864: 'benefits', 2865: 'ragtime', 2866: 'impatient', 2867: 'explain', 2868: 'seek', 2869: 'virtual', 2870: 'doug', 2871: 'grave', 2872: 'reasons', 2873: 'defeated', 2874: 'granted', 2875: 'compared', 2876: 'teddy', 2877: 'fold', 2878: 'painting', 2879: 'thighs', 2880: 'sabermetrics', 2881: 'yoo', 2882: 'princesses', 2883: 'bump', 2884: 'wondering', 2885: 'carll', 2886: '100', 2887: 'medicine', 2888: \"'topes\", 2889: 'crayon', 2890: '/mr', 2891: 'serum', 2892: 'shame', 2893: 'piano', 2894: 'drains', 2895: 'mural', 2896: 'sanitary', 2897: \"car's\", 2898: 'gordon', 2899: 'two-drink', 2900: 'manchego', 2901: 'sobo', 2902: \"cuckold's\", 2903: 'adventure', 2904: 'congoleum', 2905: 'arimasen', 2906: 'spirit', 2907: 'nelson', 2908: 'wudgy', 2909: 'inherent', 2910: 'hangout', 2911: 'ding-a-ding-ding-a-ding-ding', 2912: \"ragin'\", 2913: \"now's\", 2914: 'libido', 2915: 'aboard', 2916: 'trash', 2917: 'anthony_kiedis', 2918: 'pusillanimous', 2919: 'access', 2920: 'hydrant', 2921: 'rubbed', 2922: 'casting', 2923: 'telemarketing', 2924: 'sideshow', 2925: \"startin'\", 2926: 'stan', 2927: 'horror', 2928: 'criminal', 2929: 'newsweek', 2930: 'illegally', 2931: 'dracula', 2932: 'effect', 2933: 'tidy', 2934: 'rash', 2935: 'cheesecake', 2936: 'squirrels', 2937: 'specials', 2938: 'rekindle', 2939: 'older', 2940: 'glummy', 2941: 'salvation', 2942: 'iran', 2943: 'scatter', 2944: 'training', 2945: 'branding', 2946: 'carolina', 2947: 'whirlybird', 2948: 'oughta', 2949: 'limited', 2950: 'tank', 2951: \"don'tcha\", 2952: 'louisiana', 2953: 'natured', 2954: \"breakin'\", 2955: 'imaginary', 2956: 'morning-after', 2957: 'friday', 2958: 'beard', 2959: 'open-casket', 2960: 'rasputin', 2961: 'mirthless', 2962: 'desperately', 2963: 'fat-free', 2964: 'astronauts', 2965: 'escort', 2966: 'spooky', 2967: 'key', 2968: 'jeter', 2969: 'wise', 2970: 'entering', 2971: 'strips', 2972: 'chill', 2973: 'warning', 2974: 'sunk', 2975: 'aiden', 2976: 'occasion', 2977: \"nick's\", 2978: 'chapstick', 2979: 'aah', 2980: 'annual', 2981: 'easy-going', 2982: 'neon', 2983: 'extract', 2984: 'sheets', 2985: 'trapping', 2986: 'sixteen', 2987: 'crystal', 2988: 'jam', 2989: 'thorn', 2990: 'unfair', 2991: 'shark', 2992: 'homesick', 2993: 'navy', 2994: 'earlier', 2995: 'chug-monkeys', 2996: 'discriminate', 2997: 'spite', 2998: 'ditched', 2999: 'awkwardly', 3000: 'deeper', 3001: 'carney', 3002: 'unsafe', 3003: 'earpiece', 3004: 'donated', 3005: 'simpsons', 3006: 'jigger', 3007: 'superpower', 3008: 'when-i-get-a-hold-of-you', 3009: 'crowds', 3010: 'incognito', 3011: 'rings', 3012: 'thawing', 3013: 'scornful', 3014: 'grease', 3015: 'exited', 3016: \"i'd'a\", 3017: 'shout', 3018: 'droning', 3019: 'monroe', 3020: 'clap', 3021: 'collateral', 3022: \"donatin'\", 3023: 'vacations', 3024: 'utensils', 3025: 'sneeze', 3026: 'masks', 3027: 'beer-jerks', 3028: 'mini-beret', 3029: 'lookalikes', 3030: 'pigtown', 3031: 'doooown', 3032: \"rentin'\", 3033: 'gulliver_dark', 3034: 'fortensky', 3035: 'yee-ha', 3036: 'dash', 3037: 'naegle', 3038: 'weekend', 3039: 'gentle', 3040: 'hairs', 3041: 'grocery', 3042: 'victorious', 3043: 'parked', 3044: 'pharmaceutical', 3045: 'suspenders', 3046: 'frink-y', 3047: 'glamour', 3048: 'balloon', 3049: 'putty', 3050: 'drunkenly', 3051: 'worldly', 3052: 'snapping', 3053: 'presents', 3054: 'poster', 3055: 'othello', 3056: '50-60', 3057: 'pawed', 3058: 'host', 3059: 'octa-', 3060: 'clearing', 3061: 'seething', 3062: 'breakdown', 3063: \"knockin'\", 3064: 'literary', 3065: \"hole'\", 3066: 'annie', 3067: 'gunk', 3068: 'disgraceful', 3069: 'burg', 3070: 'congratulations', 3071: 'surgeonnn', 3072: 'country-fried', 3073: 'lobster-politans', 3074: 'cauliflower', 3075: 'guzzles', 3076: 'sniper', 3077: 'lone', 3078: 'perón', 3079: 'kl5-4796', 3080: 'depending', 3081: 'placed', 3082: 'ze-ro', 3083: 'twenty-six', 3084: 'donut', 3085: 'comeback', 3086: 'stickers', 3087: 'togetherness', 3088: 'jubilation', 3089: \"'your\", 3090: 'chic', 3091: 'agent_miller', 3092: 'breaks', 3093: 'tummies', 3094: 'smiles', 3095: 'squishee', 3096: 'mike_mills', 3097: 'app', 3098: 'puzzle', 3099: 'heaving', 3100: 'getcha', 3101: 'whup', 3102: 'ideas', 3103: 'sacrifice', 3104: 'liquor', 3105: 'trail', 3106: \"industry's\", 3107: 'waterfront', 3108: 'statue', 3109: 'bleak', 3110: 'afterglow', 3111: 'feat', 3112: 'insulin', 3113: 'plucked', 3114: 'tv-station_announcer', 3115: 'blobbo', 3116: 'west', 3117: 'derek', 3118: 'blokes', 3119: 'mole', 3120: 'buzz', 3121: 'perch', 3122: 'rotten', 3123: 'sheriff', 3124: 'bolting', 3125: 'lighter', 3126: 'reader', 3127: \"games'd\", 3128: 'byrne', 3129: 'mostrar', 3130: 'transmission', 3131: 'menlo', 3132: 'ads', 3133: 'remaining', 3134: 'mice', 3135: 'enlightened', 3136: 'gulps', 3137: 'distract', 3138: 'dennis', 3139: 'manipulation', 3140: 'faceful', 3141: 'afloat', 3142: 'rascals', 3143: 'tapered', 3144: 'shaker', 3145: 'ceremony', 3146: \"sat's\", 3147: 'libraries', 3148: 'officials', 3149: 'committee', 3150: \"'\", 3151: 'pre-game', 3152: 'waste', 3153: 'nordiques', 3154: 'hate-hugs', 3155: 're-al', 3156: 'teriyaki', 3157: 'heroism', 3158: 'common', 3159: 'boxcars', 3160: 'lear', 3161: 'ambrose', 3162: 'reality', 3163: \"when's\", 3164: 'whoever', 3165: 'groan', 3166: \"round's\", 3167: 'gangrene', 3168: 'incriminating', 3169: 'gesture', 3170: 'up-bup-bup', 3171: 'alien', 3172: 'sail', 3173: 'exact', 3174: 'disillusioned', 3175: 'renders', 3176: 'two-thirds-empty', 3177: 'shades', 3178: 'crappy', 3179: 'gags', 3180: 'st', 3181: 'cuz', 3182: 'sangre', 3183: 'spelling', 3184: 'clipped', 3185: \"america's\", 3186: 'buffet', 3187: 'trunk', 3188: 'olive', 3189: 'launch', 3190: 'girl-bart', 3191: 'fell', 3192: \"queen's\", 3193: 'buddha', 3194: 'hockey-fight', 3195: 'jernt', 3196: 'weight', 3197: '35', 3198: 'grammar', 3199: 'halfway', 3200: 'recorded', 3201: 'plums', 3202: 'fonda', 3203: 'sobriety', 3204: 'full-blooded', 3205: 'presidents', 3206: 'ventriloquism', 3207: 'brawled', 3208: 'dreary', 3209: 'undated', 3210: 'hillary', 3211: 'elaborate', 3212: 'lewis', 3213: 'shortcomings', 3214: 'low-blow', 3215: 'plastered', 3216: 'frozen', 3217: 'creature', 3218: 'sudoku', 3219: \"larry's\", 3220: 'federal', 3221: 'meteor', 3222: 'gear-head', 3223: 'moon-bounce', 3224: 'dishonor', 3225: 'bum', 3226: 'intelligent', 3227: 'slogan', 3228: 'pip', 3229: 'supplying', 3230: 'mamma', 3231: 'patron_#1', 3232: 'farthest', 3233: 'single-mindedness', 3234: 'trenchant', 3235: 'falling', 3236: 'heartily', 3237: 'arguing', 3238: 'influence', 3239: 'homeless', 3240: \"england's\", 3241: 'thought_bubble_lenny', 3242: \"dimwit's\", 3243: 'squeals', 3244: 'catty', 3245: 'unusual', 3246: 'lift', 3247: 'kickoff', 3248: 'childless', 3249: 'insurance', 3250: 'kentucky', 3251: 'ribbon', 3252: 'carnival', 3253: 'pledge', 3254: 'meaningless', 3255: 'andrew', 3256: \"aristotle's\", 3257: 'control', 3258: 'bones', 3259: 'safely', 3260: 'mines', 3261: 'recorder', 3262: 'düffenbraus', 3263: 'wraps', 3264: 'lifetime', 3265: 'souped', 3266: 'begin', 3267: 'swatch', 3268: 'clincher', 3269: 'driveability', 3270: 'hosting', 3271: 'grrrreetings', 3272: 'surprising', 3273: 'prettied', 3274: 'wagering', 3275: 'fwooof', 3276: 'hems', 3277: '70', 3278: 'jury', 3279: 'jay_leno', 3280: 'rig', 3281: 'sees/', 3282: 'ford', 3283: 'angrily', 3284: 'cockroaches', 3285: 'support', 3286: 'kool', 3287: 'fishing', 3288: 'snitch', 3289: 'reed', 3290: 'poin-dexterous', 3291: 'sets', 3292: 'terrace', 3293: 'de-scramble', 3294: 'julep', 3295: 'nelson_muntz', 3296: 'scram', 3297: '4x4', 3298: 'tree_hoper', 3299: \"plank's\", 3300: 'tooth', 3301: 'craft', 3302: 'patting', 3303: 'chipper', 3304: 'resigned', 3305: 'twerpy', 3306: 'napkins', 3307: 'quero', 3308: 'cruiser', 3309: 'mill', 3310: 'compete', 3311: 'wells', 3312: 'thirty-thousand', 3313: 'harrowing', 3314: 'singing/pushing', 3315: 'personal', 3316: 'researching', 3317: 'shard', 3318: 'macgregor', 3319: 'clenched', 3320: \"wallet's\", 3321: 'goldarnit', 3322: 'six-barrel', 3323: 'lead', 3324: 'regulations', 3325: 'drunkening', 3326: 'penmanship', 3327: 'bumped', 3328: 'latour', 3329: 'shindig', 3330: 'scrutinizes', 3331: 'pantsless', 3332: \"treatin'\", 3333: 'barstools', 3334: 'nooo', 3335: 'stirrers', 3336: 'amused', 3337: 'lobster', 3338: 'ballclub', 3339: 'hammer', 3340: 'schemes', 3341: 'syndicate', 3342: 'oak', 3343: 'dignity', 3344: 'booze-bags', 3345: 'evergreen', 3346: 'philosophical', 3347: 'bake', 3348: 'priority', 3349: 'dull', 3350: 'fl', 3351: \"clancy's\", 3352: 'depressed', 3353: 'diminish', 3354: 'unavailable', 3355: 'asks', 3356: 'affectations', 3357: 'contemplated', 3358: 's-a-u-r-c-e', 3359: 'judges', 3360: 'impeach', 3361: 'mellow', 3362: 'experience', 3363: 'orifice', 3364: 'scornfully', 3365: 'grateful', 3366: \"tv's\", 3367: 'tracks', 3368: 'breathalyzer', 3369: 'geyser', 3370: 'adrift', 3371: 'lump', 3372: \"tony's\", 3373: 'bluff', 3374: 'stretches', 3375: 'flame', 3376: 'lenford', 3377: 'attraction', 3378: 'disappointing', 3379: 'pilsner-pusher', 3380: 'whatchacallit', 3381: 'ihop', 3382: 'motor', 3383: 'hose', 3384: 'often', 3385: 'winded', 3386: 'players', 3387: 'showed', 3388: 'mmmmm', 3389: 'felony', 3390: 'pus-bucket', 3391: 'zone', 3392: 'hardwood', 3393: 'los', 3394: 'vampire', 3395: 'blade', 3396: 'seductive', 3397: 'dumbest', 3398: 'squeal', 3399: 'urge', 3400: 'arabs', 3401: 'exhibit', 3402: 'peeved', 3403: 'eats', 3404: 'jaegermeister', 3405: 'whaaaa', 3406: 'flash-fry', 3407: 'subscriptions', 3408: 'spews', 3409: 'liser', 3410: 'impending', 3411: 'taste', 3412: 'longest', 3413: 'shred', 3414: 'spilled', 3415: 'horses', 3416: \"school's\", 3417: 'enjoyed', 3418: 'extreme', 3419: 'hustle', 3420: \"'ere\", 3421: 'pepsi', 3422: 'unearth', 3423: 'michael', 3424: 'unfamiliar', 3425: 'misfire', 3426: 'heck', 3427: \"ball's\", 3428: 'ripper', 3429: 'outlive', 3430: 'society_matron', 3431: 'bindle', 3432: 'voodoo', 3433: 'links', 3434: 'installed', 3435: 'forbids', 3436: 'alter', 3437: \"'cept\", 3438: 'data', 3439: 'shreda', 3440: 'furiously', 3441: 'y', 3442: 'glitz', 3443: 'van', 3444: 'gimmicks', 3445: 'guiltily', 3446: 'musses', 3447: 'soot', 3448: \"friend's\", 3449: 'figures', 3450: 'tight', 3451: 'super-tough', 3452: 'daaaaad', 3453: 'invisible', 3454: 'stained-glass', 3455: 'warmth', 3456: 'enter', 3457: 'divine', 3458: 'example', 3459: 'illustrates', 3460: 'celeste', 3461: 'lady_duff', 3462: 'muslim', 3463: 'onion', 3464: 'mulder', 3465: 'ore', 3466: 'refinanced', 3467: 'overflowing', 3468: 'y-you', 3469: 'rude', 3470: 'equivalent', 3471: 'bothered', 3472: 'slop', 3473: \"wearin'\", 3474: 'heliotrope', 3475: 'thirty-five', 3476: 'gossipy', 3477: 'competing', 3478: 'soaking', 3479: 'cadillac', 3480: 'dregs', 3481: 'marjorie', 3482: 'tuborg', 3483: 'lungs', 3484: 'hotel', 3485: 'strangles', 3486: 'rainbows', 3487: 'sweat', 3488: 'buyer', 3489: 'scanning', 3490: 'passports', 3491: 'menace', 3492: 'process', 3493: 'luckily', 3494: 'rupert_murdoch', 3495: 'unexplained', 3496: 'presently', 3497: 'kodos', 3498: 'nervously', 3499: 'unsanitary', 3500: 'stairs', 3501: 'thirty-three', 3502: 'moonlight', 3503: 'figure', 3504: \"soundin'\", 3505: 'office', 3506: 'meanwhile', 3507: 'selection', 3508: 'committing', 3509: 'prayers', 3510: 'attached', 3511: 'wakede', 3512: 'supports', 3513: 'tuna', 3514: 'gallon', 3515: 'she-pu', 3516: 'sending', 3517: 'williams', 3518: 'column', 3519: 'predecessor', 3520: 'fbi_agent', 3521: 'habit', 3522: 'non-american', 3523: 'application', 3524: '1-800-555-hugs', 3525: 'tourist', 3526: 'anti-intellectualism', 3527: 'nature', 3528: 'beans', 3529: 'legend', 3530: 'donuts', 3531: 'insecure', 3532: 'nash', 3533: 'scores', 3534: 'badmouths', 3535: 'sniffing', 3536: 'offense', 3537: 'peaked', 3538: 'shhh', 3539: 'loafers', 3540: 'yourse', 3541: 'chinese_restaurateur', 3542: 'connor-politan', 3543: 'huhza', 3544: 'appeals', 3545: 'hiring', 3546: 'slays', 3547: 'moonnnnnnnn', 3548: 'adjust', 3549: 'confession', 3550: 'loboto-moth', 3551: '15', 3552: 'suspiciously', 3553: 'faces', 3554: 'tones', 3555: 'botanical', 3556: 'tow-joes', 3557: 'symphonies', 3558: 'moe-near-now', 3559: 'pretend', 3560: 'poorer', 3561: 'twelve-step', 3562: 'firing', 3563: 'possessions', 3564: 'whispered', 3565: 'noooooooooo', 3566: 'theory', 3567: 'groans', 3568: 'gotcha', 3569: 'delicately', 3570: 'sticking-place', 3571: 'shush', 3572: 'mt', 3573: 'banquet', 3574: 'wore', 3575: 'diapers', 3576: 'pages', 3577: 'waitress', 3578: 'revenge', 3579: 'ura', 3580: \"phone's\", 3581: 'tenuous', 3582: 'verticality', 3583: 'haiti', 3584: 'guttural', 3585: 'watered', 3586: 'extended', 3587: 'occurrence', 3588: 'spacey', 3589: 'straighten', 3590: \"hawkin'\", 3591: 'clubs', 3592: 'beyond', 3593: 'sitcom', 3594: 'steaming', 3595: 'aggie', 3596: 'pickles', 3597: 'advertising', 3598: 'beaumont', 3599: 'tribute', 3600: 'gore', 3601: 'hostile', 3602: 'grinch', 3603: 'fiction', 3604: 'guts', 3605: 'boozebag', 3606: 'feminist', 3607: 'helps', 3608: 'disgracefully', 3609: 'cock', 3610: 'wears', 3611: 'crotch', 3612: 'rug', 3613: 'bupkus', 3614: 'rump', 3615: 'winning', 3616: 'barbara', 3617: \"dog's\", 3618: \"bettin'\", 3619: 'drapes', 3620: 'muffled', 3621: \"messin'\", 3622: 'furry', 3623: 'th-th-th-the', 3624: 'jacks', 3625: 'brain-switching', 3626: 'malted', 3627: 'squabbled', 3628: 'getup', 3629: 'eye-gouger', 3630: 'intention', 3631: 'phasing', 3632: 'naively', 3633: 'trade', 3634: 'creepy', 3635: 'hounds', 3636: 'flat', 3637: 'displeased', 3638: 'winner', 3639: 'endorsement', 3640: 'factor', 3641: 'dreamy', 3642: 'inquiries', 3643: 'expose', 3644: 'schabadoo', 3645: 'brotherhood', 3646: 'statistician', 3647: 'tanking', 3648: 'ref', 3649: 'smokes', 3650: \"tree's\", 3651: 'awfully', 3652: 'knuckle-dragging', 3653: 'flush', 3654: 'gimmick', 3655: 'full-time', 3656: 'tomato', 3657: 'incredible', 3658: 'meatpies', 3659: 'poetry', 3660: 'tabs', 3661: 'meaningfully', 3662: 'elect', 3663: 'milhouses', 3664: 'crowned', 3665: 'rip-off', 3666: \"drexel's\", 3667: 'authenticity', 3668: 'pronto', 3669: 'blamed', 3670: 'overstressed', 3671: 'drives', 3672: 'jimmy', 3673: 'buds', 3674: 'militia', 3675: \"summer's\", 3676: 'choose', 3677: 'noggin', 3678: 'düff', 3679: 'unlocked', 3680: 'fund', 3681: 'lifts', 3682: 'ruuuule', 3683: 'sucking', 3684: 'declare', 3685: 'bachelorhood', 3686: 'sky', 3687: 'hexa-', 3688: 'looser', 3689: 'moesy', 3690: 'faint', 3691: 'runs', 3692: 'handling', 3693: 'renovations', 3694: 'reserved', 3695: 'cuckoo', 3696: 'outs', 3697: 'dexterous', 3698: 'producers', 3699: \"stealin'\", 3700: 'mathis', 3701: 'practice', 3702: 'traitor', 3703: 'cliff', 3704: 'well-wisher', 3705: 'die-hard', 3706: 'kitchen', 3707: 'happens', 3708: 'chorus', 3709: 'raking', 3710: 'mini-dumpsters', 3711: 'nfl_narrator', 3712: 'briefly', 3713: 'ashtray', 3714: 'ling', 3715: 'attach', 3716: 'wiggle', 3717: 'sleigh-horses', 3718: 'donut-shaped', 3719: 'ninth', 3720: 'applesauce', 3721: 'dice', 3722: 'awake', 3723: 'unintelligent', 3724: 'rip', 3725: 'dictator', 3726: 'hearts', 3727: 'irishman', 3728: 'liable', 3729: 'layer', 3730: \"cheerin'\", 3731: 'korea', 3732: 'pulitzer', 3733: 'landfill', 3734: 'urban', 3735: 'brusque', 3736: 'mystery', 3737: 'life-extension', 3738: 'stagehand', 3739: 'hero-phobia', 3740: 'toxins', 3741: \"eatin'\", 3742: 'bumblebee_man', 3743: 'swell', 3744: 'housing', 3745: 'lay', 3746: \"sippin'\", 3747: 'chuckling', 3748: 'wantcha', 3749: 'seminar', 3750: 'sensible', 3751: 'fatso', 3752: 'colonel', 3753: 'crony', 3754: 'asleep', 3755: 'infestation', 3756: 'encouraging', 3757: 'spreads', 3758: 'starlets', 3759: 'grace', 3760: 'wholeheartedly', 3761: 'email', 3762: 'world-class', 3763: 'highest', 3764: 'effervescence', 3765: 'polenta', 3766: 'wiping', 3767: 'expired', 3768: 'muscles', 3769: 'permanent', 3770: 'boned', 3771: 'jukebox_record', 3772: 'sap', 3773: 'zeal', 3774: 'classy', 3775: 'landlord', 3776: \"duff's\", 3777: 'regretful', 3778: 'diddilies', 3779: 'half-back', 3780: 'fresco', 3781: 'bulked', 3782: 'rutabaga', 3783: 'cheryl', 3784: 'railroads', 3785: 'acquitted', 3786: \"'round\", 3787: 'normals', 3788: 'maitre', 3789: 'celebration', 3790: 'earrings', 3791: 'overturned', 3792: 'model', 3793: 'aunt', 3794: 'witches', 3795: 'repeated', 3796: 'hoped', 3797: 'el', 3798: 'roller', 3799: 'culkin', 3800: 'heather', 3801: 'pussycat', 3802: 'community', 3803: 'bell', 3804: 'temp', 3805: 'stiffening', 3806: 'goal', 3807: 'dejected_barfly', 3808: 'gasoline', 3809: 'portuguese', 3810: 'venture', 3811: 'sanctuary', 3812: 'badly', 3813: 'kirk_voice_milhouse', 3814: 'voters', 3815: 'today/', 3816: 'shelf', 3817: 'replace', 3818: 'flea', 3819: 'fleabag', 3820: 'typed', 3821: \"costume's\", 3822: 'tearfully', 3823: 'blinded', 3824: 'gruesome', 3825: 'abolish', 3826: 'hollowed-out', 3827: 'virility', 3828: 'quick-like', 3829: 'log', 3830: 'safety', 3831: 'inning', 3832: 'lance', 3833: 'brine', 3834: 'according', 3835: 'crow', 3836: \"elmo's\", 3837: 'samples', 3838: 'ron', 3839: 'taylor', 3840: 'certificate', 3841: 'funniest', 3842: 'bursts', 3843: 'adopted', 3844: 'fainted', 3845: 'brainiac', 3846: 'refill', 3847: \"battin'\", 3848: 'mustard', 3849: 'beatings', 3850: 'ew', 3851: 'shareholder', 3852: 'newest', 3853: 'looting', 3854: 'ohhhh', 3855: 'easily', 3856: 'rolls', 3857: 'prices', 3858: 'pepper', 3859: 'je', 3860: 'nucular', 3861: 'lincoln', 3862: 'talkers', 3863: 'luv', 3864: 'conclude', 3865: 'progress', 3866: 'gumbo', 3867: 'clench', 3868: 'slot', 3869: 'wind', 3870: 'nevada', 3871: 'random', 3872: 'kirk', 3873: 'faulkner', 3874: '8', 3875: 'theatah', 3876: 'cushions', 3877: 'yelp', 3878: 'macbeth', 3879: 'burger', 3880: 'amends', 3881: 'nasty', 3882: 'moolah-stealing', 3883: 'conditioners', 3884: 'squeeze', 3885: 'quebec', 3886: 'forecast', 3887: 'slobs', 3888: 'doll-baby', 3889: 'spitting', 3890: 'bliss', 3891: 'cushion', 3892: 'novel', 3893: 'united', 3894: 'clown-like', 3895: 'walther', 3896: 'semi-imported', 3897: 'low-life', 3898: 'widow', 3899: 'pretentious_rat_lover', 3900: 'gol-dangit', 3901: 'madison', 3902: 'hardhat', 3903: 'champignons', 3904: 'neighbors', 3905: 'rafters', 3906: 'turlet', 3907: 'cooking', 3908: 'kinds', 3909: 'limericks', 3910: 'floating', 3911: 'shorter', 3912: \"poisonin'\", 3913: 'joy', 3914: 'cheering', 3915: 'urine', 3916: 'dinks', 3917: 'brunch', 3918: 'gestated', 3919: 'seamstress', 3920: 'malfeasance', 3921: 'damage', 3922: 'paintings', 3923: 'feld', 3924: 'sympathizer', 3925: \"toot's\", 3926: 'trainers', 3927: 'steinbrenner', 3928: 'dizer', 3929: \"mother's\", 3930: 'excuses', 3931: \"liftin'\", 3932: 'delts', 3933: 'small_boy', 3934: 'cocks', 3935: 'hare-brained', 3936: 'emporium', 3937: 'pointedly', 3938: 'dealer', 3939: 'cheerleaders', 3940: 'chin', 3941: 'skins', 3942: 'compressions', 3943: 'completely', 3944: 'average', 3945: 'alls', 3946: 'leftover', 3947: 'further', 3948: \"d'ya\", 3949: \"renovatin'\", 3950: \"s'cuse\", 3951: 'mommy', 3952: 'disdainful', 3953: 'elite', 3954: 'mozzarella', 3955: 'liability', 3956: 'twenty-nine', 3957: 'delightfully', 3958: 'macaulay', 3959: \"tomorrow's\", 3960: 'smuggled', 3961: \"tonight's\", 3962: 'massachusetts', 3963: 'head-gunk', 3964: 'cartoons', 3965: 'arm-pittish', 3966: 'rookie', 3967: 'anyhow', 3968: 'marvelous', 3969: 'shifty', 3970: 'depressant', 3971: 'convenient', 3972: 'painted', 3973: 'raging', 3974: 'bowled', 3975: 'ahhhh', 3976: 'jobless', 3977: 'winch', 3978: 'a-lug', 3979: 'killjoy', 3980: 'pretzels', 3981: 'heals', 3982: 'stops', 3983: 'fast-paced', 3984: 'bartholomé', 3985: 'hike', 3986: \"wait'll\", 3987: 'b-day', 3988: 'mags', 3989: 'jumping', 3990: 'unfresh', 3991: \"man's\", 3992: 'muertos', 3993: \"kid's\", 3994: 'jägermeister', 3995: 'mis-statement', 3996: 'chug-a-lug', 3997: 'contractors', 3998: 'whatsit', 3999: 'hoax', 4000: 'commanding', 4001: 'parasol', 4002: 'planted', 4003: 'clammy', 4004: 'sue', 4005: 'tender', 4006: 'what-for', 4007: 'cozies', 4008: 'exultant', 4009: 'detective', 4010: 'microphone', 4011: 'drawn', 4012: 'whaaa', 4013: 'pair', 4014: 'carmichael', 4015: 'bull', 4016: 'dae', 4017: 'leathery', 4018: 'recap', 4019: 'faded', 4020: 'disco_stu', 4021: 'premiering', 4022: 'homer_doubles', 4023: 'warren', 4024: 'perfected', 4025: 'poured', 4026: 'leno', 4027: 'estranged', 4028: 'stupidly', 4029: 'bobo', 4030: 'tomahto', 4031: 'dark', 4032: 'mason', 4033: 'ron_howard', 4034: 'saga', 4035: 'mind-numbing', 4036: 'southern', 4037: \"'evening\", 4038: 'savings', 4039: 'crushed', 4040: 'steely-eyed', 4041: 'unhappy', 4042: 'pro', 4043: 'circus', 4044: 'cocking', 4045: 'barkeeps', 4046: 'caholic', 4047: 'politicians', 4048: 'bullet-proof', 4049: 'padres', 4050: 'doof', 4051: 'rented', 4052: 'pinball', 4053: \"mtv's\", 4054: 'causes', 4055: 'hmf', 4056: 'h', 4057: 'reaches', 4058: 'commit', 4059: 'tapping', 4060: 'gregor', 4061: 'recipe', 4062: 'theatrical', 4063: \"should've\", 4064: 'mansions', 4065: 'disguised', 4066: 'attend', 4067: 'jeff_gordon', 4068: 'surprised/thrilled', 4069: 'little_hibbert_girl', 4070: 'ho-ly', 4071: 'expense', 4072: 'tremendous', 4073: 'three-man', 4074: 'savvy', 4075: 'befriend', 4076: 'sledge-hammer', 4077: 'terror', 4078: \"can't-believe-how-bald-he-is\", 4079: 'presentable', 4080: 'batmobile', 4081: 'technical', 4082: 'braun', 4083: 'k-zug', 4084: 'mistresses', 4085: 'poplar', 4086: 'freaky', 4087: 'plants', 4088: 'damned', 4089: \"cupid's\", 4090: 'wad', 4091: 'platinum', 4092: 'wipes', 4093: 'sickened', 4094: 'depression', 4095: 'proper', 4096: 'pudgy', 4097: 'proves', 4098: 'tee', 4099: 'man_with_crazy_beard', 4100: 'pre-recorded', 4101: 'anderson', 4102: 'kills', 4103: 'businessman_#2', 4104: 'bunion', 4105: 'strains', 4106: \"high-falutin'\", 4107: 'month', 4108: 'scratching', 4109: 'guff', 4110: 'genuinely', 4111: 'u2', 4112: 'dealt', 4113: 'hidden', 4114: 'ends', 4115: 'trivia', 4116: 'psst', 4117: 'stingy', 4118: 'eggshell', 4119: 'appropriate', 4120: 'shill', 4121: 'warranty', 4122: 'swigmore', 4123: 'convinced', 4124: 'wildfever', 4125: 'a-b-', 4126: \"cashin'\", 4127: 'breathless', 4128: 'boisterous', 4129: 'button-pusher', 4130: 'distance', 4131: 'composite', 4132: 'rush', 4133: 'trashed', 4134: 'touches', 4135: 'healthier', 4136: 'africanized', 4137: 'wrapped', 4138: 'increased', 4139: 'fondest', 4140: 'ticks', 4141: 'hillbillies', 4142: 'avec', 4143: 'buddies', 4144: 'britannia', 4145: 'slipped', 4146: 'complicated', 4147: 'carefully', 4148: 'thunder', 4149: 'leprechaun', 4150: 'obese', 4151: 'uninhibited', 4152: 'signal', 4153: 'score', 4154: 'tactful', 4155: 'augustus', 4156: 'louse', 4157: 'stu', 4158: 'motto', 4159: 'brag', 4160: 'grumbling', 4161: 'pretends', 4162: 'broncos', 4163: 'bloodball', 4164: 'fills', 4165: 'fence', 4166: 'yello', 4167: 'villanova', 4168: 'ruled', 4169: 'laughter', 4170: 'stalin', 4171: 'femininity', 4172: 'trustworthy', 4173: 'panties', 4174: 'rhode', 4175: 'female_inspector', 4176: 'kisser', 4177: 'thanking', 4178: 'sideshow_mel', 4179: 'pursue', 4180: 'asses', 4181: 'civil', 4182: 'graveyard', 4183: 'acceptance', 4184: 'bubbles-in-my-nose-y', 4185: 'begging', 4186: 'treats', 4187: 'spits', 4188: 'string', 4189: 'assume', 4190: 'firm', 4191: 'killarney', 4192: 'disturbing', 4193: \"that'd\", 4194: \"calf's\", 4195: 'elocution', 4196: 'hispanic_crowd', 4197: 'rub-a-dub', 4198: 'wieners', 4199: 'lanes', 4200: 'index', 4201: 'repeating', 4202: 'punishment', 4203: 'whatchamacallit', 4204: 'wheeeee', 4205: 'composer', 4206: 'ape-like', 4207: 'blind', 4208: 'maintenance', 4209: 'ronstadt', 4210: \"g'ahead\", 4211: 'heh-heh', 4212: 'regretted', 4213: 'enveloped', 4214: 'riveting', 4215: 'pregnancy', 4216: 'liven', 4217: 'chair', 4218: 'howya', 4219: 'reckless', 4220: 'mexican_duffman', 4221: 'winces', 4222: 'coincidentally', 4223: 'winks', 4224: 'insults', 4225: 'wittgenstein', 4226: 'good-looking', 4227: 'laney', 4228: 'punkin', 4229: 'fayed', 4230: 'pre-columbian', 4231: '7g', 4232: 'however', 4233: 'astrid', 4234: 'stripe', 4235: 'alma', 4236: 'rector', 4237: 'spectacular', 4238: 'stalking', 4239: 'slick', 4240: 'wednesday', 4241: 'manboobs', 4242: 'abusive', 4243: 'courteous', 4244: 'marshmallow', 4245: 'counter', 4246: 'fail', 4247: 'network', 4248: 'owns', 4249: '3rd_voice', 4250: 'jacksons', 4251: 'sickens', 4252: 'pine', 4253: 'swig', 4254: 'dingy', 4255: 'smiled', 4256: 'pictured', 4257: 'shriners', 4258: 'part-time', 4259: 'massive', 4260: 'cell-ee', 4261: 'polish', 4262: \"edna's\", 4263: 'len-ny', 4264: 'entertainer', 4265: 'ne', 4266: 'gees', 4267: 'lobster-based', 4268: 'icelandic', 4269: 'looooooooooooooooooong', 4270: 'john', 4271: 'mitts', 4272: 'kearney_zzyzwicz', 4273: 'blimp', 4274: 'bleacher', 4275: 'son-of-a', 4276: 'appreciated', 4277: 'gr-aargh', 4278: 'occurs', 4279: \"spiffin'\", 4280: 'badmouth', 4281: 'followed', 4282: 'j', 4283: 'eva', 4284: 'domed', 4285: \"time's\", 4286: 'haircuts', 4287: 'connor', 4288: 'knowledge', 4289: 'pennies', 4290: 'manatee', 4291: \"mecca's\", 4292: 'microwave', 4293: \"yesterday's\", 4294: 'beast', 4295: 'protecting', 4296: 'elizabeth', 4297: 'buttocks', 4298: 'lease', 4299: 'uniforms', 4300: 'oh-so-sophisticated', 4301: 'splash', 4302: 'griffith', 4303: 'noble', 4304: 'sticking', 4305: 'suffering', 4306: 'chateau', 4307: 'dashes', 4308: 'uglier', 4309: \"something's\", 4310: 'pas', 4311: 'i/you', 4312: 'housewife', 4313: 'loyal', 4314: 'lipo', 4315: \"man's_voice\", 4316: 'rebuilt', 4317: 'scrubbing', 4318: \"bashir's\", 4319: 'jewish', 4320: 'ear', 4321: 'reentering', 4322: 'view', 4323: 'terminated', 4324: 'bushes', 4325: 'issues', 4326: 'humanity', 4327: 'aghast', 4328: 'sealed', 4329: \"spaghetti-o's\", 4330: 'curse', 4331: 'newsletter', 4332: 'pugilist', 4333: 'rods', 4334: 'hers', 4335: 'xanders', 4336: 'aid', 4337: 'issuing', 4338: 'pajamas', 4339: 'curiosity', 4340: 'affection', 4341: 'ireland', 4342: 'fortune', 4343: 'wife-swapping', 4344: 'windelle', 4345: 'sharing', 4346: 'flourish', 4347: 'kenny', 4348: 'feisty', 4349: 'design', 4350: 'manfred', 4351: 'bloodiest', 4352: 'citizens', 4353: 'smelling', 4354: 'anti-lock', 4355: 'splattered', 4356: 'male_singers', 4357: 'radioactive', 4358: 'bonfire', 4359: 'sued', 4360: \"collector's\", 4361: 'stonewall', 4362: 'shutup', 4363: 'fatty', 4364: 'graves', 4365: 'squirrel', 4366: 'total', 4367: 'crisis', 4368: 'forty-nine', 4369: 'beer-dorf', 4370: 'dea-d-d-dead', 4371: 'youngsters', 4372: 'blackjack', 4373: 'drove', 4374: 'payday', 4375: 'presided', 4376: 'softer', 4377: 'bedridden', 4378: 'compare', 4379: 'martini', 4380: 'updated', 4381: 'worthless', 4382: 'medieval', 4383: 'th', 4384: 'shoulders', 4385: 'sternly', 4386: 'rainier', 4387: 'frightened', 4388: 'desire', 4389: 'cobbling', 4390: 'chapel', 4391: 'allowance', 4392: 'capuchin', 4393: 'stolen', 4394: 'poetics', 4395: 'grandkids', 4396: 'bon-bons', 4397: 'multi-purpose', 4398: 'states', 4399: 'faith', 4400: 'butter', 4401: 'cleaning', 4402: 'fired', 4403: 'darn', 4404: 'handler', 4405: \"brady's\", 4406: 'upn', 4407: 'labor', 4408: 'engraved', 4409: 'ummmmmmmmm', 4410: \"betsy'll\", 4411: 'trucks', 4412: 'hawaii', 4413: 'takeaway', 4414: 'chapter', 4415: 'lame', 4416: 'fink', 4417: 'hootie', 4418: 'dumpster', 4419: 'birthplace', 4420: 'spamming', 4421: 'meaning', 4422: 'majesty', 4423: 'sketching', 4424: 'nail', 4425: 'forget-me-drinks', 4426: 'dramatically', 4427: 'taught', 4428: 'fletcherism', 4429: 'cronies', 4430: 'disaster', 4431: 'vanities', 4432: \"handwriting's\", 4433: 'intriguing', 4434: 'talkative', 4435: 'burglary', 4436: 'resenting', 4437: 'lovelorn', 4438: 'phrase', 4439: 'dejected', 4440: 'remembers', 4441: 'lifters', 4442: 'releasing', 4443: 'add', 4444: \"grandmother's\", 4445: 'blissful', 4446: 'minors', 4447: 'pointy', 4448: 'transfer', 4449: 'reconsidering', 4450: 'sickly', 4451: 'daniel', 4452: 'rubs', 4453: 'glorious', 4454: 'intakes', 4455: 'italian', 4456: 'elves', 4457: 'gheet', 4458: 'charges', 4459: 'strawberry', 4460: 'gayer', 4461: 'pillows', 4462: 'diaper', 4463: 'lawyer', 4464: 'material', 4465: 'beverage', 4466: 'pack', 4467: 'and/or', 4468: 'glee', 4469: 'noose', 4470: 'scientific', 4471: 'misconstrue', 4472: 'fears', 4473: 'environment', 4474: 'whoo', 4475: 'cab_driver', 4476: 'specific', 4477: 'noosey', 4478: 'finale', 4479: 'undermine', 4480: 'piling', 4481: 'sucks', 4482: 'customers-slash-only', 4483: 'brown', 4484: 'bouquet', 4485: 'einstein', 4486: \"blowin'\", 4487: 'womb', 4488: 'gloop', 4489: 'tha', 4490: 'jasper_beardly', 4491: 'hostages', 4492: 'macho', 4493: 'tonic', 4494: 'dyspeptic', 4495: 'site', 4496: 'chained', 4497: 'capitol', 4498: 'stagey', 4499: 'shells', 4500: 'heavens', 4501: 'radiator', 4502: 'remodel', 4503: 'high-definition', 4504: 'smoker', 4505: 'retain', 4506: 'nachos', 4507: 'knit', 4508: 'exhale', 4509: 'load', 4510: \"g'night\", 4511: \"fans'll\", 4512: \"show's\", 4513: 'nonchalantly', 4514: 'cocoa', 4515: 'eighty-five', 4516: 'storms', 4517: 'sixty', 4518: 'rockers', 4519: 'sorts', 4520: 'peppers', 4521: 'edgy', 4522: 'sacrilicious', 4523: 'newly-published', 4524: 'cockroach', 4525: 'leak', 4526: 'usual', 4527: 'cletus_spuckler', 4528: 'pyramid', 4529: 'thrust', 4530: 'shuts', 4531: 'mugs', 4532: 'mindless', 4533: \"idea's\", 4534: \"yieldin'\", 4535: 'edna-lover-one-seventy-two', 4536: 'flayvin', 4537: 'suburban', 4538: 'canyoner-oooo', 4539: 'raining', 4540: \"playin'\", 4541: 'cheerier', 4542: 'churchy', 4543: 'nemo', 4544: 'listens', 4545: 'jogging', 4546: 'grudgingly', 4547: 'here-here-here', 4548: 'tobacky', 4549: \"santa's\", 4550: 'foodie', 4551: 'freaking', 4552: 'author', 4553: 'rims', 4554: 'officer', 4555: 'rocks', 4556: 'swe-ee-ee-ee-eet', 4557: 'philosophic', 4558: 'creates', 4559: 'disguise', 4560: 'including', 4561: 'dime', 4562: 'harvesting', 4563: 'swimming', 4564: 'halvsies', 4565: 'statesmanlike', 4566: \"aren'tcha\", 4567: 'ratio', 4568: 'aerospace', 4569: 'inserted', 4570: 'fireworks', 4571: 'deals', 4572: 'safecracker', 4573: 'valley', 4574: 'appearance-altering', 4575: \"fishin'\", 4576: 'rancid', 4577: \"shootin'\", 4578: 'espn', 4579: 'powered', 4580: 'partially', 4581: 'germans', 4582: 'destroyed', 4583: 'finance', 4584: 'polygon', 4585: 'amiable', 4586: 'verdict', 4587: 'disappear', 4588: 'guard', 4589: 'sidekick', 4590: 'cuff', 4591: 'herself', 4592: 'all-american', 4593: 'scruffy_blogger', 4594: 'sloe', 4595: 'lovers', 4596: \"cont'd\", 4597: 'mariah', 4598: 'brace', 4599: \"hobo's\", 4600: 'beligerent', 4601: 'typing', 4602: '2nd_voice_on_transmitter', 4603: 'bleeding', 4604: 'interrupting', 4605: 'lied', 4606: 'canoodling', 4607: 'binoculars', 4608: 'unhook', 4609: 'drinker', 4610: 'steampunk', 4611: 'bill_james', 4612: 'concentrate', 4613: 'heave-ho', 4614: 'pronounce', 4615: 'lessee', 4616: \"mcstagger's\", 4617: 'simple', 4618: 'donation', 4619: 'murderously', 4620: 'intoxicated', 4621: 'picked', 4622: 'rife', 4623: 'hundreds', 4624: 'dreamily', 4625: 'separator', 4626: 'propose', 4627: 'lee', 4628: 'hears', 4629: 'sumatran', 4630: 'clandestine', 4631: 'lady-free', 4632: 'credit', 4633: 'night-crawlers', 4634: 'portfolium', 4635: 'visas', 4636: 'oww', 4637: 'spouses', 4638: 'stage', 4639: 'meyerhof', 4640: 'transylvania', 4641: 'spellbinding', 4642: 'dozen', 4643: 'north', 4644: 'logos', 4645: 'swan', 4646: 'devils', 4647: 'harvey', 4648: 'indifferent', 4649: 'releases', 4650: 'reminded', 4651: 'upgrade', 4652: 'ingrates', 4653: 'grub', 4654: 'wacky', 4655: 'julienne', 4656: 'cheated', 4657: 'vulgar', 4658: \"foolin'\", 4659: 'nitwit', 4660: 'edner', 4661: 'suspended', 4662: 'terrifying', 4663: 'disturbance', 4664: \"c'mom\", 4665: 'nonchalant', 4666: 'unbelievably', 4667: 'dana_scully', 4668: 'cure', 4669: 'photographer', 4670: 'venom', 4671: 'arrange', 4672: 'species', 4673: \"president's\", 4674: 'knives', 4675: 'published', 4676: \"somethin's\", 4677: 'forty-seven', 4678: 'taunting', 4679: 'diets', 4680: 'nbc', 4681: 'unkempt', 4682: 'wizard', 4683: 'nightmare', 4684: 'punching', 4685: 'intruding', 4686: 'appalled', 4687: 'smitty', 4688: 'aggravazes', 4689: 'dumbbell', 4690: 'dna', 4691: 'pepto-bismol', 4692: 'solves', 4693: 'stored', 4694: 'salary', 4695: 'william', 4696: 'poisoning', 4697: 'tow-talitarian', 4698: 'playhouse', 4699: 'reaction', 4700: 'beanbag', 4701: 'cross-country', 4702: 'homeland', 4703: '$42', 4704: 'corkscrews', 4705: 'frogs', 4706: 'nursemaid', 4707: 'jewelry', 4708: 'fry', 4709: 'art', 4710: 'synthesize', 4711: 'volunteer', 4712: 'in-ground', 4713: 'skinny', 4714: 'refreshingness', 4715: 'associate', 4716: 'faiths', 4717: 'incapable', 4718: 'obsessive-compulsive', 4719: 'horrors', 4720: 'lime', 4721: 'profiling', 4722: 'package', 4723: 'coin', 4724: 'catch-phrase', 4725: 'waters', 4726: 'bridges', 4727: 'hygienically', 4728: 'chub', 4729: 'snotty', 4730: 'janette', 4731: 'expensive', 4732: \"s'pose\", 4733: 'examines', 4734: \"thinkin'\", 4735: 'comforting', 4736: 'de', 4737: \"people's\", 4738: 'ferry', 4739: 'fica', 4740: 'old-time', 4741: 'envy-tations', 4742: 'modest', 4743: \"she'd\", 4744: 'eight-year-old', 4745: 'edge', 4746: 'zoomed', 4747: 'flack', 4748: 'fiiiiile', 4749: 'be-stainèd', 4750: 'tsking', 4751: 'wrestle', 4752: 'mid-seventies', 4753: 'planned', 4754: 'microbrew', 4755: 'luckiest', 4756: 'ripping', 4757: 'xx', 4758: 'eighty-six', 4759: 'wobble', 4760: 'unattended', 4761: 'caricature', 4762: 'spine', 4763: 'wistful', 4764: 'notch', 4765: 'ratted', 4766: 'george', 4767: 'computer_voice_2', 4768: 'swamp', 4769: 'kick-ass', 4770: 'my-y-y-y-y-y', 4771: 'mull', 4772: 'sponsoring', 4773: 'grope', 4774: 'rivalry', 4775: 'employees', 4776: 'bagged', 4777: 'agency', 4778: 'bedtime', 4779: 'sloppy', 4780: 'parenting', 4781: 'drollery', 4782: 'allow', 4783: 'juan', 4784: \"tinklin'\", 4785: 'wage', 4786: 'pushing', 4787: 'ointment', 4788: 'pews', 4789: 'wondered', 4790: 'politician', 4791: 'moving', 4792: 'coyly', 4793: 'colossal', 4794: 'series', 4795: 'michael_stipe', 4796: '-ry', 4797: \"life's\", 4798: 'doctor', 4799: 'annus', 4800: 'paper', 4801: 'jams', 4802: 'underwear', 4803: \"fightin'\", 4804: 'county', 4805: 'alec_baldwin', 4806: 'woulda', 4807: 'irrelevant', 4808: 'attractive_woman_#1', 4809: \"can'tcha\", 4810: 'honeys', 4811: 'sistine', 4812: 'toms', 4813: 'emotion', 4814: 'hanh', 4815: 'press', 4816: 'dilemma', 4817: 'ignorant', 4818: 'remorseful', 4819: 'flexible', 4820: 'sang', 4821: 'cleveland', 4822: 'frescas', 4823: 'hottest', 4824: 'traitors', 4825: 'appendectomy', 4826: 'iddilies', 4827: 'alpha-crow', 4828: 'cavern', 4829: 'fdic', 4830: 'cummerbund', 4831: 'hammy', 4832: 'wheels', 4833: 'relaxed', 4834: 'blessing', 4835: \"plaster's\", 4836: 'albert', 4837: 'adjourned', 4838: 'injury', 4839: 'delicate', 4840: 'erasers', 4841: 'contemplates', 4842: 'fledgling', 4843: 'languages', 4844: 'insured', 4845: 'bounced', 4846: 'tablecloth', 4847: 'jig', 4848: 'marquee', 4849: 'combination', 4850: \"starla's\", 4851: 'youuu', 4852: 'enforced', 4853: \"coaster's\", 4854: 'ungrateful', 4855: 'term', 4856: 'eighty-three', 4857: 'whim', 4858: 'ingested', 4859: 'frenchman', 4860: 'capitalists', 4861: 'flophouse', 4862: 'windowshade', 4863: 'wigs', 4864: 'wrecking', 4865: 'boozer', 4866: 'barter', 4867: 'maiden', 4868: 'onto', 4869: 'sturdy', 4870: 'maxed', 4871: 'chairman', 4872: 'ails', 4873: 'considers', 4874: \"leavin'\", 4875: 'half-day', 4876: 'tornado', 4877: 'indeed', 4878: 'country', 4879: 'forgotten', 4880: 'amnesia', 4881: 'stars', 4882: 'dumbass', 4883: 'courts', 4884: 'jane', 4885: \"lefty's\", 4886: 'brother-in-law', 4887: 'supervising', 4888: 'frat', 4889: 'amber', 4890: 'aisle', 4891: 'exploiter', 4892: 'omit', 4893: 'prompting', 4894: 'fluoroscope', 4895: 'blurbs', 4896: 'hooters', 4897: 'hotenhoffer', 4898: 'thoughtless', 4899: 'sixty-five', 4900: 'sneering', 4901: 'pernt', 4902: 'mccall', 4903: 'bachelorette', 4904: 'reunion', 4905: 'kadlubowski', 4906: 'proposition', 4907: 'terrorizing', 4908: 'and-and', 4909: \"getting'\", 4910: 'doy', 4911: '10', 4912: 'wasted', 4913: 'upsetting', 4914: 'evils', 4915: '21', 4916: 'pancakes', 4917: 'chuck', 4918: 'mimes', 4919: 'belly-aching', 4920: \"depressin'\", 4921: 'hooray', 4922: 'ninety-seven', 4923: 'fad', 4924: 'strokkur', 4925: 'hampstead-on-cecil-cecil', 4926: 'society', 4927: 'four-drink', 4928: 'enabling', 4929: 'wolverines', 4930: 'abcs', 4931: 'sizes', 4932: 'swimmers', 4933: 'innocuous', 4934: 'derisive', 4935: \"poundin'\", 4936: 'shopping', 4937: 'kneeling', 4938: 'necklace', 4939: 'moustache', 4940: 'moon', 4941: 'mac-who', 4942: 'leonard', 4943: \"fun's\", 4944: 'goodwill', 4945: 'behavior', 4946: 'clips', 4947: 'go-near-', 4948: 'clapping', 4949: 'administration', 4950: \"pullin'\", 4951: \"bladder's\", 4952: 'bites', 4953: \"tv'll\", 4954: 'thrown', 4955: 'chew', 4956: 'crapmore', 4957: 'snout', 4958: 'magnanimous', 4959: 'consoling', 4960: 'scoffs', 4961: 'exclusive', 4962: 'horns', 4963: 'disposal', 4964: 'wuss', 4965: 'grandé', 4966: 'ballot', 4967: 'tiger', 4968: 'jer', 4969: 'bookie', 4970: 'gluten', 4971: 'sweetie', 4972: 'presidential', 4973: 'occurred', 4974: 'bachelor', 4975: 'fury', 4976: 'tease', 4977: 'artist', 4978: 'cyrano', 4979: 'sampler', 4980: 'lorre', 4981: 'swishkabobs', 4982: 'occupied', 4983: 'betrayed', 4984: 'spender', 4985: 'cooker', 4986: 'norway', 4987: 'bathed', 4988: 'duffed', 4989: 'oils', 4990: 'lowest', 4991: \"family's\", 4992: 'showered', 4993: 'waist', 4994: 'methinks', 4995: 'caper', 4996: 'rent', 4997: 'mickey', 4998: \"homer'll\", 4999: \"disrobin'\", 5000: 'hoagie', 5001: 'listened', 5002: 'pure', 5003: \"rasputin's\", 5004: 'student', 5005: 'dipping', 5006: 'ehhhhhhhhh', 5007: 'everywhere', 5008: 'prep', 5009: 'brick', 5010: 'eco-fraud', 5011: 'sight', 5012: 'troubles', 5013: 'freshened', 5014: 'ees', 5015: 'nagurski', 5016: 'refreshing', 5017: 'schizophrenia', 5018: 'viva', 5019: 'madonna', 5020: 'cesss', 5021: 'simultaneous', 5022: 'mumble', 5023: 'gut', 5024: 'brainheaded', 5025: 'mirror', 5026: 'east', 5027: 'glyco-load', 5028: 'countryman', 5029: 'yellow-belly', 5030: 'victim', 5031: 'alternative', 5032: 'presses', 5033: 'feedbag', 5034: 'rosey', 5035: \"jackpot's\", 5036: 'mither', 5037: 'hellhole', 5038: 'peabody', 5039: 'silence', 5040: 'tied', 5041: 'moxie', 5042: 'metal', 5043: 'odor', 5044: 'throats', 5045: 'march', 5046: \"y'money's\", 5047: 'experienced', 5048: 'kidneys', 5049: 'practically', 5050: 'pushes', 5051: 'gamble', 5052: 'roy', 5053: 'swallowed', 5054: 'grieving', 5055: 'virile', 5056: 'killing', 5057: 'mexicans', 5058: 'outstanding', 5059: 'filth', 5060: 'phony', 5061: 'woooooo', 5062: 'teacup', 5063: 'legoland', 5064: 'hollye', 5065: \"o'reilly\", 5066: 'restless', 5067: 'crunch', 5068: 'highball', 5069: 'miss_lois_pennycandy', 5070: 'snatch', 5071: 'micronesian', 5072: 'ineffective', 5073: 'fringe', 5074: 'eurotrash', 5075: 'slapped', 5076: 'hemorrhage-amundo', 5077: 'municipal', 5078: \"how're\", 5079: 'occasional', 5080: 'stinky', 5081: 'loneliness', 5082: 'position', 5083: 'life-threatening', 5084: 'oddest', 5085: 'beef', 5086: 'heartless', 5087: 'dory', 5088: 'guilt', 5089: 'november', 5090: 'taxi', 5091: 'whispers', 5092: 'wh', 5093: 'various', 5094: 'eve', 5095: 'colorado', 5096: 'majority', 5097: 'slender', 5098: 'wham', 5099: 'diablo', 5100: 'beefs', 5101: 'dum-dum', 5102: 'fools', 5103: 'perverted', 5104: 'guessing', 5105: 'duff_announcer', 5106: 'mild', 5107: 'chip', 5108: 'windshield', 5109: 'beaumarchais', 5110: 'defiantly', 5111: 'cecil_terwilliger', 5112: 'boyhood', 5113: 'snotball', 5114: 'soul-crushing', 5115: 'mabel', 5116: 'quarry', 5117: 'tasty', 5118: 'vigilante', 5119: 'competitive', 5120: 'espousing', 5121: 'limits', 5122: 'pridesters', 5123: 'alibi', 5124: 'wok', 5125: 'hemoglobin', 5126: 'idioms', 5127: 'compels', 5128: 'moe_recording', 5129: 'e', 5130: 'replaced', 5131: 'watashi', 5132: 'settled', 5133: 'kissingher', 5134: 'distaste', 5135: 'bills', 5136: 'fonzie', 5137: 'democracy', 5138: 'knocks', 5139: 'aims', 5140: 'horribilis', 5141: 'sunglasses', 5142: 'handed', 5143: 'writer', 5144: 'jackass', 5145: 'e-z', 5146: 'oughtta', 5147: 'wars', 5148: 'tow', 5149: \"man'd\", 5150: 'cajun', 5151: 'shoe', 5152: 'coy', 5153: 'superdad', 5154: 'roach', 5155: 'dropping', 5156: 'wobbly', 5157: 'impress', 5158: 'dumb-asses', 5159: 'aquafresh', 5160: 'doom', 5161: 'kansas', 5162: 'itchy', 5163: 'stinger', 5164: 'attractive_woman_#2', 5165: 'oblivious', 5166: 'ancestors', 5167: 'absorbent', 5168: 'television', 5169: 'startled', 5170: 'exciting', 5171: 'susie-q', 5172: 'picky', 5173: 'loudly', 5174: 'squadron', 5175: 'patented', 5176: 'option', 5177: 'ecru', 5178: 'haikus', 5179: 'lifestyle', 5180: 'beady', 5181: 'indeedy', 5182: 'tying', 5183: 'improv', 5184: 'stein-stengel-', 5185: 'nuked', 5186: 'protestantism', 5187: 'judgments', 5188: 'intimacy', 5189: 'coal', 5190: 'refreshment', 5191: 'confidentially', 5192: \"bo's\", 5193: 'sass', 5194: 'farewell', 5195: 'ultimate', 5196: 'count', 5197: 'we-we-we', 5198: 'screws', 5199: 'sight-unseen', 5200: 'movement', 5201: 'lard', 5202: 'cappuccino', 5203: 'rebuttal', 5204: 'cattle', 5205: 'sedaris', 5206: 'calvin', 5207: 'oblongata', 5208: 'affects', 5209: 'bumbling', 5210: 'lighten', 5211: 'fights', 5212: 'handwriting', 5213: 'gentles', 5214: 'haws', 5215: 'grants', 5216: 'cologne', 5217: 'thirsty', 5218: 'feminine', 5219: 'badge', 5220: 'fustigation', 5221: 'schedule', 5222: 'wienerschnitzel', 5223: 'triumphantly', 5224: 'moe-lennium', 5225: 'shipment', 5226: 'dig', 5227: 'nerd', 5228: 'blinds', 5229: 'souvenir', 5230: 'weep', 5231: 'conspiracy', 5232: 'muhammad', 5233: 'permitting', 5234: 'limber', 5235: 'assent', 5236: 'chunk', 5237: 'crestfallen', 5238: 'owned', 5239: 'dies', 5240: 'protesters', 5241: 'stats', 5242: 'stamps', 5243: 'arise', 5244: 'theme', 5245: 'acronyms', 5246: 'uncreeped-out', 5247: 'mushy', 5248: 'shtick', 5249: 'recent', 5250: 'sieben-gruben', 5251: 'rafter', 5252: 'priceless', 5253: 'valuable', 5254: 'in-in-in', 5255: 'spoon', 5256: 'payback', 5257: 'furniture', 5258: 'disappointment', 5259: \"dolph's_dad\", 5260: 'language', 5261: 'lily-pond', 5262: 'shag', 5263: 'scent', 5264: 'developed', 5265: \"singin'\", 5266: 'cannoli', 5267: 'ruby-studded', 5268: 'dawning', 5269: 'coast', 5270: 'panicked', 5271: 'collapse', 5272: 'repay', 5273: 'robin', 5274: \"stallin'\", 5275: 'ninety-eight', 5276: 'instrument', 5277: 'stepped', 5278: \"writin'\", 5279: 'gin-slingers', 5280: 'squeezed', 5281: 'connection', 5282: 'accounta', 5283: 'online', 5284: 'f-l-a-n-r-d-s', 5285: 'adult', 5286: 'koji', 5287: 'rewound', 5288: \"snappin'\", 5289: \"beggin'\", 5290: 'incarcerated', 5291: 'bidet', 5292: '91', 5293: 'giant', 5294: 'contact', 5295: 'selfish', 5296: 'yoink', 5297: 'scout', 5298: 'pep', 5299: \"o'\", 5300: \"speakin'\", 5301: 'recreate', 5302: \"number's\", 5303: 'determined', 5304: 'sat-is-fac-tion', 5305: 'scientists', 5306: 'whistling', 5307: 'conclusions', 5308: 'loathe', 5309: 'chinua', 5310: 'glitterati', 5311: 'ignorance', 5312: 'admirer', 5313: 'executive', 5314: 'fighter', 5315: 'brings', 5316: 'eager', 5317: 'cranberry', 5318: 'bumpy-like', 5319: 'demand', 5320: 'attractive', 5321: 'saucy', 5322: 'idealistic', 5323: 'choked', 5324: 'brooklyn', 5325: 'candles', 5326: 'carey', 5327: 'pretzel', 5328: 'barber', 5329: 'consulting', 5330: 'squad', 5331: 'chain', 5332: 'shyly', 5333: 'hat', 5334: 'booger', 5335: 'gargoyles', 5336: 'flynt', 5337: 'decided', 5338: 'predictable', 5339: 'cupid', 5340: 'sales', 5341: 'chumbawamba', 5342: 'albeit', 5343: 'lennyy', 5344: \"city's\", 5345: 'defected', 5346: 'court', 5347: 'bronco', 5348: 'correction', 5349: 'yak', 5350: 'slim', 5351: 'fontaine', 5352: 'cruise', 5353: 'christian', 5354: 'face-macer', 5355: 'whoopi', 5356: 'cheered', 5357: \"lovers'\", 5358: 'shesh', 5359: 'promotion', 5360: 'four-star', 5361: 'nectar', 5362: 'happiness', 5363: 'infor', 5364: 'weapon', 5365: 'ram', 5366: 'knock-up', 5367: 'photos', 5368: 'sleeping', 5369: 'chosen', 5370: 'suits', 5371: 'tempting', 5372: 'sam', 5373: 'perverse', 5374: 'las', 5375: 'doppler', 5376: 'family-owned', 5377: 'hearse', 5378: 'hunger', 5379: 'hideous', 5380: \"wino's\", 5381: 'notorious', 5382: 'reflected', 5383: 'lovejoy', 5384: 'woe', 5385: 'parrot', 5386: 'soft', 5387: 'rickles', 5388: 'halloween', 5389: 'skydiving', 5390: 'ivanna', 5391: 'gruff', 5392: 'goo', 5393: 'ali', 5394: 'inclination', 5395: 'ghouls', 5396: 'toe', 5397: 'splendid', 5398: 'donate', 5399: 'measure', 5400: 'stink', 5401: 'emergency', 5402: 'cases', 5403: 'reciting', 5404: 'dirge-like', 5405: 'richer', 5406: 'swine', 5407: 'offensive', 5408: 'lenses', 5409: 'paste', 5410: 'decision', 5411: 'musta', 5412: 'wolfcastle', 5413: 'muscle', 5414: 'vengeful', 5415: 'mouths', 5416: 'não', 5417: 'sensitivity', 5418: 'santeria', 5419: 'vincent', 5420: 'right-handed', 5421: 'urinal', 5422: 'meditative', 5423: 'friction', 5424: \"pickin'\", 5425: 'mexican', 5426: 'blur', 5427: 'baloney', 5428: 'sanitation', 5429: 'lindsay', 5430: \"liberty's\", 5431: 'watched', 5432: 'initially', 5433: 'videotaped', 5434: 'kay', 5435: 'rice', 5436: 'mid-conversation', 5437: \"fine-lookin'\", 5438: 'purveyor', 5439: 'moe-ron', 5440: 'meals', 5441: 'oooo', 5442: 'iranian', 5443: 'outrageous', 5444: 'brandy', 5445: 'anxious', 5446: 'exits', 5447: 'alky', 5448: 'depressing', 5449: 'dictating', 5450: 'spit-backs', 5451: 'perfume', 5452: 'reward', 5453: 'grey', 5454: 'lumpa', 5455: 'hurting', 5456: 'resist', 5457: 'paramedic', 5458: 'eightball', 5459: 'aer', 5460: \"'roids\", 5461: 'post-suicide', 5462: 'frankenstein', 5463: 'preparation', 5464: 'blowfish', 5465: 'self-centered', 5466: 'massage', 5467: 'deny', 5468: 'the_edge', 5469: 'self-satisfied', 5470: \"'kay-zugg'\", 5471: 'heart-broken', 5472: \"changin'\", 5473: 'expecting', 5474: 'spiritual', 5475: 'fumigated', 5476: 'danny', 5477: 'created', 5478: 'sunny', 5479: '_burns_heads', 5480: 'creme', 5481: 'exquisite', 5482: 'jokes', 5483: 'frazier', 5484: 'locklear', 5485: 'fixes', 5486: 'relative', 5487: 'unjustly', 5488: 'opens', 5489: 'dazed', 5490: 'uses', 5491: 'hooch', 5492: 'irs', 5493: 'stab', 5494: 'sideshow_bob', 5495: \"d'\", 5496: 'repressed', 5497: 'lemonade', 5498: 'specialists', 5499: 'melodramatic', 5500: 'interesting', 5501: \"duelin'\", 5502: 'advertise', 5503: 'truck_driver', 5504: 'monorails', 5505: 'rat-like', 5506: 'nameless', 5507: 'tons', 5508: 'lager', 5509: 'ugliness', 5510: 'touch', 5511: 'bad-mouth', 5512: 'charming', 5513: 'kucinich', 5514: 'brakes', 5515: 'lists', 5516: 'nickel', 5517: 'wild', 5518: 'rem', 5519: 'butterball', 5520: 'charter', 5521: 'cutest', 5522: 'inanely', 5523: 'brief', 5524: 'pizza', 5525: 'tasimeter', 5526: 'wolveriskey', 5527: 'fustigate', 5528: 'vermont', 5529: 'shakes', 5530: 'statues', 5531: 'grammy', 5532: 'goblins', 5533: 'cats', 5534: 'sincerely', 5535: 'murdered', 5536: 'extinguishers', 5537: 'reopen', 5538: 'thrilled', 5539: 'supermarket', 5540: 'mahatma', 5541: 'dint', 5542: 'betcha', 5543: 'eliminate', 5544: 'stripes', 5545: 'direction', 5546: 'partners', 5547: 'hooked', 5548: 'lecture', 5549: 'pall', 5550: 'cap', 5551: 'robbers', 5552: 'cursed', 5553: 'alva', 5554: 'vengeance', 5555: 'agh', 5556: 'eww', 5557: 'sen', 5558: 'hushed', 5559: 'watt', 5560: 'contented', 5561: 'show-off', 5562: 'frankie', 5563: 'kegs', 5564: 'twelveball', 5565: 'ducked', 5566: 'groin', 5567: 'wealthy', 5568: 'amber_dempsey', 5569: 'allegiance', 5570: 'investment', 5571: 'lis', 5572: 'hyper-credits', 5573: 'arrived', 5574: 'gel', 5575: \"washin'\", 5576: 'pasta', 5577: 'wrap', 5578: 'humiliation', 5579: 'bragging', 5580: 'holy', 5581: 'renew', 5582: 'eyeballs', 5583: 'donor', 5584: \"rustlin'\", 5585: 'temporarily', 5586: 'rain', 5587: 'fist', 5588: 'kako', 5589: \"ya'\", 5590: 'combines', 5591: \"jimbo's_dad\", 5592: 'barney-type', 5593: 'mm-hmm', 5594: 'cans', 5595: 'jerk-ass', 5596: 'mccarthy', 5597: 'designer', 5598: 'triple-sec', 5599: 'fantastic', 5600: 'vin', 5601: 'con', 5602: 'pantry', 5603: 'gus', 5604: 'ease', 5605: 'starve', 5606: 'sink', 5607: 'speed', 5608: 'settles', 5609: \"'n'\", 5610: 'flustered', 5611: 'delays', 5612: 'exchanged', 5613: 'schorr', 5614: 'quadruple-sec', 5615: 'dealie', 5616: 'monday', 5617: '3', 5618: 'demo', 5619: 'cobra', 5620: 'wound', 5621: 'bail', 5622: 'item', 5623: \"pressure's\", 5624: 'five-fifteen', 5625: 'intervention', 5626: 'crayola', 5627: 'luxury', 5628: 'other_player', 5629: 'ebullient', 5630: 'almond', 5631: 'device', 5632: 'lodge', 5633: 'produce', 5634: 'bottoms', 5635: 'experiments', 5636: 'stomach', 5637: \"s'okay\", 5638: 'hubub', 5639: 'plane', 5640: 'script', 5641: 'passes', 5642: \"doctor's\", 5643: 'billingsley', 5644: \"raggin'\", 5645: 'swooning', 5646: 'boozehound', 5647: 'sperm', 5648: 'abercrombie', 5649: \"floatin'\", 5650: \"lady's\", 5651: 'sun', 5652: 'remote', 5653: 'modestly', 5654: 'streetlights', 5655: 'germany', 5656: 'ninety-nine', 5657: 'filed', 5658: \"burnin'\", 5659: 'grind', 5660: 'enjoys', 5661: 'all-all-all', 5662: \"neighbor's\", 5663: '_marvin_monroe', 5664: 'evasive', 5665: 'coupon', 5666: 'starters', 5667: 'strain', 5668: 'space-time', 5669: 'strategizing', 5670: 'aged', 5671: 'supermodel', 5672: 'error', 5673: 'california', 5674: 'beings', 5675: 'washed', 5676: 'apology', 5677: 'errrrrrr', 5678: 'funeral', 5679: 'absentminded', 5680: 'ahem', 5681: 'accidents', 5682: 'religious', 5683: 'schmoe', 5684: 'monkeyshines', 5685: 'freely', 5686: 'cigars', 5687: 'crinkly', 5688: 'papa', 5689: \"scammin'\", 5690: 'homunculus', 5691: 'suru', 5692: 'lingus', 5693: 'glowers', 5694: 'full-bodied', 5695: 'persia', 5696: 'painless', 5697: 'sharity', 5698: 'refiero', 5699: 'johnny_carson', 5700: 'blooded', 5701: 'texan', 5702: 'voyager', 5703: \"'now\", 5704: 'file', 5705: \"g'on\", 5706: 'shoulda', 5707: 'imitating', 5708: 'someplace', 5709: 'pee', 5710: 'contract', 5711: 'milks', 5712: 'bury', 5713: 'failure', 5714: \"professor's\", 5715: 'washer', 5716: \"'er\", 5717: 'hardy', 5718: \"she'll\", 5719: 'huddle', 5720: 'growing', 5721: 'holidays', 5722: 'taxes', 5723: 'dean', 5724: 'wounds', 5725: 'perplexed', 5726: 'land', 5727: 'cell', 5728: 'super-genius', 5729: 'jackpot-thief', 5730: 'sounded', 5731: 'plug', 5732: 'fake', 5733: 'relaxing', 5734: 'ping-pong', 5735: 'fulla', 5736: 'alcoholism', 5737: 'ripped', 5738: 'ought', 5739: \"swishifyin'\", 5740: 'test-lady', 5741: 'brunswick', 5742: 'p-k', 5743: 'rueful', 5744: 'bid', 5745: 'oh-ho', 5746: 'murdoch', 5747: 'manuel', 5748: 'supply', 5749: 'mary', 5750: 'anonymous', 5751: 'man_with_tree_hat', 5752: 'voted', 5753: 'hops', 5754: 'er', 5755: 'blubberino', 5756: 'deli', 5757: 'runt', 5758: 'infiltrate', 5759: 'fires', 5760: 'delightful', 5761: 'grubby', 5762: 'presumir', 5763: 'awareness', 5764: 'hourly', 5765: 'willing', 5766: 'flaking', 5767: 'whining', 5768: 'corn', 5769: 'invulnerable', 5770: 'confidential', 5771: 'calendars', 5772: '14', 5773: 'phase', 5774: 'babar', 5775: 'malabar', 5776: 'harmony', 5777: 'quarter', 5778: 'hub', 5779: 'squashing', 5780: 'oooh', 5781: 'optimistic', 5782: 'washouts', 5783: 'occupation', 5784: 'headhunters', 5785: 'accepting', 5786: 'lushmore', 5787: 'wisconsin', 5788: 'smelly', 5789: 'menacing', 5790: 'notices', 5791: 'fastest', 5792: \"department's\", 5793: 'atari', 5794: 'sprawl', 5795: 'pinchpenny', 5796: 'prettiest', 5797: 'grenky', 5798: 'booking', 5799: 'ivy-covered', 5800: 'totalitarians', 5801: 'difference', 5802: 'conversations', 5803: 'mistakes', 5804: 'stretch', 5805: 'assassination', 5806: 'dumptruck', 5807: 'bulldozing', 5808: \"renee's\", 5809: 'swelling', 5810: 'w-a-3-q-i-zed', 5811: 'americans', 5812: 'boxcar', 5813: 'hook', 5814: \"nothin's\", 5815: 'temples', 5816: 'breakfast', 5817: 'malibu', 5818: 'giggle', 5819: 'lend', 5820: 'risqué', 5821: 'sweater', 5822: 'unable', 5823: 'browns', 5824: 'avenue', 5825: 'pontiff', 5826: 'thomas', 5827: 'moe-heads', 5828: 'continued', 5829: 'shelbyville', 5830: 'picnic', 5831: 'bits', 5832: 'dads', 5833: 'old_jewish_man', 5834: 'boston', 5835: 'tragedy', 5836: 'stalwart', 5837: 'indigenous', 5838: 'specified', 5839: 'tar-paper', 5840: 'tense', 5841: 'teen', 5842: 'achebe', 5843: 'cheaper', 5844: 'courthouse', 5845: 'hearing', 5846: 'immiggants', 5847: 'stooges', 5848: 'coma', 5849: 'packets', 5850: 'mater', 5851: 'whaddya', 5852: 'distinct', 5853: 'eaten', 5854: 'basement', 5855: 'notably', 5856: 'event', 5857: 'geysir', 5858: 'prince', 5859: 'spotting', 5860: 'kissed', 5861: 'charged', 5862: 'celebrate', 5863: \"listenin'\", 5864: 'managed', 5865: 'miracle', 5866: 'oopsie', 5867: 'sacajawea', 5868: 'neanderthal', 5869: 'gig', 5870: 'newspaper', 5871: 'over-pronouncing', 5872: 'everyday', 5873: 'slobbo', 5874: 'ugh', 5875: 'onassis', 5876: 'steamed', 5877: 'principles', 5878: 'unsourced', 5879: 'cecil', 5880: 'champion', 5881: \"tab's\", 5882: 'flew', 5883: 'peter_buck', 5884: 'peeping', 5885: \"thing's\", 5886: 'cowboy', 5887: 'dogs', 5888: 'drop-off', 5889: 'lizard', 5890: 'edelbrock', 5891: 'burnside', 5892: \"coffee'll\", 5893: 'population', 5894: 'pumping', 5895: 'fistiana', 5896: 'eu', 5897: 'startup', 5898: 'fifth', 5899: 'brockelstein', 5900: 'uhhhh', 5901: 'tolerable', 5902: 'treehouse', 5903: 'jerking', 5904: 'sugar-me-do', 5905: 'nantucket', 5906: 'blows', 5907: 'thnord', 5908: 'nascar', 5909: 'saget', 5910: 'cosmetics', 5911: 'fruit', 5912: 'cheapskates', 5913: 'sagacity', 5914: 'prizefighters', 5915: 'carb', 5916: 'busiest', 5917: 'white_rabbit', 5918: 'rainforest', 5919: \"stayin'\", 5920: 'potatoes', 5921: 'lofty', 5922: 'bathtub', 5923: 'klown', 5924: 'passenger', 5925: 'hippies', 5926: 'appreciate', 5927: 'parents', 5928: 'life-partner', 5929: 'hangover', 5930: 'facebook', 5931: 'michelin', 5932: 'linda_ronstadt', 5933: 'dignified', 5934: 'zack', 5935: 'throws', 5936: 'abe', 5937: 'tokens', 5938: 'singer', 5939: 'weather', 5940: 'snackie', 5941: 'solely', 5942: 'patriotic', 5943: '530', 5944: \"fryer's\", 5945: 'helping', 5946: 'jovial', 5947: 'billiard', 5948: 'greatly', 5949: 'believer', 5950: 'football', 5951: 'kisses', 5952: 'sister-in-law', 5953: 'sooo', 5954: 'ralph_wiggum', 5955: 'backgammon', 5956: 'trees', 5957: 'simon', 5958: 'sequel', 5959: 'characteristic', 5960: 'protesting', 5961: 'unrelated', 5962: 'hunky', 5963: 'lugs', 5964: 'play/', 5965: 'vestigial', 5966: 'enterprising', 5967: 'actor', 5968: 'homer_', 5969: '1979', 5970: 'mcclure', 5971: 'one-hour', 5972: 'repairman', 5973: 'conditioning', 5974: 'orgasmville', 5975: 'bonding', 5976: 'indicates', 5977: \"b-52's\", 5978: 'justify', 5979: 'puke-holes', 5980: 'duke', 5981: 'tall', 5982: \"bringin'\", 5983: 'poke', 5984: 'vicious', 5985: 'encouraged', 5986: 'op', 5987: 'cakes', 5988: 'catholic', 5989: 'indifference', 5990: 'dirty', 5991: 'ding-a-ding-ding-ding-ding-ding-ding', 5992: 'stupidest', 5993: 'chipped', 5994: 'ladder', 5995: 'tin', 5996: 'plain', 5997: 'mediterranean', 5998: 'sticker', 5999: 'royal', 6000: 'soaps', 6001: 'options', 6002: 'apart', 6003: 'crowbar', 6004: 'tigers', 6005: 'socialize', 6006: 'stores', 6007: 'anti-crime', 6008: 'thousand-year', 6009: 'coms', 6010: \"spyin'\", 6011: 'timbuk-tee', 6012: 'mailbox', 6013: 'dispenser', 6014: 'zinged', 6015: 'plaintive', 6016: 'debonair', 6017: 'groveling', 6018: 'flash', 6019: 'pink', 6020: 'co-sign', 6021: 'runaway', 6022: 'fantasy', 6023: 'wildest', 6024: 'settlement', 6025: 'montrer', 6026: 'law-abiding', 6027: 'mostly', 6028: \"what'd\", 6029: 'fountain', 6030: 'legally', 6031: 'temper', 6032: 'flown', 6033: 'arrested', 6034: 'sesame', 6035: '2', 6036: 'walked', 6037: 'racially-diverse', 6038: 'investigating', 6039: 'foundation', 6040: 'poison', 6041: 'otherwise', 6042: 'universe', 6043: 'ons', 6044: 'generosity', 6045: 'scrutinizing', 6046: 'powers', 6047: \"son's\", 6048: 'burt_reynolds', 6049: 'crippling', 6050: 'portentous', 6051: 'playoff', 6052: 'suave', 6053: 'bellyaching', 6054: 'ignoring', 6055: 'jazz', 6056: 'located', 6057: 'stamp', 6058: 'rome', 6059: 'attracted', 6060: 'fella', 6061: 'problemo', 6062: 'worldview', 6063: 'stays', 6064: 'skoal', 6065: 'rom', 6066: 'neighboreeno', 6067: 'radical', 6068: 'inches', 6069: 'mission', 6070: 'contemporary', 6071: 'fire_inspector', 6072: 'tire', 6073: \"tap-pullin'\", 6074: 'publish', 6075: 'chips', 6076: 'notice', 6077: 'streetcorner', 6078: 'sagely', 6079: 'robot', 6080: 'cracked', 6081: \"tatum'll\", 6082: 'tropical', 6083: 'winston', 6084: 'delivery_man', 6085: \"somebody's\", 6086: 'accelerating', 6087: 'anger', 6088: 'novelty', 6089: 'nap', 6090: 'saving', 6091: 'insist', 6092: 'shores', 6093: 'fortress', 6094: 'forty-two', 6095: 'knuckles', 6096: 'sucker', 6097: 'shack', 6098: \"cleanin'\", 6099: 'nonsense', 6100: 'quimbys', 6101: 'certified', 6102: \"bart'd\", 6103: \"smokin'\", 6104: 'johnny', 6105: 'getaway', 6106: 'handoff', 6107: 'negative', 6108: 'slab', 6109: 'junkyard', 6110: 'hammock', 6111: 'neighborhood', 6112: 'compromise', 6113: 'rabbits', 6114: 'stengel', 6115: 'cricket', 6116: 'crooks', 6117: 'ralphie', 6118: 'nahasapeemapetilon', 6119: 'nailed', 6120: \"this'll\", 6121: 'cheaped', 6122: 'ga', 6123: 'flashbacks', 6124: 'beards', 6125: 'background', 6126: 'flashing', 6127: 'wenceslas', 6128: 'legal', 6129: 'warned', 6130: 'flailing', 6131: 'runners', 6132: 'bowie', 6133: 'premise', 6134: 'wiggle-frowns', 6135: 'blocked', 6136: 'sour', 6137: 'tapestry', 6138: 'wikipedia', 6139: 'comment', 6140: 'ho-la', 6141: 'lainie', 6142: \"narratin'\", 6143: 'switched', 6144: 'pets', 6145: 'pile', 6146: 'juke', 6147: 'yells', 6148: 'sells', 6149: 'activity', 6150: 'exception', 6151: 'gardens', 6152: 'endorsed', 6153: 'dishrag', 6154: 'yew', 6155: 'spare', 6156: 'assert', 6157: 'eyeing', 6158: 'maude', 6159: 'journey', 6160: 'cherry', 6161: 'hah', 6162: 'sheet', 6163: 'half-beer', 6164: 'ehhh', 6165: 'mayan', 6166: 'fast-food', 6167: 'mckinley', 6168: 'imported-sounding', 6169: 'take-back', 6170: 'silent', 6171: 'carny', 6172: \"fendin'\", 6173: 'western', 6174: 'cab', 6175: 'tolerance', 6176: 'larson', 6177: 'sidelines', 6178: 'average-looking', 6179: 'alarm', 6180: 'sustain', 6181: 'dentist', 6182: 'stewart', 6183: 'grammys', 6184: 'idiots', 6185: 'patron_#2', 6186: 'sponsor', 6187: 'kicks', 6188: 'annoying', 6189: 'sweetest', 6190: 'wussy', 6191: 'wood', 6192: 'scarf', 6193: 'emphasis', 6194: 'ehhhhhh', 6195: 'kazoo', 6196: 'comedies', 6197: 'eternity', 6198: 'wishing', 6199: 'woodchucks', 6200: 'other_book_club_member', 6201: 'drawer', 6202: 'blossoming', 6203: 'jelly', 6204: 'starving', 6205: 'cloudy', 6206: 'apulina', 6207: 'kings', 6208: 'stones', 6209: 'chicken', 6210: 'answered', 6211: 'undies', 6212: 'automobiles', 6213: 'introduce', 6214: 'tickets', 6215: 'solved', 6216: 'please/', 6217: 'salvador', 6218: \"linin'\", 6219: 'helpful', 6220: 'chubby', 6221: 'necessary', 6222: 'additional-seating-capacity', 6223: 'station', 6224: 'moonshine', 6225: 'a-a-b-b-a', 6226: 'mmm-hmm', 6227: 'ralph', 6228: 'prejudice', 6229: 'pen', 6230: \"neat's-foot\", 6231: 'drift', 6232: \"table's\", 6233: 'karaoke_machine', 6234: 'falsetto', 6235: 'hot-rod', 6236: 'tubman', 6237: 'yuh-huh', 6238: 'reluctantly', 6239: \"who'da\", 6240: 'slaps', 6241: 'actress', 6242: 'champs', 6243: 'inexorable', 6244: 'naval', 6245: 'wazoo', 6246: 'stocking', 6247: 'presto', 6248: 'voicemail', 6249: '_eugene_blatz', 6250: 'traditions', 6251: \"choosin'\", 6252: 'easygoing', 6253: 'hmmmm', 6254: 'faced', 6255: 'crab', 6256: \"enjoyin'\", 6257: 'elmer', 6258: 'declan', 6259: 'maher', 6260: 'stacey', 6261: 'counterfeit', 6262: 'sugar-free', 6263: 'flames', 6264: 'shoes', 6265: 'inserts', 6266: 'hafta', 6267: 'sentimonies', 6268: 'locked', 6269: 'agents', 6270: 'entrance', 6271: 'rapidly', 6272: 'dimly', 6273: 'temple', 6274: 'england', 6275: 'nor', 6276: 'slaves', 6277: 'shrieks', 6278: 'toledo', 6279: \"boy's\", 6280: 'deliberately', 6281: 'itself', 6282: 'scratcher', 6283: 'provide', 6284: 'detail', 6285: 'crimes', 6286: 'nick', 6287: 'sub-monkeys', 6288: 'versus', 6289: 'triangle', 6290: 'paparazzo', 6291: 'intoxicants', 6292: 'cage', 6293: \"'morning\", 6294: \"nixon's\", 6295: 'physical', 6296: 'dammit', 6297: 'studied', 6298: 'arse', 6299: 'generally', 6300: 'quimby_#2', 6301: 'rumor', 6302: 'veux', 6303: 'marry', 6304: 'cup', 6305: 'slugger', 6306: 'musketeers', 6307: \"usin'\", 6308: 'coherent', 6309: 'arts', 6310: 'information', 6311: 'prints', 6312: 'skinheads', 6313: 'store-bought', 6314: 'publishers', 6315: 'adequate', 6316: 'icy', 6317: 'snail', 6318: 'resolution', 6319: \"ma's\", 6320: 'yammering', 6321: 'poulet', 6322: 'hooky', 6323: 'popping', 6324: 'examples', 6325: 'snide', 6326: 'short_man', 6327: 'forty-five', 6328: 'forgiven', 6329: 'earth', 6330: 'signed', 6331: 'offshoot', 6332: 'bulletin', 6333: 'mint', 6334: 'selective', 6335: 'bon', 6336: \"must've\", 6337: 'astonishment', 6338: 'slurps', 6339: 'habitrail', 6340: 'barney-guarding', 6341: 'harvard', 6342: 'tyson/secretariat', 6343: 'au', 6344: 'coined', 6345: 'nibble', 6346: 'junebug', 6347: 'hitchhike', 6348: 'multi-national', 6349: 'whoops', 6350: 'laid', 6351: 'enthusiasm', 6352: 'innocence', 6353: 'equal', 6354: 'wowww', 6355: \"wouldn't-a\", 6356: 'easter', 6357: 'territorial', 6358: 'certainly', 6359: 'simplest', 6360: 'avalanche', 6361: 'belts', 6362: 'life-sized', 6363: 'savagely', 6364: 'aziz', 6365: 'slurred', 6366: 'frontrunner', 6367: 'conversion', 6368: 'grain', 6369: 'knowingly', 6370: 'mock-up', 6371: 'boxers', 6372: \"'pu\", 6373: 'crowded', 6374: 'barbed', 6375: 'unforgettable', 6376: 'choke', 6377: 'soir', 6378: 'lotsa', 6379: 'bide', 6380: 'enthusiastically', 6381: 'veteran', 6382: 'tomatoes', 6383: 'apron', 6384: 'sneak', 6385: \"mopin'\", 6386: 'argue', 6387: 'besides', 6388: 'generously', 6389: 'approval', 6390: \"hell's\", 6391: 'dislike', 6392: 'super-nice', 6393: 'gibson', 6394: 'eminence', 6395: 'blaze', 6396: 'kinderhook', 6397: 'lucinda', 6398: 'mobile', 6399: 'birth', 6400: 'enhance', 6401: 'ab', 6402: 'phlegm', 6403: 'buzziness', 6404: \"i-i'll\", 6405: 'eighteen', 6406: \"i'unno\", 6407: 'proof', 6408: \"soakin's\", 6409: 'unattractive', 6410: 'cousin', 6411: 'stumble', 6412: 'sweaty', 6413: 'nicer', 6414: 'lurks', 6415: 'eyed', 6416: 'apply', 6417: \"stabbin'\", 6418: 'carpet', 6419: 'sketch', 6420: 'fit', 6421: 'reluctant', 6422: \"tramp's\", 6423: 'slit', 6424: 'banned', 6425: 'skills', 6426: \"football's\", 6427: 'polishing', 6428: 'sympathy', 6429: 'race', 6430: 'promise', 6431: 'stares', 6432: \"askin'\", 6433: 'righ', 6434: 'shaky', 6435: 'reptile', 6436: 'improved', 6437: 'science', 6438: 'nos', 6439: 'sinkhole', 6440: 'kahlua', 6441: 'telegraph', 6442: 'occupancy', 6443: 'philip', 6444: 'travel', 6445: 'perfunctory', 6446: 'focused', 6447: 'thirty-nine', 6448: 'living', 6449: 'fuhgetaboutit', 6450: 'strolled', 6451: 'led', 6452: 'democrats', 6453: 'fourteen', 6454: 'puke-pail', 6455: 'referee', 6456: 'raggie', 6457: 'mocking', 6458: 'forgets', 6459: 'divorced', 6460: 'choked-up', 6461: 'indecipherable', 6462: 'quimby', 6463: 'sweden', 6464: 'mountain', 6465: \"'ceptin'\", 6466: 'non-losers', 6467: 'blank', 6468: 'backbone', 6469: 'fuzzlepitch', 6470: 'depository', 6471: 'anyhoo', 6472: 'minus', 6473: 'build', 6474: 'madman', 6475: 'owes', 6476: 'cuddling', 6477: 'swings', 6478: 'darjeeling', 6479: 'encores', 6480: 'stood', 6481: 'rationalizing', 6482: 'official', 6483: 'orphan', 6484: 'strictly', 6485: 'pills', 6486: 'dollface', 6487: 'tear', 6488: 'scum-sucking', 6489: 'bugs', 6490: 'cerebral', 6491: 'caveman', 6492: 'coughs', 6493: 'rugged', 6494: '50%', 6495: \"daughter's\", 6496: 'wish-meat', 6497: 'grin', 6498: 'flush-town', 6499: 'dizzy', 6500: 'hateful', 6501: 'kim_basinger', 6502: 'jackson', 6503: 'compadre', 6504: 'accusing', 6505: 'darkness', 6506: 'nominated', 6507: 'bust', 6508: \"tootin'\", 6509: 'finish', 6510: 'whale', 6511: 'test-', 6512: 'mortal', 6513: 'kidnaps', 6514: 'result', 6515: 'decadent', 6516: \"secret's\", 6517: 'break-up', 6518: 'maximum', 6519: 'steam', 6520: 'forced', 6521: 'backing', 6522: 'diving', 6523: 'sassy', 6524: 'ironic', 6525: 'chunky', 6526: 'reactions', 6527: 'pizzicato', 6528: 'foam', 6529: 'hilton', 6530: 'musical', 6531: \"smackin'\", 6532: 'archaeologist', 6533: 'nurse', 6534: 'twentieth', 6535: 'telephone', 6536: 'beached', 6537: 'chastity', 6538: 'enthused', 6539: 'contemptuous', 6540: 'digging', 6541: 'quitcher', 6542: 'missing', 6543: 'harm', 6544: 'golden', 6545: 'instantly', 6546: 'booth', 6547: 'period', 6548: 'obama', 6549: 'declared', 6550: 'ears', 6551: 'so-ng', 6552: 'remain', 6553: 'specializes', 6554: 'mix', 6555: 'eaters', 6556: 'plotz', 6557: 'prolonged', 6558: \"puttin'\", 6559: 'bauer', 6560: 'haplessly', 6561: 'man_at_bar', 6562: 'skunk', 6563: 'addiction', 6564: 'drummer', 6565: 'young_barfly', 6566: 'offa', 6567: 'recruiter', 6568: \"feelin's\", 6569: 'freed', 6570: 'excavating', 6571: 'chili', 6572: 'nauseous', 6573: 'dressing', 6574: 'ton', 6575: 'assumed', 6576: 'fierce', 6577: \"challengin'\", 6578: 'blob', 6579: 'gil_gunderson', 6580: 'para', 6581: 'waking-up', 6582: 'founded', 6583: 'ideal', 6584: \"squeezin'\", 6585: 'rusty', 6586: 'marched', 6587: 'popped', 6588: 'infatuation', 6589: 'youth', 6590: '1973', 6591: 'carlotta', 6592: 'boggs', 6593: 'thousands', 6594: \"murphy's\", 6595: 'clams', 6596: 'vehicle', 6597: 'represents', 6598: 'ruint', 6599: 'soaked', 6600: 'numeral', 6601: 'encore', 6602: 'nightmares', 6603: 'thorough', 6604: 'polls', 6605: 'insensitive', 6606: 'cause', 6607: 'hibachi', 6608: 'ehhhhhhhh', 6609: 'jeers', 6610: 'whoa-ho', 6611: 'hiding', 6612: 'shaved', 6613: 'du', 6614: 'engine', 6615: 'guinea', 6616: 'sexton', 6617: 'gambler', 6618: \"heat's\", 6619: \"y'see\", 6620: 'toy', 6621: 'stay-puft', 6622: 'handshake', 6623: 'supreme', 6624: 'kennedy', 6625: 'hyahh', 6626: 'wreck', 6627: \"'s\", 6628: 'helpless', 6629: 'aristotle', 6630: 'tv_daughter', 6631: 'newsies', 6632: 'puffy', 6633: 'unbelievable', 6634: 'employment', 6635: 'backward', 6636: 'bras', 6637: 'twenty-four', 6638: 'strongly', 6639: 'quarterback', 6640: 'drag', 6641: \"mo'\", 6642: 'killer', 6643: 'soothing', 6644: 'beeps', 6645: 'sing-song', 6646: 'ninety-six', 6647: 'bottomless', 6648: 'absolut', 6649: 'privacy', 6650: 'radiation', 6651: 'shop', 6652: 'dutch', 6653: 'applicant', 6654: 'housework', 6655: 'paints', 6656: 'lachrymose', 6657: 'hunka', 6658: 'gutenberg', 6659: 'ivory', 6660: 'aidens', 6661: 'bannister', 6662: 'unusually', 6663: 'consciousness', 6664: 'leaving', 6665: \"kearney's_dad\", 6666: \"brockman's\", 6667: 'explanation', 6668: 'ate', 6669: 'absentmindedly', 6670: 'you-need-man', 6671: 'continuum', 6672: 'x-men', 6673: 'socratic', 6674: 'items', 6675: 'fat_in_the_hat', 6676: 'orders', 6677: 'chow', 6678: 'overhearing', 6679: 'perking', 6680: 'breathtaking', 6681: 'ing', 6682: 'romance', 6683: 'closet', 6684: 'merchants', 6685: 'si-lent', 6686: 'wishful', 6687: 'grains', 6688: 'praise', 6689: 'heatherton'}\n"
     ]
    }
   ],
   "source": [
    "\"\"\"\n",
    "DON'T MODIFY ANYTHING IN THIS CELL\n",
    "\"\"\"\n",
    "# Preprocess Training, Validation, and Testing Data\n",
    "helper.preprocess_and_save_data(data_dir, token_lookup, create_lookup_tables)"
   ]
  },
  {
   "cell_type": "markdown",
   "metadata": {
    "deletable": true,
    "editable": true
   },
   "source": [
    "# Check Point\n",
    "This is your first checkpoint. If you ever decide to come back to this notebook or have to restart the notebook, you can start from here. The preprocessed data has been saved to disk."
   ]
  },
  {
   "cell_type": "code",
   "execution_count": 13,
   "metadata": {
    "collapsed": false,
    "deletable": true,
    "editable": true
   },
   "outputs": [],
   "source": [
    "\"\"\"\n",
    "DON'T MODIFY ANYTHING IN THIS CELL\n",
    "\"\"\"\n",
    "import helper\n",
    "import numpy as np\n",
    "import problem_unittests as tests\n",
    "\n",
    "int_text, vocab_to_int, int_to_vocab, token_dict = helper.load_preprocess()"
   ]
  },
  {
   "cell_type": "markdown",
   "metadata": {
    "deletable": true,
    "editable": true
   },
   "source": [
    "## Build the Neural Network\n",
    "You'll build the components necessary to build a RNN by implementing the following functions below:\n",
    "- get_inputs\n",
    "- get_init_cell\n",
    "- get_embed\n",
    "- build_rnn\n",
    "- build_nn\n",
    "- get_batches\n",
    "\n",
    "### Check the Version of TensorFlow and Access to GPU"
   ]
  },
  {
   "cell_type": "code",
   "execution_count": 14,
   "metadata": {
    "collapsed": false,
    "deletable": true,
    "editable": true
   },
   "outputs": [
    {
     "name": "stdout",
     "output_type": "stream",
     "text": [
      "TensorFlow Version: 1.0.0\n",
      "Default GPU Device: /gpu:0\n"
     ]
    }
   ],
   "source": [
    "\"\"\"\n",
    "DON'T MODIFY ANYTHING IN THIS CELL\n",
    "\"\"\"\n",
    "from distutils.version import LooseVersion\n",
    "import warnings\n",
    "import tensorflow as tf\n",
    "\n",
    "# Check TensorFlow Version\n",
    "assert LooseVersion(tf.__version__) >= LooseVersion('1.0'), 'Please use TensorFlow version 1.0 or newer'\n",
    "print('TensorFlow Version: {}'.format(tf.__version__))\n",
    "\n",
    "# Check for a GPU\n",
    "if not tf.test.gpu_device_name():\n",
    "    warnings.warn('No GPU found. Please use a GPU to train your neural network.')\n",
    "else:\n",
    "    print('Default GPU Device: {}'.format(tf.test.gpu_device_name()))"
   ]
  },
  {
   "cell_type": "markdown",
   "metadata": {
    "deletable": true,
    "editable": true
   },
   "source": [
    "### Input\n",
    "Implement the `get_inputs()` function to create TF Placeholders for the Neural Network.  It should create the following placeholders:\n",
    "- Input text placeholder named \"input\" using the [TF Placeholder](https://www.tensorflow.org/api_docs/python/tf/placeholder) `name` parameter.\n",
    "- Targets placeholder\n",
    "- Learning Rate placeholder\n",
    "\n",
    "Return the placeholders in the following tuple (Input, Targets, LearningRate)"
   ]
  },
  {
   "cell_type": "code",
   "execution_count": 15,
   "metadata": {
    "collapsed": false,
    "deletable": true,
    "editable": true
   },
   "outputs": [
    {
     "name": "stdout",
     "output_type": "stream",
     "text": [
      "Tests Passed\n"
     ]
    }
   ],
   "source": [
    "def get_inputs():\n",
    "    \"\"\"\n",
    "    Create TF Placeholders for input, targets, and learning rate.\n",
    "    :return: Tuple (input, targets, learning rate)\n",
    "    \"\"\"\n",
    "    # TODO: Implement Function\n",
    "    Input = tf.placeholder(tf.int32, shape=(None,None),name='input')\n",
    "    targets = tf.placeholder(tf.int32, shape=(None,None),name='Targets')\n",
    "    learning_rate = tf.placeholder(tf.float32, shape=None,name=\"LearningRate\")\n",
    "    return Input,targets,learning_rate\n",
    "\n",
    "\n",
    "\"\"\"\n",
    "DON'T MODIFY ANYTHING IN THIS CELL THAT IS BELOW THIS LINE\n",
    "\"\"\"\n",
    "tests.test_get_inputs(get_inputs)"
   ]
  },
  {
   "cell_type": "markdown",
   "metadata": {
    "deletable": true,
    "editable": true
   },
   "source": [
    "### Build RNN Cell and Initialize\n",
    "Stack one or more [`BasicLSTMCells`](https://www.tensorflow.org/api_docs/python/tf/contrib/rnn/BasicLSTMCell) in a [`MultiRNNCell`](https://www.tensorflow.org/api_docs/python/tf/contrib/rnn/MultiRNNCell).\n",
    "- The Rnn size should be set using `rnn_size`\n",
    "- Initalize Cell State using the MultiRNNCell's [`zero_state()`](https://www.tensorflow.org/api_docs/python/tf/contrib/rnn/MultiRNNCell#zero_state) function\n",
    "    - Apply the name \"initial_state\" to the initial state using [`tf.identity()`](https://www.tensorflow.org/api_docs/python/tf/identity)\n",
    "\n",
    "Return the cell and initial state in the following tuple `(Cell, InitialState)`"
   ]
  },
  {
   "cell_type": "code",
   "execution_count": 16,
   "metadata": {
    "collapsed": false,
    "deletable": true,
    "editable": true
   },
   "outputs": [
    {
     "name": "stdout",
     "output_type": "stream",
     "text": [
      "Tests Passed\n"
     ]
    }
   ],
   "source": [
    "def get_init_cell(batch_size, rnn_size):\n",
    "    \"\"\"\n",
    "    Create an RNN Cell and initialize it.\n",
    "    :param batch_size: Size of batches\n",
    "    :param rnn_size: Size of RNNs\n",
    "    :return: Tuple (cell, initialize state)\n",
    "    \"\"\"\n",
    "    num_of_layers = 2\n",
    "    cell = tf.contrib.rnn.BasicLSTMCell(rnn_size)\n",
    "    cell = tf.contrib.rnn.MultiRNNCell([cell]*num_of_layers)\n",
    "    # Initial state of the LSTM memory.\n",
    "    # initial_state = state = stacked_lstm.zero_state(batch_size, tf.float32)\n",
    "    X = cell.zero_state(batch_size, tf.float32)\n",
    "    init_state=tf.identity(X, name='initial_state')\n",
    "    # TODO: Implement Function\n",
    "    return (cell, init_state)\n",
    "\n",
    "\n",
    "\"\"\"\n",
    "DON'T MODIFY ANYTHING IN THIS CELL THAT IS BELOW THIS LINE\n",
    "\"\"\"\n",
    "tests.test_get_init_cell(get_init_cell)"
   ]
  },
  {
   "cell_type": "markdown",
   "metadata": {
    "deletable": true,
    "editable": true
   },
   "source": [
    "### Word Embedding\n",
    "Apply embedding to `input_data` using TensorFlow.  Return the embedded sequence."
   ]
  },
  {
   "cell_type": "code",
   "execution_count": 17,
   "metadata": {
    "collapsed": false,
    "deletable": true,
    "editable": true
   },
   "outputs": [
    {
     "name": "stdout",
     "output_type": "stream",
     "text": [
      "Tests Passed\n"
     ]
    }
   ],
   "source": [
    "def get_embed(input_data, vocab_size, embed_dim):\n",
    "    \"\"\"\n",
    "    Create embedding for <input_data>.\n",
    "    :param input_data: TF placeholder for text input.\n",
    "    :param vocab_size: Number of words in vocabulary.\n",
    "    :param embed_dim: Number of embedding dimensions\n",
    "    :return: Embedded input.\n",
    "    \"\"\"\n",
    "    # TODO: Implement \n",
    "    #n_embedding = 200 # Number of embedding features\n",
    "    embedding = tf.Variable(tf.random_uniform((vocab_size, embed_dim)))\n",
    "    embed = tf.nn.embedding_lookup(embedding, input_data)\n",
    "    #word_embeddings = tf.get_variable(input_data,[vocab_size, embed_dim])\n",
    "    #embedded_word_ids = tf.gather(word_embeddings, word_ids)\n",
    "    return embed\n",
    "\n",
    "\n",
    "\"\"\"\n",
    "DON'T MODIFY ANYTHING IN THIS CELL THAT IS BELOW THIS LINE\n",
    "\"\"\"\n",
    "tests.test_get_embed(get_embed)"
   ]
  },
  {
   "cell_type": "markdown",
   "metadata": {
    "deletable": true,
    "editable": true
   },
   "source": [
    "### Build RNN\n",
    "You created a RNN Cell in the `get_init_cell()` function.  Time to use the cell to create a RNN.\n",
    "- Build the RNN using the [`tf.nn.dynamic_rnn()`](https://www.tensorflow.org/api_docs/python/tf/nn/dynamic_rnn)\n",
    " - Apply the name \"final_state\" to the final state using [`tf.identity()`](https://www.tensorflow.org/api_docs/python/tf/identity)\n",
    "\n",
    "Return the outputs and final_state state in the following tuple `(Outputs, FinalState)` "
   ]
  },
  {
   "cell_type": "code",
   "execution_count": 18,
   "metadata": {
    "collapsed": false,
    "deletable": true,
    "editable": true
   },
   "outputs": [
    {
     "name": "stdout",
     "output_type": "stream",
     "text": [
      "Tests Passed\n"
     ]
    }
   ],
   "source": [
    "def build_rnn(cell, inputs):\n",
    "    \"\"\"\n",
    "    Create a RNN using a RNN Cell\n",
    "    :param cell: RNN Cell\n",
    "    :param inputs: Input text data\n",
    "    :return: Tuple (Outputs, Final State)\n",
    "    \"\"\"\n",
    "    # TODO: Implement Function\n",
    "    n_vocab = len(int_to_vocab)\n",
    "    outputs, final_state = tf.nn.dynamic_rnn(cell, inputs, dtype=tf.float32)\n",
    "    final_state = tf.identity(final_state, name=\"final_state\")\n",
    "    return (outputs, final_state)\n",
    "\n",
    "\n",
    "\"\"\"\n",
    "DON'T MODIFY ANYTHING IN THIS CELL THAT IS BELOW THIS LINE\n",
    "\"\"\"\n",
    "tests.test_build_rnn(build_rnn)"
   ]
  },
  {
   "cell_type": "markdown",
   "metadata": {
    "deletable": true,
    "editable": true
   },
   "source": [
    "### Build the Neural Network\n",
    "Apply the functions you implemented above to:\n",
    "- Apply embedding to `input_data` using your `get_embed(input_data, vocab_size, embed_dim)` function.\n",
    "- Build RNN using `cell` and your `build_rnn(cell, inputs)` function.\n",
    "- Apply a fully connected layer with a linear activation and `vocab_size` as the number of outputs.\n",
    "\n",
    "Return the logits and final state in the following tuple (Logits, FinalState) "
   ]
  },
  {
   "cell_type": "code",
   "execution_count": 19,
   "metadata": {
    "collapsed": false,
    "deletable": true,
    "editable": true
   },
   "outputs": [
    {
     "name": "stdout",
     "output_type": "stream",
     "text": [
      "Tests Passed\n"
     ]
    }
   ],
   "source": [
    "def build_nn(cell, rnn_size, input_data, vocab_size, embed_dim):\n",
    "    \"\"\"\n",
    "    Build part of the neural network\n",
    "    :param cell: RNN cell\n",
    "    :param rnn_size: Size of rnns\n",
    "    :param input_data: Input data\n",
    "    :param vocab_size: Vocabulary size\n",
    "    :param embed_dim: Number of embedding dimensions\n",
    "    :return: Tuple (Logits, FinalState)\n",
    "    \"\"\"\n",
    "    # TODO: Implement Function\n",
    "    input_data = get_embed(input_data, vocab_size, embed_dim)\n",
    "    outputs,FinalState = build_rnn(cell, input_data)\n",
    "    Logits = tf.contrib.layers.fully_connected(outputs, vocab_size,activation_fn=None)\n",
    "    return (Logits, FinalState)\n",
    "\n",
    "\n",
    "\"\"\"\n",
    "DON'T MODIFY ANYTHING IN THIS CELL THAT IS BELOW THIS LINE\n",
    "\"\"\"\n",
    "tests.test_build_nn(build_nn)"
   ]
  },
  {
   "cell_type": "markdown",
   "metadata": {
    "deletable": true,
    "editable": true
   },
   "source": [
    "### Batches\n",
    "Implement `get_batches` to create batches of input and targets using `int_text`.  The batches should be a Numpy array with the shape `(number of batches, 2, batch size, sequence length)`. Each batch contains two elements:\n",
    "- The first element is a single batch of **input** with the shape `[batch size, sequence length]`\n",
    "- The second element is a single batch of **targets** with the shape `[batch size, sequence length]`\n",
    "\n",
    "If you can't fill the last batch with enough data, drop the last batch.\n",
    "\n",
    "For exmple, `get_batches([1, 2, 3, 4, 5, 6, 7, 8, 9, 10, 11, 12, 13, 14, 15, 16, 17, 18, 19, 20], 3, 2)` would return a Numpy array of the following:\n",
    "```\n",
    "[\n",
    "  # First Batch\n",
    "  [\n",
    "    # Batch of Input\n",
    "    [[ 1  2], [ 7  8], [13 14]]\n",
    "    # Batch of targets\n",
    "    [[ 2  3], [ 8  9], [14 15]]\n",
    "  ]\n",
    "\n",
    "  # Second Batch\n",
    "  [\n",
    "    # Batch of Input\n",
    "    [[ 3  4], [ 9 10], [15 16]]\n",
    "    # Batch of targets\n",
    "    [[ 4  5], [10 11], [16 17]]\n",
    "  ]\n",
    "\n",
    "  # Third Batch\n",
    "  [\n",
    "    # Batch of Input\n",
    "    [[ 5  6], [11 12], [17 18]]\n",
    "    # Batch of targets\n",
    "    [[ 6  7], [12 13], [18  1]]\n",
    "  ]\n",
    "]\n",
    "```\n",
    "\n",
    "Notice that the last target value in the last batch is the first input value of the first batch. In this case, `1`. This is a common technique used when creating sequence batches, although it is rather unintuitive."
   ]
  },
  {
   "cell_type": "code",
   "execution_count": 20,
   "metadata": {
    "collapsed": false,
    "deletable": true,
    "editable": true
   },
   "outputs": [
    {
     "name": "stdout",
     "output_type": "stream",
     "text": [
      "Tests Passed\n"
     ]
    }
   ],
   "source": [
    "def get_batches(int_text, batch_size, seq_length):\n",
    "    \"\"\"\n",
    "    Return batches of input and target\n",
    "    :param int_text: Text with the words replaced by their ids\n",
    "    :param batch_size: The size of batch\n",
    "    :param seq_length: The length of sequence\n",
    "    :return: Batches as a Numpy array\n",
    "    \"\"\"\n",
    "    # TODO: Implement Function\n",
    "    n_batches = len(int_text)//(batch_size*seq_length)\n",
    "    inputs = np.array(int_text[:n_batches*(batch_size*seq_length)])\n",
    "    targets = np.array(int_text[1:n_batches*(batch_size*seq_length)+1])\n",
    "    targets[-1]=inputs[0]\n",
    "    input_batches = np.split(inputs.reshape(batch_size, -1), n_batches, 1)\n",
    "    target_batches = np.split(targets.reshape(batch_size, -1), n_batches, 1)\n",
    "    output = np.array(list(zip(input_batches, target_batches)))\n",
    "    return output\n",
    "\n",
    "\n",
    "\"\"\"\n",
    "DON'T MODIFY ANYTHING IN THIS CELL THAT IS BELOW THIS LINE\n",
    "\"\"\"\n",
    "tests.test_get_batches(get_batches)"
   ]
  },
  {
   "cell_type": "markdown",
   "metadata": {
    "deletable": true,
    "editable": true
   },
   "source": [
    "## Neural Network Training\n",
    "### Hyperparameters\n",
    "Tune the following parameters:\n",
    "\n",
    "- Set `num_epochs` to the number of epochs.\n",
    "- Set `batch_size` to the batch size.\n",
    "- Set `rnn_size` to the size of the RNNs.\n",
    "- Set `embed_dim` to the size of the embedding.\n",
    "- Set `seq_length` to the length of sequence.\n",
    "- Set `learning_rate` to the learning rate.\n",
    "- Set `show_every_n_batches` to the number of batches the neural network should print progress."
   ]
  },
  {
   "cell_type": "code",
   "execution_count": 21,
   "metadata": {
    "collapsed": true,
    "deletable": true,
    "editable": true
   },
   "outputs": [],
   "source": [
    "# Number of Epochs\n",
    "num_epochs = 1 #20\n",
    "# Batch Size\n",
    "batch_size = 10 #100\n",
    "# RNN Size\n",
    "rnn_size = 5 #512\n",
    "# Embedding Dimension Size\n",
    "embed_dim = 5 #None\n",
    "# Sequence Length\n",
    "seq_length = 5 #None\n",
    "# Learning Rate\n",
    "learning_rate = .01 #0.001\n",
    "# Show stats for every n number of batches\n",
    "show_every_n_batches = 4\n",
    "\n",
    "\"\"\"\n",
    "DON'T MODIFY ANYTHING IN THIS CELL THAT IS BELOW THIS LINE\n",
    "\"\"\"\n",
    "save_dir = './save'"
   ]
  },
  {
   "cell_type": "markdown",
   "metadata": {
    "deletable": true,
    "editable": true
   },
   "source": [
    "### Build the Graph\n",
    "Build the graph using the neural network you implemented."
   ]
  },
  {
   "cell_type": "code",
   "execution_count": 22,
   "metadata": {
    "collapsed": false,
    "deletable": true,
    "editable": true
   },
   "outputs": [],
   "source": [
    "\"\"\"\n",
    "DON'T MODIFY ANYTHING IN THIS CELL\n",
    "\"\"\"\n",
    "from tensorflow.contrib import seq2seq\n",
    "\n",
    "train_graph = tf.Graph()\n",
    "with train_graph.as_default():\n",
    "    vocab_size = len(int_to_vocab)\n",
    "    input_text, targets, lr = get_inputs()\n",
    "    input_data_shape = tf.shape(input_text)\n",
    "    cell, initial_state = get_init_cell(input_data_shape[0], rnn_size)\n",
    "    logits, final_state = build_nn(cell, rnn_size, input_text, vocab_size, embed_dim)\n",
    "\n",
    "    # Probabilities for generating words\n",
    "    probs = tf.nn.softmax(logits, name='probs')\n",
    "\n",
    "    # Loss function\n",
    "    cost = seq2seq.sequence_loss(\n",
    "        logits,\n",
    "        targets,\n",
    "        tf.ones([input_data_shape[0], input_data_shape[1]]))\n",
    "\n",
    "    # Optimizer\n",
    "    optimizer = tf.train.AdamOptimizer(lr)\n",
    "\n",
    "    # Gradient Clipping\n",
    "    gradients = optimizer.compute_gradients(cost)\n",
    "    capped_gradients = [(tf.clip_by_value(grad, -1., 1.), var) for grad, var in gradients if grad is not None]\n",
    "    train_op = optimizer.apply_gradients(capped_gradients)"
   ]
  },
  {
   "cell_type": "markdown",
   "metadata": {
    "deletable": true,
    "editable": true
   },
   "source": [
    "## Train\n",
    "Train the neural network on the preprocessed data.  If you have a hard time getting a good loss, check the [forums](https://discussions.udacity.com/) to see if anyone is having the same problem."
   ]
  },
  {
   "cell_type": "code",
   "execution_count": 23,
   "metadata": {
    "collapsed": false,
    "deletable": true,
    "editable": true
   },
   "outputs": [
    {
     "name": "stdout",
     "output_type": "stream",
     "text": [
      "Epoch   0 Batch    0/1462   train_loss = 8.808\n",
      "Epoch   0 Batch    4/1462   train_loss = 8.755\n",
      "Epoch   0 Batch    8/1462   train_loss = 8.679\n",
      "Epoch   0 Batch   12/1462   train_loss = 8.455\n",
      "Epoch   0 Batch   16/1462   train_loss = 8.341\n",
      "Epoch   0 Batch   20/1462   train_loss = 8.049\n",
      "Epoch   0 Batch   24/1462   train_loss = 7.657\n",
      "Epoch   0 Batch   28/1462   train_loss = 7.295\n",
      "Epoch   0 Batch   32/1462   train_loss = 7.140\n",
      "Epoch   0 Batch   36/1462   train_loss = 6.856\n",
      "Epoch   0 Batch   40/1462   train_loss = 7.148\n",
      "Epoch   0 Batch   44/1462   train_loss = 6.793\n",
      "Epoch   0 Batch   48/1462   train_loss = 6.662\n",
      "Epoch   0 Batch   52/1462   train_loss = 6.365\n",
      "Epoch   0 Batch   56/1462   train_loss = 6.151\n",
      "Epoch   0 Batch   60/1462   train_loss = 5.930\n",
      "Epoch   0 Batch   64/1462   train_loss = 7.072\n",
      "Epoch   0 Batch   68/1462   train_loss = 6.212\n",
      "Epoch   0 Batch   72/1462   train_loss = 6.203\n",
      "Epoch   0 Batch   76/1462   train_loss = 6.510\n",
      "Epoch   0 Batch   80/1462   train_loss = 6.281\n",
      "Epoch   0 Batch   84/1462   train_loss = 6.607\n",
      "Epoch   0 Batch   88/1462   train_loss = 5.969\n",
      "Epoch   0 Batch   92/1462   train_loss = 6.334\n",
      "Epoch   0 Batch   96/1462   train_loss = 5.543\n",
      "Epoch   0 Batch  100/1462   train_loss = 5.943\n",
      "Epoch   0 Batch  104/1462   train_loss = 5.569\n",
      "Epoch   0 Batch  108/1462   train_loss = 6.285\n",
      "Epoch   0 Batch  112/1462   train_loss = 5.586\n",
      "Epoch   0 Batch  116/1462   train_loss = 6.201\n",
      "Epoch   0 Batch  120/1462   train_loss = 6.095\n",
      "Epoch   0 Batch  124/1462   train_loss = 6.054\n",
      "Epoch   0 Batch  128/1462   train_loss = 6.150\n",
      "Epoch   0 Batch  132/1462   train_loss = 6.356\n",
      "Epoch   0 Batch  136/1462   train_loss = 5.457\n",
      "Epoch   0 Batch  140/1462   train_loss = 6.015\n",
      "Epoch   0 Batch  144/1462   train_loss = 6.025\n",
      "Epoch   0 Batch  148/1462   train_loss = 5.555\n",
      "Epoch   0 Batch  152/1462   train_loss = 5.793\n",
      "Epoch   0 Batch  156/1462   train_loss = 6.051\n",
      "Epoch   0 Batch  160/1462   train_loss = 6.617\n",
      "Epoch   0 Batch  164/1462   train_loss = 5.899\n",
      "Epoch   0 Batch  168/1462   train_loss = 6.008\n",
      "Epoch   0 Batch  172/1462   train_loss = 5.378\n",
      "Epoch   0 Batch  176/1462   train_loss = 5.858\n",
      "Epoch   0 Batch  180/1462   train_loss = 5.671\n",
      "Epoch   0 Batch  184/1462   train_loss = 6.523\n",
      "Epoch   0 Batch  188/1462   train_loss = 5.708\n",
      "Epoch   0 Batch  192/1462   train_loss = 5.565\n",
      "Epoch   0 Batch  196/1462   train_loss = 6.242\n",
      "Epoch   0 Batch  200/1462   train_loss = 6.054\n",
      "Epoch   0 Batch  204/1462   train_loss = 6.078\n",
      "Epoch   0 Batch  208/1462   train_loss = 5.813\n",
      "Epoch   0 Batch  212/1462   train_loss = 6.520\n",
      "Epoch   0 Batch  216/1462   train_loss = 6.428\n",
      "Epoch   0 Batch  220/1462   train_loss = 5.669\n",
      "Epoch   0 Batch  224/1462   train_loss = 5.788\n",
      "Epoch   0 Batch  228/1462   train_loss = 5.698\n",
      "Epoch   0 Batch  232/1462   train_loss = 6.494\n",
      "Epoch   0 Batch  236/1462   train_loss = 6.745\n",
      "Epoch   0 Batch  240/1462   train_loss = 5.973\n",
      "Epoch   0 Batch  244/1462   train_loss = 6.108\n",
      "Epoch   0 Batch  248/1462   train_loss = 5.652\n",
      "Epoch   0 Batch  252/1462   train_loss = 6.200\n",
      "Epoch   0 Batch  256/1462   train_loss = 6.476\n",
      "Epoch   0 Batch  260/1462   train_loss = 6.179\n",
      "Epoch   0 Batch  264/1462   train_loss = 6.246\n",
      "Epoch   0 Batch  268/1462   train_loss = 6.392\n",
      "Epoch   0 Batch  272/1462   train_loss = 6.325\n",
      "Epoch   0 Batch  276/1462   train_loss = 6.000\n",
      "Epoch   0 Batch  280/1462   train_loss = 6.318\n",
      "Epoch   0 Batch  284/1462   train_loss = 5.938\n",
      "Epoch   0 Batch  288/1462   train_loss = 5.876\n",
      "Epoch   0 Batch  292/1462   train_loss = 6.484\n",
      "Epoch   0 Batch  296/1462   train_loss = 6.318\n",
      "Epoch   0 Batch  300/1462   train_loss = 5.755\n",
      "Epoch   0 Batch  304/1462   train_loss = 6.172\n",
      "Epoch   0 Batch  308/1462   train_loss = 5.584\n",
      "Epoch   0 Batch  312/1462   train_loss = 5.372\n",
      "Epoch   0 Batch  316/1462   train_loss = 5.687\n",
      "Epoch   0 Batch  320/1462   train_loss = 5.950\n",
      "Epoch   0 Batch  324/1462   train_loss = 5.308\n",
      "Epoch   0 Batch  328/1462   train_loss = 5.934\n",
      "Epoch   0 Batch  332/1462   train_loss = 6.606\n",
      "Epoch   0 Batch  336/1462   train_loss = 5.329\n",
      "Epoch   0 Batch  340/1462   train_loss = 5.915\n",
      "Epoch   0 Batch  344/1462   train_loss = 5.800\n",
      "Epoch   0 Batch  348/1462   train_loss = 5.264\n",
      "Epoch   0 Batch  352/1462   train_loss = 5.195\n",
      "Epoch   0 Batch  356/1462   train_loss = 6.321\n",
      "Epoch   0 Batch  360/1462   train_loss = 5.827\n",
      "Epoch   0 Batch  364/1462   train_loss = 5.172\n",
      "Epoch   0 Batch  368/1462   train_loss = 5.433\n",
      "Epoch   0 Batch  372/1462   train_loss = 5.040\n",
      "Epoch   0 Batch  376/1462   train_loss = 6.170\n",
      "Epoch   0 Batch  380/1462   train_loss = 6.159\n",
      "Epoch   0 Batch  384/1462   train_loss = 5.332\n",
      "Epoch   0 Batch  388/1462   train_loss = 7.218\n",
      "Epoch   0 Batch  392/1462   train_loss = 5.742\n",
      "Epoch   0 Batch  396/1462   train_loss = 5.877\n",
      "Epoch   0 Batch  400/1462   train_loss = 5.842\n",
      "Epoch   0 Batch  404/1462   train_loss = 5.477\n",
      "Epoch   0 Batch  408/1462   train_loss = 5.430\n",
      "Epoch   0 Batch  412/1462   train_loss = 4.953\n",
      "Epoch   0 Batch  416/1462   train_loss = 5.270\n",
      "Epoch   0 Batch  420/1462   train_loss = 6.015\n",
      "Epoch   0 Batch  424/1462   train_loss = 5.156\n",
      "Epoch   0 Batch  428/1462   train_loss = 6.689\n",
      "Epoch   0 Batch  432/1462   train_loss = 5.687\n",
      "Epoch   0 Batch  436/1462   train_loss = 5.339\n",
      "Epoch   0 Batch  440/1462   train_loss = 5.497\n",
      "Epoch   0 Batch  444/1462   train_loss = 6.001\n",
      "Epoch   0 Batch  448/1462   train_loss = 6.191\n",
      "Epoch   0 Batch  452/1462   train_loss = 5.589\n",
      "Epoch   0 Batch  456/1462   train_loss = 5.624\n",
      "Epoch   0 Batch  460/1462   train_loss = 5.506\n",
      "Epoch   0 Batch  464/1462   train_loss = 5.217\n",
      "Epoch   0 Batch  468/1462   train_loss = 5.966\n",
      "Epoch   0 Batch  472/1462   train_loss = 6.387\n",
      "Epoch   0 Batch  476/1462   train_loss = 6.210\n",
      "Epoch   0 Batch  480/1462   train_loss = 5.978\n",
      "Epoch   0 Batch  484/1462   train_loss = 6.638\n",
      "Epoch   0 Batch  488/1462   train_loss = 6.375\n",
      "Epoch   0 Batch  492/1462   train_loss = 5.190\n",
      "Epoch   0 Batch  496/1462   train_loss = 5.901\n",
      "Epoch   0 Batch  500/1462   train_loss = 5.875\n",
      "Epoch   0 Batch  504/1462   train_loss = 4.673\n",
      "Epoch   0 Batch  508/1462   train_loss = 6.075\n",
      "Epoch   0 Batch  512/1462   train_loss = 5.256\n",
      "Epoch   0 Batch  516/1462   train_loss = 6.553\n",
      "Epoch   0 Batch  520/1462   train_loss = 6.377\n",
      "Epoch   0 Batch  524/1462   train_loss = 5.597\n",
      "Epoch   0 Batch  528/1462   train_loss = 6.036\n",
      "Epoch   0 Batch  532/1462   train_loss = 5.756\n",
      "Epoch   0 Batch  536/1462   train_loss = 6.516\n",
      "Epoch   0 Batch  540/1462   train_loss = 6.730\n",
      "Epoch   0 Batch  544/1462   train_loss = 5.427\n",
      "Epoch   0 Batch  548/1462   train_loss = 6.027\n",
      "Epoch   0 Batch  552/1462   train_loss = 5.931\n",
      "Epoch   0 Batch  556/1462   train_loss = 6.397\n",
      "Epoch   0 Batch  560/1462   train_loss = 4.966\n",
      "Epoch   0 Batch  564/1462   train_loss = 6.418\n",
      "Epoch   0 Batch  568/1462   train_loss = 5.740\n",
      "Epoch   0 Batch  572/1462   train_loss = 5.819\n",
      "Epoch   0 Batch  576/1462   train_loss = 6.244\n",
      "Epoch   0 Batch  580/1462   train_loss = 5.964\n",
      "Epoch   0 Batch  584/1462   train_loss = 6.346\n",
      "Epoch   0 Batch  588/1462   train_loss = 5.815\n",
      "Epoch   0 Batch  592/1462   train_loss = 5.841\n",
      "Epoch   0 Batch  596/1462   train_loss = 6.246\n",
      "Epoch   0 Batch  600/1462   train_loss = 6.386\n",
      "Epoch   0 Batch  604/1462   train_loss = 5.857\n",
      "Epoch   0 Batch  608/1462   train_loss = 5.867\n",
      "Epoch   0 Batch  612/1462   train_loss = 5.998\n",
      "Epoch   0 Batch  616/1462   train_loss = 6.428\n",
      "Epoch   0 Batch  620/1462   train_loss = 5.715\n",
      "Epoch   0 Batch  624/1462   train_loss = 5.370\n",
      "Epoch   0 Batch  628/1462   train_loss = 5.447\n",
      "Epoch   0 Batch  632/1462   train_loss = 5.217\n",
      "Epoch   0 Batch  636/1462   train_loss = 5.878\n",
      "Epoch   0 Batch  640/1462   train_loss = 6.097\n",
      "Epoch   0 Batch  644/1462   train_loss = 5.670\n",
      "Epoch   0 Batch  648/1462   train_loss = 5.781\n",
      "Epoch   0 Batch  652/1462   train_loss = 6.040\n",
      "Epoch   0 Batch  656/1462   train_loss = 5.945\n",
      "Epoch   0 Batch  660/1462   train_loss = 6.651\n",
      "Epoch   0 Batch  664/1462   train_loss = 6.005\n",
      "Epoch   0 Batch  668/1462   train_loss = 6.045\n",
      "Epoch   0 Batch  672/1462   train_loss = 6.098\n",
      "Epoch   0 Batch  676/1462   train_loss = 6.052\n",
      "Epoch   0 Batch  680/1462   train_loss = 6.012\n",
      "Epoch   0 Batch  684/1462   train_loss = 5.542\n",
      "Epoch   0 Batch  688/1462   train_loss = 5.835\n",
      "Epoch   0 Batch  692/1462   train_loss = 5.485\n",
      "Epoch   0 Batch  696/1462   train_loss = 6.904\n",
      "Epoch   0 Batch  700/1462   train_loss = 6.033\n",
      "Epoch   0 Batch  704/1462   train_loss = 6.682\n",
      "Epoch   0 Batch  708/1462   train_loss = 5.915\n",
      "Epoch   0 Batch  712/1462   train_loss = 5.903\n",
      "Epoch   0 Batch  716/1462   train_loss = 5.439\n",
      "Epoch   0 Batch  720/1462   train_loss = 5.660\n",
      "Epoch   0 Batch  724/1462   train_loss = 6.496\n",
      "Epoch   0 Batch  728/1462   train_loss = 6.162\n",
      "Epoch   0 Batch  732/1462   train_loss = 6.477\n",
      "Epoch   0 Batch  736/1462   train_loss = 5.194\n",
      "Epoch   0 Batch  740/1462   train_loss = 5.506\n",
      "Epoch   0 Batch  744/1462   train_loss = 5.516\n",
      "Epoch   0 Batch  748/1462   train_loss = 5.861\n",
      "Epoch   0 Batch  752/1462   train_loss = 6.126\n",
      "Epoch   0 Batch  756/1462   train_loss = 5.945\n",
      "Epoch   0 Batch  760/1462   train_loss = 6.334\n",
      "Epoch   0 Batch  764/1462   train_loss = 5.968\n",
      "Epoch   0 Batch  768/1462   train_loss = 5.316\n",
      "Epoch   0 Batch  772/1462   train_loss = 5.383\n",
      "Epoch   0 Batch  776/1462   train_loss = 6.163\n",
      "Epoch   0 Batch  780/1462   train_loss = 5.686\n",
      "Epoch   0 Batch  784/1462   train_loss = 5.821\n",
      "Epoch   0 Batch  788/1462   train_loss = 5.779\n",
      "Epoch   0 Batch  792/1462   train_loss = 5.554\n",
      "Epoch   0 Batch  796/1462   train_loss = 6.156\n",
      "Epoch   0 Batch  800/1462   train_loss = 6.232\n",
      "Epoch   0 Batch  804/1462   train_loss = 5.641\n",
      "Epoch   0 Batch  808/1462   train_loss = 5.617\n",
      "Epoch   0 Batch  812/1462   train_loss = 5.261\n",
      "Epoch   0 Batch  816/1462   train_loss = 5.900\n",
      "Epoch   0 Batch  820/1462   train_loss = 5.662\n",
      "Epoch   0 Batch  824/1462   train_loss = 6.146\n",
      "Epoch   0 Batch  828/1462   train_loss = 4.541\n",
      "Epoch   0 Batch  832/1462   train_loss = 5.957\n",
      "Epoch   0 Batch  836/1462   train_loss = 5.769\n",
      "Epoch   0 Batch  840/1462   train_loss = 5.995\n",
      "Epoch   0 Batch  844/1462   train_loss = 4.721\n",
      "Epoch   0 Batch  848/1462   train_loss = 6.082\n",
      "Epoch   0 Batch  852/1462   train_loss = 6.135\n",
      "Epoch   0 Batch  856/1462   train_loss = 6.137\n",
      "Epoch   0 Batch  860/1462   train_loss = 5.297\n",
      "Epoch   0 Batch  864/1462   train_loss = 5.448\n",
      "Epoch   0 Batch  868/1462   train_loss = 5.032\n",
      "Epoch   0 Batch  872/1462   train_loss = 6.447\n",
      "Epoch   0 Batch  876/1462   train_loss = 6.029\n",
      "Epoch   0 Batch  880/1462   train_loss = 5.936\n",
      "Epoch   0 Batch  884/1462   train_loss = 6.439\n",
      "Epoch   0 Batch  888/1462   train_loss = 5.739\n",
      "Epoch   0 Batch  892/1462   train_loss = 5.088\n",
      "Epoch   0 Batch  896/1462   train_loss = 5.426\n",
      "Epoch   0 Batch  900/1462   train_loss = 5.808\n",
      "Epoch   0 Batch  904/1462   train_loss = 3.878\n",
      "Epoch   0 Batch  908/1462   train_loss = 5.365\n",
      "Epoch   0 Batch  912/1462   train_loss = 4.792\n",
      "Epoch   0 Batch  916/1462   train_loss = 5.551\n",
      "Epoch   0 Batch  920/1462   train_loss = 6.127\n",
      "Epoch   0 Batch  924/1462   train_loss = 6.136\n",
      "Epoch   0 Batch  928/1462   train_loss = 5.428\n",
      "Epoch   0 Batch  932/1462   train_loss = 5.734\n",
      "Epoch   0 Batch  936/1462   train_loss = 5.891\n",
      "Epoch   0 Batch  940/1462   train_loss = 5.597\n",
      "Epoch   0 Batch  944/1462   train_loss = 5.325\n",
      "Epoch   0 Batch  948/1462   train_loss = 4.917\n",
      "Epoch   0 Batch  952/1462   train_loss = 5.670\n",
      "Epoch   0 Batch  956/1462   train_loss = 5.450\n",
      "Epoch   0 Batch  960/1462   train_loss = 5.865\n",
      "Epoch   0 Batch  964/1462   train_loss = 5.543\n",
      "Epoch   0 Batch  968/1462   train_loss = 4.601\n",
      "Epoch   0 Batch  972/1462   train_loss = 5.710\n",
      "Epoch   0 Batch  976/1462   train_loss = 5.851\n",
      "Epoch   0 Batch  980/1462   train_loss = 5.401\n",
      "Epoch   0 Batch  984/1462   train_loss = 5.321\n",
      "Epoch   0 Batch  988/1462   train_loss = 5.983\n",
      "Epoch   0 Batch  992/1462   train_loss = 5.959\n",
      "Epoch   0 Batch  996/1462   train_loss = 5.345\n",
      "Epoch   0 Batch 1000/1462   train_loss = 6.240\n",
      "Epoch   0 Batch 1004/1462   train_loss = 5.086\n",
      "Epoch   0 Batch 1008/1462   train_loss = 4.955\n",
      "Epoch   0 Batch 1012/1462   train_loss = 5.770\n",
      "Epoch   0 Batch 1016/1462   train_loss = 4.856\n",
      "Epoch   0 Batch 1020/1462   train_loss = 5.773\n",
      "Epoch   0 Batch 1024/1462   train_loss = 5.538\n",
      "Epoch   0 Batch 1028/1462   train_loss = 5.664\n",
      "Epoch   0 Batch 1032/1462   train_loss = 5.565\n",
      "Epoch   0 Batch 1036/1462   train_loss = 5.071\n",
      "Epoch   0 Batch 1040/1462   train_loss = 6.346\n",
      "Epoch   0 Batch 1044/1462   train_loss = 6.313\n",
      "Epoch   0 Batch 1048/1462   train_loss = 6.209\n",
      "Epoch   0 Batch 1052/1462   train_loss = 5.089\n",
      "Epoch   0 Batch 1056/1462   train_loss = 5.685\n",
      "Epoch   0 Batch 1060/1462   train_loss = 5.356\n",
      "Epoch   0 Batch 1064/1462   train_loss = 4.740\n",
      "Epoch   0 Batch 1068/1462   train_loss = 6.502\n",
      "Epoch   0 Batch 1072/1462   train_loss = 5.209\n",
      "Epoch   0 Batch 1076/1462   train_loss = 4.458\n",
      "Epoch   0 Batch 1080/1462   train_loss = 4.748\n",
      "Epoch   0 Batch 1084/1462   train_loss = 5.819\n",
      "Epoch   0 Batch 1088/1462   train_loss = 5.039\n",
      "Epoch   0 Batch 1092/1462   train_loss = 5.562\n",
      "Epoch   0 Batch 1096/1462   train_loss = 5.809\n",
      "Epoch   0 Batch 1100/1462   train_loss = 4.849\n",
      "Epoch   0 Batch 1104/1462   train_loss = 5.033\n",
      "Epoch   0 Batch 1108/1462   train_loss = 5.723\n",
      "Epoch   0 Batch 1112/1462   train_loss = 5.520\n",
      "Epoch   0 Batch 1116/1462   train_loss = 4.878\n",
      "Epoch   0 Batch 1120/1462   train_loss = 5.781\n",
      "Epoch   0 Batch 1124/1462   train_loss = 5.105\n",
      "Epoch   0 Batch 1128/1462   train_loss = 5.079\n",
      "Epoch   0 Batch 1132/1462   train_loss = 4.909\n",
      "Epoch   0 Batch 1136/1462   train_loss = 4.775\n",
      "Epoch   0 Batch 1140/1462   train_loss = 5.465\n",
      "Epoch   0 Batch 1144/1462   train_loss = 5.574\n",
      "Epoch   0 Batch 1148/1462   train_loss = 5.818\n",
      "Epoch   0 Batch 1152/1462   train_loss = 5.729\n",
      "Epoch   0 Batch 1156/1462   train_loss = 5.471\n",
      "Epoch   0 Batch 1160/1462   train_loss = 5.269\n",
      "Epoch   0 Batch 1164/1462   train_loss = 5.647\n",
      "Epoch   0 Batch 1168/1462   train_loss = 4.853\n",
      "Epoch   0 Batch 1172/1462   train_loss = 6.004\n",
      "Epoch   0 Batch 1176/1462   train_loss = 5.340\n",
      "Epoch   0 Batch 1180/1462   train_loss = 6.307\n",
      "Epoch   0 Batch 1184/1462   train_loss = 5.106\n",
      "Epoch   0 Batch 1188/1462   train_loss = 5.408\n",
      "Epoch   0 Batch 1192/1462   train_loss = 5.312\n",
      "Epoch   0 Batch 1196/1462   train_loss = 5.628\n",
      "Epoch   0 Batch 1200/1462   train_loss = 6.675\n",
      "Epoch   0 Batch 1204/1462   train_loss = 4.199\n",
      "Epoch   0 Batch 1208/1462   train_loss = 5.325\n",
      "Epoch   0 Batch 1212/1462   train_loss = 5.422\n",
      "Epoch   0 Batch 1216/1462   train_loss = 4.567\n",
      "Epoch   0 Batch 1220/1462   train_loss = 5.559\n",
      "Epoch   0 Batch 1224/1462   train_loss = 5.319\n",
      "Epoch   0 Batch 1228/1462   train_loss = 5.872\n",
      "Epoch   0 Batch 1232/1462   train_loss = 5.294\n",
      "Epoch   0 Batch 1236/1462   train_loss = 6.291\n",
      "Epoch   0 Batch 1240/1462   train_loss = 4.879\n",
      "Epoch   0 Batch 1244/1462   train_loss = 5.542\n",
      "Epoch   0 Batch 1248/1462   train_loss = 4.961\n",
      "Epoch   0 Batch 1252/1462   train_loss = 5.681\n",
      "Epoch   0 Batch 1256/1462   train_loss = 5.101\n",
      "Epoch   0 Batch 1260/1462   train_loss = 4.858\n",
      "Epoch   0 Batch 1264/1462   train_loss = 4.648\n",
      "Epoch   0 Batch 1268/1462   train_loss = 5.509\n",
      "Epoch   0 Batch 1272/1462   train_loss = 6.366\n",
      "Epoch   0 Batch 1276/1462   train_loss = 5.614\n",
      "Epoch   0 Batch 1280/1462   train_loss = 4.536\n",
      "Epoch   0 Batch 1284/1462   train_loss = 5.733\n",
      "Epoch   0 Batch 1288/1462   train_loss = 5.803\n",
      "Epoch   0 Batch 1292/1462   train_loss = 4.838\n",
      "Epoch   0 Batch 1296/1462   train_loss = 4.667\n",
      "Epoch   0 Batch 1300/1462   train_loss = 4.397\n",
      "Epoch   0 Batch 1304/1462   train_loss = 6.075\n",
      "Epoch   0 Batch 1308/1462   train_loss = 5.845\n",
      "Epoch   0 Batch 1312/1462   train_loss = 5.120\n",
      "Epoch   0 Batch 1316/1462   train_loss = 5.169\n",
      "Epoch   0 Batch 1320/1462   train_loss = 4.526\n",
      "Epoch   0 Batch 1324/1462   train_loss = 5.811\n",
      "Epoch   0 Batch 1328/1462   train_loss = 5.828\n",
      "Epoch   0 Batch 1332/1462   train_loss = 5.919\n",
      "Epoch   0 Batch 1336/1462   train_loss = 6.162\n",
      "Epoch   0 Batch 1340/1462   train_loss = 5.074\n",
      "Epoch   0 Batch 1344/1462   train_loss = 4.921\n",
      "Epoch   0 Batch 1348/1462   train_loss = 5.377\n",
      "Epoch   0 Batch 1352/1462   train_loss = 4.779\n",
      "Epoch   0 Batch 1356/1462   train_loss = 4.984\n",
      "Epoch   0 Batch 1360/1462   train_loss = 5.326\n",
      "Epoch   0 Batch 1364/1462   train_loss = 6.013\n",
      "Epoch   0 Batch 1368/1462   train_loss = 4.815\n",
      "Epoch   0 Batch 1372/1462   train_loss = 5.419\n",
      "Epoch   0 Batch 1376/1462   train_loss = 6.296\n",
      "Epoch   0 Batch 1380/1462   train_loss = 6.437\n",
      "Epoch   0 Batch 1384/1462   train_loss = 4.206\n",
      "Epoch   0 Batch 1388/1462   train_loss = 5.076\n",
      "Epoch   0 Batch 1392/1462   train_loss = 5.987\n",
      "Epoch   0 Batch 1396/1462   train_loss = 5.194\n",
      "Epoch   0 Batch 1400/1462   train_loss = 5.614\n",
      "Epoch   0 Batch 1404/1462   train_loss = 5.306\n",
      "Epoch   0 Batch 1408/1462   train_loss = 4.680\n",
      "Epoch   0 Batch 1412/1462   train_loss = 5.986\n",
      "Epoch   0 Batch 1416/1462   train_loss = 6.238\n",
      "Epoch   0 Batch 1420/1462   train_loss = 5.442\n",
      "Epoch   0 Batch 1424/1462   train_loss = 5.670\n",
      "Epoch   0 Batch 1428/1462   train_loss = 6.075\n",
      "Epoch   0 Batch 1432/1462   train_loss = 5.944\n",
      "Epoch   0 Batch 1436/1462   train_loss = 4.775\n",
      "Epoch   0 Batch 1440/1462   train_loss = 5.082\n",
      "Epoch   0 Batch 1444/1462   train_loss = 6.502\n",
      "Epoch   0 Batch 1448/1462   train_loss = 4.926\n",
      "Epoch   0 Batch 1452/1462   train_loss = 5.761\n",
      "Epoch   0 Batch 1456/1462   train_loss = 4.778\n",
      "Epoch   0 Batch 1460/1462   train_loss = 4.820\n",
      "Model Trained and Saved\n"
     ]
    }
   ],
   "source": [
    "\"\"\"\n",
    "DON'T MODIFY ANYTHING IN THIS CELL\n",
    "\"\"\"\n",
    "batches = get_batches(int_text, batch_size, seq_length)\n",
    "\n",
    "with tf.Session(graph=train_graph) as sess:\n",
    "    sess.run(tf.global_variables_initializer())\n",
    "\n",
    "    for epoch_i in range(num_epochs):\n",
    "        state = sess.run(initial_state, {input_text: batches[0][0]})\n",
    "\n",
    "        for batch_i, (x, y) in enumerate(batches):\n",
    "            feed = {\n",
    "                input_text: x,\n",
    "                targets: y,\n",
    "                initial_state: state,\n",
    "                lr: learning_rate}\n",
    "            train_loss, state, _ = sess.run([cost, final_state, train_op], feed)\n",
    "\n",
    "            # Show every <show_every_n_batches> batches\n",
    "            if (epoch_i * len(batches) + batch_i) % show_every_n_batches == 0:\n",
    "                print('Epoch {:>3} Batch {:>4}/{}   train_loss = {:.3f}'.format(\n",
    "                    epoch_i,\n",
    "                    batch_i,\n",
    "                    len(batches),\n",
    "                    train_loss))\n",
    "\n",
    "    # Save Model\n",
    "    saver = tf.train.Saver()\n",
    "    saver.save(sess, save_dir)\n",
    "    print('Model Trained and Saved')"
   ]
  },
  {
   "cell_type": "markdown",
   "metadata": {
    "deletable": true,
    "editable": true
   },
   "source": [
    "## Save Parameters\n",
    "Save `seq_length` and `save_dir` for generating a new TV script."
   ]
  },
  {
   "cell_type": "code",
   "execution_count": 24,
   "metadata": {
    "collapsed": false,
    "deletable": true,
    "editable": true
   },
   "outputs": [],
   "source": [
    "\"\"\"\n",
    "DON'T MODIFY ANYTHING IN THIS CELL\n",
    "\"\"\"\n",
    "# Save parameters for checkpoint\n",
    "helper.save_params((seq_length, save_dir))"
   ]
  },
  {
   "cell_type": "markdown",
   "metadata": {
    "deletable": true,
    "editable": true
   },
   "source": [
    "# Checkpoint"
   ]
  },
  {
   "cell_type": "code",
   "execution_count": 25,
   "metadata": {
    "collapsed": false,
    "deletable": true,
    "editable": true
   },
   "outputs": [],
   "source": [
    "\"\"\"\n",
    "DON'T MODIFY ANYTHING IN THIS CELL\n",
    "\"\"\"\n",
    "import tensorflow as tf\n",
    "import numpy as np\n",
    "import helper\n",
    "import problem_unittests as tests\n",
    "\n",
    "_, vocab_to_int, int_to_vocab, token_dict = helper.load_preprocess()\n",
    "seq_length, load_dir = helper.load_params()"
   ]
  },
  {
   "cell_type": "markdown",
   "metadata": {
    "deletable": true,
    "editable": true
   },
   "source": [
    "## Implement Generate Functions\n",
    "### Get Tensors\n",
    "Get tensors from `loaded_graph` using the function [`get_tensor_by_name()`](https://www.tensorflow.org/api_docs/python/tf/Graph#get_tensor_by_name).  Get the tensors using the following names:\n",
    "- \"input:0\"\n",
    "- \"initial_state:0\"\n",
    "- \"final_state:0\"\n",
    "- \"probs:0\"\n",
    "\n",
    "Return the tensors in the following tuple `(InputTensor, InitialStateTensor, FinalStateTensor, ProbsTensor)` "
   ]
  },
  {
   "cell_type": "code",
   "execution_count": 26,
   "metadata": {
    "collapsed": false,
    "deletable": true,
    "editable": true
   },
   "outputs": [
    {
     "name": "stdout",
     "output_type": "stream",
     "text": [
      "Tests Passed\n"
     ]
    }
   ],
   "source": [
    "def get_tensors(loaded_graph):\n",
    "    \"\"\"\n",
    "    Get input, initial state, final state, and probabilities tensor from <loaded_graph>\n",
    "    :param loaded_graph: TensorFlow graph loaded from file\n",
    "    :return: Tuple (InputTensor, InitialStateTensor, FinalStateTensor, ProbsTensor)\n",
    "    \"\"\"\n",
    "    # TODO: Implement Function\n",
    "    #with tf.Session(graph=loaded_grap)\n",
    "    #session_graph = sess.run(loaded_graph)\n",
    "    InputTensor = loaded_graph.get_tensor_by_name(\"input:0\")\n",
    "    InitialStateTensor = loaded_graph.get_tensor_by_name(\"initial_state:0\")\n",
    "    finalStateTensor = loaded_graph.get_tensor_by_name(\"final_state:0\")\n",
    "    ProbsTensor = loaded_graph.get_tensor_by_name(\"probs:0\")\n",
    "    return (InputTensor, InitialStateTensor, finalStateTensor, ProbsTensor)\n",
    "\n",
    "\n",
    "\"\"\"\n",
    "DON'T MODIFY ANYTHING IN THIS CELL THAT IS BELOW THIS LINE\n",
    "\"\"\"\n",
    "tests.test_get_tensors(get_tensors)"
   ]
  },
  {
   "cell_type": "markdown",
   "metadata": {
    "deletable": true,
    "editable": true
   },
   "source": [
    "### Choose Word\n",
    "Implement the `pick_word()` function to select the next word using `probabilities`."
   ]
  },
  {
   "cell_type": "code",
   "execution_count": 27,
   "metadata": {
    "collapsed": false,
    "deletable": true,
    "editable": true
   },
   "outputs": [
    {
     "name": "stdout",
     "output_type": "stream",
     "text": [
      "dict_values(['this', 'is', 'a', 'test'])\n",
      "is\n",
      "Tests Passed\n"
     ]
    }
   ],
   "source": [
    "def pick_word(probabilities, int_to_vocab):\n",
    "    \"\"\"\n",
    "    Pick the next word in the generated text\n",
    "    :param probabilities: Probabilites of the next word\n",
    "    :param int_to_vocab: Dictionary of word ids as the keys and words as the values\n",
    "    :return: String of the predicted word\n",
    "    \"\"\"\n",
    "    # TODO: Implement Function\n",
    "    print (int_to_vocab.values())\n",
    "    print (np.random.choice(list(int_to_vocab.values()),1, list(probabilities))[0])\n",
    "    return np.random.choice(list(int_to_vocab.values()),1, list(probabilities))[0]\n",
    "\n",
    "\n",
    "\"\"\"\n",
    "DON'T MODIFY ANYTHING IN THIS CELL THAT IS BELOW THIS LINE\n",
    "\"\"\"\n",
    "tests.test_pick_word(pick_word)"
   ]
  },
  {
   "cell_type": "markdown",
   "metadata": {
    "deletable": true,
    "editable": true
   },
   "source": [
    "## Generate TV Script\n",
    "This will generate the TV script for you.  Set `gen_length` to the length of TV script you want to generate."
   ]
  },
  {
   "cell_type": "code",
   "execution_count": 28,
   "metadata": {
    "collapsed": false,
    "deletable": true,
    "editable": true
   },
   "outputs": [
    {
     "ename": "KeyError",
     "evalue": "'moe_szyslak:'",
     "output_type": "error",
     "traceback": [
      "\u001b[0;31m---------------------------------------------------------------------------\u001b[0m",
      "\u001b[0;31mKeyError\u001b[0m                                  Traceback (most recent call last)",
      "\u001b[0;32m<ipython-input-28-1db8abe06e71>\u001b[0m in \u001b[0;36m<module>\u001b[0;34m()\u001b[0m\n\u001b[1;32m     22\u001b[0m     \u001b[0;32mfor\u001b[0m \u001b[0mn\u001b[0m \u001b[0;32min\u001b[0m \u001b[0mrange\u001b[0m\u001b[0;34m(\u001b[0m\u001b[0mgen_length\u001b[0m\u001b[0;34m)\u001b[0m\u001b[0;34m:\u001b[0m\u001b[0;34m\u001b[0m\u001b[0m\n\u001b[1;32m     23\u001b[0m         \u001b[0;31m# Dynamic Input\u001b[0m\u001b[0;34m\u001b[0m\u001b[0;34m\u001b[0m\u001b[0m\n\u001b[0;32m---> 24\u001b[0;31m         \u001b[0mdyn_input\u001b[0m \u001b[0;34m=\u001b[0m \u001b[0;34m[\u001b[0m\u001b[0;34m[\u001b[0m\u001b[0mvocab_to_int\u001b[0m\u001b[0;34m[\u001b[0m\u001b[0mword\u001b[0m\u001b[0;34m]\u001b[0m \u001b[0;32mfor\u001b[0m \u001b[0mword\u001b[0m \u001b[0;32min\u001b[0m \u001b[0mgen_sentences\u001b[0m\u001b[0;34m[\u001b[0m\u001b[0;34m-\u001b[0m\u001b[0mseq_length\u001b[0m\u001b[0;34m:\u001b[0m\u001b[0;34m]\u001b[0m\u001b[0;34m]\u001b[0m\u001b[0;34m]\u001b[0m\u001b[0;34m\u001b[0m\u001b[0m\n\u001b[0m\u001b[1;32m     25\u001b[0m         \u001b[0mdyn_seq_length\u001b[0m \u001b[0;34m=\u001b[0m \u001b[0mlen\u001b[0m\u001b[0;34m(\u001b[0m\u001b[0mdyn_input\u001b[0m\u001b[0;34m[\u001b[0m\u001b[0;36m0\u001b[0m\u001b[0;34m]\u001b[0m\u001b[0;34m)\u001b[0m\u001b[0;34m\u001b[0m\u001b[0m\n\u001b[1;32m     26\u001b[0m \u001b[0;34m\u001b[0m\u001b[0m\n",
      "\u001b[0;32m<ipython-input-28-1db8abe06e71>\u001b[0m in \u001b[0;36m<listcomp>\u001b[0;34m(.0)\u001b[0m\n\u001b[1;32m     22\u001b[0m     \u001b[0;32mfor\u001b[0m \u001b[0mn\u001b[0m \u001b[0;32min\u001b[0m \u001b[0mrange\u001b[0m\u001b[0;34m(\u001b[0m\u001b[0mgen_length\u001b[0m\u001b[0;34m)\u001b[0m\u001b[0;34m:\u001b[0m\u001b[0;34m\u001b[0m\u001b[0m\n\u001b[1;32m     23\u001b[0m         \u001b[0;31m# Dynamic Input\u001b[0m\u001b[0;34m\u001b[0m\u001b[0;34m\u001b[0m\u001b[0m\n\u001b[0;32m---> 24\u001b[0;31m         \u001b[0mdyn_input\u001b[0m \u001b[0;34m=\u001b[0m \u001b[0;34m[\u001b[0m\u001b[0;34m[\u001b[0m\u001b[0mvocab_to_int\u001b[0m\u001b[0;34m[\u001b[0m\u001b[0mword\u001b[0m\u001b[0;34m]\u001b[0m \u001b[0;32mfor\u001b[0m \u001b[0mword\u001b[0m \u001b[0;32min\u001b[0m \u001b[0mgen_sentences\u001b[0m\u001b[0;34m[\u001b[0m\u001b[0;34m-\u001b[0m\u001b[0mseq_length\u001b[0m\u001b[0;34m:\u001b[0m\u001b[0;34m]\u001b[0m\u001b[0;34m]\u001b[0m\u001b[0;34m]\u001b[0m\u001b[0;34m\u001b[0m\u001b[0m\n\u001b[0m\u001b[1;32m     25\u001b[0m         \u001b[0mdyn_seq_length\u001b[0m \u001b[0;34m=\u001b[0m \u001b[0mlen\u001b[0m\u001b[0;34m(\u001b[0m\u001b[0mdyn_input\u001b[0m\u001b[0;34m[\u001b[0m\u001b[0;36m0\u001b[0m\u001b[0;34m]\u001b[0m\u001b[0;34m)\u001b[0m\u001b[0;34m\u001b[0m\u001b[0m\n\u001b[1;32m     26\u001b[0m \u001b[0;34m\u001b[0m\u001b[0m\n",
      "\u001b[0;31mKeyError\u001b[0m: 'moe_szyslak:'"
     ]
    }
   ],
   "source": [
    "gen_length = 200\n",
    "# homer_simpson, moe_szyslak, or Barney_Gumble\n",
    "prime_word = 'moe_szyslak'\n",
    "\n",
    "\"\"\"\n",
    "DON'T MODIFY ANYTHING IN THIS CELL THAT IS BELOW THIS LINE\n",
    "\"\"\"\n",
    "loaded_graph = tf.Graph()\n",
    "with tf.Session(graph=loaded_graph) as sess:\n",
    "    # Load saved model\n",
    "    loader = tf.train.import_meta_graph(load_dir + '.meta')\n",
    "    loader.restore(sess, load_dir)\n",
    "\n",
    "    # Get Tensors from loaded model\n",
    "    input_text, initial_state, final_state, probs = get_tensors(loaded_graph)\n",
    "\n",
    "    # Sentences generation setup\n",
    "    gen_sentences = [prime_word + ':']\n",
    "    prev_state = sess.run(initial_state, {input_text: np.array([[1]])})\n",
    "\n",
    "    # Generate sentences\n",
    "    for n in range(gen_length):\n",
    "        # Dynamic Input\n",
    "        dyn_input = [[vocab_to_int[word] for word in gen_sentences[-seq_length:]]]\n",
    "        dyn_seq_length = len(dyn_input[0])\n",
    "\n",
    "        # Get Prediction\n",
    "        probabilities, prev_state = sess.run(\n",
    "            [probs, final_state],\n",
    "            {input_text: dyn_input, initial_state: prev_state})\n",
    "        \n",
    "        pred_word = pick_word(probabilities[dyn_seq_length-1], int_to_vocab)\n",
    "\n",
    "        gen_sentences.append(pred_word)\n",
    "    \n",
    "    # Remove tokens\n",
    "    tv_script = ' '.join(gen_sentences)\n",
    "    for key, token in token_dict.items():\n",
    "        ending = ' ' if key in ['\\n', '(', '\"'] else ''\n",
    "        tv_script = tv_script.replace(' ' + token.lower(), key)\n",
    "    tv_script = tv_script.replace('\\n ', '\\n')\n",
    "    tv_script = tv_script.replace('( ', '(')\n",
    "        \n",
    "    print(tv_script)"
   ]
  },
  {
   "cell_type": "markdown",
   "metadata": {
    "deletable": true,
    "editable": true
   },
   "source": [
    "# The TV Script is Nonsensical\n",
    "It's ok if the TV script doesn't make any sense.  We trained on less than a megabyte of text.  In order to get good results, you'll have to use a smaller vocabulary or get more data.  Luckly there's more data!  As we mentioned in the begging of this project, this is a subset of [another dataset](https://www.kaggle.com/wcukierski/the-simpsons-by-the-data).  We didn't have you train on all the data, because that would take too long.  However, you are free to train your neural network on all the data.  After you complete the project, of course.\n",
    "# Submitting This Project\n",
    "When submitting this project, make sure to run all the cells before saving the notebook. Save the notebook file as \"dlnd_tv_script_generation.ipynb\" and save it as a HTML file under \"File\" -> \"Download as\". Include the \"helper.py\" and \"problem_unittests.py\" files in your submission."
   ]
  }
 ],
 "metadata": {
  "kernelspec": {
   "display_name": "Python 3",
   "language": "python",
   "name": "python3"
  },
  "language_info": {
   "codemirror_mode": {
    "name": "ipython",
    "version": 3
   },
   "file_extension": ".py",
   "mimetype": "text/x-python",
   "name": "python",
   "nbconvert_exporter": "python",
   "pygments_lexer": "ipython3",
   "version": "3.5.2"
  },
  "widgets": {
   "state": {},
   "version": "1.1.2"
  }
 },
 "nbformat": 4,
 "nbformat_minor": 0
}
