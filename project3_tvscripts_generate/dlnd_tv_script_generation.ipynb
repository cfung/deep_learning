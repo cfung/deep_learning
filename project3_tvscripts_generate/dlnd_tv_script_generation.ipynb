{
 "cells": [
  {
   "cell_type": "markdown",
   "metadata": {
    "deletable": true,
    "editable": true
   },
   "source": [
    "# TV Script Generation\n",
    "In this project, you'll generate your own [Simpsons](https://en.wikipedia.org/wiki/The_Simpsons) TV scripts using RNNs.  You'll be using part of the [Simpsons dataset](https://www.kaggle.com/wcukierski/the-simpsons-by-the-data) of scripts from 27 seasons.  The Neural Network you'll build will generate a new TV script for a scene at [Moe's Tavern](https://simpsonswiki.com/wiki/Moe's_Tavern).\n",
    "## Get the Data\n",
    "The data is already provided for you.  You'll be using a subset of the original dataset.  It consists of only the scenes in Moe's Tavern.  This doesn't include other versions of the tavern, like \"Moe's Cavern\", \"Flaming Moe's\", \"Uncle Moe's Family Feed-Bag\", etc.."
   ]
  },
  {
   "cell_type": "code",
   "execution_count": 113,
   "metadata": {
    "collapsed": false,
    "deletable": true,
    "editable": true
   },
   "outputs": [],
   "source": [
    "\"\"\"\n",
    "DON'T MODIFY ANYTHING IN THIS CELL\n",
    "\"\"\"\n",
    "import helper\n",
    "\n",
    "data_dir = './data/simpsons/moes_tavern_lines.txt'\n",
    "text = helper.load_data(data_dir)\n",
    "# Ignore notice, since we don't use it for analysing the data\n",
    "text = text[81:]"
   ]
  },
  {
   "cell_type": "markdown",
   "metadata": {
    "deletable": true,
    "editable": true
   },
   "source": [
    "## Explore the Data\n",
    "Play around with `view_sentence_range` to view different parts of the data."
   ]
  },
  {
   "cell_type": "code",
   "execution_count": 114,
   "metadata": {
    "collapsed": false,
    "deletable": true,
    "editable": true
   },
   "outputs": [
    {
     "name": "stdout",
     "output_type": "stream",
     "text": [
      "Dataset Stats\n",
      "Roughly the number of unique words: 11492\n",
      "Number of scenes: 262\n",
      "Average number of sentences in each scene: 15.248091603053435\n",
      "Number of lines: 4257\n",
      "Average number of words in each line: 11.50434578341555\n",
      "\n",
      "The sentences 0 to 10:\n",
      "Moe_Szyslak: (INTO PHONE) Moe's Tavern. Where the elite meet to drink.\n",
      "Bart_Simpson: Eh, yeah, hello, is Mike there? Last name, Rotch.\n",
      "Moe_Szyslak: (INTO PHONE) Hold on, I'll check. (TO BARFLIES) Mike Rotch. Mike Rotch. Hey, has anybody seen Mike Rotch, lately?\n",
      "Moe_Szyslak: (INTO PHONE) Listen you little puke. One of these days I'm gonna catch you, and I'm gonna carve my name on your back with an ice pick.\n",
      "Moe_Szyslak: What's the matter Homer? You're not your normal effervescent self.\n",
      "Homer_Simpson: I got my problems, Moe. Give me another one.\n",
      "Moe_Szyslak: Homer, hey, you should not drink to forget your problems.\n",
      "Barney_Gumble: Yeah, you should only drink to enhance your social skills.\n",
      "\n",
      "\n"
     ]
    }
   ],
   "source": [
    "view_sentence_range = (0, 10)\n",
    "\n",
    "\"\"\"\n",
    "DON'T MODIFY ANYTHING IN THIS CELL\n",
    "\"\"\"\n",
    "import numpy as np\n",
    "\n",
    "print('Dataset Stats')\n",
    "print('Roughly the number of unique words: {}'.format(len({word: None for word in text.split()})))\n",
    "scenes = text.split('\\n\\n')\n",
    "print('Number of scenes: {}'.format(len(scenes)))\n",
    "sentence_count_scene = [scene.count('\\n') for scene in scenes]\n",
    "print('Average number of sentences in each scene: {}'.format(np.average(sentence_count_scene)))\n",
    "\n",
    "sentences = [sentence for scene in scenes for sentence in scene.split('\\n')]\n",
    "print('Number of lines: {}'.format(len(sentences)))\n",
    "word_count_sentence = [len(sentence.split()) for sentence in sentences]\n",
    "print('Average number of words in each line: {}'.format(np.average(word_count_sentence)))\n",
    "\n",
    "print()\n",
    "print('The sentences {} to {}:'.format(*view_sentence_range))\n",
    "print('\\n'.join(text.split('\\n')[view_sentence_range[0]:view_sentence_range[1]]))"
   ]
  },
  {
   "cell_type": "markdown",
   "metadata": {
    "deletable": true,
    "editable": true
   },
   "source": [
    "## Implement Preprocessing Functions\n",
    "The first thing to do to any dataset is preprocessing.  Implement the following preprocessing functions below:\n",
    "- Lookup Table\n",
    "- Tokenize Punctuation\n",
    "\n",
    "### Lookup Table\n",
    "To create a word embedding, you first need to transform the words to ids.  In this function, create two dictionaries:\n",
    "- Dictionary to go from the words to an id, we'll call `vocab_to_int`\n",
    "- Dictionary to go from the id to word, we'll call `int_to_vocab`\n",
    "\n",
    "Return these dictionaries in the following tuple `(vocab_to_int, int_to_vocab)`"
   ]
  },
  {
   "cell_type": "code",
   "execution_count": 135,
   "metadata": {
    "collapsed": false,
    "deletable": true,
    "editable": true
   },
   "outputs": [
    {
     "name": "stdout",
     "output_type": "stream",
     "text": [
      "{0: 'has', 1: 'should', 2: 'meet', 3: 'bart_simpson', 4: 'hey', 5: 'these', 6: 'little', 7: 'back', 8: 'homer', 9: 'listen', 10: 'give', 11: 'effervescent', 12: 'hold', 13: 'eh', 14: 'lately', 15: 'homer_simpson', 16: 'my', 17: 'check', 18: 'skills', 19: 'ice', 20: 'moe_szyslak', 21: \"i'll\", 22: 'one', 23: 'i', 24: 'your', 25: 'pick', 26: 'self', 27: 'is', 28: 'the', 29: 'carve', 30: 'whats', 31: 'social', 32: 'got', 33: 'puke', 34: 'there', 35: \"i'm\", 36: 'mike', 37: 'tavern', 38: 'you', 39: 'catch', 40: 'to', 41: 'normal', 42: 'problems', 43: 'matter', 44: 'me', 45: 'another', 46: 'drink', 47: 'rotch', 48: 'elite', 49: 'not', 50: 'forget', 51: 'only', 52: 'where', 53: \"moe's\", 54: 'and', 55: 'enhance', 56: 'moe', 57: 'last', 58: 'name', 59: 'gonna', 60: 'with', 61: 'days', 62: 'seen', 63: 'an', 64: \"you're\", 65: 'barney_gumble', 66: 'on', 67: 'hello', 68: 'of', 69: 'yeah', 70: 'anybody'}\n",
      "******\n",
      "{'has': 0, 'should': 1, 'meet': 2, 'bart_simpson': 3, 'hey': 4, 'these': 5, 'gonna': 59, 'little': 6, 'back': 7, 'homer': 8, 'listen': 9, 'effervescent': 11, 'elite': 48, 'hold': 12, 'eh': 13, 'homer_simpson': 15, 'is': 27, 'skills': 18, 'check': 17, 'lately': 14, 'moe_szyslak': 20, \"i'll\": 21, 'i': 23, 'seen': 62, 'your': 24, 'pick': 25, 'self': 26, 'barney_gumble': 65, 'whats': 30, 'carve': 29, 'got': 32, 'puke': 33, 'social': 31, 'me': 44, 'there': 34, 'enhance': 55, \"i'm\": 35, 'mike': 36, 'yeah': 69, 'tavern': 37, 'problems': 42, 'catch': 39, 'to': 40, 'normal': 41, 'matter': 43, 'another': 45, 'drink': 46, 'rotch': 47, 'forget': 50, 'only': 51, 'where': 52, 'you': 38, 'and': 54, 'moe': 56, 'last': 57, 'name': 58, 'with': 60, 'days': 61, 'of': 68, 'my': 16, \"moe's\": 53, 'an': 63, \"you're\": 64, 'ice': 19, 'on': 66, 'one': 22, 'give': 10, 'hello': 67, 'not': 49, 'the': 28, 'anybody': 70}\n",
      "Tests Passed\n"
     ]
    }
   ],
   "source": [
    "import numpy as np\n",
    "import problem_unittests as tests\n",
    "\n",
    "def create_lookup_tables(text):\n",
    "    \"\"\"\n",
    "    Create lookup tables for vocabulary\n",
    "    :param text: The text of tv scripts split into words\n",
    "    :return: A tuple of dicts (vocab_to_int, int_to_vocab)\n",
    "    \"\"\"\n",
    "    # TODO: Implement Function\n",
    "    # print (text)\n",
    "    vocab_to_int = {}\n",
    "    int_to_vocab = {}\n",
    "    vocab = set(text)\n",
    "    vocab_to_int = {word: i for word, i in enumerate(vocab)}\n",
    "    int_to_vocab = {i: word for word, i in enumerate(vocab)}\n",
    "    print (vocab_to_int)\n",
    "    print (\"******\")\n",
    "    print (int_to_vocab)\n",
    "    return (vocab_to_int, int_to_vocab)\n",
    "    #return None, None\n",
    "\n",
    "\n",
    "\"\"\"\n",
    "DON'T MODIFY ANYTHING IN THIS CELL THAT IS BELOW THIS LINE\n",
    "\"\"\"\n",
    "tests.test_create_lookup_tables(create_lookup_tables)"
   ]
  },
  {
   "cell_type": "markdown",
   "metadata": {
    "deletable": true,
    "editable": true
   },
   "source": [
    "### Tokenize Punctuation\n",
    "We'll be splitting the script into a word array using spaces as delimiters.  However, punctuations like periods and exclamation marks make it hard for the neural network to distinguish between the word \"bye\" and \"bye!\".\n",
    "\n",
    "Implement the function `token_lookup` to return a dict that will be used to tokenize symbols like \"!\" into \"||Exclamation_Mark||\".  Create a dictionary for the following symbols where the symbol is the key and value is the token:\n",
    "- Period ( . )\n",
    "- Comma ( , )\n",
    "- Quotation Mark ( \" )\n",
    "- Semicolon ( ; )\n",
    "- Exclamation mark ( ! )\n",
    "- Question mark ( ? )\n",
    "- Left Parentheses ( ( )\n",
    "- Right Parentheses ( ) )\n",
    "- Dash ( -- )\n",
    "- Return ( \\n )\n",
    "\n",
    "This dictionary will be used to token the symbols and add the delimiter (space) around it.  This separates the symbols as it's own word, making it easier for the neural network to predict on the next word. Make sure you don't use a token that could be confused as a word. Instead of using the token \"dash\", try using something like \"||dash||\"."
   ]
  },
  {
   "cell_type": "code",
   "execution_count": 136,
   "metadata": {
    "collapsed": false,
    "deletable": true,
    "editable": true
   },
   "outputs": [
    {
     "name": "stdout",
     "output_type": "stream",
     "text": [
      "Tests Passed\n"
     ]
    }
   ],
   "source": [
    "def token_lookup():\n",
    "    \"\"\"\n",
    "    Generate a dict to turn punctuation into a token.\n",
    "    :return: Tokenize dictionary where the key is the punctuation and the value is the token\n",
    "    \"\"\"\n",
    "    # TODO: Implement Function\n",
    "    symbol_dict = {\".\":\"||Period||\", \",\":\"||Comma||\", \";\":\"Semicolon\", \"!\":\"||Exclamation_Mark||\",\n",
    "                  \"?\": \"Question_Mark\", \"(\": \"||Left_Parentheses||\", \")\": \"||Right_Parentheses||\",\n",
    "                  \"--\":\"||Dash||\", \"\\n\":\"||Return||\",\"\\\"\":\"||Quotation_Mark||\", \":\":\"||colon||\"}\n",
    "    return symbol_dict\n",
    "\n",
    "\"\"\"\n",
    "DON'T MODIFY ANYTHING IN THIS CELL THAT IS BELOW THIS LINE\n",
    "\"\"\"\n",
    "tests.test_tokenize(token_lookup)"
   ]
  },
  {
   "cell_type": "markdown",
   "metadata": {
    "deletable": true,
    "editable": true
   },
   "source": [
    "## Preprocess all the data and save it\n",
    "Running the code cell below will preprocess all the data and save it to file."
   ]
  },
  {
   "cell_type": "code",
   "execution_count": 137,
   "metadata": {
    "collapsed": false,
    "deletable": true,
    "editable": true
   },
   "outputs": [
    {
     "name": "stdout",
     "output_type": "stream",
     "text": [
      "{0: 'ivory', 1: \"stabbin'\", 2: 'changing', 3: 'stevie', 4: 'dint', 5: 'sink', 6: 'organ', 7: 'source', 8: 'woodchucks', 9: 'liable', 10: 'jogging', 11: 'fighter', 12: 'sixty-five', 13: 'world', 14: 'conditioners', 15: 'doors', 16: 'ziffcorp', 17: 'data', 18: 'reynolds', 19: \"lenny's\", 20: 'puzzle', 21: 'coupon', 22: 'advance', 23: \"'your\", 24: 'knife', 25: 'towed', 26: 'cajun', 27: 'cakes', 28: 'considers', 29: 'mel', 30: \"man'd\", 31: 'mouth', 32: 'mixed', 33: 'rosey', 34: 'fudd', 35: 'video', 36: 'sickened', 37: 'krusty_the_clown', 38: 'cutest', 39: 'reptile', 40: \"'kay-zugg'\", 41: 'angel', 42: 'browns', 43: 'plenty', 44: 'gluten', 45: 'conclusions', 46: 'partner', 47: 'barely', 48: 'ho-la', 49: 'hey', 50: 'thanks', 51: 'sobs', 52: 'understanding', 53: 'fictional', 54: 'opens', 55: \"professor's\", 56: \"renee's\", 57: 'neck', 58: 'cooking', 59: 'rife', 60: 'heroism', 61: 'buddy', 62: 'sunday', 63: 'relaxing', 64: 'fink', 65: 'derisive', 66: 'fingers', 67: 'good-looking', 68: 'phrase', 69: 'sub-monkeys', 70: 'grandmother', 71: 'chin', 72: 'runaway', 73: 'arm-pittish', 74: 'depending', 75: 'difference', 76: 'harv', 77: 'egg', 78: 'jane', 79: 'perhaps', 80: 'slobs', 81: 'anger', 82: 'never', 83: 'trail', 84: 'astonishment', 85: 'works', 86: 'securities', 87: 'backbone', 88: 'pitch', 89: 'melodramatic', 90: 'hammock', 91: 'usual', 92: 'longest', 93: 'ignoring', 94: 'eyesore', 95: 'swamp', 96: 'boxing', 97: 'tones', 98: 'gold', 99: 'mis-statement', 100: 'utensils', 101: 'innocent', 102: 'oughta', 103: 'nachos', 104: 'fat', 105: 'deliberately', 106: 'check', 107: 'golden', 108: 'exhibit', 109: 'sometimes', 110: 'protecting', 111: 'kicks', 112: 'might', 113: 'wrap', 114: 'drug', 115: 'barkeeps', 116: 'addiction', 117: 'meals', 118: 'english', 119: 'impatient', 120: 'biggest', 121: 'drank', 122: 'crimes', 123: 'anderson', 124: 'flower', 125: 'has', 126: 'vance', 127: 'hike', 128: 'syrup', 129: \"'morning\", 130: 'fastest', 131: 'gamble', 132: 'worthless', 133: 'envy-tations', 134: 'videotaped', 135: 'sketching', 136: \"ol'\", 137: \"drivin'\", 138: 'twentieth', 139: 'jerking', 140: 'bide', 141: 'helpful', 142: 'prayer', 143: 'portuguese', 144: \"now's\", 145: 'icy', 146: 'punk', 147: 'highest', 148: 'planning', 149: 'bowie', 150: 'bum', 151: 'dna', 152: 'personal', 153: 'billboard', 154: 'mug', 155: 'yelp', 156: 'squashing', 157: 'everyday', 158: 'yep', 159: 'breathtaking', 160: 'satisfaction', 161: 'rip', 162: 'bulldozing', 163: 'noble', 164: 'potatoes', 165: 'stay', 166: 'michelin', 167: 'puke-holes', 168: 'window', 169: 'bumpy-like', 170: 'buy', 171: 'pond', 172: 'force', 173: 'strategizing', 174: 'evening', 175: 'groin', 176: 'ha', 177: 'brusque', 178: 'point', 179: 'almost', 180: 'racially-diverse', 181: 'co-sign', 182: 'skinner', 183: 'near', 184: 'hardy', 185: 'nigeria', 186: \"'bout\", 187: 'diet', 188: 'alright', 189: 'drives', 190: 'suit', 191: 'taxi', 192: 'ripper', 193: 'waking-up', 194: 'tastes', 195: 'arab_man', 196: 'territorial', 197: 'meaningful', 198: 'quite', 199: 'wheel', 200: 'hit', 201: 'limits', 202: 'nation', 203: 'somehow', 204: 'bathtub', 205: 'swallowed', 206: 'creates', 207: 'background', 208: 'notably', 209: 'brow', 210: 'kay', 211: 'suffering', 212: 'thoughtless', 213: 'herself', 214: 'legend', 215: 'crap', 216: 'casual', 217: 'crab', 218: 'bushes', 219: 'tried', 220: 'little_hibbert_girl', 221: 'bar-boy', 222: 'frustrated', 223: 'catch', 224: 'evergreen', 225: 'togetherness', 226: 'shaky', 227: 'looked', 228: 'expert', 229: 'doy', 230: 'single', 231: 'onto', 232: 'excitement', 233: 'cola', 234: 'jam', 235: 'tight', 236: 'bums', 237: 'ees', 238: 'haiti', 239: 'accounta', 240: 'backing', 241: \"where's\", 242: 'twelve-step', 243: 'knuckle-dragging', 244: 'insensitive', 245: \"'tis\", 246: 'certain', 247: 'sing', 248: 'tradition', 249: 'sob', 250: 'compels', 251: 'ruin', 252: 'fletcherism', 253: 'rice', 254: 'bras', 255: 'dressing', 256: 'sells', 257: 'powers', 258: 'dinner', 259: 'theory', 260: 'write', 261: 'chic', 262: 'suburban', 263: 'minute', 264: 'invite', 265: 'balloon', 266: \"countin'\", 267: 'know', 268: 'inspire', 269: 'friend', 270: 'magnanimous', 271: 'pint', 272: 'apply', 273: 'adjourned', 274: 'rubs', 275: 'damn', 276: 'cadillac', 277: 'wh', 278: 'crew', 279: \"you'll\", 280: 'ice', 281: \"thing's\", 282: 'tomato', 283: 'ass', 284: 'multi-purpose', 285: 'boned', 286: 'show-off', 287: 'gimmicks', 288: 'furious', 289: 'page', 290: 'lovelorn', 291: 'teriyaki', 292: 'necklace', 293: 'moments', 294: 'glove', 295: 'jailbird', 296: 'david', 297: 'fence', 298: 'press', 299: 'patrons', 300: 'compliment', 301: 'authorized', 302: 'sideshow', 303: 'experiments', 304: \"bart'd\", 305: 'wigs', 306: 'canyonero', 307: 'call', 308: 'pressure', 309: 'level', 310: 'smugglers', 311: 'poor', 312: 'glad', 313: 'aww', 314: 'ladies', 315: 'species', 316: 'tavern', 317: 'monster', 318: 'calculate', 319: '8', 320: 'statues', 321: 'dignified', 322: 'victory', 323: 'harrowing', 324: 'tied', 325: 'reaction', 326: 'song', 327: 'bidet', 328: 'de-scramble', 329: 'rookie', 330: 'ne', 331: 'slow', 332: 'lance', 333: \"i'd'a\", 334: 'yup', 335: 'mike_mills', 336: 'absentminded', 337: 'skins', 338: 'careful', 339: 'pulling', 340: 'garbage', 341: 'runners', 342: 'tanked-up', 343: 'law', 344: 'clandestine', 345: 'beverage', 346: 'b-day', 347: 'tons', 348: 'ehhhhhh', 349: 'walther_hotenhoffer', 350: 'broom', 351: 'blade', 352: 'sucked', 353: 'alter', 354: 'holidays', 355: \"bladder's\", 356: \"ridin'\", 357: 'sacajawea', 358: 'medieval', 359: 'starters', 360: 'clown-like', 361: 'glamour', 362: 'his', 363: 'angry', 364: 'acceptance', 365: 'reminds', 366: 'booking', 367: 'parents', 368: 'handsome', 369: 'focus', 370: 'nos', 371: 'lise', 372: 'britannia', 373: 'played', 374: 'pointing', 375: 'patron_#1', 376: 'seem', 377: 'newsies', 378: 'facebook', 379: 'rome', 380: 'speak', 381: 'fools', 382: 'pussycat', 383: 'picked', 384: 'breakfast', 385: 'civil', 386: 'pretending', 387: 'grabs', 388: 'midnight', 389: 'beam', 390: 'turning', 391: 'stretch', 392: 'the', 393: 'complicated', 394: 'stillwater', 395: 'regretful', 396: 'yammering', 397: 'knees', 398: 'judges', 399: 'sideshow_mel', 400: 'squirrel', 401: 'placed', 402: \"y'know\", 403: 'conclude', 404: \"friend's\", 405: 'sweet', 406: 'wood', 407: 'hoo', 408: 'reasons', 409: 'kidding', 410: 'paper', 411: 'enough', 412: 'cow', 413: 'agent_johnson', 414: 'wha', 415: 'cool', 416: 'mumble', 417: 'princess', 418: 'lucius', 419: 'patented', 420: 'pee', 421: 'raggie', 422: 'including', 423: 'tongue', 424: 'discussing', 425: 'pushing', 426: 'behind', 427: 'liver', 428: 'frescas', 429: 'philip', 430: 'boxing_announcer', 431: 'ball-sized', 432: 'horror', 433: 'gas', 434: 'hangover', 435: 'edna_krabappel-flanders', 436: 'stole', 437: 'principal', 438: 'hate-hugs', 439: 'iranian', 440: 'ambrosia', 441: \"they're\", 442: 'lotsa', 443: 'studied', 444: 'wiggum', 445: 'nauseous', 446: 'screams', 447: 'anxious', 448: 'stink', 449: 'wondering', 450: 'lips', 451: 'warmth', 452: 'audience', 453: 'washouts', 454: 'gore', 455: 'blocked', 456: \"watchin'\", 457: 'x-men', 458: 'accelerating', 459: 'ned', 460: 'spied', 461: 'furiously', 462: 'wuss', 463: 'marguerite', 464: 'already', 465: 'full-blooded', 466: 'only', 467: 'specified', 468: 'teams', 469: 'pickled', 470: 'moesy', 471: 'cost', 472: 'allow', 473: 'severe', 474: 'game', 475: 'fist', 476: 'prize', 477: 'sanitary', 478: 'disco', 479: 'everywhere', 480: 'legally', 481: 'pad', 482: 'correcting', 483: 'las', 484: '50-60', 485: 'increasingly', 486: 'musses', 487: \"someone's\", 488: \"sat's\", 489: 'change', 490: 'beef', 491: 'joint', 492: 'position', 493: 'matter', 494: 'happier', 495: 'dance', 496: 'baritone', 497: 'bunch', 498: 'comedies', 499: \"tv'll\", 500: 'wang', 501: 'stagey', 502: 'deliberate', 503: 'assassination', 504: 'stones', 505: 'perch', 506: 'count', 507: 'tearfully', 508: 'griffith', 509: 'settlement', 510: 'beard', 511: 'occasion', 512: 'burns', 513: 'lottery', 514: 'travel', 515: 'hmf', 516: 'own', 517: 'cheaped', 518: 'space-time', 519: \"nick's\", 520: 'lloyd', 521: 'pantry', 522: 'hellhole', 523: 'x', 524: 'simultaneous', 525: 'tang', 526: 'hated', 527: 'easter', 528: 'tab', 529: 'fleabag', 530: 'partly', 531: 'erasers', 532: 'ha-ha', 533: 'emergency', 534: 'where', 535: 'drunks', 536: 'kyoto', 537: 'original', 538: 'inserted', 539: 'wolfcastle', 540: 'percent', 541: 'moon', 542: 'gayer', 543: 'everything', 544: 'amid', 545: 'ends', 546: 'fevered', 547: 'unlocked', 548: 'eco-fraud', 549: 'hyper-credits', 550: 'beats', 551: 'seats', 552: 'passed', 553: 'dishrag', 554: 'vacation', 555: 'vote', 556: 'carolina', 557: 'vin', 558: 'dropping', 559: 'tracks', 560: 'leonard', 561: 'extended', 562: 'temple', 563: 'wa', 564: 'abe', 565: 'lifetime', 566: 'criminal', 567: 'bright', 568: 'told', 569: 'hourly', 570: 'plywood', 571: 'yoink', 572: 'smitty', 573: 'muscles', 574: 'upbeat', 575: 'dealie', 576: 'blew', 577: 'fox_mulder', 578: 'dropped', 579: 'anywhere', 580: \"'ceptin'\", 581: 'to', 582: 'coming', 583: 'tense', 584: 'out', 585: 'sneeze', 586: 'bad-mouth', 587: 'news', 588: 'uh-oh', 589: 'begging', 590: 'newest', 591: 'park', 592: 'prizefighters', 593: 'smallest', 594: 'another', 595: 'er', 596: 'wildest', 597: 'barflies', 598: 'semi-imported', 599: 'drains', 600: 'pharmaceutical', 601: 'aging', 602: 'sun', 603: 'rationalizing', 604: 'begin', 605: 'friends', 606: 'computer', 607: 'perfume', 608: 'sees', 609: 'keeps', 610: 'shooting', 611: 'befriend', 612: 'venom', 613: 'rector', 614: 'nards', 615: 'outstanding', 616: 'expression', 617: 'fireworks', 618: 'though', 619: 'detail', 620: \"tree's\", 621: 'given', 622: 'mock', 623: 'stumble', 624: 'telephone', 625: \"must've\", 626: \"shouldn't\", 627: 'hub', 628: 'admitting', 629: 'xx', 630: 'fayed', 631: 'quarterback', 632: 'th', 633: 'wore', 634: 'playhouse', 635: 'bible', 636: 'jigger', 637: 'defected', 638: 'judgments', 639: 'ran', 640: 'jay_leno', 641: 'scanning', 642: 'says', 643: 'gals', 644: 'bachelor', 645: 'shower', 646: \"waitin'\", 647: \"c'mon\", 648: 'sloe', 649: 'gangrene', 650: 'cronies', 651: 'post-suicide', 652: 'lying', 653: 'grope', 654: 'road', 655: 'intriguing', 656: 'zoomed', 657: 'awareness', 658: '||dash||', 659: 'unfresh', 660: 'lifters', 661: \"wonderin'\", 662: 'irishman', 663: 'homeless', 664: 'option', 665: 'languages', 666: 'dignity', 667: 'happy', 668: 'coined', 669: 'ticket', 670: 'killed', 671: 'alky', 672: 'pigs', 673: 'sooo', 674: 'healthier', 675: 'lindsay', 676: 'labels', 677: 'british', 678: 'consoling', 679: 'mimes', 680: 'kucinich', 681: 'handed', 682: 'quietly', 683: 'sledge-hammer', 684: 'cooker', 685: 'attach', 686: 'country-fried', 687: 'w-a-3-q-i-zed', 688: 'juan', 689: 'frink', 690: 'manfred', 691: 'dexterous', 692: 'men', 693: 'bar', 694: 'moe-ron', 695: 'opportunity', 696: 'hoagie', 697: 'fired', 698: 'offer', 699: \"we'll\", 700: 'payments', 701: 'jar', 702: 'bears', 703: 'felt', 704: 'cruiser', 705: 'wind', 706: 'cheese', 707: 'dunno', 708: 'boo', 709: 'fly', 710: 'sixty-nine', 711: 'adult', 712: \"donatin'\", 713: 'anyway', 714: 'effects', 715: \"maggie's\", 716: 'calvin', 717: 'language', 718: 'steely-eyed', 719: 'sponge', 720: 'gasp', 721: 'break-up', 722: 'customers', 723: 'peabody', 724: 'depressing', 725: 'pitcher', 726: 'sponsoring', 727: 'gutenberg', 728: 'sweaty', 729: 'influence', 730: 'portfolium', 731: 'reaches', 732: 'inning', 733: 'deeply', 734: 'funeral', 735: 'either', 736: 'smelling', 737: 'nickels', 738: \"'evening\", 739: 'lee', 740: \"comin'\", 741: 'lisa', 742: 'citizens', 743: 'edner', 744: 'agent_miller', 745: 'knowledge', 746: 'standing', 747: 'sagacity', 748: 'supply', 749: 'anybody', 750: 'explanation', 751: 'suicide', 752: 'improved', 753: 'edna', 754: 'platinum', 755: 'smiles', 756: 'fumes', 757: 'move', 758: 'moe_szyslak', 759: 'sucks', 760: 'cut', 761: 'land', 762: 'lists', 763: 'professional', 764: 'fake', 765: 'ready', 766: 'hooray', 767: 'bought', 768: 'busted', 769: 'stern', 770: 'channel', 771: 'pyramid', 772: 'swatch', 773: 'mayor_joe_quimby', 774: 'germs', 775: \"world's\", 776: 'pre-columbian', 777: 'play', 778: 'average', 779: 'daniel', 780: 'campaign', 781: 'boozer', 782: 'dea-d-d-dead', 783: 'newsletter', 784: 'considering', 785: 'yogurt', 786: 'eight-year-old', 787: 'kickoff', 788: 'alec_baldwin', 789: 'hops', 790: 'pride', 791: 'cans', 792: 'believe', 793: 'diddilies', 794: 'settles', 795: 'sharity', 796: 'homunculus', 797: 'generous', 798: 'record', 799: 'madonna', 800: 'increased', 801: \"tap-pullin'\", 802: 'sotto', 803: 'exited', 804: 'thorough', 805: 'watt', 806: 'museum', 807: 'intoxicated', 808: 'switch', 809: 'composer', 810: 'skills', 811: 'ago', 812: 'measurements', 813: 'teenage_homer', 814: 'soul', 815: 'grammar', 816: 'contemporary', 817: \"somethin's\", 818: 'falcons', 819: 'dizzy', 820: 'bowl', 821: 'kent_brockman', 822: 'kim_basinger', 823: 'ungrateful', 824: 'cutie', 825: 'that', 826: 'exchanged', 827: 'full-bodied', 828: 'seven', 829: 'could', 830: 'chicken', 831: 'troubles', 832: 'feminist', 833: 'thanking', 834: 'bumped', 835: 'author', 836: 'twins', 837: 'hold', 838: 'selling', 839: 'inside', 840: 'use', 841: 'abusive', 842: 'trashed', 843: '/', 844: 'decision', 845: 'okay', 846: 'chuckle', 847: 'nudge', 848: 'hole', 849: 'indecipherable', 850: 'aziz', 851: 'recruiter', 852: 'accidents', 853: 'corpses', 854: 'duke', 855: 'presentable', 856: 'sat', 857: 'nailed', 858: 'talkative', 859: 'patron_#2', 860: 'passenger', 861: 'clearing', 862: 'typed', 863: 'pennies', 864: 'or', 865: 'shove', 866: 'bathroom', 867: 'paintings', 868: \"getting'\", 869: 'type', 870: 'animals', 871: 'brought', 872: 'terrible', 873: 'murdoch', 874: 'interested', 875: 'disco_stu', 876: 'quit', 877: 'candy', 878: 'womb', 879: 'lessons', 880: 'benjamin', 881: 'muffled', 882: 'disappear', 883: 'swan', 884: 'recently', 885: 'fish', 886: 'field', 887: 'wealthy', 888: \"feelin's\", 889: 'honey', 890: \"choosin'\", 891: 'mr', 892: 'apartment', 893: 'slop', 894: 'neanderthal', 895: 'para', 896: 'contemplates', 897: 'newly-published', 898: 'brag', 899: 'brightening', 900: 'panties', 901: 'playing', 902: 'uncreeped-out', 903: 'imitating', 904: 'princesses', 905: 'takeaway', 906: 'milks', 907: 'hook', 908: 'scooter', 909: 'dials', 910: \"ball's\", 911: 'aah', 912: 'office', 913: 'contemplated', 914: 'charming', 915: 'pit', 916: 'contest', 917: 'clears', 918: 'priority', 919: 'five', 920: 'pointless', 921: 'fire', 922: \"town's\", 923: 'minus', 924: 'staying', 925: 'moe', 926: 'neighbors', 927: 'society', 928: 'smart', 929: 'terror', 930: 'dealt', 931: 'you-need-man', 932: 'complaining', 933: 'disturbing', 934: 'prep', 935: 'pointy', 936: 'round', 937: 'spit-backs', 938: 'delicately', 939: 'oblongata', 940: 'blobbo', 941: 'roof', 942: 'old', 943: 'choked-up', 944: 'job', 945: 'proposition', 946: 'albert', 947: 'remodel', 948: 'chairman', 949: 'wacky', 950: 'chase', 951: 'touches', 952: 'vodka', 953: 'non-american', 954: 'dirge-like', 955: 'thirsty', 956: 'tank', 957: 'feisty', 958: 'microwave', 959: 'tubman', 960: 'lumpa', 961: 'completing', 962: 'ehhhhhhhhh', 963: 'hero', 964: 'vulgar', 965: 'cries', 966: \"kearney's_dad\", 967: 'beach', 968: 'tigers', 969: 'joined', 970: 'wildfever', 971: 'carnival', 972: 'haw', 973: 'buddha', 974: 'finale', 975: 'tabooger', 976: \"collector's\", 977: 'doll', 978: 'warning', 979: 'short', 980: 'twenty-four', 981: 'steal', 982: 'four', 983: 'wreck', 984: 'book_club_member', 985: 'alcoholic', 986: 'sloppy', 987: 'twin', 988: 'drederick', 989: 'share', 990: 'szyslak', 991: 'half-back', 992: \"mother's\", 993: 'front', 994: 'quick', 995: 'stolen', 996: 'je', 997: 'eleven', 998: '_babcock', 999: 'scotch', 1000: 'thumb', 1001: 'pantsless', 1002: 'helped', 1003: 'checking', 1004: 'perfected', 1005: 'muhammad', 1006: \"tony's\", 1007: 'bush', 1008: 'weary', 1009: 'reader', 1010: 'forced', 1011: 'corkscrews', 1012: 'temp', 1013: 'sticker', 1014: 'practice', 1015: 'whaddaya', 1016: \"toot's\", 1017: 'struggling', 1018: 'comic_book_guy', 1019: 'fact', 1020: '_burns_heads', 1021: 'tapping', 1022: 'municipal', 1023: 'pleasure', 1024: 'unearth', 1025: 'researching', 1026: 'crisis', 1027: '10', 1028: \"brady's\", 1029: 'again', 1030: 'mull', 1031: 'voice', 1032: 'text', 1033: \"workin'\", 1034: 'taking', 1035: 'welcome', 1036: 'dejected_barfly', 1037: 'voice_on_transmitter', 1038: 'homer_simpson', 1039: 'orgasmville', 1040: 'beanbag', 1041: 'wound', 1042: 'getup', 1043: 'klown', 1044: 'lenny', 1045: 'instrument', 1046: 'one', 1047: 'refresh', 1048: 'annoyed', 1049: 'and/or', 1050: 'represents', 1051: 'inflated', 1052: 'democrats', 1053: 'si-lent', 1054: 'darn', 1055: 'face-macer', 1056: 'mayan', 1057: 'flea', 1058: 'sorts', 1059: 'ten', 1060: \"eatin'\", 1061: 'heartless', 1062: 'brine', 1063: 'remembers', 1064: 'maya', 1065: 'lurleen', 1066: 'overstressed', 1067: 'scruffy_blogger', 1068: 'ancient', 1069: 'vengeance', 1070: 'incredible', 1071: 'shrugs', 1072: 'compared', 1073: \"could've\", 1074: 'slab', 1075: 'painted', 1076: 'monkeyshines', 1077: 'puts', 1078: 'pillows', 1079: 'shelf', 1080: 'found', 1081: 'owe', 1082: \"'cause\", 1083: 'enabling', 1084: 'ratted', 1085: 'together', 1086: 'tv', 1087: 'then', 1088: 'fluoroscope', 1089: 'hall', 1090: 'buddies', 1091: 'thirty-thousand', 1092: 'rummy', 1093: 'continuum', 1094: 'disappeared', 1095: 'juke', 1096: 'monday', 1097: 'carlotta', 1098: 'bull', 1099: 'daughter', 1100: 'coaster', 1101: 'tremendous', 1102: 'get', 1103: 'stagehand', 1104: 'propose', 1105: 'music', 1106: 'hafta', 1107: 'twenty-six', 1108: \"he'd\", 1109: 'reliable', 1110: 'three', 1111: 'loafers', 1112: 'appendectomy', 1113: 'dumbbell', 1114: 'entirely', 1115: \"one's\", 1116: 'sassy', 1117: 'africa', 1118: 'forgotten', 1119: 'lindsay_naegle', 1120: 'trench', 1121: 'less', 1122: 'yard', 1123: '_montgomery_burns', 1124: 'lib', 1125: 'error', 1126: 'pine', 1127: 'alibi', 1128: 'stationery', 1129: 'save', 1130: 'lowers', 1131: 'insightful', 1132: 'effervescent', 1133: 'accepting', 1134: 'splattered', 1135: 'disappointing', 1136: 'slogan', 1137: 'reed', 1138: 'oof', 1139: 'kill', 1140: 'malted', 1141: 'ninety-nine', 1142: 'worried', 1143: 'shop', 1144: 'denver', 1145: 'sitting', 1146: 'peaked', 1147: 'dame', 1148: \"leavin'\", 1149: 'top', 1150: 'recall', 1151: 'date', 1152: 'cake', 1153: 'riding', 1154: 'wonderful', 1155: 'diaper', 1156: 'faulkner', 1157: 'temporarily', 1158: 'kids', 1159: 'slaps', 1160: 'unfortunately', 1161: 'anyone', 1162: 'donation', 1163: 'shocked', 1164: 'detective', 1165: 'humanity', 1166: 'been', 1167: 'homer_', 1168: 'mmm', 1169: \"disrobin'\", 1170: 'aside', 1171: 'witty', 1172: 'explain', 1173: 'sitcom', 1174: 'purveyor', 1175: 'became', 1176: 'hawking', 1177: 'crestfallen', 1178: 'hotline', 1179: 'annual', 1180: 'in', 1181: 'schabadoo', 1182: 'whaaa', 1183: 'raising', 1184: 'crowned', 1185: 'u', 1186: \"game's\", 1187: 'alphabet', 1188: 'stops', 1189: 'holy', 1190: 'none', 1191: 'meyerhof', 1192: 'senators', 1193: 'invented', 1194: 'quadruple-sec', 1195: 'tidy', 1196: 'family', 1197: 'sieben-gruben', 1198: 'sounded', 1199: 'scores', 1200: 'taylor', 1201: 'murmurs', 1202: 'an', 1203: 'nerve', 1204: 'arise', 1205: 'roll', 1206: 'boyfriend', 1207: 'stayed', 1208: 'j', 1209: 'sweat', 1210: 'pay', 1211: 'give', 1212: 'sooner', 1213: 'statue', 1214: \"haven't\", 1215: 'ignorance', 1216: 'einstein', 1217: 'cup', 1218: 'banks', 1219: 'heading', 1220: 'lives', 1221: 'southern', 1222: 'jazz', 1223: 'drawer', 1224: 'soap', 1225: 'guys', 1226: 'johnny_carson', 1227: 'wish-meat', 1228: 'lover', 1229: 'tee', 1230: 'estranged', 1231: 'academy', 1232: 'baby', 1233: 'relaxed', 1234: 'strictly', 1235: 'neighboreeno', 1236: 'nasa', 1237: 'perfect', 1238: 'pets', 1239: 'dozen', 1240: 'oak', 1241: 'lobster-politans', 1242: 'be', 1243: 'lighting', 1244: 'practically', 1245: 'onions', 1246: 'dungeon', 1247: 'aristotle', 1248: 'unfamiliar', 1249: 'launch', 1250: 'sticking', 1251: 'outlook', 1252: 'dreamed', 1253: 'ford', 1254: 'supposed', 1255: 'help', 1256: 'shreda', 1257: 'windelle', 1258: 'transmission', 1259: 'ruby-studded', 1260: 'pointed', 1261: 'morning-after', 1262: 'tear', 1263: 'fustigate', 1264: 'due', 1265: 'vacations', 1266: 'bar_rag', 1267: 'progress', 1268: 'miserable', 1269: 'sharing', 1270: 'glorious', 1271: 'calls', 1272: 'convenient', 1273: 'head', 1274: 'design', 1275: 'prime', 1276: 'cockroaches', 1277: 'touchdown', 1278: 'poker', 1279: 'spews', 1280: 'compliments', 1281: 'having', 1282: 'folk', 1283: 'recap', 1284: 'apology', 1285: 'want', 1286: 'seamstress', 1287: 'greatest', 1288: 'united', 1289: 'visas', 1290: 'soul-crushing', 1291: 'trees', 1292: 'toledo', 1293: 'children', 1294: 'peace', 1295: 'unlike', 1296: 'blurbs', 1297: 'tsking', 1298: 'pipes', 1299: 'mags', 1300: 'fighting', 1301: 'specializes', 1302: 'frosty', 1303: 'program', 1304: 'steinbrenner', 1305: 'mouse', 1306: 'flailing', 1307: 'wednesday', 1308: 'devastated', 1309: 'until', 1310: 'offended', 1311: 'eminence', 1312: 'zero', 1313: 'chanting', 1314: 'catching', 1315: 'rabbits', 1316: 'exultant', 1317: 'defensive', 1318: 'alternative', 1319: 'cars', 1320: 'jacques', 1321: 'whale', 1322: 'yawns', 1323: 'burnside', 1324: 'blob', 1325: 'tempting', 1326: \"drexel's\", 1327: 'tentative', 1328: \"liberty's\", 1329: 'enhance', 1330: \"readin'\", 1331: 'gentleman', 1332: 'continued', 1333: 'days', 1334: 'lager', 1335: 'disappointed', 1336: 'finishing', 1337: 'beady', 1338: 'tease', 1339: 'fortensky', 1340: 'funds', 1341: \"england's\", 1342: 'losing', 1343: 'ralph_wiggum', 1344: 'giggle', 1345: 'nurse', 1346: 'fast-food', 1347: 'kent', 1348: 'new', 1349: 'immiggants', 1350: 'hockey-fight', 1351: 'aiden', 1352: 'treats', 1353: 'thoughtfully', 1354: 'the_rich_texan', 1355: 'un-sults', 1356: 'iddilies', 1357: 'pretend', 1358: 'take', 1359: 'bitterly', 1360: 'gordon', 1361: \"mcstagger's\", 1362: 'surgery', 1363: 'grain', 1364: 'hyahh', 1365: 'transfer', 1366: 'gunk', 1367: 'ingested', 1368: 'sleeping', 1369: 'scum', 1370: 'pudgy', 1371: \"betsy'll\", 1372: 'yell', 1373: 'tropical', 1374: \"s'okay\", 1375: 'corporation', 1376: 'military', 1377: \"wife's\", 1378: 'hardhat', 1379: 'concerned', 1380: 'young_marge', 1381: 'fury', 1382: 'spitting', 1383: 'grease', 1384: \"springfield's\", 1385: 'sugar-free', 1386: 'other', 1387: 'charity', 1388: 'missed', 1389: 'blow', 1390: 'catty', 1391: 'cigarettes', 1392: 'message', 1393: 'life-threatening', 1394: 'system', 1395: 'boxer', 1396: 'maxed', 1397: 'limited', 1398: 'sincerely', 1399: 'hoax', 1400: 'plane', 1401: 'fulla', 1402: 'lucky', 1403: 'billingsley', 1404: \"what'd\", 1405: \"mo'\", 1406: 'service', 1407: 'touched', 1408: 'insulted', 1409: 'european', 1410: 'flown', 1411: 'memories', 1412: 'dollars', 1413: \"treatin'\", 1414: 'comedy', 1415: 'fireball', 1416: 'joke', 1417: 'understood', 1418: 'telemarketing', 1419: 'loves', 1420: 'fountain', 1421: 'attractive', 1422: 'attractive_woman_#2', 1423: 'unintelligent', 1424: 'gently', 1425: 'rich', 1426: 'bury', 1427: 'crank', 1428: 'exactly', 1429: 'nine', 1430: 'crack', 1431: 'virtual', 1432: 'scrape', 1433: 'making', 1434: 'ring', 1435: 'tying', 1436: 'yak', 1437: \"brockman's\", 1438: \"money's\", 1439: 'rented', 1440: 'lanes', 1441: 'using', 1442: 'harder', 1443: 'love-matic', 1444: 'harvard', 1445: 'generosity', 1446: \"president's\", 1447: 'informant', 1448: 'literary', 1449: 'sucker', 1450: 'young', 1451: 'pusillanimous', 1452: 'tired', 1453: 'reason', 1454: 'government', 1455: 'mushy', 1456: 'yo', 1457: 'onassis', 1458: 'lone', 1459: 'broncos', 1460: 'poplar', 1461: 'xanders', 1462: 'someone', 1463: 'thanksgiving', 1464: 'housing', 1465: 'confident', 1466: 'willing', 1467: 'macgregor', 1468: 'permanent', 1469: 'kicked', 1470: 'crowded', 1471: 'pained', 1472: 'yellow-belly', 1473: 'plus', 1474: 'ping-pong', 1475: 'philosophical', 1476: 'gets', 1477: 'warily', 1478: 'lotta', 1479: 'piling', 1480: 'wishes', 1481: 'please', 1482: 'self-esteem', 1483: 'rush', 1484: 'gol-dangit', 1485: 'better', 1486: 'run', 1487: 'huh', 1488: 'hilton', 1489: 'warranty', 1490: 'hunter', 1491: 'kl5-4796', 1492: 'flourish', 1493: 'apulina', 1494: 'koji', 1495: 'refinanced', 1496: 'tips', 1497: 'dazed', 1498: 'snotty', 1499: 'combination', 1500: 'sistine', 1501: 'nasty', 1502: 'rolls', 1503: 'sentimonies', 1504: 'spread', 1505: 'twerpy', 1506: 'syndicate', 1507: 'pizza', 1508: 'mulder', 1509: 'aged', 1510: 'planet', 1511: 'normals', 1512: 'spectacular', 1513: 'effervescence', 1514: 'quotes', 1515: 'santa', 1516: 'signal', 1517: 'mudflap', 1518: 'straining', 1519: 'husband', 1520: 'listens', 1521: 'upset', 1522: 'nonsense', 1523: 'politics', 1524: 'headhunters', 1525: 'mice', 1526: 'device', 1527: 'dressed', 1528: 'money', 1529: 'kermit', 1530: 'skin', 1531: 'ails', 1532: 'cloudy', 1533: 'hotenhoffer', 1534: 'center', 1535: 'jacksons', 1536: 'pig', 1537: 'bedtime', 1538: 'actor', 1539: '3', 1540: 'difficult', 1541: 'tonight', 1542: 'caper', 1543: 'tv_daughter', 1544: 'conversations', 1545: \"life's\", 1546: 'employees', 1547: \"y'money's\", 1548: 'stepped', 1549: 'piano', 1550: 'thank', 1551: 'cricket', 1552: 'much', 1553: 'wazoo', 1554: 'getting', 1555: 'local', 1556: 'frankie', 1557: 'nibble', 1558: 'sister', 1559: 'strokkur', 1560: 'telegraph', 1561: \"don'tcha\", 1562: 'prohibit', 1563: 'pulls', 1564: 'permitting', 1565: 'milhouses', 1566: 'otherwise', 1567: 'sitar', 1568: 'brotherhood', 1569: \"aren'tcha\", 1570: 'thinking', 1571: 'noosey', 1572: 'bannister', 1573: 'churchy', 1574: 'private', 1575: 'pus-bucket', 1576: 'refund', 1577: 'smug', 1578: 'shopping', 1579: 'nash', 1580: 'dumbass', 1581: 'genius', 1582: 'dutch', 1583: 'sent', 1584: 'strain', 1585: 'walther', 1586: 'brick', 1587: 'whoever', 1588: 'napkins', 1589: 'almond', 1590: 'health_inspector', 1591: 'till', 1592: 'derek', 1593: 'learned', 1594: \"they'd\", 1595: 'mix', 1596: 'chum', 1597: 'fella', 1598: 'spy', 1599: 'sings', 1600: 'corner', 1601: 'slap', 1602: 'declan_desmond', 1603: 'sir', 1604: 'appeals', 1605: \"aristotle's\", 1606: 'catholic', 1607: 'even', 1608: 'habit', 1609: 'away', 1610: 'something', 1611: 'carl_carlson', 1612: 'gives', 1613: 'training', 1614: 'pool', 1615: 'dang', 1616: 'chew', 1617: 'poisoning', 1618: 'veux', 1619: '91', 1620: 'ho', 1621: 'honest', 1622: \"today's\", 1623: 'sail', 1624: 'hundreds', 1625: 'shipment', 1626: 'grow', 1627: 'jump', 1628: 'kisses', 1629: 'words', 1630: 'too', 1631: 'ow', 1632: 'handler', 1633: 'fica', 1634: 'typing', 1635: 'pathetic', 1636: 'best', 1637: 'youse', 1638: 'disdainful', 1639: 'seek', 1640: 'spend', 1641: \"fightin'\", 1642: 'flashing', 1643: 'porn', 1644: 'fat_tony', 1645: 'grammys', 1646: 'wistful', 1647: 'frog', 1648: 'mad', 1649: 'stocking', 1650: 'driving', 1651: 'feet', 1652: 'uh-huh', 1653: 'hangout', 1654: 'join', 1655: 'enjoys', 1656: 'walked', 1657: 'traditions', 1658: \"where'd\", 1659: \"meanin'\", 1660: 'fifty', 1661: 'answers', 1662: 'kinderhook', 1663: 'dive', 1664: 'aggie', 1665: 'trucks', 1666: \"queen's\", 1667: 'eightball', 1668: 'team', 1669: 'warned', 1670: 'joking', 1671: 'sucking', 1672: 'locklear', 1673: 'panicky', 1674: 'fall', 1675: 'gargoyle', 1676: \"soakin's\", 1677: 'jimmy', 1678: 'motor', 1679: 'gear-head', 1680: 'barney-type', 1681: 'dump', 1682: 'wooden', 1683: 'owner', 1684: 'heard', 1685: 'glass', 1686: 'lost', 1687: \"fendin'\", 1688: 'stand', 1689: 'scene', 1690: 'trustworthy', 1691: 'frankly', 1692: '_powers', 1693: 'gin', 1694: 'unattractive', 1695: 'floating', 1696: 'license', 1697: 'flag', 1698: 'tolerable', 1699: 'stacey', 1700: 'crappy', 1701: 'robin', 1702: 'bully', 1703: 'takes', 1704: 'north', 1705: 'angrily', 1706: 'red', 1707: 'delightful', 1708: 'bills', 1709: 'fold', 1710: \"burnin'\", 1711: 'watered', 1712: 'tv_wife', 1713: 'against', 1714: 'heatherton', 1715: 'crowds', 1716: 'acronyms', 1717: 'hanh', 1718: \"wallet's\", 1719: 'creme', 1720: 'die-hard', 1721: 'julienne', 1722: 'whoops', 1723: 'sudden', 1724: 'wok', 1725: 'conversion', 1726: 'highway', 1727: 'urine', 1728: 'pleased', 1729: 'beings', 1730: 'hottest', 1731: \"sittin'\", 1732: 'winston', 1733: 'leftover', 1734: 'jukebox', 1735: 'minimum', 1736: 'west', 1737: 'foot', 1738: 'connor-politan', 1739: 'whether', 1740: 'months', 1741: 'fellow', 1742: 'chocolate', 1743: \"handwriting's\", 1744: 'haws', 1745: 'add', 1746: 'attraction', 1747: 'flash', 1748: 'sunglasses', 1749: 'sports_announcer', 1750: 'palmerston', 1751: 'r', 1752: 'fledgling', 1753: 'meaningfully', 1754: \"moe's_thoughts\", 1755: 'accurate', 1756: 'leprechaun', 1757: \"scammin'\", 1758: 'a-a-b-b-a', 1759: 'neighborhood', 1760: 'proud', 1761: 'exception', 1762: 'hare-brained', 1763: 'hurry', 1764: 'if', 1765: 'bones', 1766: 'lose', 1767: 'hitchhike', 1768: 'managed', 1769: \"that'd\", 1770: 'goes', 1771: \"coaster's\", 1772: \"mopin'\", 1773: 'nick', 1774: 'crawl', 1775: 'groveling', 1776: 'timbuk-tee', 1777: 'project', 1778: 'powered', 1779: 'indifference', 1780: 'nuked', 1781: 'virile', 1782: 'door', 1783: 'toxins', 1784: 'lord', 1785: 'hates', 1786: 'life-partner', 1787: 'drove', 1788: 'thorn', 1789: 'proudly', 1790: 'lonely', 1791: 'taxes', 1792: 'commanding', 1793: 'huggenkiss', 1794: 'paste', 1795: 'course', 1796: 'radishes', 1797: 'body', 1798: 'toms', 1799: 'product', 1800: 'nuclear', 1801: 'befouled', 1802: 'manchego', 1803: 'falsetto', 1804: 'misconstrue', 1805: \"cont'd\", 1806: 'she-pu', 1807: 'elizabeth', 1808: 'duel', 1809: 'thinks', 1810: \"d'ya\", 1811: 'toss', 1812: 'overhearing', 1813: \"wait'll\", 1814: 'lily-pond', 1815: 'reaching', 1816: 'tourist', 1817: 'bloodiest', 1818: \"havin'\", 1819: 'merchants', 1820: 'rub-a-dub', 1821: 'focused', 1822: 'pre-recorded', 1823: \"father's\", 1824: 'oww', 1825: 'bugs', 1826: 'hygienically', 1827: 'borrow', 1828: 'screw', 1829: 'maggie', 1830: 'genuinely', 1831: 'celebrities', 1832: 'ducked', 1833: 'wienerschnitzel', 1834: 'snow', 1835: 'lookalikes', 1836: 'nein', 1837: 'on', 1838: 'eager', 1839: \"you've\", 1840: 'pizzicato', 1841: 'ruled', 1842: 'thirteen', 1843: 'pull', 1844: 'pepper', 1845: 'gimmick', 1846: 'germans', 1847: 'tapered', 1848: 'minors', 1849: 'flynt', 1850: 'cruel', 1851: 'y', 1852: 'offshoot', 1853: 'truth', 1854: 'loved', 1855: 'drink', 1856: 'see', 1857: 'nineteen', 1858: 'closer', 1859: 'gossipy', 1860: 'jay', 1861: 'general', 1862: 'greedy', 1863: 'gel', 1864: 'guilt', 1865: 'cleaning', 1866: 'information', 1867: 'earrings', 1868: 'smells', 1869: 'ram', 1870: 'power', 1871: 'rugged', 1872: 'eyeball', 1873: 'spellbinding', 1874: 'slice', 1875: 'blooded', 1876: 'rods', 1877: 'stein-stengel-', 1878: 'hoped', 1879: 'table', 1880: 'low-life', 1881: 'drapes', 1882: 'kazoo', 1883: 'transylvania', 1884: 'seymour', 1885: 'long', 1886: 'country', 1887: 'sleeps', 1888: 'meeting', 1889: 'drinker', 1890: 'plotz', 1891: 'finest', 1892: 'explaining', 1893: 'robbers', 1894: 'picnic', 1895: 'frogs', 1896: 'tomatoes', 1897: 'killer', 1898: 'so-ng', 1899: 'tenuous', 1900: 'scientific', 1901: 'bubbles-in-my-nose-y', 1902: 'noise', 1903: 'inherent', 1904: 'two-thirds-empty', 1905: 'patty', 1906: 'adequate', 1907: 'cab', 1908: 'exact', 1909: 'generously', 1910: 'squad', 1911: \"coffee'll\", 1912: 'wieners', 1913: \"shootin'\", 1914: 'billion', 1915: 'everybody', 1916: 'karaoke', 1917: 'donor', 1918: 'easily', 1919: 'occurs', 1920: 'grrrreetings', 1921: 'spit', 1922: 'graveyard', 1923: 'lowest', 1924: 'grey', 1925: 'runs', 1926: 'disaster', 1927: 'hunger', 1928: 'test', 1929: 'sadder', 1930: 'dumb-asses', 1931: 'notch', 1932: 'undermine', 1933: 'curiosity', 1934: 'mindless', 1935: 'sketch', 1936: 'failed', 1937: 'forgets', 1938: 'cocking', 1939: 'bonfire', 1940: \"yesterday's\", 1941: 'discuss', 1942: 'swig', 1943: \"b-52's\", 1944: 'cat', 1945: 'dangerous', 1946: 'twenty', 1947: 'balls', 1948: 'producers', 1949: 'listen', 1950: 'sports', 1951: 'alarm', 1952: 'deny', 1953: 'kissing', 1954: 'challenge', 1955: 'supermodel', 1956: 'prince', 1957: 'killarney', 1958: 'bullet-proof', 1959: 'guessing', 1960: 'f-l-a-n-r-d-s', 1961: 'cocoa', 1962: 'spare', 1963: 'marquee', 1964: 'winch', 1965: 'rules', 1966: 'examines', 1967: 'short_man', 1968: 'lobster-based', 1969: 'voyager', 1970: \"startin'\", 1971: 'glowers', 1972: 'moans', 1973: 'such', 1974: 'through', 1975: 'nbc', 1976: 'ambrose', 1977: 'holding', 1978: 'imagine', 1979: 'shakespeare', 1980: 'thrust', 1981: 'parked', 1982: 'writing', 1983: 'grunts', 1984: 'nonchalantly', 1985: 'championship', 1986: 'utility', 1987: 'sharps', 1988: 'pen', 1989: 'whispers', 1990: 'tsk', 1991: 'youth', 1992: 'november', 1993: 'wishful', 1994: 'earlier', 1995: 'liability', 1996: '35', 1997: 'grind', 1998: 'brother-in-law', 1999: 'roller', 2000: 'germany', 2001: 'dearest', 2002: 'dash', 2003: 'self-centered', 2004: 'bono', 2005: \"dyin'\", 2006: 'taught', 2007: 'captain', 2008: 'tablecloth', 2009: 'nail', 2010: 'unexplained', 2011: 'joe', 2012: 'sizes', 2013: 'crotch', 2014: 'pernt', 2015: 'doing', 2016: 'joining', 2017: 'son-of-a', 2018: 'sweetheart', 2019: 'starts', 2020: 'scared', 2021: 'prolonged', 2022: 'churchill', 2023: 'suru', 2024: 'five-fifteen', 2025: 'begins', 2026: 'helps', 2027: 'swimmers', 2028: 'banquo', 2029: 'alive', 2030: 'faceful', 2031: 'mozzarella', 2032: 'trenchant', 2033: 'klingon', 2034: 'extract', 2035: 'hunka', 2036: \"depressin'\", 2037: 'andalay', 2038: 'quimby_#2', 2039: 'grandkids', 2040: 'literature', 2041: 'alpha-crow', 2042: 'ugh', 2043: 'restaurants', 2044: 'switched', 2045: 'nitwit', 2046: 'lay', 2047: 'wham', 2048: 'muttering', 2049: 'french', 2050: 'malabar', 2051: 'crony', 2052: \"thinkin'\", 2053: 'orifice', 2054: 'wish', 2055: 'sheet', 2056: 'saucy', 2057: 'gum', 2058: 'life-sized', 2059: 'gary_chalmers', 2060: 'raining', 2061: 'sidelines', 2062: 'abandon', 2063: 'sober', 2064: 'duffed', 2065: 'promised', 2066: 'thirty-nine', 2067: 'maude', 2068: 'du', 2069: 'reciting', 2070: 'troy_mcclure', 2071: 'sen', 2072: \"edna's\", 2073: 'bartending', 2074: 'conspiracy', 2075: 'diablo', 2076: 'planned', 2077: 'saint', 2078: 'punching', 2079: 'pointedly', 2080: 'president', 2081: 'leave', 2082: 'moe-lennium', 2083: 'crossed', 2084: 'rain', 2085: 'fatso', 2086: 'nascar', 2087: 'dad', 2088: 'goal', 2089: 'mock-up', 2090: \"o'clock\", 2091: \"ain't\", 2092: 'kept', 2093: 'aghast', 2094: 'chilly', 2095: 'chateau', 2096: 'stir', 2097: 'sleigh-horses', 2098: 'funniest', 2099: \"he'll\", 2100: 'alva', 2101: 'vanities', 2102: 'pickles', 2103: 'reconsidering', 2104: 'waterfront', 2105: 'flophouse', 2106: 'bret', 2107: 'boggs', 2108: 'eww', 2109: 'brain', 2110: 'freed', 2111: 'yew', 2112: 'baseball', 2113: 'complaint', 2114: 'talk', 2115: 'manager', 2116: 'sister-in-law', 2117: 'choked', 2118: 'inspector', 2119: 'at', 2120: 'drop', 2121: 'hiya', 2122: 'needy', 2123: 'procedure', 2124: 'buttons', 2125: 'stop', 2126: 'gifts', 2127: 'consciousness', 2128: 'slight', 2129: 'naively', 2130: 'ing', 2131: 'drunk', 2132: 'correction', 2133: 'manipulation', 2134: 'can', 2135: 'sadistic_barfly', 2136: \"what'll\", 2137: 'starve', 2138: 'means', 2139: 'slim', 2140: 'detecting', 2141: 'washed', 2142: 'dan', 2143: 'whatever', 2144: 't-shirt', 2145: 'rainbows', 2146: 'uncomfortable', 2147: 'bring', 2148: 'dice', 2149: 'liven', 2150: 'slipped', 2151: 'nap', 2152: 'contemptuous', 2153: 'sticking-place', 2154: 'women', 2155: 'cannoli', 2156: 'refill', 2157: 'mines', 2158: 'did', 2159: 'hired', 2160: 'nursemaid', 2161: 'hate', 2162: 'low-blow', 2163: 'grace', 2164: 'soothing', 2165: 'filthy', 2166: '-ry', 2167: 'package', 2168: 'aerosmith', 2169: 'busy', 2170: 'noises', 2171: 'indifferent', 2172: \"squeezin'\", 2173: 'awwww', 2174: 'coward', 2175: 'half-day', 2176: 'snap', 2177: 'reward', 2178: 'skinheads', 2179: 'dress', 2180: 'hillary', 2181: 'wide', 2182: 'western', 2183: 'looooooooooooooooooong', 2184: 'late', 2185: 'mortgage', 2186: 'unsourced', 2187: \"tatum'll\", 2188: 'jesus', 2189: 'poet', 2190: 'above', 2191: 'breaks', 2192: 'finished', 2193: 'half', 2194: 'butterball', 2195: 'blood-thirsty', 2196: 'tomahto', 2197: 'sneaky', 2198: 'eye-gouger', 2199: 'snotball', 2200: 'kinds', 2201: 'massive', 2202: 'hillbillies', 2203: 'arm', 2204: 'eh', 2205: 'ways', 2206: 'whatchacallit', 2207: 'good', 2208: 'lead', 2209: 'carl', 2210: 'dallas', 2211: 'unfair', 2212: 'oddest', 2213: 'intruding', 2214: 'pats', 2215: 'disgusted', 2216: 'night', 2217: 'loaded', 2218: 'paramedic', 2219: 'unbelievably', 2220: 'polite', 2221: 'app', 2222: \"i'd\", 2223: 'lemme', 2224: 'pardon', 2225: 'insults', 2226: 'placing', 2227: 'heck', 2228: 'grampa', 2229: 'mall', 2230: 'startled', 2231: 'edgy', 2232: 'sympathy', 2233: 'chips', 2234: 'w', 2235: 'taste', 2236: \"cheerin'\", 2237: 'barter', 2238: 'grunt', 2239: \"clancy's\", 2240: 'naval', 2241: 'swelling', 2242: 'kissed', 2243: 'barkeep', 2244: 'wipe', 2245: 'cheered', 2246: 'compare', 2247: 'made', 2248: 'quitcher', 2249: 'suddenly', 2250: 'medicine', 2251: 'champ', 2252: 'ate', 2253: 'hits', 2254: 'pipe', 2255: 'bam', 2256: 'colorado', 2257: \"spyin'\", 2258: 'celeste', 2259: 'directions', 2260: 'sacrifice', 2261: 'fight', 2262: 'next', 2263: 'smiling', 2264: 'remaining', 2265: 'hampstead-on-cecil-cecil', 2266: 'tabs', 2267: 'hunky', 2268: 'grienke', 2269: 'please/', 2270: 'ceremony', 2271: 'mystery', 2272: 'gentles', 2273: 'driveability', 2274: 'crow', 2275: \"daughter's\", 2276: 'sampler', 2277: 'superpower', 2278: 'find', 2279: 'brandy', 2280: 'nevada', 2281: 'tv_announcer', 2282: 'idea', 2283: 'wheels', 2284: 'nominated', 2285: 'handing', 2286: 'idiots', 2287: 'regulations', 2288: 'furniture', 2289: '||left_parentheses||', 2290: 'highball', 2291: 'mayor', 2292: 'every', 2293: 'eighty-three', 2294: 'hard', 2295: 'suspicious', 2296: 'oh-so-sophisticated', 2297: 'exhaust', 2298: 'swimming', 2299: 'augustus', 2300: 'pays', 2301: 'rumor', 2302: 'easygoing', 2303: 'all-all-all', 2304: 'belts', 2305: 'wage', 2306: 'cecil', 2307: 'later', 2308: 'fox', 2309: 'nobody', 2310: 'beneath', 2311: 'forever', 2312: 'gorgeous', 2313: 'alfred', 2314: 'mrs', 2315: 'cursed', 2316: 'ding-a-ding-ding-a-ding-ding', 2317: 'drinks', 2318: 'cockroach', 2319: 'bitter', 2320: 'treehouse', 2321: \"how're\", 2322: 'someday', 2323: 'dollface', 2324: 'professor_jonathan_frink', 2325: 'sagely', 2326: \"mecca's\", 2327: 'moe-near-now', 2328: 'movies', 2329: 'chunky', 2330: 'today', 2331: 'burg', 2332: \"moe's\", 2333: 'butter', 2334: 'ohhhh', 2335: 'wolfe', 2336: 'black', 2337: 'flaming', 2338: 'happily', 2339: 'attention', 2340: 'promotion', 2341: 'investor', 2342: 'thrown', 2343: 'mortal', 2344: 'pills', 2345: 'deli', 2346: 'many', 2347: 'important', 2348: 'science', 2349: 'maybe', 2350: \"chewin'\", 2351: 'brave', 2352: 'dae', 2353: \"showin'\", 2354: 'photo', 2355: 'cover', 2356: 'fast', 2357: 'old_jewish_man', 2358: 'john', 2359: 'media', 2360: 'turlet', 2361: 'betrayed', 2362: \"wearin'\", 2363: 'bleak', 2364: 'met', 2365: 'suspenders', 2366: 'wangs', 2367: 'rest', 2368: 'hello', 2369: 'bottles', 2370: 'beached', 2371: 'plastered', 2372: 'half-beer', 2373: 'lard', 2374: 'jury', 2375: 'choking', 2376: 'mouths', 2377: 'doooown', 2378: 'parenting', 2379: 'shirt', 2380: 'bender', 2381: 'shakes', 2382: 'shall', 2383: 'my', 2384: \"others'\", 2385: 'drunkenly', 2386: 'artist', 2387: \"won't\", 2388: 'whistling', 2389: 'speech', 2390: 'heartily', 2391: 'kennedy', 2392: 'comeback', 2393: 'marvelous', 2394: 'fbi_agent', 2395: 'across', 2396: 'traitor', 2397: 'super-nice', 2398: 'about', 2399: 'exploiter', 2400: 'stage', 2401: 'watched', 2402: 'blur', 2403: 'twenty-nine', 2404: 'girls', 2405: 'deep', 2406: 'dessert', 2407: 'carney', 2408: 'whoo', 2409: 'compressions', 2410: 'deal', 2411: 'scent', 2412: 'itchy', 2413: 'murmur', 2414: 'cooler', 2415: 'effigy', 2416: 'novel', 2417: 'grimly', 2418: 'peach', 2419: 'scrubbing', 2420: 'loyal', 2421: 'happiness', 2422: 'sniffing', 2423: 'view', 2424: 'else', 2425: 'winded', 2426: 'nobel', 2427: 'dames', 2428: 'attitude', 2429: 'honeys', 2430: 'anonymous', 2431: 'ginger', 2432: 'non-losers', 2433: 'ballclub', 2434: 'mission', 2435: 'email', 2436: 'ivanna', 2437: 'hurt', 2438: 'advertise', 2439: 'applesauce', 2440: 'fanciest', 2441: 'courteous', 2442: 'lighter', 2443: 'wrote', 2444: 'michael_stipe', 2445: 'simon', 2446: 'stores', 2447: 'paid', 2448: \"i'unno\", 2449: 'brainheaded', 2450: 'scream', 2451: 'annus', 2452: 'gumbel', 2453: 'glee', 2454: 'this', 2455: 'hoping', 2456: 'seemed', 2457: 'age', 2458: 'confidentially', 2459: 'schorr', 2460: 'limericks', 2461: 'oooo', 2462: 'hide', 2463: 'those', 2464: 'poking', 2465: 'part', 2466: 'awkwardly', 2467: 'broken', 2468: 'congratulations', 2469: 'huddle', 2470: 'brace', 2471: 'congoleum', 2472: 'pugilist', 2473: 'fat-free', 2474: 'forget-me-shot', 2475: 'drive', 2476: 'suave', 2477: '2nd_voice_on_transmitter', 2478: 'resigned', 2479: 'psst', 2480: 'indeed', 2481: 'overflowing', 2482: 'mm', 2483: 'mistake', 2484: 'flame', 2485: 'oopsie', 2486: 'hosting', 2487: 'brothers', 2488: 'eurotrash', 2489: 'strolled', 2490: 'interrupting', 2491: 'dumptruck', 2492: 'smoothly', 2493: 'dinks', 2494: 'installed', 2495: 'food', 2496: 'rock', 2497: 'match', 2498: 'talk-sings', 2499: 'hurts', 2500: 'acquitted', 2501: 'beer-dorf', 2502: 'wobble', 2503: 'rainforest', 2504: 'bow', 2505: 'finally', 2506: 'he', 2507: 'bid', 2508: 'looting', 2509: 'crowbar', 2510: 'legal', 2511: 'linda', 2512: 'felony', 2513: 'dimly', 2514: 'ireland', 2515: 'totalitarians', 2516: 'well-wisher', 2517: 'heavens', 2518: 'thousand', 2519: 'liar', 2520: 'quarry', 2521: 'delivery', 2522: 'regret', 2523: 'forbidden', 2524: 'fan', 2525: 'mason', 2526: 'nicer', 2527: 'sniper', 2528: 's', 2529: 'teen', 2530: 'anniversary', 2531: 'chosen', 2532: 'calendars', 2533: \"c'mom\", 2534: 'decided', 2535: 'aged_moe', 2536: 'up-bup-bup', 2537: 'flashbacks', 2538: 'yet', 2539: \"boy's\", 2540: 'bites', 2541: '15', 2542: 'jeez', 2543: 'divorced', 2544: 'script', 2545: 'disgracefully', 2546: 'schedule', 2547: 'put', 2548: 'kahlua', 2549: \"hobo's\", 2550: 'lugs', 2551: 'starlets', 2552: \"plank's\", 2553: 'famous', 2554: 'rats', 2555: 'process', 2556: 'squadron', 2557: \"tootin'\", 2558: 'sugar-me-do', 2559: 'kings', 2560: 'hideous', 2561: 'simpson', 2562: 'housework', 2563: 'furry', 2564: 'pleasant', 2565: 'rainier_wolfcastle', 2566: \"grandmother's\", 2567: 'touch', 2568: 'truck', 2569: \"pullin'\", 2570: 'nervous', 2571: 'straighten', 2572: \"jackpot's\", 2573: 'wheeeee', 2574: 'jaegermeister', 2575: 'mommy', 2576: 'ga', 2577: 'a-lug', 2578: 'police', 2579: 'scully', 2580: \"she'll\", 2581: 'quick-like', 2582: 'yelling', 2583: \"football's\", 2584: 'chief_wiggum', 2585: 'toe', 2586: 'decide', 2587: 'we-we-we', 2588: 'bob', 2589: 'puke-pail', 2590: 'soaps', 2591: 'sight-unseen', 2592: 'its', 2593: 'over', 2594: 'mate', 2595: 'ninety-seven', 2596: 'birth', 2597: 'bart_simpson', 2598: 'thawing', 2599: 'aquafresh', 2600: 'wolverines', 2601: 'crayon', 2602: 'junebug', 2603: 'warn', 2604: 'wise', 2605: 'higher', 2606: 'series', 2607: 'hairs', 2608: 'nice', 2609: 'quiet', 2610: 'tha', 2611: 'tall', 2612: 'ooh', 2613: 'profiling', 2614: 'brings', 2615: 'maintenance', 2616: 'peppy', 2617: 'renew', 2618: \"larry's\", 2619: \"drawin'\", 2620: '250', 2621: 'coney', 2622: 'star', 2623: 's-a-u-r-c-e', 2624: 'live', 2625: 'chapter', 2626: 'brockelstein', 2627: 'shark', 2628: 'gunter', 2629: 'sweeter', 2630: 'brainiac', 2631: 'asks', 2632: \"plaster's\", 2633: 'shoes', 2634: 'suppose', 2635: 'ding-a-ding-ding-ding-ding-ding-ding', 2636: 'fix', 2637: \"battin'\", 2638: 'lurks', 2639: 'prefer', 2640: 'burglary', 2641: 'missing', 2642: 'snake_jailbird', 2643: \"liftin'\", 2644: 'con', 2645: 'upn', 2646: 'dilemma', 2647: 'pass', 2648: \"s'pose\", 2649: 'wipes', 2650: 'vacuum', 2651: 'belong', 2652: 'soot', 2653: 'shaved', 2654: \"foolin'\", 2655: 'navy', 2656: 'imaginary', 2657: 'proper', 2658: 'booze', 2659: 'koholic', 2660: 'man_with_crazy_beard', 2661: 'barbed', 2662: 'trunk', 2663: 'coast', 2664: 'peanut', 2665: 'wanted', 2666: 'railroad', 2667: 'smelly', 2668: 'natured', 2669: \"tonight's\", 2670: 'delighted', 2671: 'arguing', 2672: 'stars', 2673: 'declared', 2674: 'most', 2675: 'large', 2676: 'beaumarchais', 2677: 'clean', 2678: 'punkin', 2679: 'married', 2680: 'carb', 2681: 'bit', 2682: 'plug', 2683: 'gay', 2684: 'creature', 2685: 'zone', 2686: 'steam', 2687: 'laney', 2688: 'fantasy', 2689: 'contact', 2690: 'rafters', 2691: 'published', 2692: \"nothin's\", 2693: 'whenever', 2694: 'cowboy', 2695: 'virility', 2696: 'party', 2697: 'coincidentally', 2698: 'waylon', 2699: 'superdad', 2700: 'dawning', 2701: 'moved', 2702: 'poison', 2703: 'tow-joes', 2704: 'hardwood', 2705: 'chub', 2706: 'except', 2707: 'homie', 2708: 'escort', 2709: 'milk', 2710: 'feels', 2711: 'threatening', 2712: 'firing', 2713: 'hobo', 2714: 'itself', 2715: 'astronauts', 2716: 'aerospace', 2717: 'deadly', 2718: 'horribilis', 2719: 'colonel', 2720: 'exciting', 2721: 'stirring', 2722: 'broad', 2723: 'fruit', 2724: 'dregs', 2725: 'sly', 2726: 'finance', 2727: 'weekly', 2728: 'groans', 2729: 'mic', 2730: 'jubilation', 2731: 'died', 2732: 'clearly', 2733: 'tow-talitarian', 2734: 'ashamed', 2735: 'manage', 2736: 'squirrels', 2737: 'sense', 2738: 'plain', 2739: 'protesters', 2740: 'yellow', 2741: 'arms', 2742: 'two-drink', 2743: 'here-here-here', 2744: \"nothin'\", 2745: 'chipper', 2746: 'sheriff', 2747: 'beeps', 2748: 'sleep', 2749: 'stomach', 2750: 'sanctuary', 2751: 'pinchpenny', 2752: 'invulnerable', 2753: 'legs', 2754: 'pawed', 2755: 'seductive', 2756: 'rule', 2757: 'dreamily', 2758: 'tv_father', 2759: 'arse', 2760: 'bliss', 2761: 'waitress', 2762: 'hollywood', 2763: 'agent', 2764: 'innocence', 2765: 'cowardly', 2766: 'event', 2767: \"kids'\", 2768: 'unbelievable', 2769: 'bell', 2770: 'alma', 2771: 'leno', 2772: 'under', 2773: 'compadre', 2774: 'separator', 2775: 'self-made', 2776: 'spiritual', 2777: 'weapon', 2778: 'hot-rod', 2779: 'violations', 2780: 'eu', 2781: 'shriners', 2782: 'buffet', 2783: 'spoken', 2784: 'chug-monkeys', 2785: 'vicious', 2786: 'cuz', 2787: 'glum', 2788: 'wire', 2789: 'hank_williams_jr', 2790: 'fuss', 2791: 'incognito', 2792: 'slurred', 2793: 'determined', 2794: 'silent', 2795: 'stood', 2796: 'eight', 2797: \"guy's\", 2798: 'rounds', 2799: 'laughter', 2800: 'automobiles', 2801: 'prove', 2802: 'lipo', 2803: 'stripe', 2804: 'junkyard', 2805: 'sinister', 2806: 'situation', 2807: 'junior', 2808: 'theatah', 2809: 'glasses', 2810: 'rope', 2811: 'ridiculous', 2812: 'repeated', 2813: 'price', 2814: 'schnapps', 2815: 'bed', 2816: 'refreshment', 2817: 'disturbance', 2818: 'cards', 2819: 'libido', 2820: 'eaten', 2821: 'patient', 2822: 'shtick', 2823: 'raging', 2824: \"c'mere\", 2825: 'excellent', 2826: 'blamed', 2827: 'writer', 2828: 'snake', 2829: \"'\", 2830: \"breakin'\", 2831: 'sabermetrics', 2832: 'afternoon', 2833: 'equal', 2834: 'still', 2835: 'dank', 2836: 'excited', 2837: 'wells', 2838: 'coin', 2839: 'rims', 2840: 'casting', 2841: 'cowboys', 2842: 'atari', 2843: 'stan', 2844: 'plucked', 2845: 'decadent', 2846: 'today/', 2847: 'cyrano', 2848: 'plastic', 2849: 'frazier', 2850: 'yello', 2851: 'declare', 2852: 'patterns', 2853: 'credit', 2854: 'düffenbraus', 2855: 'collateral', 2856: 'retain', 2857: 'quimbys', 2858: 'mansions', 2859: 'testing', 2860: 'backward', 2861: 'darkest', 2862: 'life-extension', 2863: 'tie', 2864: 'energy', 2865: 'around', 2866: 'palm', 2867: 'mom', 2868: 'guzzles', 2869: 'blackjack', 2870: 'astronaut', 2871: 'high-definition', 2872: 'same', 2873: 'windshield', 2874: 'judge', 2875: 'roz', 2876: 'sturdy', 2877: 'friction', 2878: 'beaumont', 2879: 'followed', 2880: 'think', 2881: 'snide', 2882: 'quickly', 2883: 'feel', 2884: 'saving', 2885: 'kind', 2886: 'bank', 2887: 'chain', 2888: 'feeling', 2889: 'tin', 2890: 'impress', 2891: 'chuckles', 2892: 'amber_dempsey', 2893: \"yieldin'\", 2894: 'sheepish', 2895: 'awkward', 2896: 'benefits', 2897: 'hmmmm', 2898: 'affects', 2899: 'precious', 2900: 'hostile', 2901: \"you'd\", 2902: 'speaking', 2903: 'linda_ronstadt', 2904: 'prayers', 2905: 'traitors', 2906: 'hushed', 2907: 'strategy', 2908: 'relationship', 2909: \"fine-lookin'\", 2910: 'sickens', 2911: 'salad', 2912: 'filed', 2913: 'tofu', 2914: 'rump', 2915: 'canoodling', 2916: 'corporate', 2917: 'easier', 2918: 'blend', 2919: 'admit', 2920: 'guns', 2921: \"idea's\", 2922: 'knowingly', 2923: 'forty-nine', 2924: 'crime', 2925: 'sing-song', 2926: 'times', 2927: 'ripping', 2928: 'charm', 2929: 'repay', 2930: 'ton', 2931: 'horrors', 2932: 'gotten', 2933: 'doug', 2934: \"when's\", 2935: 'politicians', 2936: 'king', 2937: 'sternly', 2938: \"'now\", 2939: \"i-i'll\", 2940: 'open-casket', 2941: 'jer', 2942: 'smokes', 2943: 'stealings', 2944: 'because', 2945: 'ohmygod', 2946: 'twelve', 2947: 'began', 2948: 'talked', 2949: \"nixon's\", 2950: 'presumir', 2951: 'telling', 2952: 'frenchman', 2953: 'routine', 2954: 'presses', 2955: 'dan_gillick', 2956: 'illegally', 2957: 'internet', 2958: 'whoopi', 2959: 'honored', 2960: 'blinds', 2961: 'handle', 2962: 'clown', 2963: 'running', 2964: 'both', 2965: 'remember', 2966: 'scientists', 2967: 'letter', 2968: 'supreme', 2969: \"that'll\", 2970: 'steamed', 2971: 'selma', 2972: 'gulliver_dark', 2973: 'fierce', 2974: 'wittgenstein', 2975: 'reentering', 2976: 'phlegm', 2977: 'machine', 2978: 'bounced', 2979: 'him', 2980: \"bashir's\", 2981: 'international', 2982: 'edge', 2983: 'pall', 2984: 'queen', 2985: 'million', 2986: 'wowww', 2987: \"weren't\", 2988: 'chinese_restaurateur', 2989: 'domed', 2990: 'farewell', 2991: 'kodos', 2992: 'cough', 2993: 'puffy', 2994: \"wouldn't-a\", 2995: 'encouraged', 2996: 'grumbling', 2997: 'michael', 2998: 'last', 2999: 'geyser', 3000: \"'im\", 3001: 'besides', 3002: 'somewhere', 3003: 'marshmallow', 3004: 'button', 3005: 'chunk', 3006: 'blows', 3007: 'bon', 3008: 'shot', 3009: 'safecracker', 3010: 'agh', 3011: 'kid', 3012: 'fail', 3013: 'slaves', 3014: 'spinning', 3015: 'brawled', 3016: 'grandiose', 3017: 'mary', 3018: 'jernt', 3019: 'town', 3020: \"cashin'\", 3021: '2', 3022: 'number', 3023: 'weak', 3024: 'culkin', 3025: 'invisible', 3026: 'gonna', 3027: 'stands', 3028: '7-year-old_brockman', 3029: 'bobo', 3030: 'america', 3031: 'whatcha', 3032: 'choices', 3033: \"'er\", 3034: 'nope', 3035: \"that's\", 3036: 'kills', 3037: 'awful', 3038: 'hanging', 3039: 'tiger', 3040: 'expose', 3041: 'inexorable', 3042: 'coy', 3043: 'nigel_bakerbutcher', 3044: \"writin'\", 3045: 'boozebag', 3046: 'gregor', 3047: 'self-satisfied', 3048: 'killjoy', 3049: 'flames', 3050: 'unsafe', 3051: 'rainier', 3052: 'pictured', 3053: 'othello', 3054: 'hearse', 3055: \"what're\", 3056: 'rip-off', 3057: 'gal', 3058: 'recommend', 3059: 'shhh', 3060: 'comes', 3061: 'sustain', 3062: 'physical', 3063: 'stinger', 3064: 'overturned', 3065: 'guest', 3066: 'vulnerable', 3067: 'moron', 3068: 'forget-me-drinks', 3069: 'ninety-eight', 3070: \"pressure's\", 3071: 'padre', 3072: 'stewart', 3073: 'small_boy', 3074: 'jams', 3075: 'lobster', 3076: 'george', 3077: 'afraid', 3078: 'mm-hmm', 3079: 'quarter', 3080: 'theater', 3081: 'kinda', 3082: 'giant', 3083: 'spelling', 3084: 'goo', 3085: \"'til\", 3086: \"what's\", 3087: 'accident', 3088: 'school', 3089: 'grants', 3090: 'trapped', 3091: 'achem', 3092: 'rolling', 3093: 'singer', 3094: 'further', 3095: 'conference', 3096: 'carlson', 3097: 'i-i', 3098: 'monkey', 3099: 'ignorant', 3100: 'church', 3101: 'wounds', 3102: 'businessman_#1', 3103: 'afterglow', 3104: 'rat-like', 3105: 'beers', 3106: 'hemoglobin', 3107: 'masks', 3108: 'hug', 3109: 'anti-crime', 3110: 'thousands', 3111: 'awfully', 3112: 'beloved', 3113: 'brakes', 3114: 'a-b-', 3115: \"murphy's\", 3116: 'toy', 3117: 'fell', 3118: 'tasimeter', 3119: 'years', 3120: \"bein'\", 3121: 'eyed', 3122: 'teacup', 3123: 'store-bought', 3124: 'professor', 3125: 'christopher', 3126: 'dejected', 3127: 'burps', 3128: \"cuckold's\", 3129: 'c', 3130: \"o'\", 3131: 'unlucky', 3132: 'who', 3133: 'accept', 3134: 'drop-off', 3135: 'ask', 3136: 'diamond', 3137: 'baloney', 3138: \"tab's\", 3139: \"sippin'\", 3140: 'briefly', 3141: 'peter', 3142: 'screws', 3143: 'stunned', 3144: 'philosophic', 3145: 'storms', 3146: 'sandwich', 3147: \"number's\", 3148: 'chest', 3149: 'hounds', 3150: 'ratio', 3151: 'american', 3152: 'nuts', 3153: 'tester', 3154: 'firmly', 3155: 'row', 3156: 'bad', 3157: 'ivy-covered', 3158: 'lisa_simpson', 3159: 'packets', 3160: 'gasoline', 3161: 'after', 3162: 'caholic', 3163: \"swishifyin'\", 3164: 'cobra', 3165: 'brewed', 3166: 'bulletin', 3167: 'guttural', 3168: 'snorts', 3169: 'fool', 3170: 'papa', 3171: 'earth', 3172: 'encouraging', 3173: 'not', 3174: 'noticing', 3175: 'twelveball', 3176: 'repressed', 3177: 'amanda', 3178: 'giving', 3179: 'world-class', 3180: 'obsessive-compulsive', 3181: 'bachelorette', 3182: 'start', 3183: 'bathing', 3184: 'deeper', 3185: 'mcclure', 3186: 'uninhibited', 3187: 'grub', 3188: 'flayvin', 3189: 'urge', 3190: 'nameless', 3191: 'doubt', 3192: 'thoughtful', 3193: 'tasty', 3194: 'tactful', 3195: 'eighty-one', 3196: 'pulled', 3197: 'hateful', 3198: 'majesty', 3199: 'death', 3200: 'classy', 3201: 'engraved', 3202: 'swill', 3203: 'student', 3204: 'cupid', 3205: 'supports', 3206: 'gruff', 3207: 'had', 3208: 'second', 3209: 'normal', 3210: 'ihop', 3211: '_kissingher', 3212: 'appealing', 3213: 'enterprising', 3214: 'knock', 3215: 'hunting', 3216: 'beer', 3217: 'bachelorhood', 3218: 'different', 3219: 'strong', 3220: 'beer-jerks', 3221: 'lush', 3222: 'moving', 3223: 'matter-of-fact', 3224: 'chinese', 3225: 'shoot', 3226: \"car's\", 3227: 'endorsement', 3228: 'miss', 3229: 'appreciated', 3230: 'fun', 3231: 'carefully', 3232: 'burning', 3233: 'pajamas', 3234: 'planted', 3235: 'wonder', 3236: 'heavyset', 3237: 'executive', 3238: 'test-', 3239: 'fry', 3240: 'natural', 3241: 'college', 3242: 'wings', 3243: 'courage', 3244: 'heads', 3245: 'rancid', 3246: 'bleacher', 3247: 'plow', 3248: 'grieving', 3249: 'completely', 3250: 'hooked', 3251: 'label', 3252: '21', 3253: 'nigerian', 3254: 'march', 3255: \"knockin'\", 3256: 'softer', 3257: 'omit', 3258: 'degradation', 3259: 'lizard', 3260: 'fdic', 3261: 'stamps', 3262: 'size', 3263: 'knew', 3264: 'shoots', 3265: 'greetings', 3266: 'along', 3267: 'wine', 3268: 'notorious', 3269: 'veteran', 3270: \"'roids\", 3271: 'uglier', 3272: 'rub', 3273: 'annoying', 3274: 'caused', 3275: 'moe_recording', 3276: 'therapy', 3277: 'gags', 3278: 'bigger', 3279: 'coyly', 3280: 'william', 3281: '70', 3282: 'swe-ee-ee-ee-eet', 3283: 'mob', 3284: 'cell-ee', 3285: 'going', 3286: \"kid's\", 3287: \"hasn't\", 3288: 'donated', 3289: 'schmoe', 3290: 'batmobile', 3291: 'parking', 3292: 'mail', 3293: 'surprising', 3294: 'fancy', 3295: 'acquaintance', 3296: 'sinkhole', 3297: 'hands', 3298: 'forward', 3299: 'marvin', 3300: 'prints', 3301: 'ticks', 3302: 'elaborate', 3303: 'ventriloquism', 3304: 'worked', 3305: 'i/you', 3306: 'starla', 3307: 'monorails', 3308: 'worse', 3309: 'tomorrow', 3310: 'politician', 3311: 'chill', 3312: 'chili', 3313: 'outta', 3314: 'chick', 3315: \"speakin'\", 3316: 'how', 3317: 'bursts', 3318: 'depressant', 3319: 'terrace', 3320: 'poetry', 3321: 'belch', 3322: 'problemo', 3323: 'keeping', 3324: '||return||', 3325: 'ahhhh', 3326: 'loudly', 3327: 'france', 3328: 'spits', 3329: 'chauffeur', 3330: 'stretches', 3331: 'dateline', 3332: 'spacey', 3333: 'enthusiasm', 3334: 'clothespins', 3335: 'sales', 3336: \"'pu\", 3337: 'worth', 3338: 'steaming', 3339: 'fat_in_the_hat', 3340: 'mmm-hmm', 3341: 'troll', 3342: 'moxie', 3343: 'cummerbund', 3344: 'foibles', 3345: 'doom', 3346: 'renovations', 3347: 'will', 3348: \"monroe's\", 3349: 'leathery', 3350: 'wake', 3351: 'clap', 3352: 'kissingher', 3353: 'complete', 3354: \"ma'am\", 3355: 'nerd', 3356: 'dumpster', 3357: 'taken', 3358: 'presto', 3359: 'chicks', 3360: 'byrne', 3361: 'troy', 3362: 'boxcar', 3363: 'fortune', 3364: 'term', 3365: 'yee-ha', 3366: 'bedroom', 3367: 'fourth', 3368: \"challengin'\", 3369: 'connor', 3370: 'costume', 3371: \"rentin'\", 3372: 'solves', 3373: 'unhook', 3374: 'whisper', 3375: 'correct', 3376: 'blowfish', 3377: 'sex', 3378: '1973', 3379: 'wrapped', 3380: 'listened', 3381: 'alley', 3382: 'teenage', 3383: 'access', 3384: 'experience', 3385: 'knives', 3386: 'trip', 3387: \"somebody's\", 3388: 'uses', 3389: \"round's\", 3390: 'homer', 3391: 'cheesecake', 3392: 'smooth', 3393: 'chipped', 3394: 'mumbling', 3395: 'lear', 3396: 'exits', 3397: \"rasputin's\", 3398: 'villanova', 3399: 'badmouths', 3400: 'ragtime', 3401: 'ralphie', 3402: 'regulars', 3403: 'bee', 3404: 'society_matron', 3405: 'weekend', 3406: 'meal', 3407: 'names', 3408: 'be-stainèd', 3409: 'ahem', 3410: 'maitre', 3411: 'wave', 3412: 'peter_buck', 3413: 'adrift', 3414: 'penmanship', 3415: 'group', 3416: 'badmouth', 3417: 'flowers', 3418: 'space', 3419: 'emphasis', 3420: 'left', 3421: 'lungs', 3422: 'chinua', 3423: 'them', 3424: 'barber', 3425: 'celebration', 3426: 'necessary', 3427: 'feminine', 3428: 'disillusioned', 3429: 'tapestry', 3430: 'affection', 3431: 'delightfully', 3432: 'jewelry', 3433: 'friendly', 3434: 'louie', 3435: 'janette', 3436: 'desire', 3437: 'desperate', 3438: 'freak', 3439: 'favor', 3440: 'walks', 3441: 'selma_bouvier', 3442: '4x4', 3443: 'question_mark', 3444: 'title', 3445: \"bo's\", 3446: 'fonzie', 3447: 'spot', 3448: 'assent', 3449: 'entire', 3450: 'denser', 3451: 'tough', 3452: 'jovial', 3453: 'shrugging', 3454: 'dying', 3455: 'barney', 3456: \"s'cuse\", 3457: 'saying', 3458: 'person', 3459: 'illustrates', 3460: 'solid', 3461: 'perverse', 3462: 'radio', 3463: 'burp', 3464: 'recent', 3465: 'wally', 3466: 'contractors', 3467: 'heh', 3468: 'go', 3469: 'column', 3470: 'popping', 3471: 'remote', 3472: \"sayin'\", 3473: 'cheapskates', 3474: 'insecure', 3475: 'sam', 3476: \"g'ahead\", 3477: 'barf', 3478: 'badge', 3479: \"beer's\", 3480: 'multi-national', 3481: 'when', 3482: 'billy_the_kid', 3483: 'encore', 3484: 'u2', 3485: 'kisser', 3486: 'thirty-five', 3487: 'sack', 3488: 'wearing', 3489: 'intimacy', 3490: 'they', 3491: 'abercrombie', 3492: 'sympathizer', 3493: 'lousy', 3494: 'bellyaching', 3495: 'fragile', 3496: 'closing', 3497: 'wordloaf', 3498: 'stairs', 3499: 'plums', 3500: 'rat', 3501: 'funny', 3502: 'sixteen', 3503: 'cases', 3504: 'binoculars', 3505: 'fast-paced', 3506: 'dizer', 3507: 'tuborg', 3508: \"'n'\", 3509: 'voted', 3510: 'windex', 3511: 'breakdown', 3512: 'ads', 3513: 'clenched', 3514: 'middle', 3515: 'reality', 3516: 'frat', 3517: 'ronstadt', 3518: 'persia', 3519: 'isle', 3520: 'lift', 3521: 'girl-bart', 3522: 'before', 3523: 'in-ground', 3524: 'suspiciously', 3525: 'no', 3526: 'mop', 3527: 'station', 3528: \"marge's\", 3529: 'noooooooooo', 3530: 'dads', 3531: 'race', 3532: 'plum', 3533: 'al_gore', 3534: 'now', 3535: 'patty_bouvier', 3536: 'do', 3537: 'botanical', 3538: 'nantucket', 3539: \"seein'\", 3540: 'go-near-', 3541: 'recipe', 3542: 'orphan', 3543: 'italian', 3544: 'potato', 3545: 'rueful', 3546: 'month', 3547: 'color', 3548: \"team's\", 3549: 'worry', 3550: 'nordiques', 3551: \"dimwit's\", 3552: 'paints', 3553: 'ingredient', 3554: '_hooper', 3555: 'certificate', 3556: 'car', 3557: 'startup', 3558: \"homer's\", 3559: 'commission', 3560: 'assumed', 3561: 'cartoons', 3562: 'tipsy', 3563: 'spamming', 3564: 'lights', 3565: 'bottom', 3566: 'based', 3567: 'düff', 3568: 'dude', 3569: 'underbridge', 3570: 'roomy', 3571: 'huhza', 3572: 'white', 3573: 'heliotrope', 3574: 'sued', 3575: 'sniffs', 3576: 'right-handed', 3577: 'aunt', 3578: \"dolph's_dad\", 3579: 'consider', 3580: 'tribute', 3581: 'incriminating', 3582: 'urban', 3583: 'religion', 3584: 'etc', 3585: 'bindle', 3586: 'fill', 3587: 'whirlybird', 3588: \"didn't\", 3589: 'loneliness', 3590: 'dishonor', 3591: 'drivers', 3592: 'bucket', 3593: 'rockers', 3594: 'bridge', 3595: 'barbara', 3596: 'mole', 3597: 'oblivious', 3598: 'thing', 3599: 'very', 3600: 'resist', 3601: 'basement', 3602: 'latour', 3603: 'approval', 3604: 'alcoholism', 3605: 'studio', 3606: 'ladder', 3607: 'new_health_inspector', 3608: 'slick', 3609: 'collapse', 3610: 'reserve', 3611: 'gruesome', 3612: 'cerebral', 3613: 'burger', 3614: 'environment', 3615: 'partially', 3616: 'susie-q', 3617: 'fad', 3618: 'squeezed', 3619: 'compromise', 3620: '||right_parentheses||', 3621: 'uhhhh', 3622: 'savagely', 3623: \"tinklin'\", 3624: 'm', 3625: 'kidney', 3626: 'hangs', 3627: 'inspection', 3628: 'forget', 3629: 'mint', 3630: 'often', 3631: 'worldview', 3632: 'medical', 3633: 'longer', 3634: 'grand', 3635: 'demo', 3636: 'celebrate', 3637: 'pas', 3638: 'counterfeit', 3639: 'lushmore', 3640: 'shut', 3641: 'freely', 3642: 'aer', 3643: 'delivery_man', 3644: 'slapped', 3645: 'aidens', 3646: 'bottomless', 3647: 'problems', 3648: 'seriously', 3649: 'shyly', 3650: 'beep', 3651: 'menacing', 3652: 'seymour_skinner', 3653: 'donate', 3654: 'cozy', 3655: 'displeased', 3656: 'certified', 3657: 'population', 3658: 'customer', 3659: 'milhouse_van_houten', 3660: 'attend', 3661: 'pirate', 3662: 'asses', 3663: 'things', 3664: 'fit', 3665: 'ye', 3666: 'scarf', 3667: 'each', 3668: 'unusually', 3669: 'stuff', 3670: 'espousing', 3671: 'solo', 3672: 'swine', 3673: \"it's\", 3674: 'comic', 3675: 'whining', 3676: 'drawn', 3677: \"takin'\", 3678: 'louisiana', 3679: 'prompting', 3680: 'tenor', 3681: 'hearts', 3682: 'splendid', 3683: 'twenty-five', 3684: 'homers', 3685: 'up', 3686: 'gestated', 3687: 'concentrate', 3688: 'ho-ly', 3689: 'bugging', 3690: 'spoon', 3691: 'nucular', 3692: 'dyspeptic', 3693: 'midge', 3694: 'charlie', 3695: 'worldly', 3696: \"soundin'\", 3697: 'image', 3698: 'cousin', 3699: 'neon', 3700: 'alien', 3701: 'knocks', 3702: 'apu_nahasapeemapetilon', 3703: 'helping', 3704: 'seething', 3705: 'unable', 3706: 'booger', 3707: 'during', 3708: 'ourselves', 3709: 'marge_simpson', 3710: 'supervising', 3711: 'gambler', 3712: 'sexual', 3713: 'ohh', 3714: 'ointment', 3715: 'choice', 3716: 'chapel', 3717: 'faint', 3718: 'viva', 3719: 'wife-swapping', 3720: 'olive', 3721: \"industry's\", 3722: 'roach', 3723: 'billiard', 3724: 'appropriate', 3725: \"'round\", 3726: 'unkempt', 3727: 'kidneys', 3728: 'spent', 3729: 'valuable', 3730: 'said', 3731: 'woo', 3732: 'puzzled', 3733: 'shaking', 3734: 'stories', 3735: 'pretty', 3736: 'ripped', 3737: 'gheet', 3738: 'howya', 3739: 'len-ny', 3740: 'chuckling', 3741: 'foam', 3742: 'agency', 3743: 'neil_gaiman', 3744: 'totally', 3745: 'all-star', 3746: 'greystash', 3747: 'changed', 3748: 'bubbles', 3749: 'square', 3750: 'breathless', 3751: 'issues', 3752: 'distraught', 3753: 'tolerance', 3754: 'year', 3755: 'defiantly', 3756: 'fellas', 3757: 'blues', 3758: 'bastard', 3759: \"starla's\", 3760: 'her', 3761: 'ecru', 3762: 'penny', 3763: '_marvin_monroe', 3764: 'sky', 3765: 'distance', 3766: 'lenford', 3767: 'montrer', 3768: 'picky', 3769: 'terrified', 3770: 'place', 3771: 'whaaaa', 3772: 'secrets', 3773: 'legoland', 3774: 'babar', 3775: 'fraud', 3776: 'broadway', 3777: 'bookie', 3778: \"they've\", 3779: 'ah-ha', 3780: 'naturally', 3781: 'coat', 3782: 'sunk', 3783: 'retired', 3784: 'flexible', 3785: 'tale', 3786: \"family's\", 3787: \"listenin'\", 3788: 'eighty-seven', 3789: \"other's\", 3790: 'than', 3791: 'alone', 3792: 'murdered', 3793: 'bits', 3794: 'bashir', 3795: 'abcs', 3796: 'swigmore', 3797: 'jacks', 3798: 'satisfied', 3799: 'don', 3800: 'snitch', 3801: 'enjoy', 3802: 'abolish', 3803: 'fifteen', 3804: 'wiping', 3805: 'relax', 3806: 'pain', 3807: 'cobbling', 3808: 'snaps', 3809: 'absorbent', 3810: 'broke', 3811: 'pouring', 3812: 'barstools', 3813: 'op', 3814: 'advertising', 3815: 'trade', 3816: 'respect', 3817: \"doin'\", 3818: 'aims', 3819: 'assistant', 3820: 're-al', 3821: 'wait', 3822: 'booth', 3823: 'listening', 3824: 'martini', 3825: 'rewound', 3826: 'care', 3827: 'disposal', 3828: 'shares', 3829: 'work', 3830: 'first', 3831: 'action', 3832: 'meteor', 3833: 'mugs', 3834: 'kool', 3835: 'mistresses', 3836: 'grumpy', 3837: \"payin'\", 3838: 'vestigial', 3839: 'infatuation', 3840: 'grab', 3841: \"smokin'_joe_frazier\", 3842: 'us', 3843: 'patting', 3844: 'milhouse', 3845: 'fumigated', 3846: 'laid', 3847: 'cause', 3848: 'conditioning', 3849: 'ah', 3850: 'gr-aargh', 3851: 'greatly', 3852: 'kirk_voice_milhouse', 3853: 'presidents', 3854: 'socialize', 3855: 'selective', 3856: 'early', 3857: 'adjust', 3858: 'celebrity', 3859: 'shesh', 3860: 'appalled', 3861: 'passports', 3862: 'company', 3863: 'aggravated', 3864: 'cheery', 3865: 'key', 3866: 'creeps', 3867: 'guinea', 3868: 'unless', 3869: 'dollar', 3870: 'bluff', 3871: 'bartenders', 3872: 'harvey', 3873: 'connection', 3874: 'whiny', 3875: 'kwik-e-mart', 3876: 'value', 3877: 'adopted', 3878: 'splash', 3879: 'hippies', 3880: 'modest', 3881: \"'s\", 3882: 'wolveriskey', 3883: 'sit', 3884: 'ninth', 3885: 'polish', 3886: 'solely', 3887: 'simp-sonnnn', 3888: 'reactions', 3889: 'off', 3890: 'failure', 3891: 'seconds', 3892: 'protesting', 3893: 'boyhood', 3894: 'leak', 3895: 'likes', 3896: 'crazy', 3897: 'man', 3898: 'rivalry', 3899: 'market', 3900: 'entertainer', 3901: 'inquiries', 3902: 'unrelated', 3903: 'lachrymose', 3904: 'instantly', 3905: 'handwriting', 3906: 'sang', 3907: 'shaken', 3908: 'mid-seventies', 3909: 'payday', 3910: \"y'see\", 3911: 'darjeeling', 3912: \"gentleman's\", 3913: 'loan', 3914: 'sec_agent_#2', 3915: 'coins', 3916: 'hearing', 3917: 'lock', 3918: 'taps', 3919: 'jolly', 3920: 'kentucky', 3921: 'der', 3922: 'log', 3923: 'priceless', 3924: 'website', 3925: 'human', 3926: 'pews', 3927: 'simplest', 3928: \"he's\", 3929: 'minutes', 3930: 'warren', 3931: 'raccoons', 3932: 'versus', 3933: 'enveloped', 3934: 'face', 3935: 'strains', 3936: 'gus', 3937: 'writers', 3938: 'feat', 3939: \"valentine's\", 3940: 'flaking', 3941: 'betcha', 3942: 'laughing', 3943: 'community', 3944: 'led', 3945: 'sobbing', 3946: 'inspired', 3947: 'risqué', 3948: 'boxers', 3949: 'continuing', 3950: 'cesss', 3951: 'windowshade', 3952: 'tragedy', 3953: 'remembering', 3954: 'nor', 3955: 'tell', 3956: 'tax', 3957: 'goblins', 3958: 'gasps', 3959: 'couch', 3960: 'hah', 3961: 'cattle', 3962: 'sat-is-fac-tion', 3963: 'publish', 3964: 'toys', 3965: 'depressed', 3966: 'by', 3967: 'alcohol', 3968: 'tv-station_announcer', 3969: 'trying', 3970: \"fans'll\", 3971: 'control', 3972: 'may', 3973: 'rutabaga', 3974: 'material', 3975: 'me', 3976: 'spreads', 3977: 'involving', 3978: 'rag', 3979: 'prepared', 3980: 'pope', 3981: 'kenny', 3982: 'high', 3983: 'stored', 3984: 'rapidly', 3985: 'skunk', 3986: 'wow', 3987: 'enemy', 3988: 'yoo', 3989: 'plaintive', 3990: 'uneasy', 3991: 'done', 3992: 'specific', 3993: 'finger', 3994: 'intrigued', 3995: 'assume', 3996: 'avec', 3997: 'pasta', 3998: 'fortress', 3999: 'die', 4000: 'closes', 4001: 'past', 4002: 'sadly', 4003: 'peeved', 4004: \"buyin'\", 4005: 'scum-sucking', 4006: 'hair', 4007: 'shuts', 4008: 'war', 4009: 'case', 4010: 'toasting', 4011: 'fuzzlepitch', 4012: 'wanna', 4013: 'releasing', 4014: 'able', 4015: 'mexican', 4016: 'numbers', 4017: 'streetlights', 4018: 'caveman', 4019: 'richer', 4020: 'damage', 4021: 'santeria', 4022: 'model', 4023: 'voodoo', 4024: 'wrong', 4025: 'insist', 4026: 'realizing', 4027: 'secret', 4028: \"'topes\", 4029: 'tries', 4030: 'ape-like', 4031: 'sudoku', 4032: 'sauce', 4033: 'impeach', 4034: 'shard', 4035: 'sponsor', 4036: \"who's\", 4037: 'nightmare', 4038: 'singing/pushing', 4039: 'foodie', 4040: 'coffee', 4041: 'arimasen', 4042: 'bauer', 4043: \"fryer's\", 4044: 'confidential', 4045: 'allegiance', 4046: 'man_with_tree_hat', 4047: 'ribbon', 4048: 'salvation', 4049: 'shame', 4050: \"lovers'\", 4051: 'eating', 4052: 'dee-fense', 4053: 'squeals', 4054: 'register', 4055: 'lou', 4056: 'wraps', 4057: 'firm', 4058: 'bill_james', 4059: 'nearly', 4060: 'poetics', 4061: 'buying', 4062: 'hop', 4063: 'hooters', 4064: 'ones', 4065: 'dig', 4066: 'god', 4067: 'stalking', 4068: 'jerks', 4069: 'invited', 4070: 'trolls', 4071: 'luv', 4072: 'low', 4073: 'clock', 4074: 'computer_voice_2', 4075: 'anyhoo', 4076: 'bet', 4077: 'kitchen', 4078: 'lainie', 4079: 'awww', 4080: 'factor', 4081: 'morning', 4082: 'horses', 4083: 'henry', 4084: 'elves', 4085: 'yourselves', 4086: 'dead', 4087: 'agnes_skinner', 4088: 'warmly', 4089: 'lorre', 4090: 'shoulder', 4091: 'free', 4092: \"we're\", 4093: \"renovatin'\", 4094: 'theatrical', 4095: 'alfalfa', 4096: 'triangle', 4097: 'waltz', 4098: 'larry', 4099: 'tree_hoper', 4100: 'surprised', 4101: 'heart', 4102: 'easy-going', 4103: 'distract', 4104: 'eyeballs', 4105: 'loboto-moth', 4106: 'peeping', 4107: 'drinking', 4108: 'shores', 4109: 'cranberry', 4110: 'scornfully', 4111: \"everyone's\", 4112: 'circus', 4113: 'panicked', 4114: \"raggin'\", 4115: 'pretzels', 4116: 'glitterati', 4117: 'ugly', 4118: 'attack', 4119: 'emotion', 4120: \"tester's\", 4121: 'online', 4122: 'humiliation', 4123: 'throws', 4124: 'flanders', 4125: 'handoff', 4126: 'luxury', 4127: 'frozen', 4128: 'end', 4129: 'clientele', 4130: 'narrator', 4131: 'raking', 4132: 'gang', 4133: 'appointment', 4134: 'fabulous', 4135: 'noggin', 4136: 'law-abiding', 4137: 'familiar', 4138: 'african', 4139: 'magazine', 4140: 'moe-clone', 4141: 'wiener', 4142: 'peanuts', 4143: 'infor', 4144: 'eats', 4145: 'radical', 4146: 'scoffs', 4147: 'sumatran', 4148: 'kearney_zzyzwicz', 4149: 'must', 4150: 'dennis_conroy', 4151: 'named', 4152: 'tail', 4153: 'umm', 4154: 'evil', 4155: 'ron', 4156: 'perón', 4157: 'army', 4158: 'maher', 4159: 'play/', 4160: 'dory', 4161: 'perfunctory', 4162: 'weirder', 4163: 'sue', 4164: 'africanized', 4165: 'scam', 4166: 'commit', 4167: 'drag', 4168: 'common', 4169: 'duty', 4170: 'repairman', 4171: 'mckinley', 4172: 'marjorie', 4173: 'learn', 4174: 'norway', 4175: 'california', 4176: 'snapping', 4177: 'mini-dumpsters', 4178: 'watered-down', 4179: 'slays', 4180: 'louse', 4181: 'guide', 4182: 'mellow', 4183: 'brown', 4184: 'our', 4185: 'coma', 4186: 'undies', 4187: 'shag', 4188: 'stalin', 4189: 'chair', 4190: 'menlo', 4191: 'fondest', 4192: 'throwing', 4193: 'moan', 4194: 'outs', 4195: 'ura', 4196: 'father', 4197: 'tatum', 4198: 'club', 4199: \"poisonin'\", 4200: 'passes', 4201: 'chug', 4202: 'allowance', 4203: \"o'reilly\", 4204: 'golf', 4205: 'rhyme', 4206: 'built', 4207: 'pepto-bismol', 4208: 'temper', 4209: 'teddy', 4210: \"o'problem\", 4211: 'boisterous', 4212: 'eighty-six', 4213: \"kiddin'\", 4214: 'sixty', 4215: 'relative', 4216: 'formico', 4217: 'throat', 4218: 'jerky', 4219: 'owes', 4220: 'nature', 4221: 'young_homer', 4222: \"santa's\", 4223: 'seat', 4224: 'marmaduke', 4225: 'here', 4226: 'socratic', 4227: 'allowed', 4228: \"'cept\", 4229: 'whispered', 4230: 'list', 4231: 'love', 4232: 'fresh', 4233: 'mathis', 4234: 'justice', 4235: 'uniforms', 4236: \"fishin'\", 4237: 'election', 4238: 'salt', 4239: 'frightened', 4240: 'mac-who', 4241: 'picture', 4242: 'thunder', 4243: 'helen', 4244: 'parasol', 4245: 'imported-sounding', 4246: 'absentmindedly', 4247: 'book', 4248: 'kramer', 4249: 'elect', 4250: 'oils', 4251: 'selection', 4252: 'tummies', 4253: 'trusted', 4254: 'thnord', 4255: 'unhappy', 4256: 'outlive', 4257: 'saturday', 4258: 'workers', 4259: 'cameras', 4260: 'frontrunner', 4261: 'judge_snyder', 4262: 'fatty', 4263: 'ringing', 4264: 'disapproving', 4265: 'ditched', 4266: 'darkness', 4267: \"tryin'\", 4268: 'guard', 4269: 'neither', 4270: 'part-time', 4271: 'sisters', 4272: 'stranger', 4273: 'detective_homer_simpson', 4274: 'site', 4275: 'twenty-two', 4276: \"shan't\", 4277: 'cozies', 4278: 'over-pronouncing', 4279: 'dark', 4280: 'following', 4281: 'birthplace', 4282: 'castle', 4283: '7g', 4284: 'believer', 4285: 'feedbag', 4286: 'fights', 4287: 'fund', 4288: 'thru', 4289: 'fourteen', 4290: 'boneheaded', 4291: 'stock', 4292: 'spilled', 4293: \"stayin'\", 4294: 'laughs', 4295: 'miss_lois_pennycandy', 4296: 'sunny', 4297: 'film', 4298: 'swishkabobs', 4299: 'negative', 4300: 'strongly', 4301: 'period', 4302: 'idiot', 4303: 'locked', 4304: 'need', 4305: 'marriage', 4306: 'isotopes', 4307: 'starting', 4308: 'karaoke_machine', 4309: 'fixes', 4310: 'bear', 4311: 'mid-conversation', 4312: 'safely', 4313: 'mind', 4314: 'elder', 4315: 'stays', 4316: 'jumps', 4317: \"bar's\", 4318: 'yesterday', 4319: \"ma's\", 4320: 'amber', 4321: 'lame', 4322: 'presidential', 4323: 'coherent', 4324: 'wash', 4325: 'rude', 4326: 'seems', 4327: \"carl's\", 4328: 'trouble', 4329: 'tobacky', 4330: 'ore', 4331: 'referee', 4332: 'korea', 4333: 'friday', 4334: 'promise', 4335: 'mirror', 4336: 'majority', 4337: 'hispanic_crowd', 4338: 'poke', 4339: \"changin'\", 4340: 'simpsons', 4341: 'cream', 4342: 'sperm', 4343: 'busiest', 4344: 'ebullient', 4345: 'mccarthy', 4346: 'fine', 4347: 'waste', 4348: 'present', 4349: 'vigilante', 4350: 'youngsters', 4351: 'state', 4352: 'afloat', 4353: 'female_inspector', 4354: 'it', 4355: 'capitol', 4356: 'skoal', 4357: 'dismissive', 4358: \"can't-believe-how-bald-he-is\", 4359: 'slightly', 4360: 'warm_female_voice', 4361: 'macbeth', 4362: 'aggravazes', 4363: 'microbrew', 4364: 'piece', 4365: 'blinded', 4366: \"what'sa\", 4367: 'hats', 4368: 'squabbled', 4369: 'causes', 4370: 'any', 4371: 'young_barfly', 4372: 'dumbest', 4373: 'holds', 4374: 'trash', 4375: 'air', 4376: 'served', 4377: 'snatch', 4378: 'gimme', 4379: \"messin'\", 4380: 'absolutely', 4381: 'aboard', 4382: 'name', 4383: 'realize', 4384: 'mill', 4385: 'flying', 4386: 'chumbawamba', 4387: 'shred', 4388: 'yes', 4389: 'apart', 4390: 'career', 4391: 'insulin', 4392: 'prettiest', 4393: 'ned_flanders', 4394: 'journey', 4395: 'tap', 4396: 'woulda', 4397: 'sounds', 4398: 'bars', 4399: 'winks', 4400: 'ease', 4401: 'winning', 4402: 'swings', 4403: 'anti-lock', 4404: 'coughs', 4405: 'future', 4406: 'unjustly', 4407: 'synthesize', 4408: 'why', 4409: 'swear', 4410: 'forty-five', 4411: 'dime', 4412: 'justify', 4413: 'filled', 4414: 'breathalyzer', 4415: 'life', 4416: 'island', 4417: 'goods', 4418: 'possibly', 4419: 'haplessly', 4420: 'manboobs', 4421: 'yours', 4422: 'slurps', 4423: 'freeze', 4424: 'grampa_simpson', 4425: 'proves', 4426: 'releases', 4427: 'occurred', 4428: 'pants', 4429: 'el', 4430: 'owned', 4431: 'hawaii', 4432: \"isn't\", 4433: 'uncle', 4434: 'would', 4435: 'madman', 4436: 'femininity', 4437: 'all-american', 4438: 'without', 4439: 'jerk', 4440: 'day', 4441: 'officials', 4442: 'poem', 4443: 'dating', 4444: 'tree', 4445: 'souvenir', 4446: \"games'd\", 4447: \"this'll\", 4448: 'recorder', 4449: 'measure', 4450: 'burn', 4451: 'hostages', 4452: 'diving', 4453: 'superior', 4454: 'belt', 4455: 'effect', 4456: 'scram', 4457: 'bake', 4458: 'punch', 4459: 'forty-seven', 4460: 'distinct', 4461: 'bronco', 4462: 'candles', 4463: 'enlightened', 4464: 'stengel', 4465: 'dreams', 4466: 'bye', 4467: 'movie', 4468: \"barney's\", 4469: 'laugh', 4470: 'capitalists', 4471: 'pursue', 4472: 'anyhow', 4473: 'came', 4474: 'adeleine', 4475: 'arrived', 4476: 'slip', 4477: 'sorry', 4478: 'occupation', 4479: 'small', 4480: 'voters', 4481: 'especially', 4482: 'thought_bubble_homer', 4483: 'associate', 4484: 'pause', 4485: '6', 4486: 'stupid', 4487: 'harvesting', 4488: 'excuses', 4489: 'vegas', 4490: 'regretted', 4491: 'pridesters', 4492: 'royal', 4493: 'catch-phrase', 4494: 'signed', 4495: 'brains', 4496: 'sale', 4497: 'victorious', 4498: 'david_byrne', 4499: 'dull', 4500: 'whim', 4501: 'form', 4502: 'enthusiastically', 4503: 'whaddya', 4504: 'understand', 4505: \"there's\", 4506: 'conditioner', 4507: 'breaking', 4508: \"enjoyin'\", 4509: 'premiering', 4510: \"i'm\", 4511: 'direction', 4512: 'embarrassing', 4513: 'stiffening', 4514: 'christmas', 4515: 'example', 4516: 'delivery_boy', 4517: 'venture', 4518: 'my-y-y-y-y-y', 4519: 'valley', 4520: 'notices', 4521: \"city's\", 4522: 'water', 4523: 'al', 4524: 'statistician', 4525: 'exclusive', 4526: 'walking', 4527: 'ad', 4528: 'oil', 4529: 'involved', 4530: 'coal', 4531: 'jackass', 4532: 'har', 4533: 'japanese', 4534: 'thousand-year', 4535: 'bottoms', 4536: 'survive', 4537: 'blank', 4538: 'pro', 4539: 'trainers', 4540: 'artie', 4541: 'pronounce', 4542: 'disguised', 4543: 'movement', 4544: 'pigtown', 4545: 'ominous', 4546: 'trust', 4547: 'notice', 4548: 'son', 4549: 'store', 4550: 'horrified', 4551: 'amazing', 4552: 'volunteer', 4553: 'hibachi', 4554: 'prison', 4555: 'sacrilicious', 4556: 'dirty', 4557: 'doppler', 4558: 'jokes', 4559: 'loathe', 4560: 'thighs', 4561: 'fork', 4562: 'dammit', 4563: 'craft', 4564: 'heave-ho', 4565: 'self', 4566: \"goin'\", 4567: 'floated', 4568: 'weight', 4569: 'domestic', 4570: 'mother', 4571: 'numeral', 4572: 'fans', 4573: 'lawyer', 4574: 'tells', 4575: 'jets', 4576: 'eliminate', 4577: 'business', 4578: 'underpants', 4579: 'soup', 4580: \"can'tcha\", 4581: 'thrilled', 4582: 'season', 4583: 'maximum', 4584: 'pour', 4585: 'friendship', 4586: 'gibson', 4587: 'singers', 4588: 'confidence', 4589: 'hexa-', 4590: 'horns', 4591: 'shoo', 4592: 'spine', 4593: 'trapping', 4594: 'yap', 4595: 'civic', 4596: 'texan', 4597: 'symphonies', 4598: 'crooks', 4599: 'savings', 4600: 'hubub', 4601: 'sits', 4602: \"cat's\", 4603: 'figure', 4604: \"here's\", 4605: \"calf's\", 4606: 'ruint', 4607: 'pian-ee', 4608: 'outside', 4609: 'backwards', 4610: 'teenage_barney', 4611: 'additional-seating-capacity', 4612: 'undated', 4613: 'huge', 4614: 'dictator', 4615: 'nightmares', 4616: 'tonic', 4617: 'pep', 4618: 'tokens', 4619: 'extra', 4620: \"callin'\", 4621: 'ahhh', 4622: 'capuchin', 4623: 'nectar', 4624: 'hang', 4625: 'always', 4626: 'squeal', 4627: 'miracle', 4628: 'fifth', 4629: 'dispenser', 4630: 'grammy', 4631: 'noose', 4632: 'wobbly', 4633: 'crayola', 4634: 'sincere', 4635: 'beauty', 4636: 'steak', 4637: 'pretentious_rat_lover', 4638: 'fl', 4639: 'albeit', 4640: 'cleveland', 4641: 'comforting', 4642: 'divine', 4643: 'extreme', 4644: 'which', 4645: 'damned', 4646: 'frankenstein', 4647: \"show's\", 4648: '/mr', 4649: 'camp', 4650: 'buyer', 4651: 'backgammon', 4652: 'two', 4653: 'mobile', 4654: \"playin'\", 4655: 'bless', 4656: 'van', 4657: 'occupancy', 4658: 'wins', 4659: 'multiple', 4660: 'radiator', 4661: 'draw', 4662: 'booze-bags', 4663: 'recorded', 4664: 'instead', 4665: 'department', 4666: \"patrick's\", 4667: 'wild', 4668: 'moonnnnnnnn', 4669: 'won', 4670: \"bringin'\", 4671: 'goodwill', 4672: 'harmony', 4673: 'plans', 4674: 'examples', 4675: 'stinky', 4676: 'kick', 4677: 'skydiving', 4678: 'lie', 4679: 'closed', 4680: 'mostrar', 4681: 'relieved', 4682: 'rusty', 4683: 'watch', 4684: 'born', 4685: 'hootie', 4686: 'icelandic', 4687: 'art', 4688: 'discriminate', 4689: 'stares', 4690: \"puttin'\", 4691: 'serious', 4692: 'goodnight', 4693: 'extinguishers', 4694: 'labor', 4695: 'hear', 4696: 'optimistic', 4697: 'predictable', 4698: 'brunch', 4699: \"summer's\", 4700: 'glyco-load', 4701: 'hydrant', 4702: 'drummer', 4703: 'combines', 4704: 'bourbon', 4705: 'limber', 4706: 'super-tough', 4707: 'from', 4708: 'stools', 4709: 'massage', 4710: 'fills', 4711: 'foundation', 4712: 'edelbrock', 4713: 'comment', 4714: 'insured', 4715: 'tune', 4716: 'cage', 4717: 'blimp', 4718: 'gut', 4719: 'arrested', 4720: 'wantcha', 4721: 'thought_bubble_lenny', 4722: 'sympathetic', 4723: 'talking', 4724: 'straight', 4725: 'lovely', 4726: 'sure', 4727: 'drollery', 4728: 'hollye', 4729: 'logos', 4730: 'choose', 4731: 'rascals', 4732: 'belches', 4733: 'accusing', 4734: 'designer', 4735: 'rather', 4736: 'na', 4737: 'doreen', 4738: 'cable', 4739: 'distaste', 4740: 'paparazzo', 4741: 'closet', 4742: 'cent', 4743: 'wad', 4744: 'asleep', 4745: 'also', 4746: 'mean', 4747: 'dr', 4748: \"usin'\", 4749: 'moolah-stealing', 4750: 'los', 4751: 'sexton', 4752: 'morose', 4753: 'six', 4754: 'f', 4755: 'duff', 4756: 'time', 4757: 'seeing', 4758: 'wrestle', 4759: 'sometime', 4760: 'dracula', 4761: 'eggshell', 4762: 'house', 4763: 'helllp', 4764: 'bail', 4765: '1979', 4766: 'for', 4767: 'k-zug', 4768: 'krusty', 4769: 'slot', 4770: 'moe-heads', 4771: '||comma||', 4772: 'inches', 4773: 'shells', 4774: 'bald', 4775: 'pickle', 4776: 'musical', 4777: 'avalanche', 4778: 'runt', 4779: 'beards', 4780: 'are', 4781: 'back', 4782: 'fainted', 4783: \"son's\", 4784: 'nelson_muntz', 4785: 'appear', 4786: 'tom', 4787: 'beefs', 4788: 'fantastic', 4789: 'railroads', 4790: 'someplace', 4791: 'dumb', 4792: 'kneeling', 4793: 'charter', 4794: 'hundred', 4795: 'woo-hoo', 4796: 'plant', 4797: 'empty', 4798: 'horrible', 4799: 'stay-puft', 4800: 'with', 4801: \"neat's-foot\", 4802: 'alls', 4803: 'soir', 4804: 'disguise', 4805: 'ziff', 4806: 'daddy', 4807: 'owns', 4808: 'wayne', 4809: 'wishing', 4810: \"she's\", 4811: 'souped', 4812: 'clubs', 4813: 'cheerier', 4814: 'donut-shaped', 4815: 'mexicans', 4816: 'engine', 4817: 'thomas', 4818: 'ron_howard', 4819: 'stupidest', 4820: 'sighs', 4821: 'hustle', 4822: 'clone', 4823: 'sign', 4824: \"hawkin'\", 4825: 'paying', 4826: 'lis', 4827: 'fontaine', 4828: 'worst', 4829: 'fiiiiile', 4830: 'decency', 4831: 'deacon', 4832: 'feelings', 4833: 'pushes', 4834: 'starving', 4835: 'jeter', 4836: 'cherry', 4837: 'infestation', 4838: 'being', 4839: 'punishment', 4840: 'crowd', 4841: 'smoker', 4842: 'myself', 4843: 'caught', 4844: 'step', 4845: 'reluctant', 4846: 'corkscrew', 4847: 'paint', 4848: 'kako', 4849: 'lovers', 4850: \"narratin'\", 4851: 'sneak', 4852: 'arrange', 4853: 'buzz', 4854: 'pal', 4855: 'eye', 4856: 'dashes', 4857: 'eighty-five', 4858: 'teenage_bart', 4859: 'radioactive', 4860: 'various', 4861: 'lovejoy', 4862: 'blue', 4863: 'landfill', 4864: 'carny', 4865: 'dancing', 4866: 'bridges', 4867: 'restaurant', 4868: 'admiring', 4869: 'lifts', 4870: 'hiring', 4871: 'hiding', 4872: 'hero-phobia', 4873: 'bird', 4874: 'serum', 4875: 'scornful', 4876: 'charged', 4877: 'ought', 4878: 'polenta', 4879: 'some', 4880: 'restless', 4881: 'wants', 4882: 'guess', 4883: 'dramatic', 4884: 'silence', 4885: 'lime', 4886: 'ordered', 4887: 'easy', 4888: 'whose', 4889: 'cents', 4890: 'unusual', 4891: 'luckily', 4892: 'universe', 4893: 'television', 4894: 'dean', 4895: \"floatin'\", 4896: 'cross-country', 4897: 'say', 4898: 'jubilant', 4899: 'football', 4900: 'breath', 4901: 'sound', 4902: \"department's\", 4903: 'kiss', 4904: 'contented', 4905: 'romantic', 4906: 'gotcha', 4907: 'blossoming', 4908: 'hat', 4909: 'grabbing', 4910: 'lookalike', 4911: 'opening', 4912: 'clapping', 4913: 'fixed', 4914: 'sets', 4915: 'ideal', 4916: 'activity', 4917: 'monroe', 4918: 'pure', 4919: 'depository', 4920: 'figures', 4921: 'bathed', 4922: 'heals', 4923: 'head-gunk', 4924: 'blubberino', 4925: \"neighbor's\", 4926: 'replace', 4927: 'whoa', 4928: 'tip', 4929: 'eyes', 4930: 'strawberry', 4931: 'yards', 4932: 'duh', 4933: '_timothy_lovejoy', 4934: 'index', 4935: 'blessing', 4936: 'irs', 4937: 'boat', 4938: 'south', 4939: 'confession', 4940: 'brassiest', 4941: 'bleeding', 4942: 'guy', 4943: 'sensible', 4944: 'crinkly', 4945: \"linin'\", 4946: 'comfortable', 4947: 'counting', 4948: 'pity', 4949: 'sweater', 4950: 'halfway', 4951: 'savvy', 4952: 'honor', 4953: 'behavior', 4954: 'street', 4955: 'watching', 4956: 'young_moe', 4957: 'am', 4958: 'known', 4959: 'solved', 4960: 'shrieks', 4961: 'irish', 4962: 'wenceslas', 4963: 'hail', 4964: 'supplying', 4965: 'rupert_murdoch', 4966: 'edna-lover-one-seventy-two', 4967: 'hand', 4968: 'diets', 4969: \"school's\", 4970: 'dreary', 4971: 'held', 4972: 'shock', 4973: 'items', 4974: 'in-in-in', 4975: 'juice', 4976: 'amiable', 4977: 'word', 4978: 'real', 4979: 'danish', 4980: '_julius_hibbert', 4981: 'elephants', 4982: 'disgrace', 4983: 'agents', 4984: 'unison', 4985: 'jägermeister', 4986: 'daaaaad', 4987: 'sobriety', 4988: \"buffalo's\", 4989: \"who'da\", 4990: 'maiden', 4991: 'beginning', 4992: 'boys', 4993: 'uh', 4994: 'network', 4995: 'sea', 4996: 'reads', 4997: 'flush-town', 4998: 'thought', 4999: 'thirty', 5000: 'mini-beret', 5001: \"time's\", 5002: 'stick', 5003: 'shack', 5004: 'try', 5005: 'babe', 5006: 'clinton', 5007: 'vincent', 5008: 'terrorizing', 5009: \"dog's\", 5010: 'one-hour', 5011: 'asking', 5012: 'omigod', 5013: 'gag', 5014: 'shortcomings', 5015: 'order', 5016: 'dingy', 5017: 'e-z', 5018: 'lied', 5019: \"she'd\", 5020: 'cigars', 5021: 'stalwart', 5022: 'wasted', 5023: 'habitrail', 5024: 'zinged', 5025: 'root', 5026: 'butts', 5027: 'answered', 5028: 'cruise', 5029: 'mexican_duffman', 5030: 'beat', 5031: 'shill', 5032: 'themselves', 5033: 'average-looking', 5034: '_eugene_blatz', 5035: 'yea', 5036: 'luck', 5037: 'push', 5038: 'polygon', 5039: 'advice', 5040: 'insurance', 5041: 'swell', 5042: 'loud', 5043: 'entrance', 5044: 'seas', 5045: 'walk', 5046: 'wondered', 5047: 'diapers', 5048: 'yee-haw', 5049: 'metal', 5050: 'flustered', 5051: \"talkin'\", 5052: 'lighten', 5053: \"g'night\", 5054: 'knocked', 5055: 'ooo', 5056: 'musketeers', 5057: \"wouldn't\", 5058: 'combine', 5059: 'braun', 5060: 'scatter', 5061: 'bartholomé', 5062: 'scrutinizing', 5063: 'shoe', 5064: 'à', 5065: 'driver', 5066: 'hammer', 5067: 'deer', 5068: 'conversation', 5069: 'nothing', 5070: 'whee', 5071: 'yuh-huh', 5072: 'carll', 5073: 'ear', 5074: 'microphone', 5075: 'barney-guarding', 5076: 'really', 5077: 'nfl_narrator', 5078: 'gig', 5079: 'whoa-ho', 5080: 'teeth', 5081: 'squishee', 5082: 'wiggle-frowns', 5083: 'cheap', 5084: 'set', 5085: 'developed', 5086: 'winnings', 5087: 'geysir', 5088: 'bedbugs', 5089: 'treasure', 5090: 'miles', 5091: 'wife', 5092: 'mcbain', 5093: 'pocket', 5094: 'subscriptions', 5095: 'enforced', 5096: \"poundin'\", 5097: 'faded', 5098: 'slender', 5099: 'stadium', 5100: 'b', 5101: 'books', 5102: 'beyond', 5103: 'handling', 5104: 'ride', 5105: 'should', 5106: 'achebe', 5107: 'gentle', 5108: 'item', 5109: 'bolting', 5110: 'players', 5111: 'tv_husband', 5112: 'goldarnit', 5113: 'chug-a-lug', 5114: 'banned', 5115: 'hopeful', 5116: 'right', 5117: 'presents', 5118: 'manatee', 5119: 'julep', 5120: 'cologne', 5121: 'pleading', 5122: 'a', 5123: 'letters', 5124: 'their', 5125: 'innocuous', 5126: 'teach', 5127: 'saved', 5128: 'super-genius', 5129: \"cupid's\", 5130: 'incarcerated', 5131: 'child', 5132: 'light', 5133: 'spooky', 5134: 'marched', 5135: \"fun's\", 5136: 'latin', 5137: \"they'll\", 5138: 'defeated', 5139: 'marry', 5140: 'hotel', 5141: 'ma', 5142: 'handshake', 5143: 'wikipedia', 5144: 'crystal', 5145: 'threw', 5146: \"wasn't\", 5147: 'clench', 5148: 'bowled', 5149: 'apu', 5150: 'branding', 5151: 'smurfs', 5152: 'toward', 5153: 'intention', 5154: 'pulitzer', 5155: 'butt', 5156: \"crawlin'\", 5157: 'bloodball', 5158: 'polls', 5159: 'ninety-six', 5160: 'living', 5161: 'clammy', 5162: 'other_book_club_member', 5163: 'cracked', 5164: 'plants', 5165: 'lofty', 5166: 'big', 5167: 'week', 5168: 'attached', 5169: \"blowin'\", 5170: 'hope', 5171: 'goodbye', 5172: 'sending', 5173: 'hungry', 5174: 'grinch', 5175: 'recreate', 5176: 'knit', 5177: 'forecast', 5178: 'lap', 5179: \"lookin'\", 5180: 'bets', 5181: 'pub', 5182: 'roses', 5183: 'wrecking', 5184: 'awesome', 5185: 'advantage', 5186: 'lurleen_lumpkin', 5187: \"man's\", 5188: '1-800-555-hugs', 5189: 'outrageous', 5190: 'shoulders', 5191: 'perplexed', 5192: 'senator', 5193: 'mister', 5194: 'purse', 5195: 'getaway', 5196: \"tv's\", 5197: 'chorus', 5198: \"gettin'\", 5199: 'saga', 5200: 'cop', 5201: 'hears', 5202: 'village', 5203: 'ehhh', 5204: 'oooh', 5205: 'flips', 5206: 'keys', 5207: 'y-you', 5208: 're', 5209: 'searching', 5210: 'affectations', 5211: 'refreshing', 5212: 'hot', 5213: 'decent', 5214: 'coach', 5215: 'wisconsin', 5216: 'calling', 5217: 'cappuccino', 5218: 'gin-slingers', 5219: 'covering', 5220: 'frink-y', 5221: 'introduce', 5222: 'conspiratorial', 5223: 'beast', 5224: 'build', 5225: 'belly', 5226: 'mailbox', 5227: 'admirer', 5228: 'laws', 5229: 'dogs', 5230: 'possessions', 5231: 'stickers', 5232: 'address', 5233: 'pack', 5234: 'inclination', 5235: 'barn', 5236: 'pfft', 5237: 'lowering', 5238: 'eggs', 5239: 'forbids', 5240: 'cecil_terwilliger', 5241: 'raise', 5242: 'righ', 5243: 'stats', 5244: 'e', 5245: 'polishing', 5246: 'managing', 5247: 'turn', 5248: 'edison', 5249: 'cheerleaders', 5250: 'misfire', 5251: 'close', 5252: 'magic', 5253: 'authenticity', 5254: 'lucinda', 5255: 'mountain', 5256: \"children's\", 5257: 'who-o-oa', 5258: 'priest', 5259: 'attractive_woman_#1', 5260: 'espn', 5261: 'full', 5262: 'delicious', 5263: 'brunswick', 5264: 'meaning', 5265: 'thirty-three', 5266: 'choke', 5267: 'football_announcer', 5268: 'as', 5269: 'cushion', 5270: 'smell', 5271: 'killing', 5272: 'camera', 5273: 'jeff', 5274: 'aid', 5275: 'offense', 5276: 'macho', 5277: \"it'd\", 5278: 'malfeasance', 5279: 'neighbor', 5280: \"hadn't\", 5281: 'glen', 5282: 'bags', 5283: 'shutup', 5284: 'called', 5285: 'predecessor', 5286: 'manjula_nahasapeemapetilon', 5287: 'cavern', 5288: 'jobs', 5289: 'pink', 5290: 'sealed', 5291: 'bill', 5292: 'code', 5293: 'went', 5294: '$42', 5295: 'brilliant', 5296: 'lecture', 5297: 'finish', 5298: 'stinks', 5299: 'and-and', 5300: 'ironic', 5301: 'diminish', 5302: 'larson', 5303: 'selfish', 5304: 'sweetie', 5305: 'exquisite', 5306: 'specials', 5307: 'hibbert', 5308: 'turkey', 5309: 'colossal', 5310: 'spirit', 5311: 'rolled', 5312: 'tornado', 5313: 'but', 5314: 'mine', 5315: 'nickel', 5316: 'sprawl', 5317: 'amount', 5318: 'consulting', 5319: 'actors', 5320: 'brother', 5321: 'eddie', 5322: \"livin'\", 5323: 'shaker', 5324: 'become', 5325: 'bottle', 5326: \"something's\", 5327: 'stool', 5328: 'bedridden', 5329: 'muscle', 5330: 'deserve', 5331: 'wasting', 5332: 'lump', 5333: 'moustache', 5334: 'ball', 5335: 'stained-glass', 5336: 'astrid', 5337: 'demand', 5338: 'champs', 5339: 'turns', 5340: 'himself', 5341: 'portentous', 5342: 'sips', 5343: \"i'll\", 5344: 'o', 5345: 'ballot', 5346: 'publishers', 5347: 'speed', 5348: 'button-pusher', 5349: 'eternity', 5350: 'ineffective', 5351: 'federal', 5352: 'moonlight', 5353: 'k', 5354: 'girlfriend', 5355: 'youuu', 5356: \"don't\", 5357: 'flack', 5358: 'gesture', 5359: 'act', 5360: 'appearance-altering', 5361: 'leaving', 5362: 'sanitation', 5363: 'airport', 5364: 'jeff_gordon', 5365: 'urinal', 5366: 'fwooof', 5367: 'little_man', 5368: 'jackson', 5369: 'bees', 5370: 'awe', 5371: 'soon', 5372: 'gulps', 5373: \"we've\", 5374: 'vermont', 5375: 'blown', 5376: 'issuing', 5377: \"aren't\", 5378: 'jebediah', 5379: 'exit', 5380: 'desperately', 5381: 'sigh', 5382: 'chastity', 5383: 'snort', 5384: \"man's_voice\", 5385: 'inanely', 5386: 'pontiff', 5387: 'drift', 5388: 'duffman', 5389: 'ken', 5390: 'ling', 5391: 'cauliflower', 5392: 'i', 5393: 'restroom', 5394: 'atlanta', 5395: 'fringe', 5396: 'intelligent', 5397: \"wino's\", 5398: 'perverted', 5399: 'calm', 5400: 'brooklyn', 5401: 'question', 5402: 'militia', 5403: 'figured', 5404: 'moon-bounce', 5405: 'james', 5406: 'weird', 5407: 'meanwhile', 5408: 'verticality', 5409: 'shush', 5410: 'groan', 5411: 'created', 5412: 'random', 5413: 'rug', 5414: 'what', 5415: 'steampunk', 5416: 'terrifying', 5417: 'jerk-ass', 5418: 'ali', 5419: 'points', 5420: 'gone', 5421: 'filth', 5422: 'schemes', 5423: 'samples', 5424: 'artie_ziff', 5425: 'exhale', 5426: 'asked', 5427: 'score', 5428: 'craphole', 5429: 'reporter', 5430: 'bike', 5431: 'written', 5432: 'expired', 5433: 'amazed', 5434: 'oh', 5435: 'nagurski', 5436: 'subject', 5437: 'revenge', 5438: 'mike', 5439: 'cuddling', 5440: 'weeks', 5441: \"ya'\", 5442: 'brockman', 5443: 'devils', 5444: 'industry', 5445: 'family-owned', 5446: 'jumping', 5447: 'oughtta', 5448: 'ahead', 5449: 'located', 5450: 'generally', 5451: 'three-man', 5452: 'cheat', 5453: 'andy', 5454: 'weep', 5455: 'avenue', 5456: 'competitive', 5457: 'emotional', 5458: 'expect', 5459: 'memory', 5460: 'ironed', 5461: 'kang', 5462: 'semicolon', 5463: 'scary', 5464: 'pilsner-pusher', 5465: \"cleanin'\", 5466: 'just', 5467: '530', 5468: \"elmo's\", 5469: 'gee', 5470: 'blame', 5471: 'sweden', 5472: 'whistles', 5473: 'motel', 5474: 'answer', 5475: 'reviews', 5476: 'refreshingness', 5477: \"lady's\", 5478: 'slobbo', 5479: 'agreement', 5480: 'queer', 5481: 'betty', 5482: 'knows', 5483: 'reckless', 5484: 'folks', 5485: 'updated', 5486: 'yells', 5487: 'dramatically', 5488: 'graves', 5489: 'chubby', 5490: 'sissy', 5491: 'kidnaps', 5492: 'richard', 5493: 'woe', 5494: 'inserts', 5495: 'your', 5496: 'leg', 5497: 'calmly', 5498: 'annie', 5499: 'forty', 5500: 'forehead', 5501: 'compete', 5502: 'wear', 5503: 'reopen', 5504: \"can't\", 5505: 'come', 5506: \"bart's\", 5507: 'shorter', 5508: 'rem', 5509: 'protestantism', 5510: 'few', 5511: 'therapist', 5512: 'cab_driver', 5513: 'jockey', 5514: 'snake-handler', 5515: 'curds', 5516: 'hemorrhage-amundo', 5517: 'doctor', 5518: 'couple', 5519: '||exclamation_mark||', 5520: 'hugh', 5521: 'crushed', 5522: 'settled', 5523: 'orders', 5524: 'granted', 5525: 'train', 5526: 'nelson', 5527: 'kadlubowski', 5528: 'dryer', 5529: 'parrot', 5530: 'well', 5531: 'story', 5532: 'bon-bons', 5533: 'shutting', 5534: 'repeating', 5535: 'acting', 5536: 'you', 5537: 'looking', 5538: 'cocks', 5539: 'bash', 5540: 'sass', 5541: 'bartender', 5542: 'barney_gumble', 5543: 'shifty', 5544: 'homeland', 5545: \"secret's\", 5546: 'quimby', 5547: 'third', 5548: 'elmer', 5549: 'endorse', 5550: 'prank', 5551: 'stamp', 5552: 'destroyed', 5553: 'adventure', 5554: 'gotta', 5555: 'class', 5556: 'gardens', 5557: 'heaven', 5558: 'tick', 5559: \"men's\", 5560: 'teacher', 5561: 'h', 5562: 'murderously', 5563: 'grim', 5564: 'snackie', 5565: 'rob', 5566: 'blood', 5567: 'statesmanlike', 5568: 'grocery', 5569: 'p', 5570: '1895', 5571: 'fausto', 5572: 'chief', 5573: 'sangre', 5574: 'cash', 5575: 'manuel', 5576: 'improv', 5577: 'resolution', 5578: 'positive', 5579: 'deals', 5580: 'six-barrel', 5581: 'heaving', 5582: 'chance', 5583: 'giggles', 5584: 'lazy', 5585: 'sell', 5586: 'cheers', 5587: 'answering', 5588: 'embarrassed', 5589: 'cell', 5590: 'little', 5591: 'available', 5592: 'file', 5593: 'cheer', 5594: 'rebuttal', 5595: 'halloween', 5596: 'boozehound', 5597: 'people', 5598: 'phony', 5599: 'wrestling', 5600: 'suck', 5601: 'buzziness', 5602: 'while', 5603: 'cure', 5604: 'underwear', 5605: '14', 5606: 'summer', 5607: 'bread', 5608: 'spender', 5609: 'apron', 5610: 'presided', 5611: 'childless', 5612: 'director', 5613: 'expecting', 5614: \"tramp's\", 5615: 'indigenous', 5616: 'robot', 5617: 'idealistic', 5618: 'flash-fry', 5619: 'surprise', 5620: 'copy', 5621: 'of', 5622: 'gallon', 5623: 'remorseful', 5624: 'playful', 5625: 'health', 5626: 'nooo', 5627: 'praise', 5628: 'massachusetts', 5629: 'falling', 5630: 'arabs', 5631: 'fondly', 5632: 'triple-sec', 5633: 'white_rabbit', 5634: \"lefty's\", 5635: 'hidden', 5636: 'buds', 5637: 'sedaris', 5638: \"phone's\", 5639: 'jewish', 5640: 'foil', 5641: 'sec', 5642: \"high-falutin'\", 5643: 'shout', 5644: 'fishing', 5645: 'indicates', 5646: 'rid', 5647: 'beans', 5648: 'musta', 5649: 'watashi', 5650: '50%', 5651: 'smuggled', 5652: 'chow', 5653: 'sugar', 5654: 'full-time', 5655: 'birthday', 5656: 'mamma', 5657: 'reluctantly', 5658: 'dennis_kucinich', 5659: 'reunion', 5660: 'nonchalant', 5661: 'kegs', 5662: 'beautiful', 5663: 'look', 5664: 'investment', 5665: 'argue', 5666: 'absolut', 5667: 'unforgettable', 5668: 'heather', 5669: 'mmmm', 5670: 'investigating', 5671: 'haircuts', 5672: 'spouses', 5673: 'digging', 5674: 'mickey', 5675: 'wizard', 5676: 'charge', 5677: 'lenses', 5678: 'methinks', 5679: 'terrific', 5680: 'older', 5681: 'make', 5682: 'margarita', 5683: 'jack', 5684: 'religious', 5685: 'faces', 5686: 'vengeful', 5687: 'charges', 5688: 'scrutinizes', 5689: 'badly', 5690: 'mustard', 5691: 'flatly', 5692: 'chip', 5693: 'ruined', 5694: 'disappointment', 5695: 'knuckles', 5696: 'girl', 5697: 'de', 5698: 'enter', 5699: 'clincher', 5700: 'tyson/secretariat', 5701: 'arts', 5702: 'waist', 5703: 'wallet', 5704: 'renee', 5705: \"jimbo's_dad\", 5706: 'curious', 5707: 'eva', 5708: 'losers', 5709: 'mither', 5710: 'impending', 5711: 'photographer', 5712: 'pumping', 5713: 'sarcastic', 5714: 'knowing', 5715: 'salvador', 5716: 'd', 5717: 'happen', 5718: 'side', 5719: 'hmm', 5720: 'p-k', 5721: 'appreciate', 5722: 'county', 5723: 'burt', 5724: 'hers', 5725: 'louder', 5726: 'fuhgetaboutit', 5727: 'the_edge', 5728: 'like', 5729: 'danny', 5730: 'boston', 5731: 'skirt', 5732: 'contract', 5733: 'pick', 5734: 'delts', 5735: 'standards', 5736: 'shotgun', 5737: 'aisle', 5738: 'realized', 5739: '3rd_voice', 5740: 'mount', 5741: 'bucks', 5742: \"we'd\", 5743: 'carey', 5744: 'sheets', 5745: 'waylon_smithers', 5746: 'intense', 5747: 'bust', 5748: 'kirk_van_houten', 5749: 'endorsed', 5750: 'rickles', 5751: 'darts', 5752: 'soft', 5753: 'landlord', 5754: 'four-drink', 5755: 'motorcycle', 5756: 'taunting', 5757: 'we', 5758: 'bothered', 5759: 'dirt', 5760: 'cheated', 5761: 'century', 5762: 'skinny', 5763: 'winner', 5764: 'fire_inspector', 5765: 'return', 5766: 'malibu', 5767: 'makes', 5768: 'prices', 5769: 'infiltrate', 5770: 'laney_fontaine', 5771: 'grade', 5772: 'bite', 5773: 'least', 5774: 'newsweek', 5775: 'offensive', 5776: 'delays', 5777: 'when-i-get-a-hold-of-you', 5778: 'pancakes', 5779: 'showing', 5780: 'clips', 5781: \"tellin'\", 5782: 'barney-shaped_form', 5783: \"who'll\", 5784: 'pair', 5785: 'homesick', 5786: 'rap', 5787: \"tomorrow's\", 5788: 'suspect', 5789: 'ya', 5790: 'intervention', 5791: 'naegle', 5792: 'cleaner', 5793: 'punches', 5794: 'ruuuule', 5795: 'macaulay', 5796: 'cute', 5797: 'grave', 5798: 'grateful', 5799: 'kick-ass', 5800: 'hollowed-out', 5801: 'everyone', 5802: 'lenny_leonard', 5803: 'halvsies', 5804: 'break', 5805: 'clipped', 5806: 'badges', 5807: 'hooch', 5808: 'chuck', 5809: 'stagy', 5810: 'other_player', 5811: 'pages', 5812: 'characteristic', 5813: 'civilization', 5814: 'german', 5815: 'mind-numbing', 5816: 'saget', 5817: 'sold', 5818: 'gees', 5819: 'strips', 5820: 'painting', 5821: 'lincoln', 5822: 'jerry', 5823: 'grin', 5824: 'widow', 5825: \"homer'll\", 5826: 'privacy', 5827: 'mocking', 5828: 'throats', 5829: 'intakes', 5830: 'although', 5831: 'test-lady', 5832: 'court', 5833: 'christian', 5834: 'snout', 5835: 'um', 5836: 'take-back', 5837: 'nah', 5838: 'mona_simpson', 5839: 'customers-slash-only', 5840: 'tommy', 5841: 'simple', 5842: \"somethin'\", 5843: 'witches', 5844: 'cocktail', 5845: 'freshened', 5846: 'cock', 5847: 'ashtray', 5848: 'doll-baby', 5849: 'hm', 5850: 'four-star', 5851: \"rustlin'\", 5852: \"spaghetti-o's\", 5853: \"i'm-so-stupid\", 5854: 'ultimate', 5855: 'states', 5856: 'clear', 5857: 'somebody', 5858: 'male_inspector', 5859: 'hans', 5860: 'pin', 5861: 'burt_reynolds', 5862: 'gargoyles', 5863: 'hi', 5864: 'stopped', 5865: 'cosmetics', 5866: 'dislike', 5867: 'reasonable', 5868: 'tears', 5869: 'elocution', 5870: 'england', 5871: 'east', 5872: 'mitts', 5873: 'competing', 5874: 'shape', 5875: 'rubbed', 5876: 'cotton', 5877: 'countryman', 5878: 'band', 5879: 'harm', 5880: 'favorite', 5881: 'heh-heh', 5882: 'interesting', 5883: 'aw', 5884: 'businessman_#2', 5885: 'blissful', 5886: 'willy', 5887: 'eaters', 5888: 'verdict', 5889: 'pissed', 5890: 'forgive', 5891: 'night-crawlers', 5892: 'slit', 5893: 'sneering', 5894: 'bus', 5895: 'wagering', 5896: 'bragging', 5897: 'patriotic', 5898: 'whup', 5899: 'mural', 5900: \"duelin'\", 5901: 'fair', 5902: 'cannot', 5903: \"'ere\", 5904: 'fridge', 5905: 'lend', 5906: 'rotten', 5907: 'novelty', 5908: 'dictating', 5909: 'ollie', 5910: 'experienced', 5911: 'sausage', 5912: 'anthony_kiedis', 5913: 'stooges', 5914: 'whatchamacallit', 5915: 'padres', 5916: 'popped', 5917: 'carve', 5918: 'nose', 5919: 'carpet', 5920: 'eighteen', 5921: 'puff', 5922: \"dad's\", 5923: 'options', 5924: 'stuck', 5925: 'strangles', 5926: 'feed', 5927: 'ears', 5928: 'traffic', 5929: 'sec_agent_#1', 5930: 'wears', 5931: 'grudgingly', 5932: 'yourself', 5933: \"you're\", 5934: 'yourse', 5935: 'ayyy', 5936: 'anguished', 5937: 'lennyy', 5938: 'muslim', 5939: 'wudgy', 5940: 'woooooo', 5941: 'shoulda', 5942: 'refiero', 5943: 'partners', 5944: 'fbi', 5945: 'certainly', 5946: 'pronto', 5947: 'lemonade', 5948: 'housewife', 5949: 'counter', 5950: 'hour', 5951: 'designated', 5952: 'serve', 5953: 'despite', 5954: 'mistakes', 5955: 'lodge', 5956: 'rebuilt', 5957: 'minister', 5958: 'freedom', 5959: 'mechanical', 5960: 'krabappel', 5961: 'renders', 5962: 'washer', 5963: 'kindly', 5964: 'grandé', 5965: 'weather', 5966: 'mediterranean', 5967: 'joey_kramer', 5968: \"makin'\", 5969: 'changes', 5970: 'getcha', 5971: 'nemo', 5972: 'tire', 5973: 'chained', 5974: 'guff', 5975: 'grubby', 5976: '&', 5977: 'salary', 5978: 'incapable', 5979: 'faith', 5980: 'crying', 5981: 'spotting', 5982: \"doctor's\", 5983: 'release', 5984: 'cares', 5985: 'stab', 5986: 'declan', 5987: 'eventually', 5988: \"ragin'\", 5989: 'sesame', 5990: 'gumbo', 5991: 'wiggle', 5992: 'started', 5993: 'octa-', 5994: 'application', 5995: 'special', 5996: 'result', 5997: 'have', 5998: 'string', 5999: 'gave', 6000: 'shelbyville', 6001: 'express', 6002: 'popular', 6003: 'ale', 6004: 'brief', 6005: 'shaggy', 6006: 'sick', 6007: 'poulet', 6008: 'spending', 6009: 'johnny', 6010: 'composite', 6011: 'th-th-th-the', 6012: 'distributor', 6013: 'maman', 6014: 'micronesian', 6015: 'lady-free', 6016: 'officer', 6017: 'she', 6018: 'dentist', 6019: 'showered', 6020: 'playoff', 6021: 'illegal', 6022: \"year's\", 6023: 'dipping', 6024: 'proof', 6025: 'initially', 6026: 'passion', 6027: 'sweetest', 6028: 'forgot', 6029: 'applicant', 6030: 'fistiana', 6031: 'fiction', 6032: 'follow', 6033: 'scare', 6034: 'excuse', 6035: 'took', 6036: 'nods', 6037: 'unavailable', 6038: 'exasperated', 6039: 'results', 6040: \"lisa's\", 6041: 'irrelevant', 6042: 'wars', 6043: 'covers', 6044: 'finding', 6045: \"bartender's\", 6046: 'amused', 6047: 'violin', 6048: 'character', 6049: 'encores', 6050: 'chapstick', 6051: 'koi', 6052: 'ehhhhhhhh', 6053: 'streetcorner', 6054: 'wussy', 6055: 'courts', 6056: 'arrest', 6057: 'drown', 6058: 'soaked', 6059: 'glummy', 6060: 'eyeing', 6061: 'la', 6062: 'weirded-out', 6063: 'droning', 6064: 'mabel', 6065: \"pope's\", 6066: 'ground', 6067: 'ivana', 6068: 'bumbling', 6069: 'hell', 6070: 'inspiring', 6071: 'zeal', 6072: 'blokes', 6073: 'ugliness', 6074: 'poin-dexterous', 6075: 'actually', 6076: 'scratcher', 6077: 'depression', 6078: 'operation', 6079: 'ever', 6080: 'canyoner-oooo', 6081: 'wholeheartedly', 6082: 'proposing', 6083: \"fallin'\", 6084: 'heart-broken', 6085: 'shows', 6086: 'loser', 6087: 'moment', 6088: 'principles', 6089: \"let's\", 6090: 'actress', 6091: 'safe', 6092: 'steel', 6093: 'andrew', 6094: 'were', 6095: 'errrrrrr', 6096: 'drawing', 6097: 'naked', 6098: 'drunkening', 6099: 'so-called', 6100: 'far', 6101: 'lady_duff', 6102: '100', 6103: 'rasputin', 6104: 'suds', 6105: 'faced', 6106: 'peppers', 6107: 'show', 6108: 'bumblebee_man', 6109: 'rekindle', 6110: \"drinkin'\", 6111: 'however', 6112: 'mostly', 6113: 'anything', 6114: 'adult_bart', 6115: 'rash', 6116: 'suspended', 6117: 'rage', 6118: 'wade_boggs', 6119: 'laramie', 6120: 'forty-two', 6121: 'bowling', 6122: 'feld', 6123: 'haikus', 6124: 'poorer', 6125: 'jail', 6126: 'into', 6127: 'hospital', 6128: 'hems', 6129: 'champignons', 6130: 'represent', 6131: 'sap', 6132: 'ugliest', 6133: 'quebec', 6134: 'unsanitary', 6135: 'open', 6136: 'onion', 6137: 'crummy', 6138: 'thesaurus', 6139: 'ancestors', 6140: 'occasional', 6141: 'bride', 6142: \"smackin'\", 6143: 'luckiest', 6144: 'floor', 6145: 'cutting', 6146: 'lingus', 6147: '_zander', 6148: 'these', 6149: 'helpless', 6150: \"d'\", 6151: 'announcer', 6152: 'cops', 6153: 'hammy', 6154: 'does', 6155: 'fears', 6156: 'buffalo', 6157: 'bunion', 6158: 'extremely', 6159: 'cletus_spuckler', 6160: 'reminded', 6161: 'gil_gunderson', 6162: 'mater', 6163: 'morlocks', 6164: 'waters', 6165: 'springfield', 6166: 'twice', 6167: 'williams', 6168: 'meatpies', 6169: 'products', 6170: 'scratching', 6171: 'stingy', 6172: 'hilarious', 6173: 'doof', 6174: \"table's\", 6175: 'showed', 6176: 'gums', 6177: 'scout', 6178: 'phone', 6179: 'pretends', 6180: 'nahasapeemapetilon', 6181: 'candidate', 6182: 'beatings', 6183: 'trick', 6184: 'kansas', 6185: 'stirrers', 6186: 'cheaper', 6187: 'mention', 6188: 'games', 6189: 'i-i-i', 6190: 'bump', 6191: 'triumphantly', 6192: 'fault', 6193: 'elite', 6194: 'donut', 6195: 'and', 6196: 'official', 6197: 'flat', 6198: 'feast', 6199: 'suits', 6200: 'room', 6201: 'tanking', 6202: 'expensive', 6203: 'gloop', 6204: 'awed', 6205: 'trivia', 6206: 'voicemail', 6207: \"i've\", 6208: 'st', 6209: 'growing', 6210: \"duff's\", 6211: 'creepy', 6212: 'woman_bystander', 6213: 'cold', 6214: 'gun', 6215: 'dough', 6216: 'powerful', 6217: 'used', 6218: 'roy', 6219: 'box', 6220: 'anti-intellectualism', 6221: 'mmmmm', 6222: 'riveting', 6223: \"'em\", 6224: \"heat's\", 6225: 'grains', 6226: 'flush', 6227: 'therefore', 6228: 'rings', 6229: 'double', 6230: 'liser', 6231: 'rig', 6232: 'mafia', 6233: 'menace', 6234: 'wedding', 6235: 'occurrence', 6236: 'gator', 6237: 'evils', 6238: 'tow', 6239: 'expense', 6240: 'man_at_bar', 6241: 'committee', 6242: 'moonshine', 6243: 'remembered', 6244: 'blaze', 6245: 'terminated', 6246: 'offa', 6247: 'emporium', 6248: 'liquor', 6249: 'dog', 6250: 'bag', 6251: 'pop', 6252: 'tooth', 6253: 'pepsi', 6254: 'down', 6255: 'cookies', 6256: 'vehicle', 6257: \"how'd\", 6258: 'neat', 6259: 'cats', 6260: 'crunch', 6261: 'ferry', 6262: 'smiled', 6263: 'sad', 6264: 'cuckoo', 6265: 'technical', 6266: 'disgraceful', 6267: 'lifestyle', 6268: 'confused', 6269: 'phase', 6270: 'rhode', 6271: 'woozy', 6272: 'ingrates', 6273: 'ech', 6274: 'torn', 6275: 'provide', 6276: 'cheryl', 6277: 'attracted', 6278: 'prejudice', 6279: 'slyly', 6280: 'boxcars', 6281: 'fritz', 6282: 'winces', 6283: 'thoughts', 6284: 'old-time', 6285: 'keep', 6286: 'manjula', 6287: 'reached', 6288: 'muertos', 6289: 'equivalent', 6290: 'archaeologist', 6291: 'bulked', 6292: 'hours', 6293: 'preparation', 6294: 'newspaper', 6295: 'tender', 6296: 'hose', 6297: 'wall', 6298: \"washin'\", 6299: \"smokin'\", 6300: 'au', 6301: 'boozy', 6302: 'indignant', 6303: 'freaky', 6304: 'ummmmmmmmm', 6305: 'photos', 6306: 'suing', 6307: 'convinced', 6308: 'jack_larson', 6309: 'clams', 6310: 'sidekick', 6311: 'stripes', 6312: 'kirk', 6313: 'wing', 6314: 'marge', 6315: 'assert', 6316: 'tuna', 6317: 'supermarket', 6318: 'pregnancy', 6319: 'usually', 6320: 'flew', 6321: 'babies', 6322: 'gary', 6323: 'buttocks', 6324: 'send', 6325: 'clothes', 6326: 'vampires', 6327: 'ideas', 6328: 'festival', 6329: 'read', 6330: 'ons', 6331: 'anymore', 6332: 'needs', 6333: 'jukebox_record', 6334: 'employment', 6335: 'line', 6336: 'meant', 6337: '||period||', 6338: 'whole', 6339: 'não', 6340: 'democracy', 6341: 'win', 6342: 'stonewall', 6343: 'evasive', 6344: 'throw', 6345: 'excavating', 6346: 'specialists', 6347: 'probably', 6348: 'putty', 6349: 'tape', 6350: 'smoke', 6351: 'eat', 6352: 'pledge', 6353: 'tony', 6354: 'enjoyed', 6355: 'bonding', 6356: \"couldn't\", 6357: 'cheering', 6358: 'upgrade', 6359: \"singin'\", 6360: 'since', 6361: 'social', 6362: 'resenting', 6363: 'leans', 6364: 'raises', 6365: \"robbin'\", 6366: 'there', 6367: 'toilet', 6368: 'radiation', 6369: \"costume's\", 6370: 'debonair', 6371: 'seminar', 6372: 'cuff', 6373: 'brain-switching', 6374: 'presently', 6375: 'needed', 6376: 'theme', 6377: 'idioms', 6378: 'city', 6379: 'sector', 6380: 'reading', 6381: 'mt', 6382: 'bupkus', 6383: 'ref', 6384: \"ladies'\", 6385: 'mariah', 6386: 'unattended', 6387: 'poured', 6388: 'zack', 6389: 'puke', 6390: \"hell's\", 6391: 'beligerent', 6392: 'duff_announcer', 6393: 'mccall', 6394: 'attempting', 6395: 'glitz', 6396: 'enemies', 6397: 'pretzel', 6398: 'jamaican', 6399: 'safety', 6400: 'mcstagger', 6401: 'male_singers', 6402: 'madison', 6403: 'beating', 6404: 'ab', 6405: 'indeedy', 6406: 'meet', 6407: 'schizophrenia', 6408: 'buried', 6409: 'electronic', 6410: \"homer's_brain\", 6411: 'talkers', 6412: \"hangin'\", 6413: 'paris', 6414: 'reserved', 6415: 'strap', 6416: 'thankful', 6417: 'lewis', 6418: 'rough', 6419: \"how's\", 6420: 'prettied', 6421: 'swooning', 6422: 'hitler', 6423: 'meaningless', 6424: 'successful', 6425: 'curse', 6426: 'cushions', 6427: 'once', 6428: 'pre-game', 6429: 'let', 6430: 'upsetting', 6431: 'banquet', 6432: \"stinkin'\", 6433: 'skeptical', 6434: \"america's\", 6435: 'seen', 6436: 'bart', 6437: 'awake', 6438: 'impressed', 6439: 'joey', 6440: 'administration', 6441: \"it'll\", 6442: \"askin'\", 6443: 'carmichael', 6444: 'dum-dum', 6445: 'guiltily', 6446: 'shindig', 6447: 'home', 6448: 'mess', 6449: 'jobless', 6450: 'slugger', 6451: 'crippling', 6452: 'sees/', 6453: 'rent', 6454: 'is', 6455: 'history', 6456: 'shareholder', 6457: 'mirthless', 6458: 'rev', 6459: 'crumble', 6460: 'sight', 6461: 'donuts', 6462: 'exchange', 6463: 'agree', 6464: 'founded', 6465: 'putting', 6466: 'yeah', 6467: 'afford', 6468: 'great', 6469: 'boy', 6470: 'vomit', 6471: 'links', 6472: 'occupied', 6473: 'cleaned', 6474: 'grenky', 6475: 'so', 6476: 'pageant', 6477: 'truck_driver', 6478: 'true', 6479: 'caricature', 6480: 'phasing', 6481: 'squeeze', 6482: 'reflected', 6483: 'jasper_beardly', 6484: 'kemi', 6485: 'obese', 6486: 'tickets', 6487: 'load', 6488: 'entering', 6489: 'jeers', 6490: 'remain', 6491: 'iran', 6492: 'sour', 6493: 'public', 6494: 'lately', 6495: 'support', 6496: 'admiration', 6497: 'hooky', 6498: \"i-i'm\", 6499: \"bettin'\", 6500: 'delete', 6501: 'geez', 6502: 'plan', 6503: 'lady', 6504: 'premise', 6505: 'champion', 6506: 'according', 6507: \"stallin'\", 6508: 'painless', 6509: 'pip', 6510: 'rotch', 6511: 'snail', 6512: 'shades', 6513: 'card', 6514: 'freaking', 6515: 'heavyweight', 6516: 'nervously', 6517: 'anarchy', 6518: 'rumaki', 6519: 'all', 6520: 'safer', 6521: 'problem', 6522: 'dies', 6523: 'cliff', 6524: 'happened', 6525: 'obama', 6526: 'replaced', 6527: '||quotation_mark||', 6528: 'got', 6529: 'tinkle', 6530: 'way', 6531: \"people's\", 6532: 'odor', 6533: 'mild', 6534: 'single-mindedness', 6535: 'boring', 6536: 'romance', 6537: 'knock-up', 6538: 'odd', 6539: 'dealer', 6540: 'between', 6541: 'dana_scully', 6542: 'dreamy', 6543: 'poster', 6544: 'courthouse', 6545: 'working', 6546: 'temples', 6547: 'sexy', 6548: 'superhero', 6549: 'pinball', 6550: 'fires', 6551: 'motto', 6552: 'dear', 6553: 'total', 6554: 'sobo', 6555: 'amnesia', 6556: 'oh-ho', 6557: 'joy', 6558: 'quality', 6559: 'wooooo', 6560: 'dennis', 6561: 'stupidly', 6562: 'committing', 6563: 'delicate', 6564: 'sport', 6565: 'whip', 6566: 'holiday', 6567: 'incredulous', 6568: 'jig', 6569: \"snappin'\", 6570: 'loss', 6571: 'injury', 6572: 'saw', 6573: 'turned', 6574: 'looser', 6575: \"beggin'\", 6576: 'bubble', 6577: 'coms', 6578: \"pickin'\", 6579: 'accent', 6580: 'cigarette', 6581: 'earpiece', 6582: 'wakede', 6583: 'hmmm', 6584: 'jackpot-thief', 6585: 'upon', 6586: 'stu', 6587: 'blind', 6588: 'dynamite', 6589: 'guts', 6590: 'layer', 6591: 'forgiven', 6592: 'lots', 6593: 'farthest', 6594: 'lot', 6595: 'collette', 6596: 'payback', 6597: 'faiths', 6598: 'soaking', 6599: 'sideshow_bob', 6600: 'texas', 6601: 'sickly', 6602: 'bagged', 6603: 'happens', 6604: 'super', 6605: 'gabriel', 6606: 'meditative', 6607: 'sniffles', 6608: 'crapmore', 6609: 'cueball', 6610: 'jelly', 6611: 'reach', 6612: 'victim', 6613: 'lessee', 6614: 'ahh', 6615: 'bouquet', 6616: 'gift', 6617: 'modern', 6618: 'cap', 6619: 'belly-aching', 6620: 'helicopter', 6621: 'amends', 6622: 'enthused', 6623: \"hole'\", 6624: 'whatsit', 6625: 'tar-paper', 6626: 'remains', 6627: 'smile', 6628: 'pile', 6629: \"doesn't\", 6630: 'ze-ro', 6631: 'dry', 6632: 'hurting', 6633: \"mtv's\", 6634: 'fever', 6635: 'obvious', 6636: 'quero', 6637: 'surprised/thrilled', 6638: 'l', 6639: 'ghouls', 6640: 'fresco', 6641: 'surgeonnn', 6642: 'sensitivity', 6643: 'treat', 6644: 'vampire', 6645: 'spanish', 6646: 'ralph', 6647: 'host', 6648: 'produce', 6649: 'singing', 6650: 'ew', 6651: 'gentlemen', 6652: \"should've\", 6653: 'rocks', 6654: 'woman', 6655: 'what-for', 6656: \"stealin'\", 6657: 'rom', 6658: 'modestly', 6659: 'bold', 6660: 'spite', 6661: 'perking', 6662: 'intoxicants', 6663: \"spiffin'\", 6664: \"g'on\", 6665: 'per', 6666: 'sodas', 6667: 'smithers', 6668: 'fustigation', 6669: 'homer_doubles', 6670: '||colon||', 6671: 'ocean', 6672: 'corn', 6673: 'tiny', 6674: 'libraries', 6675: 'sweetly', 6676: 'americans', 6677: 'rafter', 6678: 'lease', 6679: 'pockets', 6680: 'fonda', 6681: 'eve', 6682: 'checks', 6683: 'was', 6684: 'looks', 6685: 'mahatma', 6686: 'more', 6687: 'ripcord', 6688: 'gosh', 6689: 'sequel'}\n",
      "******\n",
      "{'ivory': 0, \"stabbin'\": 1, 'acquaintance': 3295, 'changing': 2, 'chipper': 2745, 'stevie': 3, 'forward': 3298, 'dint': 4, 'eco-fraud': 548, 'prints': 3300, 'there': 6366, 'mortgage': 2185, 'spitting': 1382, 'elaborate': 3302, 'sink': 5, 'corporation': 1375, 'organ': 6, 'source': 7, 'i/you': 3305, 'sinkhole': 3296, 'woodchucks': 8, 'hands': 3297, 'mostly': 6112, 'starla': 3306, 'monorails': 3307, 'worse': 3308, 'liable': 9, 'parrot': 5529, 'jogging': 10, 'marvin': 3299, 'fighter': 11, 'sixty-five': 12, 'world': 13, 'cheaper': 6186, 'conditioners': 14, 'doors': 15, 'ticks': 3301, 'chili': 3312, 'ziffcorp': 16, 'passed': 552, 'outta': 3313, \"speakin'\": 3315, 'data': 17, 'reynolds': 18, 'bursts': 3317, 'slit': 5892, 'depressant': 3318, 'fifty': 1660, \"lenny's\": 19, 'puzzle': 20, 'jägermeister': 4985, 'fluoroscope': 1088, 'coupon': 21, 'advance': 22, 'bon-bons': 5532, \"'your\": 23, 'poetry': 3320, 'knife': 24, 'belch': 3321, 'ventriloquism': 3303, 'towed': 25, 'worked': 3304, 'fish': 885, '||return||': 3324, 'ahhhh': 3325, 'cajun': 26, 'loudly': 3326, 'france': 3327, 'spits': 3328, 'chauffeur': 3329, 'cakes': 27, 'dateline': 3331, 'considers': 28, 'mel': 29, \"man'd\": 30, 'mouth': 31, 'enthusiasm': 3333, 'sales': 3335, \"'pu\": 3336, 'mixed': 32, 'steaming': 3338, 'fat_in_the_hat': 3339, 'rosey': 33, 'sickened': 36, 'video': 35, 'krusty_the_clown': 37, 'troll': 3341, 'moxie': 3342, 'cummerbund': 3343, 'foibles': 3344, 'carolina': 556, 'dropping': 558, 'doom': 3345, 'renovations': 3346, 'judgments': 638, 'will': 3347, \"monroe's\": 3348, 'modest': 3880, 'leathery': 3349, 'wake': 3350, 'clap': 3351, 'cutest': 38, 'reptile': 39, \"buffalo's\": 4988, 'complete': 3353, 'cocks': 5538, \"ma'am\": 3354, 'nerd': 3355, \"'kay-zugg'\": 40, 'angel': 41, 'dumpster': 3356, 'browns': 42, 'taken': 3357, 'presto': 3358, 'plenty': 43, 'conclusions': 45, 'partner': 46, 'ninth': 3884, 'barely': 47, 'ho-la': 48, 'thanks': 50, 'color': 3547, 'byrne': 3360, 'half': 2193, 'sobs': 51, 'boxcar': 3362, 'understanding': 52, 'fictional': 53, 'steampunk': 5415, 'opens': 54, 'fortune': 3363, \"professor's\": 55, 'maiden': 4990, 'yee-ha': 3365, \"renee's\": 56, 'bedroom': 3366, 'neck': 57, 'cooking': 58, 'fourth': 3367, 'rife': 59, 'heroism': 60, 'connor': 3369, 'costume': 3370, 'sunday': 62, 'relaxing': 63, \"rentin'\": 3371, 'solves': 3372, 'derisive': 65, 'unhook': 3373, 'whisper': 3374, 'fingers': 66, 'disdainful': 1638, 'correct': 3375, 'blowfish': 3376, 'beginning': 4991, 'sex': 3377, 'good-looking': 67, 'phrase': 68, '1973': 3378, 'sub-monkeys': 69, 'alley': 3381, 'grandmother': 70, 'blood-thirsty': 2195, 'bathroom': 866, 'chin': 71, 'teenage': 3382, 'runaway': 72, 'arm-pittish': 73, 'access': 3383, 'depending': 74, 'difference': 75, 'knives': 3385, 'harv': 76, 'egg': 77, \"somebody's\": 3387, 'tomorrow': 3309, 'uses': 3388, \"round's\": 3389, 'politician': 3310, 'jane': 78, 'homer': 3390, 'cheesecake': 3391, 'smooth': 3392, 'perhaps': 79, 'chipped': 3393, 'mumbling': 3394, 'lear': 3395, 'exits': 3396, 'slobs': 80, 'villanova': 3398, 'anger': 81, 'oopsie': 2485, 'never': 82, 'badmouths': 3399, 'trail': 83, 'astonishment': 84, 'ragtime': 3400, 'barney_gumble': 5542, 'works': 85, 'regulars': 3402, 'securities': 86, 'bee': 3403, 'pitch': 88, 'melodramatic': 89, 'chick': 3314, 'meal': 3406, 'names': 3407, \"dog's\": 5009, 'be-stainèd': 3408, 'hammock': 90, 'usual': 91, 'longest': 92, 'ahem': 3409, 'maitre': 3410, 'wave': 3411, 'el': 4429, 'peter_buck': 3412, 'ignoring': 93, 'eyesore': 94, 'swamp': 95, 'boxing': 96, 'group': 3415, 'how': 3316, 'patented': 419, 'badmouth': 3416, 'tones': 97, 'gold': 98, 'focus': 369, 'hawaii': 4431, 'utensils': 100, 'flowers': 3417, 'space': 3418, 'innocent': 101, 'luckiest': 6143, 'left': 3420, 'oughta': 102, 'nachos': 103, 'lungs': 3421, 'chinua': 3422, 'fat': 104, 'golden': 107, 'check': 106, 'exhibit': 108, 'sometimes': 109, 'celebration': 3425, 'necessary': 3426, 'feminine': 3427, 'protecting': 110, 'tapestry': 3429, 'affection': 3430, 'kicks': 111, 'might': 112, 'delightfully': 3431, 'jewelry': 3432, 'wrap': 113, 'friendly': 3433, 'drug': 114, 'louie': 3434, 'circus': 4112, 'hafta': 1106, 'janette': 3435, 'barkeeps': 115, 'desire': 3436, 'addiction': 116, 'meals': 117, 'entertainer': 3900, 'english': 118, 'desperate': 3437, 'impatient': 119, 'kim_basinger': 822, 'biggest': 120, 'freak': 3438, 'favor': 3439, 'selma_bouvier': 3441, 'population': 3657, 'crimes': 122, '4x4': 3442, 'three': 1110, 'anderson': 123, 'question_mark': 3443, \"bo's\": 3445, 'flower': 124, 'fonzie': 3446, 'has': 125, 'assent': 3448, 'vance': 126, 'entire': 3449, 'denser': 3450, 'tough': 3451, 'jovial': 3452, 'copy': 5620, 'dying': 3454, 'barney': 3455, 'represent': 6130, \"s'cuse\": 3456, 'ways': 2205, 'saying': 3457, 'hike': 127, 'syrup': 128, \"'morning\": 129, 'person': 3458, 'gamble': 131, 'sell': 5585, 'worthless': 132, \"one's\": 1115, 'videotaped': 134, 'tick': 5558, 'illustrates': 3459, 'sketching': 135, \"drivin'\": 137, 'twentieth': 138, 'jerking': 139, 'solid': 3460, 'bide': 140, 'quebec': 6133, 'perverse': 3461, 'ehhh': 5203, 'helpful': 141, 'prayer': 142, 'portuguese': 143, 'problemo': 3322, \"now's\": 144, 'icy': 145, 'jig': 6568, 'punk': 146, 'highest': 147, 'planning': 148, 'burp': 3463, 'recent': 3464, 'bum': 150, 'dna': 151, 'onion': 6136, 'personal': 152, 'wally': 3465, 'lachrymose': 3903, 'billboard': 153, 'heh': 3467, 'go': 3468, 'mug': 154, 'yelp': 155, 'column': 3469, 'popping': 3470, 'remote': 3471, 'squashing': 156, \"sayin'\": 3472, 'cheapskates': 3473, 'insecure': 3474, 'sam': 3475, \"g'ahead\": 3476, 'barf': 3477, 'badge': 3478, 'everyday': 157, 'yep': 158, 'when': 3481, 'billy_the_kid': 3482, 'breathtaking': 159, 'satisfaction': 160, 'rip': 161, 'bulldozing': 162, 'one-hour': 5010, 'noble': 163, 'encore': 3483, 'u2': 3484, 'kisser': 3485, 'thirty-five': 3486, 'sack': 3487, 'potatoes': 164, 'stay': 165, 'wearing': 3488, 'michelin': 166, \"y'see\": 3910, \"washin'\": 6298, 'intimacy': 3489, 'they': 3490, 'abercrombie': 3491, \"games'd\": 4446, 'puke-holes': 167, 'souvenir': 4445, 'window': 168, 'bumpy-like': 169, 'lousy': 3493, 'bellyaching': 3494, 'heard': 1684, 'fragile': 3495, 'buy': 170, 'zeal': 6071, 'pond': 171, 'closing': 3496, 'omigod': 5012, 'force': 172, 'strategizing': 173, 'evening': 174, 'blew': 576, 'occasional': 6140, 'groin': 175, 'ha': 176, 'stairs': 3498, 'plums': 3499, 'rat': 3500, 'stretches': 3330, 'funny': 3501, 'grocery': 5568, 'point': 178, 'almost': 179, 'racially-diverse': 180, 'binoculars': 3504, 'spacey': 3332, 'fast-paced': 3505, 'co-sign': 181, 'tuborg': 3507, 'skinner': 182, \"'n'\": 3508, 'near': 183, 'voted': 3509, 'windex': 3510, \"'bout\": 186, 'diet': 187, 'breakdown': 3511, 'obvious': 6635, 'clenched': 3513, 'alright': 188, 'drives': 189, 'suit': 190, 'ripper': 192, 'middle': 3514, 'reality': 3515, 'frat': 3516, 'ronstadt': 3517, 'persia': 3518, 'waking-up': 193, 'isle': 3519, 'tastes': 194, 'dingy': 5016, 'arab_man': 195, 'coins': 3915, 'territorial': 196, 'meaningful': 197, 'quite': 198, 'wheel': 199, 'hot-rod': 2778, 'hit': 200, 'limits': 201, 'anywhere': 579, 'nation': 202, 'lift': 3520, 'somehow': 203, 'girl-bart': 3521, 'to': 581, 'before': 3522, 'bathtub': 204, 'in-ground': 3523, 'suspiciously': 3524, 'no': 3525, 'floor': 6144, 'swallowed': 205, 'mop': 3526, 'station': 3527, 'worth': 3337, \"marge's\": 3528, 'noooooooooo': 3529, 'background': 207, 'race': 3531, 'plum': 3532, 'al_gore': 3533, 'pine': 1126, 'now': 3534, 'notably': 208, 'brow': 209, 'kay': 210, 'suffering': 211, 'patty_bouvier': 3535, 'do': 3536, 'botanical': 3537, 'coming': 582, \"seein'\": 3539, 'go-near-': 3540, 'thoughtless': 212, 'herself': 213, 'orphan': 3542, 'swooning': 6421, 'crap': 215, 'italian': 3543, 'casual': 216, 'rueful': 3545, 'crab': 217, 'tried': 219, 'forgive': 5890, 'little_hibbert_girl': 220, \"team's\": 3548, 'mmm-hmm': 3340, 'nordiques': 3550, 'avalanche': 4777, 'bar-boy': 221, 'frustrated': 222, \"dimwit's\": 3551, 'deals': 5579, 'paints': 3552, 'catch': 223, 'evergreen': 224, 'togetherness': 225, 'positive': 5578, 'shaky': 226, 'looked': 227, 'flag': 1697, 'ingredient': 3553, 'helpless': 6149, 'license': 1696, '_hooper': 3554, 'expert': 228, 'certificate': 3555, 'doy': 229, 'single': 230, 'car': 3556, 'startup': 3557, \"homer's\": 3558, 'commission': 3559, 'announcer': 6151, 'onto': 231, 'glum': 2787, 'excitement': 232, 'cola': 233, 'jam': 234, 'effect': 4455, 'tight': 235, 'tipsy': 3562, 'bums': 236, 'ees': 237, 'haiti': 238, 'spamming': 3563, 'lights': 3564, 'bottom': 3565, 'accounta': 239, 'backing': 240, 'based': 3566, 'cops': 6152, \"where's\": 241, 'twelve-step': 242, 'düff': 3567, 'dude': 3568, 'roomy': 3570, 'knuckle-dragging': 243, 'insensitive': 244, 'butts': 5026, 'white': 3572, 'determined': 2793, 'heliotrope': 3573, \"'tis\": 245, 'sued': 3574, 'certain': 246, 'sing': 247, 'tradition': 248, 'sob': 249, 'compels': 250, 'ruin': 251, 'un-sults': 1355, 'rice': 253, 'bras': 254, 'sniffs': 3575, 'right-handed': 3576, 'aunt': 3577, \"dolph's_dad\": 3578, 'does': 6154, 'dressing': 255, 'man_at_bar': 6240, 'consider': 3579, 'tribute': 3580, 'incriminating': 3581, 'sells': 256, 'powers': 257, 'dinner': 258, 'religion': 3583, 'etc': 3584, 'theory': 259, 'bindle': 3585, 'write': 260, 'chic': 261, 'suburban': 262, \"shan't\": 4276, 'fill': 3586, 'whirlybird': 3587, \"didn't\": 3588, 'loneliness': 3589, 'dishonor': 3590, 'minute': 263, 'winner': 5763, 'balloon': 265, 'drivers': 3591, \"countin'\": 266, 'bucket': 3592, 'rockers': 3593, 'know': 267, 'bridge': 3594, 'barbara': 3595, 'inspire': 268, 'friend': 269, 'mole': 3596, 'magnanimous': 270, 'oblivious': 3597, 'thing': 3598, 'very': 3599, 'pint': 271, 'apply': 272, 'adjourned': 273, 'basement': 3601, 'latour': 3602, 'little': 5590, 'rubs': 274, 'prove': 2801, 'approval': 3603, 'cruel': 1850, 'damn': 275, 'alcoholism': 3604, 'studio': 3605, 'cadillac': 276, 'wh': 277, 'crew': 278, 'new_health_inspector': 3607, \"you'll\": 279, 'ice': 280, 'rebuttal': 5594, \"thing's\": 281, 'slick': 3608, 'kissingher': 3352, 'collapse': 3609, 'reserve': 3610, 'tomato': 282, 'cerebral': 3612, 'burger': 3613, 'environment': 3614, 'boozehound': 5596, 'oof': 1138, 'partially': 3615, 'boned': 285, 'show-off': 286, 'gimmicks': 287, 'susie-q': 3616, 'fad': 3617, 'furious': 288, 'page': 289, 'squeezed': 3618, 'fold': 1709, 'compromise': 3619, '||right_parentheses||': 3620, 'uhhhh': 3621, 'therefore': 6227, 'não': 6339, 'savagely': 3622, 'forget': 3628, 'lovelorn': 290, 'teriyaki': 291, 'necklace': 292, \"tinklin'\": 3623, 'm': 3624, 'glove': 294, 'jailbird': 295, 'hangs': 3626, 'david': 296, 'fence': 297, 'writers': 3937, 'mint': 3629, 'luck': 5036, 'w': 2234, 'often': 3630, 'patrons': 299, 'compliment': 300, 'worldview': 3631, 'authorized': 301, 'medical': 3632, 'sideshow': 302, 'gluten': 44, 'experiments': 303, 'betcha': 3941, \"bart'd\": 304, 'wigs': 305, 'canyonero': 306, 'chicks': 3359, 'longer': 3633, 'grand': 3634, 'call': 307, 'celebrate': 3636, 'pas': 3637, 'pressure': 308, 'counterfeit': 3638, 'lushmore': 3639, 'argue': 5665, 'shut': 3640, 'bowie': 149, 'freely': 3641, 'level': 309, 'smugglers': 310, 'glad': 312, 'aer': 3642, 'aww': 313, 'delivery_man': 3643, 'hey': 49, 'slapped': 3644, 'sitting': 1145, 'against': 1713, 'aidens': 3645, 'ladies': 314, 'species': 315, 'bottomless': 3646, 'tavern': 316, 'problems': 3647, 'shyly': 3649, 'monster': 317, 'beep': 3650, '8': 319, 'menacing': 3651, 'donate': 3653, 'cozy': 3654, 'prizefighters': 592, 'displeased': 3655, 'certified': 3656, 'while': 5602, 'troy': 3361, 'harrowing': 323, 'customer': 3658, 'underwear': 5604, 'tied': 324, 'recall': 1150, 'piano': 1549, 'faded': 5097, 'reaction': 325, 'repeated': 2812, 'song': 326, 'milhouse_van_houten': 3659, 'bidet': 327, 'pirate': 3661, 'asses': 3662, 'things': 3663, 'de-scramble': 328, 'scarf': 3666, 'term': 3364, 'each': 3667, 'rookie': 329, 'demo': 3635, 'stuff': 3669, 'ne': 330, 'espousing': 3670, 'solo': 3671, 'history': 6455, 'swine': 3672, \"it's\": 3673, 'apron': 5609, 'penmanship': 3414, 'slow': 331, 'comic': 3674, 'whining': 3675, 'lance': 332, 'loud': 5042, \"i'd'a\": 333, \"takin'\": 3677, 'skins': 337, 'absentminded': 336, 'prompting': 3679, 'careful': 338, 'tenor': 3680, 'garbage': 340, 'born': 4684, 'hearts': 3681, 'tanked-up': 342, 'twenty-five': 3683, 'homers': 3684, 'up': 3685, 'gestated': 3686, 'concentrate': 3687, 'law': 343, 'clandestine': 344, 'beverage': 345, 'b-day': 346, 'bugging': 3689, 'drank': 121, 'spoon': 3690, 'midge': 3693, 'dyspeptic': 3692, 'charlie': 3694, 'image': 3697, \"soundin'\": 3696, 'tons': 347, 'neon': 3699, 'ehhhhhh': 348, 'yee-haw': 5048, 'walther_hotenhoffer': 349, 'alien': 3700, 'knocks': 3701, 'apu_nahasapeemapetilon': 3702, \"tramp's\": 5614, 'broom': 350, 'blade': 351, 'seething': 3704, 'sucked': 352, 'alter': 353, \"challengin'\": 3368, 'holidays': 354, 'booger': 3706, 'during': 3707, \"bladder's\": 355, 'tragedy': 3952, \"ridin'\": 356, 'faulkner': 1156, 'sacajawea': 357, 'ourselves': 3708, 'marge_simpson': 3709, 'medieval': 358, 'hardy': 184, 'starters': 359, 'clown-like': 360, 'glamour': 361, 'his': 362, 'supervising': 3710, 'angry': 363, 'julienne': 1721, 'buddy': 61, 'gambler': 3711, 'sexual': 3712, 'acceptance': 364, 'catching': 1314, 'reminds': 365, 'booking': 366, 'parents': 367, 'showed': 6175, 'medicine': 2250, 'handsome': 368, 'nos': 370, 'lise': 371, 'choice': 3715, 'drains': 599, 'britannia': 372, 'wholeheartedly': 6081, 'chapel': 3716, 'faint': 3717, 'sudden': 1723, 'played': 373, 'metal': 5049, 'pointing': 374, 'patron_#1': 375, 'sickly': 6601, 'viva': 3718, 'pretends': 6179, 'thought_bubble_homer': 4482, 'wife-swapping': 3719, 'proposing': 6082, 'olive': 3720, \"industry's\": 3721, 'roach': 3722, 'seem': 376, 'newsies': 377, 'facebook': 378, 'rome': 379, 'speak': 380, 'fools': 381, \"'round\": 3725, 'unkempt': 3726, 'pussycat': 382, 'kidneys': 3727, 'invulnerable': 2752, 'picked': 383, 'breakfast': 384, 'civil': 385, 'valuable': 3729, 'pretending': 386, 'grabs': 387, 'midnight': 388, 'wrapped': 3379, 'beam': 389, 'turning': 390, 'the': 392, 'complicated': 393, 'stillwater': 394, 'regretful': 395, 'yammering': 396, 'knees': 397, 'judges': 398, 'sideshow_mel': 399, 'squirrel': 400, 'placed': 401, 'shaking': 3733, \"y'know\": 402, 'pretty': 3735, 'conclude': 403, 'gheet': 3737, \"friend's\": 404, 'gruesome': 3611, 'sweet': 405, 'foam': 3741, 'agency': 3742, 'wood': 406, 'hoo': 407, 'reasons': 408, 'all-star': 3745, 'kidding': 409, 'changed': 3747, 'bubbles': 3748, 'square': 3749, 'breathless': 3750, 'paper': 410, 'issues': 3751, 'enough': 411, 'agent_johnson': 413, 'wha': 414, 'distraught': 3752, 'cool': 415, 'syndicate': 1506, 'tolerance': 3753, 'year': 3754, 'defiantly': 3755, 'mumble': 416, 'blues': 3757, 'bastard': 3758, 'princess': 417, 'lucius': 418, 'her': 3760, 'pee': 420, 'ecru': 3761, 'penny': 3762, 'raggie': 421, 'including': 422, '_marvin_monroe': 3763, 'sky': 3764, 'tongue': 423, 'homer_': 1167, 'pushing': 425, 'behind': 426, 'montrer': 3767, 'frescas': 428, 'picky': 3768, 'experience': 3384, 'terrified': 3769, 'place': 3770, 'whaaaa': 3771, 'philip': 429, 'keeps': 609, 'boxing_announcer': 430, 'secrets': 3772, 'ball-sized': 431, 'horror': 432, 'edna_krabappel-flanders': 435, 'fraud': 3775, \"disrobin'\": 1169, 'trip': 3386, 'stole': 436, 'principal': 437, \"they've\": 3778, 'hate-hugs': 438, 'ambrosia': 440, 'combine': 5058, \"they're\": 441, 'lotsa': 442, 'sunk': 3782, 'retired': 3783, 'studied': 443, 'befriend': 611, 'wiggum': 444, 'tale': 3785, 'nauseous': 445, \"family's\": 3786, \"listenin'\": 3787, 'eighty-seven': 3788, 'screams': 446, 'anxious': 447, 'stink': 448, 'wondering': 449, \"other's\": 3789, 'lips': 450, 'than': 3790, 'warmth': 451, 'punches': 5793, 'witty': 1171, 'audience': 452, 'by': 3966, 'washouts': 453, 'alone': 3791, 'gore': 454, 'blocked': 455, \"watchin'\": 456, 'murdered': 3792, 'x-men': 457, 'accelerating': 458, 'ned': 459, 'spied': 460, 'spectacular': 1512, 'jacks': 3797, 'furiously': 461, 'satisfied': 3798, 'don': 3799, 'sedaris': 5637, 'snitch': 3800, 'wuss': 462, 'foot': 1737, 'enjoy': 3801, 'abolish': 3802, 'only': 466, 'fifteen': 3803, 'specified': 467, 'wiping': 3804, 'relax': 3805, 'pain': 3806, 'pickled': 469, 'cost': 471, 'cobbling': 3807, 'allow': 472, 'snaps': 3808, 'severe': 473, 'game': 474, 'fist': 475, 'absorbent': 3809, 'broke': 3810, 'pouring': 3811, 'prize': 476, 'sanitary': 477, 'disco': 478, 'barstools': 3812, 'everywhere': 479, 'months': 1740, 'legally': 480, 'trade': 3815, 'pad': 481, 'correcting': 482, 'las': 483, 'aims': 3818, 'assistant': 3819, \"rasputin's\": 3397, 'flat': 6197, 're-al': 3820, 'meaning': 5264, '50-60': 484, 'wait': 3821, 'musses': 486, \"someone's\": 487, 'listening': 3823, \"sat's\": 488, 'martini': 3824, 'change': 489, 'sec': 5641, 'beef': 490, 'rewound': 3825, 'care': 3826, 'position': 492, 'matter': 493, 'disposal': 3827, 'shares': 3828, 'work': 3829, 'happier': 494, 'dance': 495, 'first': 3830, \"today's\": 1622, 'action': 3831, 'baritone': 496, 'bunch': 497, 'comedies': 498, 'mugs': 3833, 'perch': 505, 'deliberate': 502, 'stones': 504, 'haws': 1744, 'kool': 3834, 'count': 506, 'tearfully': 507, 'griffith': 508, 'settlement': 509, \"tree's\": 620, 'occasion': 511, \"payin'\": 3837, 'travel': 514, 'lottery': 513, 'hmf': 515, 'own': 516, 'cheaped': 517, 'space-time': 518, 'infatuation': 3839, \"nick's\": 519, 'smiling': 2263, 'pantry': 521, 'suits': 6199, 'ralphie': 3401, 'hellhole': 522, 'x': 523, 'simultaneous': 524, 'faiths': 6597, 'grab': 3840, 'tang': 525, 'hated': 526, 'easter': 527, 'dads': 3530, 'patting': 3843, 'tab': 528, 'milhouse': 3844, 'carll': 5072, 'fumigated': 3845, 'sec_agent_#1': 5929, 'laid': 3846, 'cause': 3847, 'conditioning': 3848, 'ah': 3849, 'fleabag': 529, 'partly': 530, 'greatly': 3851, 'erasers': 531, 'ha-ha': 532, 'emergency': 533, 'presidents': 3853, 'where': 534, 'drunks': 535, 'between': 6540, 'kyoto': 536, 'original': 537, 'socialize': 3854, 'inserted': 538, 'selective': 3855, 'percent': 540, 'moon': 541, 'gayer': 542, 'everything': 543, 'backbone': 87, 'ends': 545, 'fevered': 546, 'adjust': 3857, 'dull': 4499, 'celebrity': 3858, \"should've\": 6652, 'shesh': 3859, 'appalled': 3860, 'passports': 3861, 'company': 3862, 'aggravated': 3863, 'unlocked': 547, 'cheery': 3864, 'key': 3865, 'society_matron': 3404, 'creeps': 3866, 'guinea': 3867, 'unless': 3868, 'dollar': 3869, 'hub': 627, 'bartenders': 3871, 'weekend': 3405, 'harvey': 3872, 'hyper-credits': 549, 'beats': 550, 'seats': 551, 'dishrag': 553, 'connection': 3873, \"ladies'\": 6384, 'u': 1185, 'whiny': 3874, 'vacation': 554, 'vote': 555, 'kwik-e-mart': 3875, 'vin': 557, 'splash': 3878, \"'s\": 3881, 'tracks': 559, 'sit': 3883, 'polish': 3885, 'leonard': 560, 'extended': 561, 'solely': 3886, 'temple': 562, 'simp-sonnnn': 3887, 'off': 3889, 'wa': 563, 'anarchy': 6517, 'abe': 564, 'lifetime': 565, 'failure': 3890, 'seconds': 3891, 'protesting': 3892, 'criminal': 566, 'boyhood': 3893, 'leak': 3894, 'likes': 3895, 'crazy': 3896, 'xx': 629, 'bright': 567, 'rivalry': 3898, 'told': 568, 'hourly': 569, 'market': 3899, 'inquiries': 3901, 'unrelated': 3902, 'plywood': 570, 'yoink': 571, 'instantly': 3904, 'handwriting': 3905, 'sang': 3906, 'shaken': 3907, 'holy': 1189, 'muscles': 573, 'upbeat': 574, 'mid-seventies': 3908, 'payday': 3909, 'darjeeling': 3911, 'dealie': 575, \"gentleman's\": 3912, \"moe's_thoughts\": 1754, 'fox_mulder': 577, 'dropped': 578, 'loan': 3913, 'sec_agent_#2': 3914, 'hearing': 3916, \"'ceptin'\": 580, 'lock': 3917, 'taps': 3918, 'jolly': 3919, 'adrift': 3413, 'kentucky': 3920, 'der': 3921, 'full-time': 5654, 'log': 3922, 'priceless': 3923, 'website': 3924, 'teams': 468, 'human': 3925, \"enjoyin'\": 4508, 'pews': 3926, 'tense': 583, 'out': 584, 'sneeze': 585, 'simplest': 3927, 'marvelous': 2393, \"he's\": 3928, 'bad-mouth': 586, 'minutes': 3929, 'warren': 3930, 'raccoons': 3931, 'versus': 3932, 'news': 587, 'uh-oh': 588, 'begging': 589, 'enveloped': 3933, 'face': 3934, 'strains': 3935, 'newest': 590, 'gus': 3936, 'flaking': 3940, 'feat': 3938, \"valentine's\": 3939, 'bible': 635, 'laughing': 3942, 'park': 591, 'pop': 6251, 'community': 3943, 'wang': 500, 'reunion': 5659, 'mis-statement': 99, 'sobbing': 3945, 'inspired': 3946, 'smallest': 593, 'leprechaun': 1756, 'tidy': 1195, 'another': 594, 'er': 595, 'wildest': 596, 'interesting': 5882, 'continuing': 3949, 'cesss': 3950, 'windowshade': 3951, 'semi-imported': 598, 'remembering': 3953, 'twice': 6166, 'nor': 3954, 'pharmaceutical': 600, 'tell': 3955, 'aging': 601, 'tax': 3956, 'goblins': 3957, 'gasps': 3958, 'christmas': 4514, 'sun': 602, 'emphasis': 3419, 'hah': 3960, 'rationalizing': 603, 'begin': 604, 'exception': 1761, 'friends': 605, 'computer': 606, 'sat-is-fac-tion': 3962, 'perfume': 607, 'sees': 608, 'publish': 3963, 'toys': 3964, 'shooting': 610, 'scores': 1199, 'venom': 612, 'alcohol': 3967, 'rector': 613, 'example': 4515, 'tv-station_announcer': 3968, 'nards': 614, 'trying': 3969, 'outstanding': 615, 'expression': 616, 'fireworks': 617, 'football': 4899, 'though': 618, \"fans'll\": 3970, 'says': 642, 'control': 3971, 'may': 3972, 'rutabaga': 3973, 'material': 3974, 'dictating': 5908, 'me': 3975, 'detail': 619, 'used': 6217, 'given': 621, 'mock': 622, 'stumble': 623, 'telephone': 624, 'spreads': 3976, 'appeals': 1604, 'involving': 3977, \"must've\": 625, \"shouldn't\": 626, 'rag': 3978, 'prepared': 3979, 'pope': 3980, 'kenny': 3981, 'high': 3982, 'stored': 3983, 'rapidly': 3984, 'admitting': 628, 'skunk': 3985, 'fayed': 630, 'wow': 3986, 'quarterback': 631, 'enemy': 3987, 'yoo': 3988, 'plaintive': 3989, 'uneasy': 3990, 'done': 3991, 'th': 632, 'specific': 3992, 'wore': 633, 'defected': 637, 'jigger': 636, 'finger': 3993, 'intrigued': 3994, 'assume': 3995, 'nerve': 1203, 'avec': 3996, 'ran': 639, 'pasta': 3997, 'jay_leno': 640, 'scanning': 641, 'gals': 643, 'fortress': 3998, 'occupancy': 4657, 'bachelor': 644, 'die': 3999, 'shower': 645, 'closes': 4000, 'past': 4001, 'cueball': 6609, \"waitin'\": 646, \"c'mon\": 647, 'sloe': 648, \"buyin'\": 4004, 'barber': 3424, 'incredulous': 6567, 'scum-sucking': 4005, \"heat's\": 6224, 'hair': 4006, 'gangrene': 649, 'shuts': 4007, 'war': 4008, 'post-suicide': 651, '_julius_hibbert': 4980, 'fuzzlepitch': 4011, 'wanna': 4012, 'lying': 652, 'grope': 653, 'able': 4014, 'boyfriend': 1206, 'road': 654, 'annie': 5498, 'mexican': 4015, 'disillusioned': 3428, 'intriguing': 655, 'numbers': 4016, 'zoomed': 656, 'errrrrrr': 6095, 'streetlights': 4017, 'caveman': 4018, 'richer': 4019, '||dash||': 658, 'damage': 4020, 'santeria': 4021, 'model': 4022, 'voodoo': 4023, 'unfresh': 659, 'wrong': 4024, 'insist': 4025, 'liser': 6230, 'realizing': 4026, 'cronies': 650, 'oil': 4528, \"'topes\": 4028, 'hitchhike': 1767, 'lifters': 660, 'tries': 4029, \"wonderin'\": 661, 'ape-like': 4030, 'sudoku': 4031, 'irishman': 662, 'homeless': 663, 'case': 4009, 'option': 664, 'sauce': 4032, 'impeach': 4033, 'languages': 665, 'dignity': 666, \"who's\": 4036, 'nightmare': 4037, 'singing/pushing': 4038, 'foodie': 4039, 'coffee': 4040, 'arimasen': 4041, 'releasing': 4013, 'happy': 667, 'coined': 668, 'give': 1211, \"fryer's\": 4043, 'memory': 5459, 'confidential': 4044, 'allegiance': 4045, 'alky': 671, 'pigs': 672, 'man_with_tree_hat': 4046, 'sooo': 673, 'salvation': 4048, \"bashir's\": 2980, 'mafia': 6232, 'finest': 1891, 'shame': 4049, \"lovers'\": 4050, 'eating': 4051, 'healthier': 674, 'dee-fense': 4052, 'lindsay': 675, 'squeals': 4053, 'register': 4054, 'labels': 676, 'lou': 4055, 'wraps': 4056, 'firm': 4057, 'consoling': 678, 'mimes': 679, \"poundin'\": 5096, 'handed': 681, 'terrific': 5679, 'nearly': 4059, 'buying': 4061, 'hop': 4062, 'quietly': 682, 'sledge-hammer': 683, 'hooters': 4063, 'ones': 4064, 'cooker': 684, 'country-fried': 686, 'god': 4066, 'stalking': 4067, 'w-a-3-q-i-zed': 687, 'juan': 688, 'frink': 689, 'man': 3897, 'slender': 5098, 'invited': 4069, 'dexterous': 691, 'groveling': 1775, 'jackass': 4531, 'make': 5681, 'men': 692, 'bar': 693, 'moe-ron': 694, 'luv': 4071, 'low': 4072, 'opportunity': 695, 'hoagie': 696, 'fired': 697, 'clock': 4073, 'offer': 698, 'computer_voice_2': 4074, 'anyhoo': 4075, 'gator': 6236, 'religious': 5684, 'payments': 700, 'jar': 701, 'bears': 702, 'felt': 703, 'jeff': 5273, 'kitchen': 4077, 'lainie': 4078, 'awww': 4079, 'factor': 4080, 'morning': 4081, 'cheese': 706, 'dunno': 707, 'fly': 709, 'sixty-nine': 710, 'elves': 4084, 'adult': 711, 'hooch': 5807, 'yourselves': 4085, 'faces': 5685, \"donatin'\": 712, 'anyway': 713, 'effects': 714, 'charges': 5687, 'tow': 6238, \"maggie's\": 715, 'dead': 4086, 'calvin': 716, 'language': 717, 'agnes_skinner': 4087, 'steely-eyed': 718, 'sponge': 719, 'gasp': 720, 'break-up': 721, 'hardhat': 1378, 'customers': 722, 'beyond': 5102, 'peabody': 723, 'depressing': 724, 'warmly': 4088, 'serious': 4691, 'lorre': 4089, 'free': 4091, \"we're\": 4092, 'pitcher': 725, 'sponsoring': 726, \"renovatin'\": 4093, 'awareness': 657, 'gutenberg': 727, 'alfalfa': 4095, 'sweaty': 728, 'influence': 729, 'portfolium': 730, 'judge': 2874, 'triangle': 4096, 'waltz': 4097, 'larry': 4098, 'tree_hoper': 4099, 'surprised': 4100, 'heart': 4101, 'distract': 4103, 'title': 3444, 'eyeballs': 4104, 'reaches': 731, 'bushes': 218, 'inning': 732, 'deeply': 733, 'loboto-moth': 4105, 'pointy': 935, 'funeral': 734, 'eighty-three': 2293, 'committee': 6241, 'either': 735, 'smelling': 736, 'nickels': 737, \"'evening\": 738, 'lee': 739, \"comin'\": 740, 'drinking': 4107, 'shores': 4108, 'lisa': 741, 'scornfully': 4110, 'citizens': 742, \"everyone's\": 4111, 'edner': 743, 'agent_miller': 744, 'giving': 3178, 'knowledge': 745, 'panicked': 4113, \"raggin'\": 4114, 'pretzels': 4115, 'sagacity': 747, 'supply': 748, 'glitterati': 4116, 'ugly': 4117, 'attack': 4118, 'explanation': 750, \"tester's\": 4120, 'online': 4121, 'improved': 752, 'spot': 3447, 'humiliation': 4122, 'edna': 753, 'smiles': 755, 'fumes': 756, 'move': 757, 'rob': 5565, 'baby': 1232, 'flanders': 4124, 'moe_szyslak': 758, 'feet': 1651, 'handoff': 4125, 'luxury': 4126, 'sucks': 759, 'cut': 760, 'land': 761, 'lists': 762, 'professional': 763, 'frozen': 4127, 'fake': 764, 'clientele': 4129, 'ready': 765, 'narrator': 4130, 'hooray': 766, 'bought': 767, 'busted': 768, 'gang': 4132, 'channel': 770, 'pyramid': 771, 'swatch': 772, 'jeff_gordon': 5364, 'mayor_joe_quimby': 773, 'germs': 774, 'secret': 4027, \"world's\": 775, 'pre-columbian': 776, 'play': 777, 'fabulous': 4134, 'boxers': 3948, 'noggin': 4135, 'daniel': 779, 'campaign': 780, 'shrugging': 3453, 'familiar': 4137, 'newsletter': 783, 'swimming': 2298, 'eight-year-old': 786, 'kickoff': 787, 'african': 4138, 'magazine': 4139, 'moe-clone': 4140, 'wiener': 4141, 'peanuts': 4142, 'infor': 4143, 'eats': 4144, 'cigarette': 6580, 'pride': 790, 'radical': 4145, 'scoffs': 4146, 'sumatran': 4147, 'believe': 792, 'kearney_zzyzwicz': 4148, 'diddilies': 793, 'ruined': 5693, 'must': 4149, 'fastest': 130, 'settles': 794, 'sharity': 795, 'liquor': 6248, 'umm': 4153, 'homunculus': 796, 'generous': 797, 'evil': 4154, 'ron': 4155, 'record': 798, 'madonna': 799, 'shard': 4034, 'store': 4549, 'increased': 800, 'maher': 4158, \"tap-pullin'\": 801, 'sotto': 802, 'thorough': 804, 'play/': 4159, 'dory': 4160, 'feeling': 2888, 'crunch': 6260, 'envy-tations': 133, 'perfunctory': 4161, 'watt': 805, 'sue': 4163, 'museum': 806, 'intoxicated': 807, 'sponsor': 4035, 'switch': 808, 'composer': 809, 'skills': 810, 'ago': 811, 'commit': 4166, 'measurements': 812, \"ol'\": 136, 'teenage_homer': 813, 'bag': 6250, 'drag': 4167, 'common': 4168, 'soul': 814, 'grammar': 815, 'contemporary': 816, 'duty': 4169, \"somethin's\": 817, 'falcons': 818, 'volunteer': 4552, 'dizzy': 819, 'repairman': 4170, 'kent_brockman': 821, 'mckinley': 4171, 'marjorie': 4172, 'ungrateful': 823, 'cutie': 824, 'learn': 4173, 'that': 825, 'norway': 4174, 'california': 4175, 'full-bodied': 827, 'snapping': 4176, 'seven': 828, 'mini-dumpsters': 4177, 'watered-down': 4178, 'could': 829, 'slays': 4179, 'bauer': 4042, 'louse': 4180, 'guide': 4181, 'chicken': 830, 'troubles': 831, 'feminist': 832, 'thanking': 833, 'coma': 4185, 'gorgeous': 2312, 'bumped': 834, 'undies': 4186, 'author': 835, 'twins': 836, 'hold': 837, 'inside': 839, 'shag': 4187, 'stalin': 4188, 'abusive': 841, 'trashed': 842, '/': 843, 'service': 1406, 'decision': 844, 'chair': 4189, 'chuckle': 846, 'nudge': 847, 'hole': 848, 'menlo': 4190, 'fondest': 4191, 'throwing': 4192, 'indecipherable': 849, 'aziz': 850, 'outs': 4194, 'ura': 4195, 'recruiter': 851, 'father': 4196, 'perfect': 1237, 'accidents': 852, 'corpses': 853, 'pets': 1238, 'duke': 854, 'tatum': 4197, 'club': 4198, 'presentable': 855, 'cursed': 2315, \"poisonin'\": 4199, 'singing': 6649, 'poorer': 6124, 'sat': 856, 'passes': 4200, 'chug': 4201, 'nailed': 857, 'talkative': 858, 'passenger': 860, 'killed': 670, 'clearing': 861, 'typed': 862, 'golf': 4204, 'pennies': 863, 'rhyme': 4205, 'built': 4206, 'or': 864, 'pepto-bismol': 4207, 'self': 4565, 'temper': 4208, 'shove': 865, 'paintings': 867, 'ribbon': 4047, 'lighting': 1243, 'teddy': 4209, 'type': 869, 'animals': 870, \"o'problem\": 4210, 'terrible': 872, 'contractors': 3466, 'boisterous': 4211, \"getting'\": 868, 'eighty-six': 4212, 'interested': 874, 'horses': 4082, \"kiddin'\": 4213, 'sixty': 4214, 'disco_stu': 875, 'domestic': 4569, 'quit': 876, 'relative': 4215, 'formico': 4216, 'candy': 877, 'womb': 878, 'lessons': 879, 'benjamin': 880, 'letters': 5123, 'muffled': 881, 'swan': 883, 'throat': 4217, 'recently': 884, 'jerky': 4218, 'wealthy': 887, \"feelin's\": 888, 'owes': 4219, 'someday': 2322, \"choosin'\": 890, 'young_homer': 4221, \"santa's\": 4222, 'marmaduke': 4224, 'mr': 891, 'here': 4225, 'slop': 893, 'neanderthal': 894, 'para': 895, \"'cept\": 4228, 'contemplates': 896, 'list': 4230, 'newly-published': 897, 'love': 4231, 'massachusetts': 5628, 'mathis': 4233, 'justice': 4234, 'uniforms': 4235, 'innocuous': 5125, 'adopted': 3877, 'occurrence': 6235, 'brightening': 899, 'panties': 900, \"fishin'\": 4236, 'election': 4237, 'playing': 901, 'uncreeped-out': 902, 'imitating': 903, 'salt': 4238, 'takeaway': 905, 'frightened': 4239, 'picture': 4241, 'thunder': 4242, 'helen': 4243, 'dials': 909, 'listened': 3380, \"ball's\": 910, 'parasol': 4244, 'aah': 911, 'imported-sounding': 4245, 'teach': 5126, 'absentmindedly': 4246, 'burns': 512, 'office': 912, 'contemplated': 913, 'failed': 1936, 'book': 4247, 'charming': 914, 'super-genius': 5128, 'pit': 915, 'kramer': 4248, 'elect': 4249, 'oils': 4250, 'contest': 916, 'selection': 4251, 'technical': 6265, 'clears': 917, 'nuked': 1780, 'priority': 918, 'trusted': 4253, 'five': 919, 'unhappy': 4255, 'outlive': 4256, 'multi-national': 3480, 'pointless': 920, 'saturday': 4257, 'workers': 4258, 'cameras': 4259, 'frontrunner': 4260, 'british': 677, 'judge_snyder': 4261, 'witches': 5843, 'fatty': 4262, 'ringing': 4263, 'disapproving': 4264, \"town's\": 922, 'minus': 923, 'confused': 6268, \"hole'\": 6623, 'incarcerated': 5130, 'ditched': 4265, 'moe': 925, 'kucinich': 680, 'neighbors': 926, 'bill_james': 4058, 'society': 927, 'sexy': 6547, 'smart': 928, 'darkness': 4266, \"tryin'\": 4267, 'terror': 929, 'guard': 4268, 'neither': 4269, 'dealt': 930, 'losers': 5708, 'sisters': 4271, 'child': 5131, 'stranger': 4272, 'detective_homer_simpson': 4273, 'complaining': 932, 'poetics': 4060, 'disturbing': 933, 'site': 4274, 'twenty-two': 4275, 'mike_mills': 335, 'over-pronouncing': 4278, 'round': 936, 'dark': 4279, 'spooky': 5133, 'birthplace': 4281, 'shreda': 1256, 'tourist': 1816, 'castle': 4282, 'believer': 4284, 'delicately': 938, 'feedbag': 4285, 'fights': 4286, 'impending': 5710, 'blobbo': 940, 'fund': 4287, 'offense': 5275, 'thru': 4288, 'roof': 941, 'woozy': 6271, 'old': 942, 'choked-up': 943, \"men's\": 5559, 'boneheaded': 4290, 'job': 944, 'stock': 4291, 'albert': 946, 'dig': 4065, 'remodel': 947, 'chairman': 948, 'wacky': 949, \"havin'\": 1818, 'chase': 950, 'sarcastic': 5713, 'spilled': 4292, 'salvador': 5715, 'touches': 951, \"stayin'\": 4293, 'laughs': 4294, 'sunny': 4296, 'non-american': 953, 'terrace': 3319, 'dirge-like': 954, 'thirsty': 955, 'film': 4297, 'tank': 956, 'feisty': 957, 'microwave': 958, 'tubman': 959, 'lumpa': 960, 'completing': 961, 'd': 5716, 'tear': 1262, 'ehhhhhhhhh': 962, 'side': 5718, 'hero': 963, 'jerks': 4068, 'vulgar': 964, 'swishkabobs': 4298, 'cries': 965, 'win': 6341, \"kearney's_dad\": 966, 'beach': 967, 'tigers': 968, 'joined': 969, 'idiot': 4302, 'wildfever': 970, 'locked': 4303, 'carnival': 971, 'haw': 972, 'need': 4304, 'marriage': 4305, 'starting': 4307, 'buddha': 973, 'finale': 974, 'fixes': 4309, 'bear': 4310, 'tabooger': 975, 'mid-conversation': 4311, 'sympathizer': 3492, 'manfred': 690, \"collector's\": 976, 'safely': 4312, 'mind': 4313, 'elder': 4314, 'doll': 977, 'stays': 4315, 'handshake': 5142, 'ohhhh': 2334, 'results': 6039, 'jumps': 4316, \"bar's\": 4317, 'yesterday': 4318, \"ma's\": 4319, 'amber': 4320, 'laramie': 6119, 'warning': 978, 'lame': 4321, 'short': 979, 'twenty-four': 980, 'coherent': 4323, 'steal': 981, 'four': 982, 'enthused': 6622, 'refreshingness': 5476, 'county': 5722, 'rude': 4325, 'crystal': 5144, 'seems': 4326, 'wreck': 983, 'filed': 2912, 'book_club_member': 984, \"carl's\": 4327, 'alcoholic': 985, 'twin': 987, 'trouble': 4328, 'tobacky': 4329, 'ore': 4330, 'referee': 4331, 'drederick': 988, 'share': 989, 'trolls': 4070, 'szyslak': 990, 'half-back': 991, 'promise': 4334, 'front': 993, 'stolen': 995, 'flaming': 2337, 'mirror': 4335, 'je': 996, 'genuinely': 1830, '_babcock': 998, 'hispanic_crowd': 4337, 'poke': 4338, 'scotch': 999, \"changin'\": 4339, 'thumb': 1000, 'simpsons': 4340, 'cream': 4341, 'pantsless': 1001, 'busiest': 4343, 'ebullient': 4344, 'checking': 1003, 'perfected': 1004, 'soup': 4579, 'mccarthy': 4345, 'fine': 4346, \"tony's\": 1006, 'bush': 1007, 'weary': 1008, 'waste': 4347, 'reader': 1009, 'keep': 6285, 'boy': 6469, 'branding': 5150, 'present': 4348, 'pills': 2344, 'corkscrews': 1011, 'temp': 1012, 'vigilante': 4349, 'already': 464, 'sticker': 1013, 'smurfs': 5151, \"costume's\": 6369, 'whaddaya': 1015, 'youngsters': 4350, \"toot's\": 1016, 'state': 4351, 'afloat': 4352, 'struggling': 1017, '_burns_heads': 1020, 'fact': 1019, 'it': 4354, 'tapping': 1021, 'capitol': 4355, 'butt': 5155, 'dismissive': 4357, 'municipal': 1022, 'pleasure': 1023, 'unearth': 1024, 'researching': 1025, 'crisis': 1026, 'slightly': 4359, \"brady's\": 1028, 'macbeth': 4361, 'wordloaf': 3497, 'mull': 1030, 'voice': 1031, \"workin'\": 1033, 'many': 2346, 'taking': 1034, 'fuhgetaboutit': 5726, 'aggravazes': 4362, 'microbrew': 4363, 'welcome': 1035, \"we'll\": 699, 'voice_on_transmitter': 1037, 'homer_simpson': 1038, 'orgasmville': 1039, 'piece': 4364, 'brusque': 177, 'klown': 1043, 'lenny': 1044, 'ninety-six': 5159, 'refresh': 1047, 'one': 1046, 'whole': 6338, 'annoyed': 1048, 'and/or': 1049, \"what'sa\": 4366, 'represents': 1050, 'inflated': 1051, 'squabbled': 4368, 'darn': 1054, 'causes': 4369, 'dumbest': 4372, 'face-macer': 1055, 'thanksgiving': 1463, 'mayan': 1056, 'flea': 1057, 'trash': 4374, 'cop': 5200, 'sorts': 1058, 'served': 4376, 'snatch': 4377, 'ten': 1059, \"eatin'\": 1060, 'heartless': 1061, 'brine': 1062, 'remembers': 1063, 'maya': 1064, 'lurleen': 1065, 'overstressed': 1066, 'gimme': 4378, 'scruffy_blogger': 1067, 'ancient': 1068, 'absolutely': 4380, 'aboard': 4381, 'name': 4382, 'walking': 4526, 'realize': 4383, 'mill': 4384, 'chumbawamba': 4386, 'incredible': 1070, 'shred': 4387, 'shrugs': 1071, 'like': 5728, 'apart': 4389, 'insulin': 4391, 'dirty': 4556, 'prettiest': 4392, 'contract': 5732, 'ned_flanders': 4393, 'cruiser': 704, \"could've\": 1073, 'slab': 1074, 'journey': 4394, 'painted': 1075, 'sixteen': 3502, 'tap': 4395, 'monkeyshines': 1076, 'head': 1273, 'puts': 1077, 'plants': 5164, 'woulda': 4396, 'yap': 4594, 'sounds': 4397, 'pillows': 1078, 'bars': 4398, 'winks': 4399, 'cases': 3503, 'winning': 4401, 'shelf': 1079, 'found': 1080, 'owe': 1081, 'swings': 4402, \"'cause\": 1082, 'enabling': 1083, 'anti-lock': 4403, 'preparation': 6293, 'ratted': 1084, 'coughs': 4404, 'future': 4405, 'synthesize': 4407, 'wind': 705, 'sadly': 4002, 'together': 1085, 'why': 4408, 'tv': 1086, 'swear': 4409, 'forty-five': 4410, 'dizer': 3506, 'justify': 4412, 'fast': 2356, 'breathalyzer': 4414, 'life': 4415, 'island': 4416, 'boo': 708, 'then': 1087, 'ton': 2930, 'lofty': 5165, 'goods': 4417, 'henry': 4083, 'possibly': 4418, 'hall': 1089, 'buddies': 1090, 'haplessly': 4419, 'thirty-thousand': 1091, 'manboobs': 4420, 'yours': 4421, 'slurps': 4422, 'disappeared': 1094, 'freeze': 4423, 'juke': 1095, 'grampa_simpson': 4424, 'proves': 4425, 'releases': 4426, 'monday': 1096, 'tender': 6295, 'occurred': 4427, 'wizard': 5675, 'carlotta': 1097, 'bull': 1098, 'daughter': 1099, 'coaster': 1100, 'shotgun': 5736, 'get': 1102, 'died': 2731, 'pants': 4428, 'stagehand': 1103, 'owned': 4430, \"isn't\": 4432, 'uncle': 4433, 'propose': 1104, 'music': 1105, 'would': 4434, 'realized': 5738, 'twenty-six': 1107, 'madman': 4435, \"he'd\": 1108, 'femininity': 4436, 'all-american': 4437, 'loafers': 1111, 'appendectomy': 1112, 'dumbbell': 1113, 'entirely': 1114, 'sassy': 1116, 'moonshine': 6242, 'without': 4438, 'jerk': 4439, 'ads': 3512, 'forgotten': 1118, 'lindsay_naegle': 1119, 'day': 4440, 'officials': 4441, 'mount': 5740, 'trench': 1120, 'dating': 4443, 'tree': 4444, 'bucks': 5741, 'less': 1121, \"this'll\": 4447, 'yard': 1122, '_montgomery_burns': 1123, 'recorder': 4448, 'measure': 4449, 'lib': 1124, 'roy': 6218, 'error': 1125, 'burn': 4450, 'hostages': 4451, 'taxi': 191, 'diving': 4452, 'alibi': 1127, 'stationery': 1128, 'save': 1129, 'superior': 4453, 'lowers': 1130, 'insightful': 1131, 'effervescent': 1132, 'belt': 4454, 'accepting': 1133, 'splattered': 1134, 'disappointing': 1135, 'scram': 4456, 'bake': 4457, 'punch': 4458, 'wrote': 2443, 'slogan': 1136, 'forty-seven': 4459, 'distinct': 4460, 'reed': 1137, 'training': 1613, 'grinch': 5174, 'seamstress': 1286, 'kill': 1139, 'malted': 1140, 'ninety-nine': 1141, 'joey': 6439, 'worried': 1142, 'bronco': 4461, 'candles': 4462, 'jackson': 5368, 'stengel': 4464, 'with': 4800, 'denver': 1144, 'bye': 4466, 'movie': 4467, 'peaked': 1146, 'dame': 1147, \"leavin'\": 1148, \"barney's\": 4468, 'top': 1149, 'laugh': 4469, \"tellin'\": 5781, 'capitalists': 4470, 'date': 1151, 'cake': 1152, 'playhouse': 634, 'riding': 1153, 'wonderful': 1154, 'pursue': 4471, 'diaper': 1155, 'anyhow': 4472, 'came': 4473, 'adeleine': 4474, 'arrived': 4475, 'temporarily': 1157, 'slip': 4476, 'kids': 1158, 'occupation': 4478, 'slaps': 1159, 'small': 4479, 'unfortunately': 1160, 'anyone': 1161, 'voters': 4480, 'especially': 4481, 'donation': 1162, 'associate': 4483, 'ummmmmmmmm': 6304, 'pause': 4484, '6': 4485, 'cattle': 3961, 'proposition': 945, 'detective': 1164, 'stupid': 4486, 'humanity': 1165, 'harvesting': 4487, 'been': 1166, 'excuses': 4488, 'regretted': 4490, 'pridesters': 4491, 'children': 1293, 'mmm': 1168, 'superhero': 6548, 'smitty': 572, 'royal': 4492, \"calf's\": 4605, 'aside': 1170, 'catch-phrase': 4493, 'signed': 4494, 'beached': 2370, 'explain': 1172, 'sitcom': 1173, 'purveyor': 1174, 'became': 1175, 'hawking': 1176, 'crestfallen': 1177, 'clams': 6309, 'hotline': 1178, 'brains': 4495, 'sale': 4496, 'beanbag': 1040, 'annual': 1179, 'in': 1180, 'blurbs': 1296, 'schabadoo': 1181, 'rickles': 5750, 'whaaa': 1182, 'victorious': 4497, 'david_byrne': 4498, 'raising': 1183, 'crowned': 1184, 'whim': 4500, 'form': 4501, 'enthusiastically': 4502, 'whaddya': 4503, 'alphabet': 1187, 'stops': 1188, 'understand': 4504, 'conditioner': 4506, 'none': 1190, 'meyerhof': 1191, 'breaking': 4507, 'teenage_barney': 4610, 'premiering': 4509, 'wing': 6313, 'senators': 1192, \"i'm\": 4510, 'invented': 1193, 'quadruple-sec': 1194, 'direction': 4511, 'embarrassing': 4512, 'stiffening': 4513, 'family': 1196, 'sieben-gruben': 1197, 'sounded': 1198, 'delivery_boy': 4516, 'taylor': 1200, 'murmurs': 1201, 'my-y-y-y-y-y': 4518, 'valley': 4519, 'notices': 4520, \"city's\": 4521, 'water': 4522, 'an': 1202, 'four-drink': 5754, 'al': 4523, 'arise': 1204, 'roll': 1205, 'statistician': 4524, 'stayed': 1207, 'exclusive': 4525, 'ad': 4527, 'j': 1208, 'involved': 4529, 'sweat': 1209, 'pay': 1210, 'sooner': 1212, 'outrageous': 5189, 'statue': 1213, 'theatrical': 4094, \"haven't\": 1214, 'ignorance': 1215, 'har': 4532, \"what'd\": 1404, 'assert': 6315, 'einstein': 1216, 'japanese': 4533, 'cup': 1217, 'banks': 1218, 'thousand-year': 4534, 'bottoms': 4535, 'survive': 4536, 'blank': 4537, 'creates': 206, 'lives': 1220, 'southern': 1221, 'pro': 4538, 'trainers': 4539, 'jazz': 1222, 'drawer': 1223, 'artie': 4540, 'soap': 1224, 'pronounce': 4541, 'disguised': 4542, 'guys': 1225, 'movement': 4543, 'johnny_carson': 1226, 'pigtown': 4544, 'wish-meat': 1227, 'ominous': 4545, 'trust': 4546, 'notice': 4547, 'nigeria': 185, 'lover': 1228, 'eighteen': 5920, 'son': 4548, 'tee': 1229, 'easy-going': 4102, 'horrified': 4550, 'amazing': 4551, 'hibachi': 4553, 'estranged': 1230, 'academy': 1231, 'doppler': 4557, 'relaxed': 1233, 'strictly': 1234, 'mariah': 6385, 'neighboreeno': 1235, 'nasa': 1236, 'jokes': 4558, 'loathe': 4559, 'thighs': 4560, 'dozen': 1239, 'dammit': 4562, 'lobster-politans': 1241, 'craft': 4563, 'heave-ho': 4564, 'be': 1242, \"goin'\": 4566, 'practically': 1244, 'floated': 4567, 'onions': 1245, 'weight': 4568, 'dungeon': 1246, 'aristotle': 1247, 'mother': 4570, 'supermarket': 6317, 'numeral': 4571, 'unfamiliar': 1248, 'launch': 1249, 'fans': 4572, 'lawyer': 4573, 'coms': 6577, 'sticking': 1250, 'outlook': 1251, 'tells': 4574, 'dreamed': 1252, 'earrings': 1867, 'skirt': 5731, 'jets': 4575, 'eliminate': 4576, 'ford': 1253, 'supposed': 1254, 'business': 4577, 'help': 1255, 'underpants': 4578, 'transmission': 1258, \"can'tcha\": 4580, 'ruby-studded': 1259, 'pointed': 1260, 'morning-after': 1261, 'catholic': 1606, 'thrilled': 4581, 'fustigate': 1263, 'season': 4582, 'due': 1264, 'maximum': 4583, 'pour': 4584, 'nantucket': 3538, 'vacations': 1265, 'friendship': 4585, 'bar_rag': 1266, 'shout': 5643, 'gibson': 4586, 'progress': 1267, 'singers': 4587, 'confidence': 4588, 'miserable': 1268, 'always': 4625, 'please': 1481, 'hexa-': 4589, 'horns': 4590, 'hollowed-out': 5800, 'seymour_skinner': 3652, 'sharing': 1269, 'shoo': 4591, 'peeping': 4106, 'spine': 4592, 'calls': 1271, 'design': 1274, 'trapping': 4593, 'mess': 6448, 'actually': 6075, 'prime': 1275, 'cockroaches': 1276, 'touchdown': 1277, 'poker': 1278, 'spews': 1279, 'civic': 4595, 'texan': 4596, 'compliments': 1280, 'symphonies': 4597, 'gary': 6322, 'having': 1281, 'folk': 1282, 'recap': 1283, 'apology': 1284, 'want': 1285, 'hubub': 4600, 'grammy': 4630, 'sits': 4601, 'greatest': 1287, \"cat's\": 4602, 'visas': 1289, 'soul-crushing': 1290, 'figure': 4603, \"here's\": 4604, 'trees': 1291, 'wobbly': 4632, 'toledo': 1292, 'recipe': 3541, 'ruint': 4606, 'peace': 1294, 'unlike': 1295, 'pian-ee': 4607, 'tsking': 1297, 'outside': 4608, 'cranberry': 4109, 'backwards': 4609, 'ho': 1620, 'additional-seating-capacity': 4611, 'undated': 4612, 'pipes': 1298, 'mamma': 5656, 'walks': 3440, 'mags': 1299, 'huge': 4613, 'fighting': 1300, 'dictator': 4614, 'specializes': 1301, 'frosty': 1302, 'pretentious_rat_lover': 4637, 'month': 3546, 'nightmares': 4615, 'tonic': 4616, 'pep': 4617, 'tokens': 4618, 'extra': 4619, \"callin'\": 4620, 'ahhh': 4621, 'program': 1303, 'capuchin': 4622, 'steinbrenner': 1304, 'bite': 5772, 'mouse': 1305, 'flailing': 1306, 'nectar': 4623, 'devastated': 1308, 'hang': 4624, 'squeal': 4626, 'miracle': 4627, 'fifth': 4628, 'until': 1309, 'dispenser': 4629, 'noose': 4631, 'offended': 1310, 'crayola': 4633, 'eminence': 1311, 'oooh': 5204, 'zero': 1312, 'beauty': 4635, 'chanting': 1313, 'steak': 4636, 'albeit': 4639, 'fl': 4638, 'rabbits': 1315, 'exultant': 1316, 'billiard': 3723, 'worry': 3549, 'whoopi': 2958, 'defensive': 1317, 'alternative': 1318, 'comforting': 4641, 'cars': 1319, 'jacques': 1320, 'whale': 1321, 'divine': 4642, 'yawns': 1322, 'ease': 4400, 'burnside': 1323, 'which': 4644, 'convenient': 1272, 'damned': 4645, 'frankenstein': 4646, '/mr': 4648, 'camp': 4649, 'tempting': 1325, \"drexel's\": 1326, 'buyer': 4650, 'backgammon': 4651, \"liberty's\": 1328, 'two': 4652, 'mobile': 4653, \"playin'\": 4654, 'enhance': 1329, 'bless': 4655, \"readin'\": 1330, 'gentleman': 1331, 'van': 4656, 'continued': 1332, 'squishee': 5081, 'days': 1333, 'lager': 1334, 'wins': 4658, 'disappointed': 1335, 'beady': 1337, 'multiple': 4659, 'tease': 1338, 'fortensky': 1339, 'funds': 1340, 'anybody': 749, \"tv'll\": 499, \"england's\": 1341, 'radiator': 4660, 'pockets': 6679, 'draw': 4661, 'losing': 1342, 'booze-bags': 4662, 'optimistic': 4696, 'recorded': 4663, 'ralph_wiggum': 1343, 'instead': 4664, 'giggle': 1344, 'department': 4665, 'nurse': 1345, \"patrick's\": 4666, 'fast-food': 1346, 'table': 1879, 'kent': 1347, 'clown': 2962, 'moonnnnnnnn': 4668, 'immiggants': 1349, 'aiden': 1351, 'emotion': 4119, 'thoughtfully': 1353, 'won': 4669, \"bringin'\": 4670, 'the_rich_texan': 1354, 'plans': 4673, 'harmony': 4672, 'suicide': 751, 'examples': 4674, 'iddilies': 1356, 'pretend': 1357, 'stinky': 4675, 'take': 1358, 'bitterly': 1359, 'gordon': 1360, \"mcstagger's\": 1361, 'surgery': 1362, 'grain': 1363, 'kick': 4676, 'drapes': 1881, 'hyahh': 1364, 'pancakes': 5778, 'extreme': 4643, 'transfer': 1365, 'skydiving': 4677, 'gunk': 1366, 'lie': 4678, 'closed': 4679, 'ingested': 1367, 'sleeping': 1368, 'mostrar': 4680, 'scum': 1369, 'pudgy': 1370, 'relieved': 4681, 'rusty': 4682, 'watch': 4683, 'hootie': 4685, 'blob': 1324, 'icelandic': 4686, 'art': 4687, 'throws': 4123, 'discriminate': 4688, 'stares': 4689, 'military': 1376, \"wife's\": 1377, 'concerned': 1379, 'extinguishers': 4693, 'labor': 4694, 'fury': 1381, 'hear': 4695, 'grease': 1383, 'predictable': 4697, \"springfield's\": 1384, 'du': 2068, \"show's\": 4647, 'other': 1386, 'brunch': 4698, 'charity': 1387, 'missed': 1388, 'blow': 1389, 'cigarettes': 1391, 'caused': 3274, \"summer's\": 4699, 'message': 1392, 'yell': 1372, 'assumed': 3560, 'life-threatening': 1393, 'glyco-load': 4700, 'drummer': 4702, 'system': 1394, 'limited': 1397, 'combines': 4703, 'bourbon': 4704, 'limber': 4705, 'sincerely': 1398, 'super-tough': 4706, 'from': 4707, 'stools': 4708, 'old-time': 6284, 'massage': 4709, 'barney-shaped_form': 5782, 'fills': 4710, 'foundation': 4711, 'cartoons': 3561, 'plane': 1400, 'fulla': 1401, 'drinker': 1889, 'edelbrock': 4712, 'lucky': 1402, 'comment': 4713, 'cage': 4716, 'shoulder': 4090, 'cappuccino': 5217, 'painless': 6508, 'blimp': 4717, 'billingsley': 1403, 'gut': 4718, \"mo'\": 1405, 'insulted': 1408, 'arrested': 4719, 'selma': 2971, 'thought_bubble_lenny': 4721, 'sniffing': 2422, 'sympathetic': 4722, 'european': 1409, 'frink-y': 5220, 'talking': 4723, 'memories': 1411, 'straight': 4724, 'dollars': 1412, 'lovely': 4725, \"treatin'\": 1413, 'comedy': 1414, 'tanking': 6201, 'end': 4128, 'else': 2424, 'fireball': 1415, 'joke': 1416, 'understood': 1417, 'telemarketing': 1418, 'loves': 1419, 'fountain': 1420, 'attractive': 1421, 'sure': 4726, 'jumping': 5446, 'attractive_woman_#2': 1422, 'unintelligent': 1423, 'gently': 1424, 'fresco': 6640, 'hollye': 4728, 'rich': 1425, 'nature': 4220, 'logos': 4729, 'bury': 1426, 'choose': 4730, 'exactly': 1428, 'accusing': 4733, 'belches': 4732, 'designer': 4734, 'nine': 1429, 'crack': 1430, 'rather': 4735, 'na': 4736, 'stern': 769, 'doreen': 4737, 'scrape': 1432, 'making': 1433, '_zander': 6147, 'ring': 1434, 'cable': 4738, 'yak': 1436, 'distaste': 4739, 'paparazzo': 4740, \"brockman's\": 1437, 'tomatoes': 1896, 'closet': 4741, 'cent': 4742, 'wad': 4743, 'rented': 1439, 'lanes': 1440, 'intervention': 5790, 'using': 1441, 'asleep': 4744, 'love-matic': 1443, 'harvard': 1444, 'also': 4745, \"president's\": 1446, 'informant': 1447, 'mean': 4746, \"usin'\": 4748, '&': 5976, 'deep': 2405, 'moolah-stealing': 4749, 'los': 4750, 'tape': 6349, 'sexton': 4751, 'morose': 4752, 'literary': 1448, 'six': 4753, 'f': 4754, 'sucker': 1449, 'young': 1450, 'fork': 4561, 'duff': 4755, 'time': 4756, 'wishing': 4809, 'seeing': 4757, 'wrestle': 4758, 'sometime': 4759, 'pusillanimous': 1451, 'sincere': 4634, 'tired': 1452, 'reason': 1453, \"wino's\": 5397, 'government': 1454, 'yo': 1456, 'dracula': 4760, 'eggshell': 4761, 'house': 4762, 'onassis': 1457, 'helllp': 4763, 'appointment': 4133, '1979': 4765, 'lone': 1458, 'broncos': 1459, 'poplar': 1460, 'xanders': 1461, 'for': 4766, 'k-zug': 4767, 'krusty': 4768, 'rummy': 1092, 'housing': 1464, 'confident': 1465, 'puff': 5921, 'willing': 1466, 'slot': 4769, 'moe-heads': 4770, 'permanent': 1468, 'kicked': 1469, 'crowded': 1470, 'pained': 1471, '||comma||': 4771, 'yellow-belly': 1472, 'plus': 1473, 'inches': 4772, 'shells': 4773, 'ping-pong': 1474, 'bald': 4774, 'pickle': 4775, 'philosophical': 1475, 'musical': 4776, 'warily': 1477, 'runt': 4778, 'whatchamacallit': 5914, 'lotta': 1478, 'piling': 1479, 'sternly': 2937, 'beards': 4779, 'wishes': 1480, 'belly': 5225, 'are': 4780, 'rush': 1483, 'fainted': 4782, \"son's\": 4783, 'better': 1485, 'vegas': 4489, 'average': 778, 'huh': 1487, 'nelson_muntz': 4784, 'appear': 4785, 'warranty': 1489, 'underbridge': 3569, 'africanized': 4164, 'tom': 4786, 'hunter': 1490, 'fantastic': 4788, 'kl5-4796': 1491, 'dreams': 4465, 'law-abiding': 4136, 'flourish': 1492, 'shill': 5031, 'railroads': 4789, 'hurt': 2437, 'someplace': 4790, 'cute': 5796, 'dumb': 4791, 'charter': 4793, 'apulina': 1493, 'koji': 1494, 'refinanced': 1495, 'tips': 1496, 'hundred': 4794, 'snotty': 1498, 'woo-hoo': 4795, 'plant': 4796, 'admirer': 5227, 'considering': 784, 'sistine': 1500, 'horrible': 4798, 'stay-puft': 4799, 'karaoke': 1916, 'rolls': 1502, 'michael_stipe': 2444, 'wild': 4667, \"neat's-foot\": 4801, 'alls': 4802, 'sentimonies': 1503, 'soir': 4803, 'disguise': 4804, 'ziff': 4805, 'daddy': 4806, 'wayne': 4808, \"she's\": 4810, 'pizza': 1507, 'clubs': 4812, 'cheerier': 4813, 'mulder': 1508, 'aged': 1509, 'she-pu': 1806, 'dogs': 5229, 'donut-shaped': 4814, 'planet': 1510, 'engine': 4816, 'thomas': 4817, 'effervescence': 1513, 'hockey-fight': 1350, 'stupidest': 4819, 'paid': 2447, 'fink': 64, 'sighs': 4820, 'alec_baldwin': 788, 'signal': 1516, 'mudflap': 1517, 'treats': 1352, 'hustle': 4821, 'priest': 5258, 'clone': 4822, 'sign': 4823, 'husband': 1519, \"hawkin'\": 4824, 'listens': 1520, 'nonsense': 1522, 'politics': 1523, 'headhunters': 1524, 'paying': 4825, 'lis': 4826, 'mice': 1525, 'stickers': 5231, 'inspection': 3627, 'fontaine': 4827, 'worst': 4828, 'fiiiiile': 4829, 'decency': 4830, 'money': 1528, 'deacon': 4831, 'jelly': 6610, 'kermit': 1529, 'scream': 2450, 'feelings': 4832, 'ails': 1531, 'cloudy': 1532, 'ye': 3665, 'lenny_leonard': 5802, 'hotenhoffer': 1533, 'pushes': 4833, 'starving': 4834, 'center': 1534, 'pig': 1536, 'jeter': 4835, 'bedtime': 1537, 'infestation': 4837, 'actor': 1538, '3': 1539, 'leans': 6363, 'being': 4838, 'punishment': 4839, 'crowd': 4840, 'caper': 1542, 'smoker': 4841, 'myself': 4842, 'tv_daughter': 1543, 'goodwill': 4671, 'caught': 4843, 'fletcherism': 252, 'step': 4844, 'si-lent': 1053, 'corkscrew': 4846, 'odor': 6532, 'paint': 4847, 'kako': 4848, 'lovers': 4849, \"narratin'\": 4850, 'sneak': 4851, \"life's\": 1545, 'buzz': 4853, 'employees': 1546, \"y'money's\": 1547, 'stepped': 1548, 'pal': 4854, 'thank': 1550, 'cricket': 1551, 'eye': 4855, 'dashes': 4856, 'much': 1552, 'push': 5037, 'eighty-five': 4857, 'teenage_bart': 4858, 'disappear': 882, 'jail': 6125, 'radioactive': 4859, 'various': 4860, 'lovejoy': 4861, 'halvsies': 5803, 'blue': 4862, 'seminar': 6371, 'bugs': 1825, 'getting': 1554, 'local': 1555, 'frankie': 1556, 'landfill': 4863, 'spit': 1921, 'carny': 4864, 'strokkur': 1559, 'telegraph': 1560, 'dancing': 4865, 'presently': 6374, \"don'tcha\": 1561, 'bridges': 4866, 'prohibit': 1562, 'radio': 3462, 'admiring': 4868, 'lifts': 4869, 'oak': 1240, 'urban': 3582, 'pulls': 1563, 'hiring': 4870, 'hiding': 4871, 'hero-phobia': 4872, 'permitting': 1564, 'bird': 4873, 'lowest': 1923, 'milhouses': 1565, 'needed': 6375, 'serum': 4874, 'scornful': 4875, 'otherwise': 1566, 'ought': 4877, 'polenta': 4878, \"aren'tcha\": 1569, 'restless': 4880, 'wants': 4881, 'dramatic': 4883, 'guess': 4882, 'chuckling': 3740, 'silence': 4884, 'cecil_terwilliger': 5240, 'ordered': 4886, 'thinking': 1570, 'city': 6378, 'easy': 4887, 'whose': 4888, 'bannister': 1572, 'churchy': 1573, 'cents': 4889, 'unusual': 4890, 'private': 1574, 'shareholder': 6456, 'luckily': 4891, 'television': 4893, 'dennis_conroy': 4150, 'refund': 1576, 'other_player': 5810, 'named': 4151, \"floatin'\": 4895, 'cross-country': 4896, 'nash': 1579, 'say': 4897, 'jubilant': 4898, 'dumbass': 1580, 'prep': 934, \"department's\": 4902, 'sound': 4901, 'kiss': 4903, 'dutch': 1582, 'sent': 1583, 'civilization': 5813, 'strain': 1584, 'walther': 1585, 'savings': 4599, 'contented': 4904, 'romantic': 4905, 'napkins': 1588, 'almond': 1589, 'gotcha': 4906, 'support': 6495, 'blossoming': 4907, 'health_inspector': 1590, 'hat': 4908, 'till': 1591, 'derek': 1592, 'reluctant': 4845, 'invite': 264, 'learned': 1593, 'opening': 4911, 'lookalike': 4910, 'dean': 4894, \"they'd\": 1594, 'clapping': 4912, 'fixed': 4913, 'chum': 1596, 'ideal': 4915, 'activity': 4916, 'spy': 1598, 'monroe': 4917, 'pure': 4918, 'depository': 4919, 'corner': 1600, 'huddle': 2469, 'figures': 4920, 'sir': 1603, 'bathed': 4921, \"aristotle's\": 1605, 'mahatma': 6685, 'whoa-ho': 5079, 'heals': 4922, 'even': 1607, 'head-gunk': 4923, 'ayyy': 5935, 'away': 1609, 'hopeful': 5115, 'blubberino': 4924, \"neighbor's\": 4925, 'knock': 3214, 'replace': 4926, 'carl_carlson': 1611, 'gives': 1612, 'eyes': 4929, 'tip': 4928, 'strawberry': 4930, 'yards': 4931, 'duh': 4932, 'chew': 1616, 'poisoning': 1617, '_timothy_lovejoy': 4933, 'index': 4934, 'blessing': 4935, '91': 1619, 'irs': 4936, 'boat': 4937, 'south': 4938, 'turn': 5247, 'honest': 1621, 'brassiest': 4940, 'bleeding': 4941, 'guy': 4942, \"betsy'll\": 1371, 'sensible': 4943, 'crinkly': 4944, 'shipment': 1625, 'grow': 1626, 'perón': 4156, 'comfortable': 4946, 'counting': 4947, 'kisses': 1628, 'different': 3218, 'pity': 4948, 'words': 1629, 'army': 4157, 'sweater': 4949, 'too': 1630, 'ow': 1631, 'halfway': 4950, 'handler': 1632, 'fica': 1633, 'typing': 1634, 'savvy': 4951, 'honor': 4952, 'behavior': 4953, 'street': 4954, 'known': 4958, 'young_moe': 4956, 'am': 4957, 'tropical': 1373, 'best': 1636, 'solved': 4959, 'shrieks': 4960, 'resist': 3600, 'dealer': 6539, 'ref': 6383, 'youse': 1637, 'irish': 4961, 'wenceslas': 4962, 'hail': 4963, 'exited': 803, 'safecracker': 3009, 'supplying': 4964, 'rupert_murdoch': 4965, 'edna-lover-one-seventy-two': 4966, 'hand': 4967, 'gees': 5818, 'seek': 1639, 'papa': 3170, 'spend': 1640, \"fightin'\": 1641, 'diets': 4968, \"school's\": 4969, 'dreary': 4970, 'fat_tony': 1644, \"puttin'\": 4690, 'held': 4971, 'wistful': 1646, 'shock': 4972, 'frog': 1647, 'items': 4973, 'mad': 1648, 'driving': 1650, 'lucinda': 5254, 'in-in-in': 4974, 'juice': 4975, 'amiable': 4976, 'hangout': 1653, 'join': 1654, 'word': 4977, 'real': 4978, 'danish': 4979, 'boozer': 781, 'elephants': 4981, 'disgrace': 4982, 'enjoys': 1655, 'greystash': 3746, 'walked': 1656, 'traditions': 1657, \"where'd\": 1658, 'weirder': 4162, \"meanin'\": 1659, 'agents': 4983, 'answers': 1661, 'kinderhook': 1662, 'daaaaad': 4986, 'dive': 1663, 'aggie': 1664, 'sobriety': 4987, 'trucks': 1665, \"queen's\": 1666, 'anymore': 6331, \"who'da\": 4989, 'eightball': 1667, 'team': 1668, 'novelty': 5907, 'warned': 1669, 'boys': 4992, 'uh': 4993, 'joking': 1670, 'sucking': 1671, 'locklear': 1672, 'network': 4994, 'sea': 4995, 'reads': 4996, 'flush-town': 4997, 'panicky': 1673, 'goodnight': 4692, 'thought': 4998, 'mini-beret': 5000, \"time's\": 5001, 'fall': 1674, 'gargoyle': 1675, 'stick': 5002, 'shack': 5003, 'try': 5004, \"soakin's\": 1676, 'bonfire': 1939, 'clinton': 5006, 'puke': 6389, 'jimmy': 1677, 'motor': 1678, 'vincent': 5007, 'terrorizing': 5008, 'gear-head': 1679, 'hitler': 6422, 'barney-type': 1680, 'dump': 1681, 'grin': 5823, 'wooden': 1682, 'young_marge': 1380, 'owner': 1683, 'asking': 5011, 'glass': 1685, 'lost': 1686, 'gag': 5013, 'shortcomings': 5014, \"fendin'\": 1687, 'stand': 1688, 'order': 5015, 'scene': 1689, 'trustworthy': 1690, 'e-z': 5017, 'lied': 5018, \"she'd\": 5019, 'frankly': 1691, 'cigars': 5020, '_powers': 1692, 'gin': 1693, 'stalwart': 5021, 'unattractive': 1694, 'floating': 1695, 'ladder': 3606, 'habitrail': 5023, 'scam': 4165, 'zinged': 5024, 'tolerable': 1698, 'root': 5025, 'stacey': 1699, 'answered': 5027, 'crappy': 1700, 'cruise': 5028, 'robin': 1701, 'bully': 1702, 'beat': 5030, 'sugar-free': 1385, 'takes': 1703, 'north': 1704, 'themselves': 5032, 'angrily': 1705, 'red': 1706, 'delightful': 1707, 'average-looking': 5033, '_eugene_blatz': 5034, 'yea': 5035, 'bills': 1708, 'applicant': 6029, \"burnin'\": 1710, 'watered': 1711, 'sacrilicious': 4555, 'heatherton': 1714, 'polygon': 5038, 'eurotrash': 2488, 'lard': 2373, 'catty': 1390, 'advice': 5039, 'insurance': 5040, 'crowds': 1715, 'swell': 5041, 'acronyms': 1716, 'entrance': 5043, 'seas': 5044, 'walk': 5045, 'wondered': 5046, 'hanh': 1717, \"wallet's\": 1718, 'pickles': 2102, 'barflies': 597, 'creme': 1719, 'die-hard': 1720, 'whoops': 1722, 'conversion': 1725, 'wok': 1724, 'highway': 1726, 'urine': 1727, 'flustered': 5050, \"talkin'\": 5051, 'pleased': 1728, 'lighten': 5052, 'beings': 1729, \"g'night\": 5053, 'knocked': 5054, 'hottest': 1730, \"sittin'\": 1731, 'enemies': 6396, 'winston': 1732, 'ooo': 5055, 'ass': 283, 'leftover': 1733, 'jukebox': 1734, 'musketeers': 5056, 'minimum': 1735, 'braun': 5059, 'scatter': 5060, 'bartholomé': 5061, 'scrutinizing': 5062, 'west': 1736, 'connor-politan': 1738, 'intakes': 5829, 'shoe': 5063, 'hydrant': 4701, 'à': 5064, 'fellow': 1741, 'hammer': 5066, 'chocolate': 1742, 'deer': 5067, 'conversation': 5068, \"handwriting's\": 1743, 'nothing': 5069, 'whee': 5070, 'maxed': 1396, 'yuh-huh': 5071, 'add': 1745, 'attraction': 1746, 'ear': 5073, 'microphone': 5074, 'flash': 1747, 'barney-guarding': 5075, 'sunglasses': 1748, 'grenky': 6474, 'sports_announcer': 1749, 'palmerston': 1750, 'r': 1751, 'really': 5076, 'nfl_narrator': 5077, 'fledgling': 1752, 'meaningfully': 1753, 'gig': 5078, 'teeth': 5080, 'male_singers': 6401, 'bowl': 820, 'christian': 5833, 'ab': 6404, 'accurate': 1755, \"scammin'\": 1757, 'a-a-b-b-a': 1758, 'wiggle-frowns': 5082, 'neighborhood': 1759, 'proud': 1760, 'cheap': 5083, 'set': 5084, 'developed': 5085, 'hare-brained': 1762, 'tony': 6353, 'winnings': 5086, 'dinks': 2493, 'geysir': 5087, 'hurry': 1763, 'hoax': 1399, 'if': 1764, 'bedbugs': 5088, 'treasure': 5089, 'bones': 1765, 'miles': 5090, 'statues': 320, 'wife': 5091, 'mcbain': 5092, 'pocket': 5093, 'deny': 1952, 'lose': 1766, 'subscriptions': 5094, 'managed': 1768, 'enforced': 5095, 'coast': 2663, \"that'd\": 1769, 'goes': 1770, \"coaster's\": 1771, \"mopin'\": 1772, 'nick': 1773, 'stadium': 5099, 'crawl': 1774, 'b': 5100, 'prince': 1956, 'electronic': 6409, 'timbuk-tee': 1776, 'macho': 5276, 'marry': 5139, 'books': 5101, 'project': 1777, 'handling': 5103, 'powered': 1778, 'indifference': 1779, 'exchanged': 826, 'ride': 5104, 'virile': 1781, 'snout': 5834, 'door': 1782, 'toxins': 1783, 'should': 5105, 'lord': 1784, 'achebe': 5106, 'gentle': 5107, 'hates': 1785, 'tune': 4715, 'life-partner': 1786, 'drove': 1787, 'thorn': 1788, 'item': 5108, 'proudly': 1789, 'lonely': 1790, 'taxes': 1791, 'commanding': 1792, 'bolting': 5109, 'players': 5110, 'huggenkiss': 1793, 'paste': 1794, 'file': 5592, 'tv_husband': 5111, 'goldarnit': 5112, 'chug-a-lug': 5113, 'course': 1795, 'radishes': 1796, 'banned': 5114, 'cocoa': 1961, 'body': 1797, 'moments': 293, 'right': 5116, 'toms': 1798, 'presents': 5117, 'strap': 6415, 'manatee': 5118, 'product': 1799, 'nuclear': 1800, 'julep': 5119, 'cologne': 5120, 'pleading': 5121, 'a': 5122, 'befouled': 1801, 'marquee': 1963, 'manchego': 1802, 'falsetto': 1803, 'misconstrue': 1804, 'their': 5124, \"cont'd\": 1805, 'elizabeth': 1807, 'saved': 5127, \"cupid's\": 5129, 'examines': 1966, 'duel': 1808, 'press': 298, 'thinks': 1809, \"d'ya\": 1810, 'toss': 1811, 'overhearing': 1812, \"wait'll\": 1813, 'lily-pond': 1814, 'light': 5132, 'reaching': 1815, 'marched': 5134, 'mellow': 4182, 'bloodiest': 1817, 'cock': 5846, \"fun's\": 5135, 'latin': 5136, 'defeated': 5138, 'touched': 1407, 'merchants': 1819, 'rub-a-dub': 1820, 'focused': 1821, 'apartment': 892, 'pre-recorded': 1822, 'hotel': 5140, \"father's\": 1823, 'oww': 1824, 'glen': 5281, 'ma': 5141, 'hygienically': 1826, 'wikipedia': 5143, 'borrow': 1827, 'screw': 1828, 'threw': 5145, 'brown': 4183, \"writin'\": 3044, 'maggie': 1829, 'our': 4184, 'clench': 5147, 'meaningless': 6423, 'short_man': 1967, 'bowled': 5148, 'celebrities': 1831, 'apu': 5149, 'dana_scully': 6541, 'ducked': 1832, 'intention': 5153, 'toward': 5152, 'wantcha': 4720, 'pulitzer': 5154, 'wienerschnitzel': 1833, 'snow': 1834, \"crawlin'\": 5156, 'lookalikes': 1835, 'bloodball': 5157, 'polls': 5158, 'living': 5160, 'nein': 1836, 'on': 1837, 'clammy': 5161, \"you've\": 1839, 'other_book_club_member': 5162, 'cracked': 5163, 'pizzicato': 1840, 'ruled': 1841, 'thirteen': 1842, 'pull': 1843, 'big': 5166, 'doll-baby': 5848, 'week': 5167, 'attached': 5168, 'pepper': 1844, \"blowin'\": 5169, 'hope': 5170, 'bid': 2507, 'goodbye': 5171, 'gimmick': 1845, 'grumpy': 3836, 'mild': 6533, 'sending': 5172, 'flown': 1410, 'germans': 1846, 'hungry': 5173, 'tapered': 1847, 'minors': 1848, 'recreate': 5175, 'knit': 5176, 'forecast': 5177, 'selling': 838, 'flynt': 1849, 'y': 1851, 'lap': 5178, 'offshoot': 1852, 'truth': 1853, \"lookin'\": 5179, 'loved': 1854, 'bets': 5180, 'pub': 5181, 'roses': 5182, 'wrecking': 5183, 'drink': 1855, 'see': 1856, 'awesome': 5184, 'nineteen': 1857, 'advantage': 5185, 'lurleen_lumpkin': 5186, 'closer': 1858, 'gossipy': 1859, '1-800-555-hugs': 5188, 'jay': 1860, 'general': 1861, 'shoulders': 5190, 'perplexed': 5191, 'greedy': 1862, 'gel': 1863, 'senator': 5192, 'guilt': 1864, 'portentous': 5341, 'mister': 5193, 'cleaning': 1865, 'purse': 5194, 'four-star': 5850, 'information': 1866, 'getaway': 5195, 'predecessor': 5285, \"tv's\": 5196, 'smells': 1868, 'chorus': 5197, 'ram': 1869, \"gettin'\": 5198, 'power': 1870, 'saga': 5199, 'rugged': 1871, 'hears': 5201, 'eyeball': 1872, 'spellbinding': 1873, 'village': 5202, 'slice': 1874, \"spaghetti-o's\": 5852, 'blooded': 1875, 'rods': 1876, 'flips': 5205, 'keys': 5206, 'y-you': 5207, 'stein-stengel-': 1877, 'hoped': 1878, 'low-life': 1880, 're': 5208, 'searching': 5209, 'upsetting': 6430, 'affectations': 5210, 'refreshing': 5211, 'banquet': 6431, 'hot': 5212, 'kazoo': 1882, 'decent': 5213, 'transylvania': 1883, 'coach': 5214, 'jobs': 5288, 'wisconsin': 5215, 'skeptical': 6433, 'seymour': 1884, 'long': 1885, 'country': 1886, 'sleeps': 1887, 'calling': 5216, 'meeting': 1888, 'plotz': 1890, 'such': 1973, 'gin-slingers': 5218, 'covering': 5219, 'explaining': 1892, 'finishing': 1336, 'introduce': 5221, 'okay': 845, 'robbers': 1893, 'conspiratorial': 5222, 'beast': 5223, 'seen': 6435, 'picnic': 1894, 'frogs': 1895, 'build': 5224, 'killer': 1897, 'specialists': 6346, 'scientific': 1900, 'tenuous': 1899, 'code': 5292, 'liar': 2519, 'bubbles-in-my-nose-y': 1901, 'noise': 1902, 'inherent': 1903, 'two-thirds-empty': 1904, 'mailbox': 5226, 'patty': 1905, 'adequate': 1906, 'holding': 1977, 'laws': 5228, 'cab': 1907, 'exact': 1908, 'possessions': 5230, 'generously': 1909, 'squad': 1910, \"coffee'll\": 1911, 'wieners': 1912, \"shootin'\": 1913, 'swig': 1942, 'address': 5232, 'billion': 1914, 'pack': 5233, 'donor': 1917, 'inclination': 5234, 'gargoyles': 5862, 'easily': 1918, 'occurs': 1919, 'grrrreetings': 1920, 'barn': 5235, 'pfft': 5236, 'moan': 4193, 'graveyard': 1922, 'lowering': 5237, 'eggs': 5238, 'grey': 1924, 'runs': 1925, 'disaster': 1926, 'hunger': 1927, 'raise': 5241, 'poor': 311, 'righ': 5242, 'test': 1928, 'stats': 5243, 'recommend': 3058, 'united': 1288, 'sadder': 1929, 'e': 5244, 'polishing': 5245, 'dumb-asses': 1930, 'impressed': 6438, 'managing': 5246, 'notch': 1931, 'undermine': 1932, 'curiosity': 1933, \"s'okay\": 1374, 'edison': 5248, 'mindless': 1934, 'sketch': 1935, 'hi': 5863, 'forgets': 1937, 'physical': 3062, 'cheerleaders': 5249, 'misfire': 5250, 'east': 5871, 'close': 5251, 'magic': 5252, 'authenticity': 5253, 'mountain': 5255, 'cocking': 1938, \"children's\": 5256, 'who-o-oa': 5257, \"yesterday's\": 1940, 'attractive_woman_#1': 5259, 'crank': 1427, 'discuss': 1941, 'espn': 5260, 'guest': 3065, \"b-52's\": 1943, 'rascals': 4731, 'cat': 1944, 'dangerous': 1945, 'twenty': 1946, 'full': 5261, 'delicious': 5262, 'balls': 1947, 'thirty-three': 5265, 'producers': 1948, 'listen': 1949, 'choke': 5266, 'football_announcer': 5267, 'sports': 1950, 'as': 5268, \"how'd\": 6257, 'cushion': 5269, 'guiltily': 6445, 'smell': 5270, 'killing': 5271, 'camera': 5272, 'alarm': 1951, 'aid': 5274, 'kissing': 1953, 'challenge': 1954, 'supermodel': 1955, 'killarney': 1957, 'bullet-proof': 1958, 'shindig': 6446, \"it'd\": 5277, 'guessing': 1959, 'f-l-a-n-r-d-s': 1960, 'spare': 1962, 'malfeasance': 5278, 'winch': 1964, 'rules': 1965, 'neighbor': 5279, 'seriously': 3648, \"hadn't\": 5280, 'bags': 5282, 'england': 5870, 'lobster-based': 1968, 'ninety-eight': 3069, 'home': 6447, 'shutup': 5283, 'calculate': 318, 'destroyed': 5552, 'aged_moe': 2535, 'called': 5284, 'voyager': 1969, \"startin'\": 1970, 'manjula_nahasapeemapetilon': 5286, 'competing': 5873, 'glowers': 1971, 'moans': 1972, 'cavern': 5287, 'pink': 5289, 'sealed': 5290, 'bill': 5291, 'through': 1974, 'nbc': 1975, 'ambrose': 1976, 'went': 5293, 'imagine': 1978, '$42': 5294, 'crippling': 6451, 'brilliant': 5295, 'lecture': 5296, 'finish': 5297, 'stinks': 5298, 'and-and': 5299, 'payback': 6596, 'ironic': 5300, 'shakespeare': 1979, 'diminish': 5301, 'larson': 5302, 'thrust': 1980, 'selfish': 5303, 'eager': 1838, 'parked': 1981, 'writing': 1982, 'grunts': 1983, 'sweetie': 5304, 'nonchalantly': 1984, 'championship': 1985, 'rev': 6458, 'exquisite': 5305, 'specials': 5306, 'allowance': 4202, 'utility': 1986, 'hibbert': 5307, 'quimby': 5546, 'sharps': 1987, 'afraid': 3077, 'turkey': 5308, 'mm-hmm': 3078, 'pen': 1988, 'colossal': 5309, 'tornado': 5312, 'but': 5313, 'dignified': 321, 'tying': 1435, 'mine': 5314, 'spirit': 5310, 'whispers': 1989, 'nickel': 5315, 'up-bup-bup': 2536, 'tsk': 1990, 'youth': 1991, 'sprawl': 5316, 'amount': 5317, 'november': 1992, 'wishful': 1993, \"o'reilly\": 4203, 'earlier': 1994, 'consulting': 5318, 'liability': 1995, '35': 1996, 'brother-in-law': 1998, 'actors': 5319, 'roller': 1999, 'victory': 322, \"livin'\": 5322, 'shaker': 5323, 'dearest': 2001, 'dash': 2002, 'become': 5324, 'self-centered': 2003, 'bono': 2004, 'bottle': 5325, \"dyin'\": 2005, 'taught': 2006, 'captain': 2007, 'nail': 2009, 'stool': 5327, 'unexplained': 2010, 'bedridden': 5328, 'snackie': 5564, 'joe': 2011, 'muscle': 5329, 'sizes': 2012, 'crotch': 2013, 'shifty': 5543, 'lump': 5332, 'moustache': 5333, 'pernt': 2014, 'donuts': 6461, 'ball': 5334, 'stained-glass': 5335, 'doing': 2015, 'astrid': 5336, 'demand': 5337, 'son-of-a': 2017, 'sweetheart': 2018, \"money's\": 1438, 'scared': 2020, 'prolonged': 2021, 'churchill': 2022, 'champs': 5338, 'suru': 2023, 'turns': 5339, 'himself': 5340, 'five-fifteen': 2024, 'sips': 5342, \"i'll\": 5343, 'o': 5344, 'harder': 1442, 'begins': 2025, 'helps': 2026, 'ballot': 5345, 'publishers': 5346, 'swimmers': 2027, 'banquo': 2028, 'alive': 2029, 'faceful': 2030, 'mozzarella': 2031, 'trenchant': 2032, 'speed': 5347, 'klingon': 2033, 'extract': 2034, 'button-pusher': 5348, 'eternity': 5349, 'hunka': 2035, 'ineffective': 5350, 'generosity': 1445, \"depressin'\": 2036, 'andalay': 2037, 'quimby_#2': 2038, 'federal': 5351, 'grandkids': 2039, 'moonlight': 5352, 'k': 5353, 'girlfriend': 5354, 'agree': 6463, 'alpha-crow': 2041, 'youuu': 5355, \"don't\": 5356, 'attend': 3660, 'ugh': 2042, 'flack': 5357, 'restaurants': 2043, 'switched': 2044, 'act': 5359, 'lay': 2046, 'kidnaps': 5491, 'wham': 2047, 'grind': 1997, 'muttering': 2048, 'french': 2049, 'appearance-altering': 5360, 'malabar': 2050, 'leaving': 5361, 'dog': 6249, 'crony': 2051, 'sanitation': 5362, 'insured': 4714, 'wall': 6297, \"thinkin'\": 2052, 'orifice': 2053, 'bits': 3793, 'wish': 2054, 'saucy': 2056, 'urinal': 5365, 'gum': 2057, 'fwooof': 5366, 'little_man': 5367, 'life-sized': 2058, 'bees': 5369, 'brought': 871, 'awe': 5370, 'fit': 3664, 'soon': 5371, 'gulps': 5372, \"robbin'\": 6365, \"we've\": 5373, 'vermont': 5374, 'blown': 5375, 'gary_chalmers': 2059, 'raining': 2060, 'sidelines': 2061, 'abandon': 2062, 'sober': 2063, 'founded': 6464, 'eddie': 5321, \"aren't\": 5377, 'jebediah': 5378, 'desperately': 5380, 'sigh': 5381, 'duffed': 2064, 'chastity': 5382, 'unusually': 3668, 'promised': 2065, 'thirty-nine': 2066, \"man's_voice\": 5384, 'maude': 2067, 'inanely': 5385, 'pontiff': 5386, 'germany': 2000, 'drift': 5387, 'duffman': 5388, 'ken': 5389, 'ling': 5390, 'troy_mcclure': 2070, 'sen': 2071, 'princesses': 904, \"edna's\": 2072, 'bartending': 2073, 'lately': 6494, 'cauliflower': 5391, 'night-crawlers': 5891, 'i': 5392, 'restroom': 5393, 'murdoch': 873, 'atlanta': 5394, 'fringe': 5395, 'intelligent': 5396, 'diablo': 2075, \"man's\": 5187, 'planned': 2076, 'crushed': 5521, 'i-i': 3097, 'saint': 2077, 'punching': 2078, 'perverted': 5398, 'calm': 5399, 'pointedly': 2079, 'brooklyn': 5400, 'question': 5401, 'president': 2080, 'leave': 2081, 'militia': 5402, 'crossed': 2083, 'figured': 5403, 'moon-bounce': 5404, 'heaven': 5557, 'rain': 2084, 'fatso': 2085, 'ignorant': 3099, 'nascar': 2086, 'dad': 2087, 'goal': 2088, 'mock-up': 2089, \"o'clock\": 2090, \"ain't\": 2091, 'aghast': 2093, 'weird': 5406, 'meanwhile': 5407, 'verticality': 5408, 'chilly': 2094, 'shush': 5409, 'chateau': 2095, 'stir': 2096, 'wagering': 5895, 'sleigh-horses': 2097, 'groan': 5410, 'created': 5411, 'random': 5412, 'funniest': 2098, \"he'll\": 2099, 'put': 2547, 'alva': 2100, 'vanities': 2101, 'rug': 5413, \"hobo's\": 2549, 'dea-d-d-dead': 782, 'reconsidering': 2103, 'i-i-i': 6189, 'waterfront': 2104, 'what': 5414, 'reliable': 1109, \"something's\": 5326, 'flophouse': 2105, 'bret': 2106, 'boggs': 2107, 'mushy': 1455, 'ali': 5418, 'tablecloth': 2008, 'kidney': 3625, 'eww': 2108, 'crooks': 4598, 'tinkle': 6529, 'points': 5419, 'brain': 2109, 'filth': 5421, 'schemes': 5422, 'samples': 5423, 'freed': 2110, 'artie_ziff': 5424, 'platinum': 754, 'yew': 2111, 'truck_driver': 6477, 'baseball': 2112, 'famous': 2553, 'complaint': 2113, 'talk': 2114, 'manager': 2115, 'sister-in-law': 2116, 'choked': 2117, 'exhale': 5425, 'asked': 5426, 'beers': 3105, 'score': 5427, 'craphole': 5428, 'reporter': 5429, 'hemoglobin': 3106, 'at': 2119, 'drop': 2120, 'written': 5431, 'expired': 5432, 'hiya': 2121, 'amazed': 5433, 'bail': 4764, 'oh': 5434, 'needy': 2122, 'procedure': 2123, 'nagurski': 5435, 'buttons': 2124, 'subject': 5436, 'stop': 2125, 'gifts': 2126, 'yup': 334, 'consciousness': 2127, 'mike': 5438, 'cuddling': 5439, 'weeks': 5440, 'slight': 2128, 'naively': 2129, \"'ere\": 5903, 'true': 6478, \"ya'\": 5441, 'furry': 2563, 'devils': 5443, 'ing': 2130, 'industry': 5444, 'zack': 6388, 'sadistic_barfly': 2135, \"what'll\": 2136, 'starve': 2137, 'means': 2138, 'slim': 2139, 'oughtta': 5447, 'wasting': 5331, 'ahead': 5448, 'pleasant': 2564, 'rainier_wolfcastle': 2565, 'detecting': 2140, 'someone': 1462, 'washed': 2141, 'generally': 5450, 'cheat': 5452, 'andy': 5453, 'weep': 5454, 'avenue': 5455, 'dan': 2142, 'competitive': 5456, 'kills': 3036, 'pulling': 339, 'emotional': 5457, 'whatever': 2143, 't-shirt': 2144, 'field': 886, 'rainbows': 2145, 'uncomfortable': 2146, 'splendid': 3682, 'ironed': 5460, 'macaulay': 5795, 'kang': 5461, 'under': 2772, 'bring': 2147, 'scary': 5463, '||period||': 6337, 'phasing': 6480, 'dice': 2148, 'pilsner-pusher': 5464, 'nervous': 2570, 'liven': 2149, 'slipped': 2150, \"cleanin'\": 5465, 'honey': 889, 'just': 5466, '530': 5467, 'nap': 2151, \"elmo's\": 5468, 'contemptuous': 2152, 'gee': 5469, 'blame': 5470, 'sweden': 5471, 'whistles': 5472, 'motel': 5473, 'sticking-place': 2153, 'women': 2154, 'joining': 2016, 'cannoli': 2155, 'macgregor': 1467, 'refill': 2156, 'answer': 5474, 'cats': 6259, 'mines': 2157, 'reviews': 5475, 'seat': 4223, \"lady's\": 5477, 'did': 2158, 'slobbo': 5478, 'agreement': 5479, 'queer': 5480, 'betty': 5481, 'knows': 5482, 'reckless': 5483, 'hired': 2159, 'folks': 5484, 'updated': 5485, 'yells': 5486, 'dramatically': 5487, 'nursemaid': 2160, 'hate': 2161, 'chubby': 5489, 'low-blow': 2162, 'sissy': 5490, 'grace': 2163, 'woe': 5493, 'ho-ly': 3688, 'socratic': 4226, 'your': 5495, 'leg': 5496, 'forty': 5499, 'filthy': 2165, 'compete': 5501, '-ry': 2166, 'popped': 5916, 'wear': 5502, 'reopen': 5503, \"can't\": 5504, 'package': 2167, 'aerosmith': 2168, 'reflected': 6482, 'busy': 2169, 'allowed': 4227, 'noises': 2170, 'come': 5505, \"bart's\": 5506, 'years': 3119, 'whispered': 4229, 'indifferent': 2171, 'shorter': 5507, 'rem': 5508, 'starts': 2019, 'carpet': 5919, 'protestantism': 5509, 'nucular': 3691, \"squeezin'\": 2172, 'therapist': 5511, 'awwww': 2173, 'coward': 2174, 'half-day': 2175, 'snap': 2176, 'kemi': 6484, 'worldly': 3695, 'fresh': 4232, 'reward': 2177, 'skinheads': 2178, 'cousin': 3698, 'jockey': 5513, 'snake-handler': 5514, 'dress': 2179, 'hemorrhage-amundo': 5516, 'doctor': 5517, 'couple': 5518, '||exclamation_mark||': 5519, 'hillary': 2180, 'wide': 2181, 'options': 5923, 'orders': 5523, 'granted': 5524, 'western': 2182, 'mom': 2867, 'train': 5525, 'looooooooooooooooooong': 2183, 'nelson': 5526, 'kadlubowski': 5527, 'dryer': 5528, 'late': 2184, 'unsourced': 2186, \"tatum'll\": 2187, 'well': 5530, 'jesus': 2188, 'looks': 6684, 'poet': 2189, 'shutting': 5533, 'repeating': 5534, 'brag': 898, 'acting': 5535, 'you': 5536, 'above': 2190, 'looking': 5537, 'breaks': 2191, 'finished': 2192, 'bash': 5539, 'sass': 5540, 'butterball': 2194, 'tomahto': 2196, 'bartender': 5541, 'sneaky': 2197, 'eye-gouger': 2198, 'snotball': 2199, 'jeers': 6489, 'kinds': 2200, 'homeland': 5544, 'massive': 2201, \"wasn't\": 5146, 'hillbillies': 2202, 'arm': 2203, 'third': 5547, 'elmer': 5548, 'endorse': 5549, 'prank': 5550, 'stamp': 5551, 'adventure': 5553, 'gotta': 5554, 'class': 5555, 'remain': 6490, 'gardens': 5556, 'eh': 2204, 'murderously': 5562, 'whatchacallit': 2206, 'good': 2207, 'milks': 906, 'teacher': 5560, 'lead': 2208, 'grudgingly': 5931, 'h': 5561, 'carl': 2209, 'dallas': 2210, 'grim': 5563, 'hook': 907, 'unfair': 2211, 'oddest': 2212, 'intruding': 2213, 'literature': 2040, 'scooter': 908, 'blood': 5566, 'pats': 2214, 'statesmanlike': 5567, 'disgusted': 2215, 'night': 2216, 'p': 5569, 'loaded': 2217, 'paramedic': 2218, 'unbelievably': 2219, '1895': 5570, 'fausto': 5571, 'chief': 5572, 'sangre': 5573, 'polite': 2220, 'self-esteem': 1482, 'cash': 5574, 'helping': 3703, 'manuel': 5575, 'improv': 5576, 'resolution': 5577, 'app': 2221, 'six-barrel': 5580, \"i'd\": 2222, 'lemme': 2223, 'pardon': 2224, 'heaving': 5581, 'chance': 5582, 'giggles': 5583, 'insults': 2225, '7g': 4283, 'lazy': 5584, 'run': 1486, 'cheers': 5586, 'answering': 5587, 'embarrassed': 5588, 'placing': 2226, 'heck': 2227, 'grampa': 2228, 'cell': 5589, 'mall': 2229, 'available': 5591, 'startled': 2230, 'cheer': 5593, 'halloween': 5595, 'ale': 6003, 'edgy': 2231, 'unable': 3705, 'sympathy': 2232, 'chips': 2233, 'people': 5597, 'rolled': 5311, 'taste': 2235, 'respect': 3816, 'phony': 5598, 'wrestling': 5599, \"cheerin'\": 2236, 'barter': 2237, 'suck': 5600, 'buzziness': 5601, 'eva': 5707, 'grunt': 2238, \"clancy's\": 2239, 'cure': 5603, 'naval': 2240, 'swelling': 2241, 'hilton': 1488, '14': 5605, 'summer': 5606, 'kissed': 2242, 'bread': 5607, 'spender': 5608, 'barkeep': 2243, 'presided': 5610, 'lingus': 6146, 'childless': 5611, 'director': 5612, 'wipe': 2244, 'cheered': 2245, 'expecting': 5613, 'compare': 2246, 'indigenous': 5615, 'made': 2247, 'quitcher': 2248, 'idealistic': 5617, 'suddenly': 2249, 'flash-fry': 5618, 'champ': 2251, 'surprise': 5619, 'of': 5621, 'remorseful': 5623, 'playful': 5624, 'mexican_duffman': 5029, 'health': 5625, 'nooo': 5626, 'praise': 5627, \"fallin'\": 6083, 'beefs': 4787, 'ate': 2252, 'led': 3944, 'hits': 2253, 'falling': 5629, 'arabs': 5630, 'cuckoo': 6264, 'pipe': 2254, 'bam': 2255, 'colorado': 2256, 'fondly': 5631, 'triple-sec': 5632, 'white_rabbit': 5633, \"lefty's\": 5634, 'hidden': 5635, 'buds': 5636, \"spyin'\": 2257, 'celeste': 2258, \"phone's\": 5638, 'jewish': 5639, 'directions': 2259, 'lady': 6503, 'sacrifice': 2260, 'perking': 6661, \"secret's\": 5545, 'premise': 6504, 'indicates': 5645, 'fight': 2261, 'next': 2262, 'rid': 5646, 'beans': 5647, 'remaining': 2264, 'hunky': 2267, 'tabs': 2266, 'difficult': 1540, 'musta': 5648, 'watashi': 5649, 'grienke': 2268, 'please/': 2269, '50%': 5650, 'smuggled': 5651, 'ceremony': 2270, 'cow': 412, 'chow': 5652, 'mystery': 2271, 'gentles': 2272, 'wolverines': 2600, 'sugar': 5653, 'kneeling': 4792, 'champignons': 6129, 'driveability': 2273, 'refiero': 5942, 'birthday': 5655, 'tummies': 4252, 'congratulations': 2468, 'crow': 2274, 'reluctantly': 5657, 'dennis_kucinich': 5658, 'pronto': 5946, 'nonchalant': 5660, \"daughter's\": 2275, 'sampler': 2276, 'kegs': 5661, 'beautiful': 5662, 'look': 5663, 'investment': 5664, 'ohh': 3713, 'hurting': 6632, 'superpower': 2277, 'find': 2278, 'absolut': 5666, 'unforgettable': 5667, 'brandy': 2279, 'heather': 5668, 'nevada': 2280, 'tv_announcer': 2281, 'mmmm': 5669, 'investigating': 5670, 'haircuts': 5671, 'spouses': 5672, 'digging': 5673, 'idea': 2282, 'mickey': 5674, 'thnord': 4254, 'charge': 5676, 'wheels': 2283, 'lenses': 5677, 'methinks': 5678, 'use': 840, 'everybody': 1915, 'wasted': 5022, 'nominated': 2284, 'older': 5680, 'handing': 2285, 'jack': 5683, 'idiots': 2286, 'regulations': 2287, 'gesture': 5358, 'dazed': 1497, 'furniture': 2288, 'vengeful': 5686, '||left_parentheses||': 2289, 'highball': 2290, 'rotch': 6510, 'scrutinizes': 5688, 'mix': 1595, 'badly': 5689, 'mayor': 2291, 'every': 2292, 'cans': 791, 'ointment': 3714, 'mustard': 5690, 'flatly': 5691, 'chip': 5692, 'hard': 2294, 'housewife': 5948, 'suspicious': 2295, 'shades': 6512, 'oh-so-sophisticated': 2296, 'exhaust': 2297, 'wakede': 6582, 'combination': 1499, 'augustus': 2299, 'pays': 2300, 'card': 6513, 'rumor': 2301, 'nitwit': 2045, 'disappointment': 5694, 'easygoing': 2302, 'all-all-all': 2303, 'knuckles': 5695, 'belts': 2304, 'wage': 2305, 'cecil': 2306, 'girl': 5696, 'later': 2307, 'fox': 2308, 'nobody': 2309, 'forever': 2311, 'alfred': 2313, 'de': 5697, 'enter': 5698, 'nasty': 1501, 'mrs': 2314, 'ding-a-ding-ding-a-ding-ding': 2316, 'courts': 6055, 'clincher': 5699, 'drinks': 2317, 'tyson/secretariat': 5700, 'cockroach': 2318, 'arts': 5701, 'iran': 6491, 'bitter': 2319, 'treehouse': 2320, 'higher': 2605, \"how're\": 2321, 'waist': 5702, 'fire': 921, 'wallet': 5703, 'renee': 5704, \"jimbo's_dad\": 5705, 'curious': 5706, 'dollface': 2323, 'professor_jonathan_frink': 2324, 'sagely': 2325, 'mither': 5709, \"mecca's\": 2326, 'moe-near-now': 2327, 'photographer': 5711, 'pumping': 5712, 'movies': 2328, 'chunky': 2329, 'knowing': 5714, 'stooges': 5913, 'today': 2330, 'burg': 2331, 'happen': 5717, 'hmm': 5719, \"moe's\": 2332, 'p-k': 5720, 'appreciate': 5721, 'despite': 5953, 'butter': 2333, 'wolfe': 2335, 'burt': 5723, 'black': 2336, 'hers': 5724, 'happily': 2338, 'all': 6519, 'attention': 2339, 'promotion': 2340, 'spread': 1504, 'louder': 5725, 'investor': 2341, 'thrown': 2342, 'mortal': 2343, 'the_edge': 5727, 'deli': 2345, 'important': 2347, 'rebuilt': 5956, 'science': 2348, 'maybe': 2349, \"chewin'\": 2350, 'fail': 3012, 'minister': 5957, 'twerpy': 1505, 'brave': 2351, 'dae': 2352, 'boston': 5730, \"showin'\": 2353, 'pick': 5733, 'photo': 2354, 'cover': 2355, 'old_jewish_man': 2357, 'john': 2358, 'turlet': 2360, 'sheet': 2055, 'standards': 5735, 'betrayed': 2361, 'hippies': 3879, 'gets': 1476, 'aisle': 5737, 'owns': 4807, '3rd_voice': 5739, 'krabappel': 5960, \"wearin'\": 2362, 'bleak': 2363, 'airport': 5363, 'staying': 924, 'souped': 4811, 'met': 2364, 'suspenders': 2365, 'sheets': 5744, 'waylon_smithers': 5745, 'grandé': 5964, 'intense': 5746, 'bust': 5747, 'wangs': 2366, 'rest': 2367, 'hello': 2368, 'bottles': 2369, 'kirk_van_houten': 5748, 'plastered': 2371, 'depressed': 3965, 'darts': 5751, 'slugger': 6450, 'half-beer': 2372, 'soft': 5752, 'landlord': 5753, 'streetcorner': 6053, 'jury': 2374, 'tester': 3153, 'choking': 2375, 'mouths': 2376, 'doooown': 2377, 'parenting': 2378, 'shirt': 2379, 'motorcycle': 5755, 'drawn': 3676, 'bender': 2380, 'shakes': 2381, 'shall': 2382, 'my': 2383, \"others'\": 2384, 'drunkenly': 2385, 'taunting': 5756, 'artist': 2386, 'we': 5757, 'bothered': 5758, 'dirt': 5759, 'cheated': 5760, 'century': 5761, \"won't\": 2387, 'skinny': 5762, 'whistling': 2388, 'fire_inspector': 5764, 'speech': 2389, 'malibu': 5766, 'heartily': 2390, 'kennedy': 2391, 'cliff': 6523, 'makes': 5767, 'prices': 5768, 'infiltrate': 5769, 'mexicans': 4815, \"makin'\": 5968, 'comeback': 2392, 'laney_fontaine': 5770, 'fbi_agent': 2394, 'across': 2395, 'grade': 5771, 'traitor': 2396, 'super-nice': 2397, 'happened': 6524, 'about': 2398, 'least': 5773, 'exploiter': 2399, 'obama': 6525, 'stage': 2400, 'watched': 2401, 'blur': 2402, 'changes': 5969, 'newsweek': 5774, 'normals': 1511, 'offensive': 5775, 'twenty-nine': 2403, 'delays': 5776, 'girls': 2404, 'dessert': 2406, 'carney': 2407, 'when-i-get-a-hold-of-you': 5777, 'whoo': 2408, 'compressions': 2409, 'deal': 2410, 'scent': 2411, 'itchy': 2412, 'appropriate': 3724, 'murmur': 2413, 'ron_howard': 4818, 'cooler': 2414, 'effigy': 2415, 'novel': 2416, 'quotes': 1514, 'showing': 5779, 'clips': 5780, 'grimly': 2417, 'peach': 2418, 'scrubbing': 2419, 'loyal': 2420, \"who'll\": 5783, 'happiness': 2421, 'view': 2423, 'pair': 5784, 'homesick': 5785, 'winded': 2425, 'nobel': 2426, 'rap': 5786, \"tomorrow's\": 5787, 'you-need-man': 931, 'suspect': 5788, 'dames': 2427, 'ya': 5789, 'naegle': 5791, 'attitude': 2428, 'honeys': 2429, 'cleaner': 5792, 'anonymous': 2430, 'issuing': 5376, 'ginger': 2431, 'non-losers': 2432, 'ruuuule': 5794, 'ballclub': 2433, 'mission': 2434, 'email': 2435, 'tentative': 1327, 'ivanna': 2436, 'applesauce': 2439, 'advertise': 2438, 'fanciest': 2440, 'courteous': 2441, 'lighter': 2442, 'simon': 2445, 'grave': 5797, 'stores': 2446, 'grateful': 5798, 'kick-ass': 5799, \"i'unno\": 2448, 'brainheaded': 2449, 'annus': 2451, 'everyone': 5801, 'bulked': 6291, 'gumbel': 2452, 'glee': 2453, 'this': 2454, 'hoping': 2455, 'seemed': 2456, 'age': 2457, 'confidentially': 2458, 'break': 5804, 'schorr': 2459, 'clipped': 5805, 'badges': 5806, 'cozies': 4277, 'limericks': 2460, 'said': 3730, 'oooo': 2461, 'prettied': 6420, 'chuck': 5808, 'stagy': 5809, 'hide': 2462, 'those': 2463, 'poking': 2464, 'part': 2465, 'shocked': 1163, 'pages': 5811, 'awkwardly': 2466, 'characteristic': 5812, 'broken': 2467, 'brace': 2470, 'german': 5814, 'mind-numbing': 5815, 'saget': 5816, 'congoleum': 2471, 'sold': 5817, 'stretch': 391, 'pugilist': 2472, 'exit': 5379, 'snort': 5383, 'fat-free': 2473, 'woo': 3731, 'forget-me-shot': 2474, 'following': 4280, 'drive': 2475, 'strips': 5819, 'needs': 6332, 'suave': 2476, 'upset': 1521, '2nd_voice_on_transmitter': 2477, 'resigned': 2478, 'painting': 5820, 'toilet': 6367, 'psst': 2479, 'lincoln': 5821, 'indeed': 2480, 'overflowing': 2481, 'jerry': 5822, 'mm': 2482, 'mistake': 2483, 'flame': 2484, 'widow': 5824, \"homer'll\": 5825, 'spit-backs': 937, 'band': 5878, 'hosting': 2486, 'privacy': 5826, 'wolveriskey': 3882, 'brothers': 2487, 'strolled': 2489, 'mocking': 5827, 'interrupting': 2490, 'robot': 5616, 'throats': 5828, 'dumptruck': 2491, 'puzzled': 3732, 'smoothly': 2492, 'tremendous': 1101, 'continuum': 1093, 'although': 5830, 'test-lady': 5831, 'reciting': 2069, 'court': 5832, 'oblongata': 939, 'installed': 2494, 'device': 1526, 'food': 2495, 'rock': 2496, 'match': 2497, 'um': 5835, 'take-back': 5836, 'talk-sings': 2498, 'nah': 5837, 'mona_simpson': 5838, 'hurts': 2499, 'acquitted': 2500, 'dressed': 1527, 'customers-slash-only': 5839, 'tommy': 5840, 'simple': 5841, \"somethin'\": 5842, 'stories': 3734, 'beer-dorf': 2501, 'king': 2936, 'wobble': 2502, 'cocktail': 5844, 'freshened': 5845, 'rainforest': 2503, 'bow': 2504, 'finally': 2505, 'peeved': 4003, 'ashtray': 5847, 'he': 2506, 'crowbar': 2509, 'looting': 2508, 'ripped': 3736, 'legal': 2510, 'linda': 2511, 'hm': 5849, 'felony': 2512, 'dimly': 2513, 'ireland': 2514, \"rustlin'\": 5851, 'totalitarians': 2515, 'well-wisher': 2516, 'games': 6188, 'heavens': 2517, \"i'm-so-stupid\": 5853, 'ultimate': 5854, 'states': 5855, 'clear': 5856, 'somebody': 5857, 'male_inspector': 5858, 'thousand': 2518, 'howya': 3738, 'hans': 5859, 'stab': 5985, 'quarry': 2520, 'len-ny': 3739, 'delivery': 2521, 'regret': 2522, 'fourteen': 4289, 'skin': 1530, 'forbidden': 2523, 'fan': 2524, 'pin': 5860, 'mason': 2525, 'burt_reynolds': 5861, 'nicer': 2526, 'sniper': 2527, 'stopped': 5864, 'cosmetics': 5865, 'dislike': 5866, 'toasting': 4010, 'reasonable': 5867, 's': 2528, 'teen': 2529, 'tears': 5868, 'anniversary': 2530, 'elocution': 5869, 'chosen': 2531, 'calendars': 2532, \"c'mom\": 2533, 'decided': 2534, 'neil_gaiman': 3743, 'thirty': 4999, 'mitts': 5872, 'shape': 5874, 'rubbed': 5875, 'totally': 3744, 'cotton': 5876, 'countryman': 5877, 'conspiracy': 2074, 'flashbacks': 2537, 'yet': 2538, 'harm': 5879, 'favorite': 5880, 'heh-heh': 5881, 'jacksons': 1535, \"boy's\": 2539, 'aw': 5883, 'businessman_#2': 5884, 'bites': 2540, 'blissful': 5885, 'willy': 5886, '15': 2541, 'working': 6545, 'eaters': 5887, 'jeez': 2542, 'divorced': 2543, 'verdict': 5888, 'pissed': 5889, 'script': 2544, 'disgracefully': 2545, 'schedule': 2546, 'patron_#2': 859, 'sneering': 5893, 'bus': 5894, 'bragging': 5896, 'kahlua': 2548, 'lugs': 2550, 'fires': 6550, 'starlets': 2551, \"plank's\": 2552, 'patriotic': 5897, 'process': 2555, 'rats': 2554, 'squadron': 2556, 'whup': 5898, \"tootin'\": 2557, 'sobo': 6554, 'sugar-me-do': 2558, 'mural': 5899, 'tonight': 1541, \"duelin'\": 5900, 'kings': 2559, 'fair': 5901, 'cannot': 5902, 'hideous': 2560, 'simpson': 2561, 'housework': 2562, 'fridge': 5904, 'lend': 5905, 'touch': 2567, \"grandmother's\": 2566, 'rotten': 5906, 'truck': 2568, \"pullin'\": 2569, 'straighten': 2571, \"jackpot's\": 2572, 'experienced': 5910, 'sausage': 5911, 'so-ng': 1898, 'padres': 5915, 'wheeeee': 2573, 'cherry': 4836, 'jaegermeister': 2574, 'mommy': 2575, 'carve': 5917, 'nose': 5918, 'story': 5531, 'ga': 2576, 'a-lug': 2577, \"dad's\": 5922, 'police': 2578, 'stuck': 5924, 'strangles': 5925, 'feed': 5926, 'scully': 2579, 'ears': 5927, \"she'll\": 2580, 'traffic': 5928, 'wears': 5930, 'quick-like': 2581, 'yelling': 2582, \"football's\": 2583, 'chief_wiggum': 2584, 'toe': 2585, 'decide': 2586, 'we-we-we': 2587, 'bob': 2588, 'puke-pail': 2589, 'soaps': 2590, 'conversations': 1544, \"you're\": 5933, 'sight-unseen': 2591, 'its': 2592, 'yourse': 5934, 'over': 2593, 'mate': 2594, 'anguished': 5936, 'ninety-seven': 2595, 'birth': 2596, 'bart_simpson': 2597, 'lennyy': 5937, 'muslim': 5938, 'wudgy': 5939, 'woooooo': 5940, 'shoulda': 5941, 'thawing': 2598, 'aquafresh': 2599, 'partners': 5943, 'octa-': 5993, 'fbi': 5944, 'crayon': 2601, 'certainly': 5945, 'lemonade': 5947, 'junebug': 2602, 'warn': 2603, 'counter': 5949, 'wise': 2604, 'hour': 5950, 'series': 2606, 'hairs': 2607, 'designated': 5951, 'nice': 2608, 'serve': 5952, 'ground': 6066, 'fellas': 3756, 'arrange': 4852, 'mistakes': 5954, 'lodge': 5955, 'quiet': 2609, 'vodka': 952, 'freedom': 5958, 'carey': 5743, 'miss_lois_pennycandy': 4295, 'mechanical': 5959, 'tha': 2610, 'renders': 5961, 'washer': 5962, 'kindly': 5963, 'weather': 5965, 'tall': 2611, 'mediterranean': 5966, 'joey_kramer': 5967, 'ooh': 2612, 'asks': 2631, 'getcha': 5970, 'sport': 6564, 'boozy': 6301, 'straining': 1518, 'nemo': 5971, 'profiling': 2613, 'tire': 5972, 'whip': 6565, \"starla's\": 3759, 'brings': 2614, 'maintenance': 2615, 'guff': 5974, 'grubby': 5975, 'peppy': 2616, 'james': 5405, 'incapable': 5978, 'renew': 2617, 'string': 5998, 'faith': 5979, 'crying': 5980, \"larry's\": 2618, \"drawin'\": 2619, \"doctor's\": 5982, 'shelbyville': 6000, '250': 2620, 'coney': 2621, 'release': 5983, 'star': 2622, 'cares': 5984, 'shop': 1143, 'declan': 5986, \"beer's\": 3479, 'eventually': 5987, 's-a-u-r-c-e': 2623, 'live': 2624, 'chapter': 2625, \"ragin'\": 5988, 'hops': 789, 'brockelstein': 2626, 'gallon': 5622, 'sesame': 5989, 'gumbo': 5990, \"beggin'\": 6575, 'shark': 2627, 'wiggle': 5991, 'kept': 2092, 'gunter': 2628, \"wouldn't\": 5057, 'vomit': 6470, 'started': 5992, 'bubble': 6576, 'application': 5994, 'discussing': 424, 'sweeter': 2629, 'brainiac': 2630, \"plaster's\": 2632, 'special': 5995, 'result': 5996, 'have': 5997, 'shoes': 2633, 'archaeologist': 6290, 'gave': 5999, 'express': 6001, 'suppose': 2634, 'ding-a-ding-ding-ding-ding-ding-ding': 2635, 'wazoo': 1553, 'popular': 6002, 'fix': 2636, 'brief': 6004, \"battin'\": 2637, 'shaggy': 6005, 'distance': 3765, 'sick': 6006, 'lurks': 2638, 'prefer': 2639, 'spending': 6008, 'burglary': 2640, 'missing': 2641, \"pickin'\": 6578, 'johnny': 6009, 'composite': 6010, 'th-th-th-the': 6011, 'snake_jailbird': 2642, \"liftin'\": 2643, 'con': 2644, 'distributor': 6012, 'upn': 2645, 'maman': 6013, 'dilemma': 2646, 'pass': 2647, 'officer': 6016, 'liver': 427, 'she': 6017, 'deliberately': 105, \"s'pose\": 2648, 'dentist': 6018, 'showered': 6019, 'playoff': 6020, 'illegal': 6021, 'wipes': 2649, 'vacuum': 2650, \"year's\": 6022, 'dipping': 6023, 'belong': 2651, 'negative': 4299, 'proof': 6024, 'initially': 6025, 'strongly': 4300, 'soot': 2652, 'jackpot-thief': 6584, 'passion': 6026, 'shaved': 2653, \"foolin'\": 2654, 'navy': 2655, 'sweetest': 6027, 'period': 4301, 'spotting': 5981, 'poulet': 6007, 'santa': 1515, 'imaginary': 2656, 'moe-lennium': 2082, 'proper': 2657, 'booze': 2658, 'koholic': 2659, 'man_with_crazy_beard': 2660, 'fistiana': 6030, 'fiction': 6031, 'stu': 6586, 'barbed': 2661, 'nibble': 1557, 'follow': 6032, 'trunk': 2662, 'peanut': 2664, 'scare': 6033, 'wanted': 2665, 'sister': 1558, 'railroad': 2666, 'excuse': 6034, 'took': 6035, 'legoland': 3773, 'nods': 6036, 'glorious': 1270, 'smelly': 2667, 'natured': 2668, \"tonight's\": 2669, 'delighted': 2670, 'isotopes': 4306, 'arguing': 2671, 'stars': 2672, 'gas': 433, 'most': 2674, 'return': 5765, 'unavailable': 6037, 'exasperated': 6038, 'hangover': 434, 'beaumarchais': 2676, 'karaoke_machine': 4308, \"lisa's\": 6040, 'clean': 2677, 'forgiven': 6591, 'broadway': 3776, 'punkin': 2678, 'irrelevant': 6041, 'wars': 6042, 'covers': 6043, 'finding': 6044, 'married': 2679, 'carb': 2680, 'collette': 6595, 'bookie': 3777, 'bit': 2681, \"bartender's\": 6045, 'amused': 6046, 'violin': 6047, 'character': 6048, 'encores': 6049, 'plug': 2682, 'chapstick': 6050, 'gay': 2683, 'koi': 6051, 'ehhhhhhhh': 6052, 'terrifying': 5416, 'wussy': 6054, 'arrest': 6056, 'drown': 6057, 'creature': 2684, 'zone': 2685, 'steam': 2686, 'glummy': 6059, 'laney': 2687, 'fantasy': 2688, 'eyeing': 6060, 'manipulation': 2133, 'eighty-one': 3195, 'contact': 2689, 'micronesian': 6014, 'droning': 6063, \"nothin's\": 2692, 'whenever': 2693, 'cowboy': 2694, 'virility': 2695, 'party': 2696, 'brunswick': 5263, 'jerk-ass': 5417, 'coincidentally': 2697, \"pope's\": 6065, 'waylon': 2698, 'superdad': 2699, 'sideshow_bob': 6599, 'ivana': 6067, 'dawning': 2700, 'inspiring': 6070, 'fishing': 5644, 'blokes': 6072, 'moved': 2701, 'ugliness': 6073, 'poin-dexterous': 6074, 'poison': 2702, 'hardwood': 2704, 'chub': 2705, 'ah-ha': 3779, 'scratcher': 6076, 'depression': 6077, 'except': 2706, 'naturally': 3780, 'escort': 2708, 'ever': 6079, 'canyoner-oooo': 6080, 'enlightened': 4463, 'milk': 2709, 'feels': 2710, 'threatening': 2711, 'firing': 2712, 'itself': 2714, 'coat': 3781, 'astronauts': 2715, 'aerospace': 2716, 'horribilis': 2718, 'heart-broken': 6084, 'restaurant': 4867, 'flexible': 3784, 'shows': 6085, 'colonel': 2719, 'exciting': 2720, 'loser': 6086, 'moment': 6087, 'principles': 6088, \"let's\": 6089, 'actress': 6090, 'stirring': 2721, 'fruit': 2723, 'safe': 6091, 'dregs': 2724, 'sly': 2725, 'finance': 2726, 'weekly': 2727, 'andrew': 6093, 'were': 6094, 'groans': 2728, 'mic': 2729, 'reactions': 3888, 'clearly': 2732, 'tow-talitarian': 2733, 'naked': 6097, 'ashamed': 2734, 'drunkening': 6098, 'so-called': 6099, 'fudd': 34, 'far': 6100, '100': 6102, 'manage': 2735, 'squirrels': 2736, 'sense': 2737, 'suds': 6104, 'faced': 6105, 'louisiana': 3678, 'hampstead-on-cecil-cecil': 2265, 'peppers': 6106, 'plain': 2738, 'protesters': 2739, 'yellow': 2740, 'arms': 2741, 'two-drink': 2742, 'show': 6107, 'here-here-here': 2743, 'bumblebee_man': 6108, \"nothin'\": 2744, 'sheriff': 2746, 'rekindle': 6109, \"drinkin'\": 6110, 'however': 6111, 'anything': 6113, 'gone': 5420, 'beeps': 2747, 'adult_bart': 6114, 'sleep': 2748, 'stomach': 2749, 'delts': 5734, 'rash': 6115, 'sanctuary': 2750, 'pinchpenny': 2751, 'compared': 1072, 'suspended': 6116, 'legs': 2753, 'rage': 6117, 'pawed': 2754, 'seductive': 2755, 'wade_boggs': 6118, 'rule': 2756, 'dreamily': 2757, 'meditative': 6606, 'bowling': 6121, 'feld': 6122, 'haikus': 6123, 'tv_father': 2758, 'arse': 2759, 'courthouse': 6544, 'presidential': 4322, 'bliss': 2760, 'into': 6126, 'waitress': 2761, 'hospital': 6127, 'hollywood': 2762, 'agent': 2763, 'innocence': 2764, 'cowardly': 2765, 'event': 2766, \"kids'\": 2767, 'unbelievable': 2768, 'salary': 5977, 'raking': 4131, 'sap': 6131, 'ugliest': 6132, 'bell': 2769, 'unsanitary': 6134, 'open': 6135, 'crummy': 6137, 'thesaurus': 6138, 'alma': 2770, 'leno': 2771, 'compadre': 2773, 'forgot': 6028, 'separator': 2774, 'self-made': 2775, 'wash': 4324, 'ancestors': 6139, 'normal': 3209, 'spiritual': 2776, 'weapon': 2777, 'charged': 4876, 'bride': 6141, 'violations': 2779, \"smackin'\": 6142, 'eu': 2780, 'forty-two': 6120, 'shriners': 2781, 'cutting': 6145, 'brotherhood': 1568, 'buffet': 2782, 'spoken': 2783, 'chug-monkeys': 2784, 'caricature': 6479, 'these': 6148, 'vicious': 2785, 'some': 4879, \"d'\": 6150, 'cuz': 2786, 'fuss': 2790, 'wire': 2788, 'incognito': 2791, 'slurred': 2792, 'hammy': 6153, 'silent': 2794, 'stood': 2795, 'eight': 2796, 'babe': 5005, \"guy's\": 2797, 'rounds': 2798, 'laughter': 2799, 'brother': 5320, 'fears': 6155, 'automobiles': 2800, 'lipo': 2802, 'buffalo': 6156, 'bunion': 6157, 'extremely': 6158, 'stripe': 2803, 'junkyard': 2804, 'cletus_spuckler': 6159, 'reminded': 6160, 'gil_gunderson': 6161, 'mater': 6162, 'sinister': 2805, 'situation': 2806, 'junior': 2807, 'theatah': 2808, 'morlocks': 6163, 'waters': 6164, 'springfield': 6165, 'glasses': 2809, 'williams': 6167, 'rope': 2810, 'ridiculous': 2811, 'inspector': 2118, 'price': 2813, 'schnapps': 2814, 'bed': 2815, 'meatpies': 6168, 'products': 6169, 'refreshment': 2816, 'scratching': 6170, 'disturbance': 2817, 'stingy': 6171, 'hilarious': 6172, 'doof': 6173, 'heading': 1219, 'cards': 2818, \"table's\": 6174, 'tv_wife': 1712, 'gums': 6176, 'beer': 3216, 'libido': 2819, 'phone': 6178, 'nahasapeemapetilon': 6180, 'candidate': 6181, 'beatings': 6182, 'eaten': 2820, 'trick': 6183, 'kansas': 6184, 'stirrers': 6185, 'bashir': 3794, 'mention': 6187, 'sitar': 1567, 'patient': 2821, 'shtick': 2822, 'noosey': 1571, 'reentering': 2975, 'bump': 6190, 'raging': 2823, 'triumphantly': 6191, 'fault': 6192, 'abcs': 3795, \"c'mere\": 2824, 'swigmore': 3796, 'sloppy': 986, 'excellent': 2825, 'writer': 2827, 'snake': 2828, \"'\": 2829, 'elite': 6193, 'donut': 6194, \"breakin'\": 2830, 'sabermetrics': 2831, 'bike': 5430, 'and': 6195, 'afternoon': 2832, 'equal': 2833, 'still': 2834, 'official': 6196, 'dank': 2835, 'excited': 2836, 'wells': 2837, 'attach': 685, 'coin': 2838, 'rims': 2839, 'pus-bucket': 1575, 'casting': 2840, 'feast': 6198, 'cowboys': 2841, 'atari': 2842, 'helicopter': 6620, 'room': 6200, 'stan': 2843, 'plucked': 2844, 'expensive': 6202, 'gloop': 6203, 'decadent': 2845, 'awed': 6204, 'moving': 3222, 'voicemail': 6206, 'today/': 2846, 'equivalent': 6289, 'cyrano': 2847, 'universe': 4892, 'plastic': 2848, 'frazier': 2849, \"i've\": 6207, 'st': 6208, 'smug': 1577, 'yello': 2850, 'growing': 6209, 'declare': 2851, 'patterns': 2852, 'credit': 2853, \"duff's\": 6210, 'risqué': 3947, 'creepy': 6211, 'gol-dangit': 1484, 'woman_bystander': 6212, 'cold': 6213, 'gun': 6214, 'deserve': 5330, 'dough': 6215, 'korea': 4332, 'düffenbraus': 2854, 'powerful': 6216, 'collateral': 2855, 'retain': 2856, 'usually': 6319, 'quimbys': 2857, 'box': 6219, 'anti-intellectualism': 6220, 'mmmmm': 6221, 'mansions': 2858, 'riveting': 6222, \"'em\": 6223, 'tiny': 6673, 'friday': 4333, 'shopping': 1578, 'testing': 2859, 'grains': 6225, 'flush': 6226, 'fun': 3230, 'rings': 6228, 'backward': 2860, 'double': 6229, 'getup': 1042, 'darkest': 2861, 'rig': 6231, 'tie': 2863, 'energy': 2864, 'spent': 3728, 'around': 2865, 'menace': 6233, 'palm': 2866, \"mother's\": 992, 'guzzles': 2868, 'quick': 994, 'wedding': 6234, 'revenge': 5437, 'blackjack': 2869, 'astronaut': 2870, 'evils': 6237, 'high-definition': 2871, 'same': 2872, 'windshield': 2873, 'expense': 6239, 'roz': 2875, 'sturdy': 2876, 'friction': 2877, 'beaumont': 2878, 'majority': 4336, 'remembered': 6243, 'followed': 2879, 'eleven': 997, 'think': 2880, 'hems': 6128, 'snide': 2881, 'blaze': 6244, 'terminated': 6245, 'quickly': 2882, 'feel': 2883, 'emporium': 6247, 'saving': 2884, 'kind': 2885, 'bank': 2886, 'chain': 2887, 'foil': 5640, 'breath': 4900, 'marguerite': 463, 'tin': 2889, 'media': 2359, 'impress': 2890, 'tooth': 6252, 'chuckles': 2891, 'pepsi': 6253, 'amber_dempsey': 2892, 'genius': 1581, 'down': 6254, \"yieldin'\": 2893, 'sheepish': 2894, 'awkward': 2895, 'tar-paper': 6625, 'full-blooded': 465, 'cookies': 6255, 'benefits': 2896, 'hmmmm': 2897, 'vehicle': 6256, 'affects': 2898, 'neat': 6258, 'precious': 2899, 'hostile': 2900, \"you'd\": 2901, 'speaking': 2902, 'brockman': 5442, 'ferry': 6261, 'linda_ronstadt': 2903, 'prayers': 2904, 'smiled': 6262, 'sad': 6263, 'traitors': 2905, 'hushed': 2906, 'disgraceful': 6266, 'strategy': 2907, 'lifestyle': 6267, 'danny': 5729, 'relationship': 2908, 'phase': 6269, \"high-falutin'\": 5642, 'rhode': 6270, 'correction': 2132, \"fine-lookin'\": 2909, 'ingrates': 6272, 'ech': 6273, 'drunk': 2131, 'sperm': 4342, 'torn': 6274, 'provide': 6275, 'cheryl': 6276, 'attracted': 6277, 'prejudice': 6278, 'slyly': 6279, 'boxcars': 6280, 'sickens': 2910, 'declared': 2673, 'fritz': 6281, 'salad': 2911, 'winces': 6282, 'moesy': 470, 'tofu': 2913, 'rump': 2914, 'can': 2134, 'canoodling': 2915, 'corporate': 2916, 'family-owned': 5445, 'thoughts': 6283, 'easier': 2917, 'blend': 2918, 'manjula': 6286, 'reached': 6287, 'helped': 1002, 'them': 3423, 'admit': 2919, 'muertos': 6288, 'guns': 2920, 'large': 2675, 'weirded-out': 6062, \"idea's\": 2921, 'knowingly': 2922, 'forty-nine': 2923, 'crime': 2924, 'sing-song': 2925, 'ripping': 2927, 'hours': 6292, 'charm': 2928, 'repay': 2929, 'newspaper': 6294, 'horrors': 2931, 'hose': 6296, 'gotten': 2932, \"smokin'\": 6299, 'college': 3241, 'au': 6300, 'doug': 2933, 'muhammad': 1005, \"when's\": 2934, 'politicians': 2935, 'dr': 4747, \"'now\": 2938, \"i-i'll\": 2939, 'open-casket': 2940, 'indignant': 6302, 'freaky': 6303, 'jer': 2941, 'photos': 6305, 'suing': 6306, 'op': 3813, 'convinced': 6307, 'jack_larson': 6308, 'smokes': 2942, 'sidekick': 6310, 'multi-purpose': 284, 'stripes': 6311, 'stealings': 2943, 'kirk': 6312, 'because': 2944, 'marge': 6314, 'located': 5449, 'ohmygod': 2945, 'twelve': 2946, 'began': 2947, 'margarita': 5682, 'tuna': 6316, 'talked': 2948, 'advertising': 3814, 'pregnancy': 6318, \"nixon's\": 2949, 'presumir': 2950, 'telling': 2951, 'forced': 1010, 'grabbing': 4909, 'three-man': 5451, 'flew': 6320, 'frenchman': 2952, 'babies': 6321, 'routine': 2953, 'presses': 2954, 'buttocks': 6323, 'chill': 3311, 'dan_gillick': 2955, 'send': 6324, 'clothes': 6325, 'vampires': 6326, 'ideas': 6327, 'festival': 6328, 'read': 6329, 'illegally': 2956, 'ons': 6330, 'internet': 2957, 'huhza': 3571, 'sets': 4914, 'jukebox_record': 6333, 'endorsed': 5749, 'honored': 2959, 'blinds': 2960, 'practice': 1014, 'handle': 2961, 'employment': 6334, 'running': 2963, 'line': 6335, 'meant': 6336, 'fella': 1597, 'both': 2964, 'remember': 2965, 'scientists': 2966, 'value': 3876, 'letter': 2967, 'sings': 1599, 'democracy': 6340, 'supreme': 2968, \"that'll\": 2969, 'steamed': 2970, 'amends': 6621, \"doin'\": 3817, 'gulliver_dark': 2972, 'fierce': 2973, 'evasive': 6343, 'throw': 6344, 'excavating': 6345, \"they'll\": 5137, 'wittgenstein': 2974, 'phlegm': 2976, 'machine': 2977, 'probably': 6347, 'expect': 5458, 'putty': 6348, 'bounced': 2978, 'him': 2979, 'smoke': 6350, 'eat': 6351, 'poem': 4442, 'pledge': 6352, 'slap': 1601, 'enjoyed': 6354, 'bonding': 6355, 'comic_book_guy': 1018, 'coal': 4530, \"couldn't\": 6356, 'female_inspector': 4353, 'declan_desmond': 1602, 'cheering': 6357, 'upgrade': 6358, 'trivia': 6205, 'windelle': 1257, 'international': 2981, \"singin'\": 6359, 'since': 6360, 'edge': 2982, 'pall': 2983, 'queen': 2984, 'social': 6361, 'million': 2985, 'resenting': 6362, 'wowww': 2986, \"weren't\": 2987, 'raises': 6364, 'chinese_restaurateur': 2988, 'domed': 2989, 'radiation': 6368, 'farewell': 2990, 'debonair': 6370, 'kodos': 2991, 'cough': 2992, 'puffy': 2993, 'semicolon': 5462, 'cuff': 6372, 'encouraged': 2995, 'grumbling': 2996, 'brain-switching': 6373, 'increasingly': 485, 'michael': 2997, \"we'd\": 5742, 'skoal': 4356, 'theme': 6376, 'idioms': 6377, \"can't-believe-how-bald-he-is\": 4358, 'last': 2998, 'sector': 6379, 'soaked': 6058, 'geyser': 2999, 'booth': 3822, \"'im\": 3000, 'mac-who': 4240, 'besides': 3001, 'somewhere': 3002, 'reading': 6380, 'mt': 6381, 'habit': 1608, 'marshmallow': 3003, 'button': 3004, 'chunk': 3005, 'blows': 3006, 'bupkus': 6382, 'bon': 3007, 'shot': 3008, '10': 1027, 'la': 6061, 'agh': 3010, 'kid': 3011, 'warm_female_voice': 4360, 'slaves': 3013, 'spinning': 3014, 'brawled': 3015, 'unattended': 6386, 'poured': 6387, 'grandiose': 3016, 'mary': 3017, 'jernt': 3018, 'town': 3019, 'rafters': 2690, \"cashin'\": 3020, \"hell's\": 6390, 'again': 1029, 'babar': 3774, '2': 3021, 'number': 3022, 'lenford': 3766, 'beligerent': 6391, 'duff_announcer': 6392, 'mccall': 6393, 'text': 1032, 'something': 1610, 'weak': 3023, 'attempting': 6394, 'glitz': 6395, 'joint': 491, 'culkin': 3024, 'invisible': 3025, 'gonna': 3026, 'pretzel': 6397, 'stands': 3027, '7-year-old_brockman': 3028, 'jamaican': 6398, 'hell': 6069, 'bobo': 3029, 'safety': 6399, 'spanish': 6645, 'america': 3030, 'published': 2691, 'mcstagger': 6400, 'whatcha': 3031, 'madison': 6402, 'beating': 6403, 'choices': 3032, 'indeedy': 6405, 'meet': 6406, 'nope': 3034, 'schizophrenia': 6407, 'lime': 4885, \"that's\": 3035, 'buried': 6408, 'awful': 3037, 'hanging': 3038, \"homer's_brain\": 6410, 'talkers': 6411, \"hangin'\": 6412, 'paris': 6413, 'operation': 6078, 'reserved': 6414, 'tiger': 3039, 'thankful': 6416, 'lewis': 6417, 'expose': 3040, 'rough': 6418, 'inexorable': 3041, 'coy': 3042, 'whoa': 4927, 'nigel_bakerbutcher': 3043, 'new': 1348, 'pool': 1614, 'boozebag': 3045, 'gregor': 3046, 'successful': 6424, 'self-satisfied': 3047, 'mabel': 6064, 'curse': 6425, 'cushions': 6426, 'killjoy': 3048, 'dang': 1615, 'flames': 3049, 'once': 6427, 'couch': 3959, 'pre-game': 6428, 'unsafe': 3050, 'rainier': 3051, 'let': 6429, 'pictured': 3052, 'othello': 3053, \"stinkin'\": 6432, \"america's\": 6434, \"game's\": 1186, 'bart': 6436, 'hearse': 3054, 'awake': 6437, \"what're\": 3055, 'driver': 5065, 'rip-off': 3056, 'gal': 3057, \"wouldn't-a\": 2994, 'uh-huh': 1652, 'shhh': 3059, 'comes': 3060, 'meteor': 3832, 'sustain': 3061, 'dejected_barfly': 1036, 'stinger': 3063, 'administration': 6440, \"it'll\": 6441, 'overturned': 3064, 'vulnerable': 3066, \"askin'\": 6442, 'carmichael': 6443, 'dum-dum': 6444, 'moron': 3067, 'forget-me-drinks': 3068, 'wound': 1041, 'ew': 6650, \"snappin'\": 6569, \"pressure's\": 3070, 'stewart': 3072, 'padre': 3071, 'veux': 1618, 'jobless': 6449, 'small_boy': 3073, 'jams': 3074, 'omit': 3257, 'sees/': 6452, 'rent': 6453, 'is': 6454, 'lobster': 3075, 'gentlemen': 6651, 'sorry': 4477, 'george': 3076, 'quarter': 3079, 'theater': 3080, 'bet': 4076, 'mirthless': 6457, 'kinda': 3081, 'drollery': 4727, 'giant': 3082, 'spelling': 3083, 'goo': 3084, 'crumble': 6459, 'stagey': 501, \"'til\": 3085, \"what's\": 3086, 'sight': 6460, 'whether': 1739, 'exchange': 6462, 'assassination': 503, 'accident': 3087, 'school': 3088, 'grants': 3089, \"'er\": 3033, 'trapped': 3090, 'achem': 3091, 'offa': 6246, 'lizard': 3259, 'rolling': 3092, 'what-for': 6655, 'singer': 3093, 'instrument': 1045, 'further': 3094, 'conference': 3095, 'blinded': 4365, 'carlson': 3096, 'putting': 6465, 'yeah': 6466, 'afford': 6467, 'great': 6468, 'monkey': 3098, 'confession': 4939, 'links': 6471, 'occupied': 6472, 'church': 3100, 'cleaned': 6473, 'wounds': 3101, 'businessman_#1': 3102, 'so': 6475, 'pageant': 6476, 'afterglow': 3103, 'hats': 4367, 'sail': 1623, 'rat-like': 3104, 'tow-joes': 2703, 'masks': 3107, 'hug': 3108, 'democrats': 1052, 'ollie': 5909, 'anti-crime': 3109, 'thousands': 3110, 'awfully': 3111, 'beloved': 3112, 'brakes': 3113, 'modestly': 6658, 'potato': 3544, 'a-b-': 3114, 'mistresses': 3835, \"murphy's\": 3115, 'life-extension': 2862, 'beard': 510, 'hank_williams_jr': 2789, 'hundreds': 1624, 'toy': 3116, 'fell': 3117, 'runners': 341, 'squeeze': 6481, 'tasimeter': 3118, \"bein'\": 3120, 'jasper_beardly': 6483, 'eyed': 3121, 'obese': 6485, 'teacup': 3122, 'tickets': 6486, 'load': 6487, 'any': 4370, 'entering': 6488, 'store-bought': 3123, 'professor': 3124, 'vestigial': 3838, 'venture': 4517, 'young_barfly': 4371, 'christopher': 3125, \"linin'\": 4945, 'sour': 6492, 'brick': 1586, 'guts': 6589, 'public': 6493, 'homie': 2707, 'dejected': 3126, 'jump': 1627, 'burps': 3127, \"cuckold's\": 3128, 'c': 3129, 'hooky': 6497, \"o'\": 3130, 'holds': 4373, \"i-i'm\": 6498, 'lloyd': 520, \"bettin'\": 6499, 'clothespins': 3334, 'keeping': 3323, 'delete': 6500, 'air': 4375, 'geez': 6501, 'plan': 6502, 'unlucky': 3131, 'who': 3132, 'champion': 6505, 'according': 6506, 'accept': 3133, \"there's\": 4505, \"stallin'\": 6507, 'drop-off': 3134, 'ask': 3135, 'wednesday': 1307, 'graves': 5488, 'diamond': 3136, 'baloney': 3137, 'pip': 6509, \"tab's\": 3138, \"sippin'\": 3139, 'briefly': 3140, 'peter': 3141, 'snail': 6511, 'notorious': 3268, 'screws': 3142, 'stunned': 3143, 'philosophic': 3144, 'freaking': 6514, 'richard': 5492, 'storms': 3145, 'sandwich': 3146, 'heavyweight': 6515, 'hobo': 2713, 'chained': 5973, 'nervously': 6516, \"number's\": 3147, 'rumaki': 6518, 'chest': 3148, 'hounds': 3149, 'ratio': 3150, 'soothing': 2164, 'deadly': 2717, 'uglier': 3271, 'empty': 4797, 'inserts': 5494, 'american': 3151, 'nuts': 3152, 'firmly': 3154, 'part-time': 4270, 'row': 3155, 'safer': 6520, 'problem': 6521, 'dies': 6522, 'calmly': 5497, 'bad': 3156, 'ivy-covered': 3157, 'yogurt': 785, 'lisa_simpson': 3158, 'packets': 3159, 'replaced': 6526, \"spiffin'\": 6663, 'gasoline': 3160, 'after': 3161, '||quotation_mark||': 6527, 'caholic': 3162, 'forehead': 5500, 'got': 6528, \"swishifyin'\": 3163, 'cobra': 3164, 'brewed': 3165, 'bulletin': 3166, 'way': 6530, \"messin'\": 4379, 'guttural': 3167, 'boxer': 1395, \"people's\": 6531, \"smokin'_joe_frazier\": 3841, 'snorts': 3168, 'fool': 3169, 'single-mindedness': 6534, 'earth': 3171, 'encouraging': 3172, 'boring': 6535, 'romance': 6536, 'knock-up': 6537, 'odd': 6538, 'not': 3173, 'dreamy': 6542, 'noticing': 3174, 'poster': 6543, 'twelveball': 3175, 'pathetic': 1635, 'temples': 6546, 'standing': 746, 'pinball': 6549, 'repressed': 3176, 'motto': 6551, 'dear': 6552, 'total': 6553, 'amanda': 3177, 'us': 3842, 'amnesia': 6555, 'watching': 4955, 'oh-ho': 6556, 'joy': 6557, 'world-class': 3179, 'quality': 6558, 'scout': 6177, 'wooooo': 6559, 'obsessive-compulsive': 3180, 'bachelorette': 3181, 'cleveland': 4640, 'dennis': 6560, 'stupidly': 6561, 'committing': 6562, 'delicate': 6563, 'blamed': 2826, 'holiday': 6566, 'moe_recording': 3275, 'flying': 4385, 'loss': 6570, 'injury': 6571, 'start': 3182, 'saw': 6572, 'broad': 2722, 'turned': 6573, 'fustigation': 6668, 'looser': 6574, 'bathing': 3183, 'deeper': 3184, 'anthony_kiedis': 5912, 'mcclure': 3185, 'uninhibited': 3186, 'grub': 3187, 'yes': 4388, 'homer_doubles': 6669, 'accent': 6579, 'flayvin': 3188, 'earpiece': 6581, 'urge': 3189, 'hmmm': 6583, 'lady-free': 6015, 'upon': 6585, 'nameless': 3190, 'doubt': 3191, 'thoughtful': 3192, 'unison': 4984, 'career': 4390, 'blind': 6587, 'pile': 6628, 'dynamite': 6588, 'layer': 6590, 'steel': 6092, 'lots': 6592, 'farthest': 6593, 'lot': 6594, 'tasty': 3193, \"how's\": 6419, 'tactful': 3194, 'soaking': 6598, 'pulled': 3196, 'hateful': 3197, 'gr-aargh': 3850, 'ticket': 669, 'texas': 6600, 'bagged': 6602, 'happens': 6603, 'majesty': 3198, 'death': 3199, 'kirk_voice_milhouse': 3852, 'classy': 3200, 'engraved': 3201, 'swill': 3202, 'student': 3203, 'super': 6604, 'gabriel': 6605, 'cupid': 3204, 'supports': 3205, 'gruff': 3206, 'had': 3207, 'sniffles': 6607, 'crapmore': 6608, 'second': 3208, '_kissingher': 3211, 'reach': 6611, 'appealing': 3212, 'victim': 6612, 'enterprising': 3213, 'lessee': 6613, 'libraries': 6674, 'hunting': 3215, 'ahh': 6614, 'few': 5510, 'bouquet': 6615, 'bachelorhood': 3217, 'gift': 6616, 'strong': 3219, 'going': 3285, 'virtual': 1431, 'beer-jerks': 3220, 'lush': 3221, 'modern': 6617, 'jubilation': 2730, 'belly-aching': 6619, 'matter-of-fact': 3223, 'chinese': 3224, \"car's\": 3226, 'shoot': 3225, 'endorsement': 3227, 'miss': 3228, 'appreciated': 3229, 'carefully': 3231, 'burning': 3232, 'drawing': 6096, 'americans': 6676, 'cab_driver': 5512, 'whatsit': 6624, 'pajamas': 3233, 'admiration': 6496, 'wolfcastle': 539, 'planted': 3234, 'wonder': 3235, 'remains': 6626, 'smile': 6627, 'ze-ro': 6630, \"doesn't\": 6629, 'heavyset': 3236, 'executive': 3237, 'test-': 3238, 'fry': 3239, 'diapers': 5047, 'dry': 6631, 'natural': 3240, 'cap': 6618, 'wings': 3242, \"mtv's\": 6633, 'schmoe': 3289, 'courage': 3243, 'yourself': 5932, 'fever': 6634, 'lady_duff': 6101, 'heads': 3244, 'quero': 6636, 'rasputin': 6103, 'flashing': 1642, 'rancid': 3245, 'porn': 1643, 'bleacher': 3246, 'bumbling': 6068, 'plow': 3247, 'surprised/thrilled': 6637, 'amid': 544, 'l': 6638, 'grieving': 3248, 'completely': 3249, 'ghouls': 6639, 'forbids': 5239, 'surgeonnn': 6641, 'grammys': 1645, 'hooked': 3250, 'early': 3856, 'sensitivity': 6642, 'label': 3251, 'treat': 6643, 'parking': 3291, 'vampire': 6644, '21': 3252, 'ralph': 6646, 'host': 6647, 'whoever': 1587, 'produce': 6648, 'nigerian': 3253, 'march': 3254, \"knockin'\": 3255, 'africa': 1117, 'softer': 3256, 'degradation': 3258, 'curds': 5515, 'rocks': 6653, 'fdic': 3260, 'woman': 6654, 'stamps': 3261, \"stealin'\": 6656, 'times': 2926, 'size': 3262, 'rom': 6657, 'stocking': 1649, 'knew': 3263, 'shoots': 3264, 'legend': 214, 'bold': 6659, 'greetings': 3265, 'hugh': 5520, 'along': 3266, 'wine': 3267, 'spite': 6660, 'ihop': 3210, 'veteran': 3269, \"'roids\": 3270, 'unjustly': 4406, 'rub': 3272, 'intoxicants': 6662, 'settled': 5522, \"g'on\": 6664, 'annoying': 3273, 'per': 6665, 'sodas': 6666, 'smithers': 6667, 'vengeance': 1069, 'therapy': 3276, 'gags': 3277, 'bigger': 3278, 'back': 4781, 'coyly': 3279, 'william': 3280, '||colon||': 6670, '70': 3281, 'ocean': 6671, 'corn': 6672, 'swe-ee-ee-ee-eet': 3282, 'mob': 3283, 'cell-ee': 3284, \"kid's\": 3286, 'beneath': 2310, 'sweetly': 6675, \"hasn't\": 3287, 'donated': 3288, 'batmobile': 3290, 'filled': 4413, 'tail': 4152, 'rafter': 6677, 'lease': 6678, 'iranian': 439, 'dime': 4411, 'mail': 3292, 'bluff': 3870, 'surprising': 3293, 'fonda': 6680, 'eve': 6681, 'checks': 6682, 'was': 6683, 'prison': 4554, 'fancy': 3294, 'stonewall': 6342, 'more': 6686, 'ripcord': 6687, 'gosh': 6688, 'sequel': 6689}\n"
     ]
    },
    {
     "ename": "KeyError",
     "evalue": "'moe_szyslak'",
     "output_type": "error",
     "traceback": [
      "\u001b[0;31m---------------------------------------------------------------------------\u001b[0m",
      "\u001b[0;31mKeyError\u001b[0m                                  Traceback (most recent call last)",
      "\u001b[0;32m<ipython-input-137-56ccb96c9e1b>\u001b[0m in \u001b[0;36m<module>\u001b[0;34m()\u001b[0m\n\u001b[1;32m      3\u001b[0m \"\"\"\n\u001b[1;32m      4\u001b[0m \u001b[0;31m# Preprocess Training, Validation, and Testing Data\u001b[0m\u001b[0;34m\u001b[0m\u001b[0;34m\u001b[0m\u001b[0m\n\u001b[0;32m----> 5\u001b[0;31m \u001b[0mhelper\u001b[0m\u001b[0;34m.\u001b[0m\u001b[0mpreprocess_and_save_data\u001b[0m\u001b[0;34m(\u001b[0m\u001b[0mdata_dir\u001b[0m\u001b[0;34m,\u001b[0m \u001b[0mtoken_lookup\u001b[0m\u001b[0;34m,\u001b[0m \u001b[0mcreate_lookup_tables\u001b[0m\u001b[0;34m)\u001b[0m\u001b[0;34m\u001b[0m\u001b[0m\n\u001b[0m",
      "\u001b[0;32m/home/carnd/deep_learning/project3_tvscripts_generate/helper.py\u001b[0m in \u001b[0;36mpreprocess_and_save_data\u001b[0;34m(dataset_path, token_lookup, create_lookup_tables)\u001b[0m\n\u001b[1;32m     31\u001b[0m \u001b[0;34m\u001b[0m\u001b[0m\n\u001b[1;32m     32\u001b[0m     \u001b[0mvocab_to_int\u001b[0m\u001b[0;34m,\u001b[0m \u001b[0mint_to_vocab\u001b[0m \u001b[0;34m=\u001b[0m \u001b[0mcreate_lookup_tables\u001b[0m\u001b[0;34m(\u001b[0m\u001b[0mtext\u001b[0m\u001b[0;34m)\u001b[0m\u001b[0;34m\u001b[0m\u001b[0m\n\u001b[0;32m---> 33\u001b[0;31m     \u001b[0mint_text\u001b[0m \u001b[0;34m=\u001b[0m \u001b[0;34m[\u001b[0m\u001b[0mvocab_to_int\u001b[0m\u001b[0;34m[\u001b[0m\u001b[0mword\u001b[0m\u001b[0;34m]\u001b[0m \u001b[0;32mfor\u001b[0m \u001b[0mword\u001b[0m \u001b[0;32min\u001b[0m \u001b[0mtext\u001b[0m\u001b[0;34m]\u001b[0m\u001b[0;34m\u001b[0m\u001b[0m\n\u001b[0m\u001b[1;32m     34\u001b[0m     \u001b[0mpickle\u001b[0m\u001b[0;34m.\u001b[0m\u001b[0mdump\u001b[0m\u001b[0;34m(\u001b[0m\u001b[0;34m(\u001b[0m\u001b[0mint_text\u001b[0m\u001b[0;34m,\u001b[0m \u001b[0mvocab_to_int\u001b[0m\u001b[0;34m,\u001b[0m \u001b[0mint_to_vocab\u001b[0m\u001b[0;34m,\u001b[0m \u001b[0mtoken_dict\u001b[0m\u001b[0;34m)\u001b[0m\u001b[0;34m,\u001b[0m \u001b[0mopen\u001b[0m\u001b[0;34m(\u001b[0m\u001b[0;34m'preprocess.p'\u001b[0m\u001b[0;34m,\u001b[0m \u001b[0;34m'wb'\u001b[0m\u001b[0;34m)\u001b[0m\u001b[0;34m)\u001b[0m\u001b[0;34m\u001b[0m\u001b[0m\n\u001b[1;32m     35\u001b[0m \u001b[0;34m\u001b[0m\u001b[0m\n",
      "\u001b[0;32m/home/carnd/deep_learning/project3_tvscripts_generate/helper.py\u001b[0m in \u001b[0;36m<listcomp>\u001b[0;34m(.0)\u001b[0m\n\u001b[1;32m     31\u001b[0m \u001b[0;34m\u001b[0m\u001b[0m\n\u001b[1;32m     32\u001b[0m     \u001b[0mvocab_to_int\u001b[0m\u001b[0;34m,\u001b[0m \u001b[0mint_to_vocab\u001b[0m \u001b[0;34m=\u001b[0m \u001b[0mcreate_lookup_tables\u001b[0m\u001b[0;34m(\u001b[0m\u001b[0mtext\u001b[0m\u001b[0;34m)\u001b[0m\u001b[0;34m\u001b[0m\u001b[0m\n\u001b[0;32m---> 33\u001b[0;31m     \u001b[0mint_text\u001b[0m \u001b[0;34m=\u001b[0m \u001b[0;34m[\u001b[0m\u001b[0mvocab_to_int\u001b[0m\u001b[0;34m[\u001b[0m\u001b[0mword\u001b[0m\u001b[0;34m]\u001b[0m \u001b[0;32mfor\u001b[0m \u001b[0mword\u001b[0m \u001b[0;32min\u001b[0m \u001b[0mtext\u001b[0m\u001b[0;34m]\u001b[0m\u001b[0;34m\u001b[0m\u001b[0m\n\u001b[0m\u001b[1;32m     34\u001b[0m     \u001b[0mpickle\u001b[0m\u001b[0;34m.\u001b[0m\u001b[0mdump\u001b[0m\u001b[0;34m(\u001b[0m\u001b[0;34m(\u001b[0m\u001b[0mint_text\u001b[0m\u001b[0;34m,\u001b[0m \u001b[0mvocab_to_int\u001b[0m\u001b[0;34m,\u001b[0m \u001b[0mint_to_vocab\u001b[0m\u001b[0;34m,\u001b[0m \u001b[0mtoken_dict\u001b[0m\u001b[0;34m)\u001b[0m\u001b[0;34m,\u001b[0m \u001b[0mopen\u001b[0m\u001b[0;34m(\u001b[0m\u001b[0;34m'preprocess.p'\u001b[0m\u001b[0;34m,\u001b[0m \u001b[0;34m'wb'\u001b[0m\u001b[0;34m)\u001b[0m\u001b[0;34m)\u001b[0m\u001b[0;34m\u001b[0m\u001b[0m\n\u001b[1;32m     35\u001b[0m \u001b[0;34m\u001b[0m\u001b[0m\n",
      "\u001b[0;31mKeyError\u001b[0m: 'moe_szyslak'"
     ]
    }
   ],
   "source": [
    "\"\"\"\n",
    "DON'T MODIFY ANYTHING IN THIS CELL\n",
    "\"\"\"\n",
    "# Preprocess Training, Validation, and Testing Data\n",
    "helper.preprocess_and_save_data(data_dir, token_lookup, create_lookup_tables)"
   ]
  },
  {
   "cell_type": "markdown",
   "metadata": {
    "deletable": true,
    "editable": true
   },
   "source": [
    "# Check Point\n",
    "This is your first checkpoint. If you ever decide to come back to this notebook or have to restart the notebook, you can start from here. The preprocessed data has been saved to disk."
   ]
  },
  {
   "cell_type": "code",
   "execution_count": 138,
   "metadata": {
    "collapsed": false,
    "deletable": true,
    "editable": true
   },
   "outputs": [],
   "source": [
    "\"\"\"\n",
    "DON'T MODIFY ANYTHING IN THIS CELL\n",
    "\"\"\"\n",
    "import helper\n",
    "import numpy as np\n",
    "import problem_unittests as tests\n",
    "\n",
    "int_text, vocab_to_int, int_to_vocab, token_dict = helper.load_preprocess()"
   ]
  },
  {
   "cell_type": "markdown",
   "metadata": {
    "deletable": true,
    "editable": true
   },
   "source": [
    "## Build the Neural Network\n",
    "You'll build the components necessary to build a RNN by implementing the following functions below:\n",
    "- get_inputs\n",
    "- get_init_cell\n",
    "- get_embed\n",
    "- build_rnn\n",
    "- build_nn\n",
    "- get_batches\n",
    "\n",
    "### Check the Version of TensorFlow and Access to GPU"
   ]
  },
  {
   "cell_type": "code",
   "execution_count": 139,
   "metadata": {
    "collapsed": false,
    "deletable": true,
    "editable": true
   },
   "outputs": [
    {
     "name": "stdout",
     "output_type": "stream",
     "text": [
      "TensorFlow Version: 1.0.0\n",
      "Default GPU Device: /gpu:0\n"
     ]
    }
   ],
   "source": [
    "\"\"\"\n",
    "DON'T MODIFY ANYTHING IN THIS CELL\n",
    "\"\"\"\n",
    "from distutils.version import LooseVersion\n",
    "import warnings\n",
    "import tensorflow as tf\n",
    "\n",
    "# Check TensorFlow Version\n",
    "assert LooseVersion(tf.__version__) >= LooseVersion('1.0'), 'Please use TensorFlow version 1.0 or newer'\n",
    "print('TensorFlow Version: {}'.format(tf.__version__))\n",
    "\n",
    "# Check for a GPU\n",
    "if not tf.test.gpu_device_name():\n",
    "    warnings.warn('No GPU found. Please use a GPU to train your neural network.')\n",
    "else:\n",
    "    print('Default GPU Device: {}'.format(tf.test.gpu_device_name()))"
   ]
  },
  {
   "cell_type": "markdown",
   "metadata": {
    "deletable": true,
    "editable": true
   },
   "source": [
    "### Input\n",
    "Implement the `get_inputs()` function to create TF Placeholders for the Neural Network.  It should create the following placeholders:\n",
    "- Input text placeholder named \"input\" using the [TF Placeholder](https://www.tensorflow.org/api_docs/python/tf/placeholder) `name` parameter.\n",
    "- Targets placeholder\n",
    "- Learning Rate placeholder\n",
    "\n",
    "Return the placeholders in the following tuple (Input, Targets, LearningRate)"
   ]
  },
  {
   "cell_type": "code",
   "execution_count": 140,
   "metadata": {
    "collapsed": false,
    "deletable": true,
    "editable": true
   },
   "outputs": [
    {
     "name": "stdout",
     "output_type": "stream",
     "text": [
      "Tests Passed\n"
     ]
    }
   ],
   "source": [
    "def get_inputs():\n",
    "    \"\"\"\n",
    "    Create TF Placeholders for input, targets, and learning rate.\n",
    "    :return: Tuple (input, targets, learning rate)\n",
    "    \"\"\"\n",
    "    # TODO: Implement Function\n",
    "    Input = tf.placeholder(tf.int32, shape=(None,None),name='input')\n",
    "    targets = tf.placeholder(tf.int32, shape=(None,None),name='Targets')\n",
    "    learning_rate = tf.placeholder(tf.float32, shape=None,name=\"LearningRate\")\n",
    "    return Input,targets,learning_rate\n",
    "\n",
    "\n",
    "\"\"\"\n",
    "DON'T MODIFY ANYTHING IN THIS CELL THAT IS BELOW THIS LINE\n",
    "\"\"\"\n",
    "tests.test_get_inputs(get_inputs)"
   ]
  },
  {
   "cell_type": "markdown",
   "metadata": {
    "deletable": true,
    "editable": true
   },
   "source": [
    "### Build RNN Cell and Initialize\n",
    "Stack one or more [`BasicLSTMCells`](https://www.tensorflow.org/api_docs/python/tf/contrib/rnn/BasicLSTMCell) in a [`MultiRNNCell`](https://www.tensorflow.org/api_docs/python/tf/contrib/rnn/MultiRNNCell).\n",
    "- The Rnn size should be set using `rnn_size`\n",
    "- Initalize Cell State using the MultiRNNCell's [`zero_state()`](https://www.tensorflow.org/api_docs/python/tf/contrib/rnn/MultiRNNCell#zero_state) function\n",
    "    - Apply the name \"initial_state\" to the initial state using [`tf.identity()`](https://www.tensorflow.org/api_docs/python/tf/identity)\n",
    "\n",
    "Return the cell and initial state in the following tuple `(Cell, InitialState)`"
   ]
  },
  {
   "cell_type": "code",
   "execution_count": 141,
   "metadata": {
    "collapsed": false,
    "deletable": true,
    "editable": true
   },
   "outputs": [
    {
     "name": "stdout",
     "output_type": "stream",
     "text": [
      "Tests Passed\n"
     ]
    }
   ],
   "source": [
    "def get_init_cell(batch_size, rnn_size):\n",
    "    \"\"\"\n",
    "    Create an RNN Cell and initialize it.\n",
    "    :param batch_size: Size of batches\n",
    "    :param rnn_size: Size of RNNs\n",
    "    :return: Tuple (cell, initialize state)\n",
    "    \"\"\"\n",
    "    num_of_layers = 2\n",
    "    cell = tf.contrib.rnn.BasicLSTMCell(rnn_size)\n",
    "    cell = tf.contrib.rnn.MultiRNNCell([cell]*num_of_layers)\n",
    "    # Initial state of the LSTM memory.\n",
    "    # initial_state = state = stacked_lstm.zero_state(batch_size, tf.float32)\n",
    "    X = cell.zero_state(batch_size, tf.float32)\n",
    "    init_state=tf.identity(X, name='initial_state')\n",
    "    # TODO: Implement Function\n",
    "    return (cell, init_state)\n",
    "\n",
    "\n",
    "\"\"\"\n",
    "DON'T MODIFY ANYTHING IN THIS CELL THAT IS BELOW THIS LINE\n",
    "\"\"\"\n",
    "tests.test_get_init_cell(get_init_cell)"
   ]
  },
  {
   "cell_type": "markdown",
   "metadata": {
    "deletable": true,
    "editable": true
   },
   "source": [
    "### Word Embedding\n",
    "Apply embedding to `input_data` using TensorFlow.  Return the embedded sequence."
   ]
  },
  {
   "cell_type": "code",
   "execution_count": 142,
   "metadata": {
    "collapsed": false,
    "deletable": true,
    "editable": true
   },
   "outputs": [
    {
     "name": "stdout",
     "output_type": "stream",
     "text": [
      "Tests Passed\n"
     ]
    }
   ],
   "source": [
    "def get_embed(input_data, vocab_size, embed_dim):\n",
    "    \"\"\"\n",
    "    Create embedding for <input_data>.\n",
    "    :param input_data: TF placeholder for text input.\n",
    "    :param vocab_size: Number of words in vocabulary.\n",
    "    :param embed_dim: Number of embedding dimensions\n",
    "    :return: Embedded input.\n",
    "    \"\"\"\n",
    "    # TODO: Implement \n",
    "    #n_embedding = 200 # Number of embedding features\n",
    "    embedding = tf.Variable(tf.random_uniform((vocab_size, embed_dim)))\n",
    "    embed = tf.nn.embedding_lookup(embedding, input_data)\n",
    "    #word_embeddings = tf.get_variable(input_data,[vocab_size, embed_dim])\n",
    "    #embedded_word_ids = tf.gather(word_embeddings, word_ids)\n",
    "    return embed\n",
    "\n",
    "\n",
    "\"\"\"\n",
    "DON'T MODIFY ANYTHING IN THIS CELL THAT IS BELOW THIS LINE\n",
    "\"\"\"\n",
    "tests.test_get_embed(get_embed)"
   ]
  },
  {
   "cell_type": "markdown",
   "metadata": {
    "deletable": true,
    "editable": true
   },
   "source": [
    "### Build RNN\n",
    "You created a RNN Cell in the `get_init_cell()` function.  Time to use the cell to create a RNN.\n",
    "- Build the RNN using the [`tf.nn.dynamic_rnn()`](https://www.tensorflow.org/api_docs/python/tf/nn/dynamic_rnn)\n",
    " - Apply the name \"final_state\" to the final state using [`tf.identity()`](https://www.tensorflow.org/api_docs/python/tf/identity)\n",
    "\n",
    "Return the outputs and final_state state in the following tuple `(Outputs, FinalState)` "
   ]
  },
  {
   "cell_type": "code",
   "execution_count": 143,
   "metadata": {
    "collapsed": false,
    "deletable": true,
    "editable": true
   },
   "outputs": [
    {
     "name": "stdout",
     "output_type": "stream",
     "text": [
      "Tests Passed\n"
     ]
    }
   ],
   "source": [
    "def build_rnn(cell, inputs):\n",
    "    \"\"\"\n",
    "    Create a RNN using a RNN Cell\n",
    "    :param cell: RNN Cell\n",
    "    :param inputs: Input text data\n",
    "    :return: Tuple (Outputs, Final State)\n",
    "    \"\"\"\n",
    "    # TODO: Implement Function\n",
    "    n_vocab = len(int_to_vocab)\n",
    "    outputs, final_state = tf.nn.dynamic_rnn(cell, inputs, dtype=tf.float32)\n",
    "    final_state = tf.identity(final_state, name=\"final_state\")\n",
    "    return (outputs, final_state)\n",
    "\n",
    "\n",
    "\"\"\"\n",
    "DON'T MODIFY ANYTHING IN THIS CELL THAT IS BELOW THIS LINE\n",
    "\"\"\"\n",
    "tests.test_build_rnn(build_rnn)"
   ]
  },
  {
   "cell_type": "markdown",
   "metadata": {
    "deletable": true,
    "editable": true
   },
   "source": [
    "### Build the Neural Network\n",
    "Apply the functions you implemented above to:\n",
    "- Apply embedding to `input_data` using your `get_embed(input_data, vocab_size, embed_dim)` function.\n",
    "- Build RNN using `cell` and your `build_rnn(cell, inputs)` function.\n",
    "- Apply a fully connected layer with a linear activation and `vocab_size` as the number of outputs.\n",
    "\n",
    "Return the logits and final state in the following tuple (Logits, FinalState) "
   ]
  },
  {
   "cell_type": "code",
   "execution_count": 144,
   "metadata": {
    "collapsed": false,
    "deletable": true,
    "editable": true
   },
   "outputs": [
    {
     "name": "stdout",
     "output_type": "stream",
     "text": [
      "Tests Passed\n"
     ]
    }
   ],
   "source": [
    "def build_nn(cell, rnn_size, input_data, vocab_size, embed_dim):\n",
    "    \"\"\"\n",
    "    Build part of the neural network\n",
    "    :param cell: RNN cell\n",
    "    :param rnn_size: Size of rnns\n",
    "    :param input_data: Input data\n",
    "    :param vocab_size: Vocabulary size\n",
    "    :param embed_dim: Number of embedding dimensions\n",
    "    :return: Tuple (Logits, FinalState)\n",
    "    \"\"\"\n",
    "    # TODO: Implement Function\n",
    "    input_data = get_embed(input_data, vocab_size, embed_dim)\n",
    "    outputs,FinalState = build_rnn(cell, input_data)\n",
    "    Logits = tf.contrib.layers.fully_connected(outputs, vocab_size,activation_fn=None)\n",
    "    return (Logits, FinalState)\n",
    "\n",
    "\n",
    "\"\"\"\n",
    "DON'T MODIFY ANYTHING IN THIS CELL THAT IS BELOW THIS LINE\n",
    "\"\"\"\n",
    "tests.test_build_nn(build_nn)"
   ]
  },
  {
   "cell_type": "markdown",
   "metadata": {
    "deletable": true,
    "editable": true
   },
   "source": [
    "### Batches\n",
    "Implement `get_batches` to create batches of input and targets using `int_text`.  The batches should be a Numpy array with the shape `(number of batches, 2, batch size, sequence length)`. Each batch contains two elements:\n",
    "- The first element is a single batch of **input** with the shape `[batch size, sequence length]`\n",
    "- The second element is a single batch of **targets** with the shape `[batch size, sequence length]`\n",
    "\n",
    "If you can't fill the last batch with enough data, drop the last batch.\n",
    "\n",
    "For exmple, `get_batches([1, 2, 3, 4, 5, 6, 7, 8, 9, 10, 11, 12, 13, 14, 15, 16, 17, 18, 19, 20], 3, 2)` would return a Numpy array of the following:\n",
    "```\n",
    "[\n",
    "  # First Batch\n",
    "  [\n",
    "    # Batch of Input\n",
    "    [[ 1  2], [ 7  8], [13 14]]\n",
    "    # Batch of targets\n",
    "    [[ 2  3], [ 8  9], [14 15]]\n",
    "  ]\n",
    "\n",
    "  # Second Batch\n",
    "  [\n",
    "    # Batch of Input\n",
    "    [[ 3  4], [ 9 10], [15 16]]\n",
    "    # Batch of targets\n",
    "    [[ 4  5], [10 11], [16 17]]\n",
    "  ]\n",
    "\n",
    "  # Third Batch\n",
    "  [\n",
    "    # Batch of Input\n",
    "    [[ 5  6], [11 12], [17 18]]\n",
    "    # Batch of targets\n",
    "    [[ 6  7], [12 13], [18  1]]\n",
    "  ]\n",
    "]\n",
    "```\n",
    "\n",
    "Notice that the last target value in the last batch is the first input value of the first batch. In this case, `1`. This is a common technique used when creating sequence batches, although it is rather unintuitive."
   ]
  },
  {
   "cell_type": "code",
   "execution_count": 145,
   "metadata": {
    "collapsed": false,
    "deletable": true,
    "editable": true
   },
   "outputs": [
    {
     "name": "stdout",
     "output_type": "stream",
     "text": [
      "Tests Passed\n"
     ]
    }
   ],
   "source": [
    "def get_batches(int_text, batch_size, seq_length):\n",
    "    \"\"\"\n",
    "    Return batches of input and target\n",
    "    :param int_text: Text with the words replaced by their ids\n",
    "    :param batch_size: The size of batch\n",
    "    :param seq_length: The length of sequence\n",
    "    :return: Batches as a Numpy array\n",
    "    \"\"\"\n",
    "    # TODO: Implement Function\n",
    "    n_batches = len(int_text)//(batch_size*seq_length)\n",
    "    inputs = np.array(int_text[:n_batches*(batch_size*seq_length)])\n",
    "    targets = np.array(int_text[1:n_batches*(batch_size*seq_length)+1])\n",
    "    targets[-1]=inputs[0]\n",
    "    input_batches = np.split(inputs.reshape(batch_size, -1), n_batches, 1)\n",
    "    target_batches = np.split(targets.reshape(batch_size, -1), n_batches, 1)\n",
    "    output = np.array(list(zip(input_batches, target_batches)))\n",
    "    return output\n",
    "\n",
    "\n",
    "\"\"\"\n",
    "DON'T MODIFY ANYTHING IN THIS CELL THAT IS BELOW THIS LINE\n",
    "\"\"\"\n",
    "tests.test_get_batches(get_batches)"
   ]
  },
  {
   "cell_type": "markdown",
   "metadata": {
    "deletable": true,
    "editable": true
   },
   "source": [
    "## Neural Network Training\n",
    "### Hyperparameters\n",
    "Tune the following parameters:\n",
    "\n",
    "- Set `num_epochs` to the number of epochs.\n",
    "- Set `batch_size` to the batch size.\n",
    "- Set `rnn_size` to the size of the RNNs.\n",
    "- Set `embed_dim` to the size of the embedding.\n",
    "- Set `seq_length` to the length of sequence.\n",
    "- Set `learning_rate` to the learning rate.\n",
    "- Set `show_every_n_batches` to the number of batches the neural network should print progress."
   ]
  },
  {
   "cell_type": "code",
   "execution_count": 146,
   "metadata": {
    "collapsed": true,
    "deletable": true,
    "editable": true
   },
   "outputs": [],
   "source": [
    "# Number of Epochs\n",
    "num_epochs = 1 #20\n",
    "# Batch Size\n",
    "batch_size = 10 #100\n",
    "# RNN Size\n",
    "rnn_size = 5 #512\n",
    "# Embedding Dimension Size\n",
    "embed_dim = 5 #None\n",
    "# Sequence Length\n",
    "seq_length = 5 #None\n",
    "# Learning Rate\n",
    "learning_rate = .01 #0.001\n",
    "# Show stats for every n number of batches\n",
    "show_every_n_batches = 4\n",
    "\n",
    "\"\"\"\n",
    "DON'T MODIFY ANYTHING IN THIS CELL THAT IS BELOW THIS LINE\n",
    "\"\"\"\n",
    "save_dir = './save'"
   ]
  },
  {
   "cell_type": "markdown",
   "metadata": {
    "deletable": true,
    "editable": true
   },
   "source": [
    "### Build the Graph\n",
    "Build the graph using the neural network you implemented."
   ]
  },
  {
   "cell_type": "code",
   "execution_count": 147,
   "metadata": {
    "collapsed": false,
    "deletable": true,
    "editable": true
   },
   "outputs": [],
   "source": [
    "\"\"\"\n",
    "DON'T MODIFY ANYTHING IN THIS CELL\n",
    "\"\"\"\n",
    "from tensorflow.contrib import seq2seq\n",
    "\n",
    "train_graph = tf.Graph()\n",
    "with train_graph.as_default():\n",
    "    vocab_size = len(int_to_vocab)\n",
    "    input_text, targets, lr = get_inputs()\n",
    "    input_data_shape = tf.shape(input_text)\n",
    "    cell, initial_state = get_init_cell(input_data_shape[0], rnn_size)\n",
    "    logits, final_state = build_nn(cell, rnn_size, input_text, vocab_size, embed_dim)\n",
    "\n",
    "    # Probabilities for generating words\n",
    "    probs = tf.nn.softmax(logits, name='probs')\n",
    "\n",
    "    # Loss function\n",
    "    cost = seq2seq.sequence_loss(\n",
    "        logits,\n",
    "        targets,\n",
    "        tf.ones([input_data_shape[0], input_data_shape[1]]))\n",
    "\n",
    "    # Optimizer\n",
    "    optimizer = tf.train.AdamOptimizer(lr)\n",
    "\n",
    "    # Gradient Clipping\n",
    "    gradients = optimizer.compute_gradients(cost)\n",
    "    capped_gradients = [(tf.clip_by_value(grad, -1., 1.), var) for grad, var in gradients if grad is not None]\n",
    "    train_op = optimizer.apply_gradients(capped_gradients)"
   ]
  },
  {
   "cell_type": "markdown",
   "metadata": {
    "deletable": true,
    "editable": true
   },
   "source": [
    "## Train\n",
    "Train the neural network on the preprocessed data.  If you have a hard time getting a good loss, check the [forums](https://discussions.udacity.com/) to see if anyone is having the same problem."
   ]
  },
  {
   "cell_type": "code",
   "execution_count": 148,
   "metadata": {
    "collapsed": false,
    "deletable": true,
    "editable": true
   },
   "outputs": [
    {
     "name": "stdout",
     "output_type": "stream",
     "text": [
      "Epoch   0 Batch    0/1462   train_loss = 8.809\n",
      "Epoch   0 Batch    4/1462   train_loss = 8.762\n",
      "Epoch   0 Batch    8/1462   train_loss = 8.705\n",
      "Epoch   0 Batch   12/1462   train_loss = 8.542\n",
      "Epoch   0 Batch   16/1462   train_loss = 8.452\n",
      "Epoch   0 Batch   20/1462   train_loss = 8.173\n",
      "Epoch   0 Batch   24/1462   train_loss = 7.797\n",
      "Epoch   0 Batch   28/1462   train_loss = 7.437\n",
      "Epoch   0 Batch   32/1462   train_loss = 7.239\n",
      "Epoch   0 Batch   36/1462   train_loss = 6.914\n",
      "Epoch   0 Batch   40/1462   train_loss = 7.160\n",
      "Epoch   0 Batch   44/1462   train_loss = 6.818\n",
      "Epoch   0 Batch   48/1462   train_loss = 6.686\n",
      "Epoch   0 Batch   52/1462   train_loss = 6.350\n",
      "Epoch   0 Batch   56/1462   train_loss = 6.128\n",
      "Epoch   0 Batch   60/1462   train_loss = 5.924\n",
      "Epoch   0 Batch   64/1462   train_loss = 7.094\n",
      "Epoch   0 Batch   68/1462   train_loss = 6.208\n",
      "Epoch   0 Batch   72/1462   train_loss = 6.190\n",
      "Epoch   0 Batch   76/1462   train_loss = 6.514\n",
      "Epoch   0 Batch   80/1462   train_loss = 6.273\n",
      "Epoch   0 Batch   84/1462   train_loss = 6.619\n",
      "Epoch   0 Batch   88/1462   train_loss = 5.970\n",
      "Epoch   0 Batch   92/1462   train_loss = 6.342\n",
      "Epoch   0 Batch   96/1462   train_loss = 5.547\n",
      "Epoch   0 Batch  100/1462   train_loss = 5.954\n",
      "Epoch   0 Batch  104/1462   train_loss = 5.566\n",
      "Epoch   0 Batch  108/1462   train_loss = 6.299\n",
      "Epoch   0 Batch  112/1462   train_loss = 5.596\n",
      "Epoch   0 Batch  116/1462   train_loss = 6.208\n",
      "Epoch   0 Batch  120/1462   train_loss = 6.102\n",
      "Epoch   0 Batch  124/1462   train_loss = 6.074\n",
      "Epoch   0 Batch  128/1462   train_loss = 6.159\n",
      "Epoch   0 Batch  132/1462   train_loss = 6.371\n",
      "Epoch   0 Batch  136/1462   train_loss = 5.465\n",
      "Epoch   0 Batch  140/1462   train_loss = 6.021\n",
      "Epoch   0 Batch  144/1462   train_loss = 6.020\n",
      "Epoch   0 Batch  148/1462   train_loss = 5.570\n",
      "Epoch   0 Batch  152/1462   train_loss = 5.798\n",
      "Epoch   0 Batch  156/1462   train_loss = 6.054\n",
      "Epoch   0 Batch  160/1462   train_loss = 6.629\n",
      "Epoch   0 Batch  164/1462   train_loss = 5.908\n",
      "Epoch   0 Batch  168/1462   train_loss = 6.017\n",
      "Epoch   0 Batch  172/1462   train_loss = 5.380\n",
      "Epoch   0 Batch  176/1462   train_loss = 5.868\n",
      "Epoch   0 Batch  180/1462   train_loss = 5.678\n",
      "Epoch   0 Batch  184/1462   train_loss = 6.533\n",
      "Epoch   0 Batch  188/1462   train_loss = 5.722\n",
      "Epoch   0 Batch  192/1462   train_loss = 5.565\n",
      "Epoch   0 Batch  196/1462   train_loss = 6.255\n",
      "Epoch   0 Batch  200/1462   train_loss = 6.050\n",
      "Epoch   0 Batch  204/1462   train_loss = 6.087\n",
      "Epoch   0 Batch  208/1462   train_loss = 5.815\n",
      "Epoch   0 Batch  212/1462   train_loss = 6.513\n",
      "Epoch   0 Batch  216/1462   train_loss = 6.448\n",
      "Epoch   0 Batch  220/1462   train_loss = 5.701\n",
      "Epoch   0 Batch  224/1462   train_loss = 5.795\n",
      "Epoch   0 Batch  228/1462   train_loss = 5.687\n",
      "Epoch   0 Batch  232/1462   train_loss = 6.483\n",
      "Epoch   0 Batch  236/1462   train_loss = 6.726\n",
      "Epoch   0 Batch  240/1462   train_loss = 5.944\n",
      "Epoch   0 Batch  244/1462   train_loss = 6.081\n",
      "Epoch   0 Batch  248/1462   train_loss = 5.640\n",
      "Epoch   0 Batch  252/1462   train_loss = 6.169\n",
      "Epoch   0 Batch  256/1462   train_loss = 6.449\n",
      "Epoch   0 Batch  260/1462   train_loss = 6.099\n",
      "Epoch   0 Batch  264/1462   train_loss = 6.201\n",
      "Epoch   0 Batch  268/1462   train_loss = 6.326\n",
      "Epoch   0 Batch  272/1462   train_loss = 6.262\n",
      "Epoch   0 Batch  276/1462   train_loss = 5.958\n",
      "Epoch   0 Batch  280/1462   train_loss = 6.213\n",
      "Epoch   0 Batch  284/1462   train_loss = 5.909\n",
      "Epoch   0 Batch  288/1462   train_loss = 5.804\n",
      "Epoch   0 Batch  292/1462   train_loss = 6.475\n",
      "Epoch   0 Batch  296/1462   train_loss = 6.274\n",
      "Epoch   0 Batch  300/1462   train_loss = 5.772\n",
      "Epoch   0 Batch  304/1462   train_loss = 6.223\n",
      "Epoch   0 Batch  308/1462   train_loss = 5.651\n",
      "Epoch   0 Batch  312/1462   train_loss = 5.378\n",
      "Epoch   0 Batch  316/1462   train_loss = 5.618\n",
      "Epoch   0 Batch  320/1462   train_loss = 5.994\n",
      "Epoch   0 Batch  324/1462   train_loss = 5.369\n",
      "Epoch   0 Batch  328/1462   train_loss = 6.028\n",
      "Epoch   0 Batch  332/1462   train_loss = 6.637\n",
      "Epoch   0 Batch  336/1462   train_loss = 5.397\n",
      "Epoch   0 Batch  340/1462   train_loss = 5.941\n",
      "Epoch   0 Batch  344/1462   train_loss = 5.836\n",
      "Epoch   0 Batch  348/1462   train_loss = 5.314\n",
      "Epoch   0 Batch  352/1462   train_loss = 5.301\n",
      "Epoch   0 Batch  356/1462   train_loss = 6.262\n",
      "Epoch   0 Batch  360/1462   train_loss = 5.859\n",
      "Epoch   0 Batch  364/1462   train_loss = 5.227\n",
      "Epoch   0 Batch  368/1462   train_loss = 5.443\n",
      "Epoch   0 Batch  372/1462   train_loss = 5.036\n",
      "Epoch   0 Batch  376/1462   train_loss = 6.312\n",
      "Epoch   0 Batch  380/1462   train_loss = 6.116\n",
      "Epoch   0 Batch  384/1462   train_loss = 5.314\n",
      "Epoch   0 Batch  388/1462   train_loss = 7.168\n",
      "Epoch   0 Batch  392/1462   train_loss = 5.769\n",
      "Epoch   0 Batch  396/1462   train_loss = 5.883\n",
      "Epoch   0 Batch  400/1462   train_loss = 5.906\n",
      "Epoch   0 Batch  404/1462   train_loss = 5.508\n",
      "Epoch   0 Batch  408/1462   train_loss = 5.502\n",
      "Epoch   0 Batch  412/1462   train_loss = 4.980\n",
      "Epoch   0 Batch  416/1462   train_loss = 5.302\n",
      "Epoch   0 Batch  420/1462   train_loss = 6.014\n",
      "Epoch   0 Batch  424/1462   train_loss = 5.244\n",
      "Epoch   0 Batch  428/1462   train_loss = 6.741\n",
      "Epoch   0 Batch  432/1462   train_loss = 5.740\n",
      "Epoch   0 Batch  436/1462   train_loss = 5.404\n",
      "Epoch   0 Batch  440/1462   train_loss = 5.581\n",
      "Epoch   0 Batch  444/1462   train_loss = 5.988\n",
      "Epoch   0 Batch  448/1462   train_loss = 6.235\n",
      "Epoch   0 Batch  452/1462   train_loss = 5.598\n",
      "Epoch   0 Batch  456/1462   train_loss = 5.649\n",
      "Epoch   0 Batch  460/1462   train_loss = 5.626\n",
      "Epoch   0 Batch  464/1462   train_loss = 5.317\n",
      "Epoch   0 Batch  468/1462   train_loss = 5.974\n",
      "Epoch   0 Batch  472/1462   train_loss = 6.364\n",
      "Epoch   0 Batch  476/1462   train_loss = 6.164\n",
      "Epoch   0 Batch  480/1462   train_loss = 6.003\n",
      "Epoch   0 Batch  484/1462   train_loss = 6.571\n",
      "Epoch   0 Batch  488/1462   train_loss = 6.385\n",
      "Epoch   0 Batch  492/1462   train_loss = 5.226\n",
      "Epoch   0 Batch  496/1462   train_loss = 5.932\n",
      "Epoch   0 Batch  500/1462   train_loss = 5.875\n",
      "Epoch   0 Batch  504/1462   train_loss = 4.738\n",
      "Epoch   0 Batch  508/1462   train_loss = 6.095\n",
      "Epoch   0 Batch  512/1462   train_loss = 5.314\n",
      "Epoch   0 Batch  516/1462   train_loss = 6.545\n",
      "Epoch   0 Batch  520/1462   train_loss = 6.335\n",
      "Epoch   0 Batch  524/1462   train_loss = 5.685\n",
      "Epoch   0 Batch  528/1462   train_loss = 6.019\n",
      "Epoch   0 Batch  532/1462   train_loss = 5.714\n",
      "Epoch   0 Batch  536/1462   train_loss = 6.461\n",
      "Epoch   0 Batch  540/1462   train_loss = 6.652\n",
      "Epoch   0 Batch  544/1462   train_loss = 5.507\n",
      "Epoch   0 Batch  548/1462   train_loss = 5.987\n",
      "Epoch   0 Batch  552/1462   train_loss = 5.910\n",
      "Epoch   0 Batch  556/1462   train_loss = 6.332\n",
      "Epoch   0 Batch  560/1462   train_loss = 4.882\n",
      "Epoch   0 Batch  564/1462   train_loss = 6.469\n",
      "Epoch   0 Batch  568/1462   train_loss = 5.740\n",
      "Epoch   0 Batch  572/1462   train_loss = 5.880\n",
      "Epoch   0 Batch  576/1462   train_loss = 6.273\n",
      "Epoch   0 Batch  580/1462   train_loss = 5.899\n",
      "Epoch   0 Batch  584/1462   train_loss = 6.423\n",
      "Epoch   0 Batch  588/1462   train_loss = 5.885\n",
      "Epoch   0 Batch  592/1462   train_loss = 5.820\n",
      "Epoch   0 Batch  596/1462   train_loss = 6.337\n",
      "Epoch   0 Batch  600/1462   train_loss = 6.408\n",
      "Epoch   0 Batch  604/1462   train_loss = 5.817\n",
      "Epoch   0 Batch  608/1462   train_loss = 5.880\n",
      "Epoch   0 Batch  612/1462   train_loss = 5.974\n",
      "Epoch   0 Batch  616/1462   train_loss = 6.460\n",
      "Epoch   0 Batch  620/1462   train_loss = 5.742\n",
      "Epoch   0 Batch  624/1462   train_loss = 5.414\n",
      "Epoch   0 Batch  628/1462   train_loss = 5.501\n",
      "Epoch   0 Batch  632/1462   train_loss = 5.318\n",
      "Epoch   0 Batch  636/1462   train_loss = 5.943\n",
      "Epoch   0 Batch  640/1462   train_loss = 6.111\n",
      "Epoch   0 Batch  644/1462   train_loss = 5.671\n",
      "Epoch   0 Batch  648/1462   train_loss = 5.774\n",
      "Epoch   0 Batch  652/1462   train_loss = 5.936\n",
      "Epoch   0 Batch  656/1462   train_loss = 5.878\n",
      "Epoch   0 Batch  660/1462   train_loss = 6.624\n",
      "Epoch   0 Batch  664/1462   train_loss = 6.038\n",
      "Epoch   0 Batch  668/1462   train_loss = 5.916\n",
      "Epoch   0 Batch  672/1462   train_loss = 6.129\n",
      "Epoch   0 Batch  676/1462   train_loss = 6.084\n",
      "Epoch   0 Batch  680/1462   train_loss = 5.958\n",
      "Epoch   0 Batch  684/1462   train_loss = 5.591\n",
      "Epoch   0 Batch  688/1462   train_loss = 5.909\n",
      "Epoch   0 Batch  692/1462   train_loss = 5.581\n",
      "Epoch   0 Batch  696/1462   train_loss = 6.914\n",
      "Epoch   0 Batch  700/1462   train_loss = 6.054\n",
      "Epoch   0 Batch  704/1462   train_loss = 6.679\n",
      "Epoch   0 Batch  708/1462   train_loss = 5.900\n",
      "Epoch   0 Batch  712/1462   train_loss = 5.871\n",
      "Epoch   0 Batch  716/1462   train_loss = 5.479\n",
      "Epoch   0 Batch  720/1462   train_loss = 5.676\n",
      "Epoch   0 Batch  724/1462   train_loss = 6.459\n",
      "Epoch   0 Batch  728/1462   train_loss = 6.186\n",
      "Epoch   0 Batch  732/1462   train_loss = 6.478\n",
      "Epoch   0 Batch  736/1462   train_loss = 5.145\n",
      "Epoch   0 Batch  740/1462   train_loss = 5.495\n",
      "Epoch   0 Batch  744/1462   train_loss = 5.508\n",
      "Epoch   0 Batch  748/1462   train_loss = 5.895\n",
      "Epoch   0 Batch  752/1462   train_loss = 6.115\n",
      "Epoch   0 Batch  756/1462   train_loss = 6.016\n",
      "Epoch   0 Batch  760/1462   train_loss = 6.241\n",
      "Epoch   0 Batch  764/1462   train_loss = 5.906\n",
      "Epoch   0 Batch  768/1462   train_loss = 5.389\n",
      "Epoch   0 Batch  772/1462   train_loss = 5.474\n",
      "Epoch   0 Batch  776/1462   train_loss = 6.097\n",
      "Epoch   0 Batch  780/1462   train_loss = 5.743\n",
      "Epoch   0 Batch  784/1462   train_loss = 5.806\n",
      "Epoch   0 Batch  788/1462   train_loss = 5.828\n",
      "Epoch   0 Batch  792/1462   train_loss = 5.555\n",
      "Epoch   0 Batch  796/1462   train_loss = 6.084\n",
      "Epoch   0 Batch  800/1462   train_loss = 6.235\n",
      "Epoch   0 Batch  804/1462   train_loss = 5.664\n",
      "Epoch   0 Batch  808/1462   train_loss = 5.699\n",
      "Epoch   0 Batch  812/1462   train_loss = 5.192\n",
      "Epoch   0 Batch  816/1462   train_loss = 5.785\n",
      "Epoch   0 Batch  820/1462   train_loss = 5.747\n",
      "Epoch   0 Batch  824/1462   train_loss = 6.205\n",
      "Epoch   0 Batch  828/1462   train_loss = 4.551\n",
      "Epoch   0 Batch  832/1462   train_loss = 6.001\n",
      "Epoch   0 Batch  836/1462   train_loss = 5.816\n",
      "Epoch   0 Batch  840/1462   train_loss = 6.005\n",
      "Epoch   0 Batch  844/1462   train_loss = 4.738\n",
      "Epoch   0 Batch  848/1462   train_loss = 5.989\n",
      "Epoch   0 Batch  852/1462   train_loss = 6.115\n",
      "Epoch   0 Batch  856/1462   train_loss = 6.184\n",
      "Epoch   0 Batch  860/1462   train_loss = 5.353\n",
      "Epoch   0 Batch  864/1462   train_loss = 5.482\n",
      "Epoch   0 Batch  868/1462   train_loss = 5.056\n",
      "Epoch   0 Batch  872/1462   train_loss = 6.345\n",
      "Epoch   0 Batch  876/1462   train_loss = 6.051\n",
      "Epoch   0 Batch  880/1462   train_loss = 5.868\n",
      "Epoch   0 Batch  884/1462   train_loss = 6.430\n",
      "Epoch   0 Batch  888/1462   train_loss = 5.685\n",
      "Epoch   0 Batch  892/1462   train_loss = 5.117\n",
      "Epoch   0 Batch  896/1462   train_loss = 5.452\n",
      "Epoch   0 Batch  900/1462   train_loss = 5.875\n",
      "Epoch   0 Batch  904/1462   train_loss = 3.822\n",
      "Epoch   0 Batch  908/1462   train_loss = 5.395\n",
      "Epoch   0 Batch  912/1462   train_loss = 4.901\n",
      "Epoch   0 Batch  916/1462   train_loss = 5.611\n",
      "Epoch   0 Batch  920/1462   train_loss = 6.170\n",
      "Epoch   0 Batch  924/1462   train_loss = 6.154\n",
      "Epoch   0 Batch  928/1462   train_loss = 5.346\n",
      "Epoch   0 Batch  932/1462   train_loss = 5.745\n",
      "Epoch   0 Batch  936/1462   train_loss = 5.824\n",
      "Epoch   0 Batch  940/1462   train_loss = 5.671\n",
      "Epoch   0 Batch  944/1462   train_loss = 5.239\n",
      "Epoch   0 Batch  948/1462   train_loss = 4.857\n",
      "Epoch   0 Batch  952/1462   train_loss = 5.634\n",
      "Epoch   0 Batch  956/1462   train_loss = 5.567\n",
      "Epoch   0 Batch  960/1462   train_loss = 5.952\n",
      "Epoch   0 Batch  964/1462   train_loss = 5.484\n",
      "Epoch   0 Batch  968/1462   train_loss = 4.669\n",
      "Epoch   0 Batch  972/1462   train_loss = 5.701\n",
      "Epoch   0 Batch  976/1462   train_loss = 5.834\n",
      "Epoch   0 Batch  980/1462   train_loss = 5.361\n",
      "Epoch   0 Batch  984/1462   train_loss = 5.352\n",
      "Epoch   0 Batch  988/1462   train_loss = 6.083\n",
      "Epoch   0 Batch  992/1462   train_loss = 5.992\n",
      "Epoch   0 Batch  996/1462   train_loss = 5.391\n",
      "Epoch   0 Batch 1000/1462   train_loss = 6.151\n",
      "Epoch   0 Batch 1004/1462   train_loss = 5.100\n",
      "Epoch   0 Batch 1008/1462   train_loss = 4.988\n",
      "Epoch   0 Batch 1012/1462   train_loss = 5.803\n",
      "Epoch   0 Batch 1016/1462   train_loss = 4.888\n",
      "Epoch   0 Batch 1020/1462   train_loss = 5.767\n",
      "Epoch   0 Batch 1024/1462   train_loss = 5.499\n",
      "Epoch   0 Batch 1028/1462   train_loss = 5.671\n",
      "Epoch   0 Batch 1032/1462   train_loss = 5.596\n",
      "Epoch   0 Batch 1036/1462   train_loss = 5.096\n",
      "Epoch   0 Batch 1040/1462   train_loss = 6.352\n",
      "Epoch   0 Batch 1044/1462   train_loss = 6.235\n",
      "Epoch   0 Batch 1048/1462   train_loss = 6.229\n",
      "Epoch   0 Batch 1052/1462   train_loss = 5.166\n",
      "Epoch   0 Batch 1056/1462   train_loss = 5.678\n",
      "Epoch   0 Batch 1060/1462   train_loss = 5.439\n",
      "Epoch   0 Batch 1064/1462   train_loss = 4.704\n",
      "Epoch   0 Batch 1068/1462   train_loss = 6.494\n",
      "Epoch   0 Batch 1072/1462   train_loss = 5.249\n",
      "Epoch   0 Batch 1076/1462   train_loss = 4.382\n",
      "Epoch   0 Batch 1080/1462   train_loss = 4.742\n",
      "Epoch   0 Batch 1084/1462   train_loss = 5.808\n",
      "Epoch   0 Batch 1088/1462   train_loss = 5.100\n",
      "Epoch   0 Batch 1092/1462   train_loss = 5.597\n",
      "Epoch   0 Batch 1096/1462   train_loss = 5.914\n",
      "Epoch   0 Batch 1100/1462   train_loss = 4.951\n",
      "Epoch   0 Batch 1104/1462   train_loss = 4.995\n",
      "Epoch   0 Batch 1108/1462   train_loss = 5.717\n",
      "Epoch   0 Batch 1112/1462   train_loss = 5.550\n",
      "Epoch   0 Batch 1116/1462   train_loss = 4.895\n",
      "Epoch   0 Batch 1120/1462   train_loss = 5.753\n",
      "Epoch   0 Batch 1124/1462   train_loss = 5.040\n",
      "Epoch   0 Batch 1128/1462   train_loss = 5.126\n",
      "Epoch   0 Batch 1132/1462   train_loss = 4.953\n",
      "Epoch   0 Batch 1136/1462   train_loss = 4.845\n",
      "Epoch   0 Batch 1140/1462   train_loss = 5.499\n",
      "Epoch   0 Batch 1144/1462   train_loss = 5.549\n",
      "Epoch   0 Batch 1148/1462   train_loss = 5.854\n",
      "Epoch   0 Batch 1152/1462   train_loss = 5.631\n",
      "Epoch   0 Batch 1156/1462   train_loss = 5.545\n",
      "Epoch   0 Batch 1160/1462   train_loss = 5.216\n",
      "Epoch   0 Batch 1164/1462   train_loss = 5.665\n",
      "Epoch   0 Batch 1168/1462   train_loss = 4.848\n",
      "Epoch   0 Batch 1172/1462   train_loss = 5.960\n",
      "Epoch   0 Batch 1176/1462   train_loss = 5.312\n",
      "Epoch   0 Batch 1180/1462   train_loss = 6.365\n",
      "Epoch   0 Batch 1184/1462   train_loss = 5.153\n",
      "Epoch   0 Batch 1188/1462   train_loss = 5.431\n",
      "Epoch   0 Batch 1192/1462   train_loss = 5.218\n",
      "Epoch   0 Batch 1196/1462   train_loss = 5.586\n",
      "Epoch   0 Batch 1200/1462   train_loss = 6.692\n",
      "Epoch   0 Batch 1204/1462   train_loss = 4.255\n",
      "Epoch   0 Batch 1208/1462   train_loss = 5.469\n",
      "Epoch   0 Batch 1212/1462   train_loss = 5.418\n",
      "Epoch   0 Batch 1216/1462   train_loss = 4.454\n",
      "Epoch   0 Batch 1220/1462   train_loss = 5.557\n",
      "Epoch   0 Batch 1224/1462   train_loss = 5.268\n",
      "Epoch   0 Batch 1228/1462   train_loss = 5.888\n",
      "Epoch   0 Batch 1232/1462   train_loss = 5.324\n",
      "Epoch   0 Batch 1236/1462   train_loss = 6.349\n",
      "Epoch   0 Batch 1240/1462   train_loss = 4.806\n",
      "Epoch   0 Batch 1244/1462   train_loss = 5.482\n",
      "Epoch   0 Batch 1248/1462   train_loss = 5.039\n",
      "Epoch   0 Batch 1252/1462   train_loss = 5.667\n",
      "Epoch   0 Batch 1256/1462   train_loss = 5.197\n",
      "Epoch   0 Batch 1260/1462   train_loss = 4.837\n",
      "Epoch   0 Batch 1264/1462   train_loss = 4.622\n",
      "Epoch   0 Batch 1268/1462   train_loss = 5.525\n",
      "Epoch   0 Batch 1272/1462   train_loss = 6.356\n",
      "Epoch   0 Batch 1276/1462   train_loss = 5.655\n",
      "Epoch   0 Batch 1280/1462   train_loss = 4.568\n",
      "Epoch   0 Batch 1284/1462   train_loss = 5.747\n",
      "Epoch   0 Batch 1288/1462   train_loss = 5.831\n",
      "Epoch   0 Batch 1292/1462   train_loss = 4.849\n",
      "Epoch   0 Batch 1296/1462   train_loss = 4.741\n",
      "Epoch   0 Batch 1300/1462   train_loss = 4.437\n",
      "Epoch   0 Batch 1304/1462   train_loss = 6.089\n",
      "Epoch   0 Batch 1308/1462   train_loss = 5.936\n",
      "Epoch   0 Batch 1312/1462   train_loss = 5.270\n",
      "Epoch   0 Batch 1316/1462   train_loss = 5.183\n",
      "Epoch   0 Batch 1320/1462   train_loss = 4.566\n",
      "Epoch   0 Batch 1324/1462   train_loss = 5.849\n",
      "Epoch   0 Batch 1328/1462   train_loss = 5.715\n",
      "Epoch   0 Batch 1332/1462   train_loss = 5.937\n",
      "Epoch   0 Batch 1336/1462   train_loss = 6.169\n",
      "Epoch   0 Batch 1340/1462   train_loss = 5.135\n",
      "Epoch   0 Batch 1344/1462   train_loss = 4.969\n",
      "Epoch   0 Batch 1348/1462   train_loss = 5.318\n",
      "Epoch   0 Batch 1352/1462   train_loss = 4.819\n",
      "Epoch   0 Batch 1356/1462   train_loss = 4.962\n",
      "Epoch   0 Batch 1360/1462   train_loss = 5.343\n",
      "Epoch   0 Batch 1364/1462   train_loss = 6.032\n",
      "Epoch   0 Batch 1368/1462   train_loss = 4.945\n",
      "Epoch   0 Batch 1372/1462   train_loss = 5.349\n",
      "Epoch   0 Batch 1376/1462   train_loss = 6.174\n",
      "Epoch   0 Batch 1380/1462   train_loss = 6.349\n",
      "Epoch   0 Batch 1384/1462   train_loss = 4.197\n",
      "Epoch   0 Batch 1388/1462   train_loss = 4.944\n",
      "Epoch   0 Batch 1392/1462   train_loss = 5.943\n",
      "Epoch   0 Batch 1396/1462   train_loss = 5.178\n",
      "Epoch   0 Batch 1400/1462   train_loss = 5.537\n",
      "Epoch   0 Batch 1404/1462   train_loss = 5.376\n",
      "Epoch   0 Batch 1408/1462   train_loss = 4.687\n",
      "Epoch   0 Batch 1412/1462   train_loss = 6.001\n",
      "Epoch   0 Batch 1416/1462   train_loss = 6.153\n",
      "Epoch   0 Batch 1420/1462   train_loss = 5.379\n",
      "Epoch   0 Batch 1424/1462   train_loss = 5.668\n",
      "Epoch   0 Batch 1428/1462   train_loss = 6.162\n",
      "Epoch   0 Batch 1432/1462   train_loss = 5.998\n",
      "Epoch   0 Batch 1436/1462   train_loss = 4.809\n",
      "Epoch   0 Batch 1440/1462   train_loss = 5.114\n",
      "Epoch   0 Batch 1444/1462   train_loss = 6.395\n",
      "Epoch   0 Batch 1448/1462   train_loss = 4.960\n",
      "Epoch   0 Batch 1452/1462   train_loss = 5.722\n",
      "Epoch   0 Batch 1456/1462   train_loss = 4.742\n",
      "Epoch   0 Batch 1460/1462   train_loss = 4.770\n",
      "Model Trained and Saved\n"
     ]
    }
   ],
   "source": [
    "\"\"\"\n",
    "DON'T MODIFY ANYTHING IN THIS CELL\n",
    "\"\"\"\n",
    "batches = get_batches(int_text, batch_size, seq_length)\n",
    "\n",
    "with tf.Session(graph=train_graph) as sess:\n",
    "    sess.run(tf.global_variables_initializer())\n",
    "\n",
    "    for epoch_i in range(num_epochs):\n",
    "        state = sess.run(initial_state, {input_text: batches[0][0]})\n",
    "\n",
    "        for batch_i, (x, y) in enumerate(batches):\n",
    "            feed = {\n",
    "                input_text: x,\n",
    "                targets: y,\n",
    "                initial_state: state,\n",
    "                lr: learning_rate}\n",
    "            train_loss, state, _ = sess.run([cost, final_state, train_op], feed)\n",
    "\n",
    "            # Show every <show_every_n_batches> batches\n",
    "            if (epoch_i * len(batches) + batch_i) % show_every_n_batches == 0:\n",
    "                print('Epoch {:>3} Batch {:>4}/{}   train_loss = {:.3f}'.format(\n",
    "                    epoch_i,\n",
    "                    batch_i,\n",
    "                    len(batches),\n",
    "                    train_loss))\n",
    "\n",
    "    # Save Model\n",
    "    saver = tf.train.Saver()\n",
    "    saver.save(sess, save_dir)\n",
    "    print('Model Trained and Saved')"
   ]
  },
  {
   "cell_type": "markdown",
   "metadata": {
    "deletable": true,
    "editable": true
   },
   "source": [
    "## Save Parameters\n",
    "Save `seq_length` and `save_dir` for generating a new TV script."
   ]
  },
  {
   "cell_type": "code",
   "execution_count": 129,
   "metadata": {
    "collapsed": false,
    "deletable": true,
    "editable": true
   },
   "outputs": [],
   "source": [
    "\"\"\"\n",
    "DON'T MODIFY ANYTHING IN THIS CELL\n",
    "\"\"\"\n",
    "# Save parameters for checkpoint\n",
    "helper.save_params((seq_length, save_dir))"
   ]
  },
  {
   "cell_type": "markdown",
   "metadata": {
    "deletable": true,
    "editable": true
   },
   "source": [
    "# Checkpoint"
   ]
  },
  {
   "cell_type": "code",
   "execution_count": 130,
   "metadata": {
    "collapsed": false,
    "deletable": true,
    "editable": true
   },
   "outputs": [],
   "source": [
    "\"\"\"\n",
    "DON'T MODIFY ANYTHING IN THIS CELL\n",
    "\"\"\"\n",
    "import tensorflow as tf\n",
    "import numpy as np\n",
    "import helper\n",
    "import problem_unittests as tests\n",
    "\n",
    "_, vocab_to_int, int_to_vocab, token_dict = helper.load_preprocess()\n",
    "seq_length, load_dir = helper.load_params()"
   ]
  },
  {
   "cell_type": "markdown",
   "metadata": {
    "deletable": true,
    "editable": true
   },
   "source": [
    "## Implement Generate Functions\n",
    "### Get Tensors\n",
    "Get tensors from `loaded_graph` using the function [`get_tensor_by_name()`](https://www.tensorflow.org/api_docs/python/tf/Graph#get_tensor_by_name).  Get the tensors using the following names:\n",
    "- \"input:0\"\n",
    "- \"initial_state:0\"\n",
    "- \"final_state:0\"\n",
    "- \"probs:0\"\n",
    "\n",
    "Return the tensors in the following tuple `(InputTensor, InitialStateTensor, FinalStateTensor, ProbsTensor)` "
   ]
  },
  {
   "cell_type": "code",
   "execution_count": 131,
   "metadata": {
    "collapsed": false,
    "deletable": true,
    "editable": true
   },
   "outputs": [
    {
     "name": "stdout",
     "output_type": "stream",
     "text": [
      "Tests Passed\n"
     ]
    }
   ],
   "source": [
    "def get_tensors(loaded_graph):\n",
    "    \"\"\"\n",
    "    Get input, initial state, final state, and probabilities tensor from <loaded_graph>\n",
    "    :param loaded_graph: TensorFlow graph loaded from file\n",
    "    :return: Tuple (InputTensor, InitialStateTensor, FinalStateTensor, ProbsTensor)\n",
    "    \"\"\"\n",
    "    # TODO: Implement Function\n",
    "    #with tf.Session(graph=loaded_grap)\n",
    "    #session_graph = sess.run(loaded_graph)\n",
    "    InputTensor = loaded_graph.get_tensor_by_name(\"input:0\")\n",
    "    InitialStateTensor = loaded_graph.get_tensor_by_name(\"initial_state:0\")\n",
    "    finalStateTensor = loaded_graph.get_tensor_by_name(\"final_state:0\")\n",
    "    ProbsTensor = loaded_graph.get_tensor_by_name(\"probs:0\")\n",
    "    return (InputTensor, InitialStateTensor, finalStateTensor, ProbsTensor)\n",
    "\n",
    "\n",
    "\"\"\"\n",
    "DON'T MODIFY ANYTHING IN THIS CELL THAT IS BELOW THIS LINE\n",
    "\"\"\"\n",
    "tests.test_get_tensors(get_tensors)"
   ]
  },
  {
   "cell_type": "markdown",
   "metadata": {
    "deletable": true,
    "editable": true
   },
   "source": [
    "### Choose Word\n",
    "Implement the `pick_word()` function to select the next word using `probabilities`."
   ]
  },
  {
   "cell_type": "code",
   "execution_count": 149,
   "metadata": {
    "collapsed": false,
    "deletable": true,
    "editable": true
   },
   "outputs": [
    {
     "name": "stdout",
     "output_type": "stream",
     "text": [
      "dict_values(['this', 'is', 'a', 'test'])\n",
      "test\n",
      "Tests Passed\n"
     ]
    }
   ],
   "source": [
    "def pick_word(probabilities, int_to_vocab):\n",
    "    \"\"\"\n",
    "    Pick the next word in the generated text\n",
    "    :param probabilities: Probabilites of the next word\n",
    "    :param int_to_vocab: Dictionary of word ids as the keys and words as the values\n",
    "    :return: String of the predicted word\n",
    "    \"\"\"\n",
    "    # TODO: Implement Function\n",
    "    print (int_to_vocab.values())\n",
    "    print (np.random.choice(list(int_to_vocab.values()),1, list(probabilities))[0])\n",
    "    return np.random.choice(list(int_to_vocab.values()),1, list(probabilities))[0]\n",
    "\n",
    "\n",
    "\"\"\"\n",
    "DON'T MODIFY ANYTHING IN THIS CELL THAT IS BELOW THIS LINE\n",
    "\"\"\"\n",
    "tests.test_pick_word(pick_word)"
   ]
  },
  {
   "cell_type": "markdown",
   "metadata": {
    "deletable": true,
    "editable": true
   },
   "source": [
    "## Generate TV Script\n",
    "This will generate the TV script for you.  Set `gen_length` to the length of TV script you want to generate."
   ]
  },
  {
   "cell_type": "code",
   "execution_count": 150,
   "metadata": {
    "collapsed": false,
    "deletable": true,
    "editable": true
   },
   "outputs": [
    {
     "ename": "KeyError",
     "evalue": "'moe_szyslak:'",
     "output_type": "error",
     "traceback": [
      "\u001b[0;31m---------------------------------------------------------------------------\u001b[0m",
      "\u001b[0;31mKeyError\u001b[0m                                  Traceback (most recent call last)",
      "\u001b[0;32m<ipython-input-150-1db8abe06e71>\u001b[0m in \u001b[0;36m<module>\u001b[0;34m()\u001b[0m\n\u001b[1;32m     22\u001b[0m     \u001b[0;32mfor\u001b[0m \u001b[0mn\u001b[0m \u001b[0;32min\u001b[0m \u001b[0mrange\u001b[0m\u001b[0;34m(\u001b[0m\u001b[0mgen_length\u001b[0m\u001b[0;34m)\u001b[0m\u001b[0;34m:\u001b[0m\u001b[0;34m\u001b[0m\u001b[0m\n\u001b[1;32m     23\u001b[0m         \u001b[0;31m# Dynamic Input\u001b[0m\u001b[0;34m\u001b[0m\u001b[0;34m\u001b[0m\u001b[0m\n\u001b[0;32m---> 24\u001b[0;31m         \u001b[0mdyn_input\u001b[0m \u001b[0;34m=\u001b[0m \u001b[0;34m[\u001b[0m\u001b[0;34m[\u001b[0m\u001b[0mvocab_to_int\u001b[0m\u001b[0;34m[\u001b[0m\u001b[0mword\u001b[0m\u001b[0;34m]\u001b[0m \u001b[0;32mfor\u001b[0m \u001b[0mword\u001b[0m \u001b[0;32min\u001b[0m \u001b[0mgen_sentences\u001b[0m\u001b[0;34m[\u001b[0m\u001b[0;34m-\u001b[0m\u001b[0mseq_length\u001b[0m\u001b[0;34m:\u001b[0m\u001b[0;34m]\u001b[0m\u001b[0;34m]\u001b[0m\u001b[0;34m]\u001b[0m\u001b[0;34m\u001b[0m\u001b[0m\n\u001b[0m\u001b[1;32m     25\u001b[0m         \u001b[0mdyn_seq_length\u001b[0m \u001b[0;34m=\u001b[0m \u001b[0mlen\u001b[0m\u001b[0;34m(\u001b[0m\u001b[0mdyn_input\u001b[0m\u001b[0;34m[\u001b[0m\u001b[0;36m0\u001b[0m\u001b[0;34m]\u001b[0m\u001b[0;34m)\u001b[0m\u001b[0;34m\u001b[0m\u001b[0m\n\u001b[1;32m     26\u001b[0m \u001b[0;34m\u001b[0m\u001b[0m\n",
      "\u001b[0;32m<ipython-input-150-1db8abe06e71>\u001b[0m in \u001b[0;36m<listcomp>\u001b[0;34m(.0)\u001b[0m\n\u001b[1;32m     22\u001b[0m     \u001b[0;32mfor\u001b[0m \u001b[0mn\u001b[0m \u001b[0;32min\u001b[0m \u001b[0mrange\u001b[0m\u001b[0;34m(\u001b[0m\u001b[0mgen_length\u001b[0m\u001b[0;34m)\u001b[0m\u001b[0;34m:\u001b[0m\u001b[0;34m\u001b[0m\u001b[0m\n\u001b[1;32m     23\u001b[0m         \u001b[0;31m# Dynamic Input\u001b[0m\u001b[0;34m\u001b[0m\u001b[0;34m\u001b[0m\u001b[0m\n\u001b[0;32m---> 24\u001b[0;31m         \u001b[0mdyn_input\u001b[0m \u001b[0;34m=\u001b[0m \u001b[0;34m[\u001b[0m\u001b[0;34m[\u001b[0m\u001b[0mvocab_to_int\u001b[0m\u001b[0;34m[\u001b[0m\u001b[0mword\u001b[0m\u001b[0;34m]\u001b[0m \u001b[0;32mfor\u001b[0m \u001b[0mword\u001b[0m \u001b[0;32min\u001b[0m \u001b[0mgen_sentences\u001b[0m\u001b[0;34m[\u001b[0m\u001b[0;34m-\u001b[0m\u001b[0mseq_length\u001b[0m\u001b[0;34m:\u001b[0m\u001b[0;34m]\u001b[0m\u001b[0;34m]\u001b[0m\u001b[0;34m]\u001b[0m\u001b[0;34m\u001b[0m\u001b[0m\n\u001b[0m\u001b[1;32m     25\u001b[0m         \u001b[0mdyn_seq_length\u001b[0m \u001b[0;34m=\u001b[0m \u001b[0mlen\u001b[0m\u001b[0;34m(\u001b[0m\u001b[0mdyn_input\u001b[0m\u001b[0;34m[\u001b[0m\u001b[0;36m0\u001b[0m\u001b[0;34m]\u001b[0m\u001b[0;34m)\u001b[0m\u001b[0;34m\u001b[0m\u001b[0m\n\u001b[1;32m     26\u001b[0m \u001b[0;34m\u001b[0m\u001b[0m\n",
      "\u001b[0;31mKeyError\u001b[0m: 'moe_szyslak:'"
     ]
    }
   ],
   "source": [
    "gen_length = 200\n",
    "# homer_simpson, moe_szyslak, or Barney_Gumble\n",
    "prime_word = 'moe_szyslak'\n",
    "\n",
    "\"\"\"\n",
    "DON'T MODIFY ANYTHING IN THIS CELL THAT IS BELOW THIS LINE\n",
    "\"\"\"\n",
    "loaded_graph = tf.Graph()\n",
    "with tf.Session(graph=loaded_graph) as sess:\n",
    "    # Load saved model\n",
    "    loader = tf.train.import_meta_graph(load_dir + '.meta')\n",
    "    loader.restore(sess, load_dir)\n",
    "\n",
    "    # Get Tensors from loaded model\n",
    "    input_text, initial_state, final_state, probs = get_tensors(loaded_graph)\n",
    "\n",
    "    # Sentences generation setup\n",
    "    gen_sentences = [prime_word + ':']\n",
    "    prev_state = sess.run(initial_state, {input_text: np.array([[1]])})\n",
    "\n",
    "    # Generate sentences\n",
    "    for n in range(gen_length):\n",
    "        # Dynamic Input\n",
    "        dyn_input = [[vocab_to_int[word] for word in gen_sentences[-seq_length:]]]\n",
    "        dyn_seq_length = len(dyn_input[0])\n",
    "\n",
    "        # Get Prediction\n",
    "        probabilities, prev_state = sess.run(\n",
    "            [probs, final_state],\n",
    "            {input_text: dyn_input, initial_state: prev_state})\n",
    "        \n",
    "        pred_word = pick_word(probabilities[dyn_seq_length-1], int_to_vocab)\n",
    "\n",
    "        gen_sentences.append(pred_word)\n",
    "    \n",
    "    # Remove tokens\n",
    "    tv_script = ' '.join(gen_sentences)\n",
    "    for key, token in token_dict.items():\n",
    "        ending = ' ' if key in ['\\n', '(', '\"'] else ''\n",
    "        tv_script = tv_script.replace(' ' + token.lower(), key)\n",
    "    tv_script = tv_script.replace('\\n ', '\\n')\n",
    "    tv_script = tv_script.replace('( ', '(')\n",
    "        \n",
    "    print(tv_script)"
   ]
  },
  {
   "cell_type": "markdown",
   "metadata": {
    "deletable": true,
    "editable": true
   },
   "source": [
    "# The TV Script is Nonsensical\n",
    "It's ok if the TV script doesn't make any sense.  We trained on less than a megabyte of text.  In order to get good results, you'll have to use a smaller vocabulary or get more data.  Luckly there's more data!  As we mentioned in the begging of this project, this is a subset of [another dataset](https://www.kaggle.com/wcukierski/the-simpsons-by-the-data).  We didn't have you train on all the data, because that would take too long.  However, you are free to train your neural network on all the data.  After you complete the project, of course.\n",
    "# Submitting This Project\n",
    "When submitting this project, make sure to run all the cells before saving the notebook. Save the notebook file as \"dlnd_tv_script_generation.ipynb\" and save it as a HTML file under \"File\" -> \"Download as\". Include the \"helper.py\" and \"problem_unittests.py\" files in your submission."
   ]
  }
 ],
 "metadata": {
  "kernelspec": {
   "display_name": "Python 3",
   "language": "python",
   "name": "python3"
  },
  "language_info": {
   "codemirror_mode": {
    "name": "ipython",
    "version": 3
   },
   "file_extension": ".py",
   "mimetype": "text/x-python",
   "name": "python",
   "nbconvert_exporter": "python",
   "pygments_lexer": "ipython3",
   "version": "3.5.2"
  },
  "widgets": {
   "state": {},
   "version": "1.1.2"
  }
 },
 "nbformat": 4,
 "nbformat_minor": 0
}
