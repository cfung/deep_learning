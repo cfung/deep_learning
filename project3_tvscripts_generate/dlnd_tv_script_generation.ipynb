{
 "cells": [
  {
   "cell_type": "markdown",
   "metadata": {
    "deletable": true,
    "editable": true
   },
   "source": [
    "# TV Script Generation\n",
    "In this project, you'll generate your own [Simpsons](https://en.wikipedia.org/wiki/The_Simpsons) TV scripts using RNNs.  You'll be using part of the [Simpsons dataset](https://www.kaggle.com/wcukierski/the-simpsons-by-the-data) of scripts from 27 seasons.  The Neural Network you'll build will generate a new TV script for a scene at [Moe's Tavern](https://simpsonswiki.com/wiki/Moe's_Tavern).\n",
    "## Get the Data\n",
    "The data is already provided for you.  You'll be using a subset of the original dataset.  It consists of only the scenes in Moe's Tavern.  This doesn't include other versions of the tavern, like \"Moe's Cavern\", \"Flaming Moe's\", \"Uncle Moe's Family Feed-Bag\", etc.."
   ]
  },
  {
   "cell_type": "code",
   "execution_count": 1,
   "metadata": {
    "collapsed": false,
    "deletable": true,
    "editable": true
   },
   "outputs": [],
   "source": [
    "\"\"\"\n",
    "DON'T MODIFY ANYTHING IN THIS CELL\n",
    "\"\"\"\n",
    "import helper\n",
    "\n",
    "data_dir = './data/simpsons/moes_tavern_lines.txt'\n",
    "text = helper.load_data(data_dir)\n",
    "# Ignore notice, since we don't use it for analysing the data\n",
    "text = text[81:]"
   ]
  },
  {
   "cell_type": "markdown",
   "metadata": {
    "deletable": true,
    "editable": true
   },
   "source": [
    "## Explore the Data\n",
    "Play around with `view_sentence_range` to view different parts of the data."
   ]
  },
  {
   "cell_type": "code",
   "execution_count": 2,
   "metadata": {
    "collapsed": false,
    "deletable": true,
    "editable": true
   },
   "outputs": [
    {
     "name": "stdout",
     "output_type": "stream",
     "text": [
      "Dataset Stats\n",
      "Roughly the number of unique words: 11492\n",
      "Number of scenes: 262\n",
      "Average number of sentences in each scene: 15.248091603053435\n",
      "Number of lines: 4257\n",
      "Average number of words in each line: 11.50434578341555\n",
      "\n",
      "The sentences 0 to 10:\n",
      "Moe_Szyslak: (INTO PHONE) Moe's Tavern. Where the elite meet to drink.\n",
      "Bart_Simpson: Eh, yeah, hello, is Mike there? Last name, Rotch.\n",
      "Moe_Szyslak: (INTO PHONE) Hold on, I'll check. (TO BARFLIES) Mike Rotch. Mike Rotch. Hey, has anybody seen Mike Rotch, lately?\n",
      "Moe_Szyslak: (INTO PHONE) Listen you little puke. One of these days I'm gonna catch you, and I'm gonna carve my name on your back with an ice pick.\n",
      "Moe_Szyslak: What's the matter Homer? You're not your normal effervescent self.\n",
      "Homer_Simpson: I got my problems, Moe. Give me another one.\n",
      "Moe_Szyslak: Homer, hey, you should not drink to forget your problems.\n",
      "Barney_Gumble: Yeah, you should only drink to enhance your social skills.\n",
      "\n",
      "\n"
     ]
    }
   ],
   "source": [
    "view_sentence_range = (0, 10)\n",
    "\n",
    "\"\"\"\n",
    "DON'T MODIFY ANYTHING IN THIS CELL\n",
    "\"\"\"\n",
    "import numpy as np\n",
    "\n",
    "print('Dataset Stats')\n",
    "print('Roughly the number of unique words: {}'.format(len({word: None for word in text.split()})))\n",
    "scenes = text.split('\\n\\n')\n",
    "print('Number of scenes: {}'.format(len(scenes)))\n",
    "sentence_count_scene = [scene.count('\\n') for scene in scenes]\n",
    "print('Average number of sentences in each scene: {}'.format(np.average(sentence_count_scene)))\n",
    "\n",
    "sentences = [sentence for scene in scenes for sentence in scene.split('\\n')]\n",
    "print('Number of lines: {}'.format(len(sentences)))\n",
    "word_count_sentence = [len(sentence.split()) for sentence in sentences]\n",
    "print('Average number of words in each line: {}'.format(np.average(word_count_sentence)))\n",
    "\n",
    "print()\n",
    "print('The sentences {} to {}:'.format(*view_sentence_range))\n",
    "print('\\n'.join(text.split('\\n')[view_sentence_range[0]:view_sentence_range[1]]))"
   ]
  },
  {
   "cell_type": "markdown",
   "metadata": {
    "deletable": true,
    "editable": true
   },
   "source": [
    "## Implement Preprocessing Functions\n",
    "The first thing to do to any dataset is preprocessing.  Implement the following preprocessing functions below:\n",
    "- Lookup Table\n",
    "- Tokenize Punctuation\n",
    "\n",
    "### Lookup Table\n",
    "To create a word embedding, you first need to transform the words to ids.  In this function, create two dictionaries:\n",
    "- Dictionary to go from the words to an id, we'll call `vocab_to_int`\n",
    "- Dictionary to go from the id to word, we'll call `int_to_vocab`\n",
    "\n",
    "Return these dictionaries in the following tuple `(vocab_to_int, int_to_vocab)`"
   ]
  },
  {
   "cell_type": "code",
   "execution_count": 4,
   "metadata": {
    "collapsed": false,
    "deletable": true,
    "editable": true
   },
   "outputs": [
    {
     "name": "stdout",
     "output_type": "stream",
     "text": [
      "{'whats': 35, 'tavern': 62, 'back': 0, 'elite': 1, 'there': 3, 'hello': 5, 'where': 6, 'meet': 2, 'eh': 7, 'has': 10, 'another': 68, 'lately': 11, 'check': 12, 'drink': 13, 'hold': 14, 'homer': 17, 'little': 16, 'days': 18, 'and': 20, 'my': 21, 'enhance': 29, 'matter': 22, 'bart_simpson': 23, 'me': 25, 'you': 55, 'problems': 27, 'last': 15, 'seen': 30, \"i'll\": 31, 'gonna': 32, 'yeah': 33, 'one': 34, 'moe': 58, 'an': 4, 'with': 36, 'your': 37, 'pick': 40, 'only': 41, 'mike': 42, 'to': 19, 'listen': 38, 'hey': 43, 'is': 44, 'homer_simpson': 46, 'name': 45, 'forget': 47, 'catch': 48, 'got': 50, 'barney_gumble': 51, \"you're\": 52, 'carve': 53, 'not': 49, 'anybody': 54, \"moe's\": 24, \"i'm\": 56, 'the': 57, 'self': 8, 'give': 59, 'of': 39, 'these': 67, 'puke': 60, 'effervescent': 63, 'skills': 64, 'social': 65, 'moe_szyslak': 66, 'ice': 61, 'on': 69, 'normal': 28, 'i': 9, 'should': 26, 'rotch': 70}\n",
      "******\n",
      "{0: 'back', 1: 'elite', 2: 'meet', 3: 'there', 4: 'an', 5: 'hello', 6: 'where', 7: 'eh', 8: 'self', 9: 'i', 10: 'has', 11: 'lately', 12: 'check', 13: 'drink', 14: 'hold', 15: 'last', 16: 'little', 17: 'homer', 18: 'days', 19: 'to', 20: 'and', 21: 'my', 22: 'matter', 23: 'bart_simpson', 24: \"moe's\", 25: 'me', 26: 'should', 27: 'problems', 28: 'normal', 29: 'enhance', 30: 'seen', 31: \"i'll\", 32: 'gonna', 33: 'yeah', 34: 'one', 35: 'whats', 36: 'with', 37: 'your', 38: 'listen', 39: 'of', 40: 'pick', 41: 'only', 42: 'mike', 43: 'hey', 44: 'is', 45: 'name', 46: 'homer_simpson', 47: 'forget', 48: 'catch', 49: 'not', 50: 'got', 51: 'barney_gumble', 52: \"you're\", 53: 'carve', 54: 'anybody', 55: 'you', 56: \"i'm\", 57: 'the', 58: 'moe', 59: 'give', 60: 'puke', 61: 'ice', 62: 'tavern', 63: 'effervescent', 64: 'skills', 65: 'social', 66: 'moe_szyslak', 67: 'these', 68: 'another', 69: 'on', 70: 'rotch'}\n",
      "Tests Passed\n"
     ]
    }
   ],
   "source": [
    "import numpy as np\n",
    "import problem_unittests as tests\n",
    "\n",
    "def create_lookup_tables(text):\n",
    "    \"\"\"\n",
    "    Create lookup tables for vocabulary\n",
    "    :param text: The text of tv scripts split into words\n",
    "    :return: A tuple of dicts (vocab_to_int, int_to_vocab)\n",
    "    \"\"\"\n",
    "    # TODO: Implement Function\n",
    "    # print (text)\n",
    "    vocab_to_int = {}\n",
    "    int_to_vocab = {}\n",
    "    vocab = set(text)\n",
    "    vocab_to_int = {c: i for i, c in enumerate(vocab)}\n",
    "    int_to_vocab = dict(enumerate(vocab))\n",
    "    \n",
    "    #vocab_to_int = {word: i for word, i in enumerate(vocab)}\n",
    "    #int_to_vocab = {i: word for word, i in enumerate(vocab)}\n",
    "    print (vocab_to_int)\n",
    "    print (\"******\")\n",
    "    print (int_to_vocab)\n",
    "    return (vocab_to_int, int_to_vocab)\n",
    "    #return None, None\n",
    "\n",
    "\n",
    "\"\"\"\n",
    "DON'T MODIFY ANYTHING IN THIS CELL THAT IS BELOW THIS LINE\n",
    "\"\"\"\n",
    "tests.test_create_lookup_tables(create_lookup_tables)"
   ]
  },
  {
   "cell_type": "markdown",
   "metadata": {
    "deletable": true,
    "editable": true
   },
   "source": [
    "### Tokenize Punctuation\n",
    "We'll be splitting the script into a word array using spaces as delimiters.  However, punctuations like periods and exclamation marks make it hard for the neural network to distinguish between the word \"bye\" and \"bye!\".\n",
    "\n",
    "Implement the function `token_lookup` to return a dict that will be used to tokenize symbols like \"!\" into \"||Exclamation_Mark||\".  Create a dictionary for the following symbols where the symbol is the key and value is the token:\n",
    "- Period ( . )\n",
    "- Comma ( , )\n",
    "- Quotation Mark ( \" )\n",
    "- Semicolon ( ; )\n",
    "- Exclamation mark ( ! )\n",
    "- Question mark ( ? )\n",
    "- Left Parentheses ( ( )\n",
    "- Right Parentheses ( ) )\n",
    "- Dash ( -- )\n",
    "- Return ( \\n )\n",
    "\n",
    "This dictionary will be used to token the symbols and add the delimiter (space) around it.  This separates the symbols as it's own word, making it easier for the neural network to predict on the next word. Make sure you don't use a token that could be confused as a word. Instead of using the token \"dash\", try using something like \"||dash||\"."
   ]
  },
  {
   "cell_type": "code",
   "execution_count": 5,
   "metadata": {
    "collapsed": false,
    "deletable": true,
    "editable": true
   },
   "outputs": [
    {
     "name": "stdout",
     "output_type": "stream",
     "text": [
      "Tests Passed\n"
     ]
    }
   ],
   "source": [
    "def token_lookup():\n",
    "    \"\"\"\n",
    "    Generate a dict to turn punctuation into a token.\n",
    "    :return: Tokenize dictionary where the key is the punctuation and the value is the token\n",
    "    \"\"\"\n",
    "    # TODO: Implement Function\n",
    "    symbol_dict = {\".\":\"||Period||\", \",\":\"||Comma||\", \";\":\"Semicolon\", \"!\":\"||Exclamation_Mark||\",\n",
    "                  \"?\": \"Question_Mark\", \"(\": \"||Left_Parentheses||\", \")\": \"||Right_Parentheses||\",\n",
    "                  \"--\":\"||Dash||\", \"\\n\":\"||Return||\",\"\\\"\":\"||Quotation_Mark||\", \":\":\"||colon||\"}\n",
    "    return symbol_dict\n",
    "\n",
    "\"\"\"\n",
    "DON'T MODIFY ANYTHING IN THIS CELL THAT IS BELOW THIS LINE\n",
    "\"\"\"\n",
    "tests.test_tokenize(token_lookup)"
   ]
  },
  {
   "cell_type": "markdown",
   "metadata": {
    "deletable": true,
    "editable": true
   },
   "source": [
    "## Preprocess all the data and save it\n",
    "Running the code cell below will preprocess all the data and save it to file."
   ]
  },
  {
   "cell_type": "code",
   "execution_count": 6,
   "metadata": {
    "collapsed": false,
    "deletable": true,
    "editable": true
   },
   "outputs": [
    {
     "name": "stdout",
     "output_type": "stream",
     "text": [
      "{'colorado': 0, 'yours': 1, 'sad': 2, 'flag': 3, \"renee's\": 4120, 'encouraging': 4, 'danny': 5553, 'army': 3371, 'selling': 5, 'ribbon': 6, 'chunk': 7, 'weirder': 3372, 'mags': 3373, 'exasperated': 3374, 'survive': 3375, 'mostrar': 4475, 'sector': 8, 'accounta': 3377, 'fill': 6552, 'illustrates': 9, 'grave': 2231, 'strolled': 11, 'practically': 3380, 'waist': 4545, 'how': 3381, 'sitcom': 12, 'home': 3382, 'needs': 3383, 'honest': 3384, 'ones': 13, 'walther': 14, 'right-handed': 3386, 'thinking': 15, 'loaded': 16, 'pas': 3387, 'what': 5293, 'jukebox_record': 17, 'unhappy': 1356, 'pink': 3388, 'bar-boy': 3389, 'sub-monkeys': 18, 'real': 19, 'beanbag': 21, 'abolish': 6588, 'drove': 22, 'blossoming': 3390, '$42': 3391, 'brightening': 3392, 'family': 23, 'chicks': 24, 'perverted': 4477, 'pretend': 3394, 'writer': 3395, 'portfolium': 25, 'borrow': 3396, 'deep': 26, 'joey': 3397, 'ing': 3398, 'drives': 3399, 'fletcherism': 3400, 'matter-of-fact': 27, 'dashes': 28, 'halvsies': 3402, 'contractors': 3403, 'caper': 3404, 'cleaner': 29, \"bein'\": 3406, 'immiggants': 30, \"kearney's_dad\": 2795, 'marriage': 31, 'priority': 32, 'george': 33, 'delays': 3407, 'vegas': 34, 'ninety-nine': 3409, 'backbone': 5035, 'rented': 3410, 'only': 35, 'jar': 3411, 'fears': 3412, 'hoagie': 37, 'mariah': 3926, 'wade_boggs': 3413, 'theory': 3416, 'forgive': 3415, 'scratching': 38, 'met': 39, 'testing': 40, \"industry's\": 1126, 'dumbass': 41, 'appealing': 3418, 'disgracefully': 3419, 'goodnight': 42, 'tasty': 1127, 'lady-free': 44, 'cummerbund': 45, 'right': 46, 'combines': 557, 'philip': 3420, 'noosey': 47, 'satisfaction': 48, \"squeezin'\": 49, \"weren't\": 50, 'oof': 51, 'zeal': 52, '||comma||': 53, 'homunculus': 3424, 'touch': 5036, 'uniforms': 54, 'predecessor': 5622, 'sleigh-horses': 6182, \"burnin'\": 55, 'sticking-place': 56, 'offended': 3426, 'actress': 3427, 'deadly': 57, 'weird': 3429, 'latour': 58, 'whaddya': 3430, 'ticket': 5039, 'a-lug': 563, 'frustrated': 59, 'lazy': 3433, 'focus': 3094, 'gulps': 564, 'priceless': 60, 'moe-lennium': 61, 'hey': 62, 'juan': 63, '-ry': 64, 'eternity': 65, 'der': 3436, 'reminds': 66, \"didn't\": 3438, 'daughter': 67, 'switched': 70, 'perplexed': 3441, 'dash': 71, 'visas': 5941, 'patented': 3442, 'jernt': 3444, 'solo': 72, 'whistling': 73, 'loser': 74, 'fantastic': 292, 'folk': 3445, 'cavern': 3446, 'dee-fense': 3447, 'planted': 75, 'sign': 3448, 'bull': 76, 'moesy': 77, 'gangrene': 4485, 'clothes': 78, 'klown': 3449, 'prettiest': 79, 'examines': 3450, 'appearance-altering': 3451, 'procedure': 80, 'brave': 3376, 'chill': 3453, 'had': 3454, 'fuzzlepitch': 3455, 'dentist': 3456, 'pigs': 2689, \"rustlin'\": 81, 'cutest': 2803, 'yap': 1282, 'eats': 82, 'omigod': 83, 'mike_mills': 84, 'room': 3934, 'lodge': 85, 'results': 1687, 'bronco': 86, 'thirteen': 87, 'sizes': 3460, 'strong': 3461, 'brooklyn': 2247, 'spelling': 4596, 'cajun': 3462, 'bam': 88, 'al_gore': 10, 'owner': 3463, 'bannister': 3465, 'hollye': 3466, 'english': 3467, 'nascar': 90, 'dumbbell': 6186, 'proud': 91, 'proper': 92, 'neighbor': 93, 'reader': 94, 'd': 3468, 'emotional': 95, 'jer': 3469, \"barney's\": 96, 're-al': 3470, 'y-you': 3471, 'including': 97, 'job': 3472, 'reflected': 3938, 'knock-up': 3473, 'semicolon': 98, 'frenchman': 99, 'badges': 3474, 'aah': 3475, 'sponsor': 2249, 'divine': 6460, 'extinguishers': 3476, 'snapping': 101, 'dreary': 102, 'attach': 3477, 'babar': 3478, 'disappointment': 3479, 'intelligent': 103, 'choked-up': 104, 'peter_buck': 3480, 'completely': 3482, 'non-american': 3483, 'democracy': 1263, 'witty': 3484, 'crap': 105, 'street': 3485, 'wangs': 5629, 'wasting': 106, 'thousands': 107, 'mess': 3385, \"mtv's\": 108, 'my-y-y-y-y-y': 3488, 'to': 109, 'quit': 110, 'fox_mulder': 111, \"must've\": 112, 'material': 113, 'wizard': 5050, 'regulars': 114, 'dilemma': 3490, 'mistresses': 3491, 'expert': 115, 'direction': 116, 'roach': 1691, \"lenny's\": 5631, 'superhero': 117, 'reliable': 119, 'shipment': 3493, 'broke': 120, 'actors': 576, 'emergency': 5384, 'swishkabobs': 122, 'ohmygod': 3494, 'presentable': 123, 'conspiracy': 1136, 'transmission': 5052, 'stumble': 124, \"spiffin'\": 125, 'remember': 3497, 'own': 3499, 'cerebral': 3504, 'enjoy': 3501, \"s'cuse\": 3503, 'omit': 6444, 'couch': 2812, 'she-pu': 3505, 'bike': 3506, 'glowers': 126, 'edgy': 127, 'drive': 128, 'fishing': 131, \"here's\": 5056, 'cow': 3509, 'telegraph': 3510, 'barber': 3511, 'duffed': 132, 'hits': 133, 'wang': 134, 'mini-beret': 136, 'pip': 137, \"callin'\": 138, 'photos': 139, 'said': 3513, 'week': 140, 'darn': 141, 'researching': 2259, 'burnside': 1139, 'disturbance': 3515, 'despite': 4500, \"cuckold's\": 142, 'itchy': 143, 'example': 3517, 'urban': 3518, 'worth': 2260, 'tomatoes': 3520, 'wraps': 20, 'prices': 3521, 'seminar': 144, 'tearfully': 145, 'astrid': 3522, 'highest': 3523, 'moustache': 3525, 'looting': 146, 'twelveball': 147, 'adrift': 3526, 'tinkle': 3527, 'gone': 3528, 'coined': 3529, 'crew': 3530, 'hitchhike': 3531, 'customer': 148, 'explanation': 149, 'nursemaid': 150, 'beached': 206, 'result': 3532, 'crowds': 3533, 'forty-seven': 151, 'betcha': 3534, 'monroe': 3535, 'carlson': 3536, 'supervising': 3537, 'refinanced': 3538, 'impending': 152, 'jubilant': 3539, 'all-star': 580, 'true': 3540, 'chief': 3541, 'short': 3542, 'tabooger': 5635, 'faded': 153, 'beard': 1142, \"what'd\": 3543, 'grenky': 6565, 'speak': 3544, 'ralph_wiggum': 3545, 'based': 3546, 'shall': 154, 'scratcher': 3547, 'carve': 6191, 'teacup': 581, 'propose': 156, 'gluten': 3548, 'yourse': 157, 'three-man': 3550, \"we've\": 158, 'bleak': 159, 'shot': 160, \"cleanin'\": 161, 'hardy': 162, 'releases': 163, 'hah': 5639, 'fast': 164, \"blowin'\": 3553, 'warning': 3393, 'blob': 165, 'cocks': 3554, 'cocking': 3555, 'sued': 3557, 'wrestle': 3558, 'with': 584, 'grandmother': 3559, 'perhaps': 166, 'pledge': 167, 'beach': 2232, 'gestated': 168, 'german': 3560, 'bit': 169, 'product': 5843, 'hawaii': 3562, 'party': 1146, 'half-day': 170, 'figure': 3563, 'belly-aching': 171, 'helps': 173, 'nonsense': 3565, \"who'da\": 1497, 'plan': 174, 'smart': 3566, 'learned': 3568, 'fella': 175, 'gave': 5867, 'delicately': 176, 'stuff': 177, 'surgery': 2269, 'store': 178, 'salvation': 179, 'tight': 180, 'walked': 3574, 'nailed': 181, 'memory': 183, 'unlike': 184, 'reunion': 3575, 'stands': 186, 'stiffening': 187, \"wonderin'\": 3576, 'pocket': 188, \"tomorrow's\": 3401, 'cop': 189, 'sneak': 190, 'character': 191, 'letter': 3577, 'clapping': 6196, 'reasonable': 3578, 'officials': 193, 'pure': 3579, 'enterprising': 6197, 'taught': 3580, 'swallowed': 195, 'good-looking': 196, 'wheeeee': 197, 'pissed': 3582, 'disturbing': 3584, 'infestation': 3585, 'surprised/thrilled': 198, 'flown': 199, 'worldly': 200, 'dumptruck': 3586, 'notorious': 201, 'danish': 202, 'stories': 203, 'cage': 204, 'proposing': 2825, 'sprawl': 3405, 'closes': 1658, 'reentering': 205, 'smithers': 6535, 'hangout': 3587, 'shoulda': 3588, 'shark': 207, 'swig': 3589, 'so-called': 208, 'tease': 3590, 'liar': 3591, 'again': 209, 'railroads': 210, 'deliberate': 3592, 'lanes': 3593, 'hearse': 3594, 'freaking': 3595, 'dime': 211, 'wishful': 212, 'bleeding': 213, 'go': 3596, 'idioms': 214, 'entire': 3598, 'nearly': 3599, 'thought_bubble_homer': 3600, 'treehouse': 3601, 'drug': 3602, 'fat-free': 3603, 'accident': 215, 'ground': 3605, 'tha': 216, \"shouldn't\": 1152, 'rome': 5909, 'afterglow': 2830, 'agree': 217, 'à': 218, 'boxing_announcer': 219, 'first': 220, 'greatly': 221, 'charity': 3606, 'f-l-a-n-r-d-s': 3607, \"listenin'\": 3408, 'shopping': 3608, 'incarcerated': 3609, 'hooky': 3611, 'crow': 222, 'peaked': 3612, 'scruffy_blogger': 223, 'well-wisher': 3613, 'moon-bounce': 3614, 'two-drink': 224, 'stays': 225, 'unfamiliar': 226, 'sucking': 3615, 'hexa-': 597, 'tape': 227, 'macho': 228, 'wh': 229, '_timothy_lovejoy': 3617, \"you'd\": 231, \"disrobin'\": 232, 'cakes': 36, 'under': 3618, 'karaoke': 233, 'be': 3619, 'position': 234, 'cake': 235, 'pays': 236, 'heaving': 3621, 'dumpster': 3622, 'has': 3623, 'bald': 3624, \"i've\": 237, 'lousy': 238, 'directions': 239, 'glorious': 1158, \"pickin'\": 3625, 'hairs': 240, 'alter': 3627, 'over': 3628, 'lear': 241, 'tabs': 242, 'grunt': 1710, 'jackson': 243, 'complicated': 3629, 'past': 3630, '10': 244, 'limericks': 245, 'lend': 3631, 'sideshow_mel': 246, 'meal': 247, 'infiltrate': 1159, 'remodel': 3632, 'congratulations': 3633, 'eighty-five': 248, 'toe': 249, 'mount': 250, 'ahem': 251, 'renovations': 5071, 'little_man': 3634, 'collateral': 3635, 'napkins': 4356, 'voted': 3417, 'producers': 3636, 'celeste': 3637, 'easter': 252, 'new': 253, 'baritone': 3640, 'pouring': 5072, 'replaced': 255, 'understand': 256, 'casual': 3642, 'bill_james': 257, 'night-crawlers': 1161, 'vigilante': 3644, 'cuckoo': 258, 'nos': 259, 'anxious': 260, 'imported-sounding': 261, 'talk-sings': 2838, 'ivory': 262, 'souvenir': 6206, 'knocked': 3645, 'wayne': 3646, 'jailbird': 263, 'sense': 264, 'world-class': 265, 'counter': 3648, 'intervention': 3649, 'rain': 2281, 'fat_tony': 266, 'mickey': 3651, 'always': 267, 'screws': 2843, 'smooth': 268, 'bindle': 3653, 'attracted': 1163, 'temporarily': 270, 'inflated': 3654, 'mad': 3655, 'sausage': 272, 'tender': 3656, 'bursts': 3657, 'everybody': 273, 'patron_#1': 3659, 'businessman_#1': 274, 'land': 275, \"'em\": 276, 'silent': 3660, 'villanova': 277, 'crapmore': 278, 'warned': 3661, 'mccarthy': 279, 'admirer': 280, 'somehow': 281, 'seek': 282, 'shakespeare': 3663, 'ignoring': 284, 'butterball': 285, 'crowbar': 286, \"g'on\": 3664, 'moving': 5469, 'ruuuule': 3665, 'view': 287, 'detective_homer_simpson': 288, 'shorter': 289, 'slit': 3666, 'sideshow_bob': 3667, \"lookin'\": 290, 'fiction': 3668, 'but': 3669, 'day': 3670, '70': 291, \"mo'\": 3671, 'jacks': 293, 'ninety-six': 3672, 'er': 3673, 'word': 294, 'ohh': 3674, 'legal': 295, \"city's\": 3675, 'hidden': 3676, 'chew': 4181, 'frink': 296, 'forget-me-shot': 3677, 'realize': 5082, 'crunch': 3970, 'terror': 297, 'peppy': 6209, 'bottoms': 3678, 'pay': 298, 'saget': 3680, 'granted': 3681, 'corporate': 1172, 'slab': 299, 'food': 300, 'patting': 3682, 'brotherhood': 301, \"patrick's\": 5898, 'pleasant': 3683, 'startup': 3684, 'hubub': 302, 'ragtime': 3685, 'orphan': 303, 'even': 304, \"wasn't\": 3971, 'dough': 305, \"idea's\": 3686, 'sneeze': 3687, \"floatin'\": 2288, 'keeping': 3688, 'james': 306, 'crisis': 1173, 'flack': 1174, \"havin'\": 307, 'highball': 4540, 'watered': 3689, 'bunion': 3690, 'record': 3691, 'mop': 3692, 'bluff': 3693, 'cadillac': 3695, 'homesick': 3696, 'gregor': 3697, 'illegally': 3698, 'compare': 3421, 'england': 308, 'gordon': 309, 'pipes': 2292, 'golf': 310, 'jerk-ass': 3699, \"knockin'\": 5660, 'investigating': 3700, 'meteor': 3701, 'choice': 312, 'gr-aargh': 3703, 'hundreds': 3704, 'felony': 5812, 'quiet': 314, 'brewed': 3422, 'talked': 3976, 'encouraged': 315, 'show-off': 316, 'suddenly': 6489, 'carny': 3705, 'wish-meat': 6217, 'si-lent': 317, 'sang': 318, 'fixes': 5663, \"she'd\": 5341, \"doesn't\": 3706, 'super-nice': 6317, 'fumigated': 607, 'wildfever': 319, 'lump': 5086, 'eurotrash': 3708, 'military': 320, 'bothered': 3709, 'twenty-four': 3150, 'occurrence': 1830, 'recorder': 322, 'soaked': 3711, 'pages': 6529, 'skills': 3712, 'lady': 323, 'snackie': 324, 'something': 3716, 'imagine': 326, 'stamp': 3717, 'snort': 327, 'cab': 3718, 'grampa_simpson': 3719, \"sippin'\": 2297, 'woe': 3720, 'territorial': 328, 'indifferent': 3721, 'elaborate': 3722, 'question': 329, 'pity': 3724, 'pint': 330, 'absentminded': 331, 'hilton': 610, 'wrote': 332, 'warily': 333, 'edge': 3726, \"couldn't\": 3425, 'watching': 335, 'little_hibbert_girl': 336, 'worldview': 2299, 'started': 337, 'dealer': 3727, \"spyin'\": 338, 'utility': 339, 'bedridden': 3728, 'woodchucks': 340, 'suck': 341, \"guy's\": 3729, 'countryman': 5088, 'eminence': 342, 'badmouth': 5667, 'gimmicks': 343, 'after': 344, 'history': 2475, 'confession': 3731, 'assistant': 3732, 'ne': 3733, 'clothespins': 345, 'things': 3734, \"linin'\": 346, 'some': 347, 'cookies': 348, 'thoughtless': 350, 'apply': 351, 'invented': 352, 'pen': 353, 'heavyset': 5669, 'bliss': 2302, 'preparation': 3738, 'lap': 3428, 'curious': 354, 'ad': 3739, 'young_marge': 3740, 'hibbert': 3741, 'interesting': 355, 'pointy': 3742, 'uneasy': 3743, 'feeling': 356, 'fistiana': 358, 'co-sign': 361, '||return||': 359, 'book_club_member': 362, 'coaster': 3746, 'matter': 3747, 'wise': 3748, 'strategy': 3749, 'accepting': 3989, 'floor': 364, 'anguished': 365, 'ducked': 368, 'label': 369, 'oblongata': 3750, 'ebullient': 370, 'yep': 371, 'daddy': 3752, 'stay-puft': 372, 'ahead': 373, 'according': 3754, 'fry': 375, 'hooray': 376, 'what-for': 377, 'rules': 3755, 'drinking': 3757, \"cupid's\": 3759, 'gasps': 3431, 'boston': 378, 'sixty-five': 379, 'belches': 380, 'progress': 381, 'like': 3762, 'jovial': 3763, 'occurs': 3764, 'nuked': 382, 'murdered': 4570, 'choke': 3765, 'contemporary': 3766, 'hustle': 383, 'puke-holes': 3767, 'raises': 3768, 'pick': 3432, 'cushions': 3769, 'amount': 384, \"they'll\": 385, 'another': 3770, 'rolls': 3771, \"tootin'\": 3772, 'scientific': 386, 'laramie': 387, 'dogs': 388, 'combine': 1661, 'haws': 3777, 'yourselves': 390, \"football's\": 3778, 'oblivious': 392, \"robbin'\": 393, 'switch': 3434, 'fuhgetaboutit': 394, 'till': 5095, 'ah': 3779, 'ken': 395, 'mmm-hmm': 396, 'turning': 397, 'ourselves': 399, 'celebration': 5676, 'talkative': 3781, 'railroad': 3435, 'underwear': 1187, 'proof': 1115, 'enveloped': 3782, 'oughtta': 400, 'smokes': 401, 'if': 3783, 'having': 5679, 'coy': 402, 'picky': 1190, 'nice': 403, 'hmm': 404, 'full-time': 3786, 'triumphantly': 405, 'winner': 3437, 'heading': 406, 'happily': 409, 'quarterback': 408, 'laid': 4553, 'midnight': 3787, 'small_boy': 410, 'white_rabbit': 3788, 'teddy': 3789, 'chateau': 3790, \"feelin's\": 411, 'calmly': 69, 'schorr': 413, 'wisconsin': 414, 'wigs': 415, 'across': 3791, 'abandon': 3792, 'stagey': 416, 'easy-going': 417, 'using': 3793, 'disgraceful': 418, 'set': 3794, 'certain': 419, 'ehhh': 420, 'anyhow': 3795, 'defected': 3796, 'date': 421, 'words': 422, 'carl': 3798, 'wallet': 2606, \"drawin'\": 3799, 'me': 3800, 'sass': 3801, 'falcons': 424, 'stole': 3802, 'super-genius': 425, 'yesterday': 3803, 'pair': 426, 'bye': 3804, 'barkeeps': 6375, 'start': 427, 'plant': 6226, \"something's\": 429, 'dizzy': 4559, 'free': 3805, 'mid-conversation': 3443, 'terrace': 3806, 'glitterati': 1193, 'anger': 3807, 'fast-paced': 3808, 'dropped': 3809, 'pussycat': 3810, 'statistician': 430, 'vin': 623, 'cold': 431, 'notice': 3812, 'suit': 432, 'decide': 6303, 'aside': 3813, 'goes': 1194, \"i'd\": 3814, 'thank': 433, 'equivalent': 3815, 'uhhhh': 435, 'seconds': 436, 'story': 437, 'honored': 438, 'boxcars': 439, 'gayer': 440, 'signal': 441, 'hero': 4566, 'metal': 442, 'ford': 443, 'demo': 3818, 'do': 3819, 'annoyed': 3821, 'ali': 445, 'startled': 3823, 'consider': 5099, 'check': 5686, 'unfair': 3824, 'myself': 3825, 'billingsley': 3826, 'improv': 3827, 'savagely': 3828, 'system': 3829, 'nibble': 447, 'detail': 448, 'marguerite': 3830, 'drunks': 1198, 'guy': 3831, 'deeply': 449, 'risqué': 450, 'arts': 6230, 'sudoku': 5100, 'enthusiasm': 451, 'loves': 3833, 'tatum': 3834, 'glamour': 452, 'upgrade': 453, 'reed': 454, 'committee': 455, 'hate': 457, 'deli': 458, 'huge': 459, 'lock': 3835, 'ails': 463, 'hawking': 3836, 'dreamed': 464, 'turkey': 6233, 'alcoholic': 626, 'blue': 3839, 'being': 4571, 'anthony_kiedis': 3840, 'waylon': 3841, 'wild': 628, 'enlightened': 3842, 'pitch': 1201, 'slyly': 465, 'eggs': 466, 'souped': 3843, 'woooooo': 668, 'cell': 3845, 'today': 3846, 'taunting': 3847, 'tactful': 3848, 'cushion': 467, 'popping': 3849, 'faiths': 469, 'wondering': 470, 'both': 471, 'lot': 5741, 'seemed': 3850, 'renders': 3851, 'womb': 473, 'grandkids': 3852, 'kisser': 474, 'east': 475, 'virile': 476, 'poetics': 477, 'half': 3452, 'nose': 478, 'bender': 3854, 'deals': 1936, 'combination': 5693, 'grumbling': 480, 'glee': 3855, 'herself': 482, 'paint': 483, 'annie': 1204, 'commit': 3856, 'suppose': 3857, 'stagy': 3858, 'saturday': 485, 'goods': 6235, 'feminine': 486, 'cute': 3860, \"singin'\": 487, 'semi-imported': 3862, 'humanity': 488, 'texas': 489, 'faulkner': 490, 'kazoo': 3863, 'self-centered': 491, 'stealings': 492, 'sideshow': 3864, 'situation': 493, 'agh': 5106, 'jam': 3865, 'fragile': 494, 'thesaurus': 495, 'checks': 3867, 'super-tough': 496, 'fat_in_the_hat': 3869, 'slot': 5932, 'tired': 3870, 'awful': 6239, 'ripping': 498, 'match': 3871, 'played': 3457, 'geyser': 3872, 'indifference': 3873, \"high-falutin'\": 499, 'lady_duff': 3874, 'koi': 1208, 'desperately': 501, 'rebuilt': 5110, 'bartender': 3875, 'toy': 502, 'improved': 3878, 'sinkhole': 3879, 'luckiest': 3880, 'wistful': 5111, 'seymour_skinner': 3881, 'planning': 503, 'whip': 504, 'domed': 506, 'winces': 3882, 'charlie': 3458, 'mommy': 507, 'gil_gunderson': 1211, 'chubby': 1192, 'nobel': 3459, \"neat's-foot\": 3883, 'pets': 3884, 'cable': 6242, 'evils': 3885, 'ayyy': 508, 'tofu': 509, 'ape-like': 510, \"maggie's\": 3886, 'stuck': 2885, 'difference': 511, 'official': 5700, 'confused': 3888, 'button': 1213, 'yup': 3890, 'aww': 5625, 'tommy': 512, 'fbi_agent': 1744, 'hats': 3892, 'effervescent': 513, 'refiero': 514, 'support': 1215, 'wings': 3893, 'tasimeter': 515, 'awwww': 3894, 'aged': 3896, 'hiya': 516, 'i/you': 517, 'poster': 3897, \"moe's_thoughts\": 3898, 'egg': 5115, '_julius_hibbert': 5116, 'they': 3900, 'add': 519, 'gees': 520, 'bedroom': 3902, 'exited': 2334, \"can't\": 521, 'pronto': 522, 'effects': 3903, 'ruined': 523, 'chanting': 1745, 'write': 525, 'stacey': 3904, 'pizzicato': 526, 'nevada': 527, 'alcohol': 528, 'valuable': 6686, 'whatsit': 3905, 'elocution': 529, 'ugh': 530, 'robot': 638, 'mobile': 1748, 'delighted': 531, 'nick': 532, 'became': 533, 'black': 534, 'crawl': 535, 'selfish': 3910, 'tie': 1218, 'louse': 536, 'all-american': 3911, 'radio': 3464, 'somebody': 537, \"buffalo's\": 1750, 'sheriff': 538, 'many': 539, 'boxer': 540, 'tavern': 3912, 'popped': 543, 'snatch': 544, 'c': 3913, 'application': 3914, 'thighs': 545, 'hi': 4569, '/': 89, 'roller': 3915, 'flower': 5707, 'alive': 3917, 'feels': 3918, \"workin'\": 546, 'watered-down': 3919, 'smug': 548, 'meant': 552, 'break': 550, 'aisle': 551, 'issues': 6250, 'dozen': 3921, 'mmmm': 553, 'dr': 5124, 'help': 3922, 'morlocks': 6251, 'designated': 3923, 'unintelligent': 3924, 'unable': 554, 'kings': 555, 'mr': 556, 'nobody': 5778, 'health': 3925, 'pretentious_rat_lover': 3927, 'friendship': 558, 'computer': 559, 'hike': 560, 'willing': 561, \"cat's\": 562, 'brother': 3929, 'lessons': 3930, 'mediterranean': 565, 'making': 566, 'surprise': 3931, 'undies': 5342, 'appeals': 3932, \"how'd\": 3933, 'poulet': 567, 'meanwhile': 568, 'earpiece': 3935, 'bowled': 3936, 'dingy': 3937, 'less': 569, \"everyone's\": 570, 'novel': 571, 'unexplained': 573, 'donuts': 574, 'restaurants': 575, \"tv'll\": 3939, 'ignorant': 2508, 'homeland': 3940, \"tatum'll\": 5646, 'steal': 577, 'further': 3941, 'pin': 578, 'privacy': 3942, 'protesting': 3943, 'dizer': 3944, 'fly': 579, 'effect': 3945, 'desire': 3946, 'weirded-out': 3948, 'order': 3949, 'absolut': 582, 'wussy': 3950, 'tentative': 583, 'excitement': 3951, \"time's\": 5808, 'surprised': 3952, 'cheery': 585, 'guttural': 5560, 'lobster-politans': 3953, 'thomas': 5729, 'angry': 3954, 'enjoys': 587, \"you've\": 3955, 'shows': 3956, 'mushy': 3957, 'billboard': 3958, 'waters': 588, 'pretends': 589, 'dive': 3959, 'rookie': 590, 'geez': 591, 'furious': 592, 'gabriel': 5863, 'mirthless': 3960, 'sweeter': 3961, 'dignity': 594, 'built': 595, 'unsafe': 596, 'hate-hugs': 3962, 'gambler': 598, 'statue': 599, 'stewart': 3963, 'perfect': 1225, 'sniffing': 4103, 'share': 3964, 'life-partner': 600, 'carll': 3965, 'blew': 3966, 'b': 601, 'glum': 1897, \"challengin'\": 3967, 'lessee': 602, 'sabermetrics': 3969, \"playin'\": 2899, 'videotaped': 3972, 'sleeping': 603, 'thirsty': 604, 'ashamed': 3973, 'mexican': 605, 'ironic': 3974, 'exits': 6261, 'witches': 3975, 'mild': 606, 'booze-bags': 3977, 'astonishment': 3978, 'relaxing': 3979, 'sacrifice': 3981, 'whose': 3982, 'chorus': 608, 'staying': 656, 'government': 609, 'fold': 611, 'dollface': 3984, 'ointment': 3985, 'trees': 68, 'starters': 612, 'grope': 3986, 'cloudy': 3987, 'asking': 613, 'examples': 614, 'scared': 3988, 'wok': 3990, 'tv': 615, 'tropical': 3991, \"life's\": 2905, 'tipsy': 1429, 'faceful': 3992, 'freeze': 3993, 'erasers': 3994, 'high-definition': 616, 'barter': 617, 'blow': 618, 'safely': 619, 'struggling': 620, 'ho-la': 3995, 'hell': 621, '1973': 6160, 'beyond': 5718, 'telephone': 622, 'parking': 1334, 'sequel': 6128, 'fictional': 624, 'breathalyzer': 3996, 'faced': 659, 'truth': 625, 'made': 3997, 'excuse': 3998, \"makin'\": 627, 'krabappel': 3481, 'we-we-we': 630, 'brusque': 631, 'tv_wife': 3999, 'belt': 4000, 'domestic': 4001, 'away': 632, 'waste': 633, 'utensils': 4003, 'arse': 634, 'monday': 635, 'mansions': 636, \"yesterday's\": 4004, 'life-sized': 5723, 'castle': 637, 'candles': 639, \"men's\": 5536, 'sieben-gruben': 640, 'dinner': 4006, 'ratted': 4007, 'neil_gaiman': 642, 'beers': 4008, 'fit': 643, 'candy': 644, 'sharity': 5959, 'chumbawamba': 1234, 'bathing': 4009, 'distract': 4010, '14': 645, \"man's_voice\": 646, 'pee': 1235, 'gives': 4011, 'on': 647, 'pugilist': 2907, 'specialists': 4012, 'selective': 5516, 'warmly': 648, 'lead': 4013, 'tyson/secretariat': 4014, 'fraud': 649, 'band': 1199, 'king': 4015, 'hostile': 650, 'published': 651, 'deserve': 652, 'young_homer': 653, 'highway': 2352, 'filthy': 4016, 'logos': 654, 'accent': 4017, 'kim_basinger': 4018, 'looked': 655, 'clandestine': 4019, 'son-of-a': 1366, 'yo': 657, 'authorized': 658, 'raising': 3486, 'snaps': 4020, 'chuckle': 2909, 'augustus': 5140, 'manjula_nahasapeemapetilon': 661, 'open': 1768, 'poet': 4021, 'forget-me-drinks': 4022, 'male_singers': 4023, 'drop-off': 662, 'alarm': 663, 'ziffcorp': 664, 'parasol': 665, 'known': 666, 'philosophical': 4025, 'gig': 4026, 'sweetie': 667, 'wounds': 669, 'shakes': 4028, 'steak': 4029, 'director': 4030, 'says': 3489, \"wife's\": 671, 'securities': 673, 'parenting': 4031, 'fudd': 674, 'sees/': 670, 'failure': 1770, 'ocean': 4034, 'dazed': 4035, 'retired': 4036, 'funds': 5726, 'grim': 676, 'often': 4037, 'amazing': 5144, 'pretzels': 4038, 'supply': 4039, 'stagehand': 4040, 'helllp': 4041, 'ate': 5145, 'type': 6642, 'moe_szyslak': 4042, 'kadlubowski': 678, 'stingy': 4043, 'bide': 4044, 'principal': 4045, 'elves': 672, 'dumbest': 6305, 'dreamily': 681, 'underbridge': 3492, 'tap': 682, 'brainiac': 683, 'pfft': 4048, \"hobo's\": 684, 'medical': 4050, 'stinger': 4051, 'tongue': 4052, 'her': 686, 'sings': 687, 'unattended': 4054, 'hands': 4055, 'youngsters': 688, \"hadn't\": 689, 'peace': 4607, 'night': 118, 'severe': 4056, 'dry': 4032, 'overhearing': 4057, \"lovers'\": 690, 'assumed': 691, \"edna's\": 6316, 'donut': 4058, 'doll-baby': 6268, 'impeach': 693, 'wall': 694, 'snake-handler': 2363, 'funny': 4059, 'violations': 697, 'dejected': 2364, 'rolled': 4061, 'abcs': 4062, 'muertos': 4063, 'bum': 4064, \"somebody's\": 6386, 'self-made': 698, 'luckily': 4065, 'gear-head': 699, 'months': 700, 'chuckles': 701, 'chastity': 5149, 'horribilis': 4067, 'compared': 4069, 'lee': 4070, 'owned': 4071, 'fink': 704, 'carl_carlson': 705, 'present': 4073, 'where': 706, \"sittin'\": 4351, 'restroom': 707, 'hoax': 6272, \"this'll\": 708, 'ago': 4074, 'squeeze': 4075, 'aquafresh': 677, 'tickets': 4076, 'vulnerable': 710, 'price': 5731, 'verdict': 711, 'badly': 712, 'choking': 3498, 'physical': 4077, 'delightfully': 713, 'rasputin': 4078, 'goblins': 4079, 'smugglers': 4080, 'soul': 715, 'breathless': 4081, 'sees': 4082, 'far': 716, 'taking': 4084, 'aggravated': 5733, 'squadron': 641, 'hated': 4085, 'painless': 2779, 'end': 4086, 'sexual': 4087, 'lurleen_lumpkin': 717, 'bottles': 4089, 'fad': 718, 'serious': 719, 'was': 720, 'delivery_man': 1249, 'walks': 4092, 'argue': 721, 'statesmanlike': 4094, 'jeff': 723, 'soup': 724, 'incredulous': 725, 'completing': 726, 'distance': 727, 'crushed': 728, 'bits': 4096, 'stevie': 732, 'french': 733, 'donut-shaped': 680, 'marry': 735, 'dessert': 4097, 'regulations': 4098, 'encores': 736, 'wowww': 4099, 'stairs': 737, 'grind': 738, 'devastated': 739, 'fluoroscope': 740, '4x4': 4100, 'super': 741, 'driving': 6277, 'knew': 743, 'anniversary': 744, 'solves': 745, 'career': 746, 'great': 3868, 'venture': 4102, 'california': 5636, 'snitch': 3507, 'nine': 747, 'keys': 4105, \"stealin'\": 4106, 'rubs': 4108, 'thrust': 4109, 'strips': 749, 'louie': 6557, 'trapped': 4112, 'orgasmville': 750, 'tablecloth': 4046, \"plank's\": 751, 'died': 753, 'honeys': 754, 'coach': 756, 'cutting': 5688, 'planned': 2378, 'estranged': 758, 'dum-dum': 4114, 'repairman': 760, 'earlier': 761, 'invite': 1252, 'opens': 762, 'decision': 130, 'kinds': 764, \"hole'\": 4116, 'extra': 765, 'presently': 766, 'multi-national': 2380, 'xanders': 1214, 'bookie': 4118, 'bus': 4119, 'hall': 5157, 'pretty': 3378, 'shutting': 767, 'parked': 4122, 'toss': 6639, 'nuclear': 4047, 'weapon': 4124, 'owns': 768, 'gotcha': 769, 'intimacy': 771, 'disguise': 4614, 'ralph': 772, 'barney': 773, 'non-losers': 4126, 'corpses': 4127, 'correction': 774, 'x': 6238, 'presumir': 775, 'diablo': 4049, 'denver': 685, 'sissy': 777, 'lingus': 778, 'tragedy': 4128, 'regretted': 4129, 'almost': 780, 'christmas': 781, 'head-gunk': 782, 'lush': 4053, 'knock': 4130, 'breaking': 5161, 'mean': 783, 'nuts': 785, 'cheer': 4132, \"i'm\": 786, 'snake_jailbird': 787, 'threw': 788, 'ballclub': 4133, 'mock': 4135, 'contest': 4136, 'diapers': 135, 'rumaki': 790, 'coincidentally': 791, 'assent': 1257, 'payback': 5746, 'derek': 792, 'stripe': 795, 'expired': 794, 'saint': 796, 'through': 4138, 'dint': 797, 'sagacity': 4139, 'bury': 798, 'agent': 799, 'poking': 800, 'minute': 4140, 'learn': 4141, \"kid's\": 4618, 'rats': 801, 's-a-u-r-c-e': 802, 'emphasis': 803, 'teriyaki': 804, 'creeps': 6188, 'ireland': 805, 'eaters': 806, 'worry': 4144, 'advance': 4145, 'veux': 5527, \"lisa's\": 807, 'warm_female_voice': 3512, 'trade': 808, 'advertising': 4146, 'candidate': 811, 'naked': 812, 'comforting': 4147, 'release': 813, 'devils': 4148, 'snide': 4149, 'tip': 4150, 'simpsons': 1594, 'no': 814, 'edna-lover-one-seventy-two': 815, \"they'd\": 816, \"tester's\": 817, 'helped': 4151, 'raging': 819, 'koji': 4152, 'chase': 4153, \"liberty's\": 820, 'sunday': 821, 'blown': 1259, 'keeps': 4154, 'born': 4155, 'because': 4157, 'adeleine': 3514, 'onion': 6247, 'grammar': 4159, 'bathed': 4162, 'urine': 4161, 'menacing': 5361, 'scum': 823, 'coal': 824, 'sending': 4163, 'grumpy': 825, 'outside': 827, 'send': 4164, 'fonda': 828, 'flying': 4165, 'homer': 829, 'fica': 692, \"spaghetti-o's\": 4166, 'voodoo': 831, 'swimming': 4168, 'charm': 3516, 'neither': 832, \"messin'\": 4170, 'able': 833, 'eyesore': 4172, 'sticker': 1756, 'pre-columbian': 4173, 'snake': 5753, 'curds': 4174, 'cigarettes': 834, 'slapped': 835, 'firm': 4176, 'biggest': 4177, 'falsetto': 5171, 'circus': 4179, 'mouth': 6288, 'seriously': 1798, 'rusty': 4180, 'widow': 838, 'horrified': 695, 'screw': 839, 'magnanimous': 840, 'brilliant': 841, 'parents': 4184, 'extremely': 4185, 'microbrew': 4186, 'bottomless': 4187, 'holiday': 842, 'newest': 696, 'religion': 844, 'sack': 4188, 'student': 846, 'rumor': 847, 'play/': 4189, 'homers': 5172, 'store-bought': 4190, 'inspection': 4191, 'housing': 6293, 'botanical': 850, \"puttin'\": 851, 'cheap': 5757, 'disgusted': 852, 'blowfish': 4192, 'folks': 853, 'greystash': 4195, 'aerosmith': 4060, 'shack': 4196, 'drift': 854, 'routine': 855, 'ya': 6294, 'okay': 857, 'pawed': 3524, 'trenchant': 4197, 'sea': 4198, 'generosity': 858, 'door': 4199, 'jockey': 4200, 'bucks': 859, 'sagely': 1797, 'sweater': 860, 'wonderful': 861, 'tv_husband': 2396, 'practice': 4201, 'ned': 864, 'business': 865, \"thinkin'\": 4202, 'up-bup-bup': 5760, 'waitress': 4203, 'piece': 866, 'fingers': 867, \"handwriting's\": 4204, 'inside': 5761, 'sketch': 4205, 'between': 868, 'anybody': 869, 'trucks': 2397, 'upsetting': 870, 'spectacular': 2827, 'charge': 4207, 'middle': 4208, 'self': 6297, 'drown': 4209, 'chapel': 5762, 'healthier': 871, '250': 4210, 'worked': 872, 'hangover': 6299, 'copy': 873, 'idealistic': 4211, 'heck': 874, 'heatherton': 875, \"'im\": 4212, 'incognito': 4213, 'disillusioned': 3780, 'massachusetts': 877, 'whatcha': 878, 'goodwill': 879, 'tradition': 4216, 'coat': 4217, 'county': 6382, '_hooper': 880, 'schnapps': 5074, 'cocktail': 881, 'whirlybird': 882, \"other's\": 883, 'edison': 4066, 'gun': 4218, 'school': 884, 'crayon': 885, 'r': 886, 'lovelorn': 887, 'federal': 4220, 'wire': 889, 'damage': 5255, \"he's\": 891, 'bible': 892, 'brockman': 4222, 'wave': 893, 'girl-bart': 894, 'shindig': 4224, 'sec_agent_#1': 5765, 'artist': 895, 'shareholder': 4225, 'wreck': 896, 'tv_father': 897, 'morning': 898, 'champs': 4228, 'understood': 4229, 'bagged': 4230, 'duff': 5766, 'worse': 4231, \"wouldn't-a\": 899, 'awesome': 901, 'squishee': 902, 'gold': 4232, 'feed': 903, 'dance': 4068, 'grab': 904, 'patty': 905, 'malibu': 4233, 'designer': 4234, 'lindsay_naegle': 907, 'traitors': 4235, 'lurks': 908, 'peppers': 909, 'rods': 4237, 'eye': 910, 'pajamas': 911, \"fightin'\": 912, 'quotes': 4238, 'cauliflower': 913, 'je': 4072, 'strap': 914, 'spender': 5180, 'license': 915, 'bouquet': 4240, \"aren'tcha\": 916, 'smoke': 4637, 'done': 5585, 'ew': 4241, 'interrupting': 4242, 'card': 4243, 'feet': 4244, 'answered': 4246, 'weather': 917, 'mock-up': 4247, 'unusually': 4248, 'sobriety': 918, \"duelin'\": 4249, 'message': 4250, 'fruit': 5949, 'market': 919, 'authenticity': 920, 'toilet': 4252, 'labels': 4253, 'disposal': 4257, 'cletus_spuckler': 4258, 'wars': 4255, 'hired': 4256, \"'roids\": 4259, 'shoo': 922, 'may': 4261, 'honor': 4262, 'vehicle': 923, 'runt': 924, 'manjula': 2402, 'lots': 925, 'capitol': 926, 'kidnaps': 927, 'kentucky': 4264, 'code': 931, 'confidence': 934, 'j': 933, 'else': 4266, 'smelling': 5971, 'ideas': 935, 'sneaky': 4267, 'pockets': 936, 'musketeers': 1197, 'liven': 938, 'motto': 4268, 'pinball': 4269, 'wildest': 4270, 'shoes': 4271, 'soul-crushing': 4272, 'crummy': 4273, 'gore': 4274, 'yelp': 4275, 'up': 2950, 'closer': 4276, \"friend's\": 939, 'temple': 4277, 'apulina': 4278, 'nightmares': 940, 'moxie': 941, 'although': 942, 'dexterous': 709, 'bucket': 4280, 'madonna': 5185, 'butter': 944, 'safecracker': 4281, 'luxury': 1280, 'early': 945, \"getting'\": 946, 'at': 4282, 'young': 4283, 'toledo': 4285, \"ma'am\": 6313, 'notices': 4286, 'harmony': 947, 'department': 2410, 'pernt': 5189, 'attend': 6610, 'form': 5779, 'morose': 949, 'until': 4287, 'diets': 951, 'environment': 5188, \"poundin'\": 953, 'vance': 954, 'tanked-up': 6355, 'march': 4289, 'flashing': 4290, 'factor': 4291, 'grin': 955, 'pepsi': 956, 'ferry': 4292, 'language': 958, \"fryer's\": 1283, 'miserable': 959, 'frankenstein': 960, 'founded': 4293, 'astronaut': 5193, 'blaze': 4294, \"wallet's\": 961, 'hunka': 962, 'darkest': 963, \"homer's_brain\": 964, 'have': 4295, 'enough': 4296, 'eyed': 4297, 'renew': 965, 'forbids': 966, 'drains': 967, 'headhunters': 5776, 'whispers': 4298, 'popular': 968, 'trusted': 4300, 'formico': 5091, 'wife-swapping': 4301, 'junkyard': 4302, \"scammin'\": 4303, 'curse': 4305, 'beards': 5725, 'lives': 969, 'potatoes': 970, 'ladder': 971, 'eyeballs': 972, 'droning': 1286, 'recreate': 4306, 'lighten': 4307, 'doreen': 973, 'eighty-six': 974, \"ain't\": 975, 'easy': 4940, 'judge_snyder': 4310, 'needy': 4311, 'thrilled': 4312, '||colon||': 976, 'girl': 4313, 'hot-rod': 4314, 'jerks': 977, 'pridesters': 978, 'full': 4315, 'chug': 4316, 'remain': 979, \"dyin'\": 4317, 'forty-nine': 4318, 'bauer': 4319, 'doug': 4320, \"mecca's\": 4322, 'daniel': 4324, 'urinal': 4649, 'wash': 4325, 'basement': 4326, 'woo': 6319, 'power': 982, 'bold': 983, 'van': 4327, 'apu': 985, 'aggravazes': 986, 'imitating': 2416, 'albert': 4328, 'ignorance': 988, 'unsourced': 4330, 'heartless': 989, 'sen': 155, 'sheet': 4331, \"'kay-zugg'\": 990, 'fastest': 991, \"beer's\": 1175, 'women': 4332, 'shrugging': 992, 'beeps': 4333, 'every': 4334, 'remorseful': 993, 'lewis': 4335, 'anti-intellectualism': 6679, 'appropriate': 4336, 'occupancy': 4337, 'salvador': 4338, 'aims': 3379, '35': 995, 'quick-like': 996, 'joke': 5788, 'source': 997, 'football_announcer': 4339, 'state': 999, 'seen': 4340, 'hare-brained': 6501, 'ga': 3549, 'rancid': 4341, 'join': 1000, 'already': 5273, 'viva': 1001, 'officer': 4342, 'klingon': 1002, 'rump': 6587, 'dramatic': 5204, 'synthesize': 4343, 'ugly': 6325, 'happens': 1003, 'warren': 4345, 'sympathetic': 4346, \"takin'\": 4347, 'text': 4348, 'arrange': 4349, 'ought': 4350, \"usin'\": 1005, 'roof': 714, 'elizabeth': 1007, 'lucinda': 4352, 'bart': 1008, 'wooooo': 4353, 'written': 3552, 'packets': 1593, \"liftin'\": 6603, 'goal': 6550, 'fast-food': 1009, 'single-mindedness': 4354, 'crab': 4355, 'reckless': 4357, \"smokin'\": 1010, 'enthused': 4358, 'clean': 1011, \"lady's\": 1012, 'jay': 1295, 'plums': 3639, 'reaches': 4659, 'sperm': 6057, 'follow': 1013, 'moonlight': 4360, 'saving': 5205, 'hillbillies': 5414, 'papa': 1015, 'bret': 1016, 'streetcorner': 2962, 'drinker': 1017, 'lighting': 1018, 'ralphie': 1020, \"'ere\": 4361, 'naturally': 4362, 'bulldozing': 1021, 'bachelorette': 1302, 'us': 4363, 'amazed': 1022, 'divorced': 1024, 'chipped': 6329, 'column': 4364, 'dirge-like': 1881, 'madison': 1301, 'prints': 1025, 'miles': 1026, 'smurfs': 1027, 'heart': 4365, 'roy': 1029, 'pad': 2422, 'mckinley': 4368, 'brow': 4369, 'hers': 6334, 'bear': 1030, 'neanderthal': 1031, 'suspenders': 1032, 'spied': 5796, 'anti-lock': 4370, 'oddest': 4371, 'stupid': 4372, 'nash': 1033, 'conspiratorial': 6023, 'legoland': 4373, 'thing': 1034, 'selma_bouvier': 1035, 'agent_johnson': 4374, 'buffet': 5211, 'chug-monkeys': 1036, 'verticality': 1037, 'joe': 4377, \"can't-believe-how-bald-he-is\": 1832, 'technical': 4378, 'refund': 5798, 'sensitivity': 4088, 'lindsay': 1038, 'sob': 1039, 'marge_simpson': 4380, 'heh-heh': 4381, 'assume': 4382, 'pretending': 1040, 'errrrrrr': 4383, 'gulliver_dark': 1041, 'group': 4384, 'prohibit': 1042, 'mouths': 1043, 'sincere': 1044, 'innocent': 1045, 'murmur': 1046, 'e': 4385, 'sooo': 1047, \"school's\": 1048, 'iran': 4386, 'wazoo': 1049, 'winning': 6423, \"sat's\": 1836, 'frink-y': 4788, 'vanities': 1050, 'champ': 1051, 'aggie': 1052, \"fun's\": 4388, 'sturdy': 4390, 'bastard': 4391, \"livin'\": 4392, 'ivanna': 4090, 'evergreen': 1053, 'awareness': 5924, 'jerk': 1054, 'moe': 1055, 'mixed': 1308, 'powered': 1057, 'ears': 1058, 'fondest': 4091, \"coffee'll\": 4394, 'arrested': 1059, 'steely-eyed': 1060, 'surprising': 5216, 'sickens': 6492, 'boozer': 1061, 'youth': 4093, \"don't\": 1063, 'the_edge': 4395, 'adult_bart': 4398, \"cheerin'\": 4397, 'ivy-covered': 1064, 'twenty-two': 4399, 'fourth': 4400, 'spot': 4402, 'giggles': 4403, 'feel': 1065, 'beats': 1066, 'fleabag': 3616, 'yak': 4404, 'expression': 4405, 'rap': 1067, 'stink': 1068, \"monroe's\": 4406, 'sometimes': 1069, \"c'mom\": 3551, 'hounds': 4408, 'yogurt': 1071, 'my': 1072, 'dawning': 1073, 'humiliation': 1074, 'labor': 5219, 'jumping': 1075, 'con': 1076, 'rafters': 1077, \"don'tcha\": 3561, 'men': 2432, 'griffith': 5813, 'cotton': 1078, \"thing's\": 4412, 'menlo': 4639, 'acceptance': 1448, 'correct': 1079, 'ninth': 4413, 'prep': 1080, 'mmm': 4414, 'concentrate': 5222, 'nudge': 4415, 'splendid': 1314, 'media': 1081, 'duff_announcer': 1082, 'sighs': 4417, 'patrons': 1083, 'common': 1084, 'part-time': 6343, 'updated': 1085, 'spite': 1086, 'country': 1087, 'freedom': 1089, 'pour': 4420, 'boozehound': 1182, 'olive': 4421, 'truck_driver': 2970, 'apology': 3564, 'blissful': 6345, 'fl': 172, 'separator': 4002, 'pall': 4423, 'meeting': 730, 'pine': 4424, 'bloodiest': 1092, 'reading': 4425, 'chip': 1093, 'lovely': 4426, 'handler': 1990, 'duke': 734, 'un-sults': 4428, 'ideal': 1094, 'cell-ee': 6205, 'recipe': 1095, 'before': 4429, 'police': 4430, 'manager': 4431, 'o': 4432, 'admiration': 4433, 'average-looking': 4434, 'unhook': 4435, \"ol'\": 1097, 'your': 1098, 'oooo': 4437, 'congoleum': 4438, 'smitty': 1099, 'sidelines': 6241, 'comedy': 1100, 'booking': 4439, 'voyager': 1101, 'weekly': 4440, 'missed': 1102, 'positive': 4441, 'grease': 4442, 'bets': 1104, 'amanda': 4443, 'slow': 1105, \"kids'\": 1106, 'publish': 1108, 'mimes': 4444, \"bladder's\": 4445, 'suffering': 4446, \"world's\": 4447, 'diamond': 4448, 'insecure': 4449, 'odor': 4672, 'perch': 4450, 'catching': 4451, 'feat': 702, 'charming': 1111, 'aer': 1112, 'starving': 4452, 'zinged': 4453, \"bartender's\": 1113, 'afraid': 1114, 'hiring': 4456, 'el': 3571, 'subject': 4457, 'options': 4458, 'worried': 3570, 'ambrose': 1116, 'michael': 5227, 'discriminate': 4460, 'howya': 3423, 'bulletin': 4461, 'pushing': 2437, 'craft': 1118, 'wakede': 4462, \"'til\": 3572, 'cooker': 4463, \"bart'd\": 1119, 'envy-tations': 1120, 'brain': 4466, 'father': 1321, 'limited': 5950, 'fifth': 5231, 'getcha': 1121, 'clears': 4467, 'clap': 1122, 'man': 4468, 'terminated': 4469, '_marvin_monroe': 1851, 'ha-ha': 3573, 'milks': 4470, 'creme': 742, 'sat-is-fac-tion': 1324, 'wing': 4471, 'eu': 4472, 'dennis_kucinich': 4473, 'rounds': 4474, 'cross-country': 5816, 'scent': 1124, 'scores': 4476, 'safer': 5232, 'professor': 4478, 'gheet': 4479, 'brings': 4480, 'polygon': 4481, 'cards': 3487, 'online': 1128, 'dean': 4482, 'treat': 1129, 'al': 5905, 'be-stainèd': 1130, 'each': 1131, 'caught': 4483, 'nasty': 4484, \"carl's\": 185, 'gargoyle': 5820, \"collector's\": 1133, 'cleaned': 182, 'fanciest': 1134, 'panicky': 4486, 'replace': 1135, 'shrugs': 4487, \"man'd\": 4488, 'lofty': 4489, 'p-k': 2445, 'jerky': 4490, 'shades': 4492, 'einstein': 4493, 'remembered': 4494, 'jazz': 3308, 'jogging': 4495, 'recall': 1138, 'iddilies': 4497, 'cure': 4498, 'bell': 4499, 'out': 1140, 'manage': 4501, 'bathroom': 4502, 'due': 1141, 'savvy': 4104, 'pre-game': 4503, 'kitchen': 4504, 'slurred': 1143, 'coin': 4505, 'pathetic': 4506, 'death': 748, \"ya'\": 4507, 'birth': 4508, 'nickel': 4509, 'hair': 4510, 'apart': 1147, 'cecil_terwilliger': 4511, 'easier': 4512, 'page': 4513, 'served': 1332, 'missing': 4514, 'anyway': 4515, 'fuss': 4516, 'man_at_bar': 4517, 'hit': 1148, 'dateline': 4519, \"i-i'll\": 1574, 'possibly': 1150, 'clown': 1151, 'punk': 1153, 'professor_jonathan_frink': 4520, 'shoulder': 1154, 'brandy': 1155, 'moe-near-now': 1156, 'ura': 4522, 'dank': 4523, 'pipe': 4524, 'religious': 4111, 'groin': 1157, 'buttocks': 4525, 'a-a-b-b-a': 5609, 'kodos': 4526, 'taxi': 6637, 'steaming': 5239, 'operation': 4527, 'hiding': 1162, 'stirring': 4107, 'voicemail': 1166, 'lenny_leonard': 4528, 'jury': 4529, 'compliment': 1167, 'macgregor': 4110, 'series': 1168, 'puke-pail': 1169, 'teach': 1170, 'game': 4530, 'man_with_crazy_beard': 4531, 'fatty': 4532, 'will': 4533, 'premise': 4534, 'crime': 4535, 'or': 4536, 'binoculars': 4537, 'crotch': 4538, 'fund': 4541, 'decency': 1176, 'runners': 1177, 'unattractive': 4542, 'shaggy': 4543, 'tapestry': 4544, 'ehhhhhhhh': 4113, 'bubbles-in-my-nose-y': 6359, 'marjorie': 2576, 'philosophic': 5732, 'não': 4546, 'delightful': 1178, 'platinum': 1179, 'brainheaded': 1180, '||exclamation_mark||': 4547, 'possessions': 5829, 'inning': 1181, 'libido': 3508, 'ultimate': 4548, 'tail': 1183, 'machine': 4549, 'mistake': 1184, '_montgomery_burns': 1185, 'fellow': 192, 'screams': 1186, 'killer': 4550, 'told': 4551, 'days': 4552, \"somethin'\": 1188, 'clock': 1189, 'eliminate': 194, \"sayin'\": 4554, 'ruby-studded': 1191, 'twelve': 4555, 'million': 4556, 'weak': 4557, 'lance': 757, 'whaaaa': 4560, 'sharing': 4561, 'tin': 4562, 'pyramid': 5832, 'heavyweight': 4563, 'listen': 1195, 'promotion': 4564, 'milhouse_van_houten': 4565, 'bars': 1196, 'abusive': 4567, 'radiation': 3583, 'palm': 4115, 'chinese': 1200, 'yellow': 4572, 'unjustly': 759, 'blank': 1202, 'blessing': 4573, 'north': 4574, 'winston': 4575, 'david': 1203, \"somethin's\": 4576, 'sport': 4577, 'off': 4578, 'ancient': 1205, 'depending': 1206, 'martini': 5176, 'ready': 4579, \"they're\": 1207, 'queen': 763, \"y'money's\": 1209, 'wood': 1210, 'straight': 4580, 'recorded': 1212, 'troubles': 4581, 'jerry': 4582, 'law': 129, 'treats': 4690, 'principles': 1967, 'act': 4583, \"treatin'\": 1341, 'ping-pong': 1216, 'double': 5248, 'contemplates': 1217, 'normals': 4584, 'languages': 1343, 'simultaneous': 5150, \"let's\": 4117, 'quarter': 4585, 'you-need-man': 1220, 'puzzled': 4586, 'tear': 1221, '||left_parentheses||': 1222, 'ale': 1223, 'democrats': 1346, 'transfer': 4587, 'guiltily': 4588, 'nigerian': 4589, 'considers': 4590, 'krusty_the_clown': 1224, 'wooden': 3983, 'hang': 1226, 'hushed': 4592, 'simon': 1227, 'knuckle-dragging': 4593, 'jail': 4594, 'glyco-load': 4595, 'busted': 4597, \"brockman's\": 4598, 'tank': 2998, 'churchy': 4496, 'sticking': 1228, 'skoal': 4599, 'pus-bucket': 3581, 'burger': 1867, 'aged_moe': 1229, 'nemo': 1231, 'canyoner-oooo': 4600, 'ran': 1232, 'six': 1233, 'numeral': 4601, 'escort': 1236, 's': 4602, 'entirely': 4603, 'forty-two': 1237, 'goodbye': 1238, 'haikus': 1239, 'premiering': 4236, 'intakes': 1240, 'rush': 822, 'nail': 4605, 'composite': 1241, 'mumbling': 4606, 'flanders': 1242, 'caricature': 1243, 'rough': 6369, 'down': 1244, 'just': 4121, 'squirrels': 1348, 'u': 4608, 'mole': 1245, 'prepared': 1246, 'releasing': 1247, 'skydiving': 1248, 'consciousness': 1250, 'frankie': 4609, 'justify': 4558, 'prettied': 4610, 'frontrunner': 5841, 'mull': 1251, 'marched': 4611, 'nurse': 4612, 'smallest': 1253, 'peach': 1254, 'besides': 4613, 'sugar': 4615, 'orders': 6374, 'alfred': 1255, 'beverage': 1256, 'um': 4125, 'ninety-seven': 4616, 'lurleen': 1258, 'bully': 4620, 'baseball': 4619, 'blurbs': 770, 'brief': 1260, 'sips': 4622, 'ding-a-ding-ding-a-ding-ding': 4623, 'dracula': 6376, 'handing': 1261, 'nation': 6003, 'hafta': 4624, 'neighbors': 4625, 'led': 1262, 'stored': 5156, 'test-': 4626, 'bigger': 1264, 'pills': 1265, 'answering': 1266, '_babcock': 1267, 'spit': 1268, 'paper': 4627, 'information': 1269, 'mugs': 5845, 'paste': 1270, 'indicates': 4628, 'sets': 4629, 'compels': 1271, 'sleeps': 4630, 'disaster': 4631, 'happen': 4632, 'knees': 4633, 'damn': 1273, \"'\": 4634, 'cesss': 1274, 'brains': 4635, 'especially': 4636, 'kako': 4638, 'cheerier': 4640, 'pain': 4641, 'lighter': 1276, 'stand': 4642, 'forbidden': 1277, 'thinks': 1278, 'hollowed-out': 4643, 'knowledge': 4645, 'whatever': 1279, 'infor': 1281, 'birthplace': 1472, 'slap': 1878, 'crayola': 1284, 'linda': 1285, 'presidents': 4646, 'mmmmm': 6654, 'jebediah': 4647, 'gum': 5614, 'managing': 1287, 'eva': 5960, 'generally': 4648, 'blur': 1288, 'know': 4650, 'sampler': 4651, 'hank_williams_jr': 4652, 'hampstead-on-cecil-cecil': 4653, 'come': 4654, 'restaurant': 1290, 'cartoons': 4656, 'spilled': 1291, 'single': 1292, 'chuck': 1293, 'looking': 4657, 'experiments': 6083, 'names': 1294, 'mention': 1296, 'stops': 4658, 'savings': 3597, 'kent': 1297, 'isotopes': 1298, 'stalking': 1299, 'drunkening': 1300, 'lucky': 4660, 'shut': 3556, 'themselves': 1303, 'wa': 4661, 'absolutely': 1304, 'nickels': 6520, 'expose': 4662, 'save': 5850, 'near': 1305, 'milhouses': 4663, 'installed': 1219, 'blinds': 1306, 'thousand': 4664, 'jets': 1307, 'ahh': 779, 'forehead': 4920, 'western': 1309, 'du': 4665, \"daughter's\": 1310, 'espn': 1311, \"gentleman's\": 4666, 'nods': 4667, 'lover': 1312, 'pusillanimous': 1313, 'heals': 4668, 'fifty': 4669, 'issuing': 1315, 'arm-pittish': 1316, 'push': 5943, 'hilarious': 4670, 'sucked': 4671, 'brakes': 1317, 'onassis': 1318, 'starve': 5263, 'snout': 4673, 'hooked': 1319, 'mix': 4674, 'vacation': 1320, 'admiring': 1322, 'smuggled': 3604, \"dad's\": 4123, 'sharps': 1323, 'maher': 1325, 'swine': 4675, 'prolonged': 1327, 'lily-pond': 4676, 'radical': 4677, 'agnes_skinner': 4678, 'sniffles': 722, 'attack': 1328, 'suing': 1329, 'somewhere': 1330, 'barn': 1331, 'diet': 4679, 'young_barfly': 2473, 'stalin': 4680, 'bloodball': 4681, 'laughs': 4682, 'court': 1335, 'bras': 4703, \"money's\": 1336, 'needed': 1337, 'leathery': 4683, 'grateful': 1887, 'rev': 1360, 'hold': 4684, 'enthusiastically': 1338, 'dismissive': 1339, 'friction': 4685, 'dearest': 1340, 'm': 5265, 'krusty': 4686, 'ahhh': 4687, 'slightly': 4688, 'lame': 4689, 'cleaning': 1342, \"'round\": 4691, 'sloppy': 4692, 'cutie': 1344, 'everyone': 1345, 'jobs': 4693, 'massive': 4694, 'poison': 6353, 'british': 1347, 'four-drink': 2478, 'yawns': 4695, 'wiggum': 6315, 'starla': 5267, 'reads': 1349, 'killjoy': 1888, 'cosmetics': 4696, 'complaining': 1352, 'buffalo': 1351, 'shaved': 4697, 'scientists': 4698, 'sigh': 1353, 'torn': 1354, 'excavating': 4699, 'living': 1355, 'gets': 4700, 'brought': 1357, 'trick': 1358, 'alva': 4134, 'speech': 4702, 'chance': 1365, 'sunny': 4704, 'dog': 1359, 'mrs': 4705, 'sixty': 1361, 'nameless': 3018, 'never': 1362, 'wieners': 1363, 'dictator': 1364, 'menace': 4706, 'take-back': 4707, 'fridge': 1367, 'runs': 789, 'train': 6071, 'boggs': 1368, 'service': 1369, 'poor': 1370, 'appointment': 4708, 'bless': 1371, 'looser': 1372, 'rascals': 1375, 'really': 1374, 'totally': 5857, 'affects': 6393, 'creepy': 4709, 'fabulous': 4710, 'saga': 1376, 'grandé': 1377, 'amnesia': 4712, 'cobbling': 4713, \"bo's\": 1378, 'bartholomé': 1380, 'p': 1381, 'does': 1382, 'dan_gillick': 6267, 'finale': 4715, 'someplace': 4716, 'blows': 1383, 'monkeyshines': 1384, 'suspended': 4717, 'anyone': 1385, 'cousin': 572, 'minutes': 4718, 'painting': 3610, 'standards': 4137, 'greatest': 1386, 'peter': 4719, 'refill': 4720, 'expect': 1387, 'ask': 1388, 'padre': 5277, 'means': 793, 'knit': 4722, 'clone': 4723, 'narrator': 1389, 'recently': 3495, 'scatter': 4724, \"year's\": 4725, 'network': 1390, 'in-in-in': 1391, 'focused': 1392, 'books': 4726, 'pizza': 4727, 'photographer': 1393, 'depressing': 921, 'pope': 1394, 'large': 5862, 'mind': 4728, 'storms': 1395, 'foibles': 5865, 'toys': 1396, 'ashtray': 1373, 'horns': 4375, 'cap': 1397, 'shoot': 4730, 'fonzie': 1398, 'sleep': 4731, 'index': 4733, 'robin': 1399, 'branding': 1400, 'pews': 4734, 'guts': 5866, 'cock': 4735, 'giving': 4736, 'by': 1401, 'acquaintance': 4737, 'bills': 4738, \"jackpot's\": 1402, 'son': 1403, 'empty': 1404, \"duff's\": 4739, 'handed': 4740, 'contented': 4743, 'ways': 4742, 'volunteer': 6001, 'manuel': 4744, 'sure': 4745, 'canyonero': 4746, 'sweetly': 1407, 'sunk': 1408, 'kissed': 729, 'news': 4747, 'lookalikes': 4748, 'likes': 4750, 'drink': 4751, 'crony': 1410, 'four-star': 4711, 'swe-ee-ee-ee-eet': 1411, 'supermarket': 4753, 'white': 4754, \"d'ya\": 4755, 'defiantly': 4142, 'movement': 4756, 'cheaped': 4757, \"we'll\": 4143, 'cruise': 1379, 'offa': 4760, 'kearney_zzyzwicz': 4759, 'shocked': 1413, 'beginning': 230, \"tab's\": 1414, 'speaking': 4761, 'belts': 1415, 'other': 1416, 'suds': 4762, 'face-macer': 5285, 'buzziness': 4763, 'enforced': 4764, 'negative': 5286, 'temp': 4765, 'nope': 4767, 'swell': 1418, 'oooh': 4768, 'travel': 4769, 'lungs': 5900, 'fills': 3028, 'driver': 4770, 'cobra': 6549, 'breath': 1420, 'excuses': 1422, 'harm': 4771, 'salary': 4772, 'smile': 4773, 'sight-unseen': 4774, 'superior': 4714, 'reluctant': 1425, 'voice': 3744, 'bar_rag': 4777, 'tokens': 4778, \"mopin'\": 4781, 'magazine': 4780, 'relaxed': 5287, 'sniper': 776, 'third': 2490, 'nicer': 4783, 'dear': 4784, 'legend': 4785, 'personal': 4786, 'become': 1427, 'grienke': 1428, 'sells': 4787, 'buzz': 4790, 'per': 4789, 'guns': 4791, 'see': 4792, 'yeah': 1430, 'incredible': 1431, 'newspaper': 1433, 'excellent': 3500, 'handshake': 810, 'sincerely': 4793, 'stirrers': 1434, 'in': 1435, 'terrified': 6402, 'venom': 3620, 'thoughtful': 4794, 'regretful': 4795, 'gals': 1436, 'seat': 4796, 'spellbinding': 4797, 'eye-gouger': 4798, 'feast': 1438, 'wolfe': 4799, \"s'okay\": 3034, \"smackin'\": 4800, 'odd': 1439, 'cops': 4801, 'broncos': 1440, 'hemorrhage-amundo': 5292, 'sickly': 4802, 'lemonade': 4323, 'reptile': 4804, 'video': 4806, 'drag': 1441, 'football': 4807, 'mulder': 4808, 'princesses': 4810, 'uh': 4811, 'declared': 5464, 'coupon': 2496, 'additional-seating-capacity': 4812, 'least': 4813, 'effervescence': 4815, 'mis-statement': 1445, 'grub': 1446, 'doppler': 4816, 'wikipedia': 1447, 'crying': 4817, 'inanely': 1449, 'reconsidering': 4818, 'distinct': 1450, 'nooo': 4819, \"moe's\": 4820, 'solely': 4821, 'boys': 4822, 'gary': 4823, 'hanging': 4824, 'nerve': 4825, 'event': 6144, 'seven': 4826, 'whether': 1452, 'tell': 4827, 'arise': 1453, \"'cept\": 4828, 'tuna': 4829, 'dang': 2501, 'model': 1455, 'bears': 1456, 'child': 1457, 'inspired': 1458, \"that'll\": 4254, 'mcbain': 4830, \"b-52's\": 4831, 'woozy': 1459, 'need': 4832, 'please': 1461, 'fumes': 4833, 'repeated': 4835, 'jacksons': 4721, 'tab': 1462, 'taylor': 1908, 'fork': 1464, 'head': 818, 'trapping': 1465, 'rife': 4836, 'gus': 4837, 'in-ground': 1467, 'produce': 5879, 'twenty-five': 4838, 'senators': 1468, 'elite': 4839, 'specific': 4840, 'scanning': 4841, 'expecting': 4842, 'faith': 4844, 'rainbows': 1470, 'allowance': 4845, 'sometime': 1471, 'eat': 4846, 'fire': 4847, 'heard': 4848, 'spending': 4850, 'failed': 6542, 'gallon': 1473, 'shesh': 4851, 'collapse': 1474, 'interested': 5291, 'deer': 4852, \"springfield's\": 4853, 'holy': 1475, 'trail': 4854, 'carefully': 1477, 'mall': 1478, \"coaster's\": 4855, 'jewelry': 1479, 'mural': 4856, 'lib': 4857, 'teeth': 4858, 'puts': 1481, 'moe_recording': 1482, 'thirty-nine': 4859, 'suru': 1483, 'diminish': 3876, 'shaky': 1484, \"what'll\": 4861, 'them': 1486, 'apron': 4862, 'flush': 1487, 'awfully': 1488, 'virtual': 1914, 'plotz': 4863, 'four': 4156, 'portuguese': 4864, 'gasoline': 3042, 'call': 1664, 'air': 4158, 'attractive_woman_#2': 4865, 'tall': 1491, 'proudly': 1492, 'inexorable': 4866, 'bugs': 1493, 'obama': 1494, 'shtick': 1495, 'sir': 1496, 'gardens': 4867, 'syndicate': 4868, 'calm': 4869, 'mozzarella': 4870, 'bleacher': 4872, 'wear': 1498, 'wondered': 4873, 'worthless': 4874, 'dads': 6416, 'ineffective': 4876, 'sucker': 4878, 'spitting': 4160, 'theatah': 6417, 'ear': 4879, 'mother': 1500, 'liser': 5371, 'benjamin': 1501, 'booze': 4880, 'talk': 1502, 'sounded': 1503, 'figured': 1504, 'trash': 5301, 'unfresh': 1505, 'soap': 1507, 'fortress': 4411, 'ron_howard': 1508, 'indecipherable': 1509, 'wound': 1511, 'curiosity': 1512, 'this': 5885, 'plus': 4881, 'paris': 1513, 'woo-hoo': 4882, 'dumb-asses': 4883, 'aiden': 3947, 'rings': 4884, 'takeaway': 4885, 'fall': 1514, 'muslim': 1515, 'giggle': 4886, 'darjeeling': 4887, 'singing': 4889, 'drunkenly': 4890, 'mexicans': 1516, \"now's\": 4891, 'draw': 4892, 'adult': 1517, 'raise': 1518, 'las': 4894, 'settles': 703, 'swings': 4895, 'ball-sized': 1520, 'eco-fraud': 4897, 'briefly': 1521, 'flash-fry': 4898, 'run': 1522, 'drivers': 4899, \"isn't\": 4900, 'micronesian': 4901, 'whup': 1523, 'connor': 4902, 'bet': 1524, 'grampa': 1525, 'traffic': 1526, 'secret': 1527, 'bullet-proof': 1528, 'haiti': 1529, 'strains': 1802, 'ballot': 6234, \"startin'\": 4904, 'rhode': 4905, 'gentlemen': 4906, 'wheels': 1531, 'swill': 1532, 'intention': 4907, \"kiddin'\": 3519, 'thanks': 1533, 'geysir': 3638, 'lumpa': 826, 'look': 4908, 'box': 4909, 'jubilation': 4910, \"children's\": 5307, 'sing': 4911, 'stars': 4776, \"'now\": 1419, 'coyly': 4912, 'dunno': 1536, 'thought_bubble_lenny': 1537, 'wrap': 5308, 'consoling': 4913, 'exhaust': 6421, 'item': 1540, 'ridiculous': 1541, 'admitting': 4914, 'feld': 4729, 'stolen': 254, 'pickled': 4915, 'sanitary': 4917, \"'topes\": 1542, 'though': 3641, 'reserved': 4918, \"hawkin'\": 1544, 'bee': 1545, 'toxins': 4919, \"foolin'\": 4921, 'adjust': 4922, 'jamaican': 3051, 'disappear': 6422, 'pillows': 1546, 'szyslak': 4923, 'same': 4924, 'referee': 1548, 'ummmmmmmmm': 4925, 'blade': 4926, 'hour': 3643, 'ditched': 1549, 'all': 4928, 'chilly': 1550, 'uh-huh': 4929, 'resenting': 830, 'sobo': 1553, \"swishifyin'\": 1554, 'beast': 4930, \"department's\": 4931, 'unavailable': 4732, 'dispenser': 4932, 'appreciate': 1556, 'booger': 1557, 'weary': 1558, 'most': 1560, 'exchange': 1561, 'brag': 3057, \"game's\": 4933, 'lose': 4934, 'ruin': 4935, 'strangles': 4937, \"ma's\": 5624, 'spent': 1563, 'lied': 1564, 'radioactive': 6116, 'repay': 6358, 'wait': 1565, 'cat': 1567, 'song': 1568, 'jeez': 1569, 'wordloaf': 4938, 'riveting': 4169, 'thanking': 4101, 'went': 1571, 'microwave': 4939, 'writers': 4171, 'john': 1573, 'sanitation': 1575, 'foundation': 932, 'crumble': 5934, 'town': 1577, 'glen': 1579, 'initially': 1580, 'tanking': 1582, 'control': 2529, 'bridges': 4942, 'ton': 4943, 'jewish': 2728, 'laugh': 4944, 'phone': 1583, 'charged': 4945, 'kind': 4946, \"marge's\": 4947, 'helpless': 1585, 'eight-year-old': 6346, 'been': 6427, 'rivalry': 4948, 'our': 4949, 'dollar': 4950, 'trunk': 1587, 'hoped': 4951, 'lou': 1590, 'rewound': 1589, 'here-here-here': 4953, 'eaten': 1591, 'bartending': 3647, 'supreme': 1592, 'forget': 4955, 'realized': 593, 'extract': 4956, 'tried': 4957, 'mint': 4958, 'arm': 3062, 'stinky': 1597, 'jesus': 1598, 'ventriloquism': 1599, 'gags': 1600, 'horrors': 4959, 'bounced': 4960, 'repressed': 1601, 'k': 1602, 'plants': 4961, 'employees': 4962, 'pretzel': 1603, 'cut': 4963, 'idiot': 4964, 'lemme': 3650, 'complaint': 1604, 'original': 1928, 'win': 1605, 'girls': 1606, 'feminist': 1608, 'winks': 1609, 'offense': 4965, 'drawing': 4966, 'entering': 4175, 'old-time': 4968, 'youse': 3652, 'paramedic': 6433, 'creature': 4969, 'boat': 3067, 'vincent': 1610, 'swear': 2978, 'fights': 1611, 'shriners': 4970, 'distaste': 269, 'low-blow': 1612, 'mission': 1613, 'tapping': 4971, 'insightful': 929, 'fool': 1614, 'depressed': 4973, 'hurting': 1615, 'computer_voice_2': 4974, 'eve': 1616, 'sitar': 6484, \"elmo's\": 4975, 'mither': 1617, 'attention': 1618, \"beggin'\": 4976, 'sugar-free': 1620, 'partly': 4977, 'filled': 837, 'eleven': 4288, 'achem': 4978, 'hyahh': 4979, 'sledge-hammer': 1621, 'thru': 1622, 'farthest': 271, 'stretches': 4980, 'neck': 4981, 'ordered': 5417, 'muttering': 1623, 'team': 4982, \"professor's\": 4182, 'uncomfortable': 4983, 'museum': 1624, 'y': 4215, 'chow': 4984, 'self-esteem': 4985, 'flashbacks': 4741, 'flaking': 1627, 'soon': 4986, \"today's\": 4183, 'kyoto': 1405, 'saw': 1629, 'ugliness': 1463, 'dinks': 1630, 'neat': 4987, 'tv_daughter': 1631, 'nfl_narrator': 1633, \"shootin'\": 1634, 'prejudice': 4988, 'squeals': 1636, 'reached': 5449, 'life-extension': 3658, 'flustered': 1637, 'persia': 4989, 'newsletter': 1406, 'backing': 1638, 'slipped': 461, 'count': 4990, 'simpson': 4991, 'knuckles': 4992, 'aristotle': 4655, 'blackjack': 1639, 'blokes': 4993, 'noticing': 1125, 'fine': 1641, 'special': 4994, 'irishman': 3296, 'clips': 4995, 'problem': 4996, 'foam': 1643, 'alls': 1644, 'scornful': 4997, 'donate': 1645, 'ho': 1646, 'weep': 6137, 'shells': 4518, 'breakdown': 4998, 'donation': 1648, 'chick': 5325, 'customers': 4999, 'obvious': 6390, 'gentle': 1649, 'bowl': 1650, 'self-satisfied': 5000, 'mortgage': 5001, \"man's\": 5002, 'endorsed': 1652, 'pass': 2539, 'smoothly': 1653, 'priest': 5003, 'touches': 1654, 'ripped': 1655, 'finish': 1656, 'coms': 1657, 'schemes': 5004, 'sacrilicious': 3775, 'little': 1409, 'bubble': 5005, \"stinkin'\": 5006, 'passenger': 1326, 'rent': 5008, 'michael_stipe': 1660, 'gary_chalmers': 5009, 'raining': 1662, 'scornfully': 5010, 'continued': 1663, 'jokes': 5011, 'upset': 5012, 'maitre': 5013, 'wage': 5328, 'modestly': 5015, 'passes': 1665, 'wiggle': 1666, 'lucius': 1667, 'hateful': 809, 'racially-diverse': 4782, 'befriend': 5016, \"'cause\": 5017, 'insured': 5019, \"shan't\": 843, 'samples': 5020, 'steel': 5021, 'fierce': 5023, 'delivery_boy': 1671, 'tree': 1786, 'sistine': 3662, 'maggie': 5024, 'swigmore': 845, 'barney-guarding': 5026, 'fortune': 5027, 'crestfallen': 5028, 'hyper-credits': 1674, 'coward': 5029, 'legs': 5530, 'lord': 1675, 'string': 1676, 'approval': 283, \"comin'\": 1677, 'soaps': 5030, 'can': 1678, 'irrelevant': 5031, 'mellow': 1679, 'arms': 848, 'simplest': 5032, 'poorer': 5033, 'greetings': 5034, 'unearth': 1680, 'eddie': 1681, 'case': 1682, 'moment': 5332, 'troy': 1683, 'ambrosia': 1684, 'alone': 5037, 'one': 5038, 'sell': 849, 'closed': 5040, 'skins': 5041, '_eugene_blatz': 5042, 'listens': 1685, 'milhouse': 5043, 'is': 1686, 'appear': 5044, 'aboard': 5045, 'liable': 4193, 'billy_the_kid': 5046, 'romance': 5047, 'leaving': 5048, 'option': 1688, 'sacajawea': 1689, 'mm': 5049, 'face': 1690, 'strokkur': 1692, 'splash': 5053, 'rafter': 5054, 'moans': 1412, '_burns_heads': 5055, 'kiss': 1693, 'earth': 1694, 'sesame': 1695, 'sudden': 5057, 'cracked': 4194, 'longer': 5058, 'japanese': 1696, 'high': 5337, 'bitter': 1697, 'promised': 1698, 'abe': 5059, 'dead': 1699, 'leak': 4178, 'plow': 5060, 'yells': 1700, \"she'll\": 1701, 'bunch': 5061, 'clear': 1702, \"changin'\": 5062, 'counting': 5063, 'aid': 5064, 'romantic': 1703, 'buddy': 5066, 'gonna': 1704, 'troy_mcclure': 4758, 'bumblebee_man': 5067, 'eighteen': 5068, 'truck': 1705, 'stern': 1707, 'browns': 5942, 'tigers': 5069, 'fighting': 1708, 'causes': 1709, 'cooler': 5070, 'prince': 1711, \"wino's\": 1712, 'resolution': 1713, 'suits': 5073, 'whoa': 856, 'grrrreetings': 1714, 'looks': 5075, 'grunts': 5076, 'begging': 5077, 'ice': 5078, 'therapist': 1715, 'closet': 1716, 'shoe': 5080, 'social': 5081, 'runaway': 1717, \"nothin's\": 4167, 'rug': 1718, 'junebug': 1719, 'dislike': 5083, 'handwriting': 5084, 'wenceslas': 1720, 'sick': 5085, 'delete': 1721, 'grudgingly': 1722, 'title': 1723, 'gosh': 5087, 'sucks': 1724, \"eatin'\": 5089, 'endorsement': 1725, 'animals': 5090, 'years': 5092, \"wait'll\": 1726, 'schabadoo': 5093, 'chosen': 1727, 'avenue': 1728, 'kool': 5922, 'st': 5094, 'teenage_barney': 1729, 'thoughts': 1730, 'hates': 5096, 'plenty': 5097, 'tobacky': 6450, 'grieving': 5098, 'fresco': 1732, '1-800-555-hugs': 1733, 'taxes': 1734, 'nineteen': 6431, 'held': 1735, 'sitting': 4749, 'cannot': 5101, 'leave': 5102, 'sheets': 4766, 'flush-town': 5103, 'neon': 6663, \"nixon's\": 1736, 'late': 1925, 'growing': 862, 'red': 5104, 'wow': 5105, 'abercrombie': 5107, 'mom': 1737, 'grimly': 1738, 'various': 5108, 'strictly': 5109, 'cheated': 1739, 'panicked': 5112, 'whispered': 5113, 'convenient': 1740, 'country-fried': 1741, 'mcstagger': 1742, 'sodas': 1743, 'normal': 5114, 'dynamite': 5893, 'awww': 5118, 'male_inspector': 5117, 'melodramatic': 5119, 'pulitzer': 6562, 'front': 1746, 'conclusions': 5120, 'dies': 1747, 'irs': 1749, 'sensible': 5121, 'named': 863, 'malfeasance': 5122, 'return': 1751, 'hunger': 5123, 'conference': 1752, 'la': 1753, 'burglary': 5125, 'spine': 1754, 'saved': 1755, 'koholic': 1757, 'flourish': 1758, 'speed': 1759, 'polishing': 1760, 'maya': 1761, 'sec_agent_#2': 5126, 'dramatically': 1762, 'skirt': 5127, 'prizefighters': 1421, 'manboobs': 1763, 'frescas': 5128, 'americans': 5129, 'tale': 5130, \"poisonin'\": 5649, 'pasta': 5131, 'ling': 5132, 'poisoning': 1764, 'oils': 5777, 'introduce': 5133, 'turn': 5134, '||quotation_mark||': 5135, 'general': 5136, '||dash||': 1765, 'health_inspector': 1766, 'fires': 1275, 'punches': 5927, 'doy': 5355, 'telling': 1423, \"i'm-so-stupid\": 3679, 'last': 1767, 'seething': 5137, 'careful': 5138, 'frightened': 4775, 'morning-after': 1769, 'windshield': 5141, 'taste': 5142, 'ingested': 5143, 'trolls': 5146, 'problems': 1771, 'moe-clone': 1772, 'dude': 1773, 'for': 5147, 'tee': 4621, 'pressure': 1774, 'paparazzo': 1775, 'sorry': 1776, 'fondly': 1777, \"who'll\": 5148, 'dames': 1778, 'putting': 1779, 'actor': 6287, 'loafers': 1424, 'am': 1780, 'twerpy': 5151, 'exultant': 1781, 'slaves': 3096, 'christian': 5877, 'homer_simpson': 5152, 'pile': 5153, 'affectations': 1782, 'wasted': 1783, 'grand': 1784, 'judge': 4206, 'also': 1785, 'electronic': 5360, 'cuff': 1787, 'aghast': 5154, 'rag': 5155, 'thousand-year': 1788, 'birthday': 1789, 'watched': 1790, 'sour': 1791, 'different': 5158, 'either': 4779, 'typed': 5159, 'heather': 5160, 'getaway': 1792, \"larry's\": 5162, 'eighty-three': 6490, 'sweet': 1793, \"askin'\": 5578, 'schedule': 5163, 'bidet': 5164, 'sentimonies': 5165, 'quarry': 5166, 'edna': 1794, 'village': 5167, 'course': 2935, 'tubman': 5168, 'tastes': 5139, 'shaker': 5169, 'calendars': 5170, 'lobster': 1795, 'company': 1796, 'praise': 1799, 'genuinely': 1800, 'aging': 1801, 'flat': 1803, 'rope': 5173, 'chin': 5583, 'natural': 5174, 'depression': 1804, 'finance': 1805, 'increasingly': 6407, 'texan': 5177, 'prompting': 6462, 'twenty-nine': 5178, \"mcstagger's\": 5179, 'pulled': 1806, 'nominated': 1807, 'acquitted': 5181, 'ram': 1808, 'coffee': 1809, 'bourbon': 5182, 'gamble': 1810, 'potato': 1811, 'woulda': 1812, 'exciting': 5183, 'eyeball': 1813, 'edelbrock': 5184, 'mccall': 5186, 'finding': 1426, 'grabs': 1814, \"speakin'\": 1817, 'sorts': 1816, 'suave': 1818, 'wake': 5192, 'finishing': 1819, 'steam': 5194, 'mindless': 1820, 'au': 1821, 'syrup': 5944, 'leprechaun': 1822, 'othello': 5195, 'tv-station_announcer': 1823, 'shotgun': 1824, 'dying': 5196, 'unbelievably': 5197, 'predictable': 5198, 'cost': 5199, 'royal': 1578, 'windex': 5200, 'whistles': 1825, 'shame': 1826, 'everyday': 5201, 'southern': 1827, 'impatient': 5780, 'throw': 5202, 'enhance': 5203, 'lights': 100, 'disappeared': 876, 'allegiance': 1432, 'sweetheart': 5366, 'marvin': 5206, 'partially': 5207, 'reserve': 5208, 'gal': 5562, 'seems': 5209, 'hitler': 1828, 'camera': 5210, 'kansas': 1829, 'shrieks': 1833, 'pirate': 1831, 'barely': 4214, 'libraries': 5212, 'scrutinizes': 1834, 'larson': 1835, 'boring': 1837, 'drollery': 1838, 'nigel_bakerbutcher': 5214, 'society': 5215, 'actually': 1839, 'profiling': 2564, 'repeating': 1840, 'sink': 5217, 'bar': 5218, 'meaningful': 1841, 'reason': 1842, 'tied': 1843, 'half-beer': 1844, \"'n'\": 5220, 'walking': 5221, 'ma': 1845, 'cases': 1972, 'amber': 1973, 'chairman': 1846, 'carnival': 5223, 'chuckling': 5224, 'eightball': 5225, 'bridge': 5226, 'starlets': 5368, 'advertise': 1847, 'fat': 1848, \"soundin'\": 1849, 'yet': 5228, 'cup': 5229, 'bob': 5230, 'beauty': 1850, 'moon': 5233, 'david_byrne': 1852, 'studio': 1853, 'protesters': 1854, 'bachelorhood': 1855, 'triangle': 1856, 'continuum': 3111, 'presidential': 5234, 'snap': 5235, 'kinderhook': 5236, 'handoff': 1857, 'churchill': 5237, 'bid': 5238, 'gotta': 1858, 'kneeling': 1859, 'wobble': 5240, 'embarrassing': 1860, 'stood': 5241, \"number's\": 1673, 'of': 5242, 'fist': 1861, 'pudgy': 5243, 'scene': 2571, 'jasper_beardly': 5244, 'customers-slash-only': 5245, 'tune': 1862, \"lefty's\": 5246, 'gentles': 5247, 'stupidly': 1863, 'france': 5249, 'body': 1864, \"fine-lookin'\": 1595, 'stooges': 5250, 'change': 1865, 'register': 1866, 'eighty-one': 1868, 'pursue': 1869, 'fired': 1870, 'pitcher': 4219, 'contact': 1871, 'stengel': 1872, '6': 1873, 'squirrel': 1874, 'represent': 888, 'lizard': 5252, 'freaky': 1875, 'mirror': 1876, 'hear': 5253, 'killarney': 5254, 'befouled': 890, 'talking': 1877, 'spy': 1879, 'andy': 1880, 'plum': 5257, 'mary': 6331, 'dreamy': 5258, 'managed': 5259, 'thanksgiving': 1882, \"wearin'\": 1437, 'seeing': 5260, 'now': 5261, 'lovejoy': 5262, 'boxcar': 1883, 'baloney': 1884, 'steampunk': 5264, 'burps': 1886, 'quero': 1983, 'channel': 5266, \"countin'\": 5374, 'neighboreeno': 5268, 'straining': 5269, '_kissingher': 1889, 'mug': 5270, 'who-o-oa': 5271, 'soft': 5272, 'freak': 3694, 'tow': 1890, 'points': 5274, 'gang': 1417, 'masks': 4223, 'evening': 1891, 'broom': 5275, 'natured': 5276, 'perón': 5278, 'betrayed': 5279, 'sex': 1892, 'michelin': 5280, 'boo': 1893, 'drapes': 1894, 'pancakes': 5281, 'lawyer': 1895, 'revenge': 1896, 'sobbing': 5282, 'bump': 4521, 'liver': 5283, 'talkers': 5284, 'mine': 1898, 'blubberino': 5288, 'thirty-thousand': 5289, \"bar's\": 5290, 'milk': 1899, 'slender': 1988, 'africa': 1900, 'bashir': 1901, 'pushes': 5294, 'los': 1902, 'probably': 1903, 'shower': 4803, 'applesauce': 1904, 'reach': 1905, 'expensive': 5295, 'upbeat': 1906, 'ten': 1907, 'find': 5296, 'wanted': 1909, 'singers': 1910, 'dutch': 1911, 'arimasen': 1912, \"fallin'\": 5297, 'influence': 1913, 'appendectomy': 4227, 'parrot': 4809, 'usual': 4033, 'twin': 5380, 'local': 5298, 'nelson': 311, 'affection': 1915, 'prayers': 5299, 'wrecking': 5300, 'changing': 5302, 'baby': 1916, 'pleading': 1917, 'pickle': 1918, 'amber_dempsey': 1919, 'couple': 5303, 'forced': 5304, 'deeper': 5305, 'modest': 5306, 'murderously': 1920, 'fayed': 1921, 'fight': 5309, 'wolveriskey': 1922, 'navy': 5310, 'slop': 1923, \"stayin'\": 1924, 'fountain': 5311, 'listening': 5312, 'move': 5313, 'williams': 5314, 'captain': 5315, 'sexy': 3702, 'stained-glass': 1926, 'lotta': 5316, 'clientele': 1927, 'bathtub': 1929, '2': 1930, 'leans': 5317, 'signed': 1931, 'annoying': 4814, \"we'd\": 5318, 'busy': 5319, 'bart_simpson': 5320, 'puff': 1443, 'sweat': 1932, \"when's\": 1933, 'wagering': 1444, 'jeter': 5321, \"i'll\": 5322, 'better': 1934, 'undated': 900, 'liability': 5323, \"yieldin'\": 1935, 'tempting': 5324, 'swamp': 1937, 'dress': 6471, 'fainted': 313, 'throats': 1938, 'community': 1939, 'tons': 5326, 'wolverines': 6047, 'suburban': 5327, 'stepped': 1940, 'rat': 5329, 'mortal': 1941, 'catholic': 1942, 'settled': 5330, 'naegle': 1943, 'spacey': 5331, 'togetherness': 1944, 'ringing': 5333, '100': 5334, 'relative': 1945, 'adopted': 5335, \"there's\": 5336, 'drop': 5339, 'nectar': 1946, 'cover': 1947, 'solved': 5340, \"team's\": 1948, 'coins': 1949, 'tire': 1950, 'uglier': 1951, 'chapter': 5343, 'wells': 1953, 'precious': 1954, 'were': 5344, 'cupid': 1955, 'believe': 1956, 'figures': 1957, \"what're\": 5345, 'covering': 5346, \"o'problem\": 5347, 'driveability': 1958, 'cheering': 5348, \"son's\": 3710, 'brockelstein': 6338, 'stadium': 5349, 'facebook': 5350, 'eyes': 5351, 'passed': 1959, 'reporter': 5352, 'list': 906, 'welcome': 5353, 'shoulders': 5356, 'as': 5357, \"cashin'\": 5358, 'chicken': 1960, 'britannia': 1961, 'city': 5359, 'lifestyle': 1962, 'cries': 1963, 'losing': 6475, \"they've\": 5822, 'someone': 1964, 'rabbits': 1965, 'nor': 1966, 'quickly': 1968, 'hearing': 325, 'flea': 5363, 'impress': 5364, 'plane': 1969, 'prize': 5365, 'stu': 2000, 'die-hard': 1970, 'rosey': 1971, 'weight': 5367, 'panties': 1974, 'sloe': 1975, 'crinkly': 5369, 'har': 5370, 'businessman_#2': 5954, 'radishes': 1451, \"people's\": 1976, 'uh-oh': 1977, 'engine': 1978, 'gargoyles': 1979, 'asleep': 5372, 'badmouths': 1980, 'average': 1981, 'competing': 5373, 'ahhhh': 1982, 'cecil': 5375, 'farewell': 1984, 'space-time': 5376, 'declan': 1985, 'teenage_homer': 1986, 'stage': 3707, 'tones': 1987, 'wiener': 5377, \"'s\": 5378, 'south': 1989, 'beam': 5379, 'washouts': 5381, 'shortcomings': 5382, \"dimwit's\": 1991, 'wipe': 1992, 'connor-politan': 5383, 'nagurski': 1993, 'vengeance': 1994, 'bride': 1995, 'disco_stu': 1996, 'patterns': 1997, 'intense': 5386, 'doors': 5385, 'nahasapeemapetilon': 5387, 'dignified': 1998, 'massage': 1999, 'totalitarians': 5388, 'sweaty': 3859, 'him': 321, 'zero': 5389, 'outlook': 5390, 'sat': 5391, 'reciting': 5392, 'west': 5393, 'putty': 2001, 'yuh-huh': 5394, 'kahlua': 1454, 'stock': 1096, 'twentieth': 2002, 'windowshade': 5395, 'maude': 5396, 'poured': 5397, 'care': 3136, 'wrong': 2003, 'singer': 2004, 'suspect': 4239, 'artie': 2005, 'burg': 5398, 'wrestling': 2006, 'ziff': 5399, 'guard': 2007, 'burt': 5400, 'hail': 2008, 'few': 2009, 'yard': 3138, 'road': 2010, 'kidding': 1333, \"one's\": 5402, 'harrowing': 3713, \"payin'\": 5747, 'intriguing': 5403, 'short_man': 5404, 'kucinich': 2011, 'picked': 2012, 'helicopter': 2013, 'assert': 2015, 'falling': 5406, 'trivia': 5407, 'beef': 3714, \"starla's\": 2016, 'ehhhhhhhhh': 3715, 'jump': 5408, '&': 5409, 'unkempt': 5411, 'book': 5413, 'silence': 2596, 'corner': 2020, 'spouses': 2021, 'throwing': 2022, 'halfway': 5416, 'adequate': 2023, 'cockroaches': 5401, 'eggshell': 2024, 'mayor_joe_quimby': 5418, 'lachrymose': 2025, 'feedbag': 5419, 'buddies': 2026, 'lowers': 5422, 'close': 5423, 'tsking': 5424, 'fustigation': 6629, 'station': 2027, 'unison': 5425, 'informant': 2028, 'righ': 2029, 'shop': 5967, 'woman': 5427, 'hygienically': 5428, 'bites': 5429, 'misconstrue': 2031, 'cheers': 5430, 'gimme': 5431, \"smokin'_joe_frazier\": 2032, 'meaning': 2033, 'ow': 2034, 'involving': 2035, 'fledgling': 2036, 'agency': 5433, 'camp': 5434, 'multiple': 6085, 'peeping': 2038, 'bonding': 5435, 'getting': 5436, \"ball's\": 5437, 'psst': 5438, 'snow': 2039, 'backgammon': 5439, 'scary': 2040, 'pack': 2041, 'use': 2042, 'laney': 1460, 'robbers': 2043, 'oopsie': 3723, 'trouble': 2044, 'conditioner': 2045, \"calf's\": 2046, 'instantly': 2047, 'pleased': 2048, 'anything': 2049, 'thorn': 2050, 'mistakes': 5444, 'say': 5445, 'mudflap': 6102, 'shores': 6494, 'jig': 2051, 'stamps': 2052, 'since': 2053, 'secrets': 2054, 'seductive': 6496, \"tap-pullin'\": 5447, 'tips': 5448, 'more': 2055, 'spinning': 5621, 'flame': 5450, 'cream': 5451, 'onions': 4251, 'stones': 5452, 'flames': 5453, 'octa-': 3725, 'gift': 5454, 'boxers': 5455, \"table's\": 2057, 'pro': 5456, 'america': 2058, 'richer': 5458, 'forever': 5459, 'juke': 2059, 'op': 2060, 'anywhere': 2061, 'tree_hoper': 2062, 'round': 5460, 'maintenance': 3146, 'certainly': 2063, 'pharmaceutical': 2064, 'frat': 2065, 'forward': 5461, 'deny': 2066, 'fact': 2067, 'rainier': 5462, \"snappin'\": 2069, 'dressed': 2070, 'sympathy': 334, 'teenage': 2072, 'invisible': 2073, 'professional': 2074, 'above': 4260, 'stay': 2075, 'equal': 5465, 'beloved': 484, 'korea': 462, 'that': 4095, 'heave-ho': 5467, 'way': 2076, 'longest': 2077, 'outs': 6625, 'theater': 2078, 'wudgy': 5470, 'tuborg': 5471, 'de-scramble': 5472, 'decent': 2079, 'sheepish': 2080, 'frosty': 5474, 'bill': 1466, 'broken': 6306, 'barstools': 2081, 'the_rich_texan': 5476, 'gentleman': 2083, 'rims': 5477, 'sneering': 2014, 'foot': 5478, 'brunch': 2084, 'shred': 6145, 'remembering': 2085, 'cowboy': 5974, 'shill': 5480, 'flophouse': 6179, 'administration': 2086, 'icelandic': 5481, 'felt': 5482, 'compadre': 2087, \"'bout\": 5484, 'snotty': 5485, 'braun': 2088, 'chained': 5486, 'hemoglobin': 5781, 'presided': 2089, 'writing': 2090, 'term': 2091, 'cueball': 2790, 'elmer': 2092, 'accidents': 5487, 'teams': 2093, 'billiard': 2094, 'reminded': 2095, 'hose': 5489, 'saucy': 1469, 'plucked': 5490, 'occurred': 5491, 'give': 4263, 'chips': 2096, 'specializes': 2097, 'tidy': 2098, 'lincoln': 5493, 'punishment': 5494, 'buttons': 4265, 'forty-five': 2099, 'furniture': 2100, 'plans': 2101, 'hunky': 5496, 'pause': 930, 'bright': 2102, 'minister': 2103, 'size': 2104, \"father's\": 2105, 'santa': 5499, 'heliotrope': 2106, 'tang': 5500, '530': 5977, 'gag': 3205, 'kisses': 2017, 'subscriptions': 5502, 'society_matron': 2107, 'boxing': 4843, 'email': 2108, 'lowering': 1442, 'showered': 2018, 'rotch': 2109, 'bed': 2110, 'fury': 5505, 'terrifying': 2111, 'freely': 2112, \"i'unno\": 2113, 'activity': 2019, 'smelly': 2116, 'fantasy': 2117, 'voice_on_transmitter': 2118, 'kicked': 5508, 'heh': 5509, 'hostages': 2120, \"car's\": 5256, 'bottom': 4849, 'new_health_inspector': 937, 'snorts': 2121, 'slip': 5510, 'annual': 5511, 'doof': 4877, 'feisty': 5512, 'key': 2122, 'bumbling': 6503, 'turns': 5415, 'twelve-step': 2124, 'whatchamacallit': 2125, 'life': 2126, 'shelf': 5513, 'ring': 5514, 'shutup': 5515, 'fiiiiile': 2127, 'lists': 6504, 'refreshing': 2128, 'evasive': 6349, 'capitalists': 5518, 'everything': 6505, 'hardwood': 5519, 'dregs': 2129, 'accelerating': 2130, 'mind-numbing': 2131, 'doom': 2132, 'himself': 2133, 'violin': 6506, 'stares': 5520, 'modern': 5521, \"what's\": 2134, 'hurry': 2135, 'moved': 5523, 'grammys': 2136, \"fans'll\": 2137, 'anti-crime': 5528, 'bail': 1144, 'patient': 5529, 'slugger': 6481, 'cattle': 349, 'hollywood': 5531, 'foodie': 5532, 'collette': 3736, 'darkness': 2138, \"family's\": 5981, 'hourly': 2139, 'salt': 5534, 'effigy': 5535, 'drummer': 2140, 'perverse': 2141, 'jams': 1476, 'juice': 2142, 'fustigate': 2143, 'warranty': 5537, 'thumb': 2145, 'forgot': 6534, 'nordiques': 5538, 'cigars': 2146, 'mt': 2147, 'access': 2148, 'tenuous': 2149, 'except': 2150, 'calling': 5540, 'forgotten': 5541, 'prove': 5542, '8': 5543, 'lard': 5544, \"'your\": 2152, 'albeit': 5545, \"c'mere\": 5546, 'penmanship': 2153, 'housewife': 5547, 'drinks': 5548, 'automobiles': 1230, 'allowed': 5549, 'getup': 5983, 'glad': 4279, 'cricket': 2154, 'chest': 5550, 'toward': 5551, \"breakin'\": 2155, 'softer': 2156, 'alfalfa': 2157, 'minimum': 5554, \"we're\": 2158, 'sinister': 943, 'musta': 5555, 'compliments': 2160, 'table': 2162, 'conversion': 5556, 'smiles': 5557, 'energy': 5420, 'slim': 5559, 'file': 2163, 'simple': 2164, \"nick's\": 2165, 'brawled': 5561, 'vacations': 4954, 'roomy': 2166, 'without': 2167, 'ye': 5421, 'turlet': 2168, 'urge': 2169, \"cont'd\": 5564, 'old_jewish_man': 5565, 'benefits': 2170, 'steamed': 2173, 'woman_bystander': 2172, 'susie-q': 6459, 'holding': 2174, 'moe-heads': 2176, 'organ': 2178, 'dae': 2179, 'seats': 2180, 'killing': 2181, 'larry': 5566, 'newly-published': 2183, 'wide': 5567, 'julep': 5569, 'mini-dumpsters': 5570, 'searching': 2184, 'generously': 5572, 'spare': 2185, 'specified': 2186, 'luv': 5573, 'belong': 2187, 'toasting': 4860, 'dishrag': 2188, \"dog's\": 2189, 'u2': 1485, 'clams': 2190, 'rummy': 5579, 'jägermeister': 2191, 'wholeheartedly': 2192, 'stalwart': 4284, 'guys': 5581, 'let': 2194, 'cozy': 2195, 'knocks': 2196, 'ruled': 5582, 'aunt': 2197, 'beat': 2198, 'inspiring': 2200, 'disapproving': 2201, 'grubby': 2202, 'watch': 2203, 'ehhhhhh': 1489, 'fighter': 5426, 'socratic': 2205, \"'er\": 5586, 'mocking': 2206, 'question_mark': 2207, 'ball': 5587, 'invited': 5988, \"haven't\": 5588, 'dirt': 5589, 'champignons': 5590, 'agreement': 4805, 'wore': 948, 'intrigued': 2208, 'alky': 5591, 'then': 5592, 'coney': 5593, 'connection': 5594, 'device': 5595, 'carolina': 6254, 'listened': 6086, 'kay': 2209, 'exchanged': 5596, 'doll': 2210, 'bees': 2030, 'vodka': 5597, 'burp': 2211, 'rash': 5599, 'bragging': 5600, 'sight': 5601, 'pinchpenny': 1490, 'appalled': 2212, 'tummies': 2213, 'patriotic': 5603, 'cuz': 5604, 'blind': 5606, 'alec_baldwin': 2214, 'stir': 950, 'hammy': 6514, 'madman': 6445, 'love': 2217, 'bumpy-like': 5607, 'angel': 2218, 'yoink': 5610, 'barf': 5468, 'otherwise': 5884, 'bread': 357, \"homer's\": 2220, 'para': 5611, 'kinda': 2221, 'ze-ro': 5695, 'alma': 6200, 'wienerschnitzel': 5613, 'lately': 360, 'beings': 5615, 'once': 952, 'nervous': 2222, 'guinea': 2223, '3': 2225, 'stein-stengel-': 2226, 'civil': 5432, 'workers': 5616, 'w-a-3-q-i-zed': 3745, 'thankful': 3773, 'hopeful': 5617, 'any': 2227, 'treasure': 2228, 'test-lady': 2229, 'miss_lois_pennycandy': 2230, 'asks': 2234, 'horrible': 2235, 'kickoff': 5618, 'newsies': 6516, 'accept': 5619, 'sober': 2236, 'cuddling': 2237, 'scram': 5901, 'worst': 5620, '||right_parentheses||': 2238, 'cliff': 2239, 'wanna': 5993, 'stretch': 5623, 'best': 2240, \"she's\": 5626, 'awe': 5627, 'pats': 2241, 'crappy': 5628, 'transylvania': 2242, 'usually': 2243, 'older': 2244, 'training': 2245, 'asked': 2246, 'hibachi': 363, 'full-bodied': 2248, 'beaumarchais': 2037, 'mel': 2250, 'television': 2251, 'socialize': 2252, 'wobbly': 2253, 'friends': 1672, 'man_with_tree_hat': 2254, 'germs': 957, 'locklear': 2255, 'script': 2256, 'suspicious': 2257, \"showin'\": 5994, 'however': 2258, 'whaddaya': 367, 'mice': 2261, 'düff': 2262, 'afloat': 5632, 'certified': 2263, 'kenny': 2264, 'slays': 2265, 'fan': 5633, \"s'pose\": 5634, 'payday': 4871, 'engraved': 5637, 'mill': 5638, 'absentmindedly': 2266, 'groans': 2267, 'catty': 5641, 'doctor': 5640, 'kids': 5642, 'skinheads': 2268, 'lobster-based': 2270, 'clearly': 2271, 'art': 1632, 'whole': 5643, 'monkey': 2272, 'college': 2273, 'skunk': 5440, 'grow': 5644, 'snotball': 2274, 'journey': 3751, 'barney-shaped_form': 5645, 'people': 1499, \"ladies'\": 5648, 'ho-ly': 2275, 'exactly': 5650, 'christopher': 2276, 'space': 5441, 'straighten': 5998, 'breakfast': 2277, 'female_inspector': 2278, \"bart's\": 5652, 'riding': 4875, 'tester': 5653, 'waterfront': 2279, 'mike': 3753, 'handling': 2280, 'prison': 5654, 'underpants': 5655, 'center': 5442, 'nachos': 5656, \"i-i'm\": 2282, 'hoo': 2284, 'soothing': 6072, 'gumbel': 2285, 'joking': 5657, 'associate': 6522, 'safe': 2286, 'fail': 5658, 'kicks': 2287, 'raggie': 2289, 'addiction': 2290, 'much': 2291, 'owes': 2293, 'academy': 3756, 'complete': 5661, 'gee': 5662, 'gruesome': 2294, 'whale': 2295, 'exhale': 3184, 'upn': 3758, 'lisa': 5664, \"leavin'\": 2296, 'fevered': 2298, 'overstressed': 5666, 'hard': 4299, 'meatpies': 2300, 'brunswick': 5668, 'tow-talitarian': 2301, \"queen's\": 6523, 'jaegermeister': 2303, 'giant': 2304, 'serve': 5670, 'a-b-': 2305, 'placed': 2306, 'murmurs': 5671, 'groveling': 5672, 'bartenders': 5673, 'jumps': 2307, 'touched': 3760, 'haircuts': 5674, '1895': 5675, 'alley': 6540, 'about': 2308, 'sister': 2309, 'disdainful': 2310, 'plastered': 2311, 'skinner': 5677, 'sustain': 5678, 'washer': 2312, 'indigenous': 5680, 'distraught': 5681, 'decadent': 4304, 'year': 2313, 'hooters': 5446, 'entrance': 2314, 'composer': 5683, 'drawer': 5684, 'rolling': 2315, 'it': 2316, 'sports_announcer': 5685, 'taps': 2317, 'could': 5687, 'items': 2318, 'cent': 5689, 'vengeful': 5690, 'which': 2319, 'astronauts': 6372, 'other_book_club_member': 2320, 'quality': 2321, 'mathis': 2322, 'banquet': 5691, 'committing': 5692, 'fourteen': 2323, 'fulla': 2324, 'commanding': 1506, 'quite': 2325, 'muffled': 2326, 'wears': 5694, 'newsweek': 2327, 'coherent': 5696, 'landlord': 5697, 'bird': 2328, 'broad': 5698, \"d'\": 5699, 'old': 2329, 'terrorizing': 5701, 'rude': 2330, 'offensive': 1670, 'whim': 2640, 'huhza': 2331, 'dallas': 5702, 'pepto-bismol': 1160, 'neighborhood': 2332, 'certificate': 2333, 'elect': 3191, 'almond': 5703, 'solid': 5704, 'gotten': 2335, \"clancy's\": 5705, 'disgrace': 2336, 'money': 5706, 'working': 2337, \"soakin's\": 2338, 'beer-jerks': 2339, 'nonchalant': 5708, 'wiggle-frowns': 4834, 'patron_#2': 2340, \"could've\": 2341, 'score': 2342, \"show's\": 6528, 'duh': 2343, 'archaeologist': 5709, 'chief_wiggum': 5710, 'measurements': 2344, '1979': 5711, 'donated': 5712, 'wishes': 5713, 'dimly': 2345, 'payments': 5714, 'casting': 5715, 'fortensky': 5716, \"'pu\": 5717, \"someone's\": 2346, 'capuchin': 2347, 'traditions': 5719, 'bedtime': 5771, \"how's\": 4308, 'brine': 5720, 'instrument': 2056, 'splattered': 5721, 'thoughtfully': 5722, 'nantucket': 5724, 'sugar-me-do': 2348, 'winded': 2349, 'celebrate': 2350, 'slick': 2351, 'studied': 2353, 'kegs': 4309, 'chinua': 2354, 'minors': 2355, 'god': 2356, 'medieval': 2357, 'test': 2358, 'rainier_wolfcastle': 1149, 'players': 5727, 'sadder': 2359, 'followed': 2360, 'friday': 2361, 'pigtown': 2362, 'process': 2175, 'site': 2365, 'avec': 6011, 'shush': 1952, 'commission': 2367, 'monster': 2368, 'moments': 2369, 'shares': 5728, 'santeria': 5730, 'huggenkiss': 2370, 'declan_desmond': 2371, 'insist': 2372, 'majesty': 2373, 'displeased': 3774, 'publishers': 2374, 'easily': 2375, 'relieved': 5734, \"it's\": 5735, 'betty': 2376, 'read': 2377, 'international': 5736, \"enjoyin'\": 5737, 'scare': 5738, 'yoo': 5739, 'prank': 3776, 'linda_ronstadt': 5740, 'meaningless': 2379, 'beep': 2381, 'starts': 6014, 'kirk_van_houten': 2382, 'desperate': 5742, 'rocks': 6532, 'stupidest': 2383, 'filed': 5743, 'program': 5744, 'yee-haw': 5457, 'restless': 2384, 'bowie': 5463, 'ding-a-ding-ding-ding-ding-ding-ding': 2385, 'phlegm': 5748, 'marquee': 6298, 'therapy': 980, 'lowest': 5749, 'pantry': 2386, 'crowned': 2387, 'conclude': 5443, 'hotenhoffer': 5750, 'acting': 5751, 'world': 5752, 'nitwit': 2388, \"that's\": 2389, 'quadruple-sec': 5754, 'knowing': 2390, 'piano': 5755, 'celebrity': 2391, 'population': 2392, 'doubt': 5756, 'bust': 2393, 'marshmallow': 5758, \"donatin'\": 2394, \"toot's\": 4888, 'sit': 2395, 'lifetime': 981, 'loneliness': 4024, 'one-hour': 2398, 'hans': 389, 'states': 4321, \"neighbor's\": 5763, 'pond': 2144, 'dad': 5764, \"stallin'\": 2399, 'doing': 5767, 'absorbent': 5338, 'cologne': 5768, \"c'mon\": 5769, 'knife': 5770, 'fancy': 5772, 'leftover': 2400, 'refreshment': 2401, 'sound': 5773, 'inserts': 2403, 'reality': 5774, 'everywhere': 5775, 'courage': 2404, 'beligerent': 2405, 'correcting': 2406, 'rainforest': 2407, 'wishing': 2408, 'happened': 2409, 'surgeonnn': 2411, 'chili': 5782, 'banned': 2412, 'yee-ha': 5783, 'grinch': 5784, 'ever': 5785, 'supplying': 2413, 'scarf': 5786, 'johnny_carson': 2414, 'walther_hotenhoffer': 2415, 'rapidly': 5787, \"y'see\": 2417, 'tomahto': 2418, 'log': 2419, 'eyeing': 4893, 'background': 984, 'duty': 5051, 'lifts': 5789, \"you're\": 5790, 'plywood': 1519, 'sumatran': 5791, 'peeved': 5792, 'beer': 5793, 'e-z': 2421, 'cowboys': 5794, 'crowd': 5795, 'tomato': 2423, 'doooown': 5659, 'grabbing': 2424, 'dreams': 5797, 'sixty-nine': 2068, 'literary': 2425, 'cough': 5799, 'jeers': 2426, 'lovers': 5800, 'presents': 5801, 'called': 5802, 'stayed': 2427, 'into': 6537, 'deacon': 2428, 'private': 2429, 'five-fifteen': 2430, 'fans': 4896, 'bought': 2431, 'turned': 5803, 'emotion': 987, 'novelty': 5804, 'hotline': 398, 'mister': 3496, 'rebuttal': 5805, 'united': 2433, 'vampire': 2434, 'mic': 2435, 'muscle': 2071, 'foil': 5806, 'office': 5807, 'snail': 6164, 'anderson': 5809, 'nature': 5811, 'sternly': 2436, 'try': 3414, 'believer': 5814, 'hammock': 2438, 'fun': 5815, 'wheel': 2439, 'human': 2440, 'puzzle': 2441, 'paid': 2442, 'sealed': 2443, 'pep': 5817, 'still': 4329, 'arrived': 2444, 'angrily': 2446, 'sue': 2447, 'xx': 2448, 'swatch': 6600, 'don': 2449, 'sister-in-law': 2450, 'fault': 6017, 'burning': 2451, 'troll': 5819, 'reopen': 5823, 'killed': 5821, 'grammy': 6018, 'supports': 5824, 'lorre': 5825, 'cool': 2452, 'senator': 5826, 'carb': 2453, 'soaking': 2454, 'harvesting': 5827, 'earrings': 2455, 'flatly': 5828, 'twins': 2456, 'teenage_bart': 2457, 'top': 5830, 'chinese_restaurateur': 2458, 'button-pusher': 2459, 'macbeth': 5831, 'criminal': 2460, 'porn': 5833, 'bon': 5834, 'hems': 1596, 'husband': 5466, 'outrageous': 5835, 'quick': 6541, 'hippies': 2461, 'begins': 6021, 'compressions': 836, 'investment': 5836, 'i': 2462, 'advice': 5837, 'shock': 5838, 'strategizing': 2463, 'barbara': 5839, 'their': 5840, 'age': 2464, 'grants': 5842, 'glasses': 2465, 'church': 1552, 'wine': 2466, 'boozy': 5844, 'someday': 2467, 'awkwardly': 5354, 'assassination': 3784, 'wednesday': 5846, 'thnord': 5847, 'swooning': 5848, 'dyspeptic': 2468, 'inclination': 5849, 'gums': 2469, 'creates': 6544, 'warn': 5851, 'guessing': 2470, 'courthouse': 2471, 'greedy': 5852, 'germany': 2472, 'dumb': 2474, 'malted': 5853, 'ominous': 5854, \"readin'\": 2479, 'election': 2476, 'beneath': 2477, 'watashi': 5855, 'ron': 2366, 'wealthy': 5856, \"tramp's\": 5022, 'gunk': 2480, 'heavens': 1530, 'happiness': 5858, \"can'tcha\": 5473, 'picnic': 2481, 'those': 5859, 'sarcastic': 5860, 'proves': 2482, '/mr': 5861, 'considering': 2483, 'th-th-th-the': 5864, 'militia': 2484, 'virility': 2485, 'he': 2486, 'poker': 5868, 'apu_nahasapeemapetilon': 5869, 'limits': 2487, 'represents': 5870, 'why': 5871, 'wipes': 5872, 'its': 407, 'mater': 2488, 'ecru': 2489, 'princess': 2491, 'chipper': 5873, 'cigarette': 2492, 'declare': 2493, 'selma': 2494, \"crawlin'\": 2495, 'wins': 3219, 'burt_reynolds': 2498, 'park': 2497, 'race': 5874, 'mail': 5875, 'hosting': 5876, 'disappointed': 2499, 'huddle': 2500, 'caused': 994, 'musical': 2502, 'beaumont': 2503, 'american': 2504, 'times': 5878, 'loathe': 2505, 'forgiven': 2506, 'excited': 2507, 'judgments': 5880, \"santa's\": 2509, 'furry': 2510, 'tick': 3569, 'experienced': 2511, 'teacher': 2512, 'handsome': 5882, \"seein'\": 2513, 'live': 2514, 'nauseous': 5883, 'bono': 2515, 'perfunctory': 2516, 'richard': 2517, 'h': 2518, 'keep': 2519, \"round's\": 2520, 'grains': 2521, 'pointing': 5886, 'choose': 5887, 'streetlights': 5888, 'hydrant': 2522, 'clenched': 6554, 'meet': 2523, 'lying': 5889, 'noise': 43, 'ride': 2524, 'donor': 2525, 'busiest': 5479, 'blend': 2526, 'monorails': 5890, 'hangs': 6548, 'presto': 5891, 'espousing': 6556, \"won't\": 5892, 'proposition': 2527, 'len-ny': 5894, 'plain': 5895, 'polenta': 2530, 'kent_brockman': 5896, 'catch': 2420, 'stools': 2531, 'thunder': 2532, 'stripes': 2533, 'crank': 5897, 'dryer': 2534, 'challenge': 2535, \"battin'\": 2536, 'dice': 1534, 'iranian': 2537, 'so': 5899, \"aristotle's\": 998, 'children': 2538, 'memories': 5902, 'buying': 5903, 'scrutinizing': 5904, 'grace': 6360, 'lecture': 2540, 'uncreeped-out': 2541, 'degradation': 5906, \"it'd\": 6560, 'comic': 2542, 'vomit': 5907, 'rid': 1535, 'fake': 5908, 'recruiter': 2543, 'behind': 5910, 'helen': 5911, 'house': 2544, 'idea': 2545, 'stationery': 5912, 'theatrical': 5913, 'unfortunately': 2546, 'bon-bons': 6030, 'ruint': 2547, 'stillwater': 5914, 'lie': 5915, 'renee': 5916, 'chapstick': 2548, 'barkeep': 5483, 'cocoa': 5917, 'rest': 2549, 'recommend': 5918, 'magic': 1272, 'came': 5190, 'terrific': 5919, 'project': 5920, 'adventure': 2550, 'carmichael': 6031, 'firing': 5921, 'onto': 1538, 'vermont': 5923, 'bag': 2551, 'want': 2552, 'carlotta': 2553, \"where's\": 2554, 'windelle': 1539, 'punkin': 2555, 'hurt': 2556, 'aziz': 5925, 'none': 5926, \"others'\": 2557, \"depressin'\": 4604, 'dennis_conroy': 5928, 'kid': 5929, 'insulted': 2558, 'measure': 2559, 'william': 5931, 'eww': 2560, 'hungry': 3928, 'trying': 3797, 'unless': 5933, 'bring': 2561, 'decided': 6567, 'slight': 5935, 'low': 2562, 'stomach': 5936, 'bellyaching': 5937, \"tonight's\": 2563, 'yammering': 4916, 'flips': 2565, 'cameras': 2567, 'ripcord': 5939, 'clench': 2568, 'beans': 5665, 'hunting': 2569, 'reviews': 2570, 'motorcycle': 2572, 'classy': 5940, 'twenty': 2573, 'young_moe': 1543, 'temples': 2574, 'floated': 6036, 'festival': 2575, 'graveyard': 2577, 'paints': 5945, \"o'\": 2578, 'level': 5946, 'exhibit': 2579, 'joint': 5947, \"washin'\": 2580, 'partners': 5948, 'wife': 2581, 'elder': 2582, \"rasputin's\": 4344, 'gently': 5488, 'blinded': 5951, \"who's\": 423, 'comedies': 5952, 'tsk': 2583, 'loan': 2584, 'website': 5818, 'dennis': 2585, 'shaking': 2586, 'tolerable': 5953, 'chub': 2587, 'genius': 2588, 'exit': 5955, 'hops': 2589, 'kirk': 5956, 'audience': 5630, 'noooooooooo': 6304, 'resist': 5957, 'inches': 5958, 'bush': 2590, 'mostly': 2591, 'cheryl': 5961, 'checking': 2592, 'scrubbing': 2593, 'open-casket': 2594, 'and': 2595, 'address': 5962, 'arabs': 5963, 'cockroach': 2597, 'sassy': 5965, 'telemarketing': 1171, 'distributor': 4752, 'tiger': 2598, 'coughs': 5966, 'zoomed': 2599, 'stats': 1004, 'stopped': 2600, 'left': 5968, 'sky': 5969, 'outlive': 5970, 'crack': 2601, 'justice': 2602, 'a': 2603, 'happy': 2604, 'announcer': 2605, 'belly': 5972, 'haplessly': 2607, 'cents': 2608, 'artie_ziff': 1006, 'detective': 5973, 'clincher': 2609, 'atari': 5492, 'fox': 5975, 'rage': 5976, 'spread': 2610, 'you': 2611, 'blame': 6575, 'mm-hmm': 2612, 'mcclure': 2613, 'joey_kramer': 2614, 'gut': 2615, 'etc': 6576, 'rotten': 2616, 'gesture': 428, 'indeedy': 1510, 'civilization': 5251, 'dame': 2617, 'show': 2618, 'puffy': 5979, 'clipped': 5980, 'weekend': 1547, 'disco': 5982, \"bringin'\": 2619, 'touchdown': 1480, 'chug-a-lug': 5984, 'shirt': 2670, 'regret': 5412, 'line': 2620, 'today/': 2621, 'guzzles': 4927, 'tells': 5985, 'wind': 5986, 'muscles': 6577, 'eighty-seven': 5987, 'stab': 2622, \"pressure's\": 2623, \"raggin'\": 5989, 'symphonies': 5990, 'next': 2624, 'permitting': 2625, 'toms': 5991, 'value': 5992, 'stool': 2626, 'canoodling': 5495, 'shaken': 2627, 'six-barrel': 2674, 'defensive': 2628, 'jay_leno': 3811, 'champion': 5996, 'water': 2629, 'nbc': 2630, 'junior': 2675, \"wouldn't\": 2631, 'very': 5997, 'gator': 6046, 'slobbo': 5999, 'maximum': 2632, 'mate': 2633, 'plug': 1551, 'dig': 3567, 'andalay': 2634, 'lime': 2635, 'extreme': 6002, 'harvey': 2636, \"writin'\": 2637, 'carney': 4367, 'calvin': 1555, 'sweden': 6004, 'there': 6005, 'poetry': 2638, \"narratin'\": 2639, 'batmobile': 2641, 'universe': 6049, 'rupert_murdoch': 6006, \"tinklin'\": 5498, 'breaks': 6007, 't-shirt': 2642, 'timbuk-tee': 2643, 'safety': 6008, 'partner': 6009, 'awed': 6010, 'hero-phobia': 6012, 'banks': 2566, 'diaper': 2644, 'stickers': 6050, 'fixed': 2645, 'flash': 2646, 'ratio': 2647, 'crazy': 2648, 'sexton': 434, 'trustworthy': 6015, 'quitcher': 2649, 'playful': 2650, 'passion': 1164, 'fish': 2651, 'bubbles': 6016, 'citizens': 5651, 'placing': 2652, 'ech': 6019, 'superpower': 2653, \"dolph's_dad\": 2654, 'scotch': 2655, 'italian': 5501, 'methinks': 6022, 'continuing': 2656, 'brain-switching': 2657, '50-60': 5577, 'would': 2658, 'tow-joes': 2659, 'shove': 2660, 'might': 6054, 'cheered': 2661, 'explaining': 6025, 'thawing': 2662, 'bolting': 6026, 'idiots': 4359, \"what'sa\": 1559, 'microphone': 6027, 'skinny': 6028, 'strain': 6029, 'loboto-moth': 2663, 'smells': 2664, 'ticks': 2665, 'these': 5503, 'vulgar': 6032, \"hangin'\": 4005, 'düffenbraus': 1014, 'quimby_#2': 6033, 'awkward': 6034, 'holds': 2666, 'quietly': 6035, 'phase': 3968, 'convinced': 5405, 'bones': 6037, 'strawberry': 6038, 'spoken': 6056, 'scrape': 6039, 'mid-seventies': 6040, 'lottery': 6041, 'hillary': 2667, 'cranberry': 2668, 'scream': 6042, '15': 2669, 'mafia': 5504, 'dangerous': 1562, 'moolah-stealing': 6043, 'soir': 6044, 'charter': 2671, 'corporation': 2672, 'africanized': 6045, 'chum': 2673, 'mac-who': 2676, 'sickened': 2679, 'lisa_simpson': 2677, 'b-day': 2678, 'provide': 6048, 'lugs': 2680, 'soot': 4936, 'poem': 1607, 'remaining': 2681, 'hobo': 1019, 'recap': 6051, 'skin': 6052, 'ladies': 2682, 'yell': 6053, 'calculate': 2683, 'rationalizing': 2684, 'marge': 2685, 'attractive': 2686, 'scoffs': 2687, \"tryin'\": 2688, 'long': 3816, 'entertainer': 6055, 'island': 2690, 'montrer': 2691, 'cash': 6058, 'statues': 6059, 'bitterly': 2692, 'glass': 3817, 'wish': 2693, 'occupied': 2695, 'heartily': 2696, 'sadly': 3249, 'meditative': 6060, 'winnings': 2697, 'credit': 6061, 'bash': 3820, 'polls': 6062, 'favor': 4245, 'darts': 6063, 'gruff': 2698, 'pregnancy': 6065, 'freed': 6066, 'wuss': 1023, 'spamming': 2694, 'chic': 2700, 'thrown': 2701, 'graves': 6068, 'endorse': 444, 'pal': 6070, 'palmerston': 2702, 'celebrities': 1566, 'spreads': 3822, 'slaps': 2703, \"america's\": 6073, 'future': 6074, 'spend': 2704, \"pope's\": 6291, 'rutabaga': 2705, 'huh': 5506, 'moan': 6075, 'law-abiding': 2706, 'judges': 5507, 'arrest': 6076, 'bobo': 2707, 'presses': 2709, 'habitrail': 2710, 'damned': 6328, 'sponge': 2711, 'amid': 2712, 'kirk_voice_milhouse': 446, 'simp-sonnnn': 2713, 'contemplated': 2714, 'mechanical': 2715, 'maiden': 5810, 'along': 6078, 'author': 1028, 'attitude': 3785, 'design': 2716, 'respect': 6079, 'image': 6080, 'breathtaking': 6081, 'inquiries': 2119, 'indignant': 2717, 'given': 6084, 'grandiose': 1570, 'jackass': 2718, 'frogs': 6087, 'tense': 6088, 'tribute': 2719, 'half-back': 6089, 'henry': 2720, 'bupkus': 6090, \"stabbin'\": 2216, 'following': 2722, '91': 4366, 'outstanding': 2723, 'kills': 6093, 'lift': 1572, 'warmth': 6094, 'sold': 6095, 'are': 6096, 'when-i-get-a-hold-of-you': 6064, 'nervously': 2724, 'specials': 6098, 'blooded': 6593, 'johnny': 2725, 'small': 2726, 'takes': 6099, \"ragin'\": 6100, 'belch': 2727, 'theme': 2729, \"boy's\": 2730, 'honey': 2731, 'starting': 5881, '50%': 2732, 'jelly': 6103, 'sotto': 6104, 'smell': 2733, 'homer_doubles': 6105, 'fatso': 2734, 'tonight': 2735, 'should': 6106, 'lis': 2736, 'vestigial': 2737, 'bonfire': 6107, 'package': 6574, 'corn': 2738, 'oh-so-sophisticated': 2739, 'unlocked': 2741, 'caveman': 2742, 'guide': 2743, 'municipal': 2219, 'sounds': 2744, 'rock': 3832, 'reaction': 6108, 'childless': 6109, 'boneheaded': 6110, 'orifice': 2745, 'delts': 6112, 'uncle': 6113, 'destroyed': 2746, 'part': 2747, 'club': 1576, 'trust': 6067, \"summer's\": 6595, 'necklace': 2748, 'disguised': 2749, 'second': 3079, 'jigger': 2750, 'unsanitary': 2751, 'guess': 6115, 'ooo': 2752, 'clinton': 5584, 'yelling': 2753, 'ivana': 2754, 'politics': 6117, 'misfire': 2699, 'fellas': 2755, 'comment': 6118, 'appreciated': 6119, 'paying': 6120, 'hearts': 2756, 'innocuous': 456, 'atlanta': 6123, 'leonard': 6124, 'intruding': 2757, 'burns': 6126, 'catch-phrase': 6127, 'passports': 2758, 'science': 2759, 'tolerance': 2760, \"g'night\": 6130, 'pictured': 1581, 'courteous': 2761, 'heart-broken': 460, 'species': 6131, 'anonymous': 6132, 'limber': 6133, 'padres': 6134, 'confidentially': 4941, 'lennyy': 6135, '7g': 6136, 'gas': 2762, 'hours': 6069, 'did': 6138, 'forty': 2763, 'later': 2764, 'fever': 2765, 'answers': 2123, 'haw': 2766, 'advantage': 6139, 'photo': 6140, 'harder': 6141, 'dory': 4376, 'punching': 2767, 'ironed': 2768, 'ronstadt': 2769, 'notch': 3837, 'i-i': 2771, 'sales': 1584, 'gunter': 2772, 'ore': 6146, 'roz': 2773, \"o'clock\": 6147, 'mayan': 6148, 'opening': 6020, 'optimistic': 6149, 'increased': 6150, 'smiling': 6152, 'difficult': 6153, 'side': 2774, 'airport': 3838, 'boyhood': 6154, 'bedbugs': 2775, \"tv's\": 6155, 'oh': 6156, \"costume's\": 6157, 'willy': 660, 'waylon_smithers': 2776, 'person': 2777, 'daaaaad': 6158, 'hugh': 2778, 'cares': 6159, 'kick-ass': 2780, 'heaven': 6162, 'tries': 2781, 'moonshine': 6163, 'terrible': 2782, 'pontiff': 3172, 'oughta': 2783, 'gin': 1586, 'radiator': 2784, 'dropping': 6165, 'playing': 6354, 'squabbled': 2785, 'frog': 6166, 'dollars': 6167, \"waitin'\": 5517, 'dejected_barfly': 2786, 'cowardly': 6170, 'manipulation': 2787, 'noble': 6171, 'window': 6172, 'rockers': 6173, 'shyly': 4226, 'eventually': 2788, 'goo': 6174, 'diddilies': 2789, 'rig': 6175, 'lease': 6608, 'competitive': 4379, 'pre-recorded': 2791, 'ihop': 6177, 'ref': 2792, 'fools': 2793, 'sniffs': 2794, 'spirit': 2796, 'hmmmm': 2797, 'purse': 6178, 'executive': 2798, 'avalanche': 1885, 'lainie': 2799, 'grocery': 2708, 'edna_krabappel-flanders': 6180, 'pulling': 1588, \"i'd'a\": 6181, 'applicant': 2800, \"plaster's\": 2801, 'meaningfully': 6183, 'strongly': 2802, \"fishin'\": 2804, 'badge': 4952, 'gloop': 6184, 'peanut': 6185, 'swelling': 2805, 'occasional': 2806, 'attraction': 2807, 'cheerleaders': 6573, 'whaaa': 2808, 'firmly': 6187, \"valentine's\": 2809, 'nelson_muntz': 2810, 'ends': 2811, 'cruel': 2813, 'spews': 2814, 'knives': 6189, 'low-life': 468, 'fbi': 2815, 'byrne': 5938, 'car': 2816, 'dirty': 2817, 'explain': 1815, 'blood-thirsty': 6190, 'amiable': 2818, 'lloyd': 6192, 'aerospace': 6193, 'lushmore': 1659, 'unrelated': 6194, 'hellhole': 6195, 'ohhhh': 2819, 'fdic': 2820, 'whisper': 2821, 'the': 928, 'x-men': 2822, 'won': 2823, 'comfortable': 6198, 'blobbo': 2824, 'carpet': 2826, 'germans': 6201, 'selection': 2828, 'spits': 6202, 'launch': 6203, 'coast': 2829, 'necessary': 4027, 'dealt': 5522, 'internet': 2831, 'reaching': 3980, 'hole': 2832, 'flexible': 6614, 'standing': 2833, 'shoots': 5524, 'bugging': 6077, 'prayer': 6204, 'hook': 2834, 'karaoke_machine': 2835, 'ass': 2836, 'banquo': 2837, 'step': 2839, 'alpha-crow': 2840, 'plaintive': 2841, 'blood': 2842, 'pantsless': 6207, 'hottest': 2844, 'kwik-e-mart': 2845, 'championship': 2846, 'tracks': 2847, 'chair': 6208, 'f': 2848, 'dammit': 2849, 'homeless': 5525, 'involved': 2850, 'she': 4387, 'together': 6210, '_zander': 472, \"fendin'\": 6212, 'annus': 6213, 'barney_gumble': 2851, 'app': 6214, 'african': 6215, 'music': 6216, 'allow': 6616, 'hooch': 2852, 'beating': 2853, 'covers': 5526, 'sent': 2854, 'sail': 2855, \"murphy's\": 2856, 'flailing': 2857, 'ugliest': 6218, 'thorough': 2858, 'loudly': 6219, 'leg': 2859, 'flynt': 6220, 'cherry': 6082, 'investor': 2860, 'period': 6618, 'patty_bouvier': 2861, 'consulting': 6221, \"gettin'\": 2862, 'numbers': 5759, 'rugged': 4389, 'dealie': 2864, 'waltz': 6222, 'defeated': 6223, 'shhh': 2865, 'jimmy': 6224, 'gay': 6225, 'crooks': 2866, 'balls': 2867, 'protecting': 2868, 'grade': 2869, 'brassiest': 6227, \"g'ahead\": 2870, 'amends': 412, 'rich': 6228, 'billion': 6229, 'think': 2871, 'against': 2872, 'occasion': 2873, 'tapered': 2874, 'layer': 2875, 'oak': 6231, 'glove': 6232, 'hunter': 2876, 'w': 479, 'purveyor': 2877, 'light': 2878, 'dipping': 3909, 'pit': 2879, 'ah-ha': 5533, \"town's\": 6236, 'ceremony': 6237, 'sidekick': 6211, 'jolly': 2880, 'movie': 6240, 'his': 2881, 'majority': 2882, \"where'd\": 2883, 'sangre': 2884, 'poke': 731, 'perfume': 6243, 'rip-off': 2886, '21': 5995, 'fwooof': 2887, 'president': 6244, 'manchego': 6245, 'unlucky': 2888, 'cheesecake': 6318, 'wants': 6246, 'invulnerable': 6249, \"heat's\": 2889, 'pulls': 2890, 'anyhoo': 2891, 'shard': 6252, 'thirty': 6253, 'vote': 2892, 'brick': 2893, 'error': 2894, 'enemy': 6255, 'knows': 6256, 'barflies': 6257, \"you'll\": 2895, 'wittgenstein': 2896, 'yea': 2721, 'pointedly': 2897, 'tenor': 6258, 'steinbrenner': 6259, 'flowers': 3502, 'acronyms': 391, 'overflowing': 6260, 'inspire': 2898, 'square': 2900, 'laughing': 6091, 'inserted': 2901, 'loud': 2902, 'relax': 2903, 'quimbys': 2904, 'attractive_woman_#1': 2906, 'youuu': 6262, 'pants': 6627, 'walk': 481, 'maxed': 2908, 'wacky': 2910, '7-year-old_brockman': 2911, 'sweetest': 2115, 'closing': 2912, 'incriminating': 2913, 'babies': 2914, 'frozen': 1731, 'finger': 6263, \"renovatin'\": 6264, 'boy': 2915, 'pronounce': 6265, 'taken': 6266, 'goldarnit': 2916, 'cursed': 2917, 'illegal': 6269, 'ninety-eight': 6270, 'instead': 2918, 'freshened': 2919, 'eight': 6271, 'such': 2920, 'spoon': 6273, 'lookalike': 6274, 'feelings': 2921, 'kennedy': 6097, 'teen': 2922, 'bumped': 6275, 'star': 6276, 'cyrano': 1062, 'ingrates': 6278, 'favorite': 6279, 'glitz': 5612, \"doin'\": 5539, 'janette': 2923, 'boned': 6280, 'slobs': 2924, 'manfred': 6281, 'fritz': 6282, 'victory': 6283, 'bulked': 2925, 'rector': 6248, 'kissing': 2151, 'hop': 6284, 'oh-ho': 3279, 'musses': 6285, 'european': 6286, 'hundred': 2926, 'inherent': 2927, 'cooking': 4967, 'thought': 2928, \"drivin'\": 2929, 'and-and': 2930, 'conditioners': 1132, 'vampires': 2931, 'victim': 2932, 'hm': 6290, 'knowingly': 2933, 'rob': 6292, \"aren't\": 2934, 'pub': 6092, 'perfected': 2528, 'ghouls': 6161, 'friend': 4396, 'when': 2936, 'ads': 2937, 'hello': 2938, 'phasing': 6295, 'sunglasses': 6296, 'nerd': 2939, 'suspiciously': 5930, \"watchin'\": 2940, 'handle': 6300, 'whoo': 2941, 'habit': 5682, 'fringe': 2942, 'indeed': 3861, 'from': 2943, 'shelbyville': 6301, 'obese': 6302, 'noose': 4401, 'gin-slingers': 2944, 'intoxicated': 2945, 'lips': 5191, 'rem': 2946, 'squeal': 2947, 'de': 2948, 'kramer': 3853, \"tony's\": 2949, 'spit-backs': 3282, 'satisfied': 6308, 'versus': 2951, 'family-owned': 6309, 'mailbox': 6310, 'th': 6311, 'opportunity': 6312, 'forecast': 6314, 'tremendous': 2952, 'lone': 6101, 'who': 2953, 'itself': 2954, 'seas': 2955, 'tomorrow': 2283, 'painted': 2956, 'politician': 2957, 'sympathizer': 5978, 'take': 6320, 'confidential': 2958, 'uninhibited': 6321, 'k-zug': 6636, 'easygoing': 4539, 'girlfriend': 6322, 'stocking': 6323, 'hotel': 2959, 'contract': 6324, \"he'd\": 2960, 'cola': 6638, \"tree's\": 6326, 'cruiser': 6327, 'shape': 2961, 'blamed': 2963, 'holidays': 542, 'maybe': 6129, 'tiny': 6330, 'five': 2964, 'vacuum': 6332, 'mob': 6333, 'cause': 6335, 'slurps': 6336, 'guff': 2965, 'brown': 6337, 'bachelor': 2966, 'running': 3737, 'stunned': 2967, 'dressing': 6339, 'agents': 6013, 'fireball': 1070, 'available': 3866, 'behavior': 6340, 'discuss': 6341, 'makes': 4407, 'ginger': 2968, 'cheaper': 6342, 'famous': 2969, 'yards': 4409, 'tv_announcer': 2971, 'unforgettable': 6344, 'dials': 2972, 'spotting': 366, 'blues': 6640, 'reward': 497, 'skeptical': 2973, 'sec': 2974, 'press': 2975, 'multi-purpose': 6347, 'prime': 6348, 'enjoyed': 2177, 'loved': 2976, 'problemo': 6350, 'life-threatening': 6351, 'sun': 2977, 'pian-ee': 6352, 'choices': 5552, 'carey': 2979, 'pennies': 4972, 'backwards': 2980, 'horror': 2981, 'fireworks': 5362, 'threatening': 2982, 'malabar': 2983, 'unbelievable': 6356, 'wonder': 6357, 'rather': 2984, 'swan': 2985, 're': 2986, 'intoxicants': 2987, 'scooter': 2988, 'laney_fontaine': 6361, 'counterfeit': 3439, 'hope': 6362, 'got': 5497, 'action': 2989, 'cars': 6363, 'caholic': 6364, 'agent_miller': 2990, 'piling': 2991, 'nasa': 6365, 'raccoons': 2992, 'joining': 2993, 'kermit': 2994, 'deal': 6366, 'unusual': 2995, 'trip': 2740, 'tooth': 6367, 'an': 2159, 'cans': 2996, 'joined': 2997, 'valley': 2999, 'remote': 3000, 'jukebox': 3001, 'sing-song': 3002, 'housework': 3626, 'alternative': 6370, 'play': 3003, 'located': 6371, \"nothin'\": 2161, 'kick': 3004, \"'morning\": 6373, 'hub': 3005, \"talkin'\": 1145, 'wolfcastle': 3006, 'whee': 3007, 'total': 6377, 'flew': 6378, \"choosin'\": 1619, 'loss': 5558, 'drederick': 3008, 'prefer': 3009, 'garbage': 6379, 'dishonor': 3010, 'powerful': 3011, 'bottle': 6380, 'recent': 3012, 'harv': 3013, 'die': 3293, 'relationship': 3014, 'portentous': 6381, 'hospital': 3015, \"buyin'\": 3844, 'alien': 3016, 'dancing': 6383, 'whoever': 6384, 'spiritual': 6385, 'calls': 500, 'two-thirds-empty': 6387, 'century': 3153, 'mahatma': 6388, 'i-i-i': 3017, 'reactions': 6389, 'buds': 3877, 'whoa-ho': 6391, 'wrapped': 3019, 'kidney': 3020, 'yew': 6392, 'gasp': 3021, 'ripper': 6394, 'zack': 3022, 'arguing': 4491, 'gifts': 6395, '2nd_voice_on_transmitter': 6396, 'trashed': 3023, 'hot': 6397, 'laws': 3024, 'undermine': 2082, \"'ceptin'\": 6398, '3rd_voice': 3025, 'wham': 3026, 'delivery': 3027, 'kissingher': 6399, 'gumbo': 3440, 'promise': 6400, 'hootie': 784, 'craphole': 3029, 'crossed': 6401, 'rice': 3030, 'merchants': 3031, 'hug': 6403, 'isle': 3032, 'full-blooded': 6404, 'good': 5563, 'locked': 3033, 'burn': 3035, 'leno': 3036, 'boozebag': 3037, 'get': 6406, 'conversation': 3038, 'over-pronouncing': 505, 'grain': 549, 'voters': 3039, 'insulin': 3299, 'hammer': 374, 'irish': 6111, 'faces': 586, 'campaign': 6408, 'mona_simpson': 6409, 'discussing': 6410, 'asses': 6411, 'diving': 6412, 'delicate': 6413, 'yourself': 3040, 'heads': 3041, 'finally': 6415, 'achebe': 3043, 'back': 6648, \"bettin'\": 3044, 'kill': 4416, 'buried': 3045, 'stick': 3730, 'elephants': 6114, 'brace': 3046, 'beefs': 3047, 'slogan': 6418, 'tying': 6419, 'refreshingness': 6420, \"pullin'\": 3048, 'post-suicide': 3303, 'miss': 3049, 'notably': 3050, 'exquisite': 3054, 'winch': 3052, 'dating': 3053, 'overturned': 3055, 'drawn': 3056, 'peanuts': 4418, 'uses': 2171, 'throat': 6652, 'began': 3058, 'sixteen': 6424, 'beatings': 6425, 'umm': 3307, 'suicide': 3059, 'jack': 3060, 'crystal': 3061, 'coma': 5065, 'time': 4419, 'femininity': 3063, 'glummy': 6428, 'penny': 1626, 'hoping': 6429, 'salad': 6430, 'games': 3064, 'spooky': 6432, 'we': 3065, 'exact': 3066, 'fontaine': 3068, 'afford': 3069, 'anymore': 6653, 'hurts': 3070, 'sadistic_barfly': 6434, 'going': 1088, 'build': 3071, 'stranger': 1090, 'eh': 6435, 'bad-mouth': 3072, 'triple-sec': 3073, 'sports': 6436, 'lise': 6437, 'duffman': 6438, 'flayvin': 3074, 'supposed': 6439, 'remains': 6440, 'margarita': 6441, 'aw': 3075, 'yellow-belly': 4221, \"jimbo's_dad\": 3076, 'jerking': 3077, 'data': 3078, \"betsy'll\": 6442, 'enter': 1628, 'moonnnnnnnn': 6443, 'forgets': 4644, 'tar-paper': 3080, 'lenny': 3081, 'eager': 3082, 'insensitive': 3083, 'bags': 1091, 'whoops': 6446, 'lay': 3084, 'coming': 2182, 'cheapskates': 6447, 'twenty-six': 3085, 'literature': 6448, 'laughter': 3086, 'drunk': 3087, 'november': 5568, 'punch': 6449, '||period||': 3088, 'heroism': 3089, 'cats': 3090, 'eating': 3316, 'enabling': 3091, 'number': 4422, 'accurate': 6452, 'minus': 3092, 'golden': 2863, 'ha': 3093, 'than': 3887, 'dea-d-d-dead': 6453, 'gossipy': 3095, 'tony': 6121, 'victorious': 3889, 'horses': 2233, 'happier': 6454, 'ease': 3098, 'found': 3097, 'perking': 3099, 'encore': 3100, 'rueful': 3101, 'marmaduke': 3102, 'blocked': 3103, 'midge': 6125, \"meanin'\": 6455, 'took': 1635, 'sketching': 5571, 'nah': 6456, 'kemi': 3104, 'manatee': 3105, 'jeff_gordon': 3319, 'sale': 6307, \"doctor's\": 6457, 'fix': 4617, 'legally': 6458, 'shifty': 3106, 'motel': 3107, 'apartment': 3108, 'mabel': 3109, 'admit': 3110, 'and/or': 3112, 'pardon': 5574, 'conditioning': 3113, 'alcoholism': 3114, 'retain': 3115, 'changes': 5647, \"should've\": 3116, 'jacques': 6461, 'sauce': 3117, 'plastic': 6463, 'detecting': 3118, \"drinkin'\": 3322, 'attempting': 3891, 'ooh': 3119, \"it'll\": 6464, 'season': 3120, 'courts': 3121, 'twice': 1706, 'costume': 6465, 'beautiful': 3122, 'swimmers': 3123, 'stinks': 3124, 'rhyme': 6466, 'friendly': 4410, 'politicians': 6467, 'emporium': 6468, 'bowling': 3761, 'harvard': 6662, \"hasn't\": 4427, 'raking': 6469, 'rubbed': 6470, 'buddha': 3125, 'ingredient': 3126, \"england's\": 3127, 'latin': 6472, 'rule': 3128, 'work': 6473, 'tonic': 6474, 'dana_scully': 3129, \"bashir's\": 3130, 'spanish': 6476, 'thirty-three': 6477, 'comes': 6478, 'furiously': 6479, 'rekindle': 6480, 'civic': 3131, 'scout': 3132, 'obsessive-compulsive': 6482, 'shuts': 3133, \"homer'll\": 6483, 'begin': 4131, 'miracle': 3134, 'pumping': 5575, 'macaulay': 3135, 'mitts': 3137, \"tellin'\": 6485, 'must': 6486, 'sandwich': 6487, 'filth': 3139, 'squashing': 3140, 'dan': 6488, 'around': 3141, 'stan': 3142, 'schizophrenia': 6491, 'pointed': 5576, 'two': 3143, 'disappointing': 6668, 'embarrassed': 6669, 'throws': 6493, 'moron': 3895, 'sly': 6495, 'industry': 3144, 'links': 6497, 'reynolds': 6498, 'conversations': 3145, 'protestantism': 3147, 'sisters': 6499, 'slice': 6500, 'comeback': 3148, 'created': 3149, 'deliberately': 3151, 'buy': 3152, 'brothers': 3154, \"president's\": 6502, 'typing': 2193, 'nucular': 1640, 'crowded': 3155, 'lonely': 3156, 'wedding': 5580, 'kidneys': 2215, 'scam': 3157, 'barney-type': 4591, 'concerned': 3158, 'too': 3159, 'cannoli': 3899, 'chocolate': 3160, 'showing': 3161, 'singing/pushing': 3162, 'field': 3163, 'wha': 3334, 'murdoch': 3164, 'hmf': 3165, 'jane': 3166, 'homie': 3167, 'moe-ron': 1642, 'derisive': 3168, 'squeezed': 6507, 'lipo': 6508, 'changed': 3169, 'lotsa': 3170, 'nein': 6509, 'hanh': 518, 'nards': 5079, 'confident': 3171, 'bushes': 6510, 'finished': 4436, 'fifteen': 6511, 'puke': 6512, 'na': 6513, 'delicious': 3173, 'go-near-': 3174, 'upon': 3901, 'big': 6515, 'ons': 3175, 'thirty-five': 3176, 'booth': 6176, 'floating': 6142, 'meals': 6517, 'fair': 6518, 'stop': 6519, 'clearing': 6672, 'insurance': 3177, 'hideous': 3178, 'put': 3180, 'reluctantly': 6521, \"chewin'\": 6143, 'boyfriend': 3181, 'playoff': 3182, 'movies': 3183, 'aidens': 3185, 'veteran': 6673, 'phrase': 3186, 'dungeon': 2199, 'gimmick': 3187, 'guest': 3188, 'wiping': 3189, 'break-up': 3190, 'hockey-fight': 6524, 'tourist': 6525, 'mayor': 6024, 'cheat': 2770, 'express': 6526, 'gol-dangit': 3192, 'cronies': 629, 'springfield': 3193, 'realizing': 6527, 'frankly': 6530, 'sap': 6405, 'awake': 3194, 'not': 3195, 'naively': 6531, 'offer': 3196, 'icy': 3197, 'afternoon': 1103, 'guilt': 3198, 'mouse': 1625, 'here': 2204, 'quimby': 3199, 'kindly': 6533, 'waking-up': 3200, 'julienne': 1647, 'pilsner-pusher': 3201, 'buyer': 3202, 'supermodel': 6536, 'fell': 3203, 'norway': 6538, 'successful': 3204, 'muhammad': 3206, 'occupation': 3207, 'fresh': 3208, 'funniest': 3209, 'clubs': 3210, 'luck': 3211, 'generous': 6539, 'exploiter': 3212, 'remembers': 3213, 'shag': 1289, \"y'know\": 3214, 'love-matic': 6543, 'mystery': 752, 'beer-dorf': 6545, 'flaming': 6546, 'finest': 3215, 'fausto': 3216, 'understanding': 6547, 'determined': 3217, 'quebec': 3218, 'hat': 6551, 'class': 524, \"rentin'\": 3220, 'lenford': 1109, 'incapable': 3221, 'smoker': 1110, 'innocence': 3222, 'ees': 6553, 'wad': 3223, 'settlement': 3224, 'during': 5410, 'pool': 6555, 'seymour': 4903, 'evil': 3225, \"drexel's\": 3226, 'choked': 1651, \"goin'\": 6558, 'mines': 6677, 'bums': 3227, 'pepper': 1137, 'corkscrews': 6559, 'roses': 6561, 'jobless': 3228, 'weeks': 3229, \"secret's\": 6563, 'washed': 3230, 'dull': 5475, 'chauffeur': 6564, 'month': 3231, 'place': 3232, 'kept': 6678, 'characteristic': 6566, 'scully': 3233, 'row': 6568, 'film': 6569, 'squad': 6570, 'helping': 6199, 'pageant': 3234, 'sedaris': 3906, 'dump': 6571, 'cozies': 3235, 'gel': 6572, 'louisiana': 3236, 'halloween': 5964, 'gutenberg': 3237, 'whatchacallit': 3238, 'backward': 5213, 'cleveland': 3239, 'demand': 3240, 'compromise': 6578, 'infatuation': 3241, 'charges': 6579, 'polish': 3242, 'oil': 3907, 'queer': 6580, 'clammy': 6581, 'nap': 6582, 'other_player': 3243, 'pop': 1350, 'sits': 755, 'butts': 6583, 'trainers': 6584, \"phone's\": 3244, 'watt': 3245, 'load': 5007, 'sponsoring': 6585, 'stonewall': 3246, 'mason': 3247, 'planet': 6586, \"grandmother's\": 3248, 'bow': 3250, 'nightmare': 3251, 'married': 3252, 'gorgeous': 6589, 'frazier': 6590, 'seamstress': 3253, 'fire_inspector': 3254, 'three': 6591, 'employment': 6592, 'injury': 3255, 'pickles': 3256, 'noises': 3257, 'groan': 3258, 'crimes': 3259, 'hispanic_crowd': 3260, 'rub': 6594, 'amused': 4568, 'shooting': 6596, \"'tis\": 6597, 'kl5-4796': 6598, 'roll': 6599, 'adjourned': 6601, 'arab_man': 1107, 'pull': 3261, 'developed': 3262, 'expense': 3263, 'corkscrew': 6602, 'landfill': 3264, 'playhouse': 6604, 'exclusive': 5598, 'well': 4454, 'tom': 6605, 'fence': 3265, \"mother's\": 3179, 'experience': 3266, 'shout': 4455, 'point': 6606, 'motor': 6607, 'pleasure': 6609, 'permanent': 3267, 'mustard': 6611, 'rub-a-dub': 6151, 'hide': 3268, 'familiar': 6612, 'crippling': 1165, \"'evening\": 6613, 'chunky': 4083, 'losers': 6368, 'mountain': 5602, 'hardhat': 6615, 'cab_driver': 6426, \"ridin'\": 6617, 'extended': 121, 'temper': 4393, 'maman': 6619, 'colossal': 6620, 'shreda': 6621, 'exception': 6622, 'pride': 541, \"that'd\": 3269, 'broadway': 3355, 'nothing': 5745, 'nonchalantly': 1056, 'lifters': 6623, 'mamma': 3270, 'hand': 3271, 'towed': 6624, 'percent': 3357, 'lager': 6626, 'joy': 3272, 'showed': 3273, 'ab': 3274, '_powers': 5014, 'tornado': 3275, 'traitor': 5605, 'alibi': 1117, 'duel': 4459, 'jackpot-thief': 6628, \"hell's\": 3276, 'kang': 3277, 'inspector': 3278, 'imaginary': 3280, 'lenses': 3281, 'color': 6122, 'peabody': 6631, 'hears': 6632, 'impressed': 6633, 'refresh': 3283, \"o'reilly\": 6634, 'digging': 6635, 'pointless': 1668, 'dictating': 3284, 'please/': 3285, 'saying': 3286, 'bank': 3287, 'dna': 3288, 'name': 1669, 'whenever': 3289, 'cappuccino': 3290, \"games'd\": 6641, 'sobs': 3291, 'public': 6289, 'contemptuous': 6643, 'ned_flanders': 5018, 'rom': 3292, 'picture': 5175, 'rickles': 6644, 'whiny': 3294, 'homer_': 6645, 'alright': 6646, 'attached': 5608, 'stores': 6630, 'all-all-all': 3295, 'schmoe': 3298, 'accusing': 3297, 'grey': 4701, 'tax': 6647, 'answer': 679, 'summer': 3300, 'owe': 6649, 'pained': 3301, 'denser': 3302, 'butt': 6651, 'poin-dexterous': 3304, 'chain': 3306, 'compete': 3311, 'superdad': 3309, 'poplar': 3312, 'bad': 3310, 'depository': 3313, 'oww': 3314, 'letters': 4464, 'looooooooooooooooooong': 6655, 'drank': 6656, 'naval': 6657, 'liquor': 3315, 'loyal': 675, 'therefore': 4465, 'andrew': 6650, 'blimp': 3317, 'reasons': 6658, 'vicious': 6659, 'colonel': 3318, 'l': 3916, 'wearing': 6660, 'noggin': 6661, 'tough': 3320, 'scum-sucking': 3321, 'comic_book_guy': 3323, 'pig': 3324, 'funeral': 3325, 'random': 3326, 'yes': 3327, 'important': 3328, 'boisterous': 6664, 'offshoot': 6665, 'wantcha': 3329, 'so-ng': 6666, 'culkin': 3330, 'serum': 6667, 'clown-like': 3331, 'paintings': 3332, 'edner': 6414, 'lost': 3333, 'mumble': 3335, \"he'll\": 6670, 'ancestors': 3336, 'trench': 6671, 'products': 3337, 'sam': 3338, 'higher': 3339, 'dark': 3305, 'marvelous': 3364, 'gibson': 3340, 'cheese': 6674, 'nigeria': 3341, 'enemies': 3342, 'powers': 3343, 'used': 6675, 'balloon': 3344, 'root': 547, 'beady': 6168, 'phony': 6676, 'host': 3345, 'louder': 6169, 'bite': 3346, 'force': 3347, 'works': 6000, 'outta': 3348, 'meyerhof': 3349, 'jack_larson': 6680, 'sooner': 2224, 'faint': 6681, 'alphabet': 6682, 'make': 6683, 'rip': 3920, 'whining': 3735, 'helpful': 3350, 'resigned': 3351, 'bake': 3352, 'whoopi': 5187, 'ungrateful': 3353, \"brady's\": 6684, 'depressant': 3354, 'sanctuary': 6685, 'anarchy': 3356, 'war': 5025, 'yello': 3358, 'medicine': 3359, 'polite': 3360, 'seem': 3361, 'while': 2114, 'smiled': 3362, 'barbed': 6687, 'tears': 3363, 'mexican_duffman': 6451, 'ollie': 3908, \"how're\": 6688, 'insults': 3368, 'rat-like': 3365, 'wally': 3366, 'zone': 3367, 'hmmm': 1123, 'debonair': 3369, 'babe': 3370, 'brother-in-law': 6689}\n",
      "******\n",
      "{0: 'colorado', 1: 'yours', 2: 'sad', 3: 'flag', 4: 'encouraging', 5: 'selling', 6: 'ribbon', 7: 'chunk', 8: 'sector', 9: 'illustrates', 10: 'al_gore', 11: 'strolled', 12: 'sitcom', 13: 'ones', 14: 'walther', 15: 'thinking', 16: 'loaded', 17: 'jukebox_record', 18: 'sub-monkeys', 19: 'real', 20: 'wraps', 21: 'beanbag', 22: 'drove', 23: 'family', 24: 'chicks', 25: 'portfolium', 26: 'deep', 27: 'matter-of-fact', 28: 'dashes', 29: 'cleaner', 30: 'immiggants', 31: 'marriage', 32: 'priority', 33: 'george', 34: 'vegas', 35: 'only', 36: 'cakes', 37: 'hoagie', 38: 'scratching', 39: 'met', 40: 'testing', 41: 'dumbass', 42: 'goodnight', 43: 'noise', 44: 'lady-free', 45: 'cummerbund', 46: 'right', 47: 'noosey', 48: 'satisfaction', 49: \"squeezin'\", 50: \"weren't\", 51: 'oof', 52: 'zeal', 53: '||comma||', 54: 'uniforms', 55: \"burnin'\", 56: 'sticking-place', 57: 'deadly', 58: 'latour', 59: 'frustrated', 60: 'priceless', 61: 'moe-lennium', 62: 'hey', 63: 'juan', 64: '-ry', 65: 'eternity', 66: 'reminds', 67: 'daughter', 68: 'trees', 69: 'calmly', 70: 'switched', 71: 'dash', 72: 'solo', 73: 'whistling', 74: 'loser', 75: 'planted', 76: 'bull', 77: 'moesy', 78: 'clothes', 79: 'prettiest', 80: 'procedure', 81: \"rustlin'\", 82: 'eats', 83: 'omigod', 84: 'mike_mills', 85: 'lodge', 86: 'bronco', 87: 'thirteen', 88: 'bam', 89: '/', 90: 'nascar', 91: 'proud', 92: 'proper', 93: 'neighbor', 94: 'reader', 95: 'emotional', 96: \"barney's\", 97: 'including', 98: 'semicolon', 99: 'frenchman', 100: 'lights', 101: 'snapping', 102: 'dreary', 103: 'intelligent', 104: 'choked-up', 105: 'crap', 106: 'wasting', 107: 'thousands', 108: \"mtv's\", 109: 'to', 110: 'quit', 111: 'fox_mulder', 112: \"must've\", 113: 'material', 114: 'regulars', 115: 'expert', 116: 'direction', 117: 'superhero', 118: 'night', 119: 'reliable', 120: 'broke', 121: 'extended', 122: 'swishkabobs', 123: 'presentable', 124: 'stumble', 125: \"spiffin'\", 126: 'glowers', 127: 'edgy', 128: 'drive', 129: 'law', 130: 'decision', 131: 'fishing', 132: 'duffed', 133: 'hits', 134: 'wang', 135: 'diapers', 136: 'mini-beret', 137: 'pip', 138: \"callin'\", 139: 'photos', 140: 'week', 141: 'darn', 142: \"cuckold's\", 143: 'itchy', 144: 'seminar', 145: 'tearfully', 146: 'looting', 147: 'twelveball', 148: 'customer', 149: 'explanation', 150: 'nursemaid', 151: 'forty-seven', 152: 'impending', 153: 'faded', 154: 'shall', 155: 'sen', 156: 'propose', 157: 'yourse', 158: \"we've\", 159: 'bleak', 160: 'shot', 161: \"cleanin'\", 162: 'hardy', 163: 'releases', 164: 'fast', 165: 'blob', 166: 'perhaps', 167: 'pledge', 168: 'gestated', 169: 'bit', 170: 'half-day', 171: 'belly-aching', 172: 'fl', 173: 'helps', 174: 'plan', 175: 'fella', 176: 'delicately', 177: 'stuff', 178: 'store', 179: 'salvation', 180: 'tight', 181: 'nailed', 182: 'cleaned', 183: 'memory', 184: 'unlike', 185: \"carl's\", 186: 'stands', 187: 'stiffening', 188: 'pocket', 189: 'cop', 190: 'sneak', 191: 'character', 192: 'fellow', 193: 'officials', 194: 'eliminate', 195: 'swallowed', 196: 'good-looking', 197: 'wheeeee', 198: 'surprised/thrilled', 199: 'flown', 200: 'worldly', 201: 'notorious', 202: 'danish', 203: 'stories', 204: 'cage', 205: 'reentering', 206: 'beached', 207: 'shark', 208: 'so-called', 209: 'again', 210: 'railroads', 211: 'dime', 212: 'wishful', 213: 'bleeding', 214: 'idioms', 215: 'accident', 216: 'tha', 217: 'agree', 218: 'à', 219: 'boxing_announcer', 220: 'first', 221: 'greatly', 222: 'crow', 223: 'scruffy_blogger', 224: 'two-drink', 225: 'stays', 226: 'unfamiliar', 227: 'tape', 228: 'macho', 229: 'wh', 230: 'beginning', 231: \"you'd\", 232: \"disrobin'\", 233: 'karaoke', 234: 'position', 235: 'cake', 236: 'pays', 237: \"i've\", 238: 'lousy', 239: 'directions', 240: 'hairs', 241: 'lear', 242: 'tabs', 243: 'jackson', 244: '10', 245: 'limericks', 246: 'sideshow_mel', 247: 'meal', 248: 'eighty-five', 249: 'toe', 250: 'mount', 251: 'ahem', 252: 'easter', 253: 'new', 254: 'stolen', 255: 'replaced', 256: 'understand', 257: 'bill_james', 258: 'cuckoo', 259: 'nos', 260: 'anxious', 261: 'imported-sounding', 262: 'ivory', 263: 'jailbird', 264: 'sense', 265: 'world-class', 266: 'fat_tony', 267: 'always', 268: 'smooth', 269: 'distaste', 270: 'temporarily', 271: 'farthest', 272: 'sausage', 273: 'everybody', 274: 'businessman_#1', 275: 'land', 276: \"'em\", 277: 'villanova', 278: 'crapmore', 279: 'mccarthy', 280: 'admirer', 281: 'somehow', 282: 'seek', 283: 'approval', 284: 'ignoring', 285: 'butterball', 286: 'crowbar', 287: 'view', 288: 'detective_homer_simpson', 289: 'shorter', 290: \"lookin'\", 291: '70', 292: 'fantastic', 293: 'jacks', 294: 'word', 295: 'legal', 296: 'frink', 297: 'terror', 298: 'pay', 299: 'slab', 300: 'food', 301: 'brotherhood', 302: 'hubub', 303: 'orphan', 304: 'even', 305: 'dough', 306: 'james', 307: \"havin'\", 308: 'england', 309: 'gordon', 310: 'golf', 311: 'nelson', 312: 'choice', 313: 'fainted', 314: 'quiet', 315: 'encouraged', 316: 'show-off', 317: 'si-lent', 318: 'sang', 319: 'wildfever', 320: 'military', 321: 'him', 322: 'recorder', 323: 'lady', 324: 'snackie', 325: 'hearing', 326: 'imagine', 327: 'snort', 328: 'territorial', 329: 'question', 330: 'pint', 331: 'absentminded', 332: 'wrote', 333: 'warily', 334: 'sympathy', 335: 'watching', 336: 'little_hibbert_girl', 337: 'started', 338: \"spyin'\", 339: 'utility', 340: 'woodchucks', 341: 'suck', 342: 'eminence', 343: 'gimmicks', 344: 'after', 345: 'clothespins', 346: \"linin'\", 347: 'some', 348: 'cookies', 349: 'cattle', 350: 'thoughtless', 351: 'apply', 352: 'invented', 353: 'pen', 354: 'curious', 355: 'interesting', 356: 'feeling', 357: 'bread', 358: 'fistiana', 359: '||return||', 360: 'lately', 361: 'co-sign', 362: 'book_club_member', 363: 'hibachi', 364: 'floor', 365: 'anguished', 366: 'spotting', 367: 'whaddaya', 368: 'ducked', 369: 'label', 370: 'ebullient', 371: 'yep', 372: 'stay-puft', 373: 'ahead', 374: 'hammer', 375: 'fry', 376: 'hooray', 377: 'what-for', 378: 'boston', 379: 'sixty-five', 380: 'belches', 381: 'progress', 382: 'nuked', 383: 'hustle', 384: 'amount', 385: \"they'll\", 386: 'scientific', 387: 'laramie', 388: 'dogs', 389: 'hans', 390: 'yourselves', 391: 'acronyms', 392: 'oblivious', 393: \"robbin'\", 394: 'fuhgetaboutit', 395: 'ken', 396: 'mmm-hmm', 397: 'turning', 398: 'hotline', 399: 'ourselves', 400: 'oughtta', 401: 'smokes', 402: 'coy', 403: 'nice', 404: 'hmm', 405: 'triumphantly', 406: 'heading', 407: 'its', 408: 'quarterback', 409: 'happily', 410: 'small_boy', 411: \"feelin's\", 412: 'amends', 413: 'schorr', 414: 'wisconsin', 415: 'wigs', 416: 'stagey', 417: 'easy-going', 418: 'disgraceful', 419: 'certain', 420: 'ehhh', 421: 'date', 422: 'words', 423: \"who's\", 424: 'falcons', 425: 'super-genius', 426: 'pair', 427: 'start', 428: 'gesture', 429: \"something's\", 430: 'statistician', 431: 'cold', 432: 'suit', 433: 'thank', 434: 'sexton', 435: 'uhhhh', 436: 'seconds', 437: 'story', 438: 'honored', 439: 'boxcars', 440: 'gayer', 441: 'signal', 442: 'metal', 443: 'ford', 444: 'endorse', 445: 'ali', 446: 'kirk_voice_milhouse', 447: 'nibble', 448: 'detail', 449: 'deeply', 450: 'risqué', 451: 'enthusiasm', 452: 'glamour', 453: 'upgrade', 454: 'reed', 455: 'committee', 456: 'innocuous', 457: 'hate', 458: 'deli', 459: 'huge', 460: 'heart-broken', 461: 'slipped', 462: 'korea', 463: 'ails', 464: 'dreamed', 465: 'slyly', 466: 'eggs', 467: 'cushion', 468: 'low-life', 469: 'faiths', 470: 'wondering', 471: 'both', 472: '_zander', 473: 'womb', 474: 'kisser', 475: 'east', 476: 'virile', 477: 'poetics', 478: 'nose', 479: 'w', 480: 'grumbling', 481: 'walk', 482: 'herself', 483: 'paint', 484: 'beloved', 485: 'saturday', 486: 'feminine', 487: \"singin'\", 488: 'humanity', 489: 'texas', 490: 'faulkner', 491: 'self-centered', 492: 'stealings', 493: 'situation', 494: 'fragile', 495: 'thesaurus', 496: 'super-tough', 497: 'reward', 498: 'ripping', 499: \"high-falutin'\", 500: 'calls', 501: 'desperately', 502: 'toy', 503: 'planning', 504: 'whip', 505: 'over-pronouncing', 506: 'domed', 507: 'mommy', 508: 'ayyy', 509: 'tofu', 510: 'ape-like', 511: 'difference', 512: 'tommy', 513: 'effervescent', 514: 'refiero', 515: 'tasimeter', 516: 'hiya', 517: 'i/you', 518: 'hanh', 519: 'add', 520: 'gees', 521: \"can't\", 522: 'pronto', 523: 'ruined', 524: 'class', 525: 'write', 526: 'pizzicato', 527: 'nevada', 528: 'alcohol', 529: 'elocution', 530: 'ugh', 531: 'delighted', 532: 'nick', 533: 'became', 534: 'black', 535: 'crawl', 536: 'louse', 537: 'somebody', 538: 'sheriff', 539: 'many', 540: 'boxer', 541: 'pride', 542: 'holidays', 543: 'popped', 544: 'snatch', 545: 'thighs', 546: \"workin'\", 547: 'root', 548: 'smug', 549: 'grain', 550: 'break', 551: 'aisle', 552: 'meant', 553: 'mmmm', 554: 'unable', 555: 'kings', 556: 'mr', 557: 'combines', 558: 'friendship', 559: 'computer', 560: 'hike', 561: 'willing', 562: \"cat's\", 563: 'a-lug', 564: 'gulps', 565: 'mediterranean', 566: 'making', 567: 'poulet', 568: 'meanwhile', 569: 'less', 570: \"everyone's\", 571: 'novel', 572: 'cousin', 573: 'unexplained', 574: 'donuts', 575: 'restaurants', 576: 'actors', 577: 'steal', 578: 'pin', 579: 'fly', 580: 'all-star', 581: 'teacup', 582: 'absolut', 583: 'tentative', 584: 'with', 585: 'cheery', 586: 'faces', 587: 'enjoys', 588: 'waters', 589: 'pretends', 590: 'rookie', 591: 'geez', 592: 'furious', 593: 'realized', 594: 'dignity', 595: 'built', 596: 'unsafe', 597: 'hexa-', 598: 'gambler', 599: 'statue', 600: 'life-partner', 601: 'b', 602: 'lessee', 603: 'sleeping', 604: 'thirsty', 605: 'mexican', 606: 'mild', 607: 'fumigated', 608: 'chorus', 609: 'government', 610: 'hilton', 611: 'fold', 612: 'starters', 613: 'asking', 614: 'examples', 615: 'tv', 616: 'high-definition', 617: 'barter', 618: 'blow', 619: 'safely', 620: 'struggling', 621: 'hell', 622: 'telephone', 623: 'vin', 624: 'fictional', 625: 'truth', 626: 'alcoholic', 627: \"makin'\", 628: 'wild', 629: 'cronies', 630: 'we-we-we', 631: 'brusque', 632: 'away', 633: 'waste', 634: 'arse', 635: 'monday', 636: 'mansions', 637: 'castle', 638: 'robot', 639: 'candles', 640: 'sieben-gruben', 641: 'squadron', 642: 'neil_gaiman', 643: 'fit', 644: 'candy', 645: '14', 646: \"man's_voice\", 647: 'on', 648: 'warmly', 649: 'fraud', 650: 'hostile', 651: 'published', 652: 'deserve', 653: 'young_homer', 654: 'logos', 655: 'looked', 656: 'staying', 657: 'yo', 658: 'authorized', 659: 'faced', 660: 'willy', 661: 'manjula_nahasapeemapetilon', 662: 'drop-off', 663: 'alarm', 664: 'ziffcorp', 665: 'parasol', 666: 'known', 667: 'sweetie', 668: 'woooooo', 669: 'wounds', 670: 'sees/', 671: \"wife's\", 672: 'elves', 673: 'securities', 674: 'fudd', 675: 'loyal', 676: 'grim', 677: 'aquafresh', 678: 'kadlubowski', 679: 'answer', 680: 'donut-shaped', 681: 'dreamily', 682: 'tap', 683: 'brainiac', 684: \"hobo's\", 685: 'denver', 686: 'her', 687: 'sings', 688: 'youngsters', 689: \"hadn't\", 690: \"lovers'\", 691: 'assumed', 692: 'fica', 693: 'impeach', 694: 'wall', 695: 'horrified', 696: 'newest', 697: 'violations', 698: 'self-made', 699: 'gear-head', 700: 'months', 701: 'chuckles', 702: 'feat', 703: 'settles', 704: 'fink', 705: 'carl_carlson', 706: 'where', 707: 'restroom', 708: \"this'll\", 709: 'dexterous', 710: 'vulnerable', 711: 'verdict', 712: 'badly', 713: 'delightfully', 714: 'roof', 715: 'soul', 716: 'far', 717: 'lurleen_lumpkin', 718: 'fad', 719: 'serious', 720: 'was', 721: 'argue', 722: 'sniffles', 723: 'jeff', 724: 'soup', 725: 'incredulous', 726: 'completing', 727: 'distance', 728: 'crushed', 729: 'kissed', 730: 'meeting', 731: 'poke', 732: 'stevie', 733: 'french', 734: 'duke', 735: 'marry', 736: 'encores', 737: 'stairs', 738: 'grind', 739: 'devastated', 740: 'fluoroscope', 741: 'super', 742: 'creme', 743: 'knew', 744: 'anniversary', 745: 'solves', 746: 'career', 747: 'nine', 748: 'death', 749: 'strips', 750: 'orgasmville', 751: \"plank's\", 752: 'mystery', 753: 'died', 754: 'honeys', 755: 'sits', 756: 'coach', 757: 'lance', 758: 'estranged', 759: 'unjustly', 760: 'repairman', 761: 'earlier', 762: 'opens', 763: 'queen', 764: 'kinds', 765: 'extra', 766: 'presently', 767: 'shutting', 768: 'owns', 769: 'gotcha', 770: 'blurbs', 771: 'intimacy', 772: 'ralph', 773: 'barney', 774: 'correction', 775: 'presumir', 776: 'sniper', 777: 'sissy', 778: 'lingus', 779: 'ahh', 780: 'almost', 781: 'christmas', 782: 'head-gunk', 783: 'mean', 784: 'hootie', 785: 'nuts', 786: \"i'm\", 787: 'snake_jailbird', 788: 'threw', 789: 'runs', 790: 'rumaki', 791: 'coincidentally', 792: 'derek', 793: 'means', 794: 'expired', 795: 'stripe', 796: 'saint', 797: 'dint', 798: 'bury', 799: 'agent', 800: 'poking', 801: 'rats', 802: 's-a-u-r-c-e', 803: 'emphasis', 804: 'teriyaki', 805: 'ireland', 806: 'eaters', 807: \"lisa's\", 808: 'trade', 809: 'hateful', 810: 'handshake', 811: 'candidate', 812: 'naked', 813: 'release', 814: 'no', 815: 'edna-lover-one-seventy-two', 816: \"they'd\", 817: \"tester's\", 818: 'head', 819: 'raging', 820: \"liberty's\", 821: 'sunday', 822: 'rush', 823: 'scum', 824: 'coal', 825: 'grumpy', 826: 'lumpa', 827: 'outside', 828: 'fonda', 829: 'homer', 830: 'resenting', 831: 'voodoo', 832: 'neither', 833: 'able', 834: 'cigarettes', 835: 'slapped', 836: 'compressions', 837: 'filled', 838: 'widow', 839: 'screw', 840: 'magnanimous', 841: 'brilliant', 842: 'holiday', 843: \"shan't\", 844: 'religion', 845: 'swigmore', 846: 'student', 847: 'rumor', 848: 'arms', 849: 'sell', 850: 'botanical', 851: \"puttin'\", 852: 'disgusted', 853: 'folks', 854: 'drift', 855: 'routine', 856: 'whoa', 857: 'okay', 858: 'generosity', 859: 'bucks', 860: 'sweater', 861: 'wonderful', 862: 'growing', 863: 'named', 864: 'ned', 865: 'business', 866: 'piece', 867: 'fingers', 868: 'between', 869: 'anybody', 870: 'upsetting', 871: 'healthier', 872: 'worked', 873: 'copy', 874: 'heck', 875: 'heatherton', 876: 'disappeared', 877: 'massachusetts', 878: 'whatcha', 879: 'goodwill', 880: '_hooper', 881: 'cocktail', 882: 'whirlybird', 883: \"other's\", 884: 'school', 885: 'crayon', 886: 'r', 887: 'lovelorn', 888: 'represent', 889: 'wire', 890: 'befouled', 891: \"he's\", 892: 'bible', 893: 'wave', 894: 'girl-bart', 895: 'artist', 896: 'wreck', 897: 'tv_father', 898: 'morning', 899: \"wouldn't-a\", 900: 'undated', 901: 'awesome', 902: 'squishee', 903: 'feed', 904: 'grab', 905: 'patty', 906: 'list', 907: 'lindsay_naegle', 908: 'lurks', 909: 'peppers', 910: 'eye', 911: 'pajamas', 912: \"fightin'\", 913: 'cauliflower', 914: 'strap', 915: 'license', 916: \"aren'tcha\", 917: 'weather', 918: 'sobriety', 919: 'market', 920: 'authenticity', 921: 'depressing', 922: 'shoo', 923: 'vehicle', 924: 'runt', 925: 'lots', 926: 'capitol', 927: 'kidnaps', 928: 'the', 929: 'insightful', 930: 'pause', 931: 'code', 932: 'foundation', 933: 'j', 934: 'confidence', 935: 'ideas', 936: 'pockets', 937: 'new_health_inspector', 938: 'liven', 939: \"friend's\", 940: 'nightmares', 941: 'moxie', 942: 'although', 943: 'sinister', 944: 'butter', 945: 'early', 946: \"getting'\", 947: 'harmony', 948: 'wore', 949: 'morose', 950: 'stir', 951: 'diets', 952: 'once', 953: \"poundin'\", 954: 'vance', 955: 'grin', 956: 'pepsi', 957: 'germs', 958: 'language', 959: 'miserable', 960: 'frankenstein', 961: \"wallet's\", 962: 'hunka', 963: 'darkest', 964: \"homer's_brain\", 965: 'renew', 966: 'forbids', 967: 'drains', 968: 'popular', 969: 'lives', 970: 'potatoes', 971: 'ladder', 972: 'eyeballs', 973: 'doreen', 974: 'eighty-six', 975: \"ain't\", 976: '||colon||', 977: 'jerks', 978: 'pridesters', 979: 'remain', 980: 'therapy', 981: 'lifetime', 982: 'power', 983: 'bold', 984: 'background', 985: 'apu', 986: 'aggravazes', 987: 'emotion', 988: 'ignorance', 989: 'heartless', 990: \"'kay-zugg'\", 991: 'fastest', 992: 'shrugging', 993: 'remorseful', 994: 'caused', 995: '35', 996: 'quick-like', 997: 'source', 998: \"aristotle's\", 999: 'state', 1000: 'join', 1001: 'viva', 1002: 'klingon', 1003: 'happens', 1004: 'stats', 1005: \"usin'\", 1006: 'artie_ziff', 1007: 'elizabeth', 1008: 'bart', 1009: 'fast-food', 1010: \"smokin'\", 1011: 'clean', 1012: \"lady's\", 1013: 'follow', 1014: 'düffenbraus', 1015: 'papa', 1016: 'bret', 1017: 'drinker', 1018: 'lighting', 1019: 'hobo', 1020: 'ralphie', 1021: 'bulldozing', 1022: 'amazed', 1023: 'wuss', 1024: 'divorced', 1025: 'prints', 1026: 'miles', 1027: 'smurfs', 1028: 'author', 1029: 'roy', 1030: 'bear', 1031: 'neanderthal', 1032: 'suspenders', 1033: 'nash', 1034: 'thing', 1035: 'selma_bouvier', 1036: 'chug-monkeys', 1037: 'verticality', 1038: 'lindsay', 1039: 'sob', 1040: 'pretending', 1041: 'gulliver_dark', 1042: 'prohibit', 1043: 'mouths', 1044: 'sincere', 1045: 'innocent', 1046: 'murmur', 1047: 'sooo', 1048: \"school's\", 1049: 'wazoo', 1050: 'vanities', 1051: 'champ', 1052: 'aggie', 1053: 'evergreen', 1054: 'jerk', 1055: 'moe', 1056: 'nonchalantly', 1057: 'powered', 1058: 'ears', 1059: 'arrested', 1060: 'steely-eyed', 1061: 'boozer', 1062: 'cyrano', 1063: \"don't\", 1064: 'ivy-covered', 1065: 'feel', 1066: 'beats', 1067: 'rap', 1068: 'stink', 1069: 'sometimes', 1070: 'fireball', 1071: 'yogurt', 1072: 'my', 1073: 'dawning', 1074: 'humiliation', 1075: 'jumping', 1076: 'con', 1077: 'rafters', 1078: 'cotton', 1079: 'correct', 1080: 'prep', 1081: 'media', 1082: 'duff_announcer', 1083: 'patrons', 1084: 'common', 1085: 'updated', 1086: 'spite', 1087: 'country', 1088: 'going', 1089: 'freedom', 1090: 'stranger', 1091: 'bags', 1092: 'bloodiest', 1093: 'chip', 1094: 'ideal', 1095: 'recipe', 1096: 'stock', 1097: \"ol'\", 1098: 'your', 1099: 'smitty', 1100: 'comedy', 1101: 'voyager', 1102: 'missed', 1103: 'afternoon', 1104: 'bets', 1105: 'slow', 1106: \"kids'\", 1107: 'arab_man', 1108: 'publish', 1109: 'lenford', 1110: 'smoker', 1111: 'charming', 1112: 'aer', 1113: \"bartender's\", 1114: 'afraid', 1115: 'proof', 1116: 'ambrose', 1117: 'alibi', 1118: 'craft', 1119: \"bart'd\", 1120: 'envy-tations', 1121: 'getcha', 1122: 'clap', 1123: 'hmmm', 1124: 'scent', 1125: 'noticing', 1126: \"industry's\", 1127: 'tasty', 1128: 'online', 1129: 'treat', 1130: 'be-stainèd', 1131: 'each', 1132: 'conditioners', 1133: \"collector's\", 1134: 'fanciest', 1135: 'replace', 1136: 'conspiracy', 1137: 'pepper', 1138: 'recall', 1139: 'burnside', 1140: 'out', 1141: 'due', 1142: 'beard', 1143: 'slurred', 1144: 'bail', 1145: \"talkin'\", 1146: 'party', 1147: 'apart', 1148: 'hit', 1149: 'rainier_wolfcastle', 1150: 'possibly', 1151: 'clown', 1152: \"shouldn't\", 1153: 'punk', 1154: 'shoulder', 1155: 'brandy', 1156: 'moe-near-now', 1157: 'groin', 1158: 'glorious', 1159: 'infiltrate', 1160: 'pepto-bismol', 1161: 'night-crawlers', 1162: 'hiding', 1163: 'attracted', 1164: 'passion', 1165: 'crippling', 1166: 'voicemail', 1167: 'compliment', 1168: 'series', 1169: 'puke-pail', 1170: 'teach', 1171: 'telemarketing', 1172: 'corporate', 1173: 'crisis', 1174: 'flack', 1175: \"beer's\", 1176: 'decency', 1177: 'runners', 1178: 'delightful', 1179: 'platinum', 1180: 'brainheaded', 1181: 'inning', 1182: 'boozehound', 1183: 'tail', 1184: 'mistake', 1185: '_montgomery_burns', 1186: 'screams', 1187: 'underwear', 1188: \"somethin'\", 1189: 'clock', 1190: 'picky', 1191: 'ruby-studded', 1192: 'chubby', 1193: 'glitterati', 1194: 'goes', 1195: 'listen', 1196: 'bars', 1197: 'musketeers', 1198: 'drunks', 1199: 'band', 1200: 'chinese', 1201: 'pitch', 1202: 'blank', 1203: 'david', 1204: 'annie', 1205: 'ancient', 1206: 'depending', 1207: \"they're\", 1208: 'koi', 1209: \"y'money's\", 1210: 'wood', 1211: 'gil_gunderson', 1212: 'recorded', 1213: 'button', 1214: 'xanders', 1215: 'support', 1216: 'ping-pong', 1217: 'contemplates', 1218: 'tie', 1219: 'installed', 1220: 'you-need-man', 1221: 'tear', 1222: '||left_parentheses||', 1223: 'ale', 1224: 'krusty_the_clown', 1225: 'perfect', 1226: 'hang', 1227: 'simon', 1228: 'sticking', 1229: 'aged_moe', 1230: 'automobiles', 1231: 'nemo', 1232: 'ran', 1233: 'six', 1234: 'chumbawamba', 1235: 'pee', 1236: 'escort', 1237: 'forty-two', 1238: 'goodbye', 1239: 'haikus', 1240: 'intakes', 1241: 'composite', 1242: 'flanders', 1243: 'caricature', 1244: 'down', 1245: 'mole', 1246: 'prepared', 1247: 'releasing', 1248: 'skydiving', 1249: 'delivery_man', 1250: 'consciousness', 1251: 'mull', 1252: 'invite', 1253: 'smallest', 1254: 'peach', 1255: 'alfred', 1256: 'beverage', 1257: 'assent', 1258: 'lurleen', 1259: 'blown', 1260: 'brief', 1261: 'handing', 1262: 'led', 1263: 'democracy', 1264: 'bigger', 1265: 'pills', 1266: 'answering', 1267: '_babcock', 1268: 'spit', 1269: 'information', 1270: 'paste', 1271: 'compels', 1272: 'magic', 1273: 'damn', 1274: 'cesss', 1275: 'fires', 1276: 'lighter', 1277: 'forbidden', 1278: 'thinks', 1279: 'whatever', 1280: 'luxury', 1281: 'infor', 1282: 'yap', 1283: \"fryer's\", 1284: 'crayola', 1285: 'linda', 1286: 'droning', 1287: 'managing', 1288: 'blur', 1289: 'shag', 1290: 'restaurant', 1291: 'spilled', 1292: 'single', 1293: 'chuck', 1294: 'names', 1295: 'jay', 1296: 'mention', 1297: 'kent', 1298: 'isotopes', 1299: 'stalking', 1300: 'drunkening', 1301: 'madison', 1302: 'bachelorette', 1303: 'themselves', 1304: 'absolutely', 1305: 'near', 1306: 'blinds', 1307: 'jets', 1308: 'mixed', 1309: 'western', 1310: \"daughter's\", 1311: 'espn', 1312: 'lover', 1313: 'pusillanimous', 1314: 'splendid', 1315: 'issuing', 1316: 'arm-pittish', 1317: 'brakes', 1318: 'onassis', 1319: 'hooked', 1320: 'vacation', 1321: 'father', 1322: 'admiring', 1323: 'sharps', 1324: 'sat-is-fac-tion', 1325: 'maher', 1326: 'passenger', 1327: 'prolonged', 1328: 'attack', 1329: 'suing', 1330: 'somewhere', 1331: 'barn', 1332: 'served', 1333: 'kidding', 1334: 'parking', 1335: 'court', 1336: \"money's\", 1337: 'needed', 1338: 'enthusiastically', 1339: 'dismissive', 1340: 'dearest', 1341: \"treatin'\", 1342: 'cleaning', 1343: 'languages', 1344: 'cutie', 1345: 'everyone', 1346: 'democrats', 1347: 'british', 1348: 'squirrels', 1349: 'reads', 1350: 'pop', 1351: 'buffalo', 1352: 'complaining', 1353: 'sigh', 1354: 'torn', 1355: 'living', 1356: 'unhappy', 1357: 'brought', 1358: 'trick', 1359: 'dog', 1360: 'rev', 1361: 'sixty', 1362: 'never', 1363: 'wieners', 1364: 'dictator', 1365: 'chance', 1366: 'son-of-a', 1367: 'fridge', 1368: 'boggs', 1369: 'service', 1370: 'poor', 1371: 'bless', 1372: 'looser', 1373: 'ashtray', 1374: 'really', 1375: 'rascals', 1376: 'saga', 1377: 'grandé', 1378: \"bo's\", 1379: 'cruise', 1380: 'bartholomé', 1381: 'p', 1382: 'does', 1383: 'blows', 1384: 'monkeyshines', 1385: 'anyone', 1386: 'greatest', 1387: 'expect', 1388: 'ask', 1389: 'narrator', 1390: 'network', 1391: 'in-in-in', 1392: 'focused', 1393: 'photographer', 1394: 'pope', 1395: 'storms', 1396: 'toys', 1397: 'cap', 1398: 'fonzie', 1399: 'robin', 1400: 'branding', 1401: 'by', 1402: \"jackpot's\", 1403: 'son', 1404: 'empty', 1405: 'kyoto', 1406: 'newsletter', 1407: 'sweetly', 1408: 'sunk', 1409: 'little', 1410: 'crony', 1411: 'swe-ee-ee-ee-eet', 1412: 'moans', 1413: 'shocked', 1414: \"tab's\", 1415: 'belts', 1416: 'other', 1417: 'gang', 1418: 'swell', 1419: \"'now\", 1420: 'breath', 1421: 'prizefighters', 1422: 'excuses', 1423: 'telling', 1424: 'loafers', 1425: 'reluctant', 1426: 'finding', 1427: 'become', 1428: 'grienke', 1429: 'tipsy', 1430: 'yeah', 1431: 'incredible', 1432: 'allegiance', 1433: 'newspaper', 1434: 'stirrers', 1435: 'in', 1436: 'gals', 1437: \"wearin'\", 1438: 'feast', 1439: 'odd', 1440: 'broncos', 1441: 'drag', 1442: 'lowering', 1443: 'puff', 1444: 'wagering', 1445: 'mis-statement', 1446: 'grub', 1447: 'wikipedia', 1448: 'acceptance', 1449: 'inanely', 1450: 'distinct', 1451: 'radishes', 1452: 'whether', 1453: 'arise', 1454: 'kahlua', 1455: 'model', 1456: 'bears', 1457: 'child', 1458: 'inspired', 1459: 'woozy', 1460: 'laney', 1461: 'please', 1462: 'tab', 1463: 'ugliness', 1464: 'fork', 1465: 'trapping', 1466: 'bill', 1467: 'in-ground', 1468: 'senators', 1469: 'saucy', 1470: 'rainbows', 1471: 'sometime', 1472: 'birthplace', 1473: 'gallon', 1474: 'collapse', 1475: 'holy', 1476: 'jams', 1477: 'carefully', 1478: 'mall', 1479: 'jewelry', 1480: 'touchdown', 1481: 'puts', 1482: 'moe_recording', 1483: 'suru', 1484: 'shaky', 1485: 'u2', 1486: 'them', 1487: 'flush', 1488: 'awfully', 1489: 'ehhhhhh', 1490: 'pinchpenny', 1491: 'tall', 1492: 'proudly', 1493: 'bugs', 1494: 'obama', 1495: 'shtick', 1496: 'sir', 1497: \"who'da\", 1498: 'wear', 1499: 'people', 1500: 'mother', 1501: 'benjamin', 1502: 'talk', 1503: 'sounded', 1504: 'figured', 1505: 'unfresh', 1506: 'commanding', 1507: 'soap', 1508: 'ron_howard', 1509: 'indecipherable', 1510: 'indeedy', 1511: 'wound', 1512: 'curiosity', 1513: 'paris', 1514: 'fall', 1515: 'muslim', 1516: 'mexicans', 1517: 'adult', 1518: 'raise', 1519: 'plywood', 1520: 'ball-sized', 1521: 'briefly', 1522: 'run', 1523: 'whup', 1524: 'bet', 1525: 'grampa', 1526: 'traffic', 1527: 'secret', 1528: 'bullet-proof', 1529: 'haiti', 1530: 'heavens', 1531: 'wheels', 1532: 'swill', 1533: 'thanks', 1534: 'dice', 1535: 'rid', 1536: 'dunno', 1537: 'thought_bubble_lenny', 1538: 'onto', 1539: 'windelle', 1540: 'item', 1541: 'ridiculous', 1542: \"'topes\", 1543: 'young_moe', 1544: \"hawkin'\", 1545: 'bee', 1546: 'pillows', 1547: 'weekend', 1548: 'referee', 1549: 'ditched', 1550: 'chilly', 1551: 'plug', 1552: 'church', 1553: 'sobo', 1554: \"swishifyin'\", 1555: 'calvin', 1556: 'appreciate', 1557: 'booger', 1558: 'weary', 1559: \"what'sa\", 1560: 'most', 1561: 'exchange', 1562: 'dangerous', 1563: 'spent', 1564: 'lied', 1565: 'wait', 1566: 'celebrities', 1567: 'cat', 1568: 'song', 1569: 'jeez', 1570: 'grandiose', 1571: 'went', 1572: 'lift', 1573: 'john', 1574: \"i-i'll\", 1575: 'sanitation', 1576: 'club', 1577: 'town', 1578: 'royal', 1579: 'glen', 1580: 'initially', 1581: 'pictured', 1582: 'tanking', 1583: 'phone', 1584: 'sales', 1585: 'helpless', 1586: 'gin', 1587: 'trunk', 1588: 'pulling', 1589: 'rewound', 1590: 'lou', 1591: 'eaten', 1592: 'supreme', 1593: 'packets', 1594: 'simpsons', 1595: \"fine-lookin'\", 1596: 'hems', 1597: 'stinky', 1598: 'jesus', 1599: 'ventriloquism', 1600: 'gags', 1601: 'repressed', 1602: 'k', 1603: 'pretzel', 1604: 'complaint', 1605: 'win', 1606: 'girls', 1607: 'poem', 1608: 'feminist', 1609: 'winks', 1610: 'vincent', 1611: 'fights', 1612: 'low-blow', 1613: 'mission', 1614: 'fool', 1615: 'hurting', 1616: 'eve', 1617: 'mither', 1618: 'attention', 1619: \"choosin'\", 1620: 'sugar-free', 1621: 'sledge-hammer', 1622: 'thru', 1623: 'muttering', 1624: 'museum', 1625: 'mouse', 1626: 'penny', 1627: 'flaking', 1628: 'enter', 1629: 'saw', 1630: 'dinks', 1631: 'tv_daughter', 1632: 'art', 1633: 'nfl_narrator', 1634: \"shootin'\", 1635: 'took', 1636: 'squeals', 1637: 'flustered', 1638: 'backing', 1639: 'blackjack', 1640: 'nucular', 1641: 'fine', 1642: 'moe-ron', 1643: 'foam', 1644: 'alls', 1645: 'donate', 1646: 'ho', 1647: 'julienne', 1648: 'donation', 1649: 'gentle', 1650: 'bowl', 1651: 'choked', 1652: 'endorsed', 1653: 'smoothly', 1654: 'touches', 1655: 'ripped', 1656: 'finish', 1657: 'coms', 1658: 'closes', 1659: 'lushmore', 1660: 'michael_stipe', 1661: 'combine', 1662: 'raining', 1663: 'continued', 1664: 'call', 1665: 'passes', 1666: 'wiggle', 1667: 'lucius', 1668: 'pointless', 1669: 'name', 1670: 'offensive', 1671: 'delivery_boy', 1672: 'friends', 1673: \"number's\", 1674: 'hyper-credits', 1675: 'lord', 1676: 'string', 1677: \"comin'\", 1678: 'can', 1679: 'mellow', 1680: 'unearth', 1681: 'eddie', 1682: 'case', 1683: 'troy', 1684: 'ambrosia', 1685: 'listens', 1686: 'is', 1687: 'results', 1688: 'option', 1689: 'sacajawea', 1690: 'face', 1691: 'roach', 1692: 'strokkur', 1693: 'kiss', 1694: 'earth', 1695: 'sesame', 1696: 'japanese', 1697: 'bitter', 1698: 'promised', 1699: 'dead', 1700: 'yells', 1701: \"she'll\", 1702: 'clear', 1703: 'romantic', 1704: 'gonna', 1705: 'truck', 1706: 'twice', 1707: 'stern', 1708: 'fighting', 1709: 'causes', 1710: 'grunt', 1711: 'prince', 1712: \"wino's\", 1713: 'resolution', 1714: 'grrrreetings', 1715: 'therapist', 1716: 'closet', 1717: 'runaway', 1718: 'rug', 1719: 'junebug', 1720: 'wenceslas', 1721: 'delete', 1722: 'grudgingly', 1723: 'title', 1724: 'sucks', 1725: 'endorsement', 1726: \"wait'll\", 1727: 'chosen', 1728: 'avenue', 1729: 'teenage_barney', 1730: 'thoughts', 1731: 'frozen', 1732: 'fresco', 1733: '1-800-555-hugs', 1734: 'taxes', 1735: 'held', 1736: \"nixon's\", 1737: 'mom', 1738: 'grimly', 1739: 'cheated', 1740: 'convenient', 1741: 'country-fried', 1742: 'mcstagger', 1743: 'sodas', 1744: 'fbi_agent', 1745: 'chanting', 1746: 'front', 1747: 'dies', 1748: 'mobile', 1749: 'irs', 1750: \"buffalo's\", 1751: 'return', 1752: 'conference', 1753: 'la', 1754: 'spine', 1755: 'saved', 1756: 'sticker', 1757: 'koholic', 1758: 'flourish', 1759: 'speed', 1760: 'polishing', 1761: 'maya', 1762: 'dramatically', 1763: 'manboobs', 1764: 'poisoning', 1765: '||dash||', 1766: 'health_inspector', 1767: 'last', 1768: 'open', 1769: 'morning-after', 1770: 'failure', 1771: 'problems', 1772: 'moe-clone', 1773: 'dude', 1774: 'pressure', 1775: 'paparazzo', 1776: 'sorry', 1777: 'fondly', 1778: 'dames', 1779: 'putting', 1780: 'am', 1781: 'exultant', 1782: 'affectations', 1783: 'wasted', 1784: 'grand', 1785: 'also', 1786: 'tree', 1787: 'cuff', 1788: 'thousand-year', 1789: 'birthday', 1790: 'watched', 1791: 'sour', 1792: 'getaway', 1793: 'sweet', 1794: 'edna', 1795: 'lobster', 1796: 'company', 1797: 'sagely', 1798: 'seriously', 1799: 'praise', 1800: 'genuinely', 1801: 'aging', 1802: 'strains', 1803: 'flat', 1804: 'depression', 1805: 'finance', 1806: 'pulled', 1807: 'nominated', 1808: 'ram', 1809: 'coffee', 1810: 'gamble', 1811: 'potato', 1812: 'woulda', 1813: 'eyeball', 1814: 'grabs', 1815: 'explain', 1816: 'sorts', 1817: \"speakin'\", 1818: 'suave', 1819: 'finishing', 1820: 'mindless', 1821: 'au', 1822: 'leprechaun', 1823: 'tv-station_announcer', 1824: 'shotgun', 1825: 'whistles', 1826: 'shame', 1827: 'southern', 1828: 'hitler', 1829: 'kansas', 1830: 'occurrence', 1831: 'pirate', 1832: \"can't-believe-how-bald-he-is\", 1833: 'shrieks', 1834: 'scrutinizes', 1835: 'larson', 1836: \"sat's\", 1837: 'boring', 1838: 'drollery', 1839: 'actually', 1840: 'repeating', 1841: 'meaningful', 1842: 'reason', 1843: 'tied', 1844: 'half-beer', 1845: 'ma', 1846: 'chairman', 1847: 'advertise', 1848: 'fat', 1849: \"soundin'\", 1850: 'beauty', 1851: '_marvin_monroe', 1852: 'david_byrne', 1853: 'studio', 1854: 'protesters', 1855: 'bachelorhood', 1856: 'triangle', 1857: 'handoff', 1858: 'gotta', 1859: 'kneeling', 1860: 'embarrassing', 1861: 'fist', 1862: 'tune', 1863: 'stupidly', 1864: 'body', 1865: 'change', 1866: 'register', 1867: 'burger', 1868: 'eighty-one', 1869: 'pursue', 1870: 'fired', 1871: 'contact', 1872: 'stengel', 1873: '6', 1874: 'squirrel', 1875: 'freaky', 1876: 'mirror', 1877: 'talking', 1878: 'slap', 1879: 'spy', 1880: 'andy', 1881: 'dirge-like', 1882: 'thanksgiving', 1883: 'boxcar', 1884: 'baloney', 1885: 'avalanche', 1886: 'burps', 1887: 'grateful', 1888: 'killjoy', 1889: '_kissingher', 1890: 'tow', 1891: 'evening', 1892: 'sex', 1893: 'boo', 1894: 'drapes', 1895: 'lawyer', 1896: 'revenge', 1897: 'glum', 1898: 'mine', 1899: 'milk', 1900: 'africa', 1901: 'bashir', 1902: 'los', 1903: 'probably', 1904: 'applesauce', 1905: 'reach', 1906: 'upbeat', 1907: 'ten', 1908: 'taylor', 1909: 'wanted', 1910: 'singers', 1911: 'dutch', 1912: 'arimasen', 1913: 'influence', 1914: 'virtual', 1915: 'affection', 1916: 'baby', 1917: 'pleading', 1918: 'pickle', 1919: 'amber_dempsey', 1920: 'murderously', 1921: 'fayed', 1922: 'wolveriskey', 1923: 'slop', 1924: \"stayin'\", 1925: 'late', 1926: 'stained-glass', 1927: 'clientele', 1928: 'original', 1929: 'bathtub', 1930: '2', 1931: 'signed', 1932: 'sweat', 1933: \"when's\", 1934: 'better', 1935: \"yieldin'\", 1936: 'deals', 1937: 'swamp', 1938: 'throats', 1939: 'community', 1940: 'stepped', 1941: 'mortal', 1942: 'catholic', 1943: 'naegle', 1944: 'togetherness', 1945: 'relative', 1946: 'nectar', 1947: 'cover', 1948: \"team's\", 1949: 'coins', 1950: 'tire', 1951: 'uglier', 1952: 'shush', 1953: 'wells', 1954: 'precious', 1955: 'cupid', 1956: 'believe', 1957: 'figures', 1958: 'driveability', 1959: 'passed', 1960: 'chicken', 1961: 'britannia', 1962: 'lifestyle', 1963: 'cries', 1964: 'someone', 1965: 'rabbits', 1966: 'nor', 1967: 'principles', 1968: 'quickly', 1969: 'plane', 1970: 'die-hard', 1971: 'rosey', 1972: 'cases', 1973: 'amber', 1974: 'panties', 1975: 'sloe', 1976: \"people's\", 1977: 'uh-oh', 1978: 'engine', 1979: 'gargoyles', 1980: 'badmouths', 1981: 'average', 1982: 'ahhhh', 1983: 'quero', 1984: 'farewell', 1985: 'declan', 1986: 'teenage_homer', 1987: 'tones', 1988: 'slender', 1989: 'south', 1990: 'handler', 1991: \"dimwit's\", 1992: 'wipe', 1993: 'nagurski', 1994: 'vengeance', 1995: 'bride', 1996: 'disco_stu', 1997: 'patterns', 1998: 'dignified', 1999: 'massage', 2000: 'stu', 2001: 'putty', 2002: 'twentieth', 2003: 'wrong', 2004: 'singer', 2005: 'artie', 2006: 'wrestling', 2007: 'guard', 2008: 'hail', 2009: 'few', 2010: 'road', 2011: 'kucinich', 2012: 'picked', 2013: 'helicopter', 2014: 'sneering', 2015: 'assert', 2016: \"starla's\", 2017: 'kisses', 2018: 'showered', 2019: 'activity', 2020: 'corner', 2021: 'spouses', 2022: 'throwing', 2023: 'adequate', 2024: 'eggshell', 2025: 'lachrymose', 2026: 'buddies', 2027: 'station', 2028: 'informant', 2029: 'righ', 2030: 'bees', 2031: 'misconstrue', 2032: \"smokin'_joe_frazier\", 2033: 'meaning', 2034: 'ow', 2035: 'involving', 2036: 'fledgling', 2037: 'beaumarchais', 2038: 'peeping', 2039: 'snow', 2040: 'scary', 2041: 'pack', 2042: 'use', 2043: 'robbers', 2044: 'trouble', 2045: 'conditioner', 2046: \"calf's\", 2047: 'instantly', 2048: 'pleased', 2049: 'anything', 2050: 'thorn', 2051: 'jig', 2052: 'stamps', 2053: 'since', 2054: 'secrets', 2055: 'more', 2056: 'instrument', 2057: \"table's\", 2058: 'america', 2059: 'juke', 2060: 'op', 2061: 'anywhere', 2062: 'tree_hoper', 2063: 'certainly', 2064: 'pharmaceutical', 2065: 'frat', 2066: 'deny', 2067: 'fact', 2068: 'sixty-nine', 2069: \"snappin'\", 2070: 'dressed', 2071: 'muscle', 2072: 'teenage', 2073: 'invisible', 2074: 'professional', 2075: 'stay', 2076: 'way', 2077: 'longest', 2078: 'theater', 2079: 'decent', 2080: 'sheepish', 2081: 'barstools', 2082: 'undermine', 2083: 'gentleman', 2084: 'brunch', 2085: 'remembering', 2086: 'administration', 2087: 'compadre', 2088: 'braun', 2089: 'presided', 2090: 'writing', 2091: 'term', 2092: 'elmer', 2093: 'teams', 2094: 'billiard', 2095: 'reminded', 2096: 'chips', 2097: 'specializes', 2098: 'tidy', 2099: 'forty-five', 2100: 'furniture', 2101: 'plans', 2102: 'bright', 2103: 'minister', 2104: 'size', 2105: \"father's\", 2106: 'heliotrope', 2107: 'society_matron', 2108: 'email', 2109: 'rotch', 2110: 'bed', 2111: 'terrifying', 2112: 'freely', 2113: \"i'unno\", 2114: 'while', 2115: 'sweetest', 2116: 'smelly', 2117: 'fantasy', 2118: 'voice_on_transmitter', 2119: 'inquiries', 2120: 'hostages', 2121: 'snorts', 2122: 'key', 2123: 'answers', 2124: 'twelve-step', 2125: 'whatchamacallit', 2126: 'life', 2127: 'fiiiiile', 2128: 'refreshing', 2129: 'dregs', 2130: 'accelerating', 2131: 'mind-numbing', 2132: 'doom', 2133: 'himself', 2134: \"what's\", 2135: 'hurry', 2136: 'grammys', 2137: \"fans'll\", 2138: 'darkness', 2139: 'hourly', 2140: 'drummer', 2141: 'perverse', 2142: 'juice', 2143: 'fustigate', 2144: 'pond', 2145: 'thumb', 2146: 'cigars', 2147: 'mt', 2148: 'access', 2149: 'tenuous', 2150: 'except', 2151: 'kissing', 2152: \"'your\", 2153: 'penmanship', 2154: 'cricket', 2155: \"breakin'\", 2156: 'softer', 2157: 'alfalfa', 2158: \"we're\", 2159: 'an', 2160: 'compliments', 2161: \"nothin'\", 2162: 'table', 2163: 'file', 2164: 'simple', 2165: \"nick's\", 2166: 'roomy', 2167: 'without', 2168: 'turlet', 2169: 'urge', 2170: 'benefits', 2171: 'uses', 2172: 'woman_bystander', 2173: 'steamed', 2174: 'holding', 2175: 'process', 2176: 'moe-heads', 2177: 'enjoyed', 2178: 'organ', 2179: 'dae', 2180: 'seats', 2181: 'killing', 2182: 'coming', 2183: 'newly-published', 2184: 'searching', 2185: 'spare', 2186: 'specified', 2187: 'belong', 2188: 'dishrag', 2189: \"dog's\", 2190: 'clams', 2191: 'jägermeister', 2192: 'wholeheartedly', 2193: 'typing', 2194: 'let', 2195: 'cozy', 2196: 'knocks', 2197: 'aunt', 2198: 'beat', 2199: 'dungeon', 2200: 'inspiring', 2201: 'disapproving', 2202: 'grubby', 2203: 'watch', 2204: 'here', 2205: 'socratic', 2206: 'mocking', 2207: 'question_mark', 2208: 'intrigued', 2209: 'kay', 2210: 'doll', 2211: 'burp', 2212: 'appalled', 2213: 'tummies', 2214: 'alec_baldwin', 2215: 'kidneys', 2216: \"stabbin'\", 2217: 'love', 2218: 'angel', 2219: 'municipal', 2220: \"homer's\", 2221: 'kinda', 2222: 'nervous', 2223: 'guinea', 2224: 'sooner', 2225: '3', 2226: 'stein-stengel-', 2227: 'any', 2228: 'treasure', 2229: 'test-lady', 2230: 'miss_lois_pennycandy', 2231: 'grave', 2232: 'beach', 2233: 'horses', 2234: 'asks', 2235: 'horrible', 2236: 'sober', 2237: 'cuddling', 2238: '||right_parentheses||', 2239: 'cliff', 2240: 'best', 2241: 'pats', 2242: 'transylvania', 2243: 'usually', 2244: 'older', 2245: 'training', 2246: 'asked', 2247: 'brooklyn', 2248: 'full-bodied', 2249: 'sponsor', 2250: 'mel', 2251: 'television', 2252: 'socialize', 2253: 'wobbly', 2254: 'man_with_tree_hat', 2255: 'locklear', 2256: 'script', 2257: 'suspicious', 2258: 'however', 2259: 'researching', 2260: 'worth', 2261: 'mice', 2262: 'düff', 2263: 'certified', 2264: 'kenny', 2265: 'slays', 2266: 'absentmindedly', 2267: 'groans', 2268: 'skinheads', 2269: 'surgery', 2270: 'lobster-based', 2271: 'clearly', 2272: 'monkey', 2273: 'college', 2274: 'snotball', 2275: 'ho-ly', 2276: 'christopher', 2277: 'breakfast', 2278: 'female_inspector', 2279: 'waterfront', 2280: 'handling', 2281: 'rain', 2282: \"i-i'm\", 2283: 'tomorrow', 2284: 'hoo', 2285: 'gumbel', 2286: 'safe', 2287: 'kicks', 2288: \"floatin'\", 2289: 'raggie', 2290: 'addiction', 2291: 'much', 2292: 'pipes', 2293: 'owes', 2294: 'gruesome', 2295: 'whale', 2296: \"leavin'\", 2297: \"sippin'\", 2298: 'fevered', 2299: 'worldview', 2300: 'meatpies', 2301: 'tow-talitarian', 2302: 'bliss', 2303: 'jaegermeister', 2304: 'giant', 2305: 'a-b-', 2306: 'placed', 2307: 'jumps', 2308: 'about', 2309: 'sister', 2310: 'disdainful', 2311: 'plastered', 2312: 'washer', 2313: 'year', 2314: 'entrance', 2315: 'rolling', 2316: 'it', 2317: 'taps', 2318: 'items', 2319: 'which', 2320: 'other_book_club_member', 2321: 'quality', 2322: 'mathis', 2323: 'fourteen', 2324: 'fulla', 2325: 'quite', 2326: 'muffled', 2327: 'newsweek', 2328: 'bird', 2329: 'old', 2330: 'rude', 2331: 'huhza', 2332: 'neighborhood', 2333: 'certificate', 2334: 'exited', 2335: 'gotten', 2336: 'disgrace', 2337: 'working', 2338: \"soakin's\", 2339: 'beer-jerks', 2340: 'patron_#2', 2341: \"could've\", 2342: 'score', 2343: 'duh', 2344: 'measurements', 2345: 'dimly', 2346: \"someone's\", 2347: 'capuchin', 2348: 'sugar-me-do', 2349: 'winded', 2350: 'celebrate', 2351: 'slick', 2352: 'highway', 2353: 'studied', 2354: 'chinua', 2355: 'minors', 2356: 'god', 2357: 'medieval', 2358: 'test', 2359: 'sadder', 2360: 'followed', 2361: 'friday', 2362: 'pigtown', 2363: 'snake-handler', 2364: 'dejected', 2365: 'site', 2366: 'ron', 2367: 'commission', 2368: 'monster', 2369: 'moments', 2370: 'huggenkiss', 2371: 'declan_desmond', 2372: 'insist', 2373: 'majesty', 2374: 'publishers', 2375: 'easily', 2376: 'betty', 2377: 'read', 2378: 'planned', 2379: 'meaningless', 2380: 'multi-national', 2381: 'beep', 2382: 'kirk_van_houten', 2383: 'stupidest', 2384: 'restless', 2385: 'ding-a-ding-ding-ding-ding-ding-ding', 2386: 'pantry', 2387: 'crowned', 2388: 'nitwit', 2389: \"that's\", 2390: 'knowing', 2391: 'celebrity', 2392: 'population', 2393: 'bust', 2394: \"donatin'\", 2395: 'sit', 2396: 'tv_husband', 2397: 'trucks', 2398: 'one-hour', 2399: \"stallin'\", 2400: 'leftover', 2401: 'refreshment', 2402: 'manjula', 2403: 'inserts', 2404: 'courage', 2405: 'beligerent', 2406: 'correcting', 2407: 'rainforest', 2408: 'wishing', 2409: 'happened', 2410: 'department', 2411: 'surgeonnn', 2412: 'banned', 2413: 'supplying', 2414: 'johnny_carson', 2415: 'walther_hotenhoffer', 2416: 'imitating', 2417: \"y'see\", 2418: 'tomahto', 2419: 'log', 2420: 'catch', 2421: 'e-z', 2422: 'pad', 2423: 'tomato', 2424: 'grabbing', 2425: 'literary', 2426: 'jeers', 2427: 'stayed', 2428: 'deacon', 2429: 'private', 2430: 'five-fifteen', 2431: 'bought', 2432: 'men', 2433: 'united', 2434: 'vampire', 2435: 'mic', 2436: 'sternly', 2437: 'pushing', 2438: 'hammock', 2439: 'wheel', 2440: 'human', 2441: 'puzzle', 2442: 'paid', 2443: 'sealed', 2444: 'arrived', 2445: 'p-k', 2446: 'angrily', 2447: 'sue', 2448: 'xx', 2449: 'don', 2450: 'sister-in-law', 2451: 'burning', 2452: 'cool', 2453: 'carb', 2454: 'soaking', 2455: 'earrings', 2456: 'twins', 2457: 'teenage_bart', 2458: 'chinese_restaurateur', 2459: 'button-pusher', 2460: 'criminal', 2461: 'hippies', 2462: 'i', 2463: 'strategizing', 2464: 'age', 2465: 'glasses', 2466: 'wine', 2467: 'someday', 2468: 'dyspeptic', 2469: 'gums', 2470: 'guessing', 2471: 'courthouse', 2472: 'germany', 2473: 'young_barfly', 2474: 'dumb', 2475: 'history', 2476: 'election', 2477: 'beneath', 2478: 'four-drink', 2479: \"readin'\", 2480: 'gunk', 2481: 'picnic', 2482: 'proves', 2483: 'considering', 2484: 'militia', 2485: 'virility', 2486: 'he', 2487: 'limits', 2488: 'mater', 2489: 'ecru', 2490: 'third', 2491: 'princess', 2492: 'cigarette', 2493: 'declare', 2494: 'selma', 2495: \"crawlin'\", 2496: 'coupon', 2497: 'park', 2498: 'burt_reynolds', 2499: 'disappointed', 2500: 'huddle', 2501: 'dang', 2502: 'musical', 2503: 'beaumont', 2504: 'american', 2505: 'loathe', 2506: 'forgiven', 2507: 'excited', 2508: 'ignorant', 2509: \"santa's\", 2510: 'furry', 2511: 'experienced', 2512: 'teacher', 2513: \"seein'\", 2514: 'live', 2515: 'bono', 2516: 'perfunctory', 2517: 'richard', 2518: 'h', 2519: 'keep', 2520: \"round's\", 2521: 'grains', 2522: 'hydrant', 2523: 'meet', 2524: 'ride', 2525: 'donor', 2526: 'blend', 2527: 'proposition', 2528: 'perfected', 2529: 'control', 2530: 'polenta', 2531: 'stools', 2532: 'thunder', 2533: 'stripes', 2534: 'dryer', 2535: 'challenge', 2536: \"battin'\", 2537: 'iranian', 2538: 'children', 2539: 'pass', 2540: 'lecture', 2541: 'uncreeped-out', 2542: 'comic', 2543: 'recruiter', 2544: 'house', 2545: 'idea', 2546: 'unfortunately', 2547: 'ruint', 2548: 'chapstick', 2549: 'rest', 2550: 'adventure', 2551: 'bag', 2552: 'want', 2553: 'carlotta', 2554: \"where's\", 2555: 'punkin', 2556: 'hurt', 2557: \"others'\", 2558: 'insulted', 2559: 'measure', 2560: 'eww', 2561: 'bring', 2562: 'low', 2563: \"tonight's\", 2564: 'profiling', 2565: 'flips', 2566: 'banks', 2567: 'cameras', 2568: 'clench', 2569: 'hunting', 2570: 'reviews', 2571: 'scene', 2572: 'motorcycle', 2573: 'twenty', 2574: 'temples', 2575: 'festival', 2576: 'marjorie', 2577: 'graveyard', 2578: \"o'\", 2579: 'exhibit', 2580: \"washin'\", 2581: 'wife', 2582: 'elder', 2583: 'tsk', 2584: 'loan', 2585: 'dennis', 2586: 'shaking', 2587: 'chub', 2588: 'genius', 2589: 'hops', 2590: 'bush', 2591: 'mostly', 2592: 'checking', 2593: 'scrubbing', 2594: 'open-casket', 2595: 'and', 2596: 'silence', 2597: 'cockroach', 2598: 'tiger', 2599: 'zoomed', 2600: 'stopped', 2601: 'crack', 2602: 'justice', 2603: 'a', 2604: 'happy', 2605: 'announcer', 2606: 'wallet', 2607: 'haplessly', 2608: 'cents', 2609: 'clincher', 2610: 'spread', 2611: 'you', 2612: 'mm-hmm', 2613: 'mcclure', 2614: 'joey_kramer', 2615: 'gut', 2616: 'rotten', 2617: 'dame', 2618: 'show', 2619: \"bringin'\", 2620: 'line', 2621: 'today/', 2622: 'stab', 2623: \"pressure's\", 2624: 'next', 2625: 'permitting', 2626: 'stool', 2627: 'shaken', 2628: 'defensive', 2629: 'water', 2630: 'nbc', 2631: \"wouldn't\", 2632: 'maximum', 2633: 'mate', 2634: 'andalay', 2635: 'lime', 2636: 'harvey', 2637: \"writin'\", 2638: 'poetry', 2639: \"narratin'\", 2640: 'whim', 2641: 'batmobile', 2642: 't-shirt', 2643: 'timbuk-tee', 2644: 'diaper', 2645: 'fixed', 2646: 'flash', 2647: 'ratio', 2648: 'crazy', 2649: 'quitcher', 2650: 'playful', 2651: 'fish', 2652: 'placing', 2653: 'superpower', 2654: \"dolph's_dad\", 2655: 'scotch', 2656: 'continuing', 2657: 'brain-switching', 2658: 'would', 2659: 'tow-joes', 2660: 'shove', 2661: 'cheered', 2662: 'thawing', 2663: 'loboto-moth', 2664: 'smells', 2665: 'ticks', 2666: 'holds', 2667: 'hillary', 2668: 'cranberry', 2669: '15', 2670: 'shirt', 2671: 'charter', 2672: 'corporation', 2673: 'chum', 2674: 'six-barrel', 2675: 'junior', 2676: 'mac-who', 2677: 'lisa_simpson', 2678: 'b-day', 2679: 'sickened', 2680: 'lugs', 2681: 'remaining', 2682: 'ladies', 2683: 'calculate', 2684: 'rationalizing', 2685: 'marge', 2686: 'attractive', 2687: 'scoffs', 2688: \"tryin'\", 2689: 'pigs', 2690: 'island', 2691: 'montrer', 2692: 'bitterly', 2693: 'wish', 2694: 'spamming', 2695: 'occupied', 2696: 'heartily', 2697: 'winnings', 2698: 'gruff', 2699: 'misfire', 2700: 'chic', 2701: 'thrown', 2702: 'palmerston', 2703: 'slaps', 2704: 'spend', 2705: 'rutabaga', 2706: 'law-abiding', 2707: 'bobo', 2708: 'grocery', 2709: 'presses', 2710: 'habitrail', 2711: 'sponge', 2712: 'amid', 2713: 'simp-sonnnn', 2714: 'contemplated', 2715: 'mechanical', 2716: 'design', 2717: 'indignant', 2718: 'jackass', 2719: 'tribute', 2720: 'henry', 2721: 'yea', 2722: 'following', 2723: 'outstanding', 2724: 'nervously', 2725: 'johnny', 2726: 'small', 2727: 'belch', 2728: 'jewish', 2729: 'theme', 2730: \"boy's\", 2731: 'honey', 2732: '50%', 2733: 'smell', 2734: 'fatso', 2735: 'tonight', 2736: 'lis', 2737: 'vestigial', 2738: 'corn', 2739: 'oh-so-sophisticated', 2740: 'trip', 2741: 'unlocked', 2742: 'caveman', 2743: 'guide', 2744: 'sounds', 2745: 'orifice', 2746: 'destroyed', 2747: 'part', 2748: 'necklace', 2749: 'disguised', 2750: 'jigger', 2751: 'unsanitary', 2752: 'ooo', 2753: 'yelling', 2754: 'ivana', 2755: 'fellas', 2756: 'hearts', 2757: 'intruding', 2758: 'passports', 2759: 'science', 2760: 'tolerance', 2761: 'courteous', 2762: 'gas', 2763: 'forty', 2764: 'later', 2765: 'fever', 2766: 'haw', 2767: 'punching', 2768: 'ironed', 2769: 'ronstadt', 2770: 'cheat', 2771: 'i-i', 2772: 'gunter', 2773: 'roz', 2774: 'side', 2775: 'bedbugs', 2776: 'waylon_smithers', 2777: 'person', 2778: 'hugh', 2779: 'painless', 2780: 'kick-ass', 2781: 'tries', 2782: 'terrible', 2783: 'oughta', 2784: 'radiator', 2785: 'squabbled', 2786: 'dejected_barfly', 2787: 'manipulation', 2788: 'eventually', 2789: 'diddilies', 2790: 'cueball', 2791: 'pre-recorded', 2792: 'ref', 2793: 'fools', 2794: 'sniffs', 2795: \"kearney's_dad\", 2796: 'spirit', 2797: 'hmmmm', 2798: 'executive', 2799: 'lainie', 2800: 'applicant', 2801: \"plaster's\", 2802: 'strongly', 2803: 'cutest', 2804: \"fishin'\", 2805: 'swelling', 2806: 'occasional', 2807: 'attraction', 2808: 'whaaa', 2809: \"valentine's\", 2810: 'nelson_muntz', 2811: 'ends', 2812: 'couch', 2813: 'cruel', 2814: 'spews', 2815: 'fbi', 2816: 'car', 2817: 'dirty', 2818: 'amiable', 2819: 'ohhhh', 2820: 'fdic', 2821: 'whisper', 2822: 'x-men', 2823: 'won', 2824: 'blobbo', 2825: 'proposing', 2826: 'carpet', 2827: 'spectacular', 2828: 'selection', 2829: 'coast', 2830: 'afterglow', 2831: 'internet', 2832: 'hole', 2833: 'standing', 2834: 'hook', 2835: 'karaoke_machine', 2836: 'ass', 2837: 'banquo', 2838: 'talk-sings', 2839: 'step', 2840: 'alpha-crow', 2841: 'plaintive', 2842: 'blood', 2843: 'screws', 2844: 'hottest', 2845: 'kwik-e-mart', 2846: 'championship', 2847: 'tracks', 2848: 'f', 2849: 'dammit', 2850: 'involved', 2851: 'barney_gumble', 2852: 'hooch', 2853: 'beating', 2854: 'sent', 2855: 'sail', 2856: \"murphy's\", 2857: 'flailing', 2858: 'thorough', 2859: 'leg', 2860: 'investor', 2861: 'patty_bouvier', 2862: \"gettin'\", 2863: 'golden', 2864: 'dealie', 2865: 'shhh', 2866: 'crooks', 2867: 'balls', 2868: 'protecting', 2869: 'grade', 2870: \"g'ahead\", 2871: 'think', 2872: 'against', 2873: 'occasion', 2874: 'tapered', 2875: 'layer', 2876: 'hunter', 2877: 'purveyor', 2878: 'light', 2879: 'pit', 2880: 'jolly', 2881: 'his', 2882: 'majority', 2883: \"where'd\", 2884: 'sangre', 2885: 'stuck', 2886: 'rip-off', 2887: 'fwooof', 2888: 'unlucky', 2889: \"heat's\", 2890: 'pulls', 2891: 'anyhoo', 2892: 'vote', 2893: 'brick', 2894: 'error', 2895: \"you'll\", 2896: 'wittgenstein', 2897: 'pointedly', 2898: 'inspire', 2899: \"playin'\", 2900: 'square', 2901: 'inserted', 2902: 'loud', 2903: 'relax', 2904: 'quimbys', 2905: \"life's\", 2906: 'attractive_woman_#1', 2907: 'pugilist', 2908: 'maxed', 2909: 'chuckle', 2910: 'wacky', 2911: '7-year-old_brockman', 2912: 'closing', 2913: 'incriminating', 2914: 'babies', 2915: 'boy', 2916: 'goldarnit', 2917: 'cursed', 2918: 'instead', 2919: 'freshened', 2920: 'such', 2921: 'feelings', 2922: 'teen', 2923: 'janette', 2924: 'slobs', 2925: 'bulked', 2926: 'hundred', 2927: 'inherent', 2928: 'thought', 2929: \"drivin'\", 2930: 'and-and', 2931: 'vampires', 2932: 'victim', 2933: 'knowingly', 2934: \"aren't\", 2935: 'course', 2936: 'when', 2937: 'ads', 2938: 'hello', 2939: 'nerd', 2940: \"watchin'\", 2941: 'whoo', 2942: 'fringe', 2943: 'from', 2944: 'gin-slingers', 2945: 'intoxicated', 2946: 'rem', 2947: 'squeal', 2948: 'de', 2949: \"tony's\", 2950: 'up', 2951: 'versus', 2952: 'tremendous', 2953: 'who', 2954: 'itself', 2955: 'seas', 2956: 'painted', 2957: 'politician', 2958: 'confidential', 2959: 'hotel', 2960: \"he'd\", 2961: 'shape', 2962: 'streetcorner', 2963: 'blamed', 2964: 'five', 2965: 'guff', 2966: 'bachelor', 2967: 'stunned', 2968: 'ginger', 2969: 'famous', 2970: 'truck_driver', 2971: 'tv_announcer', 2972: 'dials', 2973: 'skeptical', 2974: 'sec', 2975: 'press', 2976: 'loved', 2977: 'sun', 2978: 'swear', 2979: 'carey', 2980: 'backwards', 2981: 'horror', 2982: 'threatening', 2983: 'malabar', 2984: 'rather', 2985: 'swan', 2986: 're', 2987: 'intoxicants', 2988: 'scooter', 2989: 'action', 2990: 'agent_miller', 2991: 'piling', 2992: 'raccoons', 2993: 'joining', 2994: 'kermit', 2995: 'unusual', 2996: 'cans', 2997: 'joined', 2998: 'tank', 2999: 'valley', 3000: 'remote', 3001: 'jukebox', 3002: 'sing-song', 3003: 'play', 3004: 'kick', 3005: 'hub', 3006: 'wolfcastle', 3007: 'whee', 3008: 'drederick', 3009: 'prefer', 3010: 'dishonor', 3011: 'powerful', 3012: 'recent', 3013: 'harv', 3014: 'relationship', 3015: 'hospital', 3016: 'alien', 3017: 'i-i-i', 3018: 'nameless', 3019: 'wrapped', 3020: 'kidney', 3021: 'gasp', 3022: 'zack', 3023: 'trashed', 3024: 'laws', 3025: '3rd_voice', 3026: 'wham', 3027: 'delivery', 3028: 'fills', 3029: 'craphole', 3030: 'rice', 3031: 'merchants', 3032: 'isle', 3033: 'locked', 3034: \"s'okay\", 3035: 'burn', 3036: 'leno', 3037: 'boozebag', 3038: 'conversation', 3039: 'voters', 3040: 'yourself', 3041: 'heads', 3042: 'gasoline', 3043: 'achebe', 3044: \"bettin'\", 3045: 'buried', 3046: 'brace', 3047: 'beefs', 3048: \"pullin'\", 3049: 'miss', 3050: 'notably', 3051: 'jamaican', 3052: 'winch', 3053: 'dating', 3054: 'exquisite', 3055: 'overturned', 3056: 'drawn', 3057: 'brag', 3058: 'began', 3059: 'suicide', 3060: 'jack', 3061: 'crystal', 3062: 'arm', 3063: 'femininity', 3064: 'games', 3065: 'we', 3066: 'exact', 3067: 'boat', 3068: 'fontaine', 3069: 'afford', 3070: 'hurts', 3071: 'build', 3072: 'bad-mouth', 3073: 'triple-sec', 3074: 'flayvin', 3075: 'aw', 3076: \"jimbo's_dad\", 3077: 'jerking', 3078: 'data', 3079: 'second', 3080: 'tar-paper', 3081: 'lenny', 3082: 'eager', 3083: 'insensitive', 3084: 'lay', 3085: 'twenty-six', 3086: 'laughter', 3087: 'drunk', 3088: '||period||', 3089: 'heroism', 3090: 'cats', 3091: 'enabling', 3092: 'minus', 3093: 'ha', 3094: 'focus', 3095: 'gossipy', 3096: 'slaves', 3097: 'found', 3098: 'ease', 3099: 'perking', 3100: 'encore', 3101: 'rueful', 3102: 'marmaduke', 3103: 'blocked', 3104: 'kemi', 3105: 'manatee', 3106: 'shifty', 3107: 'motel', 3108: 'apartment', 3109: 'mabel', 3110: 'admit', 3111: 'continuum', 3112: 'and/or', 3113: 'conditioning', 3114: 'alcoholism', 3115: 'retain', 3116: \"should've\", 3117: 'sauce', 3118: 'detecting', 3119: 'ooh', 3120: 'season', 3121: 'courts', 3122: 'beautiful', 3123: 'swimmers', 3124: 'stinks', 3125: 'buddha', 3126: 'ingredient', 3127: \"england's\", 3128: 'rule', 3129: 'dana_scully', 3130: \"bashir's\", 3131: 'civic', 3132: 'scout', 3133: 'shuts', 3134: 'miracle', 3135: 'macaulay', 3136: 'care', 3137: 'mitts', 3138: 'yard', 3139: 'filth', 3140: 'squashing', 3141: 'around', 3142: 'stan', 3143: 'two', 3144: 'industry', 3145: 'conversations', 3146: 'maintenance', 3147: 'protestantism', 3148: 'comeback', 3149: 'created', 3150: 'twenty-four', 3151: 'deliberately', 3152: 'buy', 3153: 'century', 3154: 'brothers', 3155: 'crowded', 3156: 'lonely', 3157: 'scam', 3158: 'concerned', 3159: 'too', 3160: 'chocolate', 3161: 'showing', 3162: 'singing/pushing', 3163: 'field', 3164: 'murdoch', 3165: 'hmf', 3166: 'jane', 3167: 'homie', 3168: 'derisive', 3169: 'changed', 3170: 'lotsa', 3171: 'confident', 3172: 'pontiff', 3173: 'delicious', 3174: 'go-near-', 3175: 'ons', 3176: 'thirty-five', 3177: 'insurance', 3178: 'hideous', 3179: \"mother's\", 3180: 'put', 3181: 'boyfriend', 3182: 'playoff', 3183: 'movies', 3184: 'exhale', 3185: 'aidens', 3186: 'phrase', 3187: 'gimmick', 3188: 'guest', 3189: 'wiping', 3190: 'break-up', 3191: 'elect', 3192: 'gol-dangit', 3193: 'springfield', 3194: 'awake', 3195: 'not', 3196: 'offer', 3197: 'icy', 3198: 'guilt', 3199: 'quimby', 3200: 'waking-up', 3201: 'pilsner-pusher', 3202: 'buyer', 3203: 'fell', 3204: 'successful', 3205: 'gag', 3206: 'muhammad', 3207: 'occupation', 3208: 'fresh', 3209: 'funniest', 3210: 'clubs', 3211: 'luck', 3212: 'exploiter', 3213: 'remembers', 3214: \"y'know\", 3215: 'finest', 3216: 'fausto', 3217: 'determined', 3218: 'quebec', 3219: 'wins', 3220: \"rentin'\", 3221: 'incapable', 3222: 'innocence', 3223: 'wad', 3224: 'settlement', 3225: 'evil', 3226: \"drexel's\", 3227: 'bums', 3228: 'jobless', 3229: 'weeks', 3230: 'washed', 3231: 'month', 3232: 'place', 3233: 'scully', 3234: 'pageant', 3235: 'cozies', 3236: 'louisiana', 3237: 'gutenberg', 3238: 'whatchacallit', 3239: 'cleveland', 3240: 'demand', 3241: 'infatuation', 3242: 'polish', 3243: 'other_player', 3244: \"phone's\", 3245: 'watt', 3246: 'stonewall', 3247: 'mason', 3248: \"grandmother's\", 3249: 'sadly', 3250: 'bow', 3251: 'nightmare', 3252: 'married', 3253: 'seamstress', 3254: 'fire_inspector', 3255: 'injury', 3256: 'pickles', 3257: 'noises', 3258: 'groan', 3259: 'crimes', 3260: 'hispanic_crowd', 3261: 'pull', 3262: 'developed', 3263: 'expense', 3264: 'landfill', 3265: 'fence', 3266: 'experience', 3267: 'permanent', 3268: 'hide', 3269: \"that'd\", 3270: 'mamma', 3271: 'hand', 3272: 'joy', 3273: 'showed', 3274: 'ab', 3275: 'tornado', 3276: \"hell's\", 3277: 'kang', 3278: 'inspector', 3279: 'oh-ho', 3280: 'imaginary', 3281: 'lenses', 3282: 'spit-backs', 3283: 'refresh', 3284: 'dictating', 3285: 'please/', 3286: 'saying', 3287: 'bank', 3288: 'dna', 3289: 'whenever', 3290: 'cappuccino', 3291: 'sobs', 3292: 'rom', 3293: 'die', 3294: 'whiny', 3295: 'all-all-all', 3296: 'irishman', 3297: 'accusing', 3298: 'schmoe', 3299: 'insulin', 3300: 'summer', 3301: 'pained', 3302: 'denser', 3303: 'post-suicide', 3304: 'poin-dexterous', 3305: 'dark', 3306: 'chain', 3307: 'umm', 3308: 'jazz', 3309: 'superdad', 3310: 'bad', 3311: 'compete', 3312: 'poplar', 3313: 'depository', 3314: 'oww', 3315: 'liquor', 3316: 'eating', 3317: 'blimp', 3318: 'colonel', 3319: 'jeff_gordon', 3320: 'tough', 3321: 'scum-sucking', 3322: \"drinkin'\", 3323: 'comic_book_guy', 3324: 'pig', 3325: 'funeral', 3326: 'random', 3327: 'yes', 3328: 'important', 3329: 'wantcha', 3330: 'culkin', 3331: 'clown-like', 3332: 'paintings', 3333: 'lost', 3334: 'wha', 3335: 'mumble', 3336: 'ancestors', 3337: 'products', 3338: 'sam', 3339: 'higher', 3340: 'gibson', 3341: 'nigeria', 3342: 'enemies', 3343: 'powers', 3344: 'balloon', 3345: 'host', 3346: 'bite', 3347: 'force', 3348: 'outta', 3349: 'meyerhof', 3350: 'helpful', 3351: 'resigned', 3352: 'bake', 3353: 'ungrateful', 3354: 'depressant', 3355: 'broadway', 3356: 'anarchy', 3357: 'percent', 3358: 'yello', 3359: 'medicine', 3360: 'polite', 3361: 'seem', 3362: 'smiled', 3363: 'tears', 3364: 'marvelous', 3365: 'rat-like', 3366: 'wally', 3367: 'zone', 3368: 'insults', 3369: 'debonair', 3370: 'babe', 3371: 'army', 3372: 'weirder', 3373: 'mags', 3374: 'exasperated', 3375: 'survive', 3376: 'brave', 3377: 'accounta', 3378: 'pretty', 3379: 'aims', 3380: 'practically', 3381: 'how', 3382: 'home', 3383: 'needs', 3384: 'honest', 3385: 'mess', 3386: 'right-handed', 3387: 'pas', 3388: 'pink', 3389: 'bar-boy', 3390: 'blossoming', 3391: '$42', 3392: 'brightening', 3393: 'warning', 3394: 'pretend', 3395: 'writer', 3396: 'borrow', 3397: 'joey', 3398: 'ing', 3399: 'drives', 3400: 'fletcherism', 3401: \"tomorrow's\", 3402: 'halvsies', 3403: 'contractors', 3404: 'caper', 3405: 'sprawl', 3406: \"bein'\", 3407: 'delays', 3408: \"listenin'\", 3409: 'ninety-nine', 3410: 'rented', 3411: 'jar', 3412: 'fears', 3413: 'wade_boggs', 3414: 'try', 3415: 'forgive', 3416: 'theory', 3417: 'voted', 3418: 'appealing', 3419: 'disgracefully', 3420: 'philip', 3421: 'compare', 3422: 'brewed', 3423: 'howya', 3424: 'homunculus', 3425: \"couldn't\", 3426: 'offended', 3427: 'actress', 3428: 'lap', 3429: 'weird', 3430: 'whaddya', 3431: 'gasps', 3432: 'pick', 3433: 'lazy', 3434: 'switch', 3435: 'railroad', 3436: 'der', 3437: 'winner', 3438: \"didn't\", 3439: 'counterfeit', 3440: 'gumbo', 3441: 'perplexed', 3442: 'patented', 3443: 'mid-conversation', 3444: 'jernt', 3445: 'folk', 3446: 'cavern', 3447: 'dee-fense', 3448: 'sign', 3449: 'klown', 3450: 'examines', 3451: 'appearance-altering', 3452: 'half', 3453: 'chill', 3454: 'had', 3455: 'fuzzlepitch', 3456: 'dentist', 3457: 'played', 3458: 'charlie', 3459: 'nobel', 3460: 'sizes', 3461: 'strong', 3462: 'cajun', 3463: 'owner', 3464: 'radio', 3465: 'bannister', 3466: 'hollye', 3467: 'english', 3468: 'd', 3469: 'jer', 3470: 're-al', 3471: 'y-you', 3472: 'job', 3473: 'knock-up', 3474: 'badges', 3475: 'aah', 3476: 'extinguishers', 3477: 'attach', 3478: 'babar', 3479: 'disappointment', 3480: 'peter_buck', 3481: 'krabappel', 3482: 'completely', 3483: 'non-american', 3484: 'witty', 3485: 'street', 3486: 'raising', 3487: 'cards', 3488: 'my-y-y-y-y-y', 3489: 'says', 3490: 'dilemma', 3491: 'mistresses', 3492: 'underbridge', 3493: 'shipment', 3494: 'ohmygod', 3495: 'recently', 3496: 'mister', 3497: 'remember', 3498: 'choking', 3499: 'own', 3500: 'excellent', 3501: 'enjoy', 3502: 'flowers', 3503: \"s'cuse\", 3504: 'cerebral', 3505: 'she-pu', 3506: 'bike', 3507: 'snitch', 3508: 'libido', 3509: 'cow', 3510: 'telegraph', 3511: 'barber', 3512: 'warm_female_voice', 3513: 'said', 3514: 'adeleine', 3515: 'disturbance', 3516: 'charm', 3517: 'example', 3518: 'urban', 3519: \"kiddin'\", 3520: 'tomatoes', 3521: 'prices', 3522: 'astrid', 3523: 'highest', 3524: 'pawed', 3525: 'moustache', 3526: 'adrift', 3527: 'tinkle', 3528: 'gone', 3529: 'coined', 3530: 'crew', 3531: 'hitchhike', 3532: 'result', 3533: 'crowds', 3534: 'betcha', 3535: 'monroe', 3536: 'carlson', 3537: 'supervising', 3538: 'refinanced', 3539: 'jubilant', 3540: 'true', 3541: 'chief', 3542: 'short', 3543: \"what'd\", 3544: 'speak', 3545: 'ralph_wiggum', 3546: 'based', 3547: 'scratcher', 3548: 'gluten', 3549: 'ga', 3550: 'three-man', 3551: \"c'mom\", 3552: 'written', 3553: \"blowin'\", 3554: 'cocks', 3555: 'cocking', 3556: 'shut', 3557: 'sued', 3558: 'wrestle', 3559: 'grandmother', 3560: 'german', 3561: \"don'tcha\", 3562: 'hawaii', 3563: 'figure', 3564: 'apology', 3565: 'nonsense', 3566: 'smart', 3567: 'dig', 3568: 'learned', 3569: 'tick', 3570: 'worried', 3571: 'el', 3572: \"'til\", 3573: 'ha-ha', 3574: 'walked', 3575: 'reunion', 3576: \"wonderin'\", 3577: 'letter', 3578: 'reasonable', 3579: 'pure', 3580: 'taught', 3581: 'pus-bucket', 3582: 'pissed', 3583: 'radiation', 3584: 'disturbing', 3585: 'infestation', 3586: 'dumptruck', 3587: 'hangout', 3588: 'shoulda', 3589: 'swig', 3590: 'tease', 3591: 'liar', 3592: 'deliberate', 3593: 'lanes', 3594: 'hearse', 3595: 'freaking', 3596: 'go', 3597: 'savings', 3598: 'entire', 3599: 'nearly', 3600: 'thought_bubble_homer', 3601: 'treehouse', 3602: 'drug', 3603: 'fat-free', 3604: 'smuggled', 3605: 'ground', 3606: 'charity', 3607: 'f-l-a-n-r-d-s', 3608: 'shopping', 3609: 'incarcerated', 3610: 'painting', 3611: 'hooky', 3612: 'peaked', 3613: 'well-wisher', 3614: 'moon-bounce', 3615: 'sucking', 3616: 'fleabag', 3617: '_timothy_lovejoy', 3618: 'under', 3619: 'be', 3620: 'venom', 3621: 'heaving', 3622: 'dumpster', 3623: 'has', 3624: 'bald', 3625: \"pickin'\", 3626: 'housework', 3627: 'alter', 3628: 'over', 3629: 'complicated', 3630: 'past', 3631: 'lend', 3632: 'remodel', 3633: 'congratulations', 3634: 'little_man', 3635: 'collateral', 3636: 'producers', 3637: 'celeste', 3638: 'geysir', 3639: 'plums', 3640: 'baritone', 3641: 'though', 3642: 'casual', 3643: 'hour', 3644: 'vigilante', 3645: 'knocked', 3646: 'wayne', 3647: 'bartending', 3648: 'counter', 3649: 'intervention', 3650: 'lemme', 3651: 'mickey', 3652: 'youse', 3653: 'bindle', 3654: 'inflated', 3655: 'mad', 3656: 'tender', 3657: 'bursts', 3658: 'life-extension', 3659: 'patron_#1', 3660: 'silent', 3661: 'warned', 3662: 'sistine', 3663: 'shakespeare', 3664: \"g'on\", 3665: 'ruuuule', 3666: 'slit', 3667: 'sideshow_bob', 3668: 'fiction', 3669: 'but', 3670: 'day', 3671: \"mo'\", 3672: 'ninety-six', 3673: 'er', 3674: 'ohh', 3675: \"city's\", 3676: 'hidden', 3677: 'forget-me-shot', 3678: 'bottoms', 3679: \"i'm-so-stupid\", 3680: 'saget', 3681: 'granted', 3682: 'patting', 3683: 'pleasant', 3684: 'startup', 3685: 'ragtime', 3686: \"idea's\", 3687: 'sneeze', 3688: 'keeping', 3689: 'watered', 3690: 'bunion', 3691: 'record', 3692: 'mop', 3693: 'bluff', 3694: 'freak', 3695: 'cadillac', 3696: 'homesick', 3697: 'gregor', 3698: 'illegally', 3699: 'jerk-ass', 3700: 'investigating', 3701: 'meteor', 3702: 'sexy', 3703: 'gr-aargh', 3704: 'hundreds', 3705: 'carny', 3706: \"doesn't\", 3707: 'stage', 3708: 'eurotrash', 3709: 'bothered', 3710: \"son's\", 3711: 'soaked', 3712: 'skills', 3713: 'harrowing', 3714: 'beef', 3715: 'ehhhhhhhhh', 3716: 'something', 3717: 'stamp', 3718: 'cab', 3719: 'grampa_simpson', 3720: 'woe', 3721: 'indifferent', 3722: 'elaborate', 3723: 'oopsie', 3724: 'pity', 3725: 'octa-', 3726: 'edge', 3727: 'dealer', 3728: 'bedridden', 3729: \"guy's\", 3730: 'stick', 3731: 'confession', 3732: 'assistant', 3733: 'ne', 3734: 'things', 3735: 'whining', 3736: 'collette', 3737: 'running', 3738: 'preparation', 3739: 'ad', 3740: 'young_marge', 3741: 'hibbert', 3742: 'pointy', 3743: 'uneasy', 3744: 'voice', 3745: 'w-a-3-q-i-zed', 3746: 'coaster', 3747: 'matter', 3748: 'wise', 3749: 'strategy', 3750: 'oblongata', 3751: 'journey', 3752: 'daddy', 3753: 'mike', 3754: 'according', 3755: 'rules', 3756: 'academy', 3757: 'drinking', 3758: 'upn', 3759: \"cupid's\", 3760: 'touched', 3761: 'bowling', 3762: 'like', 3763: 'jovial', 3764: 'occurs', 3765: 'choke', 3766: 'contemporary', 3767: 'puke-holes', 3768: 'raises', 3769: 'cushions', 3770: 'another', 3771: 'rolls', 3772: \"tootin'\", 3773: 'thankful', 3774: 'displeased', 3775: 'sacrilicious', 3776: 'prank', 3777: 'haws', 3778: \"football's\", 3779: 'ah', 3780: 'disillusioned', 3781: 'talkative', 3782: 'enveloped', 3783: 'if', 3784: 'assassination', 3785: 'attitude', 3786: 'full-time', 3787: 'midnight', 3788: 'white_rabbit', 3789: 'teddy', 3790: 'chateau', 3791: 'across', 3792: 'abandon', 3793: 'using', 3794: 'set', 3795: 'anyhow', 3796: 'defected', 3797: 'trying', 3798: 'carl', 3799: \"drawin'\", 3800: 'me', 3801: 'sass', 3802: 'stole', 3803: 'yesterday', 3804: 'bye', 3805: 'free', 3806: 'terrace', 3807: 'anger', 3808: 'fast-paced', 3809: 'dropped', 3810: 'pussycat', 3811: 'jay_leno', 3812: 'notice', 3813: 'aside', 3814: \"i'd\", 3815: 'equivalent', 3816: 'long', 3817: 'glass', 3818: 'demo', 3819: 'do', 3820: 'bash', 3821: 'annoyed', 3822: 'spreads', 3823: 'startled', 3824: 'unfair', 3825: 'myself', 3826: 'billingsley', 3827: 'improv', 3828: 'savagely', 3829: 'system', 3830: 'marguerite', 3831: 'guy', 3832: 'rock', 3833: 'loves', 3834: 'tatum', 3835: 'lock', 3836: 'hawking', 3837: 'notch', 3838: 'airport', 3839: 'blue', 3840: 'anthony_kiedis', 3841: 'waylon', 3842: 'enlightened', 3843: 'souped', 3844: \"buyin'\", 3845: 'cell', 3846: 'today', 3847: 'taunting', 3848: 'tactful', 3849: 'popping', 3850: 'seemed', 3851: 'renders', 3852: 'grandkids', 3853: 'kramer', 3854: 'bender', 3855: 'glee', 3856: 'commit', 3857: 'suppose', 3858: 'stagy', 3859: 'sweaty', 3860: 'cute', 3861: 'indeed', 3862: 'semi-imported', 3863: 'kazoo', 3864: 'sideshow', 3865: 'jam', 3866: 'available', 3867: 'checks', 3868: 'great', 3869: 'fat_in_the_hat', 3870: 'tired', 3871: 'match', 3872: 'geyser', 3873: 'indifference', 3874: 'lady_duff', 3875: 'bartender', 3876: 'diminish', 3877: 'buds', 3878: 'improved', 3879: 'sinkhole', 3880: 'luckiest', 3881: 'seymour_skinner', 3882: 'winces', 3883: \"neat's-foot\", 3884: 'pets', 3885: 'evils', 3886: \"maggie's\", 3887: 'than', 3888: 'confused', 3889: 'victorious', 3890: 'yup', 3891: 'attempting', 3892: 'hats', 3893: 'wings', 3894: 'awwww', 3895: 'moron', 3896: 'aged', 3897: 'poster', 3898: \"moe's_thoughts\", 3899: 'cannoli', 3900: 'they', 3901: 'upon', 3902: 'bedroom', 3903: 'effects', 3904: 'stacey', 3905: 'whatsit', 3906: 'sedaris', 3907: 'oil', 3908: 'ollie', 3909: 'dipping', 3910: 'selfish', 3911: 'all-american', 3912: 'tavern', 3913: 'c', 3914: 'application', 3915: 'roller', 3916: 'l', 3917: 'alive', 3918: 'feels', 3919: 'watered-down', 3920: 'rip', 3921: 'dozen', 3922: 'help', 3923: 'designated', 3924: 'unintelligent', 3925: 'health', 3926: 'mariah', 3927: 'pretentious_rat_lover', 3928: 'hungry', 3929: 'brother', 3930: 'lessons', 3931: 'surprise', 3932: 'appeals', 3933: \"how'd\", 3934: 'room', 3935: 'earpiece', 3936: 'bowled', 3937: 'dingy', 3938: 'reflected', 3939: \"tv'll\", 3940: 'homeland', 3941: 'further', 3942: 'privacy', 3943: 'protesting', 3944: 'dizer', 3945: 'effect', 3946: 'desire', 3947: 'aiden', 3948: 'weirded-out', 3949: 'order', 3950: 'wussy', 3951: 'excitement', 3952: 'surprised', 3953: 'lobster-politans', 3954: 'angry', 3955: \"you've\", 3956: 'shows', 3957: 'mushy', 3958: 'billboard', 3959: 'dive', 3960: 'mirthless', 3961: 'sweeter', 3962: 'hate-hugs', 3963: 'stewart', 3964: 'share', 3965: 'carll', 3966: 'blew', 3967: \"challengin'\", 3968: 'phase', 3969: 'sabermetrics', 3970: 'crunch', 3971: \"wasn't\", 3972: 'videotaped', 3973: 'ashamed', 3974: 'ironic', 3975: 'witches', 3976: 'talked', 3977: 'booze-bags', 3978: 'astonishment', 3979: 'relaxing', 3980: 'reaching', 3981: 'sacrifice', 3982: 'whose', 3983: 'wooden', 3984: 'dollface', 3985: 'ointment', 3986: 'grope', 3987: 'cloudy', 3988: 'scared', 3989: 'accepting', 3990: 'wok', 3991: 'tropical', 3992: 'faceful', 3993: 'freeze', 3994: 'erasers', 3995: 'ho-la', 3996: 'breathalyzer', 3997: 'made', 3998: 'excuse', 3999: 'tv_wife', 4000: 'belt', 4001: 'domestic', 4002: 'separator', 4003: 'utensils', 4004: \"yesterday's\", 4005: \"hangin'\", 4006: 'dinner', 4007: 'ratted', 4008: 'beers', 4009: 'bathing', 4010: 'distract', 4011: 'gives', 4012: 'specialists', 4013: 'lead', 4014: 'tyson/secretariat', 4015: 'king', 4016: 'filthy', 4017: 'accent', 4018: 'kim_basinger', 4019: 'clandestine', 4020: 'snaps', 4021: 'poet', 4022: 'forget-me-drinks', 4023: 'male_singers', 4024: 'loneliness', 4025: 'philosophical', 4026: 'gig', 4027: 'necessary', 4028: 'shakes', 4029: 'steak', 4030: 'director', 4031: 'parenting', 4032: 'dry', 4033: 'usual', 4034: 'ocean', 4035: 'dazed', 4036: 'retired', 4037: 'often', 4038: 'pretzels', 4039: 'supply', 4040: 'stagehand', 4041: 'helllp', 4042: 'moe_szyslak', 4043: 'stingy', 4044: 'bide', 4045: 'principal', 4046: 'tablecloth', 4047: 'nuclear', 4048: 'pfft', 4049: 'diablo', 4050: 'medical', 4051: 'stinger', 4052: 'tongue', 4053: 'lush', 4054: 'unattended', 4055: 'hands', 4056: 'severe', 4057: 'overhearing', 4058: 'donut', 4059: 'funny', 4060: 'aerosmith', 4061: 'rolled', 4062: 'abcs', 4063: 'muertos', 4064: 'bum', 4065: 'luckily', 4066: 'edison', 4067: 'horribilis', 4068: 'dance', 4069: 'compared', 4070: 'lee', 4071: 'owned', 4072: 'je', 4073: 'present', 4074: 'ago', 4075: 'squeeze', 4076: 'tickets', 4077: 'physical', 4078: 'rasputin', 4079: 'goblins', 4080: 'smugglers', 4081: 'breathless', 4082: 'sees', 4083: 'chunky', 4084: 'taking', 4085: 'hated', 4086: 'end', 4087: 'sexual', 4088: 'sensitivity', 4089: 'bottles', 4090: 'ivanna', 4091: 'fondest', 4092: 'walks', 4093: 'youth', 4094: 'statesmanlike', 4095: 'that', 4096: 'bits', 4097: 'dessert', 4098: 'regulations', 4099: 'wowww', 4100: '4x4', 4101: 'thanking', 4102: 'venture', 4103: 'sniffing', 4104: 'savvy', 4105: 'keys', 4106: \"stealin'\", 4107: 'stirring', 4108: 'rubs', 4109: 'thrust', 4110: 'macgregor', 4111: 'religious', 4112: 'trapped', 4113: 'ehhhhhhhh', 4114: 'dum-dum', 4115: 'palm', 4116: \"hole'\", 4117: \"let's\", 4118: 'bookie', 4119: 'bus', 4120: \"renee's\", 4121: 'just', 4122: 'parked', 4123: \"dad's\", 4124: 'weapon', 4125: 'um', 4126: 'non-losers', 4127: 'corpses', 4128: 'tragedy', 4129: 'regretted', 4130: 'knock', 4131: 'begin', 4132: 'cheer', 4133: 'ballclub', 4134: 'alva', 4135: 'mock', 4136: 'contest', 4137: 'standards', 4138: 'through', 4139: 'sagacity', 4140: 'minute', 4141: 'learn', 4142: 'defiantly', 4143: \"we'll\", 4144: 'worry', 4145: 'advance', 4146: 'advertising', 4147: 'comforting', 4148: 'devils', 4149: 'snide', 4150: 'tip', 4151: 'helped', 4152: 'koji', 4153: 'chase', 4154: 'keeps', 4155: 'born', 4156: 'four', 4157: 'because', 4158: 'air', 4159: 'grammar', 4160: 'spitting', 4161: 'urine', 4162: 'bathed', 4163: 'sending', 4164: 'send', 4165: 'flying', 4166: \"spaghetti-o's\", 4167: \"nothin's\", 4168: 'swimming', 4169: 'riveting', 4170: \"messin'\", 4171: 'writers', 4172: 'eyesore', 4173: 'pre-columbian', 4174: 'curds', 4175: 'entering', 4176: 'firm', 4177: 'biggest', 4178: 'leak', 4179: 'circus', 4180: 'rusty', 4181: 'chew', 4182: \"professor's\", 4183: \"today's\", 4184: 'parents', 4185: 'extremely', 4186: 'microbrew', 4187: 'bottomless', 4188: 'sack', 4189: 'play/', 4190: 'store-bought', 4191: 'inspection', 4192: 'blowfish', 4193: 'liable', 4194: 'cracked', 4195: 'greystash', 4196: 'shack', 4197: 'trenchant', 4198: 'sea', 4199: 'door', 4200: 'jockey', 4201: 'practice', 4202: \"thinkin'\", 4203: 'waitress', 4204: \"handwriting's\", 4205: 'sketch', 4206: 'judge', 4207: 'charge', 4208: 'middle', 4209: 'drown', 4210: '250', 4211: 'idealistic', 4212: \"'im\", 4213: 'incognito', 4214: 'barely', 4215: 'y', 4216: 'tradition', 4217: 'coat', 4218: 'gun', 4219: 'pitcher', 4220: 'federal', 4221: 'yellow-belly', 4222: 'brockman', 4223: 'masks', 4224: 'shindig', 4225: 'shareholder', 4226: 'shyly', 4227: 'appendectomy', 4228: 'champs', 4229: 'understood', 4230: 'bagged', 4231: 'worse', 4232: 'gold', 4233: 'malibu', 4234: 'designer', 4235: 'traitors', 4236: 'premiering', 4237: 'rods', 4238: 'quotes', 4239: 'suspect', 4240: 'bouquet', 4241: 'ew', 4242: 'interrupting', 4243: 'card', 4244: 'feet', 4245: 'favor', 4246: 'answered', 4247: 'mock-up', 4248: 'unusually', 4249: \"duelin'\", 4250: 'message', 4251: 'onions', 4252: 'toilet', 4253: 'labels', 4254: \"that'll\", 4255: 'wars', 4256: 'hired', 4257: 'disposal', 4258: 'cletus_spuckler', 4259: \"'roids\", 4260: 'above', 4261: 'may', 4262: 'honor', 4263: 'give', 4264: 'kentucky', 4265: 'buttons', 4266: 'else', 4267: 'sneaky', 4268: 'motto', 4269: 'pinball', 4270: 'wildest', 4271: 'shoes', 4272: 'soul-crushing', 4273: 'crummy', 4274: 'gore', 4275: 'yelp', 4276: 'closer', 4277: 'temple', 4278: 'apulina', 4279: 'glad', 4280: 'bucket', 4281: 'safecracker', 4282: 'at', 4283: 'young', 4284: 'stalwart', 4285: 'toledo', 4286: 'notices', 4287: 'until', 4288: 'eleven', 4289: 'march', 4290: 'flashing', 4291: 'factor', 4292: 'ferry', 4293: 'founded', 4294: 'blaze', 4295: 'have', 4296: 'enough', 4297: 'eyed', 4298: 'whispers', 4299: 'hard', 4300: 'trusted', 4301: 'wife-swapping', 4302: 'junkyard', 4303: \"scammin'\", 4304: 'decadent', 4305: 'curse', 4306: 'recreate', 4307: 'lighten', 4308: \"how's\", 4309: 'kegs', 4310: 'judge_snyder', 4311: 'needy', 4312: 'thrilled', 4313: 'girl', 4314: 'hot-rod', 4315: 'full', 4316: 'chug', 4317: \"dyin'\", 4318: 'forty-nine', 4319: 'bauer', 4320: 'doug', 4321: 'states', 4322: \"mecca's\", 4323: 'lemonade', 4324: 'daniel', 4325: 'wash', 4326: 'basement', 4327: 'van', 4328: 'albert', 4329: 'still', 4330: 'unsourced', 4331: 'sheet', 4332: 'women', 4333: 'beeps', 4334: 'every', 4335: 'lewis', 4336: 'appropriate', 4337: 'occupancy', 4338: 'salvador', 4339: 'football_announcer', 4340: 'seen', 4341: 'rancid', 4342: 'officer', 4343: 'synthesize', 4344: \"rasputin's\", 4345: 'warren', 4346: 'sympathetic', 4347: \"takin'\", 4348: 'text', 4349: 'arrange', 4350: 'ought', 4351: \"sittin'\", 4352: 'lucinda', 4353: 'wooooo', 4354: 'single-mindedness', 4355: 'crab', 4356: 'napkins', 4357: 'reckless', 4358: 'enthused', 4359: 'idiots', 4360: 'moonlight', 4361: \"'ere\", 4362: 'naturally', 4363: 'us', 4364: 'column', 4365: 'heart', 4366: '91', 4367: 'carney', 4368: 'mckinley', 4369: 'brow', 4370: 'anti-lock', 4371: 'oddest', 4372: 'stupid', 4373: 'legoland', 4374: 'agent_johnson', 4375: 'horns', 4376: 'dory', 4377: 'joe', 4378: 'technical', 4379: 'competitive', 4380: 'marge_simpson', 4381: 'heh-heh', 4382: 'assume', 4383: 'errrrrrr', 4384: 'group', 4385: 'e', 4386: 'iran', 4387: 'she', 4388: \"fun's\", 4389: 'rugged', 4390: 'sturdy', 4391: 'bastard', 4392: \"livin'\", 4393: 'temper', 4394: \"coffee'll\", 4395: 'the_edge', 4396: 'friend', 4397: \"cheerin'\", 4398: 'adult_bart', 4399: 'twenty-two', 4400: 'fourth', 4401: 'noose', 4402: 'spot', 4403: 'giggles', 4404: 'yak', 4405: 'expression', 4406: \"monroe's\", 4407: 'makes', 4408: 'hounds', 4409: 'yards', 4410: 'friendly', 4411: 'fortress', 4412: \"thing's\", 4413: 'ninth', 4414: 'mmm', 4415: 'nudge', 4416: 'kill', 4417: 'sighs', 4418: 'peanuts', 4419: 'time', 4420: 'pour', 4421: 'olive', 4422: 'number', 4423: 'pall', 4424: 'pine', 4425: 'reading', 4426: 'lovely', 4427: \"hasn't\", 4428: 'un-sults', 4429: 'before', 4430: 'police', 4431: 'manager', 4432: 'o', 4433: 'admiration', 4434: 'average-looking', 4435: 'unhook', 4436: 'finished', 4437: 'oooo', 4438: 'congoleum', 4439: 'booking', 4440: 'weekly', 4441: 'positive', 4442: 'grease', 4443: 'amanda', 4444: 'mimes', 4445: \"bladder's\", 4446: 'suffering', 4447: \"world's\", 4448: 'diamond', 4449: 'insecure', 4450: 'perch', 4451: 'catching', 4452: 'starving', 4453: 'zinged', 4454: 'well', 4455: 'shout', 4456: 'hiring', 4457: 'subject', 4458: 'options', 4459: 'duel', 4460: 'discriminate', 4461: 'bulletin', 4462: 'wakede', 4463: 'cooker', 4464: 'letters', 4465: 'therefore', 4466: 'brain', 4467: 'clears', 4468: 'man', 4469: 'terminated', 4470: 'milks', 4471: 'wing', 4472: 'eu', 4473: 'dennis_kucinich', 4474: 'rounds', 4475: 'mostrar', 4476: 'scores', 4477: 'perverted', 4478: 'professor', 4479: 'gheet', 4480: 'brings', 4481: 'polygon', 4482: 'dean', 4483: 'caught', 4484: 'nasty', 4485: 'gangrene', 4486: 'panicky', 4487: 'shrugs', 4488: \"man'd\", 4489: 'lofty', 4490: 'jerky', 4491: 'arguing', 4492: 'shades', 4493: 'einstein', 4494: 'remembered', 4495: 'jogging', 4496: 'churchy', 4497: 'iddilies', 4498: 'cure', 4499: 'bell', 4500: 'despite', 4501: 'manage', 4502: 'bathroom', 4503: 'pre-game', 4504: 'kitchen', 4505: 'coin', 4506: 'pathetic', 4507: \"ya'\", 4508: 'birth', 4509: 'nickel', 4510: 'hair', 4511: 'cecil_terwilliger', 4512: 'easier', 4513: 'page', 4514: 'missing', 4515: 'anyway', 4516: 'fuss', 4517: 'man_at_bar', 4518: 'shells', 4519: 'dateline', 4520: 'professor_jonathan_frink', 4521: 'bump', 4522: 'ura', 4523: 'dank', 4524: 'pipe', 4525: 'buttocks', 4526: 'kodos', 4527: 'operation', 4528: 'lenny_leonard', 4529: 'jury', 4530: 'game', 4531: 'man_with_crazy_beard', 4532: 'fatty', 4533: 'will', 4534: 'premise', 4535: 'crime', 4536: 'or', 4537: 'binoculars', 4538: 'crotch', 4539: 'easygoing', 4540: 'highball', 4541: 'fund', 4542: 'unattractive', 4543: 'shaggy', 4544: 'tapestry', 4545: 'waist', 4546: 'não', 4547: '||exclamation_mark||', 4548: 'ultimate', 4549: 'machine', 4550: 'killer', 4551: 'told', 4552: 'days', 4553: 'laid', 4554: \"sayin'\", 4555: 'twelve', 4556: 'million', 4557: 'weak', 4558: 'justify', 4559: 'dizzy', 4560: 'whaaaa', 4561: 'sharing', 4562: 'tin', 4563: 'heavyweight', 4564: 'promotion', 4565: 'milhouse_van_houten', 4566: 'hero', 4567: 'abusive', 4568: 'amused', 4569: 'hi', 4570: 'murdered', 4571: 'being', 4572: 'yellow', 4573: 'blessing', 4574: 'north', 4575: 'winston', 4576: \"somethin's\", 4577: 'sport', 4578: 'off', 4579: 'ready', 4580: 'straight', 4581: 'troubles', 4582: 'jerry', 4583: 'act', 4584: 'normals', 4585: 'quarter', 4586: 'puzzled', 4587: 'transfer', 4588: 'guiltily', 4589: 'nigerian', 4590: 'considers', 4591: 'barney-type', 4592: 'hushed', 4593: 'knuckle-dragging', 4594: 'jail', 4595: 'glyco-load', 4596: 'spelling', 4597: 'busted', 4598: \"brockman's\", 4599: 'skoal', 4600: 'canyoner-oooo', 4601: 'numeral', 4602: 's', 4603: 'entirely', 4604: \"depressin'\", 4605: 'nail', 4606: 'mumbling', 4607: 'peace', 4608: 'u', 4609: 'frankie', 4610: 'prettied', 4611: 'marched', 4612: 'nurse', 4613: 'besides', 4614: 'disguise', 4615: 'sugar', 4616: 'ninety-seven', 4617: 'fix', 4618: \"kid's\", 4619: 'baseball', 4620: 'bully', 4621: 'tee', 4622: 'sips', 4623: 'ding-a-ding-ding-a-ding-ding', 4624: 'hafta', 4625: 'neighbors', 4626: 'test-', 4627: 'paper', 4628: 'indicates', 4629: 'sets', 4630: 'sleeps', 4631: 'disaster', 4632: 'happen', 4633: 'knees', 4634: \"'\", 4635: 'brains', 4636: 'especially', 4637: 'smoke', 4638: 'kako', 4639: 'menlo', 4640: 'cheerier', 4641: 'pain', 4642: 'stand', 4643: 'hollowed-out', 4644: 'forgets', 4645: 'knowledge', 4646: 'presidents', 4647: 'jebediah', 4648: 'generally', 4649: 'urinal', 4650: 'know', 4651: 'sampler', 4652: 'hank_williams_jr', 4653: 'hampstead-on-cecil-cecil', 4654: 'come', 4655: 'aristotle', 4656: 'cartoons', 4657: 'looking', 4658: 'stops', 4659: 'reaches', 4660: 'lucky', 4661: 'wa', 4662: 'expose', 4663: 'milhouses', 4664: 'thousand', 4665: 'du', 4666: \"gentleman's\", 4667: 'nods', 4668: 'heals', 4669: 'fifty', 4670: 'hilarious', 4671: 'sucked', 4672: 'odor', 4673: 'snout', 4674: 'mix', 4675: 'swine', 4676: 'lily-pond', 4677: 'radical', 4678: 'agnes_skinner', 4679: 'diet', 4680: 'stalin', 4681: 'bloodball', 4682: 'laughs', 4683: 'leathery', 4684: 'hold', 4685: 'friction', 4686: 'krusty', 4687: 'ahhh', 4688: 'slightly', 4689: 'lame', 4690: 'treats', 4691: \"'round\", 4692: 'sloppy', 4693: 'jobs', 4694: 'massive', 4695: 'yawns', 4696: 'cosmetics', 4697: 'shaved', 4698: 'scientists', 4699: 'excavating', 4700: 'gets', 4701: 'grey', 4702: 'speech', 4703: 'bras', 4704: 'sunny', 4705: 'mrs', 4706: 'menace', 4707: 'take-back', 4708: 'appointment', 4709: 'creepy', 4710: 'fabulous', 4711: 'four-star', 4712: 'amnesia', 4713: 'cobbling', 4714: 'superior', 4715: 'finale', 4716: 'someplace', 4717: 'suspended', 4718: 'minutes', 4719: 'peter', 4720: 'refill', 4721: 'jacksons', 4722: 'knit', 4723: 'clone', 4724: 'scatter', 4725: \"year's\", 4726: 'books', 4727: 'pizza', 4728: 'mind', 4729: 'feld', 4730: 'shoot', 4731: 'sleep', 4732: 'unavailable', 4733: 'index', 4734: 'pews', 4735: 'cock', 4736: 'giving', 4737: 'acquaintance', 4738: 'bills', 4739: \"duff's\", 4740: 'handed', 4741: 'flashbacks', 4742: 'ways', 4743: 'contented', 4744: 'manuel', 4745: 'sure', 4746: 'canyonero', 4747: 'news', 4748: 'lookalikes', 4749: 'sitting', 4750: 'likes', 4751: 'drink', 4752: 'distributor', 4753: 'supermarket', 4754: 'white', 4755: \"d'ya\", 4756: 'movement', 4757: 'cheaped', 4758: 'troy_mcclure', 4759: 'kearney_zzyzwicz', 4760: 'offa', 4761: 'speaking', 4762: 'suds', 4763: 'buzziness', 4764: 'enforced', 4765: 'temp', 4766: 'sheets', 4767: 'nope', 4768: 'oooh', 4769: 'travel', 4770: 'driver', 4771: 'harm', 4772: 'salary', 4773: 'smile', 4774: 'sight-unseen', 4775: 'frightened', 4776: 'stars', 4777: 'bar_rag', 4778: 'tokens', 4779: 'either', 4780: 'magazine', 4781: \"mopin'\", 4782: 'racially-diverse', 4783: 'nicer', 4784: 'dear', 4785: 'legend', 4786: 'personal', 4787: 'sells', 4788: 'frink-y', 4789: 'per', 4790: 'buzz', 4791: 'guns', 4792: 'see', 4793: 'sincerely', 4794: 'thoughtful', 4795: 'regretful', 4796: 'seat', 4797: 'spellbinding', 4798: 'eye-gouger', 4799: 'wolfe', 4800: \"smackin'\", 4801: 'cops', 4802: 'sickly', 4803: 'shower', 4804: 'reptile', 4805: 'agreement', 4806: 'video', 4807: 'football', 4808: 'mulder', 4809: 'parrot', 4810: 'princesses', 4811: 'uh', 4812: 'additional-seating-capacity', 4813: 'least', 4814: 'annoying', 4815: 'effervescence', 4816: 'doppler', 4817: 'crying', 4818: 'reconsidering', 4819: 'nooo', 4820: \"moe's\", 4821: 'solely', 4822: 'boys', 4823: 'gary', 4824: 'hanging', 4825: 'nerve', 4826: 'seven', 4827: 'tell', 4828: \"'cept\", 4829: 'tuna', 4830: 'mcbain', 4831: \"b-52's\", 4832: 'need', 4833: 'fumes', 4834: 'wiggle-frowns', 4835: 'repeated', 4836: 'rife', 4837: 'gus', 4838: 'twenty-five', 4839: 'elite', 4840: 'specific', 4841: 'scanning', 4842: 'expecting', 4843: 'boxing', 4844: 'faith', 4845: 'allowance', 4846: 'eat', 4847: 'fire', 4848: 'heard', 4849: 'bottom', 4850: 'spending', 4851: 'shesh', 4852: 'deer', 4853: \"springfield's\", 4854: 'trail', 4855: \"coaster's\", 4856: 'mural', 4857: 'lib', 4858: 'teeth', 4859: 'thirty-nine', 4860: 'toasting', 4861: \"what'll\", 4862: 'apron', 4863: 'plotz', 4864: 'portuguese', 4865: 'attractive_woman_#2', 4866: 'inexorable', 4867: 'gardens', 4868: 'syndicate', 4869: 'calm', 4870: 'mozzarella', 4871: 'payday', 4872: 'bleacher', 4873: 'wondered', 4874: 'worthless', 4875: 'riding', 4876: 'ineffective', 4877: 'doof', 4878: 'sucker', 4879: 'ear', 4880: 'booze', 4881: 'plus', 4882: 'woo-hoo', 4883: 'dumb-asses', 4884: 'rings', 4885: 'takeaway', 4886: 'giggle', 4887: 'darjeeling', 4888: \"toot's\", 4889: 'singing', 4890: 'drunkenly', 4891: \"now's\", 4892: 'draw', 4893: 'eyeing', 4894: 'las', 4895: 'swings', 4896: 'fans', 4897: 'eco-fraud', 4898: 'flash-fry', 4899: 'drivers', 4900: \"isn't\", 4901: 'micronesian', 4902: 'connor', 4903: 'seymour', 4904: \"startin'\", 4905: 'rhode', 4906: 'gentlemen', 4907: 'intention', 4908: 'look', 4909: 'box', 4910: 'jubilation', 4911: 'sing', 4912: 'coyly', 4913: 'consoling', 4914: 'admitting', 4915: 'pickled', 4916: 'yammering', 4917: 'sanitary', 4918: 'reserved', 4919: 'toxins', 4920: 'forehead', 4921: \"foolin'\", 4922: 'adjust', 4923: 'szyslak', 4924: 'same', 4925: 'ummmmmmmmm', 4926: 'blade', 4927: 'guzzles', 4928: 'all', 4929: 'uh-huh', 4930: 'beast', 4931: \"department's\", 4932: 'dispenser', 4933: \"game's\", 4934: 'lose', 4935: 'ruin', 4936: 'soot', 4937: 'strangles', 4938: 'wordloaf', 4939: 'microwave', 4940: 'easy', 4941: 'confidentially', 4942: 'bridges', 4943: 'ton', 4944: 'laugh', 4945: 'charged', 4946: 'kind', 4947: \"marge's\", 4948: 'rivalry', 4949: 'our', 4950: 'dollar', 4951: 'hoped', 4952: 'badge', 4953: 'here-here-here', 4954: 'vacations', 4955: 'forget', 4956: 'extract', 4957: 'tried', 4958: 'mint', 4959: 'horrors', 4960: 'bounced', 4961: 'plants', 4962: 'employees', 4963: 'cut', 4964: 'idiot', 4965: 'offense', 4966: 'drawing', 4967: 'cooking', 4968: 'old-time', 4969: 'creature', 4970: 'shriners', 4971: 'tapping', 4972: 'pennies', 4973: 'depressed', 4974: 'computer_voice_2', 4975: \"elmo's\", 4976: \"beggin'\", 4977: 'partly', 4978: 'achem', 4979: 'hyahh', 4980: 'stretches', 4981: 'neck', 4982: 'team', 4983: 'uncomfortable', 4984: 'chow', 4985: 'self-esteem', 4986: 'soon', 4987: 'neat', 4988: 'prejudice', 4989: 'persia', 4990: 'count', 4991: 'simpson', 4992: 'knuckles', 4993: 'blokes', 4994: 'special', 4995: 'clips', 4996: 'problem', 4997: 'scornful', 4998: 'breakdown', 4999: 'customers', 5000: 'self-satisfied', 5001: 'mortgage', 5002: \"man's\", 5003: 'priest', 5004: 'schemes', 5005: 'bubble', 5006: \"stinkin'\", 5007: 'load', 5008: 'rent', 5009: 'gary_chalmers', 5010: 'scornfully', 5011: 'jokes', 5012: 'upset', 5013: 'maitre', 5014: '_powers', 5015: 'modestly', 5016: 'befriend', 5017: \"'cause\", 5018: 'ned_flanders', 5019: 'insured', 5020: 'samples', 5021: 'steel', 5022: \"tramp's\", 5023: 'fierce', 5024: 'maggie', 5025: 'war', 5026: 'barney-guarding', 5027: 'fortune', 5028: 'crestfallen', 5029: 'coward', 5030: 'soaps', 5031: 'irrelevant', 5032: 'simplest', 5033: 'poorer', 5034: 'greetings', 5035: 'backbone', 5036: 'touch', 5037: 'alone', 5038: 'one', 5039: 'ticket', 5040: 'closed', 5041: 'skins', 5042: '_eugene_blatz', 5043: 'milhouse', 5044: 'appear', 5045: 'aboard', 5046: 'billy_the_kid', 5047: 'romance', 5048: 'leaving', 5049: 'mm', 5050: 'wizard', 5051: 'duty', 5052: 'transmission', 5053: 'splash', 5054: 'rafter', 5055: '_burns_heads', 5056: \"here's\", 5057: 'sudden', 5058: 'longer', 5059: 'abe', 5060: 'plow', 5061: 'bunch', 5062: \"changin'\", 5063: 'counting', 5064: 'aid', 5065: 'coma', 5066: 'buddy', 5067: 'bumblebee_man', 5068: 'eighteen', 5069: 'tigers', 5070: 'cooler', 5071: 'renovations', 5072: 'pouring', 5073: 'suits', 5074: 'schnapps', 5075: 'looks', 5076: 'grunts', 5077: 'begging', 5078: 'ice', 5079: 'nards', 5080: 'shoe', 5081: 'social', 5082: 'realize', 5083: 'dislike', 5084: 'handwriting', 5085: 'sick', 5086: 'lump', 5087: 'gosh', 5088: 'countryman', 5089: \"eatin'\", 5090: 'animals', 5091: 'formico', 5092: 'years', 5093: 'schabadoo', 5094: 'st', 5095: 'till', 5096: 'hates', 5097: 'plenty', 5098: 'grieving', 5099: 'consider', 5100: 'sudoku', 5101: 'cannot', 5102: 'leave', 5103: 'flush-town', 5104: 'red', 5105: 'wow', 5106: 'agh', 5107: 'abercrombie', 5108: 'various', 5109: 'strictly', 5110: 'rebuilt', 5111: 'wistful', 5112: 'panicked', 5113: 'whispered', 5114: 'normal', 5115: 'egg', 5116: '_julius_hibbert', 5117: 'male_inspector', 5118: 'awww', 5119: 'melodramatic', 5120: 'conclusions', 5121: 'sensible', 5122: 'malfeasance', 5123: 'hunger', 5124: 'dr', 5125: 'burglary', 5126: 'sec_agent_#2', 5127: 'skirt', 5128: 'frescas', 5129: 'americans', 5130: 'tale', 5131: 'pasta', 5132: 'ling', 5133: 'introduce', 5134: 'turn', 5135: '||quotation_mark||', 5136: 'general', 5137: 'seething', 5138: 'careful', 5139: 'tastes', 5140: 'augustus', 5141: 'windshield', 5142: 'taste', 5143: 'ingested', 5144: 'amazing', 5145: 'ate', 5146: 'trolls', 5147: 'for', 5148: \"who'll\", 5149: 'chastity', 5150: 'simultaneous', 5151: 'twerpy', 5152: 'homer_simpson', 5153: 'pile', 5154: 'aghast', 5155: 'rag', 5156: 'stored', 5157: 'hall', 5158: 'different', 5159: 'typed', 5160: 'heather', 5161: 'breaking', 5162: \"larry's\", 5163: 'schedule', 5164: 'bidet', 5165: 'sentimonies', 5166: 'quarry', 5167: 'village', 5168: 'tubman', 5169: 'shaker', 5170: 'calendars', 5171: 'falsetto', 5172: 'homers', 5173: 'rope', 5174: 'natural', 5175: 'picture', 5176: 'martini', 5177: 'texan', 5178: 'twenty-nine', 5179: \"mcstagger's\", 5180: 'spender', 5181: 'acquitted', 5182: 'bourbon', 5183: 'exciting', 5184: 'edelbrock', 5185: 'madonna', 5186: 'mccall', 5187: 'whoopi', 5188: 'environment', 5189: 'pernt', 5190: 'came', 5191: 'lips', 5192: 'wake', 5193: 'astronaut', 5194: 'steam', 5195: 'othello', 5196: 'dying', 5197: 'unbelievably', 5198: 'predictable', 5199: 'cost', 5200: 'windex', 5201: 'everyday', 5202: 'throw', 5203: 'enhance', 5204: 'dramatic', 5205: 'saving', 5206: 'marvin', 5207: 'partially', 5208: 'reserve', 5209: 'seems', 5210: 'camera', 5211: 'buffet', 5212: 'libraries', 5213: 'backward', 5214: 'nigel_bakerbutcher', 5215: 'society', 5216: 'surprising', 5217: 'sink', 5218: 'bar', 5219: 'labor', 5220: \"'n'\", 5221: 'walking', 5222: 'concentrate', 5223: 'carnival', 5224: 'chuckling', 5225: 'eightball', 5226: 'bridge', 5227: 'michael', 5228: 'yet', 5229: 'cup', 5230: 'bob', 5231: 'fifth', 5232: 'safer', 5233: 'moon', 5234: 'presidential', 5235: 'snap', 5236: 'kinderhook', 5237: 'churchill', 5238: 'bid', 5239: 'steaming', 5240: 'wobble', 5241: 'stood', 5242: 'of', 5243: 'pudgy', 5244: 'jasper_beardly', 5245: 'customers-slash-only', 5246: \"lefty's\", 5247: 'gentles', 5248: 'double', 5249: 'france', 5250: 'stooges', 5251: 'civilization', 5252: 'lizard', 5253: 'hear', 5254: 'killarney', 5255: 'damage', 5256: \"car's\", 5257: 'plum', 5258: 'dreamy', 5259: 'managed', 5260: 'seeing', 5261: 'now', 5262: 'lovejoy', 5263: 'starve', 5264: 'steampunk', 5265: 'm', 5266: 'channel', 5267: 'starla', 5268: 'neighboreeno', 5269: 'straining', 5270: 'mug', 5271: 'who-o-oa', 5272: 'soft', 5273: 'already', 5274: 'points', 5275: 'broom', 5276: 'natured', 5277: 'padre', 5278: 'perón', 5279: 'betrayed', 5280: 'michelin', 5281: 'pancakes', 5282: 'sobbing', 5283: 'liver', 5284: 'talkers', 5285: 'face-macer', 5286: 'negative', 5287: 'relaxed', 5288: 'blubberino', 5289: 'thirty-thousand', 5290: \"bar's\", 5291: 'interested', 5292: 'hemorrhage-amundo', 5293: 'what', 5294: 'pushes', 5295: 'expensive', 5296: 'find', 5297: \"fallin'\", 5298: 'local', 5299: 'prayers', 5300: 'wrecking', 5301: 'trash', 5302: 'changing', 5303: 'couple', 5304: 'forced', 5305: 'deeper', 5306: 'modest', 5307: \"children's\", 5308: 'wrap', 5309: 'fight', 5310: 'navy', 5311: 'fountain', 5312: 'listening', 5313: 'move', 5314: 'williams', 5315: 'captain', 5316: 'lotta', 5317: 'leans', 5318: \"we'd\", 5319: 'busy', 5320: 'bart_simpson', 5321: 'jeter', 5322: \"i'll\", 5323: 'liability', 5324: 'tempting', 5325: 'chick', 5326: 'tons', 5327: 'suburban', 5328: 'wage', 5329: 'rat', 5330: 'settled', 5331: 'spacey', 5332: 'moment', 5333: 'ringing', 5334: '100', 5335: 'adopted', 5336: \"there's\", 5337: 'high', 5338: 'absorbent', 5339: 'drop', 5340: 'solved', 5341: \"she'd\", 5342: 'undies', 5343: 'chapter', 5344: 'were', 5345: \"what're\", 5346: 'covering', 5347: \"o'problem\", 5348: 'cheering', 5349: 'stadium', 5350: 'facebook', 5351: 'eyes', 5352: 'reporter', 5353: 'welcome', 5354: 'awkwardly', 5355: 'doy', 5356: 'shoulders', 5357: 'as', 5358: \"cashin'\", 5359: 'city', 5360: 'electronic', 5361: 'menacing', 5362: 'fireworks', 5363: 'flea', 5364: 'impress', 5365: 'prize', 5366: 'sweetheart', 5367: 'weight', 5368: 'starlets', 5369: 'crinkly', 5370: 'har', 5371: 'liser', 5372: 'asleep', 5373: 'competing', 5374: \"countin'\", 5375: 'cecil', 5376: 'space-time', 5377: 'wiener', 5378: \"'s\", 5379: 'beam', 5380: 'twin', 5381: 'washouts', 5382: 'shortcomings', 5383: 'connor-politan', 5384: 'emergency', 5385: 'doors', 5386: 'intense', 5387: 'nahasapeemapetilon', 5388: 'totalitarians', 5389: 'zero', 5390: 'outlook', 5391: 'sat', 5392: 'reciting', 5393: 'west', 5394: 'yuh-huh', 5395: 'windowshade', 5396: 'maude', 5397: 'poured', 5398: 'burg', 5399: 'ziff', 5400: 'burt', 5401: 'cockroaches', 5402: \"one's\", 5403: 'intriguing', 5404: 'short_man', 5405: 'convinced', 5406: 'falling', 5407: 'trivia', 5408: 'jump', 5409: '&', 5410: 'during', 5411: 'unkempt', 5412: 'regret', 5413: 'book', 5414: 'hillbillies', 5415: 'turns', 5416: 'halfway', 5417: 'ordered', 5418: 'mayor_joe_quimby', 5419: 'feedbag', 5420: 'energy', 5421: 'ye', 5422: 'lowers', 5423: 'close', 5424: 'tsking', 5425: 'unison', 5426: 'fighter', 5427: 'woman', 5428: 'hygienically', 5429: 'bites', 5430: 'cheers', 5431: 'gimme', 5432: 'civil', 5433: 'agency', 5434: 'camp', 5435: 'bonding', 5436: 'getting', 5437: \"ball's\", 5438: 'psst', 5439: 'backgammon', 5440: 'skunk', 5441: 'space', 5442: 'center', 5443: 'conclude', 5444: 'mistakes', 5445: 'say', 5446: 'hooters', 5447: \"tap-pullin'\", 5448: 'tips', 5449: 'reached', 5450: 'flame', 5451: 'cream', 5452: 'stones', 5453: 'flames', 5454: 'gift', 5455: 'boxers', 5456: 'pro', 5457: 'yee-haw', 5458: 'richer', 5459: 'forever', 5460: 'round', 5461: 'forward', 5462: 'rainier', 5463: 'bowie', 5464: 'declared', 5465: 'equal', 5466: 'husband', 5467: 'heave-ho', 5468: 'barf', 5469: 'moving', 5470: 'wudgy', 5471: 'tuborg', 5472: 'de-scramble', 5473: \"can'tcha\", 5474: 'frosty', 5475: 'dull', 5476: 'the_rich_texan', 5477: 'rims', 5478: 'foot', 5479: 'busiest', 5480: 'shill', 5481: 'icelandic', 5482: 'felt', 5483: 'barkeep', 5484: \"'bout\", 5485: 'snotty', 5486: 'chained', 5487: 'accidents', 5488: 'gently', 5489: 'hose', 5490: 'plucked', 5491: 'occurred', 5492: 'atari', 5493: 'lincoln', 5494: 'punishment', 5495: 'canoodling', 5496: 'hunky', 5497: 'got', 5498: \"tinklin'\", 5499: 'santa', 5500: 'tang', 5501: 'italian', 5502: 'subscriptions', 5503: 'these', 5504: 'mafia', 5505: 'fury', 5506: 'huh', 5507: 'judges', 5508: 'kicked', 5509: 'heh', 5510: 'slip', 5511: 'annual', 5512: 'feisty', 5513: 'shelf', 5514: 'ring', 5515: 'shutup', 5516: 'selective', 5517: \"waitin'\", 5518: 'capitalists', 5519: 'hardwood', 5520: 'stares', 5521: 'modern', 5522: 'dealt', 5523: 'moved', 5524: 'shoots', 5525: 'homeless', 5526: 'covers', 5527: 'veux', 5528: 'anti-crime', 5529: 'patient', 5530: 'legs', 5531: 'hollywood', 5532: 'foodie', 5533: 'ah-ha', 5534: 'salt', 5535: 'effigy', 5536: \"men's\", 5537: 'warranty', 5538: 'nordiques', 5539: \"doin'\", 5540: 'calling', 5541: 'forgotten', 5542: 'prove', 5543: '8', 5544: 'lard', 5545: 'albeit', 5546: \"c'mere\", 5547: 'housewife', 5548: 'drinks', 5549: 'allowed', 5550: 'chest', 5551: 'toward', 5552: 'choices', 5553: 'danny', 5554: 'minimum', 5555: 'musta', 5556: 'conversion', 5557: 'smiles', 5558: 'loss', 5559: 'slim', 5560: 'guttural', 5561: 'brawled', 5562: 'gal', 5563: 'good', 5564: \"cont'd\", 5565: 'old_jewish_man', 5566: 'larry', 5567: 'wide', 5568: 'november', 5569: 'julep', 5570: 'mini-dumpsters', 5571: 'sketching', 5572: 'generously', 5573: 'luv', 5574: 'pardon', 5575: 'pumping', 5576: 'pointed', 5577: '50-60', 5578: \"askin'\", 5579: 'rummy', 5580: 'wedding', 5581: 'guys', 5582: 'ruled', 5583: 'chin', 5584: 'clinton', 5585: 'done', 5586: \"'er\", 5587: 'ball', 5588: \"haven't\", 5589: 'dirt', 5590: 'champignons', 5591: 'alky', 5592: 'then', 5593: 'coney', 5594: 'connection', 5595: 'device', 5596: 'exchanged', 5597: 'vodka', 5598: 'exclusive', 5599: 'rash', 5600: 'bragging', 5601: 'sight', 5602: 'mountain', 5603: 'patriotic', 5604: 'cuz', 5605: 'traitor', 5606: 'blind', 5607: 'bumpy-like', 5608: 'attached', 5609: 'a-a-b-b-a', 5610: 'yoink', 5611: 'para', 5612: 'glitz', 5613: 'wienerschnitzel', 5614: 'gum', 5615: 'beings', 5616: 'workers', 5617: 'hopeful', 5618: 'kickoff', 5619: 'accept', 5620: 'worst', 5621: 'spinning', 5622: 'predecessor', 5623: 'stretch', 5624: \"ma's\", 5625: 'aww', 5626: \"she's\", 5627: 'awe', 5628: 'crappy', 5629: 'wangs', 5630: 'audience', 5631: \"lenny's\", 5632: 'afloat', 5633: 'fan', 5634: \"s'pose\", 5635: 'tabooger', 5636: 'california', 5637: 'engraved', 5638: 'mill', 5639: 'hah', 5640: 'doctor', 5641: 'catty', 5642: 'kids', 5643: 'whole', 5644: 'grow', 5645: 'barney-shaped_form', 5646: \"tatum'll\", 5647: 'changes', 5648: \"ladies'\", 5649: \"poisonin'\", 5650: 'exactly', 5651: 'citizens', 5652: \"bart's\", 5653: 'tester', 5654: 'prison', 5655: 'underpants', 5656: 'nachos', 5657: 'joking', 5658: 'fail', 5659: 'doooown', 5660: \"knockin'\", 5661: 'complete', 5662: 'gee', 5663: 'fixes', 5664: 'lisa', 5665: 'beans', 5666: 'overstressed', 5667: 'badmouth', 5668: 'brunswick', 5669: 'heavyset', 5670: 'serve', 5671: 'murmurs', 5672: 'groveling', 5673: 'bartenders', 5674: 'haircuts', 5675: '1895', 5676: 'celebration', 5677: 'skinner', 5678: 'sustain', 5679: 'having', 5680: 'indigenous', 5681: 'distraught', 5682: 'habit', 5683: 'composer', 5684: 'drawer', 5685: 'sports_announcer', 5686: 'check', 5687: 'could', 5688: 'cutting', 5689: 'cent', 5690: 'vengeful', 5691: 'banquet', 5692: 'committing', 5693: 'combination', 5694: 'wears', 5695: 'ze-ro', 5696: 'coherent', 5697: 'landlord', 5698: 'broad', 5699: \"d'\", 5700: 'official', 5701: 'terrorizing', 5702: 'dallas', 5703: 'almond', 5704: 'solid', 5705: \"clancy's\", 5706: 'money', 5707: 'flower', 5708: 'nonchalant', 5709: 'archaeologist', 5710: 'chief_wiggum', 5711: '1979', 5712: 'donated', 5713: 'wishes', 5714: 'payments', 5715: 'casting', 5716: 'fortensky', 5717: \"'pu\", 5718: 'beyond', 5719: 'traditions', 5720: 'brine', 5721: 'splattered', 5722: 'thoughtfully', 5723: 'life-sized', 5724: 'nantucket', 5725: 'beards', 5726: 'funds', 5727: 'players', 5728: 'shares', 5729: 'thomas', 5730: 'santeria', 5731: 'price', 5732: 'philosophic', 5733: 'aggravated', 5734: 'relieved', 5735: \"it's\", 5736: 'international', 5737: \"enjoyin'\", 5738: 'scare', 5739: 'yoo', 5740: 'linda_ronstadt', 5741: 'lot', 5742: 'desperate', 5743: 'filed', 5744: 'program', 5745: 'nothing', 5746: 'payback', 5747: \"payin'\", 5748: 'phlegm', 5749: 'lowest', 5750: 'hotenhoffer', 5751: 'acting', 5752: 'world', 5753: 'snake', 5754: 'quadruple-sec', 5755: 'piano', 5756: 'doubt', 5757: 'cheap', 5758: 'marshmallow', 5759: 'numbers', 5760: 'up-bup-bup', 5761: 'inside', 5762: 'chapel', 5763: \"neighbor's\", 5764: 'dad', 5765: 'sec_agent_#1', 5766: 'duff', 5767: 'doing', 5768: 'cologne', 5769: \"c'mon\", 5770: 'knife', 5771: 'bedtime', 5772: 'fancy', 5773: 'sound', 5774: 'reality', 5775: 'everywhere', 5776: 'headhunters', 5777: 'oils', 5778: 'nobody', 5779: 'form', 5780: 'impatient', 5781: 'hemoglobin', 5782: 'chili', 5783: 'yee-ha', 5784: 'grinch', 5785: 'ever', 5786: 'scarf', 5787: 'rapidly', 5788: 'joke', 5789: 'lifts', 5790: \"you're\", 5791: 'sumatran', 5792: 'peeved', 5793: 'beer', 5794: 'cowboys', 5795: 'crowd', 5796: 'spied', 5797: 'dreams', 5798: 'refund', 5799: 'cough', 5800: 'lovers', 5801: 'presents', 5802: 'called', 5803: 'turned', 5804: 'novelty', 5805: 'rebuttal', 5806: 'foil', 5807: 'office', 5808: \"time's\", 5809: 'anderson', 5810: 'maiden', 5811: 'nature', 5812: 'felony', 5813: 'griffith', 5814: 'believer', 5815: 'fun', 5816: 'cross-country', 5817: 'pep', 5818: 'website', 5819: 'troll', 5820: 'gargoyle', 5821: 'killed', 5822: \"they've\", 5823: 'reopen', 5824: 'supports', 5825: 'lorre', 5826: 'senator', 5827: 'harvesting', 5828: 'flatly', 5829: 'possessions', 5830: 'top', 5831: 'macbeth', 5832: 'pyramid', 5833: 'porn', 5834: 'bon', 5835: 'outrageous', 5836: 'investment', 5837: 'advice', 5838: 'shock', 5839: 'barbara', 5840: 'their', 5841: 'frontrunner', 5842: 'grants', 5843: 'product', 5844: 'boozy', 5845: 'mugs', 5846: 'wednesday', 5847: 'thnord', 5848: 'swooning', 5849: 'inclination', 5850: 'save', 5851: 'warn', 5852: 'greedy', 5853: 'malted', 5854: 'ominous', 5855: 'watashi', 5856: 'wealthy', 5857: 'totally', 5858: 'happiness', 5859: 'those', 5860: 'sarcastic', 5861: '/mr', 5862: 'large', 5863: 'gabriel', 5864: 'th-th-th-the', 5865: 'foibles', 5866: 'guts', 5867: 'gave', 5868: 'poker', 5869: 'apu_nahasapeemapetilon', 5870: 'represents', 5871: 'why', 5872: 'wipes', 5873: 'chipper', 5874: 'race', 5875: 'mail', 5876: 'hosting', 5877: 'christian', 5878: 'times', 5879: 'produce', 5880: 'judgments', 5881: 'starting', 5882: 'handsome', 5883: 'nauseous', 5884: 'otherwise', 5885: 'this', 5886: 'pointing', 5887: 'choose', 5888: 'streetlights', 5889: 'lying', 5890: 'monorails', 5891: 'presto', 5892: \"won't\", 5893: 'dynamite', 5894: 'len-ny', 5895: 'plain', 5896: 'kent_brockman', 5897: 'crank', 5898: \"patrick's\", 5899: 'so', 5900: 'lungs', 5901: 'scram', 5902: 'memories', 5903: 'buying', 5904: 'scrutinizing', 5905: 'al', 5906: 'degradation', 5907: 'vomit', 5908: 'fake', 5909: 'rome', 5910: 'behind', 5911: 'helen', 5912: 'stationery', 5913: 'theatrical', 5914: 'stillwater', 5915: 'lie', 5916: 'renee', 5917: 'cocoa', 5918: 'recommend', 5919: 'terrific', 5920: 'project', 5921: 'firing', 5922: 'kool', 5923: 'vermont', 5924: 'awareness', 5925: 'aziz', 5926: 'none', 5927: 'punches', 5928: 'dennis_conroy', 5929: 'kid', 5930: 'suspiciously', 5931: 'william', 5932: 'slot', 5933: 'unless', 5934: 'crumble', 5935: 'slight', 5936: 'stomach', 5937: 'bellyaching', 5938: 'byrne', 5939: 'ripcord', 5940: 'classy', 5941: 'visas', 5942: 'browns', 5943: 'push', 5944: 'syrup', 5945: 'paints', 5946: 'level', 5947: 'joint', 5948: 'partners', 5949: 'fruit', 5950: 'limited', 5951: 'blinded', 5952: 'comedies', 5953: 'tolerable', 5954: 'businessman_#2', 5955: 'exit', 5956: 'kirk', 5957: 'resist', 5958: 'inches', 5959: 'sharity', 5960: 'eva', 5961: 'cheryl', 5962: 'address', 5963: 'arabs', 5964: 'halloween', 5965: 'sassy', 5966: 'coughs', 5967: 'shop', 5968: 'left', 5969: 'sky', 5970: 'outlive', 5971: 'smelling', 5972: 'belly', 5973: 'detective', 5974: 'cowboy', 5975: 'fox', 5976: 'rage', 5977: '530', 5978: 'sympathizer', 5979: 'puffy', 5980: 'clipped', 5981: \"family's\", 5982: 'disco', 5983: 'getup', 5984: 'chug-a-lug', 5985: 'tells', 5986: 'wind', 5987: 'eighty-seven', 5988: 'invited', 5989: \"raggin'\", 5990: 'symphonies', 5991: 'toms', 5992: 'value', 5993: 'wanna', 5994: \"showin'\", 5995: '21', 5996: 'champion', 5997: 'very', 5998: 'straighten', 5999: 'slobbo', 6000: 'works', 6001: 'volunteer', 6002: 'extreme', 6003: 'nation', 6004: 'sweden', 6005: 'there', 6006: 'rupert_murdoch', 6007: 'breaks', 6008: 'safety', 6009: 'partner', 6010: 'awed', 6011: 'avec', 6012: 'hero-phobia', 6013: 'agents', 6014: 'starts', 6015: 'trustworthy', 6016: 'bubbles', 6017: 'fault', 6018: 'grammy', 6019: 'ech', 6020: 'opening', 6021: 'begins', 6022: 'methinks', 6023: 'conspiratorial', 6024: 'mayor', 6025: 'explaining', 6026: 'bolting', 6027: 'microphone', 6028: 'skinny', 6029: 'strain', 6030: 'bon-bons', 6031: 'carmichael', 6032: 'vulgar', 6033: 'quimby_#2', 6034: 'awkward', 6035: 'quietly', 6036: 'floated', 6037: 'bones', 6038: 'strawberry', 6039: 'scrape', 6040: 'mid-seventies', 6041: 'lottery', 6042: 'scream', 6043: 'moolah-stealing', 6044: 'soir', 6045: 'africanized', 6046: 'gator', 6047: 'wolverines', 6048: 'provide', 6049: 'universe', 6050: 'stickers', 6051: 'recap', 6052: 'skin', 6053: 'yell', 6054: 'might', 6055: 'entertainer', 6056: 'spoken', 6057: 'sperm', 6058: 'cash', 6059: 'statues', 6060: 'meditative', 6061: 'credit', 6062: 'polls', 6063: 'darts', 6064: 'when-i-get-a-hold-of-you', 6065: 'pregnancy', 6066: 'freed', 6067: 'trust', 6068: 'graves', 6069: 'hours', 6070: 'pal', 6071: 'train', 6072: 'soothing', 6073: \"america's\", 6074: 'future', 6075: 'moan', 6076: 'arrest', 6077: 'bugging', 6078: 'along', 6079: 'respect', 6080: 'image', 6081: 'breathtaking', 6082: 'cherry', 6083: 'experiments', 6084: 'given', 6085: 'multiple', 6086: 'listened', 6087: 'frogs', 6088: 'tense', 6089: 'half-back', 6090: 'bupkus', 6091: 'laughing', 6092: 'pub', 6093: 'kills', 6094: 'warmth', 6095: 'sold', 6096: 'are', 6097: 'kennedy', 6098: 'specials', 6099: 'takes', 6100: \"ragin'\", 6101: 'lone', 6102: 'mudflap', 6103: 'jelly', 6104: 'sotto', 6105: 'homer_doubles', 6106: 'should', 6107: 'bonfire', 6108: 'reaction', 6109: 'childless', 6110: 'boneheaded', 6111: 'irish', 6112: 'delts', 6113: 'uncle', 6114: 'elephants', 6115: 'guess', 6116: 'radioactive', 6117: 'politics', 6118: 'comment', 6119: 'appreciated', 6120: 'paying', 6121: 'tony', 6122: 'color', 6123: 'atlanta', 6124: 'leonard', 6125: 'midge', 6126: 'burns', 6127: 'catch-phrase', 6128: 'sequel', 6129: 'maybe', 6130: \"g'night\", 6131: 'species', 6132: 'anonymous', 6133: 'limber', 6134: 'padres', 6135: 'lennyy', 6136: '7g', 6137: 'weep', 6138: 'did', 6139: 'advantage', 6140: 'photo', 6141: 'harder', 6142: 'floating', 6143: \"chewin'\", 6144: 'event', 6145: 'shred', 6146: 'ore', 6147: \"o'clock\", 6148: 'mayan', 6149: 'optimistic', 6150: 'increased', 6151: 'rub-a-dub', 6152: 'smiling', 6153: 'difficult', 6154: 'boyhood', 6155: \"tv's\", 6156: 'oh', 6157: \"costume's\", 6158: 'daaaaad', 6159: 'cares', 6160: '1973', 6161: 'ghouls', 6162: 'heaven', 6163: 'moonshine', 6164: 'snail', 6165: 'dropping', 6166: 'frog', 6167: 'dollars', 6168: 'beady', 6169: 'louder', 6170: 'cowardly', 6171: 'noble', 6172: 'window', 6173: 'rockers', 6174: 'goo', 6175: 'rig', 6176: 'booth', 6177: 'ihop', 6178: 'purse', 6179: 'flophouse', 6180: 'edna_krabappel-flanders', 6181: \"i'd'a\", 6182: 'sleigh-horses', 6183: 'meaningfully', 6184: 'gloop', 6185: 'peanut', 6186: 'dumbbell', 6187: 'firmly', 6188: 'creeps', 6189: 'knives', 6190: 'blood-thirsty', 6191: 'carve', 6192: 'lloyd', 6193: 'aerospace', 6194: 'unrelated', 6195: 'hellhole', 6196: 'clapping', 6197: 'enterprising', 6198: 'comfortable', 6199: 'helping', 6200: 'alma', 6201: 'germans', 6202: 'spits', 6203: 'launch', 6204: 'prayer', 6205: 'cell-ee', 6206: 'souvenir', 6207: 'pantsless', 6208: 'chair', 6209: 'peppy', 6210: 'together', 6211: 'sidekick', 6212: \"fendin'\", 6213: 'annus', 6214: 'app', 6215: 'african', 6216: 'music', 6217: 'wish-meat', 6218: 'ugliest', 6219: 'loudly', 6220: 'flynt', 6221: 'consulting', 6222: 'waltz', 6223: 'defeated', 6224: 'jimmy', 6225: 'gay', 6226: 'plant', 6227: 'brassiest', 6228: 'rich', 6229: 'billion', 6230: 'arts', 6231: 'oak', 6232: 'glove', 6233: 'turkey', 6234: 'ballot', 6235: 'goods', 6236: \"town's\", 6237: 'ceremony', 6238: 'x', 6239: 'awful', 6240: 'movie', 6241: 'sidelines', 6242: 'cable', 6243: 'perfume', 6244: 'president', 6245: 'manchego', 6246: 'wants', 6247: 'onion', 6248: 'rector', 6249: 'invulnerable', 6250: 'issues', 6251: 'morlocks', 6252: 'shard', 6253: 'thirty', 6254: 'carolina', 6255: 'enemy', 6256: 'knows', 6257: 'barflies', 6258: 'tenor', 6259: 'steinbrenner', 6260: 'overflowing', 6261: 'exits', 6262: 'youuu', 6263: 'finger', 6264: \"renovatin'\", 6265: 'pronounce', 6266: 'taken', 6267: 'dan_gillick', 6268: 'doll-baby', 6269: 'illegal', 6270: 'ninety-eight', 6271: 'eight', 6272: 'hoax', 6273: 'spoon', 6274: 'lookalike', 6275: 'bumped', 6276: 'star', 6277: 'driving', 6278: 'ingrates', 6279: 'favorite', 6280: 'boned', 6281: 'manfred', 6282: 'fritz', 6283: 'victory', 6284: 'hop', 6285: 'musses', 6286: 'european', 6287: 'actor', 6288: 'mouth', 6289: 'public', 6290: 'hm', 6291: \"pope's\", 6292: 'rob', 6293: 'housing', 6294: 'ya', 6295: 'phasing', 6296: 'sunglasses', 6297: 'self', 6298: 'marquee', 6299: 'hangover', 6300: 'handle', 6301: 'shelbyville', 6302: 'obese', 6303: 'decide', 6304: 'noooooooooo', 6305: 'dumbest', 6306: 'broken', 6307: 'sale', 6308: 'satisfied', 6309: 'family-owned', 6310: 'mailbox', 6311: 'th', 6312: 'opportunity', 6313: \"ma'am\", 6314: 'forecast', 6315: 'wiggum', 6316: \"edna's\", 6317: 'super-nice', 6318: 'cheesecake', 6319: 'woo', 6320: 'take', 6321: 'uninhibited', 6322: 'girlfriend', 6323: 'stocking', 6324: 'contract', 6325: 'ugly', 6326: \"tree's\", 6327: 'cruiser', 6328: 'damned', 6329: 'chipped', 6330: 'tiny', 6331: 'mary', 6332: 'vacuum', 6333: 'mob', 6334: 'hers', 6335: 'cause', 6336: 'slurps', 6337: 'brown', 6338: 'brockelstein', 6339: 'dressing', 6340: 'behavior', 6341: 'discuss', 6342: 'cheaper', 6343: 'part-time', 6344: 'unforgettable', 6345: 'blissful', 6346: 'eight-year-old', 6347: 'multi-purpose', 6348: 'prime', 6349: 'evasive', 6350: 'problemo', 6351: 'life-threatening', 6352: 'pian-ee', 6353: 'poison', 6354: 'playing', 6355: 'tanked-up', 6356: 'unbelievable', 6357: 'wonder', 6358: 'repay', 6359: 'bubbles-in-my-nose-y', 6360: 'grace', 6361: 'laney_fontaine', 6362: 'hope', 6363: 'cars', 6364: 'caholic', 6365: 'nasa', 6366: 'deal', 6367: 'tooth', 6368: 'losers', 6369: 'rough', 6370: 'alternative', 6371: 'located', 6372: 'astronauts', 6373: \"'morning\", 6374: 'orders', 6375: 'barkeeps', 6376: 'dracula', 6377: 'total', 6378: 'flew', 6379: 'garbage', 6380: 'bottle', 6381: 'portentous', 6382: 'county', 6383: 'dancing', 6384: 'whoever', 6385: 'spiritual', 6386: \"somebody's\", 6387: 'two-thirds-empty', 6388: 'mahatma', 6389: 'reactions', 6390: 'obvious', 6391: 'whoa-ho', 6392: 'yew', 6393: 'affects', 6394: 'ripper', 6395: 'gifts', 6396: '2nd_voice_on_transmitter', 6397: 'hot', 6398: \"'ceptin'\", 6399: 'kissingher', 6400: 'promise', 6401: 'crossed', 6402: 'terrified', 6403: 'hug', 6404: 'full-blooded', 6405: 'sap', 6406: 'get', 6407: 'increasingly', 6408: 'campaign', 6409: 'mona_simpson', 6410: 'discussing', 6411: 'asses', 6412: 'diving', 6413: 'delicate', 6414: 'edner', 6415: 'finally', 6416: 'dads', 6417: 'theatah', 6418: 'slogan', 6419: 'tying', 6420: 'refreshingness', 6421: 'exhaust', 6422: 'disappear', 6423: 'winning', 6424: 'sixteen', 6425: 'beatings', 6426: 'cab_driver', 6427: 'been', 6428: 'glummy', 6429: 'hoping', 6430: 'salad', 6431: 'nineteen', 6432: 'spooky', 6433: 'paramedic', 6434: 'sadistic_barfly', 6435: 'eh', 6436: 'sports', 6437: 'lise', 6438: 'duffman', 6439: 'supposed', 6440: 'remains', 6441: 'margarita', 6442: \"betsy'll\", 6443: 'moonnnnnnnn', 6444: 'omit', 6445: 'madman', 6446: 'whoops', 6447: 'cheapskates', 6448: 'literature', 6449: 'punch', 6450: 'tobacky', 6451: 'mexican_duffman', 6452: 'accurate', 6453: 'dea-d-d-dead', 6454: 'happier', 6455: \"meanin'\", 6456: 'nah', 6457: \"doctor's\", 6458: 'legally', 6459: 'susie-q', 6460: 'divine', 6461: 'jacques', 6462: 'prompting', 6463: 'plastic', 6464: \"it'll\", 6465: 'costume', 6466: 'rhyme', 6467: 'politicians', 6468: 'emporium', 6469: 'raking', 6470: 'rubbed', 6471: 'dress', 6472: 'latin', 6473: 'work', 6474: 'tonic', 6475: 'losing', 6476: 'spanish', 6477: 'thirty-three', 6478: 'comes', 6479: 'furiously', 6480: 'rekindle', 6481: 'slugger', 6482: 'obsessive-compulsive', 6483: \"homer'll\", 6484: 'sitar', 6485: \"tellin'\", 6486: 'must', 6487: 'sandwich', 6488: 'dan', 6489: 'suddenly', 6490: 'eighty-three', 6491: 'schizophrenia', 6492: 'sickens', 6493: 'throws', 6494: 'shores', 6495: 'sly', 6496: 'seductive', 6497: 'links', 6498: 'reynolds', 6499: 'sisters', 6500: 'slice', 6501: 'hare-brained', 6502: \"president's\", 6503: 'bumbling', 6504: 'lists', 6505: 'everything', 6506: 'violin', 6507: 'squeezed', 6508: 'lipo', 6509: 'nein', 6510: 'bushes', 6511: 'fifteen', 6512: 'puke', 6513: 'na', 6514: 'hammy', 6515: 'big', 6516: 'newsies', 6517: 'meals', 6518: 'fair', 6519: 'stop', 6520: 'nickels', 6521: 'reluctantly', 6522: 'associate', 6523: \"queen's\", 6524: 'hockey-fight', 6525: 'tourist', 6526: 'express', 6527: 'realizing', 6528: \"show's\", 6529: 'pages', 6530: 'frankly', 6531: 'naively', 6532: 'rocks', 6533: 'kindly', 6534: 'forgot', 6535: 'smithers', 6536: 'supermodel', 6537: 'into', 6538: 'norway', 6539: 'generous', 6540: 'alley', 6541: 'quick', 6542: 'failed', 6543: 'love-matic', 6544: 'creates', 6545: 'beer-dorf', 6546: 'flaming', 6547: 'understanding', 6548: 'hangs', 6549: 'cobra', 6550: 'goal', 6551: 'hat', 6552: 'fill', 6553: 'ees', 6554: 'clenched', 6555: 'pool', 6556: 'espousing', 6557: 'louie', 6558: \"goin'\", 6559: 'corkscrews', 6560: \"it'd\", 6561: 'roses', 6562: 'pulitzer', 6563: \"secret's\", 6564: 'chauffeur', 6565: 'grenky', 6566: 'characteristic', 6567: 'decided', 6568: 'row', 6569: 'film', 6570: 'squad', 6571: 'dump', 6572: 'gel', 6573: 'cheerleaders', 6574: 'package', 6575: 'blame', 6576: 'etc', 6577: 'muscles', 6578: 'compromise', 6579: 'charges', 6580: 'queer', 6581: 'clammy', 6582: 'nap', 6583: 'butts', 6584: 'trainers', 6585: 'sponsoring', 6586: 'planet', 6587: 'rump', 6588: 'abolish', 6589: 'gorgeous', 6590: 'frazier', 6591: 'three', 6592: 'employment', 6593: 'blooded', 6594: 'rub', 6595: \"summer's\", 6596: 'shooting', 6597: \"'tis\", 6598: 'kl5-4796', 6599: 'roll', 6600: 'swatch', 6601: 'adjourned', 6602: 'corkscrew', 6603: \"liftin'\", 6604: 'playhouse', 6605: 'tom', 6606: 'point', 6607: 'motor', 6608: 'lease', 6609: 'pleasure', 6610: 'attend', 6611: 'mustard', 6612: 'familiar', 6613: \"'evening\", 6614: 'flexible', 6615: 'hardhat', 6616: 'allow', 6617: \"ridin'\", 6618: 'period', 6619: 'maman', 6620: 'colossal', 6621: 'shreda', 6622: 'exception', 6623: 'lifters', 6624: 'towed', 6625: 'outs', 6626: 'lager', 6627: 'pants', 6628: 'jackpot-thief', 6629: 'fustigation', 6630: 'stores', 6631: 'peabody', 6632: 'hears', 6633: 'impressed', 6634: \"o'reilly\", 6635: 'digging', 6636: 'k-zug', 6637: 'taxi', 6638: 'cola', 6639: 'toss', 6640: 'blues', 6641: \"games'd\", 6642: 'type', 6643: 'contemptuous', 6644: 'rickles', 6645: 'homer_', 6646: 'alright', 6647: 'tax', 6648: 'back', 6649: 'owe', 6650: 'andrew', 6651: 'butt', 6652: 'throat', 6653: 'anymore', 6654: 'mmmmm', 6655: 'looooooooooooooooooong', 6656: 'drank', 6657: 'naval', 6658: 'reasons', 6659: 'vicious', 6660: 'wearing', 6661: 'noggin', 6662: 'harvard', 6663: 'neon', 6664: 'boisterous', 6665: 'offshoot', 6666: 'so-ng', 6667: 'serum', 6668: 'disappointing', 6669: 'embarrassed', 6670: \"he'll\", 6671: 'trench', 6672: 'clearing', 6673: 'veteran', 6674: 'cheese', 6675: 'used', 6676: 'phony', 6677: 'mines', 6678: 'kept', 6679: 'anti-intellectualism', 6680: 'jack_larson', 6681: 'faint', 6682: 'alphabet', 6683: 'make', 6684: \"brady's\", 6685: 'sanctuary', 6686: 'valuable', 6687: 'barbed', 6688: \"how're\", 6689: 'brother-in-law'}\n"
     ]
    }
   ],
   "source": [
    "\"\"\"\n",
    "DON'T MODIFY ANYTHING IN THIS CELL\n",
    "\"\"\"\n",
    "# Preprocess Training, Validation, and Testing Data\n",
    "helper.preprocess_and_save_data(data_dir, token_lookup, create_lookup_tables)"
   ]
  },
  {
   "cell_type": "markdown",
   "metadata": {
    "deletable": true,
    "editable": true
   },
   "source": [
    "# Check Point\n",
    "This is your first checkpoint. If you ever decide to come back to this notebook or have to restart the notebook, you can start from here. The preprocessed data has been saved to disk."
   ]
  },
  {
   "cell_type": "code",
   "execution_count": 7,
   "metadata": {
    "collapsed": false,
    "deletable": true,
    "editable": true
   },
   "outputs": [],
   "source": [
    "\"\"\"\n",
    "DON'T MODIFY ANYTHING IN THIS CELL\n",
    "\"\"\"\n",
    "import helper\n",
    "import numpy as np\n",
    "import problem_unittests as tests\n",
    "\n",
    "int_text, vocab_to_int, int_to_vocab, token_dict = helper.load_preprocess()"
   ]
  },
  {
   "cell_type": "markdown",
   "metadata": {
    "deletable": true,
    "editable": true
   },
   "source": [
    "## Build the Neural Network\n",
    "You'll build the components necessary to build a RNN by implementing the following functions below:\n",
    "- get_inputs\n",
    "- get_init_cell\n",
    "- get_embed\n",
    "- build_rnn\n",
    "- build_nn\n",
    "- get_batches\n",
    "\n",
    "### Check the Version of TensorFlow and Access to GPU"
   ]
  },
  {
   "cell_type": "code",
   "execution_count": 8,
   "metadata": {
    "collapsed": false,
    "deletable": true,
    "editable": true
   },
   "outputs": [
    {
     "name": "stdout",
     "output_type": "stream",
     "text": [
      "TensorFlow Version: 1.0.0\n",
      "Default GPU Device: /gpu:0\n"
     ]
    }
   ],
   "source": [
    "\"\"\"\n",
    "DON'T MODIFY ANYTHING IN THIS CELL\n",
    "\"\"\"\n",
    "from distutils.version import LooseVersion\n",
    "import warnings\n",
    "import tensorflow as tf\n",
    "\n",
    "# Check TensorFlow Version\n",
    "assert LooseVersion(tf.__version__) >= LooseVersion('1.0'), 'Please use TensorFlow version 1.0 or newer'\n",
    "print('TensorFlow Version: {}'.format(tf.__version__))\n",
    "\n",
    "# Check for a GPU\n",
    "if not tf.test.gpu_device_name():\n",
    "    warnings.warn('No GPU found. Please use a GPU to train your neural network.')\n",
    "else:\n",
    "    print('Default GPU Device: {}'.format(tf.test.gpu_device_name()))"
   ]
  },
  {
   "cell_type": "markdown",
   "metadata": {
    "deletable": true,
    "editable": true
   },
   "source": [
    "### Input\n",
    "Implement the `get_inputs()` function to create TF Placeholders for the Neural Network.  It should create the following placeholders:\n",
    "- Input text placeholder named \"input\" using the [TF Placeholder](https://www.tensorflow.org/api_docs/python/tf/placeholder) `name` parameter.\n",
    "- Targets placeholder\n",
    "- Learning Rate placeholder\n",
    "\n",
    "Return the placeholders in the following tuple (Input, Targets, LearningRate)"
   ]
  },
  {
   "cell_type": "code",
   "execution_count": 9,
   "metadata": {
    "collapsed": false,
    "deletable": true,
    "editable": true
   },
   "outputs": [
    {
     "name": "stdout",
     "output_type": "stream",
     "text": [
      "Tests Passed\n"
     ]
    }
   ],
   "source": [
    "def get_inputs():\n",
    "    \"\"\"\n",
    "    Create TF Placeholders for input, targets, and learning rate.\n",
    "    :return: Tuple (input, targets, learning rate)\n",
    "    \"\"\"\n",
    "    # TODO: Implement Function\n",
    "    Input = tf.placeholder(tf.int32, shape=(None,None),name='input')\n",
    "    targets = tf.placeholder(tf.int32, shape=(None,None),name='Targets')\n",
    "    learning_rate = tf.placeholder(tf.float32, shape=None,name=\"LearningRate\")\n",
    "    return Input,targets,learning_rate\n",
    "\n",
    "\n",
    "\"\"\"\n",
    "DON'T MODIFY ANYTHING IN THIS CELL THAT IS BELOW THIS LINE\n",
    "\"\"\"\n",
    "tests.test_get_inputs(get_inputs)"
   ]
  },
  {
   "cell_type": "markdown",
   "metadata": {
    "deletable": true,
    "editable": true
   },
   "source": [
    "### Build RNN Cell and Initialize\n",
    "Stack one or more [`BasicLSTMCells`](https://www.tensorflow.org/api_docs/python/tf/contrib/rnn/BasicLSTMCell) in a [`MultiRNNCell`](https://www.tensorflow.org/api_docs/python/tf/contrib/rnn/MultiRNNCell).\n",
    "- The Rnn size should be set using `rnn_size`\n",
    "- Initalize Cell State using the MultiRNNCell's [`zero_state()`](https://www.tensorflow.org/api_docs/python/tf/contrib/rnn/MultiRNNCell#zero_state) function\n",
    "    - Apply the name \"initial_state\" to the initial state using [`tf.identity()`](https://www.tensorflow.org/api_docs/python/tf/identity)\n",
    "\n",
    "Return the cell and initial state in the following tuple `(Cell, InitialState)`"
   ]
  },
  {
   "cell_type": "code",
   "execution_count": 10,
   "metadata": {
    "collapsed": false,
    "deletable": true,
    "editable": true
   },
   "outputs": [
    {
     "name": "stdout",
     "output_type": "stream",
     "text": [
      "Tests Passed\n"
     ]
    }
   ],
   "source": [
    "def get_init_cell(batch_size, rnn_size):\n",
    "    \"\"\"\n",
    "    Create an RNN Cell and initialize it.\n",
    "    :param batch_size: Size of batches\n",
    "    :param rnn_size: Size of RNNs\n",
    "    :return: Tuple (cell, initialize state)\n",
    "    \"\"\"\n",
    "    num_of_layers = 2\n",
    "    cell = tf.contrib.rnn.BasicLSTMCell(rnn_size)\n",
    "    cell = tf.contrib.rnn.MultiRNNCell([cell]*num_of_layers)\n",
    "    # Initial state of the LSTM memory.\n",
    "    # initial_state = state = stacked_lstm.zero_state(batch_size, tf.float32)\n",
    "    X = cell.zero_state(batch_size, tf.float32)\n",
    "    init_state=tf.identity(X, name='initial_state')\n",
    "    # TODO: Implement Function\n",
    "    return (cell, init_state)\n",
    "\n",
    "\n",
    "\"\"\"\n",
    "DON'T MODIFY ANYTHING IN THIS CELL THAT IS BELOW THIS LINE\n",
    "\"\"\"\n",
    "tests.test_get_init_cell(get_init_cell)"
   ]
  },
  {
   "cell_type": "markdown",
   "metadata": {
    "deletable": true,
    "editable": true
   },
   "source": [
    "### Word Embedding\n",
    "Apply embedding to `input_data` using TensorFlow.  Return the embedded sequence."
   ]
  },
  {
   "cell_type": "code",
   "execution_count": 11,
   "metadata": {
    "collapsed": false,
    "deletable": true,
    "editable": true
   },
   "outputs": [
    {
     "name": "stdout",
     "output_type": "stream",
     "text": [
      "Tests Passed\n"
     ]
    }
   ],
   "source": [
    "def get_embed(input_data, vocab_size, embed_dim):\n",
    "    \"\"\"\n",
    "    Create embedding for <input_data>.\n",
    "    :param input_data: TF placeholder for text input.\n",
    "    :param vocab_size: Number of words in vocabulary.\n",
    "    :param embed_dim: Number of embedding dimensions\n",
    "    :return: Embedded input.\n",
    "    \"\"\"\n",
    "    # TODO: Implement \n",
    "    #n_embedding = 200 # Number of embedding features\n",
    "    embedding = tf.Variable(tf.random_uniform((vocab_size, embed_dim)))\n",
    "    embed = tf.nn.embedding_lookup(embedding, input_data)\n",
    "    #word_embeddings = tf.get_variable(input_data,[vocab_size, embed_dim])\n",
    "    #embedded_word_ids = tf.gather(word_embeddings, word_ids)\n",
    "    return embed\n",
    "\n",
    "\n",
    "\"\"\"\n",
    "DON'T MODIFY ANYTHING IN THIS CELL THAT IS BELOW THIS LINE\n",
    "\"\"\"\n",
    "tests.test_get_embed(get_embed)"
   ]
  },
  {
   "cell_type": "markdown",
   "metadata": {
    "deletable": true,
    "editable": true
   },
   "source": [
    "### Build RNN\n",
    "You created a RNN Cell in the `get_init_cell()` function.  Time to use the cell to create a RNN.\n",
    "- Build the RNN using the [`tf.nn.dynamic_rnn()`](https://www.tensorflow.org/api_docs/python/tf/nn/dynamic_rnn)\n",
    " - Apply the name \"final_state\" to the final state using [`tf.identity()`](https://www.tensorflow.org/api_docs/python/tf/identity)\n",
    "\n",
    "Return the outputs and final_state state in the following tuple `(Outputs, FinalState)` "
   ]
  },
  {
   "cell_type": "code",
   "execution_count": 12,
   "metadata": {
    "collapsed": false,
    "deletable": true,
    "editable": true
   },
   "outputs": [
    {
     "name": "stdout",
     "output_type": "stream",
     "text": [
      "Tests Passed\n"
     ]
    }
   ],
   "source": [
    "def build_rnn(cell, inputs):\n",
    "    \"\"\"\n",
    "    Create a RNN using a RNN Cell\n",
    "    :param cell: RNN Cell\n",
    "    :param inputs: Input text data\n",
    "    :return: Tuple (Outputs, Final State)\n",
    "    \"\"\"\n",
    "    # TODO: Implement Function\n",
    "    n_vocab = len(int_to_vocab)\n",
    "    outputs, final_state = tf.nn.dynamic_rnn(cell, inputs, dtype=tf.float32)\n",
    "    final_state = tf.identity(final_state, name=\"final_state\")\n",
    "    return (outputs, final_state)\n",
    "\n",
    "\n",
    "\"\"\"\n",
    "DON'T MODIFY ANYTHING IN THIS CELL THAT IS BELOW THIS LINE\n",
    "\"\"\"\n",
    "tests.test_build_rnn(build_rnn)"
   ]
  },
  {
   "cell_type": "markdown",
   "metadata": {
    "deletable": true,
    "editable": true
   },
   "source": [
    "### Build the Neural Network\n",
    "Apply the functions you implemented above to:\n",
    "- Apply embedding to `input_data` using your `get_embed(input_data, vocab_size, embed_dim)` function.\n",
    "- Build RNN using `cell` and your `build_rnn(cell, inputs)` function.\n",
    "- Apply a fully connected layer with a linear activation and `vocab_size` as the number of outputs.\n",
    "\n",
    "Return the logits and final state in the following tuple (Logits, FinalState) "
   ]
  },
  {
   "cell_type": "code",
   "execution_count": 13,
   "metadata": {
    "collapsed": false,
    "deletable": true,
    "editable": true
   },
   "outputs": [
    {
     "name": "stdout",
     "output_type": "stream",
     "text": [
      "Tests Passed\n"
     ]
    }
   ],
   "source": [
    "def build_nn(cell, rnn_size, input_data, vocab_size, embed_dim):\n",
    "    \"\"\"\n",
    "    Build part of the neural network\n",
    "    :param cell: RNN cell\n",
    "    :param rnn_size: Size of rnns\n",
    "    :param input_data: Input data\n",
    "    :param vocab_size: Vocabulary size\n",
    "    :param embed_dim: Number of embedding dimensions\n",
    "    :return: Tuple (Logits, FinalState)\n",
    "    \"\"\"\n",
    "    # TODO: Implement Function\n",
    "    input_data = get_embed(input_data, vocab_size, embed_dim)\n",
    "    outputs,FinalState = build_rnn(cell, input_data)\n",
    "    Logits = tf.contrib.layers.fully_connected(outputs, vocab_size,activation_fn=None)\n",
    "    return (Logits, FinalState)\n",
    "\n",
    "\n",
    "\"\"\"\n",
    "DON'T MODIFY ANYTHING IN THIS CELL THAT IS BELOW THIS LINE\n",
    "\"\"\"\n",
    "tests.test_build_nn(build_nn)"
   ]
  },
  {
   "cell_type": "markdown",
   "metadata": {
    "deletable": true,
    "editable": true
   },
   "source": [
    "### Batches\n",
    "Implement `get_batches` to create batches of input and targets using `int_text`.  The batches should be a Numpy array with the shape `(number of batches, 2, batch size, sequence length)`. Each batch contains two elements:\n",
    "- The first element is a single batch of **input** with the shape `[batch size, sequence length]`\n",
    "- The second element is a single batch of **targets** with the shape `[batch size, sequence length]`\n",
    "\n",
    "If you can't fill the last batch with enough data, drop the last batch.\n",
    "\n",
    "For exmple, `get_batches([1, 2, 3, 4, 5, 6, 7, 8, 9, 10, 11, 12, 13, 14, 15, 16, 17, 18, 19, 20], 3, 2)` would return a Numpy array of the following:\n",
    "```\n",
    "[\n",
    "  # First Batch\n",
    "  [\n",
    "    # Batch of Input\n",
    "    [[ 1  2], [ 7  8], [13 14]]\n",
    "    # Batch of targets\n",
    "    [[ 2  3], [ 8  9], [14 15]]\n",
    "  ]\n",
    "\n",
    "  # Second Batch\n",
    "  [\n",
    "    # Batch of Input\n",
    "    [[ 3  4], [ 9 10], [15 16]]\n",
    "    # Batch of targets\n",
    "    [[ 4  5], [10 11], [16 17]]\n",
    "  ]\n",
    "\n",
    "  # Third Batch\n",
    "  [\n",
    "    # Batch of Input\n",
    "    [[ 5  6], [11 12], [17 18]]\n",
    "    # Batch of targets\n",
    "    [[ 6  7], [12 13], [18  1]]\n",
    "  ]\n",
    "]\n",
    "```\n",
    "\n",
    "Notice that the last target value in the last batch is the first input value of the first batch. In this case, `1`. This is a common technique used when creating sequence batches, although it is rather unintuitive."
   ]
  },
  {
   "cell_type": "code",
   "execution_count": 14,
   "metadata": {
    "collapsed": false,
    "deletable": true,
    "editable": true
   },
   "outputs": [
    {
     "name": "stdout",
     "output_type": "stream",
     "text": [
      "Tests Passed\n"
     ]
    }
   ],
   "source": [
    "def get_batches(int_text, batch_size, seq_length):\n",
    "    \"\"\"\n",
    "    Return batches of input and target\n",
    "    :param int_text: Text with the words replaced by their ids\n",
    "    :param batch_size: The size of batch\n",
    "    :param seq_length: The length of sequence\n",
    "    :return: Batches as a Numpy array\n",
    "    \"\"\"\n",
    "    # TODO: Implement Function\n",
    "    n_batches = len(int_text)//(batch_size*seq_length)\n",
    "    inputs = np.array(int_text[:n_batches*(batch_size*seq_length)])\n",
    "    targets = np.array(int_text[1:n_batches*(batch_size*seq_length)+1])\n",
    "    targets[-1]=inputs[0]\n",
    "    input_batches = np.split(inputs.reshape(batch_size, -1), n_batches, 1)\n",
    "    target_batches = np.split(targets.reshape(batch_size, -1), n_batches, 1)\n",
    "    output = np.array(list(zip(input_batches, target_batches)))\n",
    "    return output\n",
    "\n",
    "\n",
    "\"\"\"\n",
    "DON'T MODIFY ANYTHING IN THIS CELL THAT IS BELOW THIS LINE\n",
    "\"\"\"\n",
    "tests.test_get_batches(get_batches)"
   ]
  },
  {
   "cell_type": "markdown",
   "metadata": {
    "deletable": true,
    "editable": true
   },
   "source": [
    "## Neural Network Training\n",
    "### Hyperparameters\n",
    "Tune the following parameters:\n",
    "\n",
    "- Set `num_epochs` to the number of epochs.\n",
    "- Set `batch_size` to the batch size.\n",
    "- Set `rnn_size` to the size of the RNNs.\n",
    "- Set `embed_dim` to the size of the embedding.\n",
    "- Set `seq_length` to the length of sequence.\n",
    "- Set `learning_rate` to the learning rate.\n",
    "- Set `show_every_n_batches` to the number of batches the neural network should print progress."
   ]
  },
  {
   "cell_type": "code",
   "execution_count": 15,
   "metadata": {
    "collapsed": true,
    "deletable": true,
    "editable": true
   },
   "outputs": [],
   "source": [
    "# Number of Epochs\n",
    "num_epochs = 1 #20\n",
    "# Batch Size\n",
    "batch_size = 10 #100\n",
    "# RNN Size\n",
    "rnn_size = 5 #512\n",
    "# Embedding Dimension Size\n",
    "embed_dim = 5 #None\n",
    "# Sequence Length\n",
    "seq_length = 5 #None\n",
    "# Learning Rate\n",
    "learning_rate = .01 #0.001\n",
    "# Show stats for every n number of batches\n",
    "show_every_n_batches = 4\n",
    "\n",
    "\"\"\"\n",
    "DON'T MODIFY ANYTHING IN THIS CELL THAT IS BELOW THIS LINE\n",
    "\"\"\"\n",
    "save_dir = './save'"
   ]
  },
  {
   "cell_type": "markdown",
   "metadata": {
    "deletable": true,
    "editable": true
   },
   "source": [
    "### Build the Graph\n",
    "Build the graph using the neural network you implemented."
   ]
  },
  {
   "cell_type": "code",
   "execution_count": 16,
   "metadata": {
    "collapsed": false,
    "deletable": true,
    "editable": true
   },
   "outputs": [],
   "source": [
    "\"\"\"\n",
    "DON'T MODIFY ANYTHING IN THIS CELL\n",
    "\"\"\"\n",
    "from tensorflow.contrib import seq2seq\n",
    "\n",
    "train_graph = tf.Graph()\n",
    "with train_graph.as_default():\n",
    "    vocab_size = len(int_to_vocab)\n",
    "    input_text, targets, lr = get_inputs()\n",
    "    input_data_shape = tf.shape(input_text)\n",
    "    cell, initial_state = get_init_cell(input_data_shape[0], rnn_size)\n",
    "    logits, final_state = build_nn(cell, rnn_size, input_text, vocab_size, embed_dim)\n",
    "\n",
    "    # Probabilities for generating words\n",
    "    probs = tf.nn.softmax(logits, name='probs')\n",
    "\n",
    "    # Loss function\n",
    "    cost = seq2seq.sequence_loss(\n",
    "        logits,\n",
    "        targets,\n",
    "        tf.ones([input_data_shape[0], input_data_shape[1]]))\n",
    "\n",
    "    # Optimizer\n",
    "    optimizer = tf.train.AdamOptimizer(lr)\n",
    "\n",
    "    # Gradient Clipping\n",
    "    gradients = optimizer.compute_gradients(cost)\n",
    "    capped_gradients = [(tf.clip_by_value(grad, -1., 1.), var) for grad, var in gradients if grad is not None]\n",
    "    train_op = optimizer.apply_gradients(capped_gradients)"
   ]
  },
  {
   "cell_type": "markdown",
   "metadata": {
    "deletable": true,
    "editable": true
   },
   "source": [
    "## Train\n",
    "Train the neural network on the preprocessed data.  If you have a hard time getting a good loss, check the [forums](https://discussions.udacity.com/) to see if anyone is having the same problem."
   ]
  },
  {
   "cell_type": "code",
   "execution_count": 17,
   "metadata": {
    "collapsed": false,
    "deletable": true,
    "editable": true
   },
   "outputs": [
    {
     "name": "stdout",
     "output_type": "stream",
     "text": [
      "Epoch   0 Batch    0/1462   train_loss = 8.808\n",
      "Epoch   0 Batch    4/1462   train_loss = 8.759\n",
      "Epoch   0 Batch    8/1462   train_loss = 8.688\n",
      "Epoch   0 Batch   12/1462   train_loss = 8.509\n",
      "Epoch   0 Batch   16/1462   train_loss = 8.415\n",
      "Epoch   0 Batch   20/1462   train_loss = 8.140\n",
      "Epoch   0 Batch   24/1462   train_loss = 7.772\n",
      "Epoch   0 Batch   28/1462   train_loss = 7.398\n",
      "Epoch   0 Batch   32/1462   train_loss = 7.228\n",
      "Epoch   0 Batch   36/1462   train_loss = 6.911\n",
      "Epoch   0 Batch   40/1462   train_loss = 7.154\n",
      "Epoch   0 Batch   44/1462   train_loss = 6.808\n",
      "Epoch   0 Batch   48/1462   train_loss = 6.681\n",
      "Epoch   0 Batch   52/1462   train_loss = 6.364\n",
      "Epoch   0 Batch   56/1462   train_loss = 6.145\n",
      "Epoch   0 Batch   60/1462   train_loss = 5.925\n",
      "Epoch   0 Batch   64/1462   train_loss = 7.078\n",
      "Epoch   0 Batch   68/1462   train_loss = 6.205\n",
      "Epoch   0 Batch   72/1462   train_loss = 6.200\n",
      "Epoch   0 Batch   76/1462   train_loss = 6.511\n",
      "Epoch   0 Batch   80/1462   train_loss = 6.283\n",
      "Epoch   0 Batch   84/1462   train_loss = 6.613\n",
      "Epoch   0 Batch   88/1462   train_loss = 5.966\n",
      "Epoch   0 Batch   92/1462   train_loss = 6.336\n",
      "Epoch   0 Batch   96/1462   train_loss = 5.541\n",
      "Epoch   0 Batch  100/1462   train_loss = 5.947\n",
      "Epoch   0 Batch  104/1462   train_loss = 5.563\n",
      "Epoch   0 Batch  108/1462   train_loss = 6.289\n",
      "Epoch   0 Batch  112/1462   train_loss = 5.582\n",
      "Epoch   0 Batch  116/1462   train_loss = 6.200\n",
      "Epoch   0 Batch  120/1462   train_loss = 6.108\n",
      "Epoch   0 Batch  124/1462   train_loss = 6.058\n",
      "Epoch   0 Batch  128/1462   train_loss = 6.157\n",
      "Epoch   0 Batch  132/1462   train_loss = 6.375\n",
      "Epoch   0 Batch  136/1462   train_loss = 5.467\n",
      "Epoch   0 Batch  140/1462   train_loss = 6.022\n",
      "Epoch   0 Batch  144/1462   train_loss = 6.025\n",
      "Epoch   0 Batch  148/1462   train_loss = 5.566\n",
      "Epoch   0 Batch  152/1462   train_loss = 5.802\n",
      "Epoch   0 Batch  156/1462   train_loss = 6.050\n",
      "Epoch   0 Batch  160/1462   train_loss = 6.631\n",
      "Epoch   0 Batch  164/1462   train_loss = 5.913\n",
      "Epoch   0 Batch  168/1462   train_loss = 6.014\n",
      "Epoch   0 Batch  172/1462   train_loss = 5.382\n",
      "Epoch   0 Batch  176/1462   train_loss = 5.867\n",
      "Epoch   0 Batch  180/1462   train_loss = 5.677\n",
      "Epoch   0 Batch  184/1462   train_loss = 6.527\n",
      "Epoch   0 Batch  188/1462   train_loss = 5.709\n",
      "Epoch   0 Batch  192/1462   train_loss = 5.569\n",
      "Epoch   0 Batch  196/1462   train_loss = 6.254\n",
      "Epoch   0 Batch  200/1462   train_loss = 6.057\n",
      "Epoch   0 Batch  204/1462   train_loss = 6.080\n",
      "Epoch   0 Batch  208/1462   train_loss = 5.815\n",
      "Epoch   0 Batch  212/1462   train_loss = 6.528\n",
      "Epoch   0 Batch  216/1462   train_loss = 6.440\n",
      "Epoch   0 Batch  220/1462   train_loss = 5.662\n",
      "Epoch   0 Batch  224/1462   train_loss = 5.792\n",
      "Epoch   0 Batch  228/1462   train_loss = 5.695\n",
      "Epoch   0 Batch  232/1462   train_loss = 6.500\n",
      "Epoch   0 Batch  236/1462   train_loss = 6.755\n",
      "Epoch   0 Batch  240/1462   train_loss = 5.978\n",
      "Epoch   0 Batch  244/1462   train_loss = 6.114\n",
      "Epoch   0 Batch  248/1462   train_loss = 5.657\n",
      "Epoch   0 Batch  252/1462   train_loss = 6.194\n",
      "Epoch   0 Batch  256/1462   train_loss = 6.523\n",
      "Epoch   0 Batch  260/1462   train_loss = 6.163\n",
      "Epoch   0 Batch  264/1462   train_loss = 6.242\n",
      "Epoch   0 Batch  268/1462   train_loss = 6.375\n",
      "Epoch   0 Batch  272/1462   train_loss = 6.283\n",
      "Epoch   0 Batch  276/1462   train_loss = 5.969\n",
      "Epoch   0 Batch  280/1462   train_loss = 6.148\n",
      "Epoch   0 Batch  284/1462   train_loss = 5.861\n",
      "Epoch   0 Batch  288/1462   train_loss = 5.744\n",
      "Epoch   0 Batch  292/1462   train_loss = 6.494\n",
      "Epoch   0 Batch  296/1462   train_loss = 6.206\n",
      "Epoch   0 Batch  300/1462   train_loss = 5.685\n",
      "Epoch   0 Batch  304/1462   train_loss = 6.181\n",
      "Epoch   0 Batch  308/1462   train_loss = 5.515\n",
      "Epoch   0 Batch  312/1462   train_loss = 5.337\n",
      "Epoch   0 Batch  316/1462   train_loss = 5.634\n",
      "Epoch   0 Batch  320/1462   train_loss = 5.857\n",
      "Epoch   0 Batch  324/1462   train_loss = 5.352\n",
      "Epoch   0 Batch  328/1462   train_loss = 5.921\n",
      "Epoch   0 Batch  332/1462   train_loss = 6.609\n",
      "Epoch   0 Batch  336/1462   train_loss = 5.357\n",
      "Epoch   0 Batch  340/1462   train_loss = 5.883\n",
      "Epoch   0 Batch  344/1462   train_loss = 5.802\n",
      "Epoch   0 Batch  348/1462   train_loss = 5.273\n",
      "Epoch   0 Batch  352/1462   train_loss = 5.189\n",
      "Epoch   0 Batch  356/1462   train_loss = 6.398\n",
      "Epoch   0 Batch  360/1462   train_loss = 5.838\n",
      "Epoch   0 Batch  364/1462   train_loss = 5.197\n",
      "Epoch   0 Batch  368/1462   train_loss = 5.342\n",
      "Epoch   0 Batch  372/1462   train_loss = 5.044\n",
      "Epoch   0 Batch  376/1462   train_loss = 6.245\n",
      "Epoch   0 Batch  380/1462   train_loss = 6.170\n",
      "Epoch   0 Batch  384/1462   train_loss = 5.354\n",
      "Epoch   0 Batch  388/1462   train_loss = 7.138\n",
      "Epoch   0 Batch  392/1462   train_loss = 5.778\n",
      "Epoch   0 Batch  396/1462   train_loss = 5.902\n",
      "Epoch   0 Batch  400/1462   train_loss = 5.845\n",
      "Epoch   0 Batch  404/1462   train_loss = 5.423\n",
      "Epoch   0 Batch  408/1462   train_loss = 5.428\n",
      "Epoch   0 Batch  412/1462   train_loss = 4.923\n",
      "Epoch   0 Batch  416/1462   train_loss = 5.232\n",
      "Epoch   0 Batch  420/1462   train_loss = 6.023\n",
      "Epoch   0 Batch  424/1462   train_loss = 5.181\n",
      "Epoch   0 Batch  428/1462   train_loss = 6.674\n",
      "Epoch   0 Batch  432/1462   train_loss = 5.778\n",
      "Epoch   0 Batch  436/1462   train_loss = 5.348\n",
      "Epoch   0 Batch  440/1462   train_loss = 5.495\n",
      "Epoch   0 Batch  444/1462   train_loss = 6.000\n",
      "Epoch   0 Batch  448/1462   train_loss = 6.165\n",
      "Epoch   0 Batch  452/1462   train_loss = 5.544\n",
      "Epoch   0 Batch  456/1462   train_loss = 5.595\n",
      "Epoch   0 Batch  460/1462   train_loss = 5.475\n",
      "Epoch   0 Batch  464/1462   train_loss = 5.222\n",
      "Epoch   0 Batch  468/1462   train_loss = 5.948\n",
      "Epoch   0 Batch  472/1462   train_loss = 6.343\n",
      "Epoch   0 Batch  476/1462   train_loss = 6.249\n",
      "Epoch   0 Batch  480/1462   train_loss = 6.012\n",
      "Epoch   0 Batch  484/1462   train_loss = 6.620\n",
      "Epoch   0 Batch  488/1462   train_loss = 6.320\n",
      "Epoch   0 Batch  492/1462   train_loss = 5.174\n",
      "Epoch   0 Batch  496/1462   train_loss = 5.909\n",
      "Epoch   0 Batch  500/1462   train_loss = 5.897\n",
      "Epoch   0 Batch  504/1462   train_loss = 4.582\n",
      "Epoch   0 Batch  508/1462   train_loss = 6.067\n",
      "Epoch   0 Batch  512/1462   train_loss = 5.253\n",
      "Epoch   0 Batch  516/1462   train_loss = 6.508\n",
      "Epoch   0 Batch  520/1462   train_loss = 6.323\n",
      "Epoch   0 Batch  524/1462   train_loss = 5.585\n",
      "Epoch   0 Batch  528/1462   train_loss = 6.017\n",
      "Epoch   0 Batch  532/1462   train_loss = 5.730\n",
      "Epoch   0 Batch  536/1462   train_loss = 6.516\n",
      "Epoch   0 Batch  540/1462   train_loss = 6.693\n",
      "Epoch   0 Batch  544/1462   train_loss = 5.389\n",
      "Epoch   0 Batch  548/1462   train_loss = 5.989\n",
      "Epoch   0 Batch  552/1462   train_loss = 5.927\n",
      "Epoch   0 Batch  556/1462   train_loss = 6.267\n",
      "Epoch   0 Batch  560/1462   train_loss = 4.894\n",
      "Epoch   0 Batch  564/1462   train_loss = 6.435\n",
      "Epoch   0 Batch  568/1462   train_loss = 5.687\n",
      "Epoch   0 Batch  572/1462   train_loss = 5.803\n",
      "Epoch   0 Batch  576/1462   train_loss = 6.191\n",
      "Epoch   0 Batch  580/1462   train_loss = 5.892\n",
      "Epoch   0 Batch  584/1462   train_loss = 6.355\n",
      "Epoch   0 Batch  588/1462   train_loss = 5.859\n",
      "Epoch   0 Batch  592/1462   train_loss = 5.779\n",
      "Epoch   0 Batch  596/1462   train_loss = 6.255\n",
      "Epoch   0 Batch  600/1462   train_loss = 6.400\n",
      "Epoch   0 Batch  604/1462   train_loss = 5.828\n",
      "Epoch   0 Batch  608/1462   train_loss = 5.804\n",
      "Epoch   0 Batch  612/1462   train_loss = 5.963\n",
      "Epoch   0 Batch  616/1462   train_loss = 6.466\n",
      "Epoch   0 Batch  620/1462   train_loss = 5.718\n",
      "Epoch   0 Batch  624/1462   train_loss = 5.395\n",
      "Epoch   0 Batch  628/1462   train_loss = 5.422\n",
      "Epoch   0 Batch  632/1462   train_loss = 5.162\n",
      "Epoch   0 Batch  636/1462   train_loss = 5.889\n",
      "Epoch   0 Batch  640/1462   train_loss = 6.026\n",
      "Epoch   0 Batch  644/1462   train_loss = 5.613\n",
      "Epoch   0 Batch  648/1462   train_loss = 5.744\n",
      "Epoch   0 Batch  652/1462   train_loss = 6.108\n",
      "Epoch   0 Batch  656/1462   train_loss = 5.797\n",
      "Epoch   0 Batch  660/1462   train_loss = 6.594\n",
      "Epoch   0 Batch  664/1462   train_loss = 5.904\n",
      "Epoch   0 Batch  668/1462   train_loss = 5.906\n",
      "Epoch   0 Batch  672/1462   train_loss = 6.030\n",
      "Epoch   0 Batch  676/1462   train_loss = 6.015\n",
      "Epoch   0 Batch  680/1462   train_loss = 5.869\n",
      "Epoch   0 Batch  684/1462   train_loss = 5.414\n",
      "Epoch   0 Batch  688/1462   train_loss = 5.814\n",
      "Epoch   0 Batch  692/1462   train_loss = 5.443\n",
      "Epoch   0 Batch  696/1462   train_loss = 6.922\n",
      "Epoch   0 Batch  700/1462   train_loss = 5.964\n",
      "Epoch   0 Batch  704/1462   train_loss = 6.666\n",
      "Epoch   0 Batch  708/1462   train_loss = 5.940\n",
      "Epoch   0 Batch  712/1462   train_loss = 5.750\n",
      "Epoch   0 Batch  716/1462   train_loss = 5.394\n",
      "Epoch   0 Batch  720/1462   train_loss = 5.583\n",
      "Epoch   0 Batch  724/1462   train_loss = 6.380\n",
      "Epoch   0 Batch  728/1462   train_loss = 6.040\n",
      "Epoch   0 Batch  732/1462   train_loss = 6.488\n",
      "Epoch   0 Batch  736/1462   train_loss = 5.003\n",
      "Epoch   0 Batch  740/1462   train_loss = 5.405\n",
      "Epoch   0 Batch  744/1462   train_loss = 5.513\n",
      "Epoch   0 Batch  748/1462   train_loss = 5.808\n",
      "Epoch   0 Batch  752/1462   train_loss = 6.141\n",
      "Epoch   0 Batch  756/1462   train_loss = 5.966\n",
      "Epoch   0 Batch  760/1462   train_loss = 6.272\n",
      "Epoch   0 Batch  764/1462   train_loss = 5.833\n",
      "Epoch   0 Batch  768/1462   train_loss = 5.245\n",
      "Epoch   0 Batch  772/1462   train_loss = 5.378\n",
      "Epoch   0 Batch  776/1462   train_loss = 6.036\n",
      "Epoch   0 Batch  780/1462   train_loss = 5.621\n",
      "Epoch   0 Batch  784/1462   train_loss = 5.767\n",
      "Epoch   0 Batch  788/1462   train_loss = 5.727\n",
      "Epoch   0 Batch  792/1462   train_loss = 5.436\n",
      "Epoch   0 Batch  796/1462   train_loss = 6.086\n",
      "Epoch   0 Batch  800/1462   train_loss = 6.186\n",
      "Epoch   0 Batch  804/1462   train_loss = 5.587\n",
      "Epoch   0 Batch  808/1462   train_loss = 5.576\n",
      "Epoch   0 Batch  812/1462   train_loss = 5.086\n",
      "Epoch   0 Batch  816/1462   train_loss = 5.854\n",
      "Epoch   0 Batch  820/1462   train_loss = 5.615\n",
      "Epoch   0 Batch  824/1462   train_loss = 6.104\n",
      "Epoch   0 Batch  828/1462   train_loss = 4.341\n",
      "Epoch   0 Batch  832/1462   train_loss = 5.961\n",
      "Epoch   0 Batch  836/1462   train_loss = 5.712\n",
      "Epoch   0 Batch  840/1462   train_loss = 5.972\n",
      "Epoch   0 Batch  844/1462   train_loss = 4.552\n",
      "Epoch   0 Batch  848/1462   train_loss = 5.939\n",
      "Epoch   0 Batch  852/1462   train_loss = 5.978\n",
      "Epoch   0 Batch  856/1462   train_loss = 6.077\n",
      "Epoch   0 Batch  860/1462   train_loss = 5.204\n",
      "Epoch   0 Batch  864/1462   train_loss = 5.430\n",
      "Epoch   0 Batch  868/1462   train_loss = 4.916\n",
      "Epoch   0 Batch  872/1462   train_loss = 6.328\n",
      "Epoch   0 Batch  876/1462   train_loss = 5.987\n",
      "Epoch   0 Batch  880/1462   train_loss = 5.886\n",
      "Epoch   0 Batch  884/1462   train_loss = 6.365\n",
      "Epoch   0 Batch  888/1462   train_loss = 5.551\n",
      "Epoch   0 Batch  892/1462   train_loss = 4.961\n",
      "Epoch   0 Batch  896/1462   train_loss = 5.398\n",
      "Epoch   0 Batch  900/1462   train_loss = 5.728\n",
      "Epoch   0 Batch  904/1462   train_loss = 3.814\n",
      "Epoch   0 Batch  908/1462   train_loss = 5.278\n",
      "Epoch   0 Batch  912/1462   train_loss = 4.715\n",
      "Epoch   0 Batch  916/1462   train_loss = 5.455\n",
      "Epoch   0 Batch  920/1462   train_loss = 6.131\n",
      "Epoch   0 Batch  924/1462   train_loss = 6.102\n",
      "Epoch   0 Batch  928/1462   train_loss = 5.278\n",
      "Epoch   0 Batch  932/1462   train_loss = 5.631\n",
      "Epoch   0 Batch  936/1462   train_loss = 5.676\n",
      "Epoch   0 Batch  940/1462   train_loss = 5.527\n",
      "Epoch   0 Batch  944/1462   train_loss = 5.152\n",
      "Epoch   0 Batch  948/1462   train_loss = 4.739\n",
      "Epoch   0 Batch  952/1462   train_loss = 5.540\n",
      "Epoch   0 Batch  956/1462   train_loss = 5.400\n",
      "Epoch   0 Batch  960/1462   train_loss = 5.839\n",
      "Epoch   0 Batch  964/1462   train_loss = 5.398\n",
      "Epoch   0 Batch  968/1462   train_loss = 4.562\n",
      "Epoch   0 Batch  972/1462   train_loss = 5.659\n",
      "Epoch   0 Batch  976/1462   train_loss = 5.805\n",
      "Epoch   0 Batch  980/1462   train_loss = 5.327\n",
      "Epoch   0 Batch  984/1462   train_loss = 5.253\n",
      "Epoch   0 Batch  988/1462   train_loss = 6.003\n",
      "Epoch   0 Batch  992/1462   train_loss = 5.905\n",
      "Epoch   0 Batch  996/1462   train_loss = 5.277\n",
      "Epoch   0 Batch 1000/1462   train_loss = 6.171\n",
      "Epoch   0 Batch 1004/1462   train_loss = 5.034\n",
      "Epoch   0 Batch 1008/1462   train_loss = 4.923\n",
      "Epoch   0 Batch 1012/1462   train_loss = 5.720\n",
      "Epoch   0 Batch 1016/1462   train_loss = 4.807\n",
      "Epoch   0 Batch 1020/1462   train_loss = 5.737\n",
      "Epoch   0 Batch 1024/1462   train_loss = 5.479\n",
      "Epoch   0 Batch 1028/1462   train_loss = 5.622\n",
      "Epoch   0 Batch 1032/1462   train_loss = 5.518\n",
      "Epoch   0 Batch 1036/1462   train_loss = 4.995\n",
      "Epoch   0 Batch 1040/1462   train_loss = 6.334\n",
      "Epoch   0 Batch 1044/1462   train_loss = 6.234\n",
      "Epoch   0 Batch 1048/1462   train_loss = 6.291\n",
      "Epoch   0 Batch 1052/1462   train_loss = 5.112\n",
      "Epoch   0 Batch 1056/1462   train_loss = 5.602\n",
      "Epoch   0 Batch 1060/1462   train_loss = 5.415\n",
      "Epoch   0 Batch 1064/1462   train_loss = 4.688\n",
      "Epoch   0 Batch 1068/1462   train_loss = 6.572\n",
      "Epoch   0 Batch 1072/1462   train_loss = 5.194\n",
      "Epoch   0 Batch 1076/1462   train_loss = 4.367\n",
      "Epoch   0 Batch 1080/1462   train_loss = 4.685\n",
      "Epoch   0 Batch 1084/1462   train_loss = 5.857\n",
      "Epoch   0 Batch 1088/1462   train_loss = 5.039\n",
      "Epoch   0 Batch 1092/1462   train_loss = 5.550\n",
      "Epoch   0 Batch 1096/1462   train_loss = 5.890\n",
      "Epoch   0 Batch 1100/1462   train_loss = 4.862\n",
      "Epoch   0 Batch 1104/1462   train_loss = 4.958\n",
      "Epoch   0 Batch 1108/1462   train_loss = 5.738\n",
      "Epoch   0 Batch 1112/1462   train_loss = 5.567\n",
      "Epoch   0 Batch 1116/1462   train_loss = 4.916\n",
      "Epoch   0 Batch 1120/1462   train_loss = 5.720\n",
      "Epoch   0 Batch 1124/1462   train_loss = 5.063\n",
      "Epoch   0 Batch 1128/1462   train_loss = 5.107\n",
      "Epoch   0 Batch 1132/1462   train_loss = 4.941\n",
      "Epoch   0 Batch 1136/1462   train_loss = 4.870\n",
      "Epoch   0 Batch 1140/1462   train_loss = 5.452\n",
      "Epoch   0 Batch 1144/1462   train_loss = 5.597\n",
      "Epoch   0 Batch 1148/1462   train_loss = 5.864\n",
      "Epoch   0 Batch 1152/1462   train_loss = 5.744\n",
      "Epoch   0 Batch 1156/1462   train_loss = 5.490\n",
      "Epoch   0 Batch 1160/1462   train_loss = 5.178\n",
      "Epoch   0 Batch 1164/1462   train_loss = 5.641\n",
      "Epoch   0 Batch 1168/1462   train_loss = 4.887\n",
      "Epoch   0 Batch 1172/1462   train_loss = 6.015\n",
      "Epoch   0 Batch 1176/1462   train_loss = 5.357\n",
      "Epoch   0 Batch 1180/1462   train_loss = 6.424\n",
      "Epoch   0 Batch 1184/1462   train_loss = 5.072\n",
      "Epoch   0 Batch 1188/1462   train_loss = 5.358\n",
      "Epoch   0 Batch 1192/1462   train_loss = 5.253\n",
      "Epoch   0 Batch 1196/1462   train_loss = 5.584\n",
      "Epoch   0 Batch 1200/1462   train_loss = 6.704\n",
      "Epoch   0 Batch 1204/1462   train_loss = 4.186\n",
      "Epoch   0 Batch 1208/1462   train_loss = 5.404\n",
      "Epoch   0 Batch 1212/1462   train_loss = 5.452\n",
      "Epoch   0 Batch 1216/1462   train_loss = 4.491\n",
      "Epoch   0 Batch 1220/1462   train_loss = 5.566\n",
      "Epoch   0 Batch 1224/1462   train_loss = 5.269\n",
      "Epoch   0 Batch 1228/1462   train_loss = 5.894\n",
      "Epoch   0 Batch 1232/1462   train_loss = 5.293\n",
      "Epoch   0 Batch 1236/1462   train_loss = 6.303\n",
      "Epoch   0 Batch 1240/1462   train_loss = 4.916\n",
      "Epoch   0 Batch 1244/1462   train_loss = 5.539\n",
      "Epoch   0 Batch 1248/1462   train_loss = 5.072\n",
      "Epoch   0 Batch 1252/1462   train_loss = 5.695\n",
      "Epoch   0 Batch 1256/1462   train_loss = 5.142\n",
      "Epoch   0 Batch 1260/1462   train_loss = 4.928\n",
      "Epoch   0 Batch 1264/1462   train_loss = 4.633\n",
      "Epoch   0 Batch 1268/1462   train_loss = 5.542\n",
      "Epoch   0 Batch 1272/1462   train_loss = 6.326\n",
      "Epoch   0 Batch 1276/1462   train_loss = 5.710\n",
      "Epoch   0 Batch 1280/1462   train_loss = 4.601\n",
      "Epoch   0 Batch 1284/1462   train_loss = 5.752\n",
      "Epoch   0 Batch 1288/1462   train_loss = 5.837\n",
      "Epoch   0 Batch 1292/1462   train_loss = 4.848\n",
      "Epoch   0 Batch 1296/1462   train_loss = 4.707\n",
      "Epoch   0 Batch 1300/1462   train_loss = 4.426\n",
      "Epoch   0 Batch 1304/1462   train_loss = 6.143\n",
      "Epoch   0 Batch 1308/1462   train_loss = 5.852\n",
      "Epoch   0 Batch 1312/1462   train_loss = 5.153\n",
      "Epoch   0 Batch 1316/1462   train_loss = 5.249\n",
      "Epoch   0 Batch 1320/1462   train_loss = 4.554\n",
      "Epoch   0 Batch 1324/1462   train_loss = 5.886\n",
      "Epoch   0 Batch 1328/1462   train_loss = 5.721\n",
      "Epoch   0 Batch 1332/1462   train_loss = 5.948\n",
      "Epoch   0 Batch 1336/1462   train_loss = 6.187\n",
      "Epoch   0 Batch 1340/1462   train_loss = 5.170\n",
      "Epoch   0 Batch 1344/1462   train_loss = 5.002\n",
      "Epoch   0 Batch 1348/1462   train_loss = 5.309\n",
      "Epoch   0 Batch 1352/1462   train_loss = 4.795\n",
      "Epoch   0 Batch 1356/1462   train_loss = 4.982\n",
      "Epoch   0 Batch 1360/1462   train_loss = 5.346\n",
      "Epoch   0 Batch 1364/1462   train_loss = 5.995\n",
      "Epoch   0 Batch 1368/1462   train_loss = 4.857\n",
      "Epoch   0 Batch 1372/1462   train_loss = 5.417\n",
      "Epoch   0 Batch 1376/1462   train_loss = 6.369\n",
      "Epoch   0 Batch 1380/1462   train_loss = 6.361\n",
      "Epoch   0 Batch 1384/1462   train_loss = 4.252\n",
      "Epoch   0 Batch 1388/1462   train_loss = 4.973\n",
      "Epoch   0 Batch 1392/1462   train_loss = 6.004\n",
      "Epoch   0 Batch 1396/1462   train_loss = 5.237\n",
      "Epoch   0 Batch 1400/1462   train_loss = 5.588\n",
      "Epoch   0 Batch 1404/1462   train_loss = 5.364\n",
      "Epoch   0 Batch 1408/1462   train_loss = 4.684\n",
      "Epoch   0 Batch 1412/1462   train_loss = 6.022\n",
      "Epoch   0 Batch 1416/1462   train_loss = 6.156\n",
      "Epoch   0 Batch 1420/1462   train_loss = 5.507\n",
      "Epoch   0 Batch 1424/1462   train_loss = 5.692\n",
      "Epoch   0 Batch 1428/1462   train_loss = 6.098\n",
      "Epoch   0 Batch 1432/1462   train_loss = 6.019\n",
      "Epoch   0 Batch 1436/1462   train_loss = 4.744\n",
      "Epoch   0 Batch 1440/1462   train_loss = 5.091\n",
      "Epoch   0 Batch 1444/1462   train_loss = 6.483\n",
      "Epoch   0 Batch 1448/1462   train_loss = 5.055\n",
      "Epoch   0 Batch 1452/1462   train_loss = 5.711\n",
      "Epoch   0 Batch 1456/1462   train_loss = 4.862\n",
      "Epoch   0 Batch 1460/1462   train_loss = 4.801\n",
      "Model Trained and Saved\n"
     ]
    }
   ],
   "source": [
    "\"\"\"\n",
    "DON'T MODIFY ANYTHING IN THIS CELL\n",
    "\"\"\"\n",
    "batches = get_batches(int_text, batch_size, seq_length)\n",
    "\n",
    "with tf.Session(graph=train_graph) as sess:\n",
    "    sess.run(tf.global_variables_initializer())\n",
    "\n",
    "    for epoch_i in range(num_epochs):\n",
    "        state = sess.run(initial_state, {input_text: batches[0][0]})\n",
    "\n",
    "        for batch_i, (x, y) in enumerate(batches):\n",
    "            feed = {\n",
    "                input_text: x,\n",
    "                targets: y,\n",
    "                initial_state: state,\n",
    "                lr: learning_rate}\n",
    "            train_loss, state, _ = sess.run([cost, final_state, train_op], feed)\n",
    "\n",
    "            # Show every <show_every_n_batches> batches\n",
    "            if (epoch_i * len(batches) + batch_i) % show_every_n_batches == 0:\n",
    "                print('Epoch {:>3} Batch {:>4}/{}   train_loss = {:.3f}'.format(\n",
    "                    epoch_i,\n",
    "                    batch_i,\n",
    "                    len(batches),\n",
    "                    train_loss))\n",
    "\n",
    "    # Save Model\n",
    "    saver = tf.train.Saver()\n",
    "    saver.save(sess, save_dir)\n",
    "    print('Model Trained and Saved')"
   ]
  },
  {
   "cell_type": "markdown",
   "metadata": {
    "deletable": true,
    "editable": true
   },
   "source": [
    "## Save Parameters\n",
    "Save `seq_length` and `save_dir` for generating a new TV script."
   ]
  },
  {
   "cell_type": "code",
   "execution_count": 18,
   "metadata": {
    "collapsed": false,
    "deletable": true,
    "editable": true
   },
   "outputs": [],
   "source": [
    "\"\"\"\n",
    "DON'T MODIFY ANYTHING IN THIS CELL\n",
    "\"\"\"\n",
    "# Save parameters for checkpoint\n",
    "helper.save_params((seq_length, save_dir))"
   ]
  },
  {
   "cell_type": "markdown",
   "metadata": {
    "deletable": true,
    "editable": true
   },
   "source": [
    "# Checkpoint"
   ]
  },
  {
   "cell_type": "code",
   "execution_count": 19,
   "metadata": {
    "collapsed": false,
    "deletable": true,
    "editable": true
   },
   "outputs": [],
   "source": [
    "\"\"\"\n",
    "DON'T MODIFY ANYTHING IN THIS CELL\n",
    "\"\"\"\n",
    "import tensorflow as tf\n",
    "import numpy as np\n",
    "import helper\n",
    "import problem_unittests as tests\n",
    "\n",
    "_, vocab_to_int, int_to_vocab, token_dict = helper.load_preprocess()\n",
    "seq_length, load_dir = helper.load_params()"
   ]
  },
  {
   "cell_type": "markdown",
   "metadata": {
    "deletable": true,
    "editable": true
   },
   "source": [
    "## Implement Generate Functions\n",
    "### Get Tensors\n",
    "Get tensors from `loaded_graph` using the function [`get_tensor_by_name()`](https://www.tensorflow.org/api_docs/python/tf/Graph#get_tensor_by_name).  Get the tensors using the following names:\n",
    "- \"input:0\"\n",
    "- \"initial_state:0\"\n",
    "- \"final_state:0\"\n",
    "- \"probs:0\"\n",
    "\n",
    "Return the tensors in the following tuple `(InputTensor, InitialStateTensor, FinalStateTensor, ProbsTensor)` "
   ]
  },
  {
   "cell_type": "code",
   "execution_count": 20,
   "metadata": {
    "collapsed": false,
    "deletable": true,
    "editable": true
   },
   "outputs": [
    {
     "name": "stdout",
     "output_type": "stream",
     "text": [
      "Tests Passed\n"
     ]
    }
   ],
   "source": [
    "def get_tensors(loaded_graph):\n",
    "    \"\"\"\n",
    "    Get input, initial state, final state, and probabilities tensor from <loaded_graph>\n",
    "    :param loaded_graph: TensorFlow graph loaded from file\n",
    "    :return: Tuple (InputTensor, InitialStateTensor, FinalStateTensor, ProbsTensor)\n",
    "    \"\"\"\n",
    "    # TODO: Implement Function\n",
    "    #with tf.Session(graph=loaded_grap)\n",
    "    #session_graph = sess.run(loaded_graph)\n",
    "    InputTensor = loaded_graph.get_tensor_by_name(\"input:0\")\n",
    "    InitialStateTensor = loaded_graph.get_tensor_by_name(\"initial_state:0\")\n",
    "    finalStateTensor = loaded_graph.get_tensor_by_name(\"final_state:0\")\n",
    "    ProbsTensor = loaded_graph.get_tensor_by_name(\"probs:0\")\n",
    "    return (InputTensor, InitialStateTensor, finalStateTensor, ProbsTensor)\n",
    "\n",
    "\n",
    "\"\"\"\n",
    "DON'T MODIFY ANYTHING IN THIS CELL THAT IS BELOW THIS LINE\n",
    "\"\"\"\n",
    "tests.test_get_tensors(get_tensors)"
   ]
  },
  {
   "cell_type": "markdown",
   "metadata": {
    "deletable": true,
    "editable": true
   },
   "source": [
    "### Choose Word\n",
    "Implement the `pick_word()` function to select the next word using `probabilities`."
   ]
  },
  {
   "cell_type": "code",
   "execution_count": 149,
   "metadata": {
    "collapsed": false,
    "deletable": true,
    "editable": true
   },
   "outputs": [
    {
     "name": "stdout",
     "output_type": "stream",
     "text": [
      "dict_values(['this', 'is', 'a', 'test'])\n",
      "test\n",
      "Tests Passed\n"
     ]
    }
   ],
   "source": [
    "def pick_word(probabilities, int_to_vocab):\n",
    "    \"\"\"\n",
    "    Pick the next word in the generated text\n",
    "    :param probabilities: Probabilites of the next word\n",
    "    :param int_to_vocab: Dictionary of word ids as the keys and words as the values\n",
    "    :return: String of the predicted word\n",
    "    \"\"\"\n",
    "    # TODO: Implement Function\n",
    "    print (int_to_vocab.values())\n",
    "    print (np.random.choice(list(int_to_vocab.values()),1, list(probabilities))[0])\n",
    "    return np.random.choice(list(int_to_vocab.values()),1, list(probabilities))[0]\n",
    "\n",
    "\n",
    "\"\"\"\n",
    "DON'T MODIFY ANYTHING IN THIS CELL THAT IS BELOW THIS LINE\n",
    "\"\"\"\n",
    "tests.test_pick_word(pick_word)"
   ]
  },
  {
   "cell_type": "markdown",
   "metadata": {
    "deletable": true,
    "editable": true
   },
   "source": [
    "## Generate TV Script\n",
    "This will generate the TV script for you.  Set `gen_length` to the length of TV script you want to generate."
   ]
  },
  {
   "cell_type": "code",
   "execution_count": 150,
   "metadata": {
    "collapsed": false,
    "deletable": true,
    "editable": true
   },
   "outputs": [
    {
     "ename": "KeyError",
     "evalue": "'moe_szyslak:'",
     "output_type": "error",
     "traceback": [
      "\u001b[0;31m---------------------------------------------------------------------------\u001b[0m",
      "\u001b[0;31mKeyError\u001b[0m                                  Traceback (most recent call last)",
      "\u001b[0;32m<ipython-input-150-1db8abe06e71>\u001b[0m in \u001b[0;36m<module>\u001b[0;34m()\u001b[0m\n\u001b[1;32m     22\u001b[0m     \u001b[0;32mfor\u001b[0m \u001b[0mn\u001b[0m \u001b[0;32min\u001b[0m \u001b[0mrange\u001b[0m\u001b[0;34m(\u001b[0m\u001b[0mgen_length\u001b[0m\u001b[0;34m)\u001b[0m\u001b[0;34m:\u001b[0m\u001b[0;34m\u001b[0m\u001b[0m\n\u001b[1;32m     23\u001b[0m         \u001b[0;31m# Dynamic Input\u001b[0m\u001b[0;34m\u001b[0m\u001b[0;34m\u001b[0m\u001b[0m\n\u001b[0;32m---> 24\u001b[0;31m         \u001b[0mdyn_input\u001b[0m \u001b[0;34m=\u001b[0m \u001b[0;34m[\u001b[0m\u001b[0;34m[\u001b[0m\u001b[0mvocab_to_int\u001b[0m\u001b[0;34m[\u001b[0m\u001b[0mword\u001b[0m\u001b[0;34m]\u001b[0m \u001b[0;32mfor\u001b[0m \u001b[0mword\u001b[0m \u001b[0;32min\u001b[0m \u001b[0mgen_sentences\u001b[0m\u001b[0;34m[\u001b[0m\u001b[0;34m-\u001b[0m\u001b[0mseq_length\u001b[0m\u001b[0;34m:\u001b[0m\u001b[0;34m]\u001b[0m\u001b[0;34m]\u001b[0m\u001b[0;34m]\u001b[0m\u001b[0;34m\u001b[0m\u001b[0m\n\u001b[0m\u001b[1;32m     25\u001b[0m         \u001b[0mdyn_seq_length\u001b[0m \u001b[0;34m=\u001b[0m \u001b[0mlen\u001b[0m\u001b[0;34m(\u001b[0m\u001b[0mdyn_input\u001b[0m\u001b[0;34m[\u001b[0m\u001b[0;36m0\u001b[0m\u001b[0;34m]\u001b[0m\u001b[0;34m)\u001b[0m\u001b[0;34m\u001b[0m\u001b[0m\n\u001b[1;32m     26\u001b[0m \u001b[0;34m\u001b[0m\u001b[0m\n",
      "\u001b[0;32m<ipython-input-150-1db8abe06e71>\u001b[0m in \u001b[0;36m<listcomp>\u001b[0;34m(.0)\u001b[0m\n\u001b[1;32m     22\u001b[0m     \u001b[0;32mfor\u001b[0m \u001b[0mn\u001b[0m \u001b[0;32min\u001b[0m \u001b[0mrange\u001b[0m\u001b[0;34m(\u001b[0m\u001b[0mgen_length\u001b[0m\u001b[0;34m)\u001b[0m\u001b[0;34m:\u001b[0m\u001b[0;34m\u001b[0m\u001b[0m\n\u001b[1;32m     23\u001b[0m         \u001b[0;31m# Dynamic Input\u001b[0m\u001b[0;34m\u001b[0m\u001b[0;34m\u001b[0m\u001b[0m\n\u001b[0;32m---> 24\u001b[0;31m         \u001b[0mdyn_input\u001b[0m \u001b[0;34m=\u001b[0m \u001b[0;34m[\u001b[0m\u001b[0;34m[\u001b[0m\u001b[0mvocab_to_int\u001b[0m\u001b[0;34m[\u001b[0m\u001b[0mword\u001b[0m\u001b[0;34m]\u001b[0m \u001b[0;32mfor\u001b[0m \u001b[0mword\u001b[0m \u001b[0;32min\u001b[0m \u001b[0mgen_sentences\u001b[0m\u001b[0;34m[\u001b[0m\u001b[0;34m-\u001b[0m\u001b[0mseq_length\u001b[0m\u001b[0;34m:\u001b[0m\u001b[0;34m]\u001b[0m\u001b[0;34m]\u001b[0m\u001b[0;34m]\u001b[0m\u001b[0;34m\u001b[0m\u001b[0m\n\u001b[0m\u001b[1;32m     25\u001b[0m         \u001b[0mdyn_seq_length\u001b[0m \u001b[0;34m=\u001b[0m \u001b[0mlen\u001b[0m\u001b[0;34m(\u001b[0m\u001b[0mdyn_input\u001b[0m\u001b[0;34m[\u001b[0m\u001b[0;36m0\u001b[0m\u001b[0;34m]\u001b[0m\u001b[0;34m)\u001b[0m\u001b[0;34m\u001b[0m\u001b[0m\n\u001b[1;32m     26\u001b[0m \u001b[0;34m\u001b[0m\u001b[0m\n",
      "\u001b[0;31mKeyError\u001b[0m: 'moe_szyslak:'"
     ]
    }
   ],
   "source": [
    "gen_length = 200\n",
    "# homer_simpson, moe_szyslak, or Barney_Gumble\n",
    "prime_word = 'moe_szyslak'\n",
    "\n",
    "\"\"\"\n",
    "DON'T MODIFY ANYTHING IN THIS CELL THAT IS BELOW THIS LINE\n",
    "\"\"\"\n",
    "loaded_graph = tf.Graph()\n",
    "with tf.Session(graph=loaded_graph) as sess:\n",
    "    # Load saved model\n",
    "    loader = tf.train.import_meta_graph(load_dir + '.meta')\n",
    "    loader.restore(sess, load_dir)\n",
    "\n",
    "    # Get Tensors from loaded model\n",
    "    input_text, initial_state, final_state, probs = get_tensors(loaded_graph)\n",
    "\n",
    "    # Sentences generation setup\n",
    "    gen_sentences = [prime_word + ':']\n",
    "    prev_state = sess.run(initial_state, {input_text: np.array([[1]])})\n",
    "\n",
    "    # Generate sentences\n",
    "    for n in range(gen_length):\n",
    "        # Dynamic Input\n",
    "        dyn_input = [[vocab_to_int[word] for word in gen_sentences[-seq_length:]]]\n",
    "        dyn_seq_length = len(dyn_input[0])\n",
    "\n",
    "        # Get Prediction\n",
    "        probabilities, prev_state = sess.run(\n",
    "            [probs, final_state],\n",
    "            {input_text: dyn_input, initial_state: prev_state})\n",
    "        \n",
    "        pred_word = pick_word(probabilities[dyn_seq_length-1], int_to_vocab)\n",
    "\n",
    "        gen_sentences.append(pred_word)\n",
    "    \n",
    "    # Remove tokens\n",
    "    tv_script = ' '.join(gen_sentences)\n",
    "    for key, token in token_dict.items():\n",
    "        ending = ' ' if key in ['\\n', '(', '\"'] else ''\n",
    "        tv_script = tv_script.replace(' ' + token.lower(), key)\n",
    "    tv_script = tv_script.replace('\\n ', '\\n')\n",
    "    tv_script = tv_script.replace('( ', '(')\n",
    "        \n",
    "    print(tv_script)"
   ]
  },
  {
   "cell_type": "markdown",
   "metadata": {
    "deletable": true,
    "editable": true
   },
   "source": [
    "# The TV Script is Nonsensical\n",
    "It's ok if the TV script doesn't make any sense.  We trained on less than a megabyte of text.  In order to get good results, you'll have to use a smaller vocabulary or get more data.  Luckly there's more data!  As we mentioned in the begging of this project, this is a subset of [another dataset](https://www.kaggle.com/wcukierski/the-simpsons-by-the-data).  We didn't have you train on all the data, because that would take too long.  However, you are free to train your neural network on all the data.  After you complete the project, of course.\n",
    "# Submitting This Project\n",
    "When submitting this project, make sure to run all the cells before saving the notebook. Save the notebook file as \"dlnd_tv_script_generation.ipynb\" and save it as a HTML file under \"File\" -> \"Download as\". Include the \"helper.py\" and \"problem_unittests.py\" files in your submission."
   ]
  }
 ],
 "metadata": {
  "kernelspec": {
   "display_name": "Python 3",
   "language": "python",
   "name": "python3"
  },
  "language_info": {
   "codemirror_mode": {
    "name": "ipython",
    "version": 3
   },
   "file_extension": ".py",
   "mimetype": "text/x-python",
   "name": "python",
   "nbconvert_exporter": "python",
   "pygments_lexer": "ipython3",
   "version": "3.5.2"
  },
  "widgets": {
   "state": {},
   "version": "1.1.2"
  }
 },
 "nbformat": 4,
 "nbformat_minor": 0
}
